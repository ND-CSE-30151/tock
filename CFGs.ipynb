{
 "cells": [
  {
   "cell_type": "code",
   "execution_count": 1,
   "metadata": {
    "collapsed": true
   },
   "outputs": [],
   "source": [
    "from tock import *"
   ]
  },
  {
   "cell_type": "markdown",
   "metadata": {},
   "source": [
    "# Context-free grammars\n",
    "\n",
    "To use a CFG, use the `convert_grammar` function, which converts a CFG into a PDA:"
   ]
  },
  {
   "cell_type": "code",
   "execution_count": 2,
   "metadata": {
    "collapsed": false
   },
   "outputs": [],
   "source": [
    "m = convert_grammar([\"S -> a T b\",\n",
    "                     \"S -> b\",\n",
    "                     \"T -> T a\",\n",
    "                     \"T -> &\"])"
   ]
  },
  {
   "cell_type": "code",
   "execution_count": 3,
   "metadata": {
    "collapsed": false
   },
   "outputs": [
    {
     "data": {
      "image/svg+xml": [
       "<svg height=\"183pt\" viewBox=\"0.00 0.00 554.00 183.00\" width=\"554pt\" xmlns=\"http://www.w3.org/2000/svg\" xmlns:xlink=\"http://www.w3.org/1999/xlink\">\n",
       "<g class=\"graph\" id=\"graph0\" transform=\"scale(1 1) rotate(0) translate(4 179)\">\n",
       "<title>%3</title>\n",
       "<polygon fill=\"white\" points=\"-4,4 -4,-179 550,-179 550,4 -4,4\" stroke=\"none\"/>\n",
       "<!-- START -->\n",
       "<g class=\"node\" id=\"node1\"><title>START</title>\n",
       "</g>\n",
       "<!-- 6 -->\n",
       "<g class=\"node\" id=\"node8\"><title>6</title>\n",
       "<path d=\"M71.3333,-99C71.3333,-99 43.6667,-99 43.6667,-99 40.8333,-99 38,-96.1667 38,-93.3333 38,-93.3333 38,-87.6667 38,-87.6667 38,-84.8333 40.8333,-82 43.6667,-82 43.6667,-82 71.3333,-82 71.3333,-82 74.1667,-82 77,-84.8333 77,-87.6667 77,-87.6667 77,-93.3333 77,-93.3333 77,-96.1667 74.1667,-99 71.3333,-99\" fill=\"none\" stroke=\"black\"/>\n",
       "<text font-family=\"Courier,monospace\" font-size=\"10.00\" text-anchor=\"middle\" x=\"57.5\" y=\"-88\">start</text>\n",
       "</g>\n",
       "<!-- START&#45;&gt;6 -->\n",
       "<g class=\"edge\" id=\"edge1\"><title>START-&gt;6</title>\n",
       "<path d=\"M1.15921,-90.5C2.89199,-90.5 18.4598,-90.5 32.6433,-90.5\" fill=\"none\" stroke=\"black\"/>\n",
       "<polygon fill=\"black\" points=\"37.7779,-90.5 32.778,-92.7501 35.2779,-90.5 32.7779,-90.5001 32.7779,-90.5001 32.7779,-90.5001 35.2779,-90.5 32.7779,-88.2501 37.7779,-90.5 37.7779,-90.5\" stroke=\"black\"/>\n",
       "</g>\n",
       "<!-- 0 -->\n",
       "<g class=\"node\" id=\"node2\"><title>0</title>\n",
       "<path d=\"M173.333,-99C173.333,-99 157.667,-99 157.667,-99 154.833,-99 152,-96.1667 152,-93.3333 152,-93.3333 152,-87.6667 152,-87.6667 152,-84.8333 154.833,-82 157.667,-82 157.667,-82 173.333,-82 173.333,-82 176.167,-82 179,-84.8333 179,-87.6667 179,-87.6667 179,-93.3333 179,-93.3333 179,-96.1667 176.167,-99 173.333,-99\" fill=\"none\" stroke=\"black\"/>\n",
       "<text font-family=\"Courier,monospace\" font-size=\"10.00\" text-anchor=\"middle\" x=\"165.5\" y=\"-88\">0.1</text>\n",
       "</g>\n",
       "<!-- 5 -->\n",
       "<g class=\"node\" id=\"node7\"><title>5</title>\n",
       "<path d=\"M293.833,-99C293.833,-99 272.167,-99 272.167,-99 269.333,-99 266.5,-96.1667 266.5,-93.3333 266.5,-93.3333 266.5,-87.6667 266.5,-87.6667 266.5,-84.8333 269.333,-82 272.167,-82 272.167,-82 293.833,-82 293.833,-82 296.667,-82 299.5,-84.8333 299.5,-87.6667 299.5,-87.6667 299.5,-93.3333 299.5,-93.3333 299.5,-96.1667 296.667,-99 293.833,-99\" fill=\"none\" stroke=\"black\"/>\n",
       "<text font-family=\"Courier,monospace\" font-size=\"10.00\" text-anchor=\"middle\" x=\"283\" y=\"-88\">loop</text>\n",
       "</g>\n",
       "<!-- 0&#45;&gt;5 -->\n",
       "<g class=\"edge\" id=\"edge7\"><title>0-&gt;5</title>\n",
       "<path d=\"M179.302,-90.5C199.069,-90.5 237.222,-90.5 261.049,-90.5\" fill=\"none\" stroke=\"black\"/>\n",
       "<polygon fill=\"black\" points=\"266.196,-90.5 261.196,-92.7501 263.696,-90.5 261.196,-90.5001 261.196,-90.5001 261.196,-90.5001 263.696,-90.5 261.196,-88.2501 266.196,-90.5 266.196,-90.5\" stroke=\"black\"/>\n",
       "<text font-family=\"Courier,monospace\" font-size=\"9.00\" text-anchor=\"start\" x=\"200.5\" y=\"-96.3\">ε,ε → S</text>\n",
       "</g>\n",
       "<!-- 1 -->\n",
       "<g class=\"node\" id=\"node3\"><title>1</title>\n",
       "<path d=\"M540.333,-136C540.333,-136 524.667,-136 524.667,-136 521.833,-136 519,-133.167 519,-130.333 519,-130.333 519,-124.667 519,-124.667 519,-121.833 521.833,-119 524.667,-119 524.667,-119 540.333,-119 540.333,-119 543.167,-119 546,-121.833 546,-124.667 546,-124.667 546,-130.333 546,-130.333 546,-133.167 543.167,-136 540.333,-136\" fill=\"none\" stroke=\"black\"/>\n",
       "<text font-family=\"Courier,monospace\" font-size=\"10.00\" text-anchor=\"middle\" x=\"532.5\" y=\"-125\">1.1</text>\n",
       "</g>\n",
       "<!-- 1&#45;&gt;5 -->\n",
       "<g class=\"edge\" id=\"edge2\"><title>1-&gt;5</title>\n",
       "<path d=\"M518.693,-130.801C485.978,-138.586 397.178,-155.623 330,-130.5 315.428,-125.051 302.424,-112.67 293.991,-103.116\" fill=\"none\" stroke=\"black\"/>\n",
       "<polygon fill=\"black\" points=\"290.666,-99.2224 295.624,-101.563 292.29,-101.123 293.914,-103.025 293.914,-103.025 293.914,-103.025 292.29,-101.123 292.203,-104.486 290.666,-99.2224 290.666,-99.2224\" stroke=\"black\"/>\n",
       "<text font-family=\"Courier,monospace\" font-size=\"9.00\" text-anchor=\"start\" x=\"401.5\" y=\"-149.3\">ε,ε → a</text>\n",
       "</g>\n",
       "<!-- 2 -->\n",
       "<g class=\"node\" id=\"node4\"><title>2</title>\n",
       "<path d=\"M425.333,-68C425.333,-68 409.667,-68 409.667,-68 406.833,-68 404,-65.1667 404,-62.3333 404,-62.3333 404,-56.6667 404,-56.6667 404,-53.8333 406.833,-51 409.667,-51 409.667,-51 425.333,-51 425.333,-51 428.167,-51 431,-53.8333 431,-56.6667 431,-56.6667 431,-62.3333 431,-62.3333 431,-65.1667 428.167,-68 425.333,-68\" fill=\"none\" stroke=\"black\"/>\n",
       "<text font-family=\"Courier,monospace\" font-size=\"10.00\" text-anchor=\"middle\" x=\"417.5\" y=\"-57\">1.2</text>\n",
       "</g>\n",
       "<!-- 2&#45;&gt;1 -->\n",
       "<g class=\"edge\" id=\"edge9\"><title>2-&gt;1</title>\n",
       "<path d=\"M431.025,-67.037C451.388,-79.2911 491.696,-103.547 514.585,-117.321\" fill=\"none\" stroke=\"black\"/>\n",
       "<polygon fill=\"black\" points=\"518.919,-119.929 513.475,-119.279 516.777,-118.64 514.635,-117.351 514.635,-117.351 514.635,-117.351 516.777,-118.64 515.795,-115.423 518.919,-119.929 518.919,-119.929\" stroke=\"black\"/>\n",
       "<text font-family=\"Courier,monospace\" font-size=\"9.00\" text-anchor=\"start\" x=\"465.5\" y=\"-113.3\">ε,ε → T</text>\n",
       "</g>\n",
       "<!-- 3 -->\n",
       "<g class=\"node\" id=\"node5\"><title>3</title>\n",
       "<path d=\"M425.333,-111C425.333,-111 409.667,-111 409.667,-111 406.833,-111 404,-108.167 404,-105.333 404,-105.333 404,-99.6667 404,-99.6667 404,-96.8333 406.833,-94 409.667,-94 409.667,-94 425.333,-94 425.333,-94 428.167,-94 431,-96.8333 431,-99.6667 431,-99.6667 431,-105.333 431,-105.333 431,-108.167 428.167,-111 425.333,-111\" fill=\"none\" stroke=\"black\"/>\n",
       "<text font-family=\"Courier,monospace\" font-size=\"10.00\" text-anchor=\"middle\" x=\"417.5\" y=\"-100\">3.1</text>\n",
       "</g>\n",
       "<!-- 3&#45;&gt;5 -->\n",
       "<g class=\"edge\" id=\"edge6\"><title>3-&gt;5</title>\n",
       "<path d=\"M403.849,-96.8858C395.322,-93.4167 383.715,-89.2955 373,-87.5 349.924,-83.6331 323.027,-85.3868 304.891,-87.467\" fill=\"none\" stroke=\"black\"/>\n",
       "<polygon fill=\"black\" points=\"299.559,-88.1172 304.249,-85.2785 302.04,-87.8146 304.522,-87.512 304.522,-87.512 304.522,-87.512 302.04,-87.8146 304.794,-89.7454 299.559,-88.1172 299.559,-88.1172\" stroke=\"black\"/>\n",
       "<text font-family=\"Courier,monospace\" font-size=\"9.00\" text-anchor=\"start\" x=\"335.5\" y=\"-93.3\">ε,ε → T</text>\n",
       "</g>\n",
       "<!-- 4 -->\n",
       "<g class=\"node\" id=\"node6\"><title>4</title>\n",
       "<path d=\"M434.333,-21C434.333,-21 400.667,-21 400.667,-21 397.833,-21 395,-18.1667 395,-15.3333 395,-15.3333 395,-9.66667 395,-9.66667 395,-6.83333 397.833,-4 400.667,-4 400.667,-4 434.333,-4 434.333,-4 437.167,-4 440,-6.83333 440,-9.66667 440,-9.66667 440,-15.3333 440,-15.3333 440,-18.1667 437.167,-21 434.333,-21\" fill=\"none\" stroke=\"black\"/>\n",
       "<path d=\"M435.667,-25C435.667,-25 399.333,-25 399.333,-25 395.167,-25 391,-20.8333 391,-16.6667 391,-16.6667 391,-8.33333 391,-8.33333 391,-4.16667 395.167,-0 399.333,-0 399.333,-0 435.667,-0 435.667,-0 439.833,-0 444,-4.16667 444,-8.33333 444,-8.33333 444,-16.6667 444,-16.6667 444,-20.8333 439.833,-25 435.667,-25\" fill=\"none\" stroke=\"black\"/>\n",
       "<text font-family=\"Courier,monospace\" font-size=\"10.00\" text-anchor=\"middle\" x=\"417.5\" y=\"-10\">accept</text>\n",
       "</g>\n",
       "<!-- 5&#45;&gt;2 -->\n",
       "<g class=\"edge\" id=\"edge10\"><title>5-&gt;2</title>\n",
       "<path d=\"M296.25,-81.9454C305.171,-76.203 317.783,-69.0599 330,-65.5 353.052,-58.783 380.957,-58.1069 398.719,-58.5516\" fill=\"none\" stroke=\"black\"/>\n",
       "<polygon fill=\"black\" points=\"403.89,-58.7202 398.819,-60.806 401.391,-58.6387 398.892,-58.5572 398.892,-58.5572 398.892,-58.5572 401.391,-58.6387 398.966,-56.3084 403.89,-58.7202 403.89,-58.7202\" stroke=\"black\"/>\n",
       "<text font-family=\"Courier,monospace\" font-size=\"9.00\" text-anchor=\"start\" x=\"333.5\" y=\"-71.3\">ε,S → b</text>\n",
       "</g>\n",
       "<!-- 5&#45;&gt;3 -->\n",
       "<g class=\"edge\" id=\"edge5\"><title>5-&gt;3</title>\n",
       "<path d=\"M299.789,-97.9156C308.49,-101.594 319.608,-105.641 330,-107.5 353.484,-111.701 381.068,-108.778 398.66,-105.945\" fill=\"none\" stroke=\"black\"/>\n",
       "<polygon fill=\"black\" points=\"403.783,-105.077 399.23,-108.131 401.319,-105.495 398.854,-105.912 398.854,-105.912 398.854,-105.912 401.319,-105.495 398.478,-103.694 403.783,-105.077 403.783,-105.077\" stroke=\"black\"/>\n",
       "<text font-family=\"Courier,monospace\" font-size=\"9.00\" text-anchor=\"start\" x=\"333.5\" y=\"-116.3\">ε,T → a</text>\n",
       "</g>\n",
       "<!-- 5&#45;&gt;4 -->\n",
       "<g class=\"edge\" id=\"edge4\"><title>5-&gt;4</title>\n",
       "<path d=\"M289.492,-81.9877C297.213,-70.6803 312.329,-50.8197 330,-39.5 346.807,-28.7336 368.201,-22.0071 385.508,-17.9606\" fill=\"none\" stroke=\"black\"/>\n",
       "<polygon fill=\"black\" points=\"390.738,-16.7893 386.35,-20.0777 388.298,-17.3357 385.859,-17.8821 385.859,-17.8821 385.859,-17.8821 388.298,-17.3357 385.367,-15.6865 390.738,-16.7893 390.738,-16.7893\" stroke=\"black\"/>\n",
       "<text font-family=\"Courier,monospace\" font-size=\"9.00\" text-anchor=\"start\" x=\"333.5\" y=\"-45.3\">ε,$ → ε</text>\n",
       "</g>\n",
       "<!-- 5&#45;&gt;5 -->\n",
       "<g class=\"edge\" id=\"edge8\"><title>5-&gt;5</title>\n",
       "<path d=\"M273.166,-99.1857C267.734,-107.674 271.012,-117 283,-117 292.74,-117 296.731,-110.843 294.971,-103.982\" fill=\"none\" stroke=\"black\"/>\n",
       "<polygon fill=\"black\" points=\"292.834,-99.1857 296.924,-102.837 293.852,-101.469 294.869,-103.753 294.869,-103.753 294.869,-103.753 293.852,-101.469 292.814,-104.669 292.834,-99.1857 292.834,-99.1857\" stroke=\"black\"/>\n",
       "<text font-family=\"Courier,monospace\" font-size=\"9.00\" text-anchor=\"start\" x=\"265\" y=\"-164.8\">ε,S → b</text>\n",
       "<text font-family=\"Courier,monospace\" font-size=\"9.00\" text-anchor=\"start\" x=\"265.5\" y=\"-150.8\">ε,T → ε</text>\n",
       "<text font-family=\"Courier,monospace\" font-size=\"9.00\" text-anchor=\"start\" x=\"265\" y=\"-136.8\">a,a → ε</text>\n",
       "<text font-family=\"Courier,monospace\" font-size=\"9.00\" text-anchor=\"start\" x=\"265\" y=\"-122.8\">b,b → ε</text>\n",
       "</g>\n",
       "<!-- 6&#45;&gt;0 -->\n",
       "<g class=\"edge\" id=\"edge3\"><title>6-&gt;0</title>\n",
       "<path d=\"M77.4507,-90.5C97.0462,-90.5 127.411,-90.5 146.607,-90.5\" fill=\"none\" stroke=\"black\"/>\n",
       "<polygon fill=\"black\" points=\"151.707,-90.5 146.707,-92.7501 149.207,-90.5 146.707,-90.5001 146.707,-90.5001 146.707,-90.5001 149.207,-90.5 146.707,-88.2501 151.707,-90.5 151.707,-90.5\" stroke=\"black\"/>\n",
       "<text font-family=\"Courier,monospace\" font-size=\"9.00\" text-anchor=\"start\" x=\"98.5\" y=\"-96.3\">ε,ε → $</text>\n",
       "</g>\n",
       "</g>\n",
       "</svg>"
      ],
      "text/plain": [
       "<IPython.core.display.SVG object>"
      ]
     },
     "execution_count": 3,
     "metadata": {},
     "output_type": "execute_result"
    }
   ],
   "source": [
    "display_graph(m)"
   ]
  }
 ],
 "metadata": {
  "kernelspec": {
   "display_name": "Python 2",
   "language": "python",
   "name": "python2"
  },
  "language_info": {
   "codemirror_mode": {
    "name": "ipython",
    "version": 2
   },
   "file_extension": ".py",
   "mimetype": "text/x-python",
   "name": "python",
   "nbconvert_exporter": "python",
   "pygments_lexer": "ipython2",
   "version": "2.7.10"
  }
 },
 "nbformat": 4,
 "nbformat_minor": 0
}
