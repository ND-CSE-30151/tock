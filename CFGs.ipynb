{
 "cells": [
  {
   "cell_type": "code",
   "execution_count": 1,
   "metadata": {
    "collapsed": true
   },
   "outputs": [],
   "source": [
    "from tock import *"
   ]
  },
  {
   "cell_type": "markdown",
   "metadata": {},
   "source": [
    "# Context-free grammars\n",
    "\n",
    "To use a CFG, use the `convert_grammar` function, which converts a CFG into a PDA:"
   ]
  },
  {
   "cell_type": "code",
   "execution_count": 2,
   "metadata": {
    "collapsed": false
   },
   "outputs": [],
   "source": [
    "m = convert_grammar([\"S -> a T b\",\n",
    "                     \"S -> b\",\n",
    "                     \"T -> T a\",\n",
    "                     \"T -> &\"])"
   ]
  },
  {
   "cell_type": "code",
   "execution_count": 3,
   "metadata": {
    "collapsed": false
   },
   "outputs": [
    {
     "data": {
      "image/svg+xml": [
       "<svg height=\"183pt\" viewBox=\"0.00 0.00 558.00 183.00\" width=\"558pt\" xmlns=\"http://www.w3.org/2000/svg\" xmlns:xlink=\"http://www.w3.org/1999/xlink\">\n",
       "<g class=\"graph\" id=\"graph0\" transform=\"scale(1 1) rotate(0) translate(4 179)\">\n",
       "<title>%3</title>\n",
       "<polygon fill=\"white\" points=\"-4,4 -4,-179 554,-179 554,4 -4,4\" stroke=\"none\"/>\n",
       "<!-- START -->\n",
       "<g class=\"node\" id=\"node1\"><title>START</title>\n",
       "</g>\n",
       "<!-- 6 -->\n",
       "<g class=\"node\" id=\"node8\"><title>6</title>\n",
       "<path d=\"M71.3333,-99C71.3333,-99 43.6667,-99 43.6667,-99 40.8333,-99 38,-96.1667 38,-93.3333 38,-93.3333 38,-87.6667 38,-87.6667 38,-84.8333 40.8333,-82 43.6667,-82 43.6667,-82 71.3333,-82 71.3333,-82 74.1667,-82 77,-84.8333 77,-87.6667 77,-87.6667 77,-93.3333 77,-93.3333 77,-96.1667 74.1667,-99 71.3333,-99\" fill=\"none\" stroke=\"black\"/>\n",
       "<text font-family=\"Courier,monospace\" font-size=\"10.00\" text-anchor=\"middle\" x=\"57.5\" y=\"-88\">start</text>\n",
       "</g>\n",
       "<!-- START&#45;&gt;6 -->\n",
       "<g class=\"edge\" id=\"edge1\"><title>START-&gt;6</title>\n",
       "<path d=\"M1.15921,-90.5C2.89199,-90.5 18.4598,-90.5 32.6433,-90.5\" fill=\"none\" stroke=\"black\"/>\n",
       "<polygon fill=\"black\" points=\"37.7779,-90.5 32.778,-92.7501 35.2779,-90.5 32.7779,-90.5001 32.7779,-90.5001 32.7779,-90.5001 35.2779,-90.5 32.7779,-88.2501 37.7779,-90.5 37.7779,-90.5\" stroke=\"black\"/>\n",
       "</g>\n",
       "<!-- 0 -->\n",
       "<g class=\"node\" id=\"node2\"><title>0</title>\n",
       "<path d=\"M174.333,-99C174.333,-99 158.667,-99 158.667,-99 155.833,-99 153,-96.1667 153,-93.3333 153,-93.3333 153,-87.6667 153,-87.6667 153,-84.8333 155.833,-82 158.667,-82 158.667,-82 174.333,-82 174.333,-82 177.167,-82 180,-84.8333 180,-87.6667 180,-87.6667 180,-93.3333 180,-93.3333 180,-96.1667 177.167,-99 174.333,-99\" fill=\"none\" stroke=\"black\"/>\n",
       "<text font-family=\"Courier,monospace\" font-size=\"10.00\" text-anchor=\"middle\" x=\"166.5\" y=\"-88\">0.1</text>\n",
       "</g>\n",
       "<!-- 5 -->\n",
       "<g class=\"node\" id=\"node7\"><title>5</title>\n",
       "<path d=\"M295.833,-99C295.833,-99 274.167,-99 274.167,-99 271.333,-99 268.5,-96.1667 268.5,-93.3333 268.5,-93.3333 268.5,-87.6667 268.5,-87.6667 268.5,-84.8333 271.333,-82 274.167,-82 274.167,-82 295.833,-82 295.833,-82 298.667,-82 301.5,-84.8333 301.5,-87.6667 301.5,-87.6667 301.5,-93.3333 301.5,-93.3333 301.5,-96.1667 298.667,-99 295.833,-99\" fill=\"none\" stroke=\"black\"/>\n",
       "<text font-family=\"Courier,monospace\" font-size=\"10.00\" text-anchor=\"middle\" x=\"285\" y=\"-88\">loop</text>\n",
       "</g>\n",
       "<!-- 0&#45;&gt;5 -->\n",
       "<g class=\"edge\" id=\"edge7\"><title>0-&gt;5</title>\n",
       "<path d=\"M180.413,-90.5C200.461,-90.5 239.26,-90.5 263.265,-90.5\" fill=\"none\" stroke=\"black\"/>\n",
       "<polygon fill=\"black\" points=\"268.443,-90.5 263.443,-92.7501 265.943,-90.5 263.443,-90.5001 263.443,-90.5001 263.443,-90.5001 265.943,-90.5 263.443,-88.2501 268.443,-90.5 268.443,-90.5\" stroke=\"black\"/>\n",
       "<text font-family=\"Courier,monospace\" font-size=\"9.00\" text-anchor=\"start\" x=\"201\" y=\"-96.3\">ε,ε → S</text>\n",
       "</g>\n",
       "<!-- 1 -->\n",
       "<g class=\"node\" id=\"node3\"><title>1</title>\n",
       "<path d=\"M544.333,-136C544.333,-136 528.667,-136 528.667,-136 525.833,-136 523,-133.167 523,-130.333 523,-130.333 523,-124.667 523,-124.667 523,-121.833 525.833,-119 528.667,-119 528.667,-119 544.333,-119 544.333,-119 547.167,-119 550,-121.833 550,-124.667 550,-124.667 550,-130.333 550,-130.333 550,-133.167 547.167,-136 544.333,-136\" fill=\"none\" stroke=\"black\"/>\n",
       "<text font-family=\"Courier,monospace\" font-size=\"10.00\" text-anchor=\"middle\" x=\"536.5\" y=\"-125\">1.1</text>\n",
       "</g>\n",
       "<!-- 1&#45;&gt;5 -->\n",
       "<g class=\"edge\" id=\"edge2\"><title>1-&gt;5</title>\n",
       "<path d=\"M522.566,-130.831C489.526,-138.686 399.845,-155.872 332,-130.5 317.428,-125.051 304.424,-112.67 295.991,-103.116\" fill=\"none\" stroke=\"black\"/>\n",
       "<polygon fill=\"black\" points=\"292.666,-99.2224 297.624,-101.563 294.29,-101.123 295.914,-103.025 295.914,-103.025 295.914,-103.025 294.29,-101.123 294.203,-104.486 292.666,-99.2224 292.666,-99.2224\" stroke=\"black\"/>\n",
       "<text font-family=\"Courier,monospace\" font-size=\"9.00\" text-anchor=\"start\" x=\"403.5\" y=\"-149.3\">ε,ε → a</text>\n",
       "</g>\n",
       "<!-- 2 -->\n",
       "<g class=\"node\" id=\"node4\"><title>2</title>\n",
       "<path d=\"M428.333,-68C428.333,-68 412.667,-68 412.667,-68 409.833,-68 407,-65.1667 407,-62.3333 407,-62.3333 407,-56.6667 407,-56.6667 407,-53.8333 409.833,-51 412.667,-51 412.667,-51 428.333,-51 428.333,-51 431.167,-51 434,-53.8333 434,-56.6667 434,-56.6667 434,-62.3333 434,-62.3333 434,-65.1667 431.167,-68 428.333,-68\" fill=\"none\" stroke=\"black\"/>\n",
       "<text font-family=\"Courier,monospace\" font-size=\"10.00\" text-anchor=\"middle\" x=\"420.5\" y=\"-57\">1.2</text>\n",
       "</g>\n",
       "<!-- 2&#45;&gt;1 -->\n",
       "<g class=\"edge\" id=\"edge9\"><title>2-&gt;1</title>\n",
       "<path d=\"M434.136,-67.037C454.679,-79.2911 495.344,-103.547 518.435,-117.321\" fill=\"none\" stroke=\"black\"/>\n",
       "<polygon fill=\"black\" points=\"522.808,-119.929 517.361,-119.3 520.661,-118.649 518.514,-117.368 518.514,-117.368 518.514,-117.368 520.661,-118.649 519.666,-115.435 522.808,-119.929 522.808,-119.929\" stroke=\"black\"/>\n",
       "<text font-family=\"Courier,monospace\" font-size=\"9.00\" text-anchor=\"start\" x=\"468\" y=\"-115.3\">ε,ε → T</text>\n",
       "</g>\n",
       "<!-- 3 -->\n",
       "<g class=\"node\" id=\"node5\"><title>3</title>\n",
       "<path d=\"M428.333,-111C428.333,-111 412.667,-111 412.667,-111 409.833,-111 407,-108.167 407,-105.333 407,-105.333 407,-99.6667 407,-99.6667 407,-96.8333 409.833,-94 412.667,-94 412.667,-94 428.333,-94 428.333,-94 431.167,-94 434,-96.8333 434,-99.6667 434,-99.6667 434,-105.333 434,-105.333 434,-108.167 431.167,-111 428.333,-111\" fill=\"none\" stroke=\"black\"/>\n",
       "<text font-family=\"Courier,monospace\" font-size=\"10.00\" text-anchor=\"middle\" x=\"420.5\" y=\"-100\">3.1</text>\n",
       "</g>\n",
       "<!-- 3&#45;&gt;5 -->\n",
       "<g class=\"edge\" id=\"edge6\"><title>3-&gt;5</title>\n",
       "<path d=\"M406.849,-96.8858C398.322,-93.4167 386.715,-89.2955 376,-87.5 352.665,-83.5897 325.465,-85.3513 307.126,-87.4452\" fill=\"none\" stroke=\"black\"/>\n",
       "<polygon fill=\"black\" points=\"301.733,-88.0998 306.426,-85.2636 304.215,-87.7985 306.697,-87.4972 306.697,-87.4972 306.697,-87.4972 304.215,-87.7985 306.968,-89.7308 301.733,-88.0998 301.733,-88.0998\" stroke=\"black\"/>\n",
       "<text font-family=\"Courier,monospace\" font-size=\"9.00\" text-anchor=\"start\" x=\"337\" y=\"-93.3\">ε,ε → T</text>\n",
       "</g>\n",
       "<!-- 4 -->\n",
       "<g class=\"node\" id=\"node6\"><title>4</title>\n",
       "<path d=\"M437.333,-21C437.333,-21 403.667,-21 403.667,-21 400.833,-21 398,-18.1667 398,-15.3333 398,-15.3333 398,-9.66667 398,-9.66667 398,-6.83333 400.833,-4 403.667,-4 403.667,-4 437.333,-4 437.333,-4 440.167,-4 443,-6.83333 443,-9.66667 443,-9.66667 443,-15.3333 443,-15.3333 443,-18.1667 440.167,-21 437.333,-21\" fill=\"none\" stroke=\"black\"/>\n",
       "<path d=\"M438.667,-25C438.667,-25 402.333,-25 402.333,-25 398.167,-25 394,-20.8333 394,-16.6667 394,-16.6667 394,-8.33333 394,-8.33333 394,-4.16667 398.167,-0 402.333,-0 402.333,-0 438.667,-0 438.667,-0 442.833,-0 447,-4.16667 447,-8.33333 447,-8.33333 447,-16.6667 447,-16.6667 447,-20.8333 442.833,-25 438.667,-25\" fill=\"none\" stroke=\"black\"/>\n",
       "<text font-family=\"Courier,monospace\" font-size=\"10.00\" text-anchor=\"middle\" x=\"420.5\" y=\"-10\">accept</text>\n",
       "</g>\n",
       "<!-- 5&#45;&gt;2 -->\n",
       "<g class=\"edge\" id=\"edge10\"><title>5-&gt;2</title>\n",
       "<path d=\"M298.249,-81.9425C307.17,-76.1986 319.782,-69.0551 332,-65.5 355.319,-58.715 383.547,-58.0556 401.515,-58.5226\" fill=\"none\" stroke=\"black\"/>\n",
       "<polygon fill=\"black\" points=\"406.744,-58.6982 401.672,-60.7791 404.246,-58.6142 401.747,-58.5303 401.747,-58.5303 401.747,-58.5303 404.246,-58.6142 401.823,-56.2816 406.744,-58.6982 406.744,-58.6982\" stroke=\"black\"/>\n",
       "<text font-family=\"Courier,monospace\" font-size=\"9.00\" text-anchor=\"start\" x=\"335\" y=\"-71.3\">ε,S → b</text>\n",
       "</g>\n",
       "<!-- 5&#45;&gt;3 -->\n",
       "<g class=\"edge\" id=\"edge5\"><title>5-&gt;3</title>\n",
       "<path d=\"M301.789,-97.9156C310.49,-101.594 321.608,-105.641 332,-107.5 355.89,-111.773 383.977,-108.781 401.758,-105.917\" fill=\"none\" stroke=\"black\"/>\n",
       "<polygon fill=\"black\" points=\"406.929,-105.041 402.375,-108.095 404.464,-105.459 401.999,-105.877 401.999,-105.877 401.999,-105.877 404.464,-105.459 401.623,-103.658 406.929,-105.041 406.929,-105.041\" stroke=\"black\"/>\n",
       "<text font-family=\"Courier,monospace\" font-size=\"9.00\" text-anchor=\"start\" x=\"335\" y=\"-116.3\">ε,T → a</text>\n",
       "</g>\n",
       "<!-- 5&#45;&gt;4 -->\n",
       "<g class=\"edge\" id=\"edge4\"><title>5-&gt;4</title>\n",
       "<path d=\"M291.487,-81.9793C299.202,-70.6623 314.311,-50.791 332,-39.5 349.123,-28.5702 370.953,-21.8246 388.524,-17.8092\" fill=\"none\" stroke=\"black\"/>\n",
       "<polygon fill=\"black\" points=\"393.831,-16.6491 389.427,-19.9152 391.389,-17.1831 388.946,-17.7171 388.946,-17.7171 388.946,-17.7171 391.389,-17.1831 388.466,-15.519 393.831,-16.6491 393.831,-16.6491\" stroke=\"black\"/>\n",
       "<text font-family=\"Courier,monospace\" font-size=\"9.00\" text-anchor=\"start\" x=\"336\" y=\"-45.3\">ε,$ → ε</text>\n",
       "</g>\n",
       "<!-- 5&#45;&gt;5 -->\n",
       "<g class=\"edge\" id=\"edge8\"><title>5-&gt;5</title>\n",
       "<path d=\"M275.166,-99.1857C269.734,-107.674 273.012,-117 285,-117 294.74,-117 298.731,-110.843 296.971,-103.982\" fill=\"none\" stroke=\"black\"/>\n",
       "<polygon fill=\"black\" points=\"294.834,-99.1857 298.924,-102.837 295.852,-101.469 296.869,-103.753 296.869,-103.753 296.869,-103.753 295.852,-101.469 294.814,-104.669 294.834,-99.1857 294.834,-99.1857\" stroke=\"black\"/>\n",
       "<text font-family=\"Courier,monospace\" font-size=\"9.00\" text-anchor=\"start\" x=\"266\" y=\"-164.8\">ε,S → b</text>\n",
       "<text font-family=\"Courier,monospace\" font-size=\"9.00\" text-anchor=\"start\" x=\"266.5\" y=\"-150.8\">ε,T → ε</text>\n",
       "<text font-family=\"Courier,monospace\" font-size=\"9.00\" text-anchor=\"start\" x=\"266\" y=\"-136.8\">a,a → ε</text>\n",
       "<text font-family=\"Courier,monospace\" font-size=\"9.00\" text-anchor=\"start\" x=\"266\" y=\"-122.8\">b,b → ε</text>\n",
       "</g>\n",
       "<!-- 6&#45;&gt;0 -->\n",
       "<g class=\"edge\" id=\"edge3\"><title>6-&gt;0</title>\n",
       "<path d=\"M77.138,-90.5C96.9502,-90.5 128.06,-90.5 147.59,-90.5\" fill=\"none\" stroke=\"black\"/>\n",
       "<polygon fill=\"black\" points=\"152.772,-90.5 147.772,-92.7501 150.272,-90.5 147.772,-90.5001 147.772,-90.5001 147.772,-90.5001 150.272,-90.5 147.772,-88.2501 152.772,-90.5 152.772,-90.5\" stroke=\"black\"/>\n",
       "<text font-family=\"Courier,monospace\" font-size=\"9.00\" text-anchor=\"start\" x=\"98\" y=\"-96.3\">ε,ε → $</text>\n",
       "</g>\n",
       "</g>\n",
       "</svg>"
      ],
      "text/plain": [
       "<IPython.core.display.SVG object>"
      ]
     },
     "execution_count": 3,
     "metadata": {},
     "output_type": "execute_result"
    }
   ],
   "source": [
    "m.display_graph()"
   ]
  },
  {
   "cell_type": "code",
   "execution_count": null,
   "metadata": {
    "collapsed": true
   },
   "outputs": [],
   "source": []
  }
 ],
 "metadata": {
  "kernelspec": {
   "display_name": "Python 2",
   "language": "python",
   "name": "python2"
  },
  "language_info": {
   "codemirror_mode": {
    "name": "ipython",
    "version": 2
   },
   "file_extension": ".py",
   "mimetype": "text/x-python",
   "name": "python",
   "nbconvert_exporter": "python",
   "pygments_lexer": "ipython2",
   "version": "2.7.10"
  }
 },
 "nbformat": 4,
 "nbformat_minor": 0
}
