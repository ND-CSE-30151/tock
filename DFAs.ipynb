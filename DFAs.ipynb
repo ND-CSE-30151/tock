{
 "cells": [
  {
   "cell_type": "code",
   "execution_count": 1,
   "metadata": {
    "collapsed": false
   },
   "outputs": [],
   "source": [
    "from tock import *"
   ]
  },
  {
   "cell_type": "markdown",
   "metadata": {},
   "source": [
    "# Deterministic finite automata"
   ]
  },
  {
   "cell_type": "markdown",
   "metadata": {},
   "source": [
    "A deterministic finite automaton (DFA) is a machine that can be in one state at a time, out of a finite set of states. It reads in symbols one at a time, and each symbol may cause it to change to a new state. When the machine has read the whole input string, it either accepts the string or rejects it.\n",
    "\n",
    "The DFA in Figure 1.4 is:"
   ]
  },
  {
   "cell_type": "code",
   "execution_count": 2,
   "metadata": {
    "collapsed": false
   },
   "outputs": [],
   "source": [
    "m = read_csv(\"examples/sipser-1-4.csv\")"
   ]
  },
  {
   "cell_type": "markdown",
   "metadata": {},
   "source": [
    "We can test whether it is indeed a DFA:"
   ]
  },
  {
   "cell_type": "code",
   "execution_count": 3,
   "metadata": {
    "collapsed": false
   },
   "outputs": [
    {
     "data": {
      "text/plain": [
       "(True, True)"
      ]
     },
     "execution_count": 3,
     "metadata": {},
     "output_type": "execute_result"
    }
   ],
   "source": [
    "m.is_finite(), m.is_deterministic()"
   ]
  },
  {
   "cell_type": "code",
   "execution_count": 4,
   "metadata": {
    "collapsed": false
   },
   "outputs": [
    {
     "data": {
      "text/html": [
       "<table style=\"font-family: Courier, monospace;\">\n",
       "  <tr><td></td><th>0</th><th>1</th></tr>\n",
       "  <tr><th>&gt;q1</th><td>q1</td><td>q2</td></tr>\n",
       "  <tr><th>@q2</th><td>q3</td><td>q2</td></tr>\n",
       "  <tr><th>q3</th><td>q2</td><td>q2</td></tr>\n",
       "</table>\n"
      ],
      "text/plain": [
       "<IPython.core.display.HTML object>"
      ]
     },
     "execution_count": 4,
     "metadata": {},
     "output_type": "execute_result"
    }
   ],
   "source": [
    "display_table(m)"
   ]
  },
  {
   "cell_type": "markdown",
   "metadata": {},
   "source": [
    "This machine has three states, listed in the first column: `q1`, `q2`, and `q3`. The `>` means that `q1` is the start state (the state the machine starts in), and the `@` means that `q2` is a final state (meaning that when the machine has read all of the input, it accepts the input iff it is in a final state). These symbols are not part of the state name.\n",
    "\n",
    "The first row lists all possible input symbols (here, `0` and `1`), and the interior cells indicate what the new state should be after reading a symbol. For example, if the machine is in state `q1` and reads a `1`, then it changes to state `q2`.\n",
    "\n",
    "It's more convenient to visualize the automaton's operation using a state transition diagram:"
   ]
  },
  {
   "cell_type": "code",
   "execution_count": 5,
   "metadata": {
    "collapsed": false
   },
   "outputs": [
    {
     "data": {
      "image/svg+xml": [
       "<svg height=\"81pt\" viewBox=\"0.00 0.00 213.00 81.42\" width=\"213pt\" xmlns=\"http://www.w3.org/2000/svg\" xmlns:xlink=\"http://www.w3.org/1999/xlink\">\n",
       "<g class=\"graph\" id=\"graph0\" transform=\"scale(1 1) rotate(0) translate(4 77.4232)\">\n",
       "<title>%3</title>\n",
       "<polygon fill=\"white\" points=\"-4,4 -4,-77.4232 209,-77.4232 209,4 -4,4\" stroke=\"none\"/>\n",
       "<!-- START -->\n",
       "<g class=\"node\" id=\"node1\"><title>START</title>\n",
       "</g>\n",
       "<!-- 0 -->\n",
       "<g class=\"node\" id=\"node2\"><title>0</title>\n",
       "<path d=\"M53.3333,-35.4232C53.3333,-35.4232 43.6667,-35.4232 43.6667,-35.4232 40.8333,-35.4232 38,-32.5898 38,-29.7565 38,-29.7565 38,-24.0898 38,-24.0898 38,-21.2565 40.8333,-18.4232 43.6667,-18.4232 43.6667,-18.4232 53.3333,-18.4232 53.3333,-18.4232 56.1667,-18.4232 59,-21.2565 59,-24.0898 59,-24.0898 59,-29.7565 59,-29.7565 59,-32.5898 56.1667,-35.4232 53.3333,-35.4232\" fill=\"none\" stroke=\"black\"/>\n",
       "<text font-family=\"Courier,monospace\" font-size=\"10.00\" text-anchor=\"middle\" x=\"48.5\" y=\"-24.4232\">q1</text>\n",
       "</g>\n",
       "<!-- START&#45;&gt;0 -->\n",
       "<g class=\"edge\" id=\"edge1\"><title>START-&gt;0</title>\n",
       "<path d=\"M1.13339,-26.9232C2.79277,-26.9232 19.5956,-26.9232 32.5011,-26.9232\" fill=\"none\" stroke=\"black\"/>\n",
       "<polygon fill=\"black\" points=\"37.7379,-26.9232 32.738,-29.1733 35.2379,-26.9232 32.7379,-26.9233 32.7379,-26.9233 32.7379,-26.9233 35.2379,-26.9232 32.7379,-24.6733 37.7379,-26.9232 37.7379,-26.9232\" stroke=\"black\"/>\n",
       "</g>\n",
       "<!-- 0&#45;&gt;0 -->\n",
       "<g class=\"edge\" id=\"edge3\"><title>0-&gt;0</title>\n",
       "<path d=\"M44.3279,-35.6089C42.0234,-44.0971 43.4141,-53.4232 48.5,-53.4232 52.5529,-53.4232 54.2592,-47.501 53.619,-40.7999\" fill=\"none\" stroke=\"black\"/>\n",
       "<polygon fill=\"black\" points=\"52.6721,-35.6089 55.7829,-40.1239 53.1207,-38.0683 53.5694,-40.5277 53.5694,-40.5277 53.5694,-40.5277 53.1207,-38.0683 51.356,-40.9315 52.6721,-35.6089 52.6721,-35.6089\" stroke=\"black\"/>\n",
       "<text font-family=\"Courier,monospace\" font-size=\"9.00\" text-anchor=\"start\" x=\"45.5\" y=\"-59.2232\">0</text>\n",
       "</g>\n",
       "<!-- 1 -->\n",
       "<g class=\"node\" id=\"node3\"><title>1</title>\n",
       "<path d=\"M126.333,-35.4232C126.333,-35.4232 116.667,-35.4232 116.667,-35.4232 113.833,-35.4232 111,-32.5898 111,-29.7565 111,-29.7565 111,-24.0898 111,-24.0898 111,-21.2565 113.833,-18.4232 116.667,-18.4232 116.667,-18.4232 126.333,-18.4232 126.333,-18.4232 129.167,-18.4232 132,-21.2565 132,-24.0898 132,-24.0898 132,-29.7565 132,-29.7565 132,-32.5898 129.167,-35.4232 126.333,-35.4232\" fill=\"none\" stroke=\"black\"/>\n",
       "<path d=\"M127.667,-39.4232C127.667,-39.4232 115.333,-39.4232 115.333,-39.4232 111.167,-39.4232 107,-35.2565 107,-31.0898 107,-31.0898 107,-22.7565 107,-22.7565 107,-18.5898 111.167,-14.4232 115.333,-14.4232 115.333,-14.4232 127.667,-14.4232 127.667,-14.4232 131.833,-14.4232 136,-18.5898 136,-22.7565 136,-22.7565 136,-31.0898 136,-31.0898 136,-35.2565 131.833,-39.4232 127.667,-39.4232\" fill=\"none\" stroke=\"black\"/>\n",
       "<text font-family=\"Courier,monospace\" font-size=\"10.00\" text-anchor=\"middle\" x=\"121.5\" y=\"-24.4232\">q2</text>\n",
       "</g>\n",
       "<!-- 0&#45;&gt;1 -->\n",
       "<g class=\"edge\" id=\"edge2\"><title>0-&gt;1</title>\n",
       "<path d=\"M59.0754,-26.9232C69.9689,-26.9232 88.0236,-26.9232 101.747,-26.9232\" fill=\"none\" stroke=\"black\"/>\n",
       "<polygon fill=\"black\" points=\"106.956,-26.9232 101.956,-29.1733 104.456,-26.9232 101.956,-26.9233 101.956,-26.9233 101.956,-26.9233 104.456,-26.9232 101.956,-24.6733 106.956,-26.9232 106.956,-26.9232\" stroke=\"black\"/>\n",
       "<text font-family=\"Courier,monospace\" font-size=\"9.00\" text-anchor=\"start\" x=\"80\" y=\"-32.7232\">1</text>\n",
       "</g>\n",
       "<!-- 1&#45;&gt;1 -->\n",
       "<g class=\"edge\" id=\"edge6\"><title>1-&gt;1</title>\n",
       "<path d=\"M115.142,-39.455C113.072,-48.4566 115.191,-57.4232 121.5,-57.4232 126.626,-57.4232 128.986,-51.5038 128.58,-44.4558\" fill=\"none\" stroke=\"black\"/>\n",
       "<polygon fill=\"black\" points=\"127.858,-39.455 130.8,-44.0818 128.215,-41.9293 128.573,-44.4036 128.573,-44.4036 128.573,-44.4036 128.215,-41.9293 126.346,-44.7254 127.858,-39.455 127.858,-39.455\" stroke=\"black\"/>\n",
       "<text font-family=\"Courier,monospace\" font-size=\"9.00\" text-anchor=\"start\" x=\"118.5\" y=\"-63.2232\">1</text>\n",
       "</g>\n",
       "<!-- 2 -->\n",
       "<g class=\"node\" id=\"node4\"><title>2</title>\n",
       "<path d=\"M199.333,-35.4232C199.333,-35.4232 189.667,-35.4232 189.667,-35.4232 186.833,-35.4232 184,-32.5898 184,-29.7565 184,-29.7565 184,-24.0898 184,-24.0898 184,-21.2565 186.833,-18.4232 189.667,-18.4232 189.667,-18.4232 199.333,-18.4232 199.333,-18.4232 202.167,-18.4232 205,-21.2565 205,-24.0898 205,-24.0898 205,-29.7565 205,-29.7565 205,-32.5898 202.167,-35.4232 199.333,-35.4232\" fill=\"none\" stroke=\"black\"/>\n",
       "<text font-family=\"Courier,monospace\" font-size=\"10.00\" text-anchor=\"middle\" x=\"194.5\" y=\"-24.4232\">q3</text>\n",
       "</g>\n",
       "<!-- 1&#45;&gt;2 -->\n",
       "<g class=\"edge\" id=\"edge5\"><title>1-&gt;2</title>\n",
       "<path d=\"M136.197,-29.9403C144.753,-31.4668 156.006,-32.8243 166,-31.9232 170.214,-31.5432 174.747,-30.8421 178.894,-30.0827\" fill=\"none\" stroke=\"black\"/>\n",
       "<polygon fill=\"black\" points=\"183.886,-29.1093 179.409,-32.2747 181.432,-29.5878 178.978,-30.0663 178.978,-30.0663 178.978,-30.0663 181.432,-29.5878 178.547,-27.8579 183.886,-29.1093 183.886,-29.1093\" stroke=\"black\"/>\n",
       "<text font-family=\"Courier,monospace\" font-size=\"9.00\" text-anchor=\"start\" x=\"157\" y=\"-37.7232\">0</text>\n",
       "</g>\n",
       "<!-- 2&#45;&gt;1 -->\n",
       "<g class=\"edge\" id=\"edge4\"><title>2-&gt;1</title>\n",
       "<path d=\"M186.868,-18.1823C181.86,-12.352 174.425,-5.18052 166,-1.92318 161.025,-0 159.036,-0.167587 154,-1.92318 148.448,-3.85871 143.139,-7.22643 138.516,-10.8745\" fill=\"none\" stroke=\"black\"/>\n",
       "<polygon fill=\"black\" points=\"134.474,-14.2706 136.855,-9.33134 136.388,-12.6623 138.302,-11.0539 138.302,-11.0539 138.302,-11.0539 136.388,-12.6623 139.75,-12.7765 134.474,-14.2706 134.474,-14.2706\" stroke=\"black\"/>\n",
       "<text font-family=\"Courier,monospace\" font-size=\"9.00\" text-anchor=\"start\" x=\"157\" y=\"-21.7232\">0</text>\n",
       "<text font-family=\"Courier,monospace\" font-size=\"9.00\" text-anchor=\"start\" x=\"157\" y=\"-7.72318\">1</text>\n",
       "</g>\n",
       "</g>\n",
       "</svg>"
      ],
      "text/plain": [
       "<IPython.core.display.SVG object>"
      ]
     },
     "execution_count": 5,
     "metadata": {},
     "output_type": "execute_result"
    }
   ],
   "source": [
    "display_graph(m)"
   ]
  },
  {
   "cell_type": "markdown",
   "metadata": {},
   "source": [
    "Now let's run the automaton on a string:"
   ]
  },
  {
   "cell_type": "code",
   "execution_count": 6,
   "metadata": {
    "collapsed": false
   },
   "outputs": [
    {
     "data": {
      "image/svg+xml": [
       "<svg height=\"388pt\" viewBox=\"0.00 0.00 138.00 388.00\" width=\"138pt\" xmlns=\"http://www.w3.org/2000/svg\" xmlns:xlink=\"http://www.w3.org/1999/xlink\">\n",
       "<g class=\"graph\" id=\"graph0\" transform=\"scale(1 1) rotate(0) translate(4 384)\">\n",
       "<title>%3</title>\n",
       "<polygon fill=\"white\" points=\"-4,4 -4,-384 134,-384 134,4 -4,4\" stroke=\"none\"/>\n",
       "<!-- START -->\n",
       "<g class=\"node\" id=\"node1\"><title>START</title>\n",
       "</g>\n",
       "<!-- 0 -->\n",
       "<g class=\"node\" id=\"node2\"><title>0</title>\n",
       "<path d=\"M19.3333,-343C19.3333,-343 9.66667,-343 9.66667,-343 6.83333,-343 4,-340.167 4,-337.333 4,-337.333 4,-331.667 4,-331.667 4,-328.833 6.83333,-326 9.66667,-326 9.66667,-326 19.3333,-326 19.3333,-326 22.1667,-326 25,-328.833 25,-331.667 25,-331.667 25,-337.333 25,-337.333 25,-340.167 22.1667,-343 19.3333,-343\" fill=\"none\" stroke=\"black\"/>\n",
       "<text font-family=\"Courier,monospace\" font-size=\"10.00\" text-anchor=\"start\" x=\"8\" y=\"-332\">q1</text>\n",
       "</g>\n",
       "<!-- START&#45;&gt;0 -->\n",
       "<g class=\"edge\" id=\"edge1\"><title>START-&gt;0</title>\n",
       "<path d=\"M14.5,-378.875C14.5,-377.268 14.5,-360.467 14.5,-348.256\" fill=\"none\" stroke=\"black\"/>\n",
       "<polygon fill=\"black\" points=\"14.5,-343.04 16.7501,-348.04 14.5,-345.54 14.5001,-348.04 14.5001,-348.04 14.5001,-348.04 14.5,-345.54 12.2501,-348.04 14.5,-343.04 14.5,-343.04\" stroke=\"black\"/>\n",
       "</g>\n",
       "<!-- 5 -->\n",
       "<g class=\"node\" id=\"node7\"><title>5</title>\n",
       "<path d=\"M19.3333,-290C19.3333,-290 9.66667,-290 9.66667,-290 6.83333,-290 4,-287.167 4,-284.333 4,-284.333 4,-278.667 4,-278.667 4,-275.833 6.83333,-273 9.66667,-273 9.66667,-273 19.3333,-273 19.3333,-273 22.1667,-273 25,-275.833 25,-278.667 25,-278.667 25,-284.333 25,-284.333 25,-287.167 22.1667,-290 19.3333,-290\" fill=\"none\" stroke=\"black\"/>\n",
       "<text font-family=\"Courier,monospace\" font-size=\"10.00\" text-anchor=\"start\" x=\"8\" y=\"-279\">q1</text>\n",
       "</g>\n",
       "<!-- 0&#45;&gt;5 -->\n",
       "<g class=\"edge\" id=\"edge6\"><title>0-&gt;5</title>\n",
       "<path d=\"M14.5,-325.975C14.5,-317.914 14.5,-304.979 14.5,-295.31\" fill=\"none\" stroke=\"black\"/>\n",
       "<polygon fill=\"black\" points=\"14.5,-290.056 16.7501,-295.056 14.5,-292.556 14.5001,-295.056 14.5001,-295.056 14.5001,-295.056 14.5,-292.556 12.2501,-295.056 14.5,-290.056 14.5,-290.056\" stroke=\"black\"/>\n",
       "</g>\n",
       "<!-- 1 -->\n",
       "<g class=\"node\" id=\"node3\"><title>1</title>\n",
       "<path d=\"M19.3333,-21C19.3333,-21 9.66667,-21 9.66667,-21 6.83333,-21 4,-18.1667 4,-15.3333 4,-15.3333 4,-9.66667 4,-9.66667 4,-6.83333 6.83333,-4 9.66667,-4 9.66667,-4 19.3333,-4 19.3333,-4 22.1667,-4 25,-6.83333 25,-9.66667 25,-9.66667 25,-15.3333 25,-15.3333 25,-18.1667 22.1667,-21 19.3333,-21\" fill=\"none\" stroke=\"black\"/>\n",
       "<path d=\"M20.6667,-25C20.6667,-25 8.33333,-25 8.33333,-25 4.16667,-25 0,-20.8333 0,-16.6667 0,-16.6667 0,-8.33333 0,-8.33333 0,-4.16667 4.16667,-0 8.33333,-0 8.33333,-0 20.6667,-0 20.6667,-0 24.8333,-0 29,-4.16667 29,-8.33333 29,-8.33333 29,-16.6667 29,-16.6667 29,-20.8333 24.8333,-25 20.6667,-25\" fill=\"none\" stroke=\"black\"/>\n",
       "<text font-family=\"Courier,monospace\" font-size=\"10.00\" text-anchor=\"start\" x=\"8\" y=\"-10\">q2</text>\n",
       "</g>\n",
       "<!-- 2 -->\n",
       "<g class=\"node\" id=\"node4\"><title>2</title>\n",
       "<path d=\"M19.3333,-78C19.3333,-78 9.66667,-78 9.66667,-78 6.83333,-78 4,-75.1667 4,-72.3333 4,-72.3333 4,-66.6667 4,-66.6667 4,-63.8333 6.83333,-61 9.66667,-61 9.66667,-61 19.3333,-61 19.3333,-61 22.1667,-61 25,-63.8333 25,-66.6667 25,-66.6667 25,-72.3333 25,-72.3333 25,-75.1667 22.1667,-78 19.3333,-78\" fill=\"none\" stroke=\"black\"/>\n",
       "<text font-family=\"Courier,monospace\" font-size=\"10.00\" text-anchor=\"start\" x=\"8\" y=\"-67\">q2</text>\n",
       "</g>\n",
       "<!-- 2&#45;&gt;1 -->\n",
       "<g class=\"edge\" id=\"edge4\"><title>2-&gt;1</title>\n",
       "<path d=\"M14.5,-60.8525C14.5,-53.0103 14.5,-40.556 14.5,-30.388\" fill=\"none\" stroke=\"black\"/>\n",
       "<polygon fill=\"black\" points=\"14.5,-25.3158 16.7501,-30.3157 14.5,-27.8158 14.5001,-30.3158 14.5001,-30.3158 14.5001,-30.3158 14.5,-27.8158 12.2501,-30.3158 14.5,-25.3158 14.5,-25.3158\" stroke=\"black\"/>\n",
       "</g>\n",
       "<!-- 3 -->\n",
       "<g class=\"node\" id=\"node5\"><title>3</title>\n",
       "<path d=\"M19.3333,-237C19.3333,-237 9.66667,-237 9.66667,-237 6.83333,-237 4,-234.167 4,-231.333 4,-231.333 4,-225.667 4,-225.667 4,-222.833 6.83333,-220 9.66667,-220 9.66667,-220 19.3333,-220 19.3333,-220 22.1667,-220 25,-222.833 25,-225.667 25,-225.667 25,-231.333 25,-231.333 25,-234.167 22.1667,-237 19.3333,-237\" fill=\"none\" stroke=\"black\"/>\n",
       "<text font-family=\"Courier,monospace\" font-size=\"10.00\" text-anchor=\"start\" x=\"8\" y=\"-226\">q1</text>\n",
       "</g>\n",
       "<!-- 4 -->\n",
       "<g class=\"node\" id=\"node6\"><title>4</title>\n",
       "<path d=\"M19.3333,-184C19.3333,-184 9.66667,-184 9.66667,-184 6.83333,-184 4,-181.167 4,-178.333 4,-178.333 4,-172.667 4,-172.667 4,-169.833 6.83333,-167 9.66667,-167 9.66667,-167 19.3333,-167 19.3333,-167 22.1667,-167 25,-169.833 25,-172.667 25,-172.667 25,-178.333 25,-178.333 25,-181.167 22.1667,-184 19.3333,-184\" fill=\"none\" stroke=\"black\"/>\n",
       "<text font-family=\"Courier,monospace\" font-size=\"10.00\" text-anchor=\"start\" x=\"8\" y=\"-173\">q1</text>\n",
       "</g>\n",
       "<!-- 3&#45;&gt;4 -->\n",
       "<g class=\"edge\" id=\"edge3\"><title>3-&gt;4</title>\n",
       "<path d=\"M14.5,-219.975C14.5,-211.914 14.5,-198.979 14.5,-189.31\" fill=\"none\" stroke=\"black\"/>\n",
       "<polygon fill=\"black\" points=\"14.5,-184.056 16.7501,-189.056 14.5,-186.556 14.5001,-189.056 14.5001,-189.056 14.5001,-189.056 14.5,-186.556 12.2501,-189.056 14.5,-184.056 14.5,-184.056\" stroke=\"black\"/>\n",
       "</g>\n",
       "<!-- 6 -->\n",
       "<g class=\"node\" id=\"node8\"><title>6</title>\n",
       "<path d=\"M19.3333,-131C19.3333,-131 9.66667,-131 9.66667,-131 6.83333,-131 4,-128.167 4,-125.333 4,-125.333 4,-119.667 4,-119.667 4,-116.833 6.83333,-114 9.66667,-114 9.66667,-114 19.3333,-114 19.3333,-114 22.1667,-114 25,-116.833 25,-119.667 25,-119.667 25,-125.333 25,-125.333 25,-128.167 22.1667,-131 19.3333,-131\" fill=\"none\" stroke=\"black\"/>\n",
       "<text font-family=\"Courier,monospace\" font-size=\"10.00\" text-anchor=\"start\" x=\"8\" y=\"-120\">q2</text>\n",
       "</g>\n",
       "<!-- 4&#45;&gt;6 -->\n",
       "<g class=\"edge\" id=\"edge2\"><title>4-&gt;6</title>\n",
       "<path d=\"M14.5,-166.975C14.5,-158.914 14.5,-145.979 14.5,-136.31\" fill=\"none\" stroke=\"black\"/>\n",
       "<polygon fill=\"black\" points=\"14.5,-131.056 16.7501,-136.056 14.5,-133.556 14.5001,-136.056 14.5001,-136.056 14.5001,-136.056 14.5,-133.556 12.2501,-136.056 14.5,-131.056 14.5,-131.056\" stroke=\"black\"/>\n",
       "</g>\n",
       "<!-- 5&#45;&gt;3 -->\n",
       "<g class=\"edge\" id=\"edge5\"><title>5-&gt;3</title>\n",
       "<path d=\"M14.5,-272.975C14.5,-264.914 14.5,-251.979 14.5,-242.31\" fill=\"none\" stroke=\"black\"/>\n",
       "<polygon fill=\"black\" points=\"14.5,-237.056 16.7501,-242.056 14.5,-239.556 14.5001,-242.056 14.5001,-242.056 14.5001,-242.056 14.5,-239.556 12.2501,-242.056 14.5,-237.056 14.5,-237.056\" stroke=\"black\"/>\n",
       "</g>\n",
       "<!-- 6&#45;&gt;2 -->\n",
       "<g class=\"edge\" id=\"edge7\"><title>6-&gt;2</title>\n",
       "<path d=\"M14.5,-113.975C14.5,-105.914 14.5,-92.9787 14.5,-83.3099\" fill=\"none\" stroke=\"black\"/>\n",
       "<polygon fill=\"black\" points=\"14.5,-78.0561 16.7501,-83.0561 14.5,-80.5561 14.5001,-83.0561 14.5001,-83.0561 14.5001,-83.0561 14.5,-80.5561 12.2501,-83.0561 14.5,-78.0561 14.5,-78.0561\" stroke=\"black\"/>\n",
       "</g>\n",
       "<!-- rank0 -->\n",
       "<g class=\"node\" id=\"node9\"><title>rank0</title>\n",
       "<text font-family=\"Courier,monospace\" font-size=\"10.00\" text-anchor=\"start\" x=\"47\" y=\"-332\">[0] 0 0 1 1 1</text>\n",
       "</g>\n",
       "<!-- rank1 -->\n",
       "<g class=\"node\" id=\"node10\"><title>rank1</title>\n",
       "<text font-family=\"Courier,monospace\" font-size=\"10.00\" text-anchor=\"start\" x=\"53\" y=\"-279\">[0] 0 1 1 1</text>\n",
       "</g>\n",
       "<!-- rank0&#45;&gt;rank1 -->\n",
       "<!-- rank2 -->\n",
       "<g class=\"node\" id=\"node11\"><title>rank2</title>\n",
       "<text font-family=\"Courier,monospace\" font-size=\"10.00\" text-anchor=\"start\" x=\"59\" y=\"-226\">[0] 1 1 1</text>\n",
       "</g>\n",
       "<!-- rank1&#45;&gt;rank2 -->\n",
       "<!-- rank3 -->\n",
       "<g class=\"node\" id=\"node12\"><title>rank3</title>\n",
       "<text font-family=\"Courier,monospace\" font-size=\"10.00\" text-anchor=\"start\" x=\"65\" y=\"-173\">[1] 1 1</text>\n",
       "</g>\n",
       "<!-- rank2&#45;&gt;rank3 -->\n",
       "<!-- rank4 -->\n",
       "<g class=\"node\" id=\"node13\"><title>rank4</title>\n",
       "<text font-family=\"Courier,monospace\" font-size=\"10.00\" text-anchor=\"start\" x=\"71\" y=\"-120\">[1] 1</text>\n",
       "</g>\n",
       "<!-- rank3&#45;&gt;rank4 -->\n",
       "<!-- rank5 -->\n",
       "<g class=\"node\" id=\"node14\"><title>rank5</title>\n",
       "<text font-family=\"Courier,monospace\" font-size=\"10.00\" text-anchor=\"middle\" x=\"86.5\" y=\"-67\">1</text>\n",
       "</g>\n",
       "<!-- rank4&#45;&gt;rank5 -->\n",
       "<!-- rank6 -->\n",
       "<g class=\"node\" id=\"node15\"><title>rank6</title>\n",
       "<text font-family=\"Courier,monospace\" font-size=\"10.00\" text-anchor=\"start\" x=\"84\" y=\"-10\">ε</text>\n",
       "</g>\n",
       "<!-- rank5&#45;&gt;rank6 -->\n",
       "</g>\n",
       "</svg>"
      ],
      "text/plain": [
       "<IPython.core.display.SVG object>"
      ]
     },
     "metadata": {},
     "output_type": "display_data"
    }
   ],
   "source": [
    "run(m, \"0 0 0 1 1 1\")"
   ]
  },
  {
   "cell_type": "markdown",
   "metadata": {},
   "source": [
    "The run is displayed as another graph (for reasons that will be more clear when we get to nondeterminism). Each node says what state the machine is at a time step, and on the right is the input string, with the next symbol marked with square brackets. The run ends with a double node, indicating that at the end of the input string, the machine was in a final state, so it accepted the string."
   ]
  },
  {
   "cell_type": "code",
   "execution_count": 7,
   "metadata": {
    "collapsed": false
   },
   "outputs": [
    {
     "data": {
      "image/svg+xml": [
       "<svg height=\"274pt\" viewBox=\"0.00 0.00 110.00 274.00\" width=\"110pt\" xmlns=\"http://www.w3.org/2000/svg\" xmlns:xlink=\"http://www.w3.org/1999/xlink\">\n",
       "<g class=\"graph\" id=\"graph0\" transform=\"scale(1 1) rotate(0) translate(4 270)\">\n",
       "<title>%3</title>\n",
       "<polygon fill=\"white\" points=\"-4,4 -4,-270 106,-270 106,4 -4,4\" stroke=\"none\"/>\n",
       "<!-- START -->\n",
       "<g class=\"node\" id=\"node1\"><title>START</title>\n",
       "</g>\n",
       "<!-- 0 -->\n",
       "<g class=\"node\" id=\"node2\"><title>0</title>\n",
       "<path d=\"M15.3333,-229C15.3333,-229 5.66667,-229 5.66667,-229 2.83333,-229 0,-226.167 0,-223.333 0,-223.333 0,-217.667 0,-217.667 0,-214.833 2.83333,-212 5.66667,-212 5.66667,-212 15.3333,-212 15.3333,-212 18.1667,-212 21,-214.833 21,-217.667 21,-217.667 21,-223.333 21,-223.333 21,-226.167 18.1667,-229 15.3333,-229\" fill=\"none\" stroke=\"black\"/>\n",
       "<text font-family=\"Courier,monospace\" font-size=\"10.00\" text-anchor=\"start\" x=\"4\" y=\"-218\">q1</text>\n",
       "</g>\n",
       "<!-- START&#45;&gt;0 -->\n",
       "<g class=\"edge\" id=\"edge1\"><title>START-&gt;0</title>\n",
       "<path d=\"M10.5,-264.875C10.5,-263.268 10.5,-246.467 10.5,-234.256\" fill=\"none\" stroke=\"black\"/>\n",
       "<polygon fill=\"black\" points=\"10.5,-229.04 12.7501,-234.04 10.5,-231.54 10.5001,-234.04 10.5001,-234.04 10.5001,-234.04 10.5,-231.54 8.2501,-234.04 10.5,-229.04 10.5,-229.04\" stroke=\"black\"/>\n",
       "</g>\n",
       "<!-- 4 -->\n",
       "<g class=\"node\" id=\"node6\"><title>4</title>\n",
       "<path d=\"M15.3333,-176C15.3333,-176 5.66667,-176 5.66667,-176 2.83333,-176 0,-173.167 0,-170.333 0,-170.333 0,-164.667 0,-164.667 0,-161.833 2.83333,-159 5.66667,-159 5.66667,-159 15.3333,-159 15.3333,-159 18.1667,-159 21,-161.833 21,-164.667 21,-164.667 21,-170.333 21,-170.333 21,-173.167 18.1667,-176 15.3333,-176\" fill=\"none\" stroke=\"black\"/>\n",
       "<text font-family=\"Courier,monospace\" font-size=\"10.00\" text-anchor=\"start\" x=\"4\" y=\"-165\">q2</text>\n",
       "</g>\n",
       "<!-- 0&#45;&gt;4 -->\n",
       "<g class=\"edge\" id=\"edge5\"><title>0-&gt;4</title>\n",
       "<path d=\"M10.5,-211.975C10.5,-203.914 10.5,-190.979 10.5,-181.31\" fill=\"none\" stroke=\"black\"/>\n",
       "<polygon fill=\"black\" points=\"10.5,-176.056 12.7501,-181.056 10.5,-178.556 10.5001,-181.056 10.5001,-181.056 10.5001,-181.056 10.5,-178.556 8.2501,-181.056 10.5,-176.056 10.5,-176.056\" stroke=\"black\"/>\n",
       "</g>\n",
       "<!-- 1 -->\n",
       "<g class=\"node\" id=\"node3\"><title>1</title>\n",
       "<path d=\"M15.3333,-17C15.3333,-17 5.66667,-17 5.66667,-17 2.83333,-17 0,-14.1667 0,-11.3333 0,-11.3333 0,-5.66667 0,-5.66667 0,-2.83333 2.83333,-0 5.66667,-0 5.66667,-0 15.3333,-0 15.3333,-0 18.1667,-0 21,-2.83333 21,-5.66667 21,-5.66667 21,-11.3333 21,-11.3333 21,-14.1667 18.1667,-17 15.3333,-17\" fill=\"none\" stroke=\"black\"/>\n",
       "<text font-family=\"Courier,monospace\" font-size=\"10.00\" text-anchor=\"start\" x=\"4\" y=\"-6\">q3</text>\n",
       "</g>\n",
       "<!-- 2 -->\n",
       "<g class=\"node\" id=\"node4\"><title>2</title>\n",
       "<path d=\"M15.3333,-123C15.3333,-123 5.66667,-123 5.66667,-123 2.83333,-123 0,-120.167 0,-117.333 0,-117.333 0,-111.667 0,-111.667 0,-108.833 2.83333,-106 5.66667,-106 5.66667,-106 15.3333,-106 15.3333,-106 18.1667,-106 21,-108.833 21,-111.667 21,-111.667 21,-117.333 21,-117.333 21,-120.167 18.1667,-123 15.3333,-123\" fill=\"none\" stroke=\"black\"/>\n",
       "<text font-family=\"Courier,monospace\" font-size=\"10.00\" text-anchor=\"start\" x=\"4\" y=\"-112\">q3</text>\n",
       "</g>\n",
       "<!-- 3 -->\n",
       "<g class=\"node\" id=\"node5\"><title>3</title>\n",
       "<path d=\"M15.3333,-70C15.3333,-70 5.66667,-70 5.66667,-70 2.83333,-70 0,-67.1667 0,-64.3333 0,-64.3333 0,-58.6667 0,-58.6667 0,-55.8333 2.83333,-53 5.66667,-53 5.66667,-53 15.3333,-53 15.3333,-53 18.1667,-53 21,-55.8333 21,-58.6667 21,-58.6667 21,-64.3333 21,-64.3333 21,-67.1667 18.1667,-70 15.3333,-70\" fill=\"none\" stroke=\"black\"/>\n",
       "<text font-family=\"Courier,monospace\" font-size=\"10.00\" text-anchor=\"start\" x=\"4\" y=\"-59\">q2</text>\n",
       "</g>\n",
       "<!-- 2&#45;&gt;3 -->\n",
       "<g class=\"edge\" id=\"edge4\"><title>2-&gt;3</title>\n",
       "<path d=\"M10.5,-105.975C10.5,-97.9143 10.5,-84.9787 10.5,-75.3099\" fill=\"none\" stroke=\"black\"/>\n",
       "<polygon fill=\"black\" points=\"10.5,-70.0561 12.7501,-75.0561 10.5,-72.5561 10.5001,-75.0561 10.5001,-75.0561 10.5001,-75.0561 10.5,-72.5561 8.2501,-75.0561 10.5,-70.0561 10.5,-70.0561\" stroke=\"black\"/>\n",
       "</g>\n",
       "<!-- 3&#45;&gt;1 -->\n",
       "<g class=\"edge\" id=\"edge3\"><title>3-&gt;1</title>\n",
       "<path d=\"M10.5,-52.9748C10.5,-44.9143 10.5,-31.9787 10.5,-22.3099\" fill=\"none\" stroke=\"black\"/>\n",
       "<polygon fill=\"black\" points=\"10.5,-17.0561 12.7501,-22.0561 10.5,-19.5561 10.5001,-22.0561 10.5001,-22.0561 10.5001,-22.0561 10.5,-19.5561 8.2501,-22.0561 10.5,-17.0561 10.5,-17.0561\" stroke=\"black\"/>\n",
       "</g>\n",
       "<!-- 4&#45;&gt;2 -->\n",
       "<g class=\"edge\" id=\"edge2\"><title>4-&gt;2</title>\n",
       "<path d=\"M10.5,-158.975C10.5,-150.914 10.5,-137.979 10.5,-128.31\" fill=\"none\" stroke=\"black\"/>\n",
       "<polygon fill=\"black\" points=\"10.5,-123.056 12.7501,-128.056 10.5,-125.556 10.5001,-128.056 10.5001,-128.056 10.5001,-128.056 10.5,-125.556 8.2501,-128.056 10.5,-123.056 10.5,-123.056\" stroke=\"black\"/>\n",
       "</g>\n",
       "<!-- rank0 -->\n",
       "<g class=\"node\" id=\"node7\"><title>rank0</title>\n",
       "<text font-family=\"Courier,monospace\" font-size=\"10.00\" text-anchor=\"start\" x=\"43\" y=\"-218\">[1] 0 0 0</text>\n",
       "</g>\n",
       "<!-- rank1 -->\n",
       "<g class=\"node\" id=\"node8\"><title>rank1</title>\n",
       "<text font-family=\"Courier,monospace\" font-size=\"10.00\" text-anchor=\"start\" x=\"49\" y=\"-165\">[0] 0 0</text>\n",
       "</g>\n",
       "<!-- rank0&#45;&gt;rank1 -->\n",
       "<!-- rank2 -->\n",
       "<g class=\"node\" id=\"node9\"><title>rank2</title>\n",
       "<text font-family=\"Courier,monospace\" font-size=\"10.00\" text-anchor=\"start\" x=\"55\" y=\"-112\">[0] 0</text>\n",
       "</g>\n",
       "<!-- rank1&#45;&gt;rank2 -->\n",
       "<!-- rank3 -->\n",
       "<g class=\"node\" id=\"node10\"><title>rank3</title>\n",
       "<text font-family=\"Courier,monospace\" font-size=\"10.00\" text-anchor=\"middle\" x=\"70.5\" y=\"-59\">0</text>\n",
       "</g>\n",
       "<!-- rank2&#45;&gt;rank3 -->\n",
       "<!-- rank4 -->\n",
       "<g class=\"node\" id=\"node11\"><title>rank4</title>\n",
       "<text font-family=\"Courier,monospace\" font-size=\"10.00\" text-anchor=\"start\" x=\"68\" y=\"-6\">ε</text>\n",
       "</g>\n",
       "<!-- rank3&#45;&gt;rank4 -->\n",
       "</g>\n",
       "</svg>"
      ],
      "text/plain": [
       "<IPython.core.display.SVG object>"
      ]
     },
     "metadata": {},
     "output_type": "display_data"
    }
   ],
   "source": [
    "run(m, \"1 0 0 0\")"
   ]
  },
  {
   "cell_type": "markdown",
   "metadata": {},
   "source": [
    "This time, the fact that the run doesn't end with a double node means that the string was rejected."
   ]
  }
 ],
 "metadata": {
  "kernelspec": {
   "display_name": "Python 2",
   "language": "python",
   "name": "python2"
  },
  "language_info": {
   "codemirror_mode": {
    "name": "ipython",
    "version": 2
   },
   "file_extension": ".py",
   "mimetype": "text/x-python",
   "name": "python",
   "nbconvert_exporter": "python",
   "pygments_lexer": "ipython2",
   "version": "2.7.10"
  }
 },
 "nbformat": 4,
 "nbformat_minor": 0
}
