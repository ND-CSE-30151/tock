{
 "cells": [
  {
   "cell_type": "code",
   "execution_count": 1,
   "metadata": {
    "collapsed": false
   },
   "outputs": [],
   "source": [
    "from tock import *"
   ]
  },
  {
   "cell_type": "markdown",
   "metadata": {},
   "source": [
    "# Deterministic finite automata"
   ]
  },
  {
   "cell_type": "markdown",
   "metadata": {},
   "source": [
    "A deterministic finite automaton (DFA) is a machine that can be in one state at a time, out of a finite set of states. It reads in symbols one at a time, and each symbol may cause it to change to a new state. When the machine has read the whole input string, it either accepts the string or rejects it.\n",
    "\n",
    "The DFA in Figure 1.6 is:"
   ]
  },
  {
   "cell_type": "code",
   "execution_count": 2,
   "metadata": {
    "collapsed": false
   },
   "outputs": [],
   "source": [
    "m = read_csv(\"examples/dfa.csv\")"
   ]
  },
  {
   "cell_type": "markdown",
   "metadata": {},
   "source": [
    "We can test whether it is indeed a DFA:"
   ]
  },
  {
   "cell_type": "code",
   "execution_count": 3,
   "metadata": {
    "collapsed": false
   },
   "outputs": [
    {
     "data": {
      "text/plain": [
       "(True, True)"
      ]
     },
     "execution_count": 3,
     "metadata": {},
     "output_type": "execute_result"
    }
   ],
   "source": [
    "m.is_finite(), m.is_deterministic()"
   ]
  },
  {
   "cell_type": "code",
   "execution_count": 4,
   "metadata": {
    "collapsed": false
   },
   "outputs": [
    {
     "data": {
      "text/html": [
       "<table style=\"font-family: Courier, monospace;\">\n",
       "  <tr><td></td><th>0</th><th>1</th></tr>\n",
       "  <tr><th>q1</th><td>q1</td><td>q2</td></tr>\n",
       "  <tr><th>q2</th><td>q3</td><td>q2</td></tr>\n",
       "  <tr><th>q3</th><td>q2</td><td>q2</td></tr>\n",
       "</table>\n"
      ],
      "text/plain": [
       "<IPython.core.display.HTML object>"
      ]
     },
     "execution_count": 4,
     "metadata": {},
     "output_type": "execute_result"
    }
   ],
   "source": [
    "display_table(m)"
   ]
  },
  {
   "cell_type": "markdown",
   "metadata": {},
   "source": [
    "This machine has three states, listed in the first column: `q1`, `q2`, and `q3`. The `>` means that `q1` is the start state (the state the machine starts in), and the `@` means that `q2` is a final state (meaning that when the machine has read all of the input, it accepts the input iff it is in a final state). These symbols are not part of the state name.\n",
    "\n",
    "The first row lists all possible input symbols (here, `0` and `1`), and the interior cells indicate what the new state should be after reading a symbol. For example, if the machine is in state `q1` and reads a `1`, then it changes to state `q2`.\n",
    "\n",
    "It's more convenient to visualize the automaton's operation using a state transition diagram:"
   ]
  },
  {
   "cell_type": "code",
   "execution_count": 5,
   "metadata": {
    "collapsed": false
   },
   "outputs": [
    {
     "data": {
      "image/svg+xml": [
       "<svg height=\"78pt\" viewBox=\"0.00 0.00 167.00 78.00\" width=\"167pt\" xmlns=\"http://www.w3.org/2000/svg\" xmlns:xlink=\"http://www.w3.org/1999/xlink\">\n",
       "<g class=\"graph\" id=\"graph0\" transform=\"scale(1 1) rotate(0) translate(4 74)\">\n",
       "<title>%3</title>\n",
       "<polygon fill=\"white\" points=\"-4,4 -4,-74 163,-74 163,4 -4,4\" stroke=\"none\"/>\n",
       "<!-- START -->\n",
       "<g class=\"node\" id=\"node1\"><title>START</title>\n",
       "</g>\n",
       "<!-- 0 -->\n",
       "<g class=\"node\" id=\"node2\"><title>0</title>\n",
       "<path d=\"M15.3333,-36C15.3333,-36 5.66667,-36 5.66667,-36 2.83333,-36 0,-33.1667 0,-30.3333 0,-30.3333 0,-24.6667 0,-24.6667 0,-21.8333 2.83333,-19 5.66667,-19 5.66667,-19 15.3333,-19 15.3333,-19 18.1667,-19 21,-21.8333 21,-24.6667 21,-24.6667 21,-30.3333 21,-30.3333 21,-33.1667 18.1667,-36 15.3333,-36\" fill=\"none\" stroke=\"black\"/>\n",
       "<text font-family=\"Courier,monospace\" font-size=\"10.00\" text-anchor=\"middle\" x=\"10.5\" y=\"-25\">q1</text>\n",
       "</g>\n",
       "<!-- 0&#45;&gt;0 -->\n",
       "<g class=\"edge\" id=\"edge2\"><title>0-&gt;0</title>\n",
       "<path d=\"M5.43393,-36.1857C2.63553,-44.6739 4.32422,-54 10.5,-54 15.4213,-54 17.4933,-48.0778 16.7159,-41.3767\" fill=\"none\" stroke=\"black\"/>\n",
       "<polygon fill=\"black\" points=\"15.5661,-36.1857 18.8442,-40.5807 16.1068,-38.6265 16.6475,-41.0673 16.6475,-41.0673 16.6475,-41.0673 16.1068,-38.6265 14.4507,-41.554 15.5661,-36.1857 15.5661,-36.1857\" stroke=\"black\"/>\n",
       "<text font-family=\"Courier,monospace\" font-size=\"9.00\" text-anchor=\"start\" x=\"7.5\" y=\"-59.8\">0</text>\n",
       "</g>\n",
       "<!-- 1 -->\n",
       "<g class=\"node\" id=\"node3\"><title>1</title>\n",
       "<path d=\"M84.3333,-36C84.3333,-36 74.6667,-36 74.6667,-36 71.8333,-36 69,-33.1667 69,-30.3333 69,-30.3333 69,-24.6667 69,-24.6667 69,-21.8333 71.8333,-19 74.6667,-19 74.6667,-19 84.3333,-19 84.3333,-19 87.1667,-19 90,-21.8333 90,-24.6667 90,-24.6667 90,-30.3333 90,-30.3333 90,-33.1667 87.1667,-36 84.3333,-36\" fill=\"none\" stroke=\"black\"/>\n",
       "<text font-family=\"Courier,monospace\" font-size=\"10.00\" text-anchor=\"middle\" x=\"79.5\" y=\"-25\">q2</text>\n",
       "</g>\n",
       "<!-- 0&#45;&gt;1 -->\n",
       "<g class=\"edge\" id=\"edge1\"><title>0-&gt;1</title>\n",
       "<path d=\"M21.0995,-27.5C32.2441,-27.5 50.7523,-27.5 63.7318,-27.5\" fill=\"none\" stroke=\"black\"/>\n",
       "<polygon fill=\"black\" points=\"68.9183,-27.5 63.9184,-29.7501 66.4183,-27.5 63.9183,-27.5001 63.9183,-27.5001 63.9183,-27.5001 66.4183,-27.5 63.9183,-25.2501 68.9183,-27.5 68.9183,-27.5\" stroke=\"black\"/>\n",
       "<text font-family=\"Courier,monospace\" font-size=\"9.00\" text-anchor=\"start\" x=\"42\" y=\"-33.3\">1</text>\n",
       "</g>\n",
       "<!-- 1&#45;&gt;1 -->\n",
       "<g class=\"edge\" id=\"edge5\"><title>1-&gt;1</title>\n",
       "<path d=\"M74.4339,-36.1857C71.6355,-44.6739 73.3242,-54 79.5,-54 84.4213,-54 86.4933,-48.0778 85.7159,-41.3767\" fill=\"none\" stroke=\"black\"/>\n",
       "<polygon fill=\"black\" points=\"84.5661,-36.1857 87.8442,-40.5807 85.1068,-38.6265 85.6475,-41.0673 85.6475,-41.0673 85.6475,-41.0673 85.1068,-38.6265 83.4507,-41.554 84.5661,-36.1857 84.5661,-36.1857\" stroke=\"black\"/>\n",
       "<text font-family=\"Courier,monospace\" font-size=\"9.00\" text-anchor=\"start\" x=\"76.5\" y=\"-59.8\">1</text>\n",
       "</g>\n",
       "<!-- 2 -->\n",
       "<g class=\"node\" id=\"node4\"><title>2</title>\n",
       "<path d=\"M153.333,-36C153.333,-36 143.667,-36 143.667,-36 140.833,-36 138,-33.1667 138,-30.3333 138,-30.3333 138,-24.6667 138,-24.6667 138,-21.8333 140.833,-19 143.667,-19 143.667,-19 153.333,-19 153.333,-19 156.167,-19 159,-21.8333 159,-24.6667 159,-24.6667 159,-30.3333 159,-30.3333 159,-33.1667 156.167,-36 153.333,-36\" fill=\"none\" stroke=\"black\"/>\n",
       "<text font-family=\"Courier,monospace\" font-size=\"10.00\" text-anchor=\"middle\" x=\"148.5\" y=\"-25\">q3</text>\n",
       "</g>\n",
       "<!-- 1&#45;&gt;2 -->\n",
       "<g class=\"edge\" id=\"edge4\"><title>1-&gt;2</title>\n",
       "<path d=\"M90.1144,-29.6861C95.3678,-30.7696 102.007,-31.9596 108,-32.5 116.119,-33.2321 125.141,-32.2285 132.51,-30.933\" fill=\"none\" stroke=\"black\"/>\n",
       "<polygon fill=\"black\" points=\"137.781,-29.9094 133.302,-33.0714 135.327,-30.386 132.873,-30.8626 132.873,-30.8626 132.873,-30.8626 135.327,-30.386 132.444,-28.6539 137.781,-29.9094 137.781,-29.9094\" stroke=\"black\"/>\n",
       "<text font-family=\"Courier,monospace\" font-size=\"9.00\" text-anchor=\"start\" x=\"111\" y=\"-38.3\">0</text>\n",
       "</g>\n",
       "<!-- 2&#45;&gt;1 -->\n",
       "<g class=\"edge\" id=\"edge3\"><title>2-&gt;1</title>\n",
       "<path d=\"M141.215,-18.9258C133.754,-9.88648 120.717,2.41653 108,-2.5 101.418,-5.0448 95.44,-9.97857 90.7519,-14.7954\" fill=\"none\" stroke=\"black\"/>\n",
       "<polygon fill=\"black\" points=\"87.1323,-18.7591 88.8425,-13.5497 88.8181,-16.913 90.504,-15.0669 90.504,-15.0669 90.504,-15.0669 88.8181,-16.913 92.1654,-16.5842 87.1323,-18.7591 87.1323,-18.7591\" stroke=\"black\"/>\n",
       "<text font-family=\"Courier,monospace\" font-size=\"9.00\" text-anchor=\"start\" x=\"111\" y=\"-22.3\">0</text>\n",
       "<text font-family=\"Courier,monospace\" font-size=\"9.00\" text-anchor=\"start\" x=\"111\" y=\"-8.3\">1</text>\n",
       "</g>\n",
       "</g>\n",
       "</svg>"
      ],
      "text/plain": [
       "<IPython.core.display.SVG object>"
      ]
     },
     "execution_count": 5,
     "metadata": {},
     "output_type": "execute_result"
    }
   ],
   "source": [
    "display_graph(m)"
   ]
  },
  {
   "cell_type": "markdown",
   "metadata": {},
   "source": [
    "Now let's run the automaton on a string:"
   ]
  },
  {
   "cell_type": "code",
   "execution_count": 6,
   "metadata": {
    "collapsed": false
   },
   "outputs": [
    {
     "data": {
      "image/svg+xml": [
       "<svg height=\"343pt\" viewBox=\"0.00 0.00 134.00 343.00\" width=\"134pt\" xmlns=\"http://www.w3.org/2000/svg\" xmlns:xlink=\"http://www.w3.org/1999/xlink\">\n",
       "<g class=\"graph\" id=\"graph0\" transform=\"scale(1 1) rotate(0) translate(4 339)\">\n",
       "<title>%3</title>\n",
       "<polygon fill=\"white\" points=\"-4,4 -4,-339 130,-339 130,4 -4,4\" stroke=\"none\"/>\n",
       "<!-- 0 -->\n",
       "<g class=\"node\" id=\"node1\"><title>0</title>\n",
       "<path d=\"M15.3333,-335C15.3333,-335 5.66667,-335 5.66667,-335 2.83333,-335 0,-332.167 0,-329.333 0,-329.333 0,-323.667 0,-323.667 0,-320.833 2.83333,-318 5.66667,-318 5.66667,-318 15.3333,-318 15.3333,-318 18.1667,-318 21,-320.833 21,-323.667 21,-323.667 21,-329.333 21,-329.333 21,-332.167 18.1667,-335 15.3333,-335\" fill=\"none\" stroke=\"black\"/>\n",
       "<text font-family=\"Courier,monospace\" font-size=\"10.00\" text-anchor=\"start\" x=\"4\" y=\"-324\">q1</text>\n",
       "</g>\n",
       "<!-- 5 -->\n",
       "<g class=\"node\" id=\"node6\"><title>5</title>\n",
       "<path d=\"M15.3333,-282C15.3333,-282 5.66667,-282 5.66667,-282 2.83333,-282 0,-279.167 0,-276.333 0,-276.333 0,-270.667 0,-270.667 0,-267.833 2.83333,-265 5.66667,-265 5.66667,-265 15.3333,-265 15.3333,-265 18.1667,-265 21,-267.833 21,-270.667 21,-270.667 21,-276.333 21,-276.333 21,-279.167 18.1667,-282 15.3333,-282\" fill=\"none\" stroke=\"black\"/>\n",
       "<text font-family=\"Courier,monospace\" font-size=\"10.00\" text-anchor=\"start\" x=\"4\" y=\"-271\">q1</text>\n",
       "</g>\n",
       "<!-- 0&#45;&gt;5 -->\n",
       "<g class=\"edge\" id=\"edge5\"><title>0-&gt;5</title>\n",
       "<path d=\"M10.5,-317.975C10.5,-309.914 10.5,-296.979 10.5,-287.31\" fill=\"none\" stroke=\"black\"/>\n",
       "<polygon fill=\"black\" points=\"10.5,-282.056 12.7501,-287.056 10.5,-284.556 10.5001,-287.056 10.5001,-287.056 10.5001,-287.056 10.5,-284.556 8.2501,-287.056 10.5,-282.056 10.5,-282.056\" stroke=\"black\"/>\n",
       "</g>\n",
       "<!-- 1 -->\n",
       "<g class=\"node\" id=\"node2\"><title>1</title>\n",
       "<path d=\"M15.3333,-17C15.3333,-17 5.66667,-17 5.66667,-17 2.83333,-17 0,-14.1667 0,-11.3333 0,-11.3333 0,-5.66667 0,-5.66667 0,-2.83333 2.83333,-0 5.66667,-0 5.66667,-0 15.3333,-0 15.3333,-0 18.1667,-0 21,-2.83333 21,-5.66667 21,-5.66667 21,-11.3333 21,-11.3333 21,-14.1667 18.1667,-17 15.3333,-17\" fill=\"none\" stroke=\"black\"/>\n",
       "<text font-family=\"Courier,monospace\" font-size=\"10.00\" text-anchor=\"start\" x=\"4\" y=\"-6\">q2</text>\n",
       "</g>\n",
       "<!-- 2 -->\n",
       "<g class=\"node\" id=\"node3\"><title>2</title>\n",
       "<path d=\"M15.3333,-70C15.3333,-70 5.66667,-70 5.66667,-70 2.83333,-70 0,-67.1667 0,-64.3333 0,-64.3333 0,-58.6667 0,-58.6667 0,-55.8333 2.83333,-53 5.66667,-53 5.66667,-53 15.3333,-53 15.3333,-53 18.1667,-53 21,-55.8333 21,-58.6667 21,-58.6667 21,-64.3333 21,-64.3333 21,-67.1667 18.1667,-70 15.3333,-70\" fill=\"none\" stroke=\"black\"/>\n",
       "<text font-family=\"Courier,monospace\" font-size=\"10.00\" text-anchor=\"start\" x=\"4\" y=\"-59\">q2</text>\n",
       "</g>\n",
       "<!-- 2&#45;&gt;1 -->\n",
       "<g class=\"edge\" id=\"edge3\"><title>2-&gt;1</title>\n",
       "<path d=\"M10.5,-52.9748C10.5,-44.9143 10.5,-31.9787 10.5,-22.3099\" fill=\"none\" stroke=\"black\"/>\n",
       "<polygon fill=\"black\" points=\"10.5,-17.0561 12.7501,-22.0561 10.5,-19.5561 10.5001,-22.0561 10.5001,-22.0561 10.5001,-22.0561 10.5,-19.5561 8.2501,-22.0561 10.5,-17.0561 10.5,-17.0561\" stroke=\"black\"/>\n",
       "</g>\n",
       "<!-- 3 -->\n",
       "<g class=\"node\" id=\"node4\"><title>3</title>\n",
       "<path d=\"M15.3333,-229C15.3333,-229 5.66667,-229 5.66667,-229 2.83333,-229 0,-226.167 0,-223.333 0,-223.333 0,-217.667 0,-217.667 0,-214.833 2.83333,-212 5.66667,-212 5.66667,-212 15.3333,-212 15.3333,-212 18.1667,-212 21,-214.833 21,-217.667 21,-217.667 21,-223.333 21,-223.333 21,-226.167 18.1667,-229 15.3333,-229\" fill=\"none\" stroke=\"black\"/>\n",
       "<text font-family=\"Courier,monospace\" font-size=\"10.00\" text-anchor=\"start\" x=\"4\" y=\"-218\">q1</text>\n",
       "</g>\n",
       "<!-- 4 -->\n",
       "<g class=\"node\" id=\"node5\"><title>4</title>\n",
       "<path d=\"M15.3333,-176C15.3333,-176 5.66667,-176 5.66667,-176 2.83333,-176 0,-173.167 0,-170.333 0,-170.333 0,-164.667 0,-164.667 0,-161.833 2.83333,-159 5.66667,-159 5.66667,-159 15.3333,-159 15.3333,-159 18.1667,-159 21,-161.833 21,-164.667 21,-164.667 21,-170.333 21,-170.333 21,-173.167 18.1667,-176 15.3333,-176\" fill=\"none\" stroke=\"black\"/>\n",
       "<text font-family=\"Courier,monospace\" font-size=\"10.00\" text-anchor=\"start\" x=\"4\" y=\"-165\">q1</text>\n",
       "</g>\n",
       "<!-- 3&#45;&gt;4 -->\n",
       "<g class=\"edge\" id=\"edge2\"><title>3-&gt;4</title>\n",
       "<path d=\"M10.5,-211.975C10.5,-203.914 10.5,-190.979 10.5,-181.31\" fill=\"none\" stroke=\"black\"/>\n",
       "<polygon fill=\"black\" points=\"10.5,-176.056 12.7501,-181.056 10.5,-178.556 10.5001,-181.056 10.5001,-181.056 10.5001,-181.056 10.5,-178.556 8.2501,-181.056 10.5,-176.056 10.5,-176.056\" stroke=\"black\"/>\n",
       "</g>\n",
       "<!-- 6 -->\n",
       "<g class=\"node\" id=\"node7\"><title>6</title>\n",
       "<path d=\"M15.3333,-123C15.3333,-123 5.66667,-123 5.66667,-123 2.83333,-123 0,-120.167 0,-117.333 0,-117.333 0,-111.667 0,-111.667 0,-108.833 2.83333,-106 5.66667,-106 5.66667,-106 15.3333,-106 15.3333,-106 18.1667,-106 21,-108.833 21,-111.667 21,-111.667 21,-117.333 21,-117.333 21,-120.167 18.1667,-123 15.3333,-123\" fill=\"none\" stroke=\"black\"/>\n",
       "<text font-family=\"Courier,monospace\" font-size=\"10.00\" text-anchor=\"start\" x=\"4\" y=\"-112\">q2</text>\n",
       "</g>\n",
       "<!-- 4&#45;&gt;6 -->\n",
       "<g class=\"edge\" id=\"edge1\"><title>4-&gt;6</title>\n",
       "<path d=\"M10.5,-158.975C10.5,-150.914 10.5,-137.979 10.5,-128.31\" fill=\"none\" stroke=\"black\"/>\n",
       "<polygon fill=\"black\" points=\"10.5,-123.056 12.7501,-128.056 10.5,-125.556 10.5001,-128.056 10.5001,-128.056 10.5001,-128.056 10.5,-125.556 8.2501,-128.056 10.5,-123.056 10.5,-123.056\" stroke=\"black\"/>\n",
       "</g>\n",
       "<!-- 5&#45;&gt;3 -->\n",
       "<g class=\"edge\" id=\"edge4\"><title>5-&gt;3</title>\n",
       "<path d=\"M10.5,-264.975C10.5,-256.914 10.5,-243.979 10.5,-234.31\" fill=\"none\" stroke=\"black\"/>\n",
       "<polygon fill=\"black\" points=\"10.5,-229.056 12.7501,-234.056 10.5,-231.556 10.5001,-234.056 10.5001,-234.056 10.5001,-234.056 10.5,-231.556 8.2501,-234.056 10.5,-229.056 10.5,-229.056\" stroke=\"black\"/>\n",
       "</g>\n",
       "<!-- 6&#45;&gt;2 -->\n",
       "<g class=\"edge\" id=\"edge6\"><title>6-&gt;2</title>\n",
       "<path d=\"M10.5,-105.975C10.5,-97.9143 10.5,-84.9787 10.5,-75.3099\" fill=\"none\" stroke=\"black\"/>\n",
       "<polygon fill=\"black\" points=\"10.5,-70.0561 12.7501,-75.0561 10.5,-72.5561 10.5001,-75.0561 10.5001,-75.0561 10.5001,-75.0561 10.5,-72.5561 8.2501,-75.0561 10.5,-70.0561 10.5,-70.0561\" stroke=\"black\"/>\n",
       "</g>\n",
       "<!-- rank0 -->\n",
       "<g class=\"node\" id=\"node8\"><title>rank0</title>\n",
       "<text font-family=\"Courier,monospace\" font-size=\"10.00\" text-anchor=\"start\" x=\"43\" y=\"-324\">[0] 0 0 1 1 1</text>\n",
       "</g>\n",
       "<!-- rank1 -->\n",
       "<g class=\"node\" id=\"node9\"><title>rank1</title>\n",
       "<text font-family=\"Courier,monospace\" font-size=\"10.00\" text-anchor=\"start\" x=\"49\" y=\"-271\">[0] 0 1 1 1</text>\n",
       "</g>\n",
       "<!-- rank0&#45;&gt;rank1 -->\n",
       "<!-- rank2 -->\n",
       "<g class=\"node\" id=\"node10\"><title>rank2</title>\n",
       "<text font-family=\"Courier,monospace\" font-size=\"10.00\" text-anchor=\"start\" x=\"55\" y=\"-218\">[0] 1 1 1</text>\n",
       "</g>\n",
       "<!-- rank1&#45;&gt;rank2 -->\n",
       "<!-- rank3 -->\n",
       "<g class=\"node\" id=\"node11\"><title>rank3</title>\n",
       "<text font-family=\"Courier,monospace\" font-size=\"10.00\" text-anchor=\"start\" x=\"61\" y=\"-165\">[1] 1 1</text>\n",
       "</g>\n",
       "<!-- rank2&#45;&gt;rank3 -->\n",
       "<!-- rank4 -->\n",
       "<g class=\"node\" id=\"node12\"><title>rank4</title>\n",
       "<text font-family=\"Courier,monospace\" font-size=\"10.00\" text-anchor=\"start\" x=\"67\" y=\"-112\">[1] 1</text>\n",
       "</g>\n",
       "<!-- rank3&#45;&gt;rank4 -->\n",
       "<!-- rank5 -->\n",
       "<g class=\"node\" id=\"node13\"><title>rank5</title>\n",
       "<text font-family=\"Courier,monospace\" font-size=\"10.00\" text-anchor=\"middle\" x=\"82.5\" y=\"-59\">1</text>\n",
       "</g>\n",
       "<!-- rank4&#45;&gt;rank5 -->\n",
       "<!-- rank6 -->\n",
       "<g class=\"node\" id=\"node14\"><title>rank6</title>\n",
       "<text font-family=\"Courier,monospace\" font-size=\"10.00\" text-anchor=\"start\" x=\"80\" y=\"-6\">ε</text>\n",
       "</g>\n",
       "<!-- rank5&#45;&gt;rank6 -->\n",
       "</g>\n",
       "</svg>"
      ],
      "text/plain": [
       "<IPython.core.display.SVG object>"
      ]
     },
     "metadata": {},
     "output_type": "display_data"
    }
   ],
   "source": [
    "m.run(\"0 0 0 1 1 1\")"
   ]
  },
  {
   "cell_type": "markdown",
   "metadata": {},
   "source": [
    "The run is displayed as another graph (for reasons that will be more clear when we get to nondeterminism). Each node says what state the machine is at a time step, and on the right is the input string, with the next symbol marked with square brackets. The `ACCEPT` node indicates that at the end of the input string, the machine was in a final state, so it accepted the string."
   ]
  },
  {
   "cell_type": "code",
   "execution_count": 7,
   "metadata": {
    "collapsed": false
   },
   "outputs": [
    {
     "data": {
      "image/svg+xml": [
       "<svg height=\"237pt\" viewBox=\"0.00 0.00 110.00 237.00\" width=\"110pt\" xmlns=\"http://www.w3.org/2000/svg\" xmlns:xlink=\"http://www.w3.org/1999/xlink\">\n",
       "<g class=\"graph\" id=\"graph0\" transform=\"scale(1 1) rotate(0) translate(4 233)\">\n",
       "<title>%3</title>\n",
       "<polygon fill=\"white\" points=\"-4,4 -4,-233 106,-233 106,4 -4,4\" stroke=\"none\"/>\n",
       "<!-- 0 -->\n",
       "<g class=\"node\" id=\"node1\"><title>0</title>\n",
       "<path d=\"M15.3333,-229C15.3333,-229 5.66667,-229 5.66667,-229 2.83333,-229 0,-226.167 0,-223.333 0,-223.333 0,-217.667 0,-217.667 0,-214.833 2.83333,-212 5.66667,-212 5.66667,-212 15.3333,-212 15.3333,-212 18.1667,-212 21,-214.833 21,-217.667 21,-217.667 21,-223.333 21,-223.333 21,-226.167 18.1667,-229 15.3333,-229\" fill=\"none\" stroke=\"black\"/>\n",
       "<text font-family=\"Courier,monospace\" font-size=\"10.00\" text-anchor=\"start\" x=\"4\" y=\"-218\">q1</text>\n",
       "</g>\n",
       "<!-- 4 -->\n",
       "<g class=\"node\" id=\"node5\"><title>4</title>\n",
       "<path d=\"M15.3333,-176C15.3333,-176 5.66667,-176 5.66667,-176 2.83333,-176 0,-173.167 0,-170.333 0,-170.333 0,-164.667 0,-164.667 0,-161.833 2.83333,-159 5.66667,-159 5.66667,-159 15.3333,-159 15.3333,-159 18.1667,-159 21,-161.833 21,-164.667 21,-164.667 21,-170.333 21,-170.333 21,-173.167 18.1667,-176 15.3333,-176\" fill=\"none\" stroke=\"black\"/>\n",
       "<text font-family=\"Courier,monospace\" font-size=\"10.00\" text-anchor=\"start\" x=\"4\" y=\"-165\">q2</text>\n",
       "</g>\n",
       "<!-- 0&#45;&gt;4 -->\n",
       "<g class=\"edge\" id=\"edge4\"><title>0-&gt;4</title>\n",
       "<path d=\"M10.5,-211.975C10.5,-203.914 10.5,-190.979 10.5,-181.31\" fill=\"none\" stroke=\"black\"/>\n",
       "<polygon fill=\"black\" points=\"10.5,-176.056 12.7501,-181.056 10.5,-178.556 10.5001,-181.056 10.5001,-181.056 10.5001,-181.056 10.5,-178.556 8.2501,-181.056 10.5,-176.056 10.5,-176.056\" stroke=\"black\"/>\n",
       "</g>\n",
       "<!-- 1 -->\n",
       "<g class=\"node\" id=\"node2\"><title>1</title>\n",
       "<path d=\"M15.3333,-17C15.3333,-17 5.66667,-17 5.66667,-17 2.83333,-17 0,-14.1667 0,-11.3333 0,-11.3333 0,-5.66667 0,-5.66667 0,-2.83333 2.83333,-0 5.66667,-0 5.66667,-0 15.3333,-0 15.3333,-0 18.1667,-0 21,-2.83333 21,-5.66667 21,-5.66667 21,-11.3333 21,-11.3333 21,-14.1667 18.1667,-17 15.3333,-17\" fill=\"none\" stroke=\"black\"/>\n",
       "<text font-family=\"Courier,monospace\" font-size=\"10.00\" text-anchor=\"start\" x=\"4\" y=\"-6\">q3</text>\n",
       "</g>\n",
       "<!-- 2 -->\n",
       "<g class=\"node\" id=\"node3\"><title>2</title>\n",
       "<path d=\"M15.3333,-123C15.3333,-123 5.66667,-123 5.66667,-123 2.83333,-123 0,-120.167 0,-117.333 0,-117.333 0,-111.667 0,-111.667 0,-108.833 2.83333,-106 5.66667,-106 5.66667,-106 15.3333,-106 15.3333,-106 18.1667,-106 21,-108.833 21,-111.667 21,-111.667 21,-117.333 21,-117.333 21,-120.167 18.1667,-123 15.3333,-123\" fill=\"none\" stroke=\"black\"/>\n",
       "<text font-family=\"Courier,monospace\" font-size=\"10.00\" text-anchor=\"start\" x=\"4\" y=\"-112\">q3</text>\n",
       "</g>\n",
       "<!-- 3 -->\n",
       "<g class=\"node\" id=\"node4\"><title>3</title>\n",
       "<path d=\"M15.3333,-70C15.3333,-70 5.66667,-70 5.66667,-70 2.83333,-70 0,-67.1667 0,-64.3333 0,-64.3333 0,-58.6667 0,-58.6667 0,-55.8333 2.83333,-53 5.66667,-53 5.66667,-53 15.3333,-53 15.3333,-53 18.1667,-53 21,-55.8333 21,-58.6667 21,-58.6667 21,-64.3333 21,-64.3333 21,-67.1667 18.1667,-70 15.3333,-70\" fill=\"none\" stroke=\"black\"/>\n",
       "<text font-family=\"Courier,monospace\" font-size=\"10.00\" text-anchor=\"start\" x=\"4\" y=\"-59\">q2</text>\n",
       "</g>\n",
       "<!-- 2&#45;&gt;3 -->\n",
       "<g class=\"edge\" id=\"edge3\"><title>2-&gt;3</title>\n",
       "<path d=\"M10.5,-105.975C10.5,-97.9143 10.5,-84.9787 10.5,-75.3099\" fill=\"none\" stroke=\"black\"/>\n",
       "<polygon fill=\"black\" points=\"10.5,-70.0561 12.7501,-75.0561 10.5,-72.5561 10.5001,-75.0561 10.5001,-75.0561 10.5001,-75.0561 10.5,-72.5561 8.2501,-75.0561 10.5,-70.0561 10.5,-70.0561\" stroke=\"black\"/>\n",
       "</g>\n",
       "<!-- 3&#45;&gt;1 -->\n",
       "<g class=\"edge\" id=\"edge2\"><title>3-&gt;1</title>\n",
       "<path d=\"M10.5,-52.9748C10.5,-44.9143 10.5,-31.9787 10.5,-22.3099\" fill=\"none\" stroke=\"black\"/>\n",
       "<polygon fill=\"black\" points=\"10.5,-17.0561 12.7501,-22.0561 10.5,-19.5561 10.5001,-22.0561 10.5001,-22.0561 10.5001,-22.0561 10.5,-19.5561 8.2501,-22.0561 10.5,-17.0561 10.5,-17.0561\" stroke=\"black\"/>\n",
       "</g>\n",
       "<!-- 4&#45;&gt;2 -->\n",
       "<g class=\"edge\" id=\"edge1\"><title>4-&gt;2</title>\n",
       "<path d=\"M10.5,-158.975C10.5,-150.914 10.5,-137.979 10.5,-128.31\" fill=\"none\" stroke=\"black\"/>\n",
       "<polygon fill=\"black\" points=\"10.5,-123.056 12.7501,-128.056 10.5,-125.556 10.5001,-128.056 10.5001,-128.056 10.5001,-128.056 10.5,-125.556 8.2501,-128.056 10.5,-123.056 10.5,-123.056\" stroke=\"black\"/>\n",
       "</g>\n",
       "<!-- rank0 -->\n",
       "<g class=\"node\" id=\"node6\"><title>rank0</title>\n",
       "<text font-family=\"Courier,monospace\" font-size=\"10.00\" text-anchor=\"start\" x=\"43\" y=\"-218\">[1] 0 0 0</text>\n",
       "</g>\n",
       "<!-- rank1 -->\n",
       "<g class=\"node\" id=\"node7\"><title>rank1</title>\n",
       "<text font-family=\"Courier,monospace\" font-size=\"10.00\" text-anchor=\"start\" x=\"49\" y=\"-165\">[0] 0 0</text>\n",
       "</g>\n",
       "<!-- rank0&#45;&gt;rank1 -->\n",
       "<!-- rank2 -->\n",
       "<g class=\"node\" id=\"node8\"><title>rank2</title>\n",
       "<text font-family=\"Courier,monospace\" font-size=\"10.00\" text-anchor=\"start\" x=\"55\" y=\"-112\">[0] 0</text>\n",
       "</g>\n",
       "<!-- rank1&#45;&gt;rank2 -->\n",
       "<!-- rank3 -->\n",
       "<g class=\"node\" id=\"node9\"><title>rank3</title>\n",
       "<text font-family=\"Courier,monospace\" font-size=\"10.00\" text-anchor=\"middle\" x=\"70.5\" y=\"-59\">0</text>\n",
       "</g>\n",
       "<!-- rank2&#45;&gt;rank3 -->\n",
       "<!-- rank4 -->\n",
       "<g class=\"node\" id=\"node10\"><title>rank4</title>\n",
       "<text font-family=\"Courier,monospace\" font-size=\"10.00\" text-anchor=\"start\" x=\"68\" y=\"-6\">ε</text>\n",
       "</g>\n",
       "<!-- rank3&#45;&gt;rank4 -->\n",
       "</g>\n",
       "</svg>"
      ],
      "text/plain": [
       "<IPython.core.display.SVG object>"
      ]
     },
     "metadata": {},
     "output_type": "display_data"
    }
   ],
   "source": [
    "m.run(\"1 0 0 0\")"
   ]
  },
  {
   "cell_type": "markdown",
   "metadata": {},
   "source": [
    "This time, the fact that the run doesn't end with `ACCEPT` means that the string was rejected."
   ]
  }
 ],
 "metadata": {
  "kernelspec": {
   "display_name": "Python 2",
   "language": "python",
   "name": "python2"
  },
  "language_info": {
   "codemirror_mode": {
    "name": "ipython",
    "version": 2
   },
   "file_extension": ".py",
   "mimetype": "text/x-python",
   "name": "python",
   "nbconvert_exporter": "python",
   "pygments_lexer": "ipython2",
   "version": "2.7.10"
  }
 },
 "nbformat": 4,
 "nbformat_minor": 0
}
