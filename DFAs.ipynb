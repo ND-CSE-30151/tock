{
 "cells": [
  {
   "cell_type": "code",
   "execution_count": 1,
   "metadata": {
    "collapsed": false
   },
   "outputs": [],
   "source": [
    "from tock import *"
   ]
  },
  {
   "cell_type": "markdown",
   "metadata": {},
   "source": [
    "# Deterministic finite automata"
   ]
  },
  {
   "cell_type": "markdown",
   "metadata": {},
   "source": [
    "A deterministic finite automaton (DFA) is a machine that can be in one state at a time, out of a finite set of states. It reads in symbols one at a time, and each symbol may cause it to change to a new state. When the machine has read the whole input string, it either accepts the string or rejects it.\n",
    "\n",
    "The DFA in Figure 1.6 is:"
   ]
  },
  {
   "cell_type": "code",
   "execution_count": 2,
   "metadata": {
    "collapsed": false
   },
   "outputs": [],
   "source": [
    "m = read_csv(\"examples/dfa.csv\")"
   ]
  },
  {
   "cell_type": "markdown",
   "metadata": {},
   "source": [
    "We can test whether it is indeed a DFA:"
   ]
  },
  {
   "cell_type": "code",
   "execution_count": 3,
   "metadata": {
    "collapsed": false
   },
   "outputs": [
    {
     "data": {
      "text/plain": [
       "(True, True)"
      ]
     },
     "execution_count": 3,
     "metadata": {},
     "output_type": "execute_result"
    }
   ],
   "source": [
    "m.is_finite(), m.is_deterministic()"
   ]
  },
  {
   "cell_type": "code",
   "execution_count": 4,
   "metadata": {
    "collapsed": false
   },
   "outputs": [
    {
     "data": {
      "text/html": [
       "<table style=\"font-family: Courier, monospace;\">\n",
       "  <tr><td></td><th>0</th><th>1</th></tr>\n",
       "  <tr><th>&gt;q1</th><td>q1</td><td>q2</td></tr>\n",
       "  <tr><th>@q2</th><td>q3</td><td>q2</td></tr>\n",
       "  <tr><th>q3</th><td>q2</td><td>q2</td></tr>\n",
       "</table>\n"
      ],
      "text/plain": [
       "<IPython.core.display.HTML object>"
      ]
     },
     "execution_count": 4,
     "metadata": {},
     "output_type": "execute_result"
    }
   ],
   "source": [
    "m.display_table()"
   ]
  },
  {
   "cell_type": "markdown",
   "metadata": {},
   "source": [
    "This machine has three states, listed in the first column: `q1`, `q2`, and `q3`. The `>` means that `q1` is the start state (the state the machine starts in), and the `@` means that `q2` is a final state (meaning that when the machine has read all of the input, it accepts the input iff it is in a final state). These symbols are not part of the state name.\n",
    "\n",
    "The first row lists all possible input symbols (here, `0` and `1`), and the interior cells indicate what the new state should be after reading a symbol. For example, if the machine is in state `q1` and reads a `1`, then it changes to state `q2`.\n",
    "\n",
    "It's more convenient to visualize the automaton's operation using a state transition diagram:"
   ]
  },
  {
   "cell_type": "code",
   "execution_count": 5,
   "metadata": {
    "collapsed": false
   },
   "outputs": [
    {
     "data": {
      "image/svg+xml": [
       "<svg height=\"81pt\" viewBox=\"0.00 0.00 213.00 81.42\" width=\"213pt\" xmlns=\"http://www.w3.org/2000/svg\" xmlns:xlink=\"http://www.w3.org/1999/xlink\">\n",
       "<g class=\"graph\" id=\"graph0\" transform=\"scale(1 1) rotate(0) translate(4 77.4232)\">\n",
       "<title>%3</title>\n",
       "<polygon fill=\"white\" points=\"-4,4 -4,-77.4232 209,-77.4232 209,4 -4,4\" stroke=\"none\"/>\n",
       "<!-- START -->\n",
       "<g class=\"node\" id=\"node1\"><title>START</title>\n",
       "</g>\n",
       "<!-- 0 -->\n",
       "<g class=\"node\" id=\"node2\"><title>0</title>\n",
       "<path d=\"M53.3333,-35.4232C53.3333,-35.4232 43.6667,-35.4232 43.6667,-35.4232 40.8333,-35.4232 38,-32.5898 38,-29.7565 38,-29.7565 38,-24.0898 38,-24.0898 38,-21.2565 40.8333,-18.4232 43.6667,-18.4232 43.6667,-18.4232 53.3333,-18.4232 53.3333,-18.4232 56.1667,-18.4232 59,-21.2565 59,-24.0898 59,-24.0898 59,-29.7565 59,-29.7565 59,-32.5898 56.1667,-35.4232 53.3333,-35.4232\" fill=\"none\" stroke=\"black\"/>\n",
       "<text font-family=\"Courier,monospace\" font-size=\"10.00\" text-anchor=\"middle\" x=\"48.5\" y=\"-24.4232\">q1</text>\n",
       "</g>\n",
       "<!-- START&#45;&gt;0 -->\n",
       "<g class=\"edge\" id=\"edge1\"><title>START-&gt;0</title>\n",
       "<path d=\"M1.13339,-26.9232C2.79277,-26.9232 19.5956,-26.9232 32.5011,-26.9232\" fill=\"none\" stroke=\"black\"/>\n",
       "<polygon fill=\"black\" points=\"37.7379,-26.9232 32.738,-29.1733 35.2379,-26.9232 32.7379,-26.9233 32.7379,-26.9233 32.7379,-26.9233 35.2379,-26.9232 32.7379,-24.6733 37.7379,-26.9232 37.7379,-26.9232\" stroke=\"black\"/>\n",
       "</g>\n",
       "<!-- 0&#45;&gt;0 -->\n",
       "<g class=\"edge\" id=\"edge3\"><title>0-&gt;0</title>\n",
       "<path d=\"M44.3279,-35.6089C42.0234,-44.0971 43.4141,-53.4232 48.5,-53.4232 52.5529,-53.4232 54.2592,-47.501 53.619,-40.7999\" fill=\"none\" stroke=\"black\"/>\n",
       "<polygon fill=\"black\" points=\"52.6721,-35.6089 55.7829,-40.1239 53.1207,-38.0683 53.5694,-40.5277 53.5694,-40.5277 53.5694,-40.5277 53.1207,-38.0683 51.356,-40.9315 52.6721,-35.6089 52.6721,-35.6089\" stroke=\"black\"/>\n",
       "<text font-family=\"Courier,monospace\" font-size=\"9.00\" text-anchor=\"start\" x=\"45.5\" y=\"-59.2232\">0</text>\n",
       "</g>\n",
       "<!-- 1 -->\n",
       "<g class=\"node\" id=\"node3\"><title>1</title>\n",
       "<path d=\"M126.333,-35.4232C126.333,-35.4232 116.667,-35.4232 116.667,-35.4232 113.833,-35.4232 111,-32.5898 111,-29.7565 111,-29.7565 111,-24.0898 111,-24.0898 111,-21.2565 113.833,-18.4232 116.667,-18.4232 116.667,-18.4232 126.333,-18.4232 126.333,-18.4232 129.167,-18.4232 132,-21.2565 132,-24.0898 132,-24.0898 132,-29.7565 132,-29.7565 132,-32.5898 129.167,-35.4232 126.333,-35.4232\" fill=\"none\" stroke=\"black\"/>\n",
       "<path d=\"M127.667,-39.4232C127.667,-39.4232 115.333,-39.4232 115.333,-39.4232 111.167,-39.4232 107,-35.2565 107,-31.0898 107,-31.0898 107,-22.7565 107,-22.7565 107,-18.5898 111.167,-14.4232 115.333,-14.4232 115.333,-14.4232 127.667,-14.4232 127.667,-14.4232 131.833,-14.4232 136,-18.5898 136,-22.7565 136,-22.7565 136,-31.0898 136,-31.0898 136,-35.2565 131.833,-39.4232 127.667,-39.4232\" fill=\"none\" stroke=\"black\"/>\n",
       "<text font-family=\"Courier,monospace\" font-size=\"10.00\" text-anchor=\"middle\" x=\"121.5\" y=\"-24.4232\">q2</text>\n",
       "</g>\n",
       "<!-- 0&#45;&gt;1 -->\n",
       "<g class=\"edge\" id=\"edge2\"><title>0-&gt;1</title>\n",
       "<path d=\"M59.0754,-26.9232C69.9689,-26.9232 88.0236,-26.9232 101.747,-26.9232\" fill=\"none\" stroke=\"black\"/>\n",
       "<polygon fill=\"black\" points=\"106.956,-26.9232 101.956,-29.1733 104.456,-26.9232 101.956,-26.9233 101.956,-26.9233 101.956,-26.9233 104.456,-26.9232 101.956,-24.6733 106.956,-26.9232 106.956,-26.9232\" stroke=\"black\"/>\n",
       "<text font-family=\"Courier,monospace\" font-size=\"9.00\" text-anchor=\"start\" x=\"80\" y=\"-32.7232\">1</text>\n",
       "</g>\n",
       "<!-- 1&#45;&gt;1 -->\n",
       "<g class=\"edge\" id=\"edge6\"><title>1-&gt;1</title>\n",
       "<path d=\"M115.142,-39.455C113.072,-48.4566 115.191,-57.4232 121.5,-57.4232 126.626,-57.4232 128.986,-51.5038 128.58,-44.4558\" fill=\"none\" stroke=\"black\"/>\n",
       "<polygon fill=\"black\" points=\"127.858,-39.455 130.8,-44.0818 128.215,-41.9293 128.573,-44.4036 128.573,-44.4036 128.573,-44.4036 128.215,-41.9293 126.346,-44.7254 127.858,-39.455 127.858,-39.455\" stroke=\"black\"/>\n",
       "<text font-family=\"Courier,monospace\" font-size=\"9.00\" text-anchor=\"start\" x=\"118.5\" y=\"-63.2232\">1</text>\n",
       "</g>\n",
       "<!-- 2 -->\n",
       "<g class=\"node\" id=\"node4\"><title>2</title>\n",
       "<path d=\"M199.333,-35.4232C199.333,-35.4232 189.667,-35.4232 189.667,-35.4232 186.833,-35.4232 184,-32.5898 184,-29.7565 184,-29.7565 184,-24.0898 184,-24.0898 184,-21.2565 186.833,-18.4232 189.667,-18.4232 189.667,-18.4232 199.333,-18.4232 199.333,-18.4232 202.167,-18.4232 205,-21.2565 205,-24.0898 205,-24.0898 205,-29.7565 205,-29.7565 205,-32.5898 202.167,-35.4232 199.333,-35.4232\" fill=\"none\" stroke=\"black\"/>\n",
       "<text font-family=\"Courier,monospace\" font-size=\"10.00\" text-anchor=\"middle\" x=\"194.5\" y=\"-24.4232\">q3</text>\n",
       "</g>\n",
       "<!-- 1&#45;&gt;2 -->\n",
       "<g class=\"edge\" id=\"edge5\"><title>1-&gt;2</title>\n",
       "<path d=\"M136.197,-29.9403C144.753,-31.4668 156.006,-32.8243 166,-31.9232 170.214,-31.5432 174.747,-30.8421 178.894,-30.0827\" fill=\"none\" stroke=\"black\"/>\n",
       "<polygon fill=\"black\" points=\"183.886,-29.1093 179.409,-32.2747 181.432,-29.5878 178.978,-30.0663 178.978,-30.0663 178.978,-30.0663 181.432,-29.5878 178.547,-27.8579 183.886,-29.1093 183.886,-29.1093\" stroke=\"black\"/>\n",
       "<text font-family=\"Courier,monospace\" font-size=\"9.00\" text-anchor=\"start\" x=\"157\" y=\"-37.7232\">0</text>\n",
       "</g>\n",
       "<!-- 2&#45;&gt;1 -->\n",
       "<g class=\"edge\" id=\"edge4\"><title>2-&gt;1</title>\n",
       "<path d=\"M186.868,-18.1823C181.86,-12.352 174.425,-5.18052 166,-1.92318 161.025,-0 159.036,-0.167587 154,-1.92318 148.448,-3.85871 143.139,-7.22643 138.516,-10.8745\" fill=\"none\" stroke=\"black\"/>\n",
       "<polygon fill=\"black\" points=\"134.474,-14.2706 136.855,-9.33134 136.388,-12.6623 138.302,-11.0539 138.302,-11.0539 138.302,-11.0539 136.388,-12.6623 139.75,-12.7765 134.474,-14.2706 134.474,-14.2706\" stroke=\"black\"/>\n",
       "<text font-family=\"Courier,monospace\" font-size=\"9.00\" text-anchor=\"start\" x=\"157\" y=\"-21.7232\">0</text>\n",
       "<text font-family=\"Courier,monospace\" font-size=\"9.00\" text-anchor=\"start\" x=\"157\" y=\"-7.72318\">1</text>\n",
       "</g>\n",
       "</g>\n",
       "</svg>"
      ],
      "text/plain": [
       "<IPython.core.display.SVG object>"
      ]
     },
     "execution_count": 5,
     "metadata": {},
     "output_type": "execute_result"
    }
   ],
   "source": [
    "m.display_graph()"
   ]
  },
  {
   "cell_type": "markdown",
   "metadata": {},
   "source": [
    "Now let's run the automaton on a string:"
   ]
  },
  {
   "cell_type": "code",
   "execution_count": 6,
   "metadata": {
    "collapsed": false
   },
   "outputs": [
    {
     "data": {
      "image/svg+xml": [
       "<svg height=\"343pt\" viewBox=\"0.00 0.00 218.00 343.00\" width=\"218pt\" xmlns=\"http://www.w3.org/2000/svg\" xmlns:xlink=\"http://www.w3.org/1999/xlink\">\n",
       "<g class=\"graph\" id=\"graph0\" transform=\"scale(1 1) rotate(0) translate(4 339)\">\n",
       "<title>%3</title>\n",
       "<polygon fill=\"white\" points=\"-4,4 -4,-339 214,-339 214,4 -4,4\" stroke=\"none\"/>\n",
       "<!-- 4376702704 -->\n",
       "<g class=\"node\" id=\"node1\"><title>4376702704</title>\n",
       "<path d=\"M72.3333,-335C72.3333,-335 62.6667,-335 62.6667,-335 59.8333,-335 57,-332.167 57,-329.333 57,-329.333 57,-323.667 57,-323.667 57,-320.833 59.8333,-318 62.6667,-318 62.6667,-318 72.3333,-318 72.3333,-318 75.1667,-318 78,-320.833 78,-323.667 78,-323.667 78,-329.333 78,-329.333 78,-332.167 75.1667,-335 72.3333,-335\" fill=\"none\" stroke=\"black\"/>\n",
       "<text font-family=\"Courier,monospace\" font-size=\"10.00\" text-anchor=\"start\" x=\"61\" y=\"-324\">q1</text>\n",
       "</g>\n",
       "<!-- 4386955704 -->\n",
       "<g class=\"node\" id=\"node8\"><title>4386955704</title>\n",
       "<path d=\"M72.3333,-282C72.3333,-282 62.6667,-282 62.6667,-282 59.8333,-282 57,-279.167 57,-276.333 57,-276.333 57,-270.667 57,-270.667 57,-267.833 59.8333,-265 62.6667,-265 62.6667,-265 72.3333,-265 72.3333,-265 75.1667,-265 78,-267.833 78,-270.667 78,-270.667 78,-276.333 78,-276.333 78,-279.167 75.1667,-282 72.3333,-282\" fill=\"none\" stroke=\"black\"/>\n",
       "<text font-family=\"Courier,monospace\" font-size=\"10.00\" text-anchor=\"start\" x=\"61\" y=\"-271\">q1</text>\n",
       "</g>\n",
       "<!-- 4376702704&#45;&gt;4386955704 -->\n",
       "<g class=\"edge\" id=\"edge7\"><title>4376702704-&gt;4386955704</title>\n",
       "<path d=\"M67.5,-317.975C67.5,-309.914 67.5,-296.979 67.5,-287.31\" fill=\"none\" stroke=\"black\"/>\n",
       "<polygon fill=\"black\" points=\"67.5,-282.056 69.7501,-287.056 67.5,-284.556 67.5001,-287.056 67.5001,-287.056 67.5001,-287.056 67.5,-284.556 65.2501,-287.056 67.5,-282.056 67.5,-282.056\" stroke=\"black\"/>\n",
       "</g>\n",
       "<!-- 4386957072 -->\n",
       "<g class=\"node\" id=\"node2\"><title>4386957072</title>\n",
       "<path d=\"M135.333,-17C135.333,-17 101.667,-17 101.667,-17 98.8333,-17 96,-14.1667 96,-11.3333 96,-11.3333 96,-5.66667 96,-5.66667 96,-2.83333 98.8333,-0 101.667,-0 101.667,-0 135.333,-0 135.333,-0 138.167,-0 141,-2.83333 141,-5.66667 141,-5.66667 141,-11.3333 141,-11.3333 141,-14.1667 138.167,-17 135.333,-17\" fill=\"none\" stroke=\"black\"/>\n",
       "<text font-family=\"Courier,monospace\" font-size=\"10.00\" text-anchor=\"start\" x=\"100\" y=\"-6\">ACCEPT</text>\n",
       "</g>\n",
       "<!-- 4386956640 -->\n",
       "<g class=\"node\" id=\"node3\"><title>4386956640</title>\n",
       "<path d=\"M72.3333,-70C72.3333,-70 62.6667,-70 62.6667,-70 59.8333,-70 57,-67.1667 57,-64.3333 57,-64.3333 57,-58.6667 57,-58.6667 57,-55.8333 59.8333,-53 62.6667,-53 62.6667,-53 72.3333,-53 72.3333,-53 75.1667,-53 78,-55.8333 78,-58.6667 78,-58.6667 78,-64.3333 78,-64.3333 78,-67.1667 75.1667,-70 72.3333,-70\" fill=\"none\" stroke=\"black\"/>\n",
       "<text font-family=\"Courier,monospace\" font-size=\"10.00\" text-anchor=\"start\" x=\"61\" y=\"-59\">q2</text>\n",
       "</g>\n",
       "<!-- 4386956856 -->\n",
       "<g class=\"node\" id=\"node5\"><title>4386956856</title>\n",
       "<path d=\"M72.3333,-17C72.3333,-17 62.6667,-17 62.6667,-17 59.8333,-17 57,-14.1667 57,-11.3333 57,-11.3333 57,-5.66667 57,-5.66667 57,-2.83333 59.8333,-0 62.6667,-0 62.6667,-0 72.3333,-0 72.3333,-0 75.1667,-0 78,-2.83333 78,-5.66667 78,-5.66667 78,-11.3333 78,-11.3333 78,-14.1667 75.1667,-17 72.3333,-17\" fill=\"none\" stroke=\"black\"/>\n",
       "<text font-family=\"Courier,monospace\" font-size=\"10.00\" text-anchor=\"start\" x=\"61\" y=\"-6\">q2</text>\n",
       "</g>\n",
       "<!-- 4386956640&#45;&gt;4386956856 -->\n",
       "<g class=\"edge\" id=\"edge4\"><title>4386956640-&gt;4386956856</title>\n",
       "<path d=\"M67.5,-52.9748C67.5,-44.9143 67.5,-31.9787 67.5,-22.3099\" fill=\"none\" stroke=\"black\"/>\n",
       "<polygon fill=\"black\" points=\"67.5,-17.0561 69.7501,-22.0561 67.5,-19.5561 67.5001,-22.0561 67.5001,-22.0561 67.5001,-22.0561 67.5,-19.5561 65.2501,-22.0561 67.5,-17.0561 67.5,-17.0561\" stroke=\"black\"/>\n",
       "</g>\n",
       "<!-- 4386955992 -->\n",
       "<g class=\"node\" id=\"node4\"><title>4386955992</title>\n",
       "<path d=\"M72.3333,-229C72.3333,-229 62.6667,-229 62.6667,-229 59.8333,-229 57,-226.167 57,-223.333 57,-223.333 57,-217.667 57,-217.667 57,-214.833 59.8333,-212 62.6667,-212 62.6667,-212 72.3333,-212 72.3333,-212 75.1667,-212 78,-214.833 78,-217.667 78,-217.667 78,-223.333 78,-223.333 78,-226.167 75.1667,-229 72.3333,-229\" fill=\"none\" stroke=\"black\"/>\n",
       "<text font-family=\"Courier,monospace\" font-size=\"10.00\" text-anchor=\"start\" x=\"61\" y=\"-218\">q1</text>\n",
       "</g>\n",
       "<!-- 4386956208 -->\n",
       "<g class=\"node\" id=\"node6\"><title>4386956208</title>\n",
       "<path d=\"M72.3333,-176C72.3333,-176 62.6667,-176 62.6667,-176 59.8333,-176 57,-173.167 57,-170.333 57,-170.333 57,-164.667 57,-164.667 57,-161.833 59.8333,-159 62.6667,-159 62.6667,-159 72.3333,-159 72.3333,-159 75.1667,-159 78,-161.833 78,-164.667 78,-164.667 78,-170.333 78,-170.333 78,-173.167 75.1667,-176 72.3333,-176\" fill=\"none\" stroke=\"black\"/>\n",
       "<text font-family=\"Courier,monospace\" font-size=\"10.00\" text-anchor=\"start\" x=\"61\" y=\"-165\">q1</text>\n",
       "</g>\n",
       "<!-- 4386955992&#45;&gt;4386956208 -->\n",
       "<g class=\"edge\" id=\"edge2\"><title>4386955992-&gt;4386956208</title>\n",
       "<path d=\"M67.5,-211.975C67.5,-203.914 67.5,-190.979 67.5,-181.31\" fill=\"none\" stroke=\"black\"/>\n",
       "<polygon fill=\"black\" points=\"67.5,-176.056 69.7501,-181.056 67.5,-178.556 67.5001,-181.056 67.5001,-181.056 67.5001,-181.056 67.5,-178.556 65.2501,-181.056 67.5,-176.056 67.5,-176.056\" stroke=\"black\"/>\n",
       "</g>\n",
       "<!-- 4386956856&#45;&gt;4386957072 -->\n",
       "<g class=\"edge\" id=\"edge3\"><title>4386956856-&gt;4386957072</title>\n",
       "<path d=\"M78.2578,-8.5C82.3842,-8.5 86.5106,-8.5 90.637,-8.5\" fill=\"none\" stroke=\"black\"/>\n",
       "<polygon fill=\"black\" points=\"95.8638,-8.5 90.8638,-10.7501 93.3638,-8.50005 90.8638,-8.5001 90.8638,-8.5001 90.8638,-8.5001 93.3638,-8.50005 90.8637,-6.2501 95.8638,-8.5 95.8638,-8.5\" stroke=\"black\"/>\n",
       "</g>\n",
       "<!-- 4386956424 -->\n",
       "<g class=\"node\" id=\"node9\"><title>4386956424</title>\n",
       "<path d=\"M72.3333,-123C72.3333,-123 62.6667,-123 62.6667,-123 59.8333,-123 57,-120.167 57,-117.333 57,-117.333 57,-111.667 57,-111.667 57,-108.833 59.8333,-106 62.6667,-106 62.6667,-106 72.3333,-106 72.3333,-106 75.1667,-106 78,-108.833 78,-111.667 78,-111.667 78,-117.333 78,-117.333 78,-120.167 75.1667,-123 72.3333,-123\" fill=\"none\" stroke=\"black\"/>\n",
       "<text font-family=\"Courier,monospace\" font-size=\"10.00\" text-anchor=\"start\" x=\"61\" y=\"-112\">q2</text>\n",
       "</g>\n",
       "<!-- 4386956208&#45;&gt;4386956424 -->\n",
       "<g class=\"edge\" id=\"edge1\"><title>4386956208-&gt;4386956424</title>\n",
       "<path d=\"M67.5,-158.975C67.5,-150.914 67.5,-137.979 67.5,-128.31\" fill=\"none\" stroke=\"black\"/>\n",
       "<polygon fill=\"black\" points=\"67.5,-123.056 69.7501,-128.056 67.5,-125.556 67.5001,-128.056 67.5001,-128.056 67.5001,-128.056 67.5,-125.556 65.2501,-128.056 67.5,-123.056 67.5,-123.056\" stroke=\"black\"/>\n",
       "</g>\n",
       "<!-- 4386926176 -->\n",
       "<g class=\"node\" id=\"node7\"><title>4386926176</title>\n",
       "<path d=\"M33.3333,-335C33.3333,-335 5.66667,-335 5.66667,-335 2.83333,-335 0,-332.167 0,-329.333 0,-329.333 0,-323.667 0,-323.667 0,-320.833 2.83333,-318 5.66667,-318 5.66667,-318 33.3333,-318 33.3333,-318 36.1667,-318 39,-320.833 39,-323.667 39,-323.667 39,-329.333 39,-329.333 39,-332.167 36.1667,-335 33.3333,-335\" fill=\"none\" stroke=\"black\"/>\n",
       "<text font-family=\"Courier,monospace\" font-size=\"10.00\" text-anchor=\"start\" x=\"4\" y=\"-324\">START</text>\n",
       "</g>\n",
       "<!-- 4386926176&#45;&gt;4376702704 -->\n",
       "<g class=\"edge\" id=\"edge5\"><title>4386926176-&gt;4376702704</title>\n",
       "<path d=\"M39.375,-326.5C43.4949,-326.5 47.6147,-326.5 51.7346,-326.5\" fill=\"none\" stroke=\"black\"/>\n",
       "<polygon fill=\"black\" points=\"56.9531,-326.5 51.9532,-328.75 54.4531,-326.5 51.9531,-326.5 51.9531,-326.5 51.9531,-326.5 54.4531,-326.5 51.9531,-324.25 56.9531,-326.5 56.9531,-326.5\" stroke=\"black\"/>\n",
       "</g>\n",
       "<!-- 4386955704&#45;&gt;4386955992 -->\n",
       "<g class=\"edge\" id=\"edge6\"><title>4386955704-&gt;4386955992</title>\n",
       "<path d=\"M67.5,-264.975C67.5,-256.914 67.5,-243.979 67.5,-234.31\" fill=\"none\" stroke=\"black\"/>\n",
       "<polygon fill=\"black\" points=\"67.5,-229.056 69.7501,-234.056 67.5,-231.556 67.5001,-234.056 67.5001,-234.056 67.5001,-234.056 67.5,-231.556 65.2501,-234.056 67.5,-229.056 67.5,-229.056\" stroke=\"black\"/>\n",
       "</g>\n",
       "<!-- 4386956424&#45;&gt;4386956640 -->\n",
       "<g class=\"edge\" id=\"edge8\"><title>4386956424-&gt;4386956640</title>\n",
       "<path d=\"M67.5,-105.975C67.5,-97.9143 67.5,-84.9787 67.5,-75.3099\" fill=\"none\" stroke=\"black\"/>\n",
       "<polygon fill=\"black\" points=\"67.5,-70.0561 69.7501,-75.0561 67.5,-72.5561 67.5001,-75.0561 67.5001,-75.0561 67.5001,-75.0561 67.5,-72.5561 65.2501,-75.0561 67.5,-70.0561 67.5,-70.0561\" stroke=\"black\"/>\n",
       "</g>\n",
       "<!-- rank0 -->\n",
       "<g class=\"node\" id=\"node10\"><title>rank0</title>\n",
       "<text font-family=\"Courier,monospace\" font-size=\"10.00\" text-anchor=\"start\" x=\"127\" y=\"-324\">[0] 0 0 1 1 1</text>\n",
       "</g>\n",
       "<!-- rank1 -->\n",
       "<g class=\"node\" id=\"node11\"><title>rank1</title>\n",
       "<text font-family=\"Courier,monospace\" font-size=\"10.00\" text-anchor=\"start\" x=\"133\" y=\"-271\">[0] 0 1 1 1</text>\n",
       "</g>\n",
       "<!-- rank0&#45;&gt;rank1 -->\n",
       "<!-- rank2 -->\n",
       "<g class=\"node\" id=\"node12\"><title>rank2</title>\n",
       "<text font-family=\"Courier,monospace\" font-size=\"10.00\" text-anchor=\"start\" x=\"139\" y=\"-218\">[0] 1 1 1</text>\n",
       "</g>\n",
       "<!-- rank1&#45;&gt;rank2 -->\n",
       "<!-- rank3 -->\n",
       "<g class=\"node\" id=\"node13\"><title>rank3</title>\n",
       "<text font-family=\"Courier,monospace\" font-size=\"10.00\" text-anchor=\"start\" x=\"145\" y=\"-165\">[1] 1 1</text>\n",
       "</g>\n",
       "<!-- rank2&#45;&gt;rank3 -->\n",
       "<!-- rank4 -->\n",
       "<g class=\"node\" id=\"node14\"><title>rank4</title>\n",
       "<text font-family=\"Courier,monospace\" font-size=\"10.00\" text-anchor=\"start\" x=\"151\" y=\"-112\">[1] 1</text>\n",
       "</g>\n",
       "<!-- rank3&#45;&gt;rank4 -->\n",
       "<!-- rank5 -->\n",
       "<g class=\"node\" id=\"node15\"><title>rank5</title>\n",
       "<text font-family=\"Courier,monospace\" font-size=\"10.00\" text-anchor=\"start\" x=\"163\" y=\"-59\">1</text>\n",
       "</g>\n",
       "<!-- rank4&#45;&gt;rank5 -->\n",
       "<!-- rank6 -->\n",
       "<g class=\"node\" id=\"node16\"><title>rank6</title>\n",
       "<text font-family=\"Courier,monospace\" font-size=\"10.00\" text-anchor=\"start\" x=\"163\" y=\"-6\">_</text>\n",
       "</g>\n",
       "<!-- rank5&#45;&gt;rank6 -->\n",
       "</g>\n",
       "</svg>"
      ],
      "text/plain": [
       "<IPython.core.display.SVG object>"
      ]
     },
     "metadata": {},
     "output_type": "display_data"
    }
   ],
   "source": [
    "m.run(\"0 0 0 1 1 1\")"
   ]
  },
  {
   "cell_type": "markdown",
   "metadata": {},
   "source": [
    "The run is displayed as another graph (for reasons that will be more clear when we get to nondeterminism). Each node says what state the machine is at a time step, and on the right is the input string, with the next symbol marked with square brackets. The `ACCEPT` node indicates that at the end of the input string, the machine was in a final state, so it accepted the string."
   ]
  },
  {
   "cell_type": "code",
   "execution_count": 7,
   "metadata": {
    "collapsed": false
   },
   "outputs": [
    {
     "data": {
      "image/svg+xml": [
       "<svg height=\"237pt\" viewBox=\"0.00 0.00 167.00 237.00\" width=\"167pt\" xmlns=\"http://www.w3.org/2000/svg\" xmlns:xlink=\"http://www.w3.org/1999/xlink\">\n",
       "<g class=\"graph\" id=\"graph0\" transform=\"scale(1 1) rotate(0) translate(4 233)\">\n",
       "<title>%3</title>\n",
       "<polygon fill=\"white\" points=\"-4,4 -4,-233 163,-233 163,4 -4,4\" stroke=\"none\"/>\n",
       "<!-- 4368729224 -->\n",
       "<g class=\"node\" id=\"node1\"><title>4368729224</title>\n",
       "<path d=\"M72.3333,-229C72.3333,-229 62.6667,-229 62.6667,-229 59.8333,-229 57,-226.167 57,-223.333 57,-223.333 57,-217.667 57,-217.667 57,-214.833 59.8333,-212 62.6667,-212 62.6667,-212 72.3333,-212 72.3333,-212 75.1667,-212 78,-214.833 78,-217.667 78,-217.667 78,-223.333 78,-223.333 78,-226.167 75.1667,-229 72.3333,-229\" fill=\"none\" stroke=\"black\"/>\n",
       "<text font-family=\"Courier,monospace\" font-size=\"10.00\" text-anchor=\"start\" x=\"61\" y=\"-218\">q1</text>\n",
       "</g>\n",
       "<!-- 4386957216 -->\n",
       "<g class=\"node\" id=\"node4\"><title>4386957216</title>\n",
       "<path d=\"M72.3333,-176C72.3333,-176 62.6667,-176 62.6667,-176 59.8333,-176 57,-173.167 57,-170.333 57,-170.333 57,-164.667 57,-164.667 57,-161.833 59.8333,-159 62.6667,-159 62.6667,-159 72.3333,-159 72.3333,-159 75.1667,-159 78,-161.833 78,-164.667 78,-164.667 78,-170.333 78,-170.333 78,-173.167 75.1667,-176 72.3333,-176\" fill=\"none\" stroke=\"black\"/>\n",
       "<text font-family=\"Courier,monospace\" font-size=\"10.00\" text-anchor=\"start\" x=\"61\" y=\"-165\">q2</text>\n",
       "</g>\n",
       "<!-- 4368729224&#45;&gt;4386957216 -->\n",
       "<g class=\"edge\" id=\"edge4\"><title>4368729224-&gt;4386957216</title>\n",
       "<path d=\"M67.5,-211.975C67.5,-203.914 67.5,-190.979 67.5,-181.31\" fill=\"none\" stroke=\"black\"/>\n",
       "<polygon fill=\"black\" points=\"67.5,-176.056 69.7501,-181.056 67.5,-178.556 67.5001,-181.056 67.5001,-181.056 67.5001,-181.056 67.5,-178.556 65.2501,-181.056 67.5,-176.056 67.5,-176.056\" stroke=\"black\"/>\n",
       "</g>\n",
       "<!-- 4386959160 -->\n",
       "<g class=\"node\" id=\"node2\"><title>4386959160</title>\n",
       "<path d=\"M72.3333,-70C72.3333,-70 62.6667,-70 62.6667,-70 59.8333,-70 57,-67.1667 57,-64.3333 57,-64.3333 57,-58.6667 57,-58.6667 57,-55.8333 59.8333,-53 62.6667,-53 62.6667,-53 72.3333,-53 72.3333,-53 75.1667,-53 78,-55.8333 78,-58.6667 78,-58.6667 78,-64.3333 78,-64.3333 78,-67.1667 75.1667,-70 72.3333,-70\" fill=\"none\" stroke=\"black\"/>\n",
       "<text font-family=\"Courier,monospace\" font-size=\"10.00\" text-anchor=\"start\" x=\"61\" y=\"-59\">q2</text>\n",
       "</g>\n",
       "<!-- 4386971728 -->\n",
       "<g class=\"node\" id=\"node3\"><title>4386971728</title>\n",
       "<path d=\"M72.3333,-17C72.3333,-17 62.6667,-17 62.6667,-17 59.8333,-17 57,-14.1667 57,-11.3333 57,-11.3333 57,-5.66667 57,-5.66667 57,-2.83333 59.8333,-0 62.6667,-0 62.6667,-0 72.3333,-0 72.3333,-0 75.1667,-0 78,-2.83333 78,-5.66667 78,-5.66667 78,-11.3333 78,-11.3333 78,-14.1667 75.1667,-17 72.3333,-17\" fill=\"none\" stroke=\"black\"/>\n",
       "<text font-family=\"Courier,monospace\" font-size=\"10.00\" text-anchor=\"start\" x=\"61\" y=\"-6\">q3</text>\n",
       "</g>\n",
       "<!-- 4386959160&#45;&gt;4386971728 -->\n",
       "<g class=\"edge\" id=\"edge5\"><title>4386959160-&gt;4386971728</title>\n",
       "<path d=\"M67.5,-52.9748C67.5,-44.9143 67.5,-31.9787 67.5,-22.3099\" fill=\"none\" stroke=\"black\"/>\n",
       "<polygon fill=\"black\" points=\"67.5,-17.0561 69.7501,-22.0561 67.5,-19.5561 67.5001,-22.0561 67.5001,-22.0561 67.5001,-22.0561 67.5,-19.5561 65.2501,-22.0561 67.5,-17.0561 67.5,-17.0561\" stroke=\"black\"/>\n",
       "</g>\n",
       "<!-- 4386957432 -->\n",
       "<g class=\"node\" id=\"node6\"><title>4386957432</title>\n",
       "<path d=\"M72.3333,-123C72.3333,-123 62.6667,-123 62.6667,-123 59.8333,-123 57,-120.167 57,-117.333 57,-117.333 57,-111.667 57,-111.667 57,-108.833 59.8333,-106 62.6667,-106 62.6667,-106 72.3333,-106 72.3333,-106 75.1667,-106 78,-108.833 78,-111.667 78,-111.667 78,-117.333 78,-117.333 78,-120.167 75.1667,-123 72.3333,-123\" fill=\"none\" stroke=\"black\"/>\n",
       "<text font-family=\"Courier,monospace\" font-size=\"10.00\" text-anchor=\"start\" x=\"61\" y=\"-112\">q3</text>\n",
       "</g>\n",
       "<!-- 4386957216&#45;&gt;4386957432 -->\n",
       "<g class=\"edge\" id=\"edge1\"><title>4386957216-&gt;4386957432</title>\n",
       "<path d=\"M67.5,-158.975C67.5,-150.914 67.5,-137.979 67.5,-128.31\" fill=\"none\" stroke=\"black\"/>\n",
       "<polygon fill=\"black\" points=\"67.5,-123.056 69.7501,-128.056 67.5,-125.556 67.5001,-128.056 67.5001,-128.056 67.5001,-128.056 67.5,-125.556 65.2501,-128.056 67.5,-123.056 67.5,-123.056\" stroke=\"black\"/>\n",
       "</g>\n",
       "<!-- 4386370552 -->\n",
       "<g class=\"node\" id=\"node5\"><title>4386370552</title>\n",
       "<path d=\"M33.3333,-229C33.3333,-229 5.66667,-229 5.66667,-229 2.83333,-229 0,-226.167 0,-223.333 0,-223.333 0,-217.667 0,-217.667 0,-214.833 2.83333,-212 5.66667,-212 5.66667,-212 33.3333,-212 33.3333,-212 36.1667,-212 39,-214.833 39,-217.667 39,-217.667 39,-223.333 39,-223.333 39,-226.167 36.1667,-229 33.3333,-229\" fill=\"none\" stroke=\"black\"/>\n",
       "<text font-family=\"Courier,monospace\" font-size=\"10.00\" text-anchor=\"start\" x=\"4\" y=\"-218\">START</text>\n",
       "</g>\n",
       "<!-- 4386370552&#45;&gt;4368729224 -->\n",
       "<g class=\"edge\" id=\"edge2\"><title>4386370552-&gt;4368729224</title>\n",
       "<path d=\"M39.375,-220.5C43.4949,-220.5 47.6147,-220.5 51.7346,-220.5\" fill=\"none\" stroke=\"black\"/>\n",
       "<polygon fill=\"black\" points=\"56.9531,-220.5 51.9532,-222.75 54.4531,-220.5 51.9531,-220.5 51.9531,-220.5 51.9531,-220.5 54.4531,-220.5 51.9531,-218.25 56.9531,-220.5 56.9531,-220.5\" stroke=\"black\"/>\n",
       "</g>\n",
       "<!-- 4386957432&#45;&gt;4386959160 -->\n",
       "<g class=\"edge\" id=\"edge3\"><title>4386957432-&gt;4386959160</title>\n",
       "<path d=\"M67.5,-105.975C67.5,-97.9143 67.5,-84.9787 67.5,-75.3099\" fill=\"none\" stroke=\"black\"/>\n",
       "<polygon fill=\"black\" points=\"67.5,-70.0561 69.7501,-75.0561 67.5,-72.5561 67.5001,-75.0561 67.5001,-75.0561 67.5001,-75.0561 67.5,-72.5561 65.2501,-75.0561 67.5,-70.0561 67.5,-70.0561\" stroke=\"black\"/>\n",
       "</g>\n",
       "<!-- rank0 -->\n",
       "<g class=\"node\" id=\"node7\"><title>rank0</title>\n",
       "<text font-family=\"Courier,monospace\" font-size=\"10.00\" text-anchor=\"start\" x=\"100\" y=\"-218\">[1] 0 0 0</text>\n",
       "</g>\n",
       "<!-- rank1 -->\n",
       "<g class=\"node\" id=\"node8\"><title>rank1</title>\n",
       "<text font-family=\"Courier,monospace\" font-size=\"10.00\" text-anchor=\"start\" x=\"106\" y=\"-165\">[0] 0 0</text>\n",
       "</g>\n",
       "<!-- rank0&#45;&gt;rank1 -->\n",
       "<!-- rank2 -->\n",
       "<g class=\"node\" id=\"node9\"><title>rank2</title>\n",
       "<text font-family=\"Courier,monospace\" font-size=\"10.00\" text-anchor=\"start\" x=\"112\" y=\"-112\">[0] 0</text>\n",
       "</g>\n",
       "<!-- rank1&#45;&gt;rank2 -->\n",
       "<!-- rank3 -->\n",
       "<g class=\"node\" id=\"node10\"><title>rank3</title>\n",
       "<text font-family=\"Courier,monospace\" font-size=\"10.00\" text-anchor=\"middle\" x=\"127.5\" y=\"-59\">0</text>\n",
       "</g>\n",
       "<!-- rank2&#45;&gt;rank3 -->\n",
       "<!-- rank4 -->\n",
       "<g class=\"node\" id=\"node11\"><title>rank4</title>\n",
       "<text font-family=\"Courier,monospace\" font-size=\"10.00\" text-anchor=\"start\" x=\"124\" y=\"-6\">_</text>\n",
       "</g>\n",
       "<!-- rank3&#45;&gt;rank4 -->\n",
       "</g>\n",
       "</svg>"
      ],
      "text/plain": [
       "<IPython.core.display.SVG object>"
      ]
     },
     "metadata": {},
     "output_type": "display_data"
    }
   ],
   "source": [
    "m.run(\"1 0 0 0\")"
   ]
  },
  {
   "cell_type": "markdown",
   "metadata": {},
   "source": [
    "This time, the fact that the run doesn't end with `ACCEPT` means that the string was rejected."
   ]
  }
 ],
 "metadata": {
  "kernelspec": {
   "display_name": "Python 2",
   "language": "python",
   "name": "python2"
  },
  "language_info": {
   "codemirror_mode": {
    "name": "ipython",
    "version": 2
   },
   "file_extension": ".py",
   "mimetype": "text/x-python",
   "name": "python",
   "nbconvert_exporter": "python",
   "pygments_lexer": "ipython2",
   "version": "2.7.10"
  }
 },
 "nbformat": 4,
 "nbformat_minor": 0
}
