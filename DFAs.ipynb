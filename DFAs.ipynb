{
 "cells": [
  {
   "cell_type": "code",
   "execution_count": 1,
   "metadata": {
    "collapsed": true
   },
   "outputs": [],
   "source": [
    "from tock import *"
   ]
  },
  {
   "cell_type": "markdown",
   "metadata": {},
   "source": [
    "# Deterministic finite automata"
   ]
  },
  {
   "cell_type": "markdown",
   "metadata": {},
   "source": [
    "A deterministic finite automaton is a machine that can be in one state at a time, out of a finite set of states. It reads in symbols one at a time, and each symbol may cause it to change to a new state. When the machine has read the whole input string, it either accepts the string or rejects it.\n",
    "\n",
    "The DFA in Figure 1.6 is:"
   ]
  },
  {
   "cell_type": "code",
   "execution_count": 2,
   "metadata": {
    "collapsed": false
   },
   "outputs": [
    {
     "data": {
      "text/html": [
       "<table style=\"font-family: Courier, monospace;\">\n",
       "  <tr><td></td><th>0</th><th>1</th></tr>\n",
       "  <tr><th>&gt;q1</th><td>q1</td><td>q2</td></tr>\n",
       "  <tr><th>@q2</th><td>q3</td><td>q2</td></tr>\n",
       "  <tr><th>q3</th><td>q2</td><td>q2</td></tr>\n",
       "</table>\n"
      ],
      "text/plain": [
       "<IPython.core.display.HTML object>"
      ]
     },
     "execution_count": 2,
     "metadata": {},
     "output_type": "execute_result"
    }
   ],
   "source": [
    "m = read_csv(\"examples/dfa.csv\")\n",
    "m.display_table()"
   ]
  },
  {
   "cell_type": "markdown",
   "metadata": {},
   "source": [
    "This machine has three states, listed in the first column: `q1`, `q2`, and `q3`. The `>` means that `q1` is the start state (the state the machine starts in), and the `@` means that `q2` is a final state (meaning that when the machine has read all of the input, it accepts the input iff it is in a final state). These symbols are not part of the state name.\n",
    "\n",
    "The first row lists all possible input symbols (here, `0` and `1`), and the interior cells indicate what the new state should be after reading a symbol. For example, if the machine is in state `q1` and reads a `1`, then it changes to state `q2`.\n",
    "\n",
    "It's more convenient to visualize the automaton's operation using a state transition diagram:"
   ]
  },
  {
   "cell_type": "code",
   "execution_count": 3,
   "metadata": {
    "collapsed": false
   },
   "outputs": [
    {
     "data": {
      "image/svg+xml": [
       "<svg height=\"80pt\" viewBox=\"0.00 0.00 213.00 80.42\" width=\"213pt\" xmlns=\"http://www.w3.org/2000/svg\" xmlns:xlink=\"http://www.w3.org/1999/xlink\">\n",
       "<g class=\"graph\" id=\"graph0\" transform=\"scale(1 1) rotate(0) translate(4 76.4232)\">\n",
       "<title>%3</title>\n",
       "<polygon fill=\"white\" points=\"-4,4 -4,-76.4232 209,-76.4232 209,4 -4,4\" stroke=\"none\"/>\n",
       "<!-- 0 -->\n",
       "<g class=\"node\" id=\"node1\"><title>0</title>\n",
       "<path d=\"M54,-34.4232C54,-34.4232 43,-34.4232 43,-34.4232 40.5,-34.4232 38,-31.9232 38,-29.4232 38,-29.4232 38,-24.4232 38,-24.4232 38,-21.9232 40.5,-19.4232 43,-19.4232 43,-19.4232 54,-19.4232 54,-19.4232 56.5,-19.4232 59,-21.9232 59,-24.4232 59,-24.4232 59,-29.4232 59,-29.4232 59,-31.9232 56.5,-34.4232 54,-34.4232\" fill=\"none\" stroke=\"black\"/>\n",
       "<text font-family=\"Courier,monospace\" font-size=\"10.00\" text-anchor=\"middle\" x=\"48.5\" y=\"-24.4232\">q1</text>\n",
       "</g>\n",
       "<!-- 0&#45;&gt;0 -->\n",
       "<g class=\"edge\" id=\"edge3\"><title>0-&gt;0</title>\n",
       "<path d=\"M44.5625,-34.4935C41.9375,-42.8607 43.25,-52.4232 48.5,-52.4232 52.0273,-52.4232 53.7772,-48.1065 53.7497,-42.736\" fill=\"none\" stroke=\"black\"/>\n",
       "<polygon fill=\"black\" points=\"52.4375,-34.4935 57.2506,-41.828 53.0664,-38.4438 53.6953,-42.394 53.6953,-42.394 53.6953,-42.394 53.0664,-38.4438 50.1401,-42.96 52.4375,-34.4935 52.4375,-34.4935\" stroke=\"black\"/>\n",
       "<text font-family=\"Courier,monospace\" font-size=\"9.00\" text-anchor=\"start\" x=\"45.5\" y=\"-58.2232\">0</text>\n",
       "</g>\n",
       "<!-- 2 -->\n",
       "<g class=\"node\" id=\"node4\"><title>2</title>\n",
       "<path d=\"M127,-34.4232C127,-34.4232 116,-34.4232 116,-34.4232 113.5,-34.4232 111,-31.9232 111,-29.4232 111,-29.4232 111,-24.4232 111,-24.4232 111,-21.9232 113.5,-19.4232 116,-19.4232 116,-19.4232 127,-19.4232 127,-19.4232 129.5,-19.4232 132,-21.9232 132,-24.4232 132,-24.4232 132,-29.4232 132,-29.4232 132,-31.9232 129.5,-34.4232 127,-34.4232\" fill=\"none\" stroke=\"black\"/>\n",
       "<path d=\"M128.333,-38.4232C128.333,-38.4232 114.667,-38.4232 114.667,-38.4232 110.833,-38.4232 107,-34.5898 107,-30.7565 107,-30.7565 107,-23.0898 107,-23.0898 107,-19.2565 110.833,-15.4232 114.667,-15.4232 114.667,-15.4232 128.333,-15.4232 128.333,-15.4232 132.167,-15.4232 136,-19.2565 136,-23.0898 136,-23.0898 136,-30.7565 136,-30.7565 136,-34.5898 132.167,-38.4232 128.333,-38.4232\" fill=\"none\" stroke=\"black\"/>\n",
       "<text font-family=\"Courier,monospace\" font-size=\"10.00\" text-anchor=\"middle\" x=\"121.5\" y=\"-24.4232\">q2</text>\n",
       "</g>\n",
       "<!-- 0&#45;&gt;2 -->\n",
       "<g class=\"edge\" id=\"edge2\"><title>0-&gt;2</title>\n",
       "<path d=\"M59.0754,-26.9232C69.1977,-26.9232 85.5031,-26.9232 98.7712,-26.9232\" fill=\"none\" stroke=\"black\"/>\n",
       "<polygon fill=\"black\" points=\"106.956,-26.9232 98.9561,-30.5233 102.956,-26.9232 98.9561,-26.9233 98.9561,-26.9233 98.9561,-26.9233 102.956,-26.9232 98.956,-23.3233 106.956,-26.9232 106.956,-26.9232\" stroke=\"black\"/>\n",
       "<text font-family=\"Courier,monospace\" font-size=\"9.00\" text-anchor=\"start\" x=\"80\" y=\"-32.7232\">1</text>\n",
       "</g>\n",
       "<!-- START -->\n",
       "<g class=\"node\" id=\"node2\"><title>START</title>\n",
       "</g>\n",
       "<!-- START&#45;&gt;0 -->\n",
       "<g class=\"edge\" id=\"edge1\"><title>START-&gt;0</title>\n",
       "<path d=\"M1.13339,-26.9232C2.67424,-26.9232 17.2724,-26.9232 29.6829,-26.9232\" fill=\"none\" stroke=\"black\"/>\n",
       "<polygon fill=\"black\" points=\"37.7379,-26.9232 29.738,-30.5233 33.7379,-26.9232 29.7379,-26.9233 29.7379,-26.9233 29.7379,-26.9233 33.7379,-26.9232 29.7379,-23.3233 37.7379,-26.9232 37.7379,-26.9232\" stroke=\"black\"/>\n",
       "</g>\n",
       "<!-- 1 -->\n",
       "<g class=\"node\" id=\"node3\"><title>1</title>\n",
       "<path d=\"M200,-34.4232C200,-34.4232 189,-34.4232 189,-34.4232 186.5,-34.4232 184,-31.9232 184,-29.4232 184,-29.4232 184,-24.4232 184,-24.4232 184,-21.9232 186.5,-19.4232 189,-19.4232 189,-19.4232 200,-19.4232 200,-19.4232 202.5,-19.4232 205,-21.9232 205,-24.4232 205,-24.4232 205,-29.4232 205,-29.4232 205,-31.9232 202.5,-34.4232 200,-34.4232\" fill=\"none\" stroke=\"black\"/>\n",
       "<text font-family=\"Courier,monospace\" font-size=\"10.00\" text-anchor=\"middle\" x=\"194.5\" y=\"-24.4232\">q3</text>\n",
       "</g>\n",
       "<!-- 1&#45;&gt;2 -->\n",
       "<g class=\"edge\" id=\"edge4\"><title>1-&gt;2</title>\n",
       "<path d=\"M187.702,-19.1676C182.706,-13.1843 174.907,-5.36666 166,-1.92318 161.025,-0 159.036,-0.167587 154,-1.92318 148.895,-3.70287 143.996,-6.69339 139.646,-9.99937\" fill=\"none\" stroke=\"black\"/>\n",
       "<polygon fill=\"black\" points=\"133.31,-15.3255 137.117,-7.42181 136.372,-12.7514 139.434,-10.1774 139.434,-10.1774 139.434,-10.1774 136.372,-12.7514 141.75,-12.933 133.31,-15.3255 133.31,-15.3255\" stroke=\"black\"/>\n",
       "<text font-family=\"Courier,monospace\" font-size=\"9.00\" text-anchor=\"start\" x=\"157\" y=\"-21.7232\">0</text>\n",
       "<text font-family=\"Courier,monospace\" font-size=\"9.00\" text-anchor=\"start\" x=\"157\" y=\"-7.72318\">1</text>\n",
       "</g>\n",
       "<!-- 2&#45;&gt;1 -->\n",
       "<g class=\"edge\" id=\"edge5\"><title>2-&gt;1</title>\n",
       "<path d=\"M136.197,-29.9403C144.753,-31.4668 156.006,-32.8243 166,-31.9232 169.184,-31.6361 172.55,-31.1657 175.794,-30.6253\" fill=\"none\" stroke=\"black\"/>\n",
       "<polygon fill=\"black\" points=\"183.886,-29.1093 176.685,-34.121 179.954,-29.8459 176.022,-30.5825 176.022,-30.5825 176.022,-30.5825 179.954,-29.8459 175.359,-27.0441 183.886,-29.1093 183.886,-29.1093\" stroke=\"black\"/>\n",
       "<text font-family=\"Courier,monospace\" font-size=\"9.00\" text-anchor=\"start\" x=\"157\" y=\"-37.7232\">0</text>\n",
       "</g>\n",
       "<!-- 2&#45;&gt;2 -->\n",
       "<g class=\"edge\" id=\"edge6\"><title>2-&gt;2</title>\n",
       "<path d=\"M115.295,-38.4296C112.975,-47.3377 115.043,-56.4232 121.5,-56.4232 125.939,-56.4232 128.304,-52.1289 128.594,-46.5502\" fill=\"none\" stroke=\"black\"/>\n",
       "<polygon fill=\"black\" points=\"127.705,-38.4296 132.155,-45.9899 128.14,-42.4058 128.576,-46.382 128.576,-46.382 128.576,-46.382 128.14,-42.4058 124.998,-46.7741 127.705,-38.4296 127.705,-38.4296\" stroke=\"black\"/>\n",
       "<text font-family=\"Courier,monospace\" font-size=\"9.00\" text-anchor=\"start\" x=\"118.5\" y=\"-62.2232\">1</text>\n",
       "</g>\n",
       "</g>\n",
       "</svg>"
      ],
      "text/plain": [
       "<IPython.core.display.SVG object>"
      ]
     },
     "execution_count": 3,
     "metadata": {},
     "output_type": "execute_result"
    }
   ],
   "source": [
    "m.display_graph()"
   ]
  },
  {
   "cell_type": "markdown",
   "metadata": {},
   "source": [
    "Now let's run the automaton on a string:"
   ]
  },
  {
   "cell_type": "code",
   "execution_count": 4,
   "metadata": {
    "collapsed": false
   },
   "outputs": [
    {
     "data": {
      "image/svg+xml": [
       "<svg height=\"329pt\" viewBox=\"0.00 0.00 218.00 329.00\" width=\"218pt\" xmlns=\"http://www.w3.org/2000/svg\" xmlns:xlink=\"http://www.w3.org/1999/xlink\">\n",
       "<g class=\"graph\" id=\"graph0\" transform=\"scale(1 1) rotate(0) translate(4 325)\">\n",
       "<title>%3</title>\n",
       "<polygon fill=\"white\" points=\"-4,4 -4,-325 214,-325 214,4 -4,4\" stroke=\"none\"/>\n",
       "<!-- 4597656968 -->\n",
       "<g class=\"node\" id=\"node1\"><title>4597656968</title>\n",
       "<path d=\"M73,-321C73,-321 62,-321 62,-321 59.5,-321 57,-318.5 57,-316 57,-316 57,-311 57,-311 57,-308.5 59.5,-306 62,-306 62,-306 73,-306 73,-306 75.5,-306 78,-308.5 78,-311 78,-311 78,-316 78,-316 78,-318.5 75.5,-321 73,-321\" fill=\"none\" stroke=\"black\"/>\n",
       "<text font-family=\"Courier,monospace\" font-size=\"10.00\" text-anchor=\"start\" x=\"61\" y=\"-311\">q1</text>\n",
       "</g>\n",
       "<!-- 4597231128 -->\n",
       "<g class=\"node\" id=\"node8\"><title>4597231128</title>\n",
       "<path d=\"M73,-270C73,-270 62,-270 62,-270 59.5,-270 57,-267.5 57,-265 57,-265 57,-260 57,-260 57,-257.5 59.5,-255 62,-255 62,-255 73,-255 73,-255 75.5,-255 78,-257.5 78,-260 78,-260 78,-265 78,-265 78,-267.5 75.5,-270 73,-270\" fill=\"none\" stroke=\"black\"/>\n",
       "<text font-family=\"Courier,monospace\" font-size=\"10.00\" text-anchor=\"start\" x=\"61\" y=\"-260\">q1</text>\n",
       "</g>\n",
       "<!-- 4597656968&#45;&gt;4597231128 -->\n",
       "<g class=\"edge\" id=\"edge7\"><title>4597656968-&gt;4597231128</title>\n",
       "<path d=\"M67.5,-305.687C67.5,-298.666 67.5,-287.495 67.5,-278.412\" fill=\"none\" stroke=\"black\"/>\n",
       "<polygon fill=\"black\" points=\"67.5,-270.255 71.1001,-278.255 67.5,-274.255 67.5001,-278.255 67.5001,-278.255 67.5001,-278.255 67.5,-274.255 63.9001,-278.255 67.5,-270.255 67.5,-270.255\" stroke=\"black\"/>\n",
       "</g>\n",
       "<!-- 4597229616 -->\n",
       "<g class=\"node\" id=\"node2\"><title>4597229616</title>\n",
       "<path d=\"M136,-15C136,-15 101,-15 101,-15 98.5,-15 96,-12.5 96,-10 96,-10 96,-5 96,-5 96,-2.5 98.5,-8.88178e-16 101,-8.88178e-16 101,-8.88178e-16 136,-8.88178e-16 136,-8.88178e-16 138.5,-8.88178e-16 141,-2.5 141,-5 141,-5 141,-10 141,-10 141,-12.5 138.5,-15 136,-15\" fill=\"none\" stroke=\"black\"/>\n",
       "<text font-family=\"Courier,monospace\" font-size=\"10.00\" text-anchor=\"start\" x=\"100\" y=\"-5\">ACCEPT</text>\n",
       "</g>\n",
       "<!-- 4597230912 -->\n",
       "<g class=\"node\" id=\"node3\"><title>4597230912</title>\n",
       "<path d=\"M73,-66C73,-66 62,-66 62,-66 59.5,-66 57,-63.5 57,-61 57,-61 57,-56 57,-56 57,-53.5 59.5,-51 62,-51 62,-51 73,-51 73,-51 75.5,-51 78,-53.5 78,-56 78,-56 78,-61 78,-61 78,-63.5 75.5,-66 73,-66\" fill=\"none\" stroke=\"black\"/>\n",
       "<text font-family=\"Courier,monospace\" font-size=\"10.00\" text-anchor=\"start\" x=\"61\" y=\"-56\">q2</text>\n",
       "</g>\n",
       "<!-- 4597228680 -->\n",
       "<g class=\"node\" id=\"node5\"><title>4597228680</title>\n",
       "<path d=\"M73,-15C73,-15 62,-15 62,-15 59.5,-15 57,-12.5 57,-10 57,-10 57,-5 57,-5 57,-2.5 59.5,-8.88178e-16 62,-8.88178e-16 62,-8.88178e-16 73,-8.88178e-16 73,-8.88178e-16 75.5,-8.88178e-16 78,-2.5 78,-5 78,-5 78,-10 78,-10 78,-12.5 75.5,-15 73,-15\" fill=\"none\" stroke=\"black\"/>\n",
       "<text font-family=\"Courier,monospace\" font-size=\"10.00\" text-anchor=\"start\" x=\"61\" y=\"-5\">q2</text>\n",
       "</g>\n",
       "<!-- 4597230912&#45;&gt;4597228680 -->\n",
       "<g class=\"edge\" id=\"edge4\"><title>4597230912-&gt;4597228680</title>\n",
       "<path d=\"M67.5,-50.6868C67.5,-43.6656 67.5,-32.4947 67.5,-23.4116\" fill=\"none\" stroke=\"black\"/>\n",
       "<polygon fill=\"black\" points=\"67.5,-15.2554 71.1001,-23.2553 67.5,-19.2554 67.5001,-23.2554 67.5001,-23.2554 67.5001,-23.2554 67.5,-19.2554 63.9001,-23.2554 67.5,-15.2554 67.5,-15.2554\" stroke=\"black\"/>\n",
       "</g>\n",
       "<!-- 4597231344 -->\n",
       "<g class=\"node\" id=\"node4\"><title>4597231344</title>\n",
       "<path d=\"M73,-219C73,-219 62,-219 62,-219 59.5,-219 57,-216.5 57,-214 57,-214 57,-209 57,-209 57,-206.5 59.5,-204 62,-204 62,-204 73,-204 73,-204 75.5,-204 78,-206.5 78,-209 78,-209 78,-214 78,-214 78,-216.5 75.5,-219 73,-219\" fill=\"none\" stroke=\"black\"/>\n",
       "<text font-family=\"Courier,monospace\" font-size=\"10.00\" text-anchor=\"start\" x=\"61\" y=\"-209\">q1</text>\n",
       "</g>\n",
       "<!-- 4597230552 -->\n",
       "<g class=\"node\" id=\"node6\"><title>4597230552</title>\n",
       "<path d=\"M73,-168C73,-168 62,-168 62,-168 59.5,-168 57,-165.5 57,-163 57,-163 57,-158 57,-158 57,-155.5 59.5,-153 62,-153 62,-153 73,-153 73,-153 75.5,-153 78,-155.5 78,-158 78,-158 78,-163 78,-163 78,-165.5 75.5,-168 73,-168\" fill=\"none\" stroke=\"black\"/>\n",
       "<text font-family=\"Courier,monospace\" font-size=\"10.00\" text-anchor=\"start\" x=\"61\" y=\"-158\">q1</text>\n",
       "</g>\n",
       "<!-- 4597231344&#45;&gt;4597230552 -->\n",
       "<g class=\"edge\" id=\"edge2\"><title>4597231344-&gt;4597230552</title>\n",
       "<path d=\"M67.5,-203.687C67.5,-196.666 67.5,-185.495 67.5,-176.412\" fill=\"none\" stroke=\"black\"/>\n",
       "<polygon fill=\"black\" points=\"67.5,-168.255 71.1001,-176.255 67.5,-172.255 67.5001,-176.255 67.5001,-176.255 67.5001,-176.255 67.5,-172.255 63.9001,-176.255 67.5,-168.255 67.5,-168.255\" stroke=\"black\"/>\n",
       "</g>\n",
       "<!-- 4597228680&#45;&gt;4597229616 -->\n",
       "<g class=\"edge\" id=\"edge3\"><title>4597228680-&gt;4597229616</title>\n",
       "<path d=\"M78.2578,-7.5C81.3755,-7.5 84.4933,-7.5 87.611,-7.5\" fill=\"none\" stroke=\"black\"/>\n",
       "<polygon fill=\"black\" points=\"95.8638,-7.5 87.8638,-11.1001 91.8638,-7.50005 87.8638,-7.5001 87.8638,-7.5001 87.8638,-7.5001 91.8638,-7.50005 87.8637,-3.9001 95.8638,-7.5 95.8638,-7.5\" stroke=\"black\"/>\n",
       "</g>\n",
       "<!-- 4597230408 -->\n",
       "<g class=\"node\" id=\"node9\"><title>4597230408</title>\n",
       "<path d=\"M73,-117C73,-117 62,-117 62,-117 59.5,-117 57,-114.5 57,-112 57,-112 57,-107 57,-107 57,-104.5 59.5,-102 62,-102 62,-102 73,-102 73,-102 75.5,-102 78,-104.5 78,-107 78,-107 78,-112 78,-112 78,-114.5 75.5,-117 73,-117\" fill=\"none\" stroke=\"black\"/>\n",
       "<text font-family=\"Courier,monospace\" font-size=\"10.00\" text-anchor=\"start\" x=\"61\" y=\"-107\">q2</text>\n",
       "</g>\n",
       "<!-- 4597230552&#45;&gt;4597230408 -->\n",
       "<g class=\"edge\" id=\"edge1\"><title>4597230552-&gt;4597230408</title>\n",
       "<path d=\"M67.5,-152.687C67.5,-145.666 67.5,-134.495 67.5,-125.412\" fill=\"none\" stroke=\"black\"/>\n",
       "<polygon fill=\"black\" points=\"67.5,-117.255 71.1001,-125.255 67.5,-121.255 67.5001,-125.255 67.5001,-125.255 67.5001,-125.255 67.5,-121.255 63.9001,-125.255 67.5,-117.255 67.5,-117.255\" stroke=\"black\"/>\n",
       "</g>\n",
       "<!-- 4597230120 -->\n",
       "<g class=\"node\" id=\"node7\"><title>4597230120</title>\n",
       "<path d=\"M34,-321C34,-321 5,-321 5,-321 2.5,-321 0,-318.5 0,-316 0,-316 0,-311 0,-311 0,-308.5 2.5,-306 5,-306 5,-306 34,-306 34,-306 36.5,-306 39,-308.5 39,-311 39,-311 39,-316 39,-316 39,-318.5 36.5,-321 34,-321\" fill=\"none\" stroke=\"black\"/>\n",
       "<text font-family=\"Courier,monospace\" font-size=\"10.00\" text-anchor=\"start\" x=\"4\" y=\"-311\">START</text>\n",
       "</g>\n",
       "<!-- 4597230120&#45;&gt;4597656968 -->\n",
       "<g class=\"edge\" id=\"edge5\"><title>4597230120-&gt;4597656968</title>\n",
       "<path d=\"M39.375,-313.5C42.4878,-313.5 45.6006,-313.5 48.7134,-313.5\" fill=\"none\" stroke=\"black\"/>\n",
       "<polygon fill=\"black\" points=\"56.9531,-313.5 48.9532,-317.1 52.9531,-313.5 48.9531,-313.5 48.9531,-313.5 48.9531,-313.5 52.9531,-313.5 48.9531,-309.9 56.9531,-313.5 56.9531,-313.5\" stroke=\"black\"/>\n",
       "</g>\n",
       "<!-- 4597231128&#45;&gt;4597231344 -->\n",
       "<g class=\"edge\" id=\"edge6\"><title>4597231128-&gt;4597231344</title>\n",
       "<path d=\"M67.5,-254.687C67.5,-247.666 67.5,-236.495 67.5,-227.412\" fill=\"none\" stroke=\"black\"/>\n",
       "<polygon fill=\"black\" points=\"67.5,-219.255 71.1001,-227.255 67.5,-223.255 67.5001,-227.255 67.5001,-227.255 67.5001,-227.255 67.5,-223.255 63.9001,-227.255 67.5,-219.255 67.5,-219.255\" stroke=\"black\"/>\n",
       "</g>\n",
       "<!-- 4597230408&#45;&gt;4597230912 -->\n",
       "<g class=\"edge\" id=\"edge8\"><title>4597230408-&gt;4597230912</title>\n",
       "<path d=\"M67.5,-101.687C67.5,-94.6656 67.5,-83.4947 67.5,-74.4116\" fill=\"none\" stroke=\"black\"/>\n",
       "<polygon fill=\"black\" points=\"67.5,-66.2554 71.1001,-74.2553 67.5,-70.2554 67.5001,-74.2554 67.5001,-74.2554 67.5001,-74.2554 67.5,-70.2554 63.9001,-74.2554 67.5,-66.2554 67.5,-66.2554\" stroke=\"black\"/>\n",
       "</g>\n",
       "<!-- rank0 -->\n",
       "<g class=\"node\" id=\"node10\"><title>rank0</title>\n",
       "<text font-family=\"Courier,monospace\" font-size=\"10.00\" text-anchor=\"start\" x=\"127\" y=\"-311\">[0] 0 0 1 1 1</text>\n",
       "</g>\n",
       "<!-- rank1 -->\n",
       "<g class=\"node\" id=\"node11\"><title>rank1</title>\n",
       "<text font-family=\"Courier,monospace\" font-size=\"10.00\" text-anchor=\"start\" x=\"133\" y=\"-260\">[0] 0 1 1 1</text>\n",
       "</g>\n",
       "<!-- rank0&#45;&gt;rank1 -->\n",
       "<!-- rank2 -->\n",
       "<g class=\"node\" id=\"node12\"><title>rank2</title>\n",
       "<text font-family=\"Courier,monospace\" font-size=\"10.00\" text-anchor=\"start\" x=\"139\" y=\"-209\">[0] 1 1 1</text>\n",
       "</g>\n",
       "<!-- rank1&#45;&gt;rank2 -->\n",
       "<!-- rank3 -->\n",
       "<g class=\"node\" id=\"node13\"><title>rank3</title>\n",
       "<text font-family=\"Courier,monospace\" font-size=\"10.00\" text-anchor=\"start\" x=\"145\" y=\"-158\">[1] 1 1</text>\n",
       "</g>\n",
       "<!-- rank2&#45;&gt;rank3 -->\n",
       "<!-- rank4 -->\n",
       "<g class=\"node\" id=\"node14\"><title>rank4</title>\n",
       "<text font-family=\"Courier,monospace\" font-size=\"10.00\" text-anchor=\"start\" x=\"151\" y=\"-107\">[1] 1</text>\n",
       "</g>\n",
       "<!-- rank3&#45;&gt;rank4 -->\n",
       "<!-- rank5 -->\n",
       "<g class=\"node\" id=\"node15\"><title>rank5</title>\n",
       "<text font-family=\"Courier,monospace\" font-size=\"10.00\" text-anchor=\"start\" x=\"163\" y=\"-56\">1</text>\n",
       "</g>\n",
       "<!-- rank4&#45;&gt;rank5 -->\n",
       "<!-- rank6 -->\n",
       "<g class=\"node\" id=\"node16\"><title>rank6</title>\n",
       "<text font-family=\"Courier,monospace\" font-size=\"10.00\" text-anchor=\"start\" x=\"163\" y=\"-5\">_</text>\n",
       "</g>\n",
       "<!-- rank5&#45;&gt;rank6 -->\n",
       "</g>\n",
       "</svg>"
      ],
      "text/plain": [
       "<IPython.core.display.SVG object>"
      ]
     },
     "metadata": {},
     "output_type": "display_data"
    }
   ],
   "source": [
    "m.run(\"000111\")"
   ]
  },
  {
   "cell_type": "markdown",
   "metadata": {},
   "source": [
    "The run is displayed as another graph (for reasons that will be more clear when we get to nondeterminism). Each node says what state the machine is at a time step, and on the right is the input string, with the next symbol marked with square brackets. The `ACCEPT` node indicates that at the end of the input string, the machine was in a final state, so it accepted the string."
   ]
  },
  {
   "cell_type": "code",
   "execution_count": 5,
   "metadata": {
    "collapsed": false
   },
   "outputs": [
    {
     "data": {
      "image/svg+xml": [
       "<svg height=\"227pt\" viewBox=\"0.00 0.00 167.00 227.00\" width=\"167pt\" xmlns=\"http://www.w3.org/2000/svg\" xmlns:xlink=\"http://www.w3.org/1999/xlink\">\n",
       "<g class=\"graph\" id=\"graph0\" transform=\"scale(1 1) rotate(0) translate(4 223)\">\n",
       "<title>%3</title>\n",
       "<polygon fill=\"white\" points=\"-4,4 -4,-223 163,-223 163,4 -4,4\" stroke=\"none\"/>\n",
       "<!-- 4578744152 -->\n",
       "<g class=\"node\" id=\"node1\"><title>4578744152</title>\n",
       "<path d=\"M73,-219C73,-219 62,-219 62,-219 59.5,-219 57,-216.5 57,-214 57,-214 57,-209 57,-209 57,-206.5 59.5,-204 62,-204 62,-204 73,-204 73,-204 75.5,-204 78,-206.5 78,-209 78,-209 78,-214 78,-214 78,-216.5 75.5,-219 73,-219\" fill=\"none\" stroke=\"black\"/>\n",
       "<text font-family=\"Courier,monospace\" font-size=\"10.00\" text-anchor=\"start\" x=\"61\" y=\"-209\">q1</text>\n",
       "</g>\n",
       "<!-- 4597229112 -->\n",
       "<g class=\"node\" id=\"node4\"><title>4597229112</title>\n",
       "<path d=\"M73,-168C73,-168 62,-168 62,-168 59.5,-168 57,-165.5 57,-163 57,-163 57,-158 57,-158 57,-155.5 59.5,-153 62,-153 62,-153 73,-153 73,-153 75.5,-153 78,-155.5 78,-158 78,-158 78,-163 78,-163 78,-165.5 75.5,-168 73,-168\" fill=\"none\" stroke=\"black\"/>\n",
       "<text font-family=\"Courier,monospace\" font-size=\"10.00\" text-anchor=\"start\" x=\"61\" y=\"-158\">q2</text>\n",
       "</g>\n",
       "<!-- 4578744152&#45;&gt;4597229112 -->\n",
       "<g class=\"edge\" id=\"edge4\"><title>4578744152-&gt;4597229112</title>\n",
       "<path d=\"M67.5,-203.687C67.5,-196.666 67.5,-185.495 67.5,-176.412\" fill=\"none\" stroke=\"black\"/>\n",
       "<polygon fill=\"black\" points=\"67.5,-168.255 71.1001,-176.255 67.5,-172.255 67.5001,-176.255 67.5001,-176.255 67.5001,-176.255 67.5,-172.255 63.9001,-176.255 67.5,-168.255 67.5,-168.255\" stroke=\"black\"/>\n",
       "</g>\n",
       "<!-- 4586790208 -->\n",
       "<g class=\"node\" id=\"node2\"><title>4586790208</title>\n",
       "<path d=\"M73,-66C73,-66 62,-66 62,-66 59.5,-66 57,-63.5 57,-61 57,-61 57,-56 57,-56 57,-53.5 59.5,-51 62,-51 62,-51 73,-51 73,-51 75.5,-51 78,-53.5 78,-56 78,-56 78,-61 78,-61 78,-63.5 75.5,-66 73,-66\" fill=\"none\" stroke=\"black\"/>\n",
       "<text font-family=\"Courier,monospace\" font-size=\"10.00\" text-anchor=\"start\" x=\"61\" y=\"-56\">q2</text>\n",
       "</g>\n",
       "<!-- 4586789848 -->\n",
       "<g class=\"node\" id=\"node3\"><title>4586789848</title>\n",
       "<path d=\"M73,-15C73,-15 62,-15 62,-15 59.5,-15 57,-12.5 57,-10 57,-10 57,-5 57,-5 57,-2.5 59.5,-8.88178e-16 62,-8.88178e-16 62,-8.88178e-16 73,-8.88178e-16 73,-8.88178e-16 75.5,-8.88178e-16 78,-2.5 78,-5 78,-5 78,-10 78,-10 78,-12.5 75.5,-15 73,-15\" fill=\"none\" stroke=\"black\"/>\n",
       "<text font-family=\"Courier,monospace\" font-size=\"10.00\" text-anchor=\"start\" x=\"61\" y=\"-5\">q3</text>\n",
       "</g>\n",
       "<!-- 4586790208&#45;&gt;4586789848 -->\n",
       "<g class=\"edge\" id=\"edge5\"><title>4586790208-&gt;4586789848</title>\n",
       "<path d=\"M67.5,-50.6868C67.5,-43.6656 67.5,-32.4947 67.5,-23.4116\" fill=\"none\" stroke=\"black\"/>\n",
       "<polygon fill=\"black\" points=\"67.5,-15.2554 71.1001,-23.2553 67.5,-19.2554 67.5001,-23.2554 67.5001,-23.2554 67.5001,-23.2554 67.5,-19.2554 63.9001,-23.2554 67.5,-15.2554 67.5,-15.2554\" stroke=\"black\"/>\n",
       "</g>\n",
       "<!-- 4597228824 -->\n",
       "<g class=\"node\" id=\"node6\"><title>4597228824</title>\n",
       "<path d=\"M73,-117C73,-117 62,-117 62,-117 59.5,-117 57,-114.5 57,-112 57,-112 57,-107 57,-107 57,-104.5 59.5,-102 62,-102 62,-102 73,-102 73,-102 75.5,-102 78,-104.5 78,-107 78,-107 78,-112 78,-112 78,-114.5 75.5,-117 73,-117\" fill=\"none\" stroke=\"black\"/>\n",
       "<text font-family=\"Courier,monospace\" font-size=\"10.00\" text-anchor=\"start\" x=\"61\" y=\"-107\">q3</text>\n",
       "</g>\n",
       "<!-- 4597229112&#45;&gt;4597228824 -->\n",
       "<g class=\"edge\" id=\"edge1\"><title>4597229112-&gt;4597228824</title>\n",
       "<path d=\"M67.5,-152.687C67.5,-145.666 67.5,-134.495 67.5,-125.412\" fill=\"none\" stroke=\"black\"/>\n",
       "<polygon fill=\"black\" points=\"67.5,-117.255 71.1001,-125.255 67.5,-121.255 67.5001,-125.255 67.5001,-125.255 67.5001,-125.255 67.5,-121.255 63.9001,-125.255 67.5,-117.255 67.5,-117.255\" stroke=\"black\"/>\n",
       "</g>\n",
       "<!-- 4563333064 -->\n",
       "<g class=\"node\" id=\"node5\"><title>4563333064</title>\n",
       "<path d=\"M34,-219C34,-219 5,-219 5,-219 2.5,-219 0,-216.5 0,-214 0,-214 0,-209 0,-209 0,-206.5 2.5,-204 5,-204 5,-204 34,-204 34,-204 36.5,-204 39,-206.5 39,-209 39,-209 39,-214 39,-214 39,-216.5 36.5,-219 34,-219\" fill=\"none\" stroke=\"black\"/>\n",
       "<text font-family=\"Courier,monospace\" font-size=\"10.00\" text-anchor=\"start\" x=\"4\" y=\"-209\">START</text>\n",
       "</g>\n",
       "<!-- 4563333064&#45;&gt;4578744152 -->\n",
       "<g class=\"edge\" id=\"edge2\"><title>4563333064-&gt;4578744152</title>\n",
       "<path d=\"M39.375,-211.5C42.4878,-211.5 45.6006,-211.5 48.7134,-211.5\" fill=\"none\" stroke=\"black\"/>\n",
       "<polygon fill=\"black\" points=\"56.9531,-211.5 48.9532,-215.1 52.9531,-211.5 48.9531,-211.5 48.9531,-211.5 48.9531,-211.5 52.9531,-211.5 48.9531,-207.9 56.9531,-211.5 56.9531,-211.5\" stroke=\"black\"/>\n",
       "</g>\n",
       "<!-- 4597228824&#45;&gt;4586790208 -->\n",
       "<g class=\"edge\" id=\"edge3\"><title>4597228824-&gt;4586790208</title>\n",
       "<path d=\"M67.5,-101.687C67.5,-94.6656 67.5,-83.4947 67.5,-74.4116\" fill=\"none\" stroke=\"black\"/>\n",
       "<polygon fill=\"black\" points=\"67.5,-66.2554 71.1001,-74.2553 67.5,-70.2554 67.5001,-74.2554 67.5001,-74.2554 67.5001,-74.2554 67.5,-70.2554 63.9001,-74.2554 67.5,-66.2554 67.5,-66.2554\" stroke=\"black\"/>\n",
       "</g>\n",
       "<!-- rank0 -->\n",
       "<g class=\"node\" id=\"node7\"><title>rank0</title>\n",
       "<text font-family=\"Courier,monospace\" font-size=\"10.00\" text-anchor=\"start\" x=\"100\" y=\"-209\">[1] 0 0 0</text>\n",
       "</g>\n",
       "<!-- rank1 -->\n",
       "<g class=\"node\" id=\"node8\"><title>rank1</title>\n",
       "<text font-family=\"Courier,monospace\" font-size=\"10.00\" text-anchor=\"start\" x=\"106\" y=\"-158\">[0] 0 0</text>\n",
       "</g>\n",
       "<!-- rank0&#45;&gt;rank1 -->\n",
       "<!-- rank2 -->\n",
       "<g class=\"node\" id=\"node9\"><title>rank2</title>\n",
       "<text font-family=\"Courier,monospace\" font-size=\"10.00\" text-anchor=\"start\" x=\"112\" y=\"-107\">[0] 0</text>\n",
       "</g>\n",
       "<!-- rank1&#45;&gt;rank2 -->\n",
       "<!-- rank3 -->\n",
       "<g class=\"node\" id=\"node10\"><title>rank3</title>\n",
       "<text font-family=\"Courier,monospace\" font-size=\"10.00\" text-anchor=\"middle\" x=\"127.5\" y=\"-56\">0</text>\n",
       "</g>\n",
       "<!-- rank2&#45;&gt;rank3 -->\n",
       "<!-- rank4 -->\n",
       "<g class=\"node\" id=\"node11\"><title>rank4</title>\n",
       "<text font-family=\"Courier,monospace\" font-size=\"10.00\" text-anchor=\"start\" x=\"124\" y=\"-5\">_</text>\n",
       "</g>\n",
       "<!-- rank3&#45;&gt;rank4 -->\n",
       "</g>\n",
       "</svg>"
      ],
      "text/plain": [
       "<IPython.core.display.SVG object>"
      ]
     },
     "metadata": {},
     "output_type": "display_data"
    }
   ],
   "source": [
    "m.run(\"1000\")"
   ]
  },
  {
   "cell_type": "markdown",
   "metadata": {},
   "source": [
    "This time, the fact that the run doesn't end with `ACCEPT` means that the string was rejected."
   ]
  }
 ],
 "metadata": {
  "kernelspec": {
   "display_name": "Python 2",
   "language": "python",
   "name": "python2"
  },
  "language_info": {
   "codemirror_mode": {
    "name": "ipython",
    "version": 2
   },
   "file_extension": ".py",
   "mimetype": "text/x-python",
   "name": "python",
   "nbconvert_exporter": "python",
   "pygments_lexer": "ipython2",
   "version": "2.7.10"
  }
 },
 "nbformat": 4,
 "nbformat_minor": 0
}
