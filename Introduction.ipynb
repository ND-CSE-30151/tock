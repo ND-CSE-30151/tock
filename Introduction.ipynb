{
 "cells": [
  {
   "cell_type": "markdown",
   "metadata": {},
   "source": [
    "# Introduction"
   ]
  },
  {
   "cell_type": "markdown",
   "metadata": {},
   "source": [
    "## Loading the package\n",
    "\n",
    "The Tock package is in the same directory as these notebooks. To load the package, just do:"
   ]
  },
  {
   "cell_type": "code",
   "execution_count": 1,
   "metadata": {
    "collapsed": false
   },
   "outputs": [],
   "source": [
    "from tock import *"
   ]
  },
  {
   "cell_type": "markdown",
   "metadata": {},
   "source": [
    "## Working with machines"
   ]
  },
  {
   "cell_type": "markdown",
   "metadata": {},
   "source": [
    "Sipser and other textbooks represent automata using either tables or graphs. You can create automata either way and load them into Tock.\n",
    "\n",
    "To create tables, you can use any spreadsheet software (Excel, OpenOffice, iWork, Google Drive) and export in CSV format.\n",
    "\n",
    "Graphs should be in Trivial Graph Format (TGF), which most graph-editing software ([yED], [Gephi]) can export in.\n",
    "\n",
    "To read a table in CSV format:\n",
    "\n",
    "[yED]: http://www.yworks.com/en/products/yfiles/yed/\n",
    "[Gephi]: http://gephi.github.io"
   ]
  },
  {
   "cell_type": "code",
   "execution_count": 2,
   "metadata": {
    "collapsed": false
   },
   "outputs": [],
   "source": [
    "m = read_csv(\"examples/dfa.csv\")"
   ]
  },
  {
   "cell_type": "markdown",
   "metadata": {},
   "source": [
    "To view the automaton as a graph:"
   ]
  },
  {
   "cell_type": "code",
   "execution_count": 3,
   "metadata": {
    "collapsed": false
   },
   "outputs": [
    {
     "data": {
      "image/svg+xml": [
       "<svg height=\"82pt\" viewBox=\"0.00 0.00 213.00 82.42\" width=\"213pt\" xmlns=\"http://www.w3.org/2000/svg\" xmlns:xlink=\"http://www.w3.org/1999/xlink\">\n",
       "<g class=\"graph\" id=\"graph0\" transform=\"scale(1 1) rotate(0) translate(4 78.4232)\">\n",
       "<title>%3</title>\n",
       "<polygon fill=\"white\" points=\"-4,4 -4,-78.4232 209,-78.4232 209,4 -4,4\" stroke=\"none\"/>\n",
       "<!-- 0 -->\n",
       "<g class=\"node\" id=\"node1\"><title>0</title>\n",
       "<path d=\"M52.6667,-36.4232C52.6667,-36.4232 44.3333,-36.4232 44.3333,-36.4232 41.1667,-36.4232 38,-33.2565 38,-30.0898 38,-30.0898 38,-23.7565 38,-23.7565 38,-20.5898 41.1667,-17.4232 44.3333,-17.4232 44.3333,-17.4232 52.6667,-17.4232 52.6667,-17.4232 55.8333,-17.4232 59,-20.5898 59,-23.7565 59,-23.7565 59,-30.0898 59,-30.0898 59,-33.2565 55.8333,-36.4232 52.6667,-36.4232\" fill=\"none\" stroke=\"black\"/>\n",
       "<text font-family=\"Courier,monospace\" font-size=\"10.00\" text-anchor=\"middle\" x=\"48.5\" y=\"-24.4232\">q1</text>\n",
       "</g>\n",
       "<!-- 0&#45;&gt;0 -->\n",
       "<g class=\"edge\" id=\"edge3\"><title>0-&gt;0</title>\n",
       "<path d=\"M44.1844,-36.506C42.0849,-45.1569 43.5234,-54.4232 48.5,-54.4232 52.4657,-54.4232 54.1847,-48.539 53.6571,-41.771\" fill=\"none\" stroke=\"black\"/>\n",
       "<polygon fill=\"black\" points=\"52.8156,-36.506 55.8266,-41.0882 53.2102,-38.9747 53.6048,-41.4434 53.6048,-41.4434 53.6048,-41.4434 53.2102,-38.9747 51.383,-41.7985 52.8156,-36.506 52.8156,-36.506\" stroke=\"black\"/>\n",
       "<text font-family=\"Courier,monospace\" font-size=\"9.00\" text-anchor=\"start\" x=\"45.5\" y=\"-60.2232\">0</text>\n",
       "</g>\n",
       "<!-- 2 -->\n",
       "<g class=\"node\" id=\"node4\"><title>2</title>\n",
       "<path d=\"M125.667,-36.4232C125.667,-36.4232 117.333,-36.4232 117.333,-36.4232 114.167,-36.4232 111,-33.2565 111,-30.0898 111,-30.0898 111,-23.7565 111,-23.7565 111,-20.5898 114.167,-17.4232 117.333,-17.4232 117.333,-17.4232 125.667,-17.4232 125.667,-17.4232 128.833,-17.4232 132,-20.5898 132,-23.7565 132,-23.7565 132,-30.0898 132,-30.0898 132,-33.2565 128.833,-36.4232 125.667,-36.4232\" fill=\"none\" stroke=\"black\"/>\n",
       "<path d=\"M127,-40.4232C127,-40.4232 116,-40.4232 116,-40.4232 111.5,-40.4232 107,-35.9232 107,-31.4232 107,-31.4232 107,-22.4232 107,-22.4232 107,-17.9232 111.5,-13.4232 116,-13.4232 116,-13.4232 127,-13.4232 127,-13.4232 131.5,-13.4232 136,-17.9232 136,-22.4232 136,-22.4232 136,-31.4232 136,-31.4232 136,-35.9232 131.5,-40.4232 127,-40.4232\" fill=\"none\" stroke=\"black\"/>\n",
       "<text font-family=\"Courier,monospace\" font-size=\"10.00\" text-anchor=\"middle\" x=\"121.5\" y=\"-24.4232\">q2</text>\n",
       "</g>\n",
       "<!-- 0&#45;&gt;2 -->\n",
       "<g class=\"edge\" id=\"edge2\"><title>0-&gt;2</title>\n",
       "<path d=\"M59.0754,-26.9232C69.9689,-26.9232 88.0236,-26.9232 101.747,-26.9232\" fill=\"none\" stroke=\"black\"/>\n",
       "<polygon fill=\"black\" points=\"106.956,-26.9232 101.956,-29.1733 104.456,-26.9232 101.956,-26.9233 101.956,-26.9233 101.956,-26.9233 104.456,-26.9232 101.956,-24.6733 106.956,-26.9232 106.956,-26.9232\" stroke=\"black\"/>\n",
       "<text font-family=\"Courier,monospace\" font-size=\"9.00\" text-anchor=\"start\" x=\"80\" y=\"-32.7232\">1</text>\n",
       "</g>\n",
       "<!-- START -->\n",
       "<g class=\"node\" id=\"node2\"><title>START</title>\n",
       "</g>\n",
       "<!-- START&#45;&gt;0 -->\n",
       "<g class=\"edge\" id=\"edge1\"><title>START-&gt;0</title>\n",
       "<path d=\"M1.13339,-26.9232C2.79277,-26.9232 19.5956,-26.9232 32.5011,-26.9232\" fill=\"none\" stroke=\"black\"/>\n",
       "<polygon fill=\"black\" points=\"37.7379,-26.9232 32.738,-29.1733 35.2379,-26.9232 32.7379,-26.9233 32.7379,-26.9233 32.7379,-26.9233 35.2379,-26.9232 32.7379,-24.6733 37.7379,-26.9232 37.7379,-26.9232\" stroke=\"black\"/>\n",
       "</g>\n",
       "<!-- 1 -->\n",
       "<g class=\"node\" id=\"node3\"><title>1</title>\n",
       "<path d=\"M198.667,-36.4232C198.667,-36.4232 190.333,-36.4232 190.333,-36.4232 187.167,-36.4232 184,-33.2565 184,-30.0898 184,-30.0898 184,-23.7565 184,-23.7565 184,-20.5898 187.167,-17.4232 190.333,-17.4232 190.333,-17.4232 198.667,-17.4232 198.667,-17.4232 201.833,-17.4232 205,-20.5898 205,-23.7565 205,-23.7565 205,-30.0898 205,-30.0898 205,-33.2565 201.833,-36.4232 198.667,-36.4232\" fill=\"none\" stroke=\"black\"/>\n",
       "<text font-family=\"Courier,monospace\" font-size=\"10.00\" text-anchor=\"middle\" x=\"194.5\" y=\"-24.4232\">q3</text>\n",
       "</g>\n",
       "<!-- 1&#45;&gt;2 -->\n",
       "<g class=\"edge\" id=\"edge4\"><title>1-&gt;2</title>\n",
       "<path d=\"M185.986,-17.1706C181.007,-11.5451 173.944,-4.99439 166,-1.92318 161.025,-0 159.036,-0.167587 154,-1.92318 148.957,-3.68132 144.115,-6.62115 139.804,-9.87943\" fill=\"none\" stroke=\"black\"/>\n",
       "<polygon fill=\"black\" points=\"135.682,-13.2119 138.156,-8.31846 137.626,-11.64 139.57,-10.0681 139.57,-10.0681 139.57,-10.0681 137.626,-11.64 140.985,-11.8177 135.682,-13.2119 135.682,-13.2119\" stroke=\"black\"/>\n",
       "<text font-family=\"Courier,monospace\" font-size=\"9.00\" text-anchor=\"start\" x=\"157\" y=\"-21.7232\">0</text>\n",
       "<text font-family=\"Courier,monospace\" font-size=\"9.00\" text-anchor=\"start\" x=\"157\" y=\"-7.72318\">1</text>\n",
       "</g>\n",
       "<!-- 2&#45;&gt;1 -->\n",
       "<g class=\"edge\" id=\"edge5\"><title>2-&gt;1</title>\n",
       "<path d=\"M136.197,-29.9403C144.753,-31.4668 156.006,-32.8243 166,-31.9232 170.214,-31.5432 174.747,-30.8421 178.894,-30.0827\" fill=\"none\" stroke=\"black\"/>\n",
       "<polygon fill=\"black\" points=\"183.886,-29.1093 179.409,-32.2747 181.432,-29.5878 178.978,-30.0663 178.978,-30.0663 178.978,-30.0663 181.432,-29.5878 178.547,-27.8579 183.886,-29.1093 183.886,-29.1093\" stroke=\"black\"/>\n",
       "<text font-family=\"Courier,monospace\" font-size=\"9.00\" text-anchor=\"start\" x=\"157\" y=\"-37.7232\">0</text>\n",
       "</g>\n",
       "<!-- 2&#45;&gt;2 -->\n",
       "<g class=\"edge\" id=\"edge6\"><title>2-&gt;2</title>\n",
       "<path d=\"M115.003,-40.5219C113.174,-49.5933 115.34,-58.4232 121.5,-58.4232 126.505,-58.4232 128.873,-52.5941 128.604,-45.5425\" fill=\"none\" stroke=\"black\"/>\n",
       "<polygon fill=\"black\" points=\"127.997,-40.5219 130.831,-45.2155 128.297,-43.0039 128.598,-45.4858 128.598,-45.4858 128.598,-45.4858 128.297,-43.0039 126.364,-45.756 127.997,-40.5219 127.997,-40.5219\" stroke=\"black\"/>\n",
       "<text font-family=\"Courier,monospace\" font-size=\"9.00\" text-anchor=\"start\" x=\"118.5\" y=\"-64.2232\">1</text>\n",
       "</g>\n",
       "</g>\n",
       "</svg>"
      ],
      "text/plain": [
       "<IPython.core.display.SVG object>"
      ]
     },
     "execution_count": 3,
     "metadata": {},
     "output_type": "execute_result"
    }
   ],
   "source": [
    "m.display_graph()"
   ]
  },
  {
   "cell_type": "markdown",
   "metadata": {},
   "source": [
    "Or as a table:"
   ]
  },
  {
   "cell_type": "code",
   "execution_count": 4,
   "metadata": {
    "collapsed": false
   },
   "outputs": [
    {
     "data": {
      "text/html": [
       "<table style=\"font-family: Courier, monospace;\">\n",
       "  <tr><td></td><th>0</th><th>1</th></tr>\n",
       "  <tr><th>&gt;q1</th><td>q1</td><td>q2</td></tr>\n",
       "  <tr><th>@q2</th><td>q3</td><td>q2</td></tr>\n",
       "  <tr><th>q3</th><td>q2</td><td>q2</td></tr>\n",
       "</table>\n"
      ],
      "text/plain": [
       "<IPython.core.display.HTML object>"
      ]
     },
     "execution_count": 4,
     "metadata": {},
     "output_type": "execute_result"
    }
   ],
   "source": [
    "m.display_table()"
   ]
  },
  {
   "cell_type": "markdown",
   "metadata": {},
   "source": [
    "Similarly, to read a graph in TGF format:"
   ]
  },
  {
   "cell_type": "code",
   "execution_count": 5,
   "metadata": {
    "collapsed": false
   },
   "outputs": [
    {
     "data": {
      "image/svg+xml": [
       "<svg height=\"82pt\" viewBox=\"0.00 0.00 213.00 82.42\" width=\"213pt\" xmlns=\"http://www.w3.org/2000/svg\" xmlns:xlink=\"http://www.w3.org/1999/xlink\">\n",
       "<g class=\"graph\" id=\"graph0\" transform=\"scale(1 1) rotate(0) translate(4 78.4232)\">\n",
       "<title>%3</title>\n",
       "<polygon fill=\"white\" points=\"-4,4 -4,-78.4232 209,-78.4232 209,4 -4,4\" stroke=\"none\"/>\n",
       "<!-- 0 -->\n",
       "<g class=\"node\" id=\"node1\"><title>0</title>\n",
       "<path d=\"M52.6667,-36.4232C52.6667,-36.4232 44.3333,-36.4232 44.3333,-36.4232 41.1667,-36.4232 38,-33.2565 38,-30.0898 38,-30.0898 38,-23.7565 38,-23.7565 38,-20.5898 41.1667,-17.4232 44.3333,-17.4232 44.3333,-17.4232 52.6667,-17.4232 52.6667,-17.4232 55.8333,-17.4232 59,-20.5898 59,-23.7565 59,-23.7565 59,-30.0898 59,-30.0898 59,-33.2565 55.8333,-36.4232 52.6667,-36.4232\" fill=\"none\" stroke=\"black\"/>\n",
       "<text font-family=\"Courier,monospace\" font-size=\"10.00\" text-anchor=\"middle\" x=\"48.5\" y=\"-24.4232\">q1</text>\n",
       "</g>\n",
       "<!-- 0&#45;&gt;0 -->\n",
       "<g class=\"edge\" id=\"edge3\"><title>0-&gt;0</title>\n",
       "<path d=\"M44.1844,-36.506C42.0849,-45.1569 43.5234,-54.4232 48.5,-54.4232 52.4657,-54.4232 54.1847,-48.539 53.6571,-41.771\" fill=\"none\" stroke=\"black\"/>\n",
       "<polygon fill=\"black\" points=\"52.8156,-36.506 55.8266,-41.0882 53.2102,-38.9747 53.6048,-41.4434 53.6048,-41.4434 53.6048,-41.4434 53.2102,-38.9747 51.383,-41.7985 52.8156,-36.506 52.8156,-36.506\" stroke=\"black\"/>\n",
       "<text font-family=\"Courier,monospace\" font-size=\"9.00\" text-anchor=\"start\" x=\"45.5\" y=\"-60.2232\">0</text>\n",
       "</g>\n",
       "<!-- 2 -->\n",
       "<g class=\"node\" id=\"node4\"><title>2</title>\n",
       "<path d=\"M125.667,-36.4232C125.667,-36.4232 117.333,-36.4232 117.333,-36.4232 114.167,-36.4232 111,-33.2565 111,-30.0898 111,-30.0898 111,-23.7565 111,-23.7565 111,-20.5898 114.167,-17.4232 117.333,-17.4232 117.333,-17.4232 125.667,-17.4232 125.667,-17.4232 128.833,-17.4232 132,-20.5898 132,-23.7565 132,-23.7565 132,-30.0898 132,-30.0898 132,-33.2565 128.833,-36.4232 125.667,-36.4232\" fill=\"none\" stroke=\"black\"/>\n",
       "<path d=\"M127,-40.4232C127,-40.4232 116,-40.4232 116,-40.4232 111.5,-40.4232 107,-35.9232 107,-31.4232 107,-31.4232 107,-22.4232 107,-22.4232 107,-17.9232 111.5,-13.4232 116,-13.4232 116,-13.4232 127,-13.4232 127,-13.4232 131.5,-13.4232 136,-17.9232 136,-22.4232 136,-22.4232 136,-31.4232 136,-31.4232 136,-35.9232 131.5,-40.4232 127,-40.4232\" fill=\"none\" stroke=\"black\"/>\n",
       "<text font-family=\"Courier,monospace\" font-size=\"10.00\" text-anchor=\"middle\" x=\"121.5\" y=\"-24.4232\">q2</text>\n",
       "</g>\n",
       "<!-- 0&#45;&gt;2 -->\n",
       "<g class=\"edge\" id=\"edge2\"><title>0-&gt;2</title>\n",
       "<path d=\"M59.0754,-26.9232C69.9689,-26.9232 88.0236,-26.9232 101.747,-26.9232\" fill=\"none\" stroke=\"black\"/>\n",
       "<polygon fill=\"black\" points=\"106.956,-26.9232 101.956,-29.1733 104.456,-26.9232 101.956,-26.9233 101.956,-26.9233 101.956,-26.9233 104.456,-26.9232 101.956,-24.6733 106.956,-26.9232 106.956,-26.9232\" stroke=\"black\"/>\n",
       "<text font-family=\"Courier,monospace\" font-size=\"9.00\" text-anchor=\"start\" x=\"80\" y=\"-32.7232\">1</text>\n",
       "</g>\n",
       "<!-- START -->\n",
       "<g class=\"node\" id=\"node2\"><title>START</title>\n",
       "</g>\n",
       "<!-- START&#45;&gt;0 -->\n",
       "<g class=\"edge\" id=\"edge1\"><title>START-&gt;0</title>\n",
       "<path d=\"M1.13339,-26.9232C2.79277,-26.9232 19.5956,-26.9232 32.5011,-26.9232\" fill=\"none\" stroke=\"black\"/>\n",
       "<polygon fill=\"black\" points=\"37.7379,-26.9232 32.738,-29.1733 35.2379,-26.9232 32.7379,-26.9233 32.7379,-26.9233 32.7379,-26.9233 35.2379,-26.9232 32.7379,-24.6733 37.7379,-26.9232 37.7379,-26.9232\" stroke=\"black\"/>\n",
       "</g>\n",
       "<!-- 1 -->\n",
       "<g class=\"node\" id=\"node3\"><title>1</title>\n",
       "<path d=\"M198.667,-36.4232C198.667,-36.4232 190.333,-36.4232 190.333,-36.4232 187.167,-36.4232 184,-33.2565 184,-30.0898 184,-30.0898 184,-23.7565 184,-23.7565 184,-20.5898 187.167,-17.4232 190.333,-17.4232 190.333,-17.4232 198.667,-17.4232 198.667,-17.4232 201.833,-17.4232 205,-20.5898 205,-23.7565 205,-23.7565 205,-30.0898 205,-30.0898 205,-33.2565 201.833,-36.4232 198.667,-36.4232\" fill=\"none\" stroke=\"black\"/>\n",
       "<text font-family=\"Courier,monospace\" font-size=\"10.00\" text-anchor=\"middle\" x=\"194.5\" y=\"-24.4232\">q3</text>\n",
       "</g>\n",
       "<!-- 1&#45;&gt;2 -->\n",
       "<g class=\"edge\" id=\"edge4\"><title>1-&gt;2</title>\n",
       "<path d=\"M185.986,-17.1706C181.007,-11.5451 173.944,-4.99439 166,-1.92318 161.025,-0 159.036,-0.167587 154,-1.92318 148.957,-3.68132 144.115,-6.62115 139.804,-9.87943\" fill=\"none\" stroke=\"black\"/>\n",
       "<polygon fill=\"black\" points=\"135.682,-13.2119 138.156,-8.31846 137.626,-11.64 139.57,-10.0681 139.57,-10.0681 139.57,-10.0681 137.626,-11.64 140.985,-11.8177 135.682,-13.2119 135.682,-13.2119\" stroke=\"black\"/>\n",
       "<text font-family=\"Courier,monospace\" font-size=\"9.00\" text-anchor=\"start\" x=\"157\" y=\"-21.7232\">0</text>\n",
       "<text font-family=\"Courier,monospace\" font-size=\"9.00\" text-anchor=\"start\" x=\"157\" y=\"-7.72318\">1</text>\n",
       "</g>\n",
       "<!-- 2&#45;&gt;1 -->\n",
       "<g class=\"edge\" id=\"edge5\"><title>2-&gt;1</title>\n",
       "<path d=\"M136.197,-29.9403C144.753,-31.4668 156.006,-32.8243 166,-31.9232 170.214,-31.5432 174.747,-30.8421 178.894,-30.0827\" fill=\"none\" stroke=\"black\"/>\n",
       "<polygon fill=\"black\" points=\"183.886,-29.1093 179.409,-32.2747 181.432,-29.5878 178.978,-30.0663 178.978,-30.0663 178.978,-30.0663 181.432,-29.5878 178.547,-27.8579 183.886,-29.1093 183.886,-29.1093\" stroke=\"black\"/>\n",
       "<text font-family=\"Courier,monospace\" font-size=\"9.00\" text-anchor=\"start\" x=\"157\" y=\"-37.7232\">0</text>\n",
       "</g>\n",
       "<!-- 2&#45;&gt;2 -->\n",
       "<g class=\"edge\" id=\"edge6\"><title>2-&gt;2</title>\n",
       "<path d=\"M115.003,-40.5219C113.174,-49.5933 115.34,-58.4232 121.5,-58.4232 126.505,-58.4232 128.873,-52.5941 128.604,-45.5425\" fill=\"none\" stroke=\"black\"/>\n",
       "<polygon fill=\"black\" points=\"127.997,-40.5219 130.831,-45.2155 128.297,-43.0039 128.598,-45.4858 128.598,-45.4858 128.598,-45.4858 128.297,-43.0039 126.364,-45.756 127.997,-40.5219 127.997,-40.5219\" stroke=\"black\"/>\n",
       "<text font-family=\"Courier,monospace\" font-size=\"9.00\" text-anchor=\"start\" x=\"118.5\" y=\"-64.2232\">1</text>\n",
       "</g>\n",
       "</g>\n",
       "</svg>"
      ],
      "text/plain": [
       "<IPython.core.display.SVG object>"
      ]
     },
     "execution_count": 5,
     "metadata": {},
     "output_type": "execute_result"
    }
   ],
   "source": [
    "m = read_tgf(\"examples/dfa.tgf\")\n",
    "m.display_graph()"
   ]
  }
 ],
 "metadata": {
  "kernelspec": {
   "display_name": "Python 2",
   "language": "python",
   "name": "python2"
  },
  "language_info": {
   "codemirror_mode": {
    "name": "ipython",
    "version": 2
   },
   "file_extension": ".py",
   "mimetype": "text/x-python",
   "name": "python",
   "nbconvert_exporter": "python",
   "pygments_lexer": "ipython2",
   "version": "2.7.10"
  }
 },
 "nbformat": 4,
 "nbformat_minor": 0
}
