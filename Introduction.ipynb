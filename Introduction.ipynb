{
 "cells": [
  {
   "cell_type": "markdown",
   "metadata": {},
   "source": [
    "# Introduction"
   ]
  },
  {
   "cell_type": "markdown",
   "metadata": {},
   "source": [
    "## Loading the package\n",
    "\n",
    "The Tock package is in the same directory as these notebooks. To load the package, just do:"
   ]
  },
  {
   "cell_type": "code",
   "execution_count": 1,
   "metadata": {
    "collapsed": false
   },
   "outputs": [
    {
     "data": {
      "application/javascript": [
       "require.config({waitSeconds: 10, paths: {viz: \"//github.com/mdaines/viz.js/releases/download/v1.2.0/viz\"}, shim: {viz: {exports: \"Viz\"}}}); console.log(\"require.config\")"
      ],
      "text/plain": [
       "<IPython.core.display.Javascript object>"
      ]
     },
     "metadata": {},
     "output_type": "display_data"
    }
   ],
   "source": [
    "from tock import *"
   ]
  },
  {
   "cell_type": "markdown",
   "metadata": {},
   "source": [
    "## Working with machines"
   ]
  },
  {
   "cell_type": "markdown",
   "metadata": {},
   "source": [
    "Sipser and other textbooks represent automata using either tables or graphs. You can create automata either way and load them into Tock.\n",
    "\n",
    "To create tables, you can use any spreadsheet software (Excel, OpenOffice, iWork, Google Drive) and export in CSV format.\n",
    "\n",
    "Graphs should be in Trivial Graph Format (TGF), which most graph-editing software ([yED], [Gephi]) can export in.\n",
    "\n",
    "To read a table in CSV format:\n",
    "\n",
    "[yED]: http://www.yworks.com/en/products/yfiles/yed/\n",
    "[Gephi]: http://gephi.github.io"
   ]
  },
  {
   "cell_type": "code",
   "execution_count": 2,
   "metadata": {
    "collapsed": false
   },
   "outputs": [],
   "source": [
    "m = read_csv(\"examples/dfa.csv\")"
   ]
  },
  {
   "cell_type": "markdown",
   "metadata": {},
   "source": [
    "To view the automaton as a graph:"
   ]
  },
  {
   "cell_type": "code",
   "execution_count": 3,
   "metadata": {
    "collapsed": false
   },
   "outputs": [
    {
     "data": {
      "application/javascript": [
       "require([\"viz\"], function (Viz) {var div = $(\"<div>\"); element.append(div); div.append(Viz(\"digraph {\\n  rankdir=LR;\\n  node [fontname=Courier,fontsize=10,shape=box,style=rounded,height=0,width=0,margin=\\\"0.055,0.0277\\\"];\\n  edge [arrowhead=vee,arrowsize=0.8,fontname=Courier,fontsize=9];\\n  0[label=\\\"q1\\\"];\\n  START[shape=none,label=\\\"\\\"];\\n  START -> 0;\\n  1[label=\\\"q3\\\"];\\n  2[label=\\\"q2\\\",peripheries=2];\\n  0 -> 2[label=<<table border=\\\"0\\\" cellpadding=\\\"1\\\"><tr><td>1</td></tr></table>>];\\n  0 -> 0[label=<<table border=\\\"0\\\" cellpadding=\\\"1\\\"><tr><td>0</td></tr></table>>];\\n  1 -> 2[label=<<table border=\\\"0\\\" cellpadding=\\\"1\\\"><tr><td>0</td></tr><tr><td>1</td></tr></table>>];\\n  2 -> 1[label=<<table border=\\\"0\\\" cellpadding=\\\"1\\\"><tr><td>0</td></tr></table>>];\\n  2 -> 2[label=<<table border=\\\"0\\\" cellpadding=\\\"1\\\"><tr><td>1</td></tr></table>>];\\n}\\n\", {format: \"svg\", engine: \"dot\"})); var svg = div.find(\"svg\"); div.css(\"width\", svg.attr(\"width\")); div.css(\"height\", svg.attr(\"height\")); })"
      ],
      "text/plain": [
       "<IPython.core.display.Javascript object>"
      ]
     },
     "execution_count": 3,
     "metadata": {},
     "output_type": "execute_result"
    }
   ],
   "source": [
    "m.display_graph()"
   ]
  },
  {
   "cell_type": "markdown",
   "metadata": {},
   "source": [
    "Or as a table:"
   ]
  },
  {
   "cell_type": "code",
   "execution_count": 4,
   "metadata": {
    "collapsed": false
   },
   "outputs": [
    {
     "data": {
      "text/html": [
       "<table style=\"font-family: Courier, monospace;\">\n",
       "  <tr><td></td><th>0</th><th>1</th></tr>\n",
       "  <tr><th>&gt;q1</th><td>q1</td><td>q2</td></tr>\n",
       "  <tr><th>@q2</th><td>q3</td><td>q2</td></tr>\n",
       "  <tr><th>q3</th><td>q2</td><td>q2</td></tr>\n",
       "</table>\n"
      ],
      "text/plain": [
       "<IPython.core.display.HTML object>"
      ]
     },
     "execution_count": 4,
     "metadata": {},
     "output_type": "execute_result"
    }
   ],
   "source": [
    "m.display_table()"
   ]
  },
  {
   "cell_type": "markdown",
   "metadata": {},
   "source": [
    "Similarly, to read a graph in TGF format:"
   ]
  },
  {
   "cell_type": "code",
   "execution_count": 5,
   "metadata": {
    "collapsed": false
   },
   "outputs": [
    {
     "data": {
      "application/javascript": [
       "require([\"viz\"], function (Viz) {var div = $(\"<div>\"); element.append(div); div.append(Viz(\"digraph {\\n  rankdir=LR;\\n  node [fontname=Courier,fontsize=10,shape=box,style=rounded,height=0,width=0,margin=\\\"0.055,0.0277\\\"];\\n  edge [arrowhead=vee,arrowsize=0.8,fontname=Courier,fontsize=9];\\n  0[label=\\\"q1\\\"];\\n  START[shape=none,label=\\\"\\\"];\\n  START -> 0;\\n  1[label=\\\"q3\\\"];\\n  2[label=\\\"q2\\\",peripheries=2];\\n  0 -> 2[label=<<table border=\\\"0\\\" cellpadding=\\\"1\\\"><tr><td>1</td></tr></table>>];\\n  0 -> 0[label=<<table border=\\\"0\\\" cellpadding=\\\"1\\\"><tr><td>0</td></tr></table>>];\\n  1 -> 2[label=<<table border=\\\"0\\\" cellpadding=\\\"1\\\"><tr><td>0</td></tr><tr><td>1</td></tr></table>>];\\n  2 -> 1[label=<<table border=\\\"0\\\" cellpadding=\\\"1\\\"><tr><td>0</td></tr></table>>];\\n  2 -> 2[label=<<table border=\\\"0\\\" cellpadding=\\\"1\\\"><tr><td>1</td></tr></table>>];\\n}\\n\", {format: \"svg\", engine: \"dot\"})); var svg = div.find(\"svg\"); div.css(\"width\", svg.attr(\"width\")); div.css(\"height\", svg.attr(\"height\")); })"
      ],
      "text/plain": [
       "<IPython.core.display.Javascript object>"
      ]
     },
     "execution_count": 5,
     "metadata": {},
     "output_type": "execute_result"
    }
   ],
   "source": [
    "m = read_tgf(\"examples/dfa.tgf\")\n",
    "m.display_graph()"
   ]
  },
  {
   "cell_type": "raw",
   "metadata": {
    "collapsed": true
   },
   "source": []
  }
 ],
 "metadata": {
  "kernelspec": {
   "display_name": "Python 2",
   "language": "python",
   "name": "python2"
  },
  "language_info": {
   "codemirror_mode": {
    "name": "ipython",
    "version": 2
   },
   "file_extension": ".py",
   "mimetype": "text/x-python",
   "name": "python",
   "nbconvert_exporter": "python",
   "pygments_lexer": "ipython2",
   "version": "2.7.10"
  }
 },
 "nbformat": 4,
 "nbformat_minor": 0
}
