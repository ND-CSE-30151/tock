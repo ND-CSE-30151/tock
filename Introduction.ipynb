{
 "cells": [
  {
   "cell_type": "markdown",
   "metadata": {},
   "source": [
    "# Introduction"
   ]
  },
  {
   "cell_type": "markdown",
   "metadata": {},
   "source": [
    "## Loading the package\n",
    "\n",
    "The Tock package is in the same directory as these notebooks. To load the package, just do:"
   ]
  },
  {
   "cell_type": "code",
   "execution_count": 1,
   "metadata": {
    "collapsed": false
   },
   "outputs": [],
   "source": [
    "from tock import *"
   ]
  },
  {
   "cell_type": "markdown",
   "metadata": {},
   "source": [
    "## Working with machines"
   ]
  },
  {
   "cell_type": "markdown",
   "metadata": {},
   "source": [
    "Sipser and other textbooks represent automata using either tables or graphs. You can create automata either way and load them into Tock.\n",
    "\n",
    "To create tables, you can use any spreadsheet software (Excel, OpenOffice, iWork, Google Drive) and export in CSV format.\n",
    "\n",
    "Graphs should be in Trivial Graph Format (TGF), which most graph-editing software ([yED], [Gephi]) can export in.\n",
    "\n",
    "To read a table in CSV format:\n",
    "\n",
    "[yED]: http://www.yworks.com/en/products/yfiles/yed/\n",
    "[Gephi]: http://gephi.github.io"
   ]
  },
  {
   "cell_type": "code",
   "execution_count": 2,
   "metadata": {
    "collapsed": false
   },
   "outputs": [],
   "source": [
    "m = read_csv(\"examples/dfa.csv\")"
   ]
  },
  {
   "cell_type": "markdown",
   "metadata": {},
   "source": [
    "To view the automaton as a graph:"
   ]
  },
  {
   "cell_type": "code",
   "execution_count": 3,
   "metadata": {
    "collapsed": false
   },
   "outputs": [
    {
     "data": {
      "image/svg+xml": [
       "<svg height=\"80pt\" viewBox=\"0.00 0.00 213.00 80.42\" width=\"213pt\" xmlns=\"http://www.w3.org/2000/svg\" xmlns:xlink=\"http://www.w3.org/1999/xlink\">\n",
       "<g class=\"graph\" id=\"graph0\" transform=\"scale(1 1) rotate(0) translate(4 76.4232)\">\n",
       "<title>%3</title>\n",
       "<polygon fill=\"white\" points=\"-4,4 -4,-76.4232 209,-76.4232 209,4 -4,4\" stroke=\"none\"/>\n",
       "<!-- 0 -->\n",
       "<g class=\"node\" id=\"node1\"><title>0</title>\n",
       "<path d=\"M54,-34.4232C54,-34.4232 43,-34.4232 43,-34.4232 40.5,-34.4232 38,-31.9232 38,-29.4232 38,-29.4232 38,-24.4232 38,-24.4232 38,-21.9232 40.5,-19.4232 43,-19.4232 43,-19.4232 54,-19.4232 54,-19.4232 56.5,-19.4232 59,-21.9232 59,-24.4232 59,-24.4232 59,-29.4232 59,-29.4232 59,-31.9232 56.5,-34.4232 54,-34.4232\" fill=\"none\" stroke=\"black\"/>\n",
       "<text font-family=\"Courier,monospace\" font-size=\"10.00\" text-anchor=\"middle\" x=\"48.5\" y=\"-24.4232\">q1</text>\n",
       "</g>\n",
       "<!-- 0&#45;&gt;0 -->\n",
       "<g class=\"edge\" id=\"edge3\"><title>0-&gt;0</title>\n",
       "<path d=\"M44.5625,-34.4935C41.9375,-42.8607 43.25,-52.4232 48.5,-52.4232 52.0273,-52.4232 53.7772,-48.1065 53.7497,-42.736\" fill=\"none\" stroke=\"black\"/>\n",
       "<polygon fill=\"black\" points=\"52.4375,-34.4935 57.2506,-41.828 53.0664,-38.4438 53.6953,-42.394 53.6953,-42.394 53.6953,-42.394 53.0664,-38.4438 50.1401,-42.96 52.4375,-34.4935 52.4375,-34.4935\" stroke=\"black\"/>\n",
       "<text font-family=\"Courier,monospace\" font-size=\"9.00\" text-anchor=\"start\" x=\"45.5\" y=\"-58.2232\">0</text>\n",
       "</g>\n",
       "<!-- 2 -->\n",
       "<g class=\"node\" id=\"node4\"><title>2</title>\n",
       "<path d=\"M127,-34.4232C127,-34.4232 116,-34.4232 116,-34.4232 113.5,-34.4232 111,-31.9232 111,-29.4232 111,-29.4232 111,-24.4232 111,-24.4232 111,-21.9232 113.5,-19.4232 116,-19.4232 116,-19.4232 127,-19.4232 127,-19.4232 129.5,-19.4232 132,-21.9232 132,-24.4232 132,-24.4232 132,-29.4232 132,-29.4232 132,-31.9232 129.5,-34.4232 127,-34.4232\" fill=\"none\" stroke=\"black\"/>\n",
       "<path d=\"M128.333,-38.4232C128.333,-38.4232 114.667,-38.4232 114.667,-38.4232 110.833,-38.4232 107,-34.5898 107,-30.7565 107,-30.7565 107,-23.0898 107,-23.0898 107,-19.2565 110.833,-15.4232 114.667,-15.4232 114.667,-15.4232 128.333,-15.4232 128.333,-15.4232 132.167,-15.4232 136,-19.2565 136,-23.0898 136,-23.0898 136,-30.7565 136,-30.7565 136,-34.5898 132.167,-38.4232 128.333,-38.4232\" fill=\"none\" stroke=\"black\"/>\n",
       "<text font-family=\"Courier,monospace\" font-size=\"10.00\" text-anchor=\"middle\" x=\"121.5\" y=\"-24.4232\">q2</text>\n",
       "</g>\n",
       "<!-- 0&#45;&gt;2 -->\n",
       "<g class=\"edge\" id=\"edge2\"><title>0-&gt;2</title>\n",
       "<path d=\"M59.0754,-26.9232C69.1977,-26.9232 85.5031,-26.9232 98.7712,-26.9232\" fill=\"none\" stroke=\"black\"/>\n",
       "<polygon fill=\"black\" points=\"106.956,-26.9232 98.9561,-30.5233 102.956,-26.9232 98.9561,-26.9233 98.9561,-26.9233 98.9561,-26.9233 102.956,-26.9232 98.956,-23.3233 106.956,-26.9232 106.956,-26.9232\" stroke=\"black\"/>\n",
       "<text font-family=\"Courier,monospace\" font-size=\"9.00\" text-anchor=\"start\" x=\"80\" y=\"-32.7232\">1</text>\n",
       "</g>\n",
       "<!-- START -->\n",
       "<g class=\"node\" id=\"node2\"><title>START</title>\n",
       "</g>\n",
       "<!-- START&#45;&gt;0 -->\n",
       "<g class=\"edge\" id=\"edge1\"><title>START-&gt;0</title>\n",
       "<path d=\"M1.13339,-26.9232C2.67424,-26.9232 17.2724,-26.9232 29.6829,-26.9232\" fill=\"none\" stroke=\"black\"/>\n",
       "<polygon fill=\"black\" points=\"37.7379,-26.9232 29.738,-30.5233 33.7379,-26.9232 29.7379,-26.9233 29.7379,-26.9233 29.7379,-26.9233 33.7379,-26.9232 29.7379,-23.3233 37.7379,-26.9232 37.7379,-26.9232\" stroke=\"black\"/>\n",
       "</g>\n",
       "<!-- 1 -->\n",
       "<g class=\"node\" id=\"node3\"><title>1</title>\n",
       "<path d=\"M200,-34.4232C200,-34.4232 189,-34.4232 189,-34.4232 186.5,-34.4232 184,-31.9232 184,-29.4232 184,-29.4232 184,-24.4232 184,-24.4232 184,-21.9232 186.5,-19.4232 189,-19.4232 189,-19.4232 200,-19.4232 200,-19.4232 202.5,-19.4232 205,-21.9232 205,-24.4232 205,-24.4232 205,-29.4232 205,-29.4232 205,-31.9232 202.5,-34.4232 200,-34.4232\" fill=\"none\" stroke=\"black\"/>\n",
       "<text font-family=\"Courier,monospace\" font-size=\"10.00\" text-anchor=\"middle\" x=\"194.5\" y=\"-24.4232\">q3</text>\n",
       "</g>\n",
       "<!-- 1&#45;&gt;2 -->\n",
       "<g class=\"edge\" id=\"edge4\"><title>1-&gt;2</title>\n",
       "<path d=\"M187.702,-19.1676C182.706,-13.1843 174.907,-5.36666 166,-1.92318 161.025,-0 159.036,-0.167587 154,-1.92318 148.895,-3.70287 143.996,-6.69339 139.646,-9.99937\" fill=\"none\" stroke=\"black\"/>\n",
       "<polygon fill=\"black\" points=\"133.31,-15.3255 137.117,-7.42181 136.372,-12.7514 139.434,-10.1774 139.434,-10.1774 139.434,-10.1774 136.372,-12.7514 141.75,-12.933 133.31,-15.3255 133.31,-15.3255\" stroke=\"black\"/>\n",
       "<text font-family=\"Courier,monospace\" font-size=\"9.00\" text-anchor=\"start\" x=\"157\" y=\"-21.7232\">0</text>\n",
       "<text font-family=\"Courier,monospace\" font-size=\"9.00\" text-anchor=\"start\" x=\"157\" y=\"-7.72318\">1</text>\n",
       "</g>\n",
       "<!-- 2&#45;&gt;1 -->\n",
       "<g class=\"edge\" id=\"edge5\"><title>2-&gt;1</title>\n",
       "<path d=\"M136.197,-29.9403C144.753,-31.4668 156.006,-32.8243 166,-31.9232 169.184,-31.6361 172.55,-31.1657 175.794,-30.6253\" fill=\"none\" stroke=\"black\"/>\n",
       "<polygon fill=\"black\" points=\"183.886,-29.1093 176.685,-34.121 179.954,-29.8459 176.022,-30.5825 176.022,-30.5825 176.022,-30.5825 179.954,-29.8459 175.359,-27.0441 183.886,-29.1093 183.886,-29.1093\" stroke=\"black\"/>\n",
       "<text font-family=\"Courier,monospace\" font-size=\"9.00\" text-anchor=\"start\" x=\"157\" y=\"-37.7232\">0</text>\n",
       "</g>\n",
       "<!-- 2&#45;&gt;2 -->\n",
       "<g class=\"edge\" id=\"edge6\"><title>2-&gt;2</title>\n",
       "<path d=\"M115.295,-38.4296C112.975,-47.3377 115.043,-56.4232 121.5,-56.4232 125.939,-56.4232 128.304,-52.1289 128.594,-46.5502\" fill=\"none\" stroke=\"black\"/>\n",
       "<polygon fill=\"black\" points=\"127.705,-38.4296 132.155,-45.9899 128.14,-42.4058 128.576,-46.382 128.576,-46.382 128.576,-46.382 128.14,-42.4058 124.998,-46.7741 127.705,-38.4296 127.705,-38.4296\" stroke=\"black\"/>\n",
       "<text font-family=\"Courier,monospace\" font-size=\"9.00\" text-anchor=\"start\" x=\"118.5\" y=\"-62.2232\">1</text>\n",
       "</g>\n",
       "</g>\n",
       "</svg>"
      ],
      "text/plain": [
       "<IPython.core.display.SVG object>"
      ]
     },
     "execution_count": 3,
     "metadata": {},
     "output_type": "execute_result"
    }
   ],
   "source": [
    "m.display_graph()"
   ]
  },
  {
   "cell_type": "markdown",
   "metadata": {},
   "source": [
    "Or as a table:"
   ]
  },
  {
   "cell_type": "code",
   "execution_count": 4,
   "metadata": {
    "collapsed": false
   },
   "outputs": [
    {
     "data": {
      "text/html": [
       "<table style=\"font-family: Courier, monospace;\">\n",
       "  <tr><td></td><th>0</th><th>1</th></tr>\n",
       "  <tr><th>&gt;q1</th><td>q1</td><td>q2</td></tr>\n",
       "  <tr><th>@q2</th><td>q3</td><td>q2</td></tr>\n",
       "  <tr><th>q3</th><td>q2</td><td>q2</td></tr>\n",
       "</table>\n"
      ],
      "text/plain": [
       "<IPython.core.display.HTML object>"
      ]
     },
     "execution_count": 4,
     "metadata": {},
     "output_type": "execute_result"
    }
   ],
   "source": [
    "m.display_table()"
   ]
  },
  {
   "cell_type": "markdown",
   "metadata": {},
   "source": [
    "Similarly, to read a graph in TGF format:"
   ]
  },
  {
   "cell_type": "code",
   "execution_count": 5,
   "metadata": {
    "collapsed": false
   },
   "outputs": [
    {
     "data": {
      "image/svg+xml": [
       "<svg height=\"80pt\" viewBox=\"0.00 0.00 213.00 80.42\" width=\"213pt\" xmlns=\"http://www.w3.org/2000/svg\" xmlns:xlink=\"http://www.w3.org/1999/xlink\">\n",
       "<g class=\"graph\" id=\"graph0\" transform=\"scale(1 1) rotate(0) translate(4 76.4232)\">\n",
       "<title>%3</title>\n",
       "<polygon fill=\"white\" points=\"-4,4 -4,-76.4232 209,-76.4232 209,4 -4,4\" stroke=\"none\"/>\n",
       "<!-- 0 -->\n",
       "<g class=\"node\" id=\"node1\"><title>0</title>\n",
       "<path d=\"M54,-34.4232C54,-34.4232 43,-34.4232 43,-34.4232 40.5,-34.4232 38,-31.9232 38,-29.4232 38,-29.4232 38,-24.4232 38,-24.4232 38,-21.9232 40.5,-19.4232 43,-19.4232 43,-19.4232 54,-19.4232 54,-19.4232 56.5,-19.4232 59,-21.9232 59,-24.4232 59,-24.4232 59,-29.4232 59,-29.4232 59,-31.9232 56.5,-34.4232 54,-34.4232\" fill=\"none\" stroke=\"black\"/>\n",
       "<text font-family=\"Courier,monospace\" font-size=\"10.00\" text-anchor=\"middle\" x=\"48.5\" y=\"-24.4232\">q1</text>\n",
       "</g>\n",
       "<!-- 0&#45;&gt;0 -->\n",
       "<g class=\"edge\" id=\"edge3\"><title>0-&gt;0</title>\n",
       "<path d=\"M44.5625,-34.4935C41.9375,-42.8607 43.25,-52.4232 48.5,-52.4232 52.0273,-52.4232 53.7772,-48.1065 53.7497,-42.736\" fill=\"none\" stroke=\"black\"/>\n",
       "<polygon fill=\"black\" points=\"52.4375,-34.4935 57.2506,-41.828 53.0664,-38.4438 53.6953,-42.394 53.6953,-42.394 53.6953,-42.394 53.0664,-38.4438 50.1401,-42.96 52.4375,-34.4935 52.4375,-34.4935\" stroke=\"black\"/>\n",
       "<text font-family=\"Courier,monospace\" font-size=\"9.00\" text-anchor=\"start\" x=\"45.5\" y=\"-58.2232\">0</text>\n",
       "</g>\n",
       "<!-- 2 -->\n",
       "<g class=\"node\" id=\"node4\"><title>2</title>\n",
       "<path d=\"M127,-34.4232C127,-34.4232 116,-34.4232 116,-34.4232 113.5,-34.4232 111,-31.9232 111,-29.4232 111,-29.4232 111,-24.4232 111,-24.4232 111,-21.9232 113.5,-19.4232 116,-19.4232 116,-19.4232 127,-19.4232 127,-19.4232 129.5,-19.4232 132,-21.9232 132,-24.4232 132,-24.4232 132,-29.4232 132,-29.4232 132,-31.9232 129.5,-34.4232 127,-34.4232\" fill=\"none\" stroke=\"black\"/>\n",
       "<path d=\"M128.333,-38.4232C128.333,-38.4232 114.667,-38.4232 114.667,-38.4232 110.833,-38.4232 107,-34.5898 107,-30.7565 107,-30.7565 107,-23.0898 107,-23.0898 107,-19.2565 110.833,-15.4232 114.667,-15.4232 114.667,-15.4232 128.333,-15.4232 128.333,-15.4232 132.167,-15.4232 136,-19.2565 136,-23.0898 136,-23.0898 136,-30.7565 136,-30.7565 136,-34.5898 132.167,-38.4232 128.333,-38.4232\" fill=\"none\" stroke=\"black\"/>\n",
       "<text font-family=\"Courier,monospace\" font-size=\"10.00\" text-anchor=\"middle\" x=\"121.5\" y=\"-24.4232\">q2</text>\n",
       "</g>\n",
       "<!-- 0&#45;&gt;2 -->\n",
       "<g class=\"edge\" id=\"edge2\"><title>0-&gt;2</title>\n",
       "<path d=\"M59.0754,-26.9232C69.1977,-26.9232 85.5031,-26.9232 98.7712,-26.9232\" fill=\"none\" stroke=\"black\"/>\n",
       "<polygon fill=\"black\" points=\"106.956,-26.9232 98.9561,-30.5233 102.956,-26.9232 98.9561,-26.9233 98.9561,-26.9233 98.9561,-26.9233 102.956,-26.9232 98.956,-23.3233 106.956,-26.9232 106.956,-26.9232\" stroke=\"black\"/>\n",
       "<text font-family=\"Courier,monospace\" font-size=\"9.00\" text-anchor=\"start\" x=\"80\" y=\"-32.7232\">1</text>\n",
       "</g>\n",
       "<!-- START -->\n",
       "<g class=\"node\" id=\"node2\"><title>START</title>\n",
       "</g>\n",
       "<!-- START&#45;&gt;0 -->\n",
       "<g class=\"edge\" id=\"edge1\"><title>START-&gt;0</title>\n",
       "<path d=\"M1.13339,-26.9232C2.67424,-26.9232 17.2724,-26.9232 29.6829,-26.9232\" fill=\"none\" stroke=\"black\"/>\n",
       "<polygon fill=\"black\" points=\"37.7379,-26.9232 29.738,-30.5233 33.7379,-26.9232 29.7379,-26.9233 29.7379,-26.9233 29.7379,-26.9233 33.7379,-26.9232 29.7379,-23.3233 37.7379,-26.9232 37.7379,-26.9232\" stroke=\"black\"/>\n",
       "</g>\n",
       "<!-- 1 -->\n",
       "<g class=\"node\" id=\"node3\"><title>1</title>\n",
       "<path d=\"M200,-34.4232C200,-34.4232 189,-34.4232 189,-34.4232 186.5,-34.4232 184,-31.9232 184,-29.4232 184,-29.4232 184,-24.4232 184,-24.4232 184,-21.9232 186.5,-19.4232 189,-19.4232 189,-19.4232 200,-19.4232 200,-19.4232 202.5,-19.4232 205,-21.9232 205,-24.4232 205,-24.4232 205,-29.4232 205,-29.4232 205,-31.9232 202.5,-34.4232 200,-34.4232\" fill=\"none\" stroke=\"black\"/>\n",
       "<text font-family=\"Courier,monospace\" font-size=\"10.00\" text-anchor=\"middle\" x=\"194.5\" y=\"-24.4232\">q3</text>\n",
       "</g>\n",
       "<!-- 1&#45;&gt;2 -->\n",
       "<g class=\"edge\" id=\"edge4\"><title>1-&gt;2</title>\n",
       "<path d=\"M187.702,-19.1676C182.706,-13.1843 174.907,-5.36666 166,-1.92318 161.025,-0 159.036,-0.167587 154,-1.92318 148.895,-3.70287 143.996,-6.69339 139.646,-9.99937\" fill=\"none\" stroke=\"black\"/>\n",
       "<polygon fill=\"black\" points=\"133.31,-15.3255 137.117,-7.42181 136.372,-12.7514 139.434,-10.1774 139.434,-10.1774 139.434,-10.1774 136.372,-12.7514 141.75,-12.933 133.31,-15.3255 133.31,-15.3255\" stroke=\"black\"/>\n",
       "<text font-family=\"Courier,monospace\" font-size=\"9.00\" text-anchor=\"start\" x=\"157\" y=\"-21.7232\">0</text>\n",
       "<text font-family=\"Courier,monospace\" font-size=\"9.00\" text-anchor=\"start\" x=\"157\" y=\"-7.72318\">1</text>\n",
       "</g>\n",
       "<!-- 2&#45;&gt;1 -->\n",
       "<g class=\"edge\" id=\"edge5\"><title>2-&gt;1</title>\n",
       "<path d=\"M136.197,-29.9403C144.753,-31.4668 156.006,-32.8243 166,-31.9232 169.184,-31.6361 172.55,-31.1657 175.794,-30.6253\" fill=\"none\" stroke=\"black\"/>\n",
       "<polygon fill=\"black\" points=\"183.886,-29.1093 176.685,-34.121 179.954,-29.8459 176.022,-30.5825 176.022,-30.5825 176.022,-30.5825 179.954,-29.8459 175.359,-27.0441 183.886,-29.1093 183.886,-29.1093\" stroke=\"black\"/>\n",
       "<text font-family=\"Courier,monospace\" font-size=\"9.00\" text-anchor=\"start\" x=\"157\" y=\"-37.7232\">0</text>\n",
       "</g>\n",
       "<!-- 2&#45;&gt;2 -->\n",
       "<g class=\"edge\" id=\"edge6\"><title>2-&gt;2</title>\n",
       "<path d=\"M115.295,-38.4296C112.975,-47.3377 115.043,-56.4232 121.5,-56.4232 125.939,-56.4232 128.304,-52.1289 128.594,-46.5502\" fill=\"none\" stroke=\"black\"/>\n",
       "<polygon fill=\"black\" points=\"127.705,-38.4296 132.155,-45.9899 128.14,-42.4058 128.576,-46.382 128.576,-46.382 128.576,-46.382 128.14,-42.4058 124.998,-46.7741 127.705,-38.4296 127.705,-38.4296\" stroke=\"black\"/>\n",
       "<text font-family=\"Courier,monospace\" font-size=\"9.00\" text-anchor=\"start\" x=\"118.5\" y=\"-62.2232\">1</text>\n",
       "</g>\n",
       "</g>\n",
       "</svg>"
      ],
      "text/plain": [
       "<IPython.core.display.SVG object>"
      ]
     },
     "execution_count": 5,
     "metadata": {},
     "output_type": "execute_result"
    }
   ],
   "source": [
    "m = read_tgf(\"examples/dfa.tgf\")\n",
    "m.display_graph()"
   ]
  }
 ],
 "metadata": {
  "kernelspec": {
   "display_name": "Python 2",
   "language": "python",
   "name": "python2"
  },
  "language_info": {
   "codemirror_mode": {
    "name": "ipython",
    "version": 2
   },
   "file_extension": ".py",
   "mimetype": "text/x-python",
   "name": "python",
   "nbconvert_exporter": "python",
   "pygments_lexer": "ipython2",
   "version": "2.7.10"
  }
 },
 "nbformat": 4,
 "nbformat_minor": 0
}
