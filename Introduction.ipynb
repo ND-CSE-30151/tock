{
 "cells": [
  {
   "cell_type": "markdown",
   "metadata": {},
   "source": [
    "# Introduction"
   ]
  },
  {
   "cell_type": "markdown",
   "metadata": {},
   "source": [
    "## Loading the package\n",
    "\n",
    "The Tock package is in the same directory as these notebooks. To load the package, just do:"
   ]
  },
  {
   "cell_type": "code",
   "execution_count": 1,
   "metadata": {
    "collapsed": false
   },
   "outputs": [],
   "source": [
    "from tock import *"
   ]
  },
  {
   "cell_type": "markdown",
   "metadata": {},
   "source": [
    "## Working with machines"
   ]
  },
  {
   "cell_type": "markdown",
   "metadata": {},
   "source": [
    "Sipser and other textbooks represent automata using either tables or graphs. You can create automata either way and load them into Tock.\n",
    "\n",
    "To create tables, you can use any spreadsheet software (Excel, OpenOffice, iWork, Google Drive) and export in CSV format.\n",
    "\n",
    "Graphs should be in Trivial Graph Format (TGF), which most graph-editing software ([yED], [Gephi]) can export in.\n",
    "\n",
    "To read a table in CSV format:\n",
    "\n",
    "[yED]: http://www.yworks.com/en/products/yfiles/yed/\n",
    "[Gephi]: http://gephi.github.io"
   ]
  },
  {
   "cell_type": "code",
   "execution_count": 2,
   "metadata": {
    "collapsed": false
   },
   "outputs": [],
   "source": [
    "m = read_csv(\"examples/sipser-1-4.csv\")"
   ]
  },
  {
   "cell_type": "markdown",
   "metadata": {},
   "source": [
    "To view the automaton as a graph:"
   ]
  },
  {
   "cell_type": "code",
   "execution_count": 3,
   "metadata": {
    "collapsed": false
   },
   "outputs": [
    {
     "data": {
      "image/svg+xml": [
       "<svg height=\"81pt\" viewBox=\"0.00 0.00 213.00 81.42\" width=\"213pt\" xmlns=\"http://www.w3.org/2000/svg\" xmlns:xlink=\"http://www.w3.org/1999/xlink\">\n",
       "<g class=\"graph\" id=\"graph0\" transform=\"scale(1 1) rotate(0) translate(4 77.4232)\">\n",
       "<title>%3</title>\n",
       "<polygon fill=\"white\" points=\"-4,4 -4,-77.4232 209,-77.4232 209,4 -4,4\" stroke=\"none\"/>\n",
       "<!-- START -->\n",
       "<g class=\"node\" id=\"node1\"><title>START</title>\n",
       "</g>\n",
       "<!-- 0 -->\n",
       "<g class=\"node\" id=\"node2\"><title>0</title>\n",
       "<path d=\"M53.3333,-35.4232C53.3333,-35.4232 43.6667,-35.4232 43.6667,-35.4232 40.8333,-35.4232 38,-32.5898 38,-29.7565 38,-29.7565 38,-24.0898 38,-24.0898 38,-21.2565 40.8333,-18.4232 43.6667,-18.4232 43.6667,-18.4232 53.3333,-18.4232 53.3333,-18.4232 56.1667,-18.4232 59,-21.2565 59,-24.0898 59,-24.0898 59,-29.7565 59,-29.7565 59,-32.5898 56.1667,-35.4232 53.3333,-35.4232\" fill=\"none\" stroke=\"black\"/>\n",
       "<text font-family=\"Courier,monospace\" font-size=\"10.00\" text-anchor=\"middle\" x=\"48.5\" y=\"-24.4232\">q1</text>\n",
       "</g>\n",
       "<!-- START&#45;&gt;0 -->\n",
       "<g class=\"edge\" id=\"edge1\"><title>START-&gt;0</title>\n",
       "<path d=\"M1.13339,-26.9232C2.79277,-26.9232 19.5956,-26.9232 32.5011,-26.9232\" fill=\"none\" stroke=\"black\"/>\n",
       "<polygon fill=\"black\" points=\"37.7379,-26.9232 32.738,-29.1733 35.2379,-26.9232 32.7379,-26.9233 32.7379,-26.9233 32.7379,-26.9233 35.2379,-26.9232 32.7379,-24.6733 37.7379,-26.9232 37.7379,-26.9232\" stroke=\"black\"/>\n",
       "</g>\n",
       "<!-- 0&#45;&gt;0 -->\n",
       "<g class=\"edge\" id=\"edge2\"><title>0-&gt;0</title>\n",
       "<path d=\"M44.3279,-35.6089C42.0234,-44.0971 43.4141,-53.4232 48.5,-53.4232 52.5529,-53.4232 54.2592,-47.501 53.619,-40.7999\" fill=\"none\" stroke=\"black\"/>\n",
       "<polygon fill=\"black\" points=\"52.6721,-35.6089 55.7829,-40.1239 53.1207,-38.0683 53.5694,-40.5277 53.5694,-40.5277 53.5694,-40.5277 53.1207,-38.0683 51.356,-40.9315 52.6721,-35.6089 52.6721,-35.6089\" stroke=\"black\"/>\n",
       "<text font-family=\"Courier,monospace\" font-size=\"9.00\" text-anchor=\"start\" x=\"45.5\" y=\"-59.2232\">0</text>\n",
       "</g>\n",
       "<!-- 1 -->\n",
       "<g class=\"node\" id=\"node3\"><title>1</title>\n",
       "<path d=\"M126.333,-35.4232C126.333,-35.4232 116.667,-35.4232 116.667,-35.4232 113.833,-35.4232 111,-32.5898 111,-29.7565 111,-29.7565 111,-24.0898 111,-24.0898 111,-21.2565 113.833,-18.4232 116.667,-18.4232 116.667,-18.4232 126.333,-18.4232 126.333,-18.4232 129.167,-18.4232 132,-21.2565 132,-24.0898 132,-24.0898 132,-29.7565 132,-29.7565 132,-32.5898 129.167,-35.4232 126.333,-35.4232\" fill=\"none\" stroke=\"black\"/>\n",
       "<path d=\"M127.667,-39.4232C127.667,-39.4232 115.333,-39.4232 115.333,-39.4232 111.167,-39.4232 107,-35.2565 107,-31.0898 107,-31.0898 107,-22.7565 107,-22.7565 107,-18.5898 111.167,-14.4232 115.333,-14.4232 115.333,-14.4232 127.667,-14.4232 127.667,-14.4232 131.833,-14.4232 136,-18.5898 136,-22.7565 136,-22.7565 136,-31.0898 136,-31.0898 136,-35.2565 131.833,-39.4232 127.667,-39.4232\" fill=\"none\" stroke=\"black\"/>\n",
       "<text font-family=\"Courier,monospace\" font-size=\"10.00\" text-anchor=\"middle\" x=\"121.5\" y=\"-24.4232\">q2</text>\n",
       "</g>\n",
       "<!-- 0&#45;&gt;1 -->\n",
       "<g class=\"edge\" id=\"edge3\"><title>0-&gt;1</title>\n",
       "<path d=\"M59.0754,-26.9232C69.9689,-26.9232 88.0236,-26.9232 101.747,-26.9232\" fill=\"none\" stroke=\"black\"/>\n",
       "<polygon fill=\"black\" points=\"106.956,-26.9232 101.956,-29.1733 104.456,-26.9232 101.956,-26.9233 101.956,-26.9233 101.956,-26.9233 104.456,-26.9232 101.956,-24.6733 106.956,-26.9232 106.956,-26.9232\" stroke=\"black\"/>\n",
       "<text font-family=\"Courier,monospace\" font-size=\"9.00\" text-anchor=\"start\" x=\"80\" y=\"-32.7232\">1</text>\n",
       "</g>\n",
       "<!-- 1&#45;&gt;1 -->\n",
       "<g class=\"edge\" id=\"edge6\"><title>1-&gt;1</title>\n",
       "<path d=\"M115.142,-39.455C113.072,-48.4566 115.191,-57.4232 121.5,-57.4232 126.626,-57.4232 128.986,-51.5038 128.58,-44.4558\" fill=\"none\" stroke=\"black\"/>\n",
       "<polygon fill=\"black\" points=\"127.858,-39.455 130.8,-44.0818 128.215,-41.9293 128.573,-44.4036 128.573,-44.4036 128.573,-44.4036 128.215,-41.9293 126.346,-44.7254 127.858,-39.455 127.858,-39.455\" stroke=\"black\"/>\n",
       "<text font-family=\"Courier,monospace\" font-size=\"9.00\" text-anchor=\"start\" x=\"118.5\" y=\"-63.2232\">1</text>\n",
       "</g>\n",
       "<!-- 2 -->\n",
       "<g class=\"node\" id=\"node4\"><title>2</title>\n",
       "<path d=\"M199.333,-35.4232C199.333,-35.4232 189.667,-35.4232 189.667,-35.4232 186.833,-35.4232 184,-32.5898 184,-29.7565 184,-29.7565 184,-24.0898 184,-24.0898 184,-21.2565 186.833,-18.4232 189.667,-18.4232 189.667,-18.4232 199.333,-18.4232 199.333,-18.4232 202.167,-18.4232 205,-21.2565 205,-24.0898 205,-24.0898 205,-29.7565 205,-29.7565 205,-32.5898 202.167,-35.4232 199.333,-35.4232\" fill=\"none\" stroke=\"black\"/>\n",
       "<text font-family=\"Courier,monospace\" font-size=\"10.00\" text-anchor=\"middle\" x=\"194.5\" y=\"-24.4232\">q3</text>\n",
       "</g>\n",
       "<!-- 1&#45;&gt;2 -->\n",
       "<g class=\"edge\" id=\"edge5\"><title>1-&gt;2</title>\n",
       "<path d=\"M136.197,-29.9403C144.753,-31.4668 156.006,-32.8243 166,-31.9232 170.214,-31.5432 174.747,-30.8421 178.894,-30.0827\" fill=\"none\" stroke=\"black\"/>\n",
       "<polygon fill=\"black\" points=\"183.886,-29.1093 179.409,-32.2747 181.432,-29.5878 178.978,-30.0663 178.978,-30.0663 178.978,-30.0663 181.432,-29.5878 178.547,-27.8579 183.886,-29.1093 183.886,-29.1093\" stroke=\"black\"/>\n",
       "<text font-family=\"Courier,monospace\" font-size=\"9.00\" text-anchor=\"start\" x=\"157\" y=\"-37.7232\">0</text>\n",
       "</g>\n",
       "<!-- 2&#45;&gt;1 -->\n",
       "<g class=\"edge\" id=\"edge4\"><title>2-&gt;1</title>\n",
       "<path d=\"M186.868,-18.1823C181.86,-12.352 174.425,-5.18052 166,-1.92318 161.025,-0 159.036,-0.167587 154,-1.92318 148.448,-3.85871 143.139,-7.22643 138.516,-10.8745\" fill=\"none\" stroke=\"black\"/>\n",
       "<polygon fill=\"black\" points=\"134.474,-14.2706 136.855,-9.33134 136.388,-12.6623 138.302,-11.0539 138.302,-11.0539 138.302,-11.0539 136.388,-12.6623 139.75,-12.7765 134.474,-14.2706 134.474,-14.2706\" stroke=\"black\"/>\n",
       "<text font-family=\"Courier,monospace\" font-size=\"9.00\" text-anchor=\"start\" x=\"157\" y=\"-21.7232\">0</text>\n",
       "<text font-family=\"Courier,monospace\" font-size=\"9.00\" text-anchor=\"start\" x=\"157\" y=\"-7.72318\">1</text>\n",
       "</g>\n",
       "</g>\n",
       "</svg>"
      ],
      "text/plain": [
       "<IPython.core.display.SVG object>"
      ]
     },
     "metadata": {},
     "output_type": "display_data"
    }
   ],
   "source": [
    "to_graph(m)"
   ]
  },
  {
   "cell_type": "markdown",
   "metadata": {},
   "source": [
    "Or as a table:"
   ]
  },
  {
   "cell_type": "code",
   "execution_count": 4,
   "metadata": {
    "collapsed": false
   },
   "outputs": [
    {
     "data": {
      "text/html": [
       "<table style=\"font-family: Courier, monospace;\">\n",
       "  <tr>\n",
       "    <th></th>\n",
       "    <th>0</th>\n",
       "    <th>1</th>\n",
       "  </tr>\n",
       "  <tr>\n",
       "    <th>&gt;q1</th>\n",
       "    <td>q1</td>\n",
       "    <td>q2</td>\n",
       "  </tr>\n",
       "  <tr>\n",
       "    <th>@q2</th>\n",
       "    <td>q3</td>\n",
       "    <td>q2</td>\n",
       "  </tr>\n",
       "  <tr>\n",
       "    <th>q3</th>\n",
       "    <td>q2</td>\n",
       "    <td>q2</td>\n",
       "  </tr>\n",
       "</table>"
      ],
      "text/plain": [
       "<tock.tables.Table at 0x10bea0d10>"
      ]
     },
     "execution_count": 4,
     "metadata": {},
     "output_type": "execute_result"
    }
   ],
   "source": [
    "to_table(m)"
   ]
  },
  {
   "cell_type": "markdown",
   "metadata": {},
   "source": [
    "Similarly, to read a graph in TGF format:"
   ]
  },
  {
   "cell_type": "code",
   "execution_count": 5,
   "metadata": {
    "collapsed": false
   },
   "outputs": [
    {
     "data": {
      "image/svg+xml": [
       "<svg height=\"81pt\" viewBox=\"0.00 0.00 213.00 81.42\" width=\"213pt\" xmlns=\"http://www.w3.org/2000/svg\" xmlns:xlink=\"http://www.w3.org/1999/xlink\">\n",
       "<g class=\"graph\" id=\"graph0\" transform=\"scale(1 1) rotate(0) translate(4 77.4232)\">\n",
       "<title>%3</title>\n",
       "<polygon fill=\"white\" points=\"-4,4 -4,-77.4232 209,-77.4232 209,4 -4,4\" stroke=\"none\"/>\n",
       "<!-- START -->\n",
       "<g class=\"node\" id=\"node1\"><title>START</title>\n",
       "</g>\n",
       "<!-- 0 -->\n",
       "<g class=\"node\" id=\"node2\"><title>0</title>\n",
       "<path d=\"M53.3333,-35.4232C53.3333,-35.4232 43.6667,-35.4232 43.6667,-35.4232 40.8333,-35.4232 38,-32.5898 38,-29.7565 38,-29.7565 38,-24.0898 38,-24.0898 38,-21.2565 40.8333,-18.4232 43.6667,-18.4232 43.6667,-18.4232 53.3333,-18.4232 53.3333,-18.4232 56.1667,-18.4232 59,-21.2565 59,-24.0898 59,-24.0898 59,-29.7565 59,-29.7565 59,-32.5898 56.1667,-35.4232 53.3333,-35.4232\" fill=\"none\" stroke=\"black\"/>\n",
       "<text font-family=\"Courier,monospace\" font-size=\"10.00\" text-anchor=\"middle\" x=\"48.5\" y=\"-24.4232\">q1</text>\n",
       "</g>\n",
       "<!-- START&#45;&gt;0 -->\n",
       "<g class=\"edge\" id=\"edge1\"><title>START-&gt;0</title>\n",
       "<path d=\"M1.13339,-26.9232C2.79277,-26.9232 19.5956,-26.9232 32.5011,-26.9232\" fill=\"none\" stroke=\"black\"/>\n",
       "<polygon fill=\"black\" points=\"37.7379,-26.9232 32.738,-29.1733 35.2379,-26.9232 32.7379,-26.9233 32.7379,-26.9233 32.7379,-26.9233 35.2379,-26.9232 32.7379,-24.6733 37.7379,-26.9232 37.7379,-26.9232\" stroke=\"black\"/>\n",
       "</g>\n",
       "<!-- 0&#45;&gt;0 -->\n",
       "<g class=\"edge\" id=\"edge2\"><title>0-&gt;0</title>\n",
       "<path d=\"M44.3279,-35.6089C42.0234,-44.0971 43.4141,-53.4232 48.5,-53.4232 52.5529,-53.4232 54.2592,-47.501 53.619,-40.7999\" fill=\"none\" stroke=\"black\"/>\n",
       "<polygon fill=\"black\" points=\"52.6721,-35.6089 55.7829,-40.1239 53.1207,-38.0683 53.5694,-40.5277 53.5694,-40.5277 53.5694,-40.5277 53.1207,-38.0683 51.356,-40.9315 52.6721,-35.6089 52.6721,-35.6089\" stroke=\"black\"/>\n",
       "<text font-family=\"Courier,monospace\" font-size=\"9.00\" text-anchor=\"start\" x=\"45.5\" y=\"-59.2232\">0</text>\n",
       "</g>\n",
       "<!-- 1 -->\n",
       "<g class=\"node\" id=\"node3\"><title>1</title>\n",
       "<path d=\"M126.333,-35.4232C126.333,-35.4232 116.667,-35.4232 116.667,-35.4232 113.833,-35.4232 111,-32.5898 111,-29.7565 111,-29.7565 111,-24.0898 111,-24.0898 111,-21.2565 113.833,-18.4232 116.667,-18.4232 116.667,-18.4232 126.333,-18.4232 126.333,-18.4232 129.167,-18.4232 132,-21.2565 132,-24.0898 132,-24.0898 132,-29.7565 132,-29.7565 132,-32.5898 129.167,-35.4232 126.333,-35.4232\" fill=\"none\" stroke=\"black\"/>\n",
       "<path d=\"M127.667,-39.4232C127.667,-39.4232 115.333,-39.4232 115.333,-39.4232 111.167,-39.4232 107,-35.2565 107,-31.0898 107,-31.0898 107,-22.7565 107,-22.7565 107,-18.5898 111.167,-14.4232 115.333,-14.4232 115.333,-14.4232 127.667,-14.4232 127.667,-14.4232 131.833,-14.4232 136,-18.5898 136,-22.7565 136,-22.7565 136,-31.0898 136,-31.0898 136,-35.2565 131.833,-39.4232 127.667,-39.4232\" fill=\"none\" stroke=\"black\"/>\n",
       "<text font-family=\"Courier,monospace\" font-size=\"10.00\" text-anchor=\"middle\" x=\"121.5\" y=\"-24.4232\">q2</text>\n",
       "</g>\n",
       "<!-- 0&#45;&gt;1 -->\n",
       "<g class=\"edge\" id=\"edge3\"><title>0-&gt;1</title>\n",
       "<path d=\"M59.0754,-26.9232C69.9689,-26.9232 88.0236,-26.9232 101.747,-26.9232\" fill=\"none\" stroke=\"black\"/>\n",
       "<polygon fill=\"black\" points=\"106.956,-26.9232 101.956,-29.1733 104.456,-26.9232 101.956,-26.9233 101.956,-26.9233 101.956,-26.9233 104.456,-26.9232 101.956,-24.6733 106.956,-26.9232 106.956,-26.9232\" stroke=\"black\"/>\n",
       "<text font-family=\"Courier,monospace\" font-size=\"9.00\" text-anchor=\"start\" x=\"80\" y=\"-32.7232\">1</text>\n",
       "</g>\n",
       "<!-- 1&#45;&gt;1 -->\n",
       "<g class=\"edge\" id=\"edge6\"><title>1-&gt;1</title>\n",
       "<path d=\"M115.142,-39.455C113.072,-48.4566 115.191,-57.4232 121.5,-57.4232 126.626,-57.4232 128.986,-51.5038 128.58,-44.4558\" fill=\"none\" stroke=\"black\"/>\n",
       "<polygon fill=\"black\" points=\"127.858,-39.455 130.8,-44.0818 128.215,-41.9293 128.573,-44.4036 128.573,-44.4036 128.573,-44.4036 128.215,-41.9293 126.346,-44.7254 127.858,-39.455 127.858,-39.455\" stroke=\"black\"/>\n",
       "<text font-family=\"Courier,monospace\" font-size=\"9.00\" text-anchor=\"start\" x=\"118.5\" y=\"-63.2232\">1</text>\n",
       "</g>\n",
       "<!-- 2 -->\n",
       "<g class=\"node\" id=\"node4\"><title>2</title>\n",
       "<path d=\"M199.333,-35.4232C199.333,-35.4232 189.667,-35.4232 189.667,-35.4232 186.833,-35.4232 184,-32.5898 184,-29.7565 184,-29.7565 184,-24.0898 184,-24.0898 184,-21.2565 186.833,-18.4232 189.667,-18.4232 189.667,-18.4232 199.333,-18.4232 199.333,-18.4232 202.167,-18.4232 205,-21.2565 205,-24.0898 205,-24.0898 205,-29.7565 205,-29.7565 205,-32.5898 202.167,-35.4232 199.333,-35.4232\" fill=\"none\" stroke=\"black\"/>\n",
       "<text font-family=\"Courier,monospace\" font-size=\"10.00\" text-anchor=\"middle\" x=\"194.5\" y=\"-24.4232\">q3</text>\n",
       "</g>\n",
       "<!-- 1&#45;&gt;2 -->\n",
       "<g class=\"edge\" id=\"edge5\"><title>1-&gt;2</title>\n",
       "<path d=\"M136.197,-29.9403C144.753,-31.4668 156.006,-32.8243 166,-31.9232 170.214,-31.5432 174.747,-30.8421 178.894,-30.0827\" fill=\"none\" stroke=\"black\"/>\n",
       "<polygon fill=\"black\" points=\"183.886,-29.1093 179.409,-32.2747 181.432,-29.5878 178.978,-30.0663 178.978,-30.0663 178.978,-30.0663 181.432,-29.5878 178.547,-27.8579 183.886,-29.1093 183.886,-29.1093\" stroke=\"black\"/>\n",
       "<text font-family=\"Courier,monospace\" font-size=\"9.00\" text-anchor=\"start\" x=\"157\" y=\"-37.7232\">0</text>\n",
       "</g>\n",
       "<!-- 2&#45;&gt;1 -->\n",
       "<g class=\"edge\" id=\"edge4\"><title>2-&gt;1</title>\n",
       "<path d=\"M186.868,-18.1823C181.86,-12.352 174.425,-5.18052 166,-1.92318 161.025,-0 159.036,-0.167587 154,-1.92318 148.448,-3.85871 143.139,-7.22643 138.516,-10.8745\" fill=\"none\" stroke=\"black\"/>\n",
       "<polygon fill=\"black\" points=\"134.474,-14.2706 136.855,-9.33134 136.388,-12.6623 138.302,-11.0539 138.302,-11.0539 138.302,-11.0539 136.388,-12.6623 139.75,-12.7765 134.474,-14.2706 134.474,-14.2706\" stroke=\"black\"/>\n",
       "<text font-family=\"Courier,monospace\" font-size=\"9.00\" text-anchor=\"start\" x=\"157\" y=\"-21.7232\">0</text>\n",
       "<text font-family=\"Courier,monospace\" font-size=\"9.00\" text-anchor=\"start\" x=\"157\" y=\"-7.72318\">1</text>\n",
       "</g>\n",
       "</g>\n",
       "</svg>"
      ],
      "text/plain": [
       "<IPython.core.display.SVG object>"
      ]
     },
     "metadata": {},
     "output_type": "display_data"
    }
   ],
   "source": [
    "m = read_tgf(\"examples/sipser-1-4.tgf\")\n",
    "to_graph(m)"
   ]
  }
 ],
 "metadata": {
  "kernelspec": {
   "display_name": "Python 2",
   "language": "python",
   "name": "python2"
  },
  "language_info": {
   "codemirror_mode": {
    "name": "ipython",
    "version": 2
   },
   "file_extension": ".py",
   "mimetype": "text/x-python",
   "name": "python",
   "nbconvert_exporter": "python",
   "pygments_lexer": "ipython2",
   "version": "2.7.10"
  }
 },
 "nbformat": 4,
 "nbformat_minor": 0
}
