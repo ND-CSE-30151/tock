{
 "cells": [
  {
   "cell_type": "code",
   "execution_count": 1,
   "metadata": {
    "collapsed": false
   },
   "outputs": [
    {
     "data": {
      "application/javascript": [
       "require.config({waitSeconds: 10, paths: {viz: \"//github.com/mdaines/viz.js/releases/download/v1.2.0/viz\"}, shim: {viz: {exports: \"Viz\"}}}); require.undef(\"viz\")"
      ],
      "text/plain": [
       "<IPython.core.display.Javascript object>"
      ]
     },
     "metadata": {},
     "output_type": "display_data"
    }
   ],
   "source": [
    "from tock import *"
   ]
  },
  {
   "cell_type": "markdown",
   "metadata": {},
   "source": [
    "Nondeterministic finite automata\n",
    "================================\n",
    "\n",
    "In an NFA, the cell contents are sets, which you write using curly braces. Use `{}` or nothing for the empty set. Use `&` for the empty string. (The ampersand is supposed to look like \"et\", so I figured it would be a good approximation to a Greek \"e\".)\n"
   ]
  },
  {
   "cell_type": "code",
   "execution_count": 2,
   "metadata": {
    "collapsed": false
   },
   "outputs": [
    {
     "data": {
      "text/html": [
       "<table style=\"font-family: Courier, monospace;\">\n",
       "  <tr><td></td><th>0</th><th>1</th><th>&epsilon;</th></tr>\n",
       "  <tr><th>&gt;q1</th><td>q1</td><td>{[(Store(['q2'], 0),)],[(Store(['q1'], 0),)]}</td><td></td></tr>\n",
       "  <tr><th>q2</th><td>q3</td><td></td><td>q3</td></tr>\n",
       "  <tr><th>q3</th><td></td><td>q4</td><td></td></tr>\n",
       "  <tr><th>@q4</th><td>q4</td><td>q4</td><td></td></tr>\n",
       "</table>\n"
      ],
      "text/plain": [
       "<IPython.core.display.HTML object>"
      ]
     },
     "execution_count": 2,
     "metadata": {},
     "output_type": "execute_result"
    }
   ],
   "source": [
    "m = read_csv(\"examples/nfa.csv\")\n",
    "m.display_table()"
   ]
  },
  {
   "cell_type": "code",
   "execution_count": 3,
   "metadata": {
    "collapsed": false
   },
   "outputs": [
    {
     "data": {
      "application/javascript": [
       "require([\"viz\"], function (Viz) {var div = $(\"<div>\"); element.append(div); div.append(Viz(\"digraph {\\n  rankdir=LR;\\n  node [fontname=Courier,fontsize=10,shape=box,style=rounded,height=0,width=0,margin=\\\"0.055,0.0277\\\"];\\n  edge [arrowhead=vee,arrowsize=0.8,fontname=Courier,fontsize=9];\\n  0[label=\\\"q1\\\"];\\n  START[shape=none,label=\\\"\\\"];\\n  START -> 0;\\n  1[label=\\\"q3\\\"];\\n  2[label=\\\"q2\\\"];\\n  3[label=\\\"q4\\\",peripheries=2];\\n  1 -> 3[label=<<table border=\\\"0\\\" cellpadding=\\\"1\\\"><tr><td>1</td></tr></table>>];\\n  0 -> 2[label=<<table border=\\\"0\\\" cellpadding=\\\"1\\\"><tr><td>1</td></tr></table>>];\\n  0 -> 0[label=<<table border=\\\"0\\\" cellpadding=\\\"1\\\"><tr><td>0</td></tr><tr><td>1</td></tr></table>>];\\n  2 -> 1[label=<<table border=\\\"0\\\" cellpadding=\\\"1\\\"><tr><td>0</td></tr><tr><td>&epsilon;</td></tr></table>>];\\n  3 -> 3[label=<<table border=\\\"0\\\" cellpadding=\\\"1\\\"><tr><td>0</td></tr><tr><td>1</td></tr></table>>];\\n}\\n\", {format: \"svg\", engine: \"dot\"})); var svg = div.find(\"svg\"); div.css(\"width\", svg.attr(\"width\")); div.css(\"height\", svg.attr(\"height\")); })"
      ],
      "text/plain": [
       "<IPython.core.display.Javascript object>"
      ]
     },
     "execution_count": 3,
     "metadata": {},
     "output_type": "execute_result"
    }
   ],
   "source": [
    "m.display_graph()"
   ]
  },
  {
   "cell_type": "code",
   "execution_count": 4,
   "metadata": {
    "collapsed": false
   },
   "outputs": [
    {
     "data": {
      "application/javascript": [
       "require([\"viz\"], function (Viz) {var div = $(\"<div>\"); element.append(div); div.append(Viz(\"digraph {\\n  rankdir=TB;\\n  node [fontname=Courier,fontsize=10,shape=box,style=rounded,height=0,width=0,margin=\\\"0.055,0.0277\\\"];\\n  edge [arrowhead=vee,arrowsize=0.8];\\n  4595375136[label=<q4>];\\n  4595411640[label=<ACCEPT>];\\n  4595412216[label=<q3>];\\n  4595375352[label=<q2>];\\n  4595409264[label=<q1>];\\n  4595411424[label=<q1>];\\n  4595374200[label=<q2>];\\n  4595375784[label=<q4>];\\n  4595373984[label=<q1>];\\n  4595375568[label=<q1>];\\n  4595374920[label=<q1>];\\n  4595409912[label=<q3>];\\n  4595374704[label=<q3>];\\n  4595409480[label=<q4>];\\n  4595410128[label=<q3>];\\n  4595411208[label=<q2>];\\n  4595015624[label=<START>];\\n  4595410344[label=<q1>];\\n  4595373552[label=<q1>];\\n  4595374488[label=<q3>];\\n  4595376000[label=<q3>];\\n  4595410560[label=<q4>];\\n  4595409048[label=<q2>];\\n  4595374920 -> 4595375352;\\n  4595374200 -> 4595374704;\\n  4595410344 -> 4595411208;\\n  4595376000 -> 4595375784;\\n  4595409048 -> 4595410128;\\n  4595374200 -> 4595374488;\\n  4595375568 -> 4595409264;\\n  4595409048 -> 4595409912;\\n  4595410560 -> 4595411640;\\n  4595411208 -> 4595412216;\\n  4595374488 -> 4595375136;\\n  4595409480 -> 4595410560;\\n  4595375784 -> 4595409480;\\n  4595409264 -> 4595410344;\\n  4595373984 -> 4595374920;\\n  4595373552 -> 4595374200;\\n  4595375136 -> 4595375784;\\n  4595373552 -> 4595373984;\\n  4595409912 -> 4595410560;\\n  4595375352 -> 4595376000;\\n  4595374920 -> 4595375568;\\n  4595375568 -> 4595409048;\\n  4595015624 -> 4595373552;\\n  4595410344 -> 4595411424;\\n  rank0[shape=plaintext,label=<[1] 0 1 1 0 1>];\\n{ rank=same; rank0 4595015624 4595373552 }\\n  rank1[shape=plaintext,label=<[0] 1 1 0 1>];\\n{ rank=same; rank1 4595374200 4595373984 4595374704 }\\n  rank0 -> rank1[style=invis];\\n  rank2[shape=plaintext,label=<[1] 1 0 1>];\\n{ rank=same; rank2 4595374920 4595374488 }\\n  rank1 -> rank2[style=invis];\\n  rank3[shape=plaintext,label=<[1] 0 1>];\\n{ rank=same; rank3 4595375136 4595375352 4595375568 4595376000 }\\n  rank2 -> rank3[style=invis];\\n  rank4[shape=plaintext,label=<[0] 1>];\\n{ rank=same; rank4 4595409264 4595375784 4595410128 4595409048 }\\n  rank3 -> rank4[style=invis];\\n  rank5[shape=plaintext,label=<1>];\\n{ rank=same; rank5 4595409912 4595409480 4595410344 }\\n  rank4 -> rank5[style=invis];\\n  rank6[shape=plaintext,label=<_>];\\n{ rank=same; rank6 4595411640 4595412216 4595411424 4595411208 4595410560 }\\n  rank5 -> rank6[style=invis];\\n}\", {format: \"svg\", engine: \"dot\"})); var svg = div.find(\"svg\"); div.css(\"width\", svg.attr(\"width\")); div.css(\"height\", svg.attr(\"height\")); })"
      ],
      "text/plain": [
       "<IPython.core.display.Javascript object>"
      ]
     },
     "metadata": {},
     "output_type": "display_data"
    }
   ],
   "source": [
    "m.run(\"101101\")"
   ]
  },
  {
   "cell_type": "markdown",
   "metadata": {},
   "source": [
    "Now the run is more complicated looking! Each node is a configuration of the automaton; nodes on the same level correspond to the same input position. An edge between two configurations means that the automaton can move from one to the other."
   ]
  },
  {
   "cell_type": "code",
   "execution_count": 5,
   "metadata": {
    "collapsed": false
   },
   "outputs": [
    {
     "data": {
      "application/javascript": [
       "require([\"viz\"], function (Viz) {var div = $(\"<div>\"); element.append(div); div.append(Viz(\"digraph {\\n  rankdir=TB;\\n  node [fontname=Courier,fontsize=10,shape=box,style=rounded,height=0,width=0,margin=\\\"0.055,0.0277\\\"];\\n  edge [arrowhead=vee,arrowsize=0.8];\\n  4584611352[label=<q1>];\\n  4595412360[label=<q1>];\\n  4595433696[label=<q3>];\\n  4595434200[label=<q1>];\\n  4595412792[label=<q2>];\\n  4595435064[label=<q3>];\\n  4595412648[label=<q1>];\\n  4595435496[label=<q1>];\\n  4595433624[label=<q3>];\\n  4595435280[label=<q3>];\\n  4595433984[label=<q1>];\\n  4595411856[label=<START>];\\n  4595434560[label=<q1>];\\n  4595434776[label=<q2>];\\n  4584611352 -> 4595412360;\\n  4595434560 -> 4595435496;\\n  4595434200 -> 4595434560;\\n  4595412360 -> 4595412792;\\n  4595412648 -> 4595433984;\\n  4595412792 -> 4595433696;\\n  4595433984 -> 4595434200;\\n  4595412360 -> 4595412648;\\n  4595411856 -> 4584611352;\\n  4595434776 -> 4595435280;\\n  4595434200 -> 4595434776;\\n  4595412792 -> 4595433624;\\n  4595434776 -> 4595435064;\\n  rank0[shape=plaintext,label=<[0] 1 0 0 1 0>];\\n{ rank=same; rank0 4584611352 4595411856 }\\n  rank1[shape=plaintext,label=<[1] 0 0 1 0>];\\n{ rank=same; rank1 4595412360 }\\n  rank0 -> rank1[style=invis];\\n  rank2[shape=plaintext,label=<[0] 0 1 0>];\\n{ rank=same; rank2 4595412792 4595412648 4595433624 }\\n  rank1 -> rank2[style=invis];\\n  rank3[shape=plaintext,label=<[0] 1 0>];\\n{ rank=same; rank3 4595433696 4595433984 }\\n  rank2 -> rank3[style=invis];\\n  rank4[shape=plaintext,label=<[1] 0>];\\n{ rank=same; rank4 4595434200 }\\n  rank3 -> rank4[style=invis];\\n  rank5[shape=plaintext,label=<0>];\\n{ rank=same; rank5 4595435280 4595434560 4595434776 }\\n  rank4 -> rank5[style=invis];\\n  rank6[shape=plaintext,label=<_>];\\n{ rank=same; rank6 4595435064 4595435496 }\\n  rank5 -> rank6[style=invis];\\n}\", {format: \"svg\", engine: \"dot\"})); var svg = div.find(\"svg\"); div.css(\"width\", svg.attr(\"width\")); div.css(\"height\", svg.attr(\"height\")); })"
      ],
      "text/plain": [
       "<IPython.core.display.Javascript object>"
      ]
     },
     "metadata": {},
     "output_type": "display_data"
    }
   ],
   "source": [
    "m.run(\"010010\")"
   ]
  },
  {
   "cell_type": "markdown",
   "metadata": {},
   "source": [
    "The absence of an `ACCEPT` node means that the string was rejected."
   ]
  },
  {
   "cell_type": "code",
   "execution_count": null,
   "metadata": {
    "collapsed": true
   },
   "outputs": [],
   "source": []
  }
 ],
 "metadata": {
  "kernelspec": {
   "display_name": "Python 2",
   "language": "python",
   "name": "python2"
  },
  "language_info": {
   "codemirror_mode": {
    "name": "ipython",
    "version": 2
   },
   "file_extension": ".py",
   "mimetype": "text/x-python",
   "name": "python",
   "nbconvert_exporter": "python",
   "pygments_lexer": "ipython2",
   "version": "2.7.10"
  }
 },
 "nbformat": 4,
 "nbformat_minor": 0
}
