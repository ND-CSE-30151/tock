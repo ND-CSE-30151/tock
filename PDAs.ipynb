{
 "cells": [
  {
   "cell_type": "code",
   "execution_count": 1,
   "metadata": {
    "collapsed": false
   },
   "outputs": [
    {
     "data": {
      "application/javascript": [
       "require.config({baseUrl: \"/files\", shim: {viz: {exports: \"Viz\"}}})"
      ],
      "text/plain": [
       "<IPython.core.display.Javascript object>"
      ]
     },
     "metadata": {},
     "output_type": "display_data"
    }
   ],
   "source": [
    "from tock import *"
   ]
  },
  {
   "cell_type": "markdown",
   "metadata": {},
   "source": [
    "# Pushdown automata\n",
    "\n",
    "For pushdown automata, Sipser uses multiple header rows, but we use only one. The PDA in Example 2.14 should be written as:\n"
   ]
  },
  {
   "cell_type": "code",
   "execution_count": 2,
   "metadata": {
    "collapsed": false
   },
   "outputs": [
    {
     "data": {
      "text/html": [
       "<table style=\"font-family: Courier, monospace;\">\n",
       "  <tr><td></td><th>1,0</th><th>0,&epsilon;</th><th>&epsilon;,$</th><th>&epsilon;,&epsilon;</th></tr>\n",
       "  <tr><th>&gt;q1</th><td></td><td></td><td></td><td>q2,$</td></tr>\n",
       "  <tr><th>q2</th><td>q3,&epsilon;</td><td>q2,0</td><td></td><td></td></tr>\n",
       "  <tr><th>q3</th><td>q3,&epsilon;</td><td></td><td>q4,&epsilon;</td><td></td></tr>\n",
       "  <tr><th>@q4</th><td></td><td></td><td></td><td></td></tr>\n",
       "</table>\n"
      ],
      "text/plain": [
       "<IPython.core.display.HTML object>"
      ]
     },
     "execution_count": 2,
     "metadata": {},
     "output_type": "execute_result"
    }
   ],
   "source": [
    "m = read_csv(\"examples/pda.csv\")\n",
    "m.display_table()"
   ]
  },
  {
   "cell_type": "code",
   "execution_count": 3,
   "metadata": {
    "collapsed": false
   },
   "outputs": [
    {
     "data": {
      "application/javascript": [
       "require([\"viz\"], function (Viz) {var div = $(\"<div>\"); element.append(div); div.append(Viz(\"digraph {\\n  rankdir=LR;\\n  node [fontname=Courier,fontsize=10,shape=box,style=rounded,height=0,width=0,margin=\\\"0.055,0.0277\\\"];\\n  edge [arrowhead=vee,arrowsize=0.8,fontname=Courier,fontsize=9];\\n  0[label=\\\"q1\\\"];\\n  START[shape=none,label=\\\"\\\"];\\n  START -> 0;\\n  1[label=\\\"q3\\\"];\\n  2[label=\\\"q2\\\"];\\n  3[label=\\\"q4\\\",peripheries=2];\\n  1 -> 3[label=<<table border=\\\"0\\\" cellpadding=\\\"1\\\"><tr><td>&epsilon;,$ &rarr; &epsilon;</td></tr></table>>];\\n  2 -> 1[label=<<table border=\\\"0\\\" cellpadding=\\\"1\\\"><tr><td>1,0 &rarr; &epsilon;</td></tr></table>>];\\n  0 -> 2[label=<<table border=\\\"0\\\" cellpadding=\\\"1\\\"><tr><td>&epsilon;,&epsilon; &rarr; $</td></tr></table>>];\\n  2 -> 2[label=<<table border=\\\"0\\\" cellpadding=\\\"1\\\"><tr><td>0,&epsilon; &rarr; 0</td></tr></table>>];\\n  1 -> 1[label=<<table border=\\\"0\\\" cellpadding=\\\"1\\\"><tr><td>1,0 &rarr; &epsilon;</td></tr></table>>];\\n}\\n\", {format: \"svg\", engine: \"dot\"})); })"
      ],
      "text/plain": [
       "<IPython.core.display.Javascript object>"
      ]
     },
     "execution_count": 3,
     "metadata": {},
     "output_type": "execute_result"
    }
   ],
   "source": [
    "m.display_graph()"
   ]
  },
  {
   "cell_type": "code",
   "execution_count": 4,
   "metadata": {
    "collapsed": false
   },
   "outputs": [
    {
     "data": {
      "application/javascript": [
       "require([\"viz\"], function (Viz) {var div = $(\"<div>\"); element.append(div); div.append(Viz(\"digraph {\\n  rankdir=TB;\\n  node [fontname=Courier,fontsize=10,shape=box,style=rounded,height=0,width=0,margin=\\\"0.055,0.0277\\\"];\\n  edge [arrowhead=vee,arrowsize=0.8];\\n  4410646032[label=<q2,[0] $>];\\n  4410645872[label=<q2,$>];\\n  4410646432[label=<ACCEPT,_>];\\n  4410645952[label=<q2,[0] 0 $>];\\n  4410646352[label=<q4,_>];\\n  4410646112[label=<q3,[0] 0 $>];\\n  4410646192[label=<q3,[0] $>];\\n  4410645392[label=<q1,_>];\\n  4410644672[label=<START,&epsilon;>];\\n  4410646272[label=<q3,$>];\\n  4410645792[label=<q2,[0] 0 0 $>];\\n  4410645952 -> 4410645792;\\n  4410646032 -> 4410645952;\\n  4410646112 -> 4410646192;\\n  4410645792 -> 4410646112;\\n  4410645392 -> 4410645872;\\n  4410646192 -> 4410646272;\\n  4410645872 -> 4410646032;\\n  4410644672 -> 4410645392;\\n  4410646272 -> 4410646352;\\n  4410646352 -> 4410646432;\\n  rank0[shape=plaintext,label=<[0] 0 0 1 1 1>];\\n{ rank=same; rank0 4410645872 4410645392 4410644672 }\\n  rank1[shape=plaintext,label=<[0] 0 1 1 1>];\\n{ rank=same; rank1 4410646032 }\\n  rank0 -> rank1[style=invis];\\n  rank2[shape=plaintext,label=<[0] 1 1 1>];\\n{ rank=same; rank2 4410645952 }\\n  rank1 -> rank2[style=invis];\\n  rank3[shape=plaintext,label=<[1] 1 1>];\\n{ rank=same; rank3 4410645792 }\\n  rank2 -> rank3[style=invis];\\n  rank4[shape=plaintext,label=<[1] 1>];\\n{ rank=same; rank4 4410646112 }\\n  rank3 -> rank4[style=invis];\\n  rank5[shape=plaintext,label=<1>];\\n{ rank=same; rank5 4410646192 }\\n  rank4 -> rank5[style=invis];\\n  rank6[shape=plaintext,label=<_>];\\n{ rank=same; rank6 4410646432 4410646352 4410646272 }\\n  rank5 -> rank6[style=invis];\\n}\", {format: \"svg\", engine: \"dot\"})); })"
      ],
      "text/plain": [
       "<IPython.core.display.Javascript object>"
      ]
     },
     "metadata": {},
     "output_type": "display_data"
    }
   ],
   "source": [
    "m.run(\"000111\")"
   ]
  },
  {
   "cell_type": "markdown",
   "metadata": {},
   "source": [
    "That's not very exciting, so let's try a PDA with nondeterminism."
   ]
  },
  {
   "cell_type": "code",
   "execution_count": 5,
   "metadata": {
    "collapsed": false
   },
   "outputs": [
    {
     "data": {
      "application/javascript": [
       "require([\"viz\"], function (Viz) {var div = $(\"<div>\"); element.append(div); div.append(Viz(\"digraph {\\n  rankdir=LR;\\n  node [fontname=Courier,fontsize=10,shape=box,style=rounded,height=0,width=0,margin=\\\"0.055,0.0277\\\"];\\n  edge [arrowhead=vee,arrowsize=0.8,fontname=Courier,fontsize=9];\\n  0[label=\\\"q1\\\"];\\n  1[label=\\\"q0\\\"];\\n  START[shape=none,label=\\\"\\\"];\\n  START -> 1;\\n  2[label=\\\"q2b\\\"];\\n  3[label=\\\"q4\\\"];\\n  4[label=\\\"q3b\\\"];\\n  5[label=\\\"q3a\\\"];\\n  6[label=\\\"qf\\\",peripheries=2];\\n  7[label=\\\"q2a\\\"];\\n  0 -> 7[label=<<table border=\\\"0\\\" cellpadding=\\\"1\\\"><tr><td>a,&epsilon; &rarr; &epsilon;</td></tr></table>>];\\n  7 -> 5[label=<<table border=\\\"0\\\" cellpadding=\\\"1\\\"><tr><td>&epsilon;,$ &rarr; $</td></tr></table>>];\\n  0 -> 0[label=<<table border=\\\"0\\\" cellpadding=\\\"1\\\"><tr><td>a,&epsilon; &rarr; *</td></tr><tr><td>b,&epsilon; &rarr; *</td></tr></table>>];\\n  5 -> 3[label=<<table border=\\\"0\\\" cellpadding=\\\"1\\\"><tr><td>b,&epsilon; &rarr; &epsilon;</td></tr></table>>];\\n  5 -> 5[label=<<table border=\\\"0\\\" cellpadding=\\\"1\\\"><tr><td>a,&epsilon; &rarr; *</td></tr><tr><td>b,&epsilon; &rarr; *</td></tr></table>>];\\n  4 -> 4[label=<<table border=\\\"0\\\" cellpadding=\\\"1\\\"><tr><td>a,&epsilon; &rarr; *</td></tr><tr><td>b,&epsilon; &rarr; *</td></tr></table>>];\\n  2 -> 4[label=<<table border=\\\"0\\\" cellpadding=\\\"1\\\"><tr><td>&epsilon;,$ &rarr; $</td></tr></table>>];\\n  7 -> 7[label=<<table border=\\\"0\\\" cellpadding=\\\"1\\\"><tr><td>a,* &rarr; &epsilon;</td></tr><tr><td>b,* &rarr; &epsilon;</td></tr></table>>];\\n  4 -> 3[label=<<table border=\\\"0\\\" cellpadding=\\\"1\\\"><tr><td>a,&epsilon; &rarr; &epsilon;</td></tr></table>>];\\n  2 -> 2[label=<<table border=\\\"0\\\" cellpadding=\\\"1\\\"><tr><td>a,* &rarr; &epsilon;</td></tr><tr><td>b,* &rarr; &epsilon;</td></tr></table>>];\\n  1 -> 0[label=<<table border=\\\"0\\\" cellpadding=\\\"1\\\"><tr><td>&epsilon;,&epsilon; &rarr; $</td></tr></table>>];\\n  3 -> 6[label=<<table border=\\\"0\\\" cellpadding=\\\"1\\\"><tr><td>&epsilon;,$ &rarr; &epsilon;</td></tr></table>>];\\n  0 -> 2[label=<<table border=\\\"0\\\" cellpadding=\\\"1\\\"><tr><td>b,&epsilon; &rarr; &epsilon;</td></tr></table>>];\\n  3 -> 3[label=<<table border=\\\"0\\\" cellpadding=\\\"1\\\"><tr><td>a,* &rarr; &epsilon;</td></tr><tr><td>b,* &rarr; &epsilon;</td></tr></table>>];\\n}\\n\", {format: \"svg\", engine: \"dot\"})); })"
      ],
      "text/plain": [
       "<IPython.core.display.Javascript object>"
      ]
     },
     "execution_count": 5,
     "metadata": {},
     "output_type": "execute_result"
    }
   ],
   "source": [
    "m = read_csv(\"examples/notww.csv\")\n",
    "m.display_graph()"
   ]
  },
  {
   "cell_type": "code",
   "execution_count": 6,
   "metadata": {
    "collapsed": false,
    "scrolled": false
   },
   "outputs": [
    {
     "data": {
      "application/javascript": [
       "require([\"viz\"], function (Viz) {var div = $(\"<div>\"); element.append(div); div.append(Viz(\"digraph {\\n  rankdir=TB;\\n  node [fontname=Courier,fontsize=10,shape=box,style=rounded,height=0,width=0,margin=\\\"0.055,0.0277\\\"];\\n  edge [arrowhead=vee,arrowsize=0.8];\\n  4410891072[label=<ACCEPT,_>];\\n  4410888512[label=<q3a,[*] * $>];\\n  4410889552[label=<q3a,[*] * * * $>];\\n  4410889072[label=<q4,[*] * $>];\\n  4410890112[label=<q2b,[*] * * * * $>];\\n  4410888432[label=<q1,[*] * * $>];\\n  4410888752[label=<q2a,[*] $>];\\n  4410888992[label=<q3a,[*] * * $>];\\n  4410889872[label=<q3a,$>];\\n  4410834848[label=<q4,$>];\\n  4410889392[label=<q2a,[*] * * * $>];\\n  4410889232[label=<q2a,$>];\\n  4410890832[label=<qf,_>];\\n  4410890032[label=<q2a,[*] * * $>];\\n  4410890672[label=<q3a,[*] $>];\\n  4410889472[label=<q1,[*] * * * * $>];\\n  4410834688[label=<q1,[*] * $>];\\n  4410834768[label=<q3a,[*] $>];\\n  4410890192[label=<q1,[*] * * * * * $>];\\n  4410888672[label=<q3b,$>];\\n  4410888912[label=<q1,[*] * * * $>];\\n  4410890272[label=<q3a,[*] * * * * $>];\\n  4410888352[label=<q2a,[*] * $>];\\n  4410833968[label=<q1,[*] $>];\\n  4410834528[label=<q3a,$>];\\n  4410889312[label=<q2b,[*] * $>];\\n  4410890432[label=<q4,$>];\\n  4410889152[label=<q3b,[*] $>];\\n  4410888272[label=<q2b,$>];\\n  4410834368[label=<q0,_>];\\n  4410888832[label=<q2b,[*] * * $>];\\n  4406354240[label=<START,&epsilon;>];\\n  4410833808[label=<q2a,$>];\\n  4410889632[label=<q4,[*] $>];\\n  4410889952[label=<q2b,[*] $>];\\n  4410889792[label=<q3b,[*] * $>];\\n  4410890592[label=<q3b,[*] * * $>];\\n  4410834608[label=<q2b,[*] $>];\\n  4410888592[label=<qf,_>];\\n  4410890352[label=<q4,[*] * * * $>];\\n  4410833648[label=<q1,$>];\\n  4410889072 -> 4410889632;\\n  4410834688 -> 4410888432;\\n  4410833968 -> 4410834688;\\n  4410834528 -> 4410834848;\\n  4410888512 -> 4410888992;\\n  4406354240 -> 4410834368;\\n  4410890832 -> 4410891072;\\n  4410888272 -> 4410888672;\\n  4410889392 -> 4410890032;\\n  4410888672 -> 4410889152;\\n  4410889472 -> 4410890112;\\n  4410888512 -> 4410889072;\\n  4410834848 -> 4410888592;\\n  4410889152 -> 4410889632;\\n  4410833808 -> 4410834528;\\n  4410888432 -> 4410888832;\\n  4410888992 -> 4410889552;\\n  4410889472 -> 4410890192;\\n  4410834768 -> 4410888512;\\n  4410888352 -> 4410888752;\\n  4410888912 -> 4410889392;\\n  4410889632 -> 4410890432;\\n  4410834688 -> 4410888352;\\n  4410889872 -> 4410890672;\\n  4410888832 -> 4410889312;\\n  4410833648 -> 4410833968;\\n  4410890432 -> 4410890832;\\n  4410889552 -> 4410890352;\\n  4410888432 -> 4410888912;\\n  4410888752 -> 4410889232;\\n  4410833968 -> 4410834608;\\n  4410889872 -> 4410890432;\\n  4410889152 -> 4410889792;\\n  4410834608 -> 4410888272;\\n  4410833648 -> 4410833808;\\n  4410889312 -> 4410889952;\\n  4410888912 -> 4410889472;\\n  4410889792 -> 4410890592;\\n  4410889232 -> 4410889872;\\n  4410889552 -> 4410890272;\\n  4410834528 -> 4410834768;\\n  4410834368 -> 4410833648;\\n  rank0[shape=plaintext,label=<[a] b a b a b>];\\n{ rank=same; rank0 4410834368 4406354240 4410833648 }\\n  rank1[shape=plaintext,label=<[b] a b a b>];\\n{ rank=same; rank1 4410833968 4410834528 4410833808 }\\n  rank0 -> rank1[style=invis];\\n  rank2[shape=plaintext,label=<[a] b a b>];\\n{ rank=same; rank2 4410834848 4410834688 4410834768 4410834608 4410888592 }\\n  rank1 -> rank2[style=invis];\\n  rank3[shape=plaintext,label=<[b] a b>];\\n{ rank=same; rank3 4410888512 4410888432 4410888672 4410888352 4410888272 }\\n  rank2 -> rank3[style=invis];\\n  rank4[shape=plaintext,label=<[a] b>];\\n{ rank=same; rank4 4410889072 4410888752 4410888992 4410888912 4410889152 4410888832 }\\n  rank3 -> rank4[style=invis];\\n  rank5[shape=plaintext,label=<b>];\\n{ rank=same; rank5 4410889552 4410889872 4410889392 4410889232 4410889472 4410889312 4410889632 4410889792 }\\n  rank4 -> rank5[style=invis];\\n  rank6[shape=plaintext,label=<_>];\\n{ rank=same; rank6 4410891072 4410890112 4410890832 4410890032 4410890672 4410890192 4410890272 4410890432 4410889952 4410890592 4410890352 }\\n  rank5 -> rank6[style=invis];\\n}\", {format: \"svg\", engine: \"dot\"})); })"
      ],
      "text/plain": [
       "<IPython.core.display.Javascript object>"
      ]
     },
     "metadata": {},
     "output_type": "display_data"
    }
   ],
   "source": [
    "m.run(\"ababab\")"
   ]
  }
 ],
 "metadata": {
  "kernelspec": {
   "display_name": "Python 2",
   "language": "python",
   "name": "python2"
  },
  "language_info": {
   "codemirror_mode": {
    "name": "ipython",
    "version": 2
   },
   "file_extension": ".py",
   "mimetype": "text/x-python",
   "name": "python",
   "nbconvert_exporter": "python",
   "pygments_lexer": "ipython2",
   "version": "2.7.10"
  }
 },
 "nbformat": 4,
 "nbformat_minor": 0
}
