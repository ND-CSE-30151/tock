{
 "cells": [
  {
   "cell_type": "code",
   "execution_count": 7,
   "metadata": {
    "collapsed": false
   },
   "outputs": [],
   "source": [
    "from tock import *"
   ]
  },
  {
   "cell_type": "markdown",
   "metadata": {},
   "source": [
    "# Pushdown automata\n",
    "\n",
    "For pushdown automata, Sipser uses multiple header rows, but we use only one. The PDA in Example 2.14 should be written as:\n"
   ]
  },
  {
   "cell_type": "code",
   "execution_count": 8,
   "metadata": {
    "collapsed": false
   },
   "outputs": [
    {
     "data": {
      "text/html": [
       "<table style=\"font-family: Courier, monospace;\">\n",
       "  <tr><td></td><th>0,&epsilon;</th><th>1,0</th><th>&epsilon;,$</th><th>&epsilon;,&epsilon;</th></tr>\n",
       "  <tr><th>&gt;q1</th><td></td><td></td><td></td><td>q2,$</td></tr>\n",
       "  <tr><th>q2</th><td>q2,0</td><td>q3,&epsilon;</td><td></td><td></td></tr>\n",
       "  <tr><th>q3</th><td></td><td>q3,&epsilon;</td><td>q4,&epsilon;</td><td></td></tr>\n",
       "  <tr><th>@q4</th><td></td><td></td><td></td><td></td></tr>\n",
       "</table>\n"
      ],
      "text/plain": [
       "<IPython.core.display.HTML object>"
      ]
     },
     "execution_count": 8,
     "metadata": {},
     "output_type": "execute_result"
    }
   ],
   "source": [
    "m = read_csv(\"examples/pda.csv\")\n",
    "m.display_table()"
   ]
  },
  {
   "cell_type": "code",
   "execution_count": 9,
   "metadata": {
    "collapsed": false
   },
   "outputs": [
    {
     "data": {
      "application/javascript": [
       "require([\"viz\"], function (Viz) {var div = $(\"<div>\"); element.append(div); div.append(Viz(\"digraph {\\n  rankdir=LR;\\n  node [fontname=Courier,fontsize=10,shape=box,style=rounded,height=0,width=0,margin=\\\"0.055,0.0277\\\"];\\n  edge [arrowhead=vee,arrowsize=0.8,fontname=Courier,fontsize=9];\\n  0[label=\\\"q1\\\"];\\n  START[shape=none,label=\\\"\\\"];\\n  START -> 0;\\n  1[label=\\\"q3\\\"];\\n  2[label=\\\"q2\\\"];\\n  3[label=\\\"q4\\\",peripheries=2];\\n  1 -> 3[label=<<table border=\\\"0\\\" cellpadding=\\\"1\\\"><tr><td>&epsilon;,$ &rarr; &epsilon;</td></tr></table>>];\\n  2 -> 1[label=<<table border=\\\"0\\\" cellpadding=\\\"1\\\"><tr><td>1,0 &rarr; &epsilon;</td></tr></table>>];\\n  0 -> 2[label=<<table border=\\\"0\\\" cellpadding=\\\"1\\\"><tr><td>&epsilon;,&epsilon; &rarr; $</td></tr></table>>];\\n  2 -> 2[label=<<table border=\\\"0\\\" cellpadding=\\\"1\\\"><tr><td>0,&epsilon; &rarr; 0</td></tr></table>>];\\n  1 -> 1[label=<<table border=\\\"0\\\" cellpadding=\\\"1\\\"><tr><td>1,0 &rarr; &epsilon;</td></tr></table>>];\\n}\\n\", {format: \"svg\", engine: \"dot\"})); var svg = div.find(\"svg\"); div.css(\"width\", svg.attr(\"width\")); div.css(\"height\", svg.attr(\"height\")); })"
      ],
      "text/plain": [
       "<IPython.core.display.Javascript object>"
      ]
     },
     "execution_count": 9,
     "metadata": {},
     "output_type": "execute_result"
    }
   ],
   "source": [
    "m.display_graph()"
   ]
  },
  {
   "cell_type": "code",
   "execution_count": 10,
   "metadata": {
    "collapsed": false
   },
   "outputs": [
    {
     "data": {
      "application/javascript": [
       "require([\"viz\"], function (Viz) {var div = $(\"<div>\"); element.append(div); div.append(Viz(\"digraph {\\n  rankdir=TB;\\n  node [fontname=Courier,fontsize=10,shape=box,style=rounded,height=0,width=0,margin=\\\"0.055,0.0277\\\"];\\n  edge [arrowhead=vee,arrowsize=0.8];\\n  4410961584[label=<q2,[0] $>];\\n  4410961824[label=<q2,$>];\\n  4411044320[label=<ACCEPT,_>];\\n  4410961744[label=<q2,[0] 0 $>];\\n  4411044240[label=<q4,_>];\\n  4411044000[label=<q3,[0] 0 $>];\\n  4411044080[label=<q3,[0] $>];\\n  4410961424[label=<q1,_>];\\n  4410907456[label=<START,&epsilon;>];\\n  4411044160[label=<q3,$>];\\n  4411043920[label=<q2,[0] 0 0 $>];\\n  4410961744 -> 4411043920;\\n  4410961584 -> 4410961744;\\n  4411044000 -> 4411044080;\\n  4411043920 -> 4411044000;\\n  4410961424 -> 4410961824;\\n  4411044080 -> 4411044160;\\n  4410961824 -> 4410961584;\\n  4410907456 -> 4410961424;\\n  4411044160 -> 4411044240;\\n  4411044240 -> 4411044320;\\n  rank0[shape=plaintext,label=<[0] 0 0 1 1 1>];\\n{ rank=same; rank0 4410961824 4410961424 4410907456 }\\n  rank1[shape=plaintext,label=<[0] 0 1 1 1>];\\n{ rank=same; rank1 4410961584 }\\n  rank0 -> rank1[style=invis];\\n  rank2[shape=plaintext,label=<[0] 1 1 1>];\\n{ rank=same; rank2 4410961744 }\\n  rank1 -> rank2[style=invis];\\n  rank3[shape=plaintext,label=<[1] 1 1>];\\n{ rank=same; rank3 4411043920 }\\n  rank2 -> rank3[style=invis];\\n  rank4[shape=plaintext,label=<[1] 1>];\\n{ rank=same; rank4 4411044000 }\\n  rank3 -> rank4[style=invis];\\n  rank5[shape=plaintext,label=<1>];\\n{ rank=same; rank5 4411044080 }\\n  rank4 -> rank5[style=invis];\\n  rank6[shape=plaintext,label=<_>];\\n{ rank=same; rank6 4411044320 4411044240 4411044160 }\\n  rank5 -> rank6[style=invis];\\n}\", {format: \"svg\", engine: \"dot\"})); var svg = div.find(\"svg\"); div.css(\"width\", svg.attr(\"width\")); div.css(\"height\", svg.attr(\"height\")); })"
      ],
      "text/plain": [
       "<IPython.core.display.Javascript object>"
      ]
     },
     "metadata": {},
     "output_type": "display_data"
    }
   ],
   "source": [
    "m.run(\"000111\")"
   ]
  },
  {
   "cell_type": "markdown",
   "metadata": {},
   "source": [
    "That's not very exciting, so let's try a PDA with nondeterminism."
   ]
  },
  {
   "cell_type": "code",
   "execution_count": 11,
   "metadata": {
    "collapsed": false,
    "scrolled": false
   },
   "outputs": [
    {
     "data": {
      "application/javascript": [
       "require([\"viz\"], function (Viz) {var div = $(\"<div>\"); element.append(div); div.append(Viz(\"digraph {\\n  rankdir=LR;\\n  node [fontname=Courier,fontsize=10,shape=box,style=rounded,height=0,width=0,margin=\\\"0.055,0.0277\\\"];\\n  edge [arrowhead=vee,arrowsize=0.8,fontname=Courier,fontsize=9];\\n  0[label=\\\"q1\\\"];\\n  1[label=\\\"q0\\\"];\\n  START[shape=none,label=\\\"\\\"];\\n  START -> 1;\\n  2[label=\\\"q2b\\\"];\\n  3[label=\\\"q4\\\"];\\n  4[label=\\\"q3b\\\"];\\n  5[label=\\\"q3a\\\"];\\n  6[label=\\\"qf\\\",peripheries=2];\\n  7[label=\\\"q2a\\\"];\\n  0 -> 7[label=<<table border=\\\"0\\\" cellpadding=\\\"1\\\"><tr><td>a,&epsilon; &rarr; &epsilon;</td></tr></table>>];\\n  7 -> 5[label=<<table border=\\\"0\\\" cellpadding=\\\"1\\\"><tr><td>&epsilon;,$ &rarr; $</td></tr></table>>];\\n  0 -> 0[label=<<table border=\\\"0\\\" cellpadding=\\\"1\\\"><tr><td>a,&epsilon; &rarr; *</td></tr><tr><td>b,&epsilon; &rarr; *</td></tr></table>>];\\n  5 -> 3[label=<<table border=\\\"0\\\" cellpadding=\\\"1\\\"><tr><td>b,&epsilon; &rarr; &epsilon;</td></tr></table>>];\\n  5 -> 5[label=<<table border=\\\"0\\\" cellpadding=\\\"1\\\"><tr><td>a,&epsilon; &rarr; *</td></tr><tr><td>b,&epsilon; &rarr; *</td></tr></table>>];\\n  4 -> 4[label=<<table border=\\\"0\\\" cellpadding=\\\"1\\\"><tr><td>a,&epsilon; &rarr; *</td></tr><tr><td>b,&epsilon; &rarr; *</td></tr></table>>];\\n  2 -> 4[label=<<table border=\\\"0\\\" cellpadding=\\\"1\\\"><tr><td>&epsilon;,$ &rarr; $</td></tr></table>>];\\n  7 -> 7[label=<<table border=\\\"0\\\" cellpadding=\\\"1\\\"><tr><td>a,* &rarr; &epsilon;</td></tr><tr><td>b,* &rarr; &epsilon;</td></tr></table>>];\\n  4 -> 3[label=<<table border=\\\"0\\\" cellpadding=\\\"1\\\"><tr><td>a,&epsilon; &rarr; &epsilon;</td></tr></table>>];\\n  2 -> 2[label=<<table border=\\\"0\\\" cellpadding=\\\"1\\\"><tr><td>a,* &rarr; &epsilon;</td></tr><tr><td>b,* &rarr; &epsilon;</td></tr></table>>];\\n  1 -> 0[label=<<table border=\\\"0\\\" cellpadding=\\\"1\\\"><tr><td>&epsilon;,&epsilon; &rarr; $</td></tr></table>>];\\n  3 -> 6[label=<<table border=\\\"0\\\" cellpadding=\\\"1\\\"><tr><td>&epsilon;,$ &rarr; &epsilon;</td></tr></table>>];\\n  0 -> 2[label=<<table border=\\\"0\\\" cellpadding=\\\"1\\\"><tr><td>b,&epsilon; &rarr; &epsilon;</td></tr></table>>];\\n  3 -> 3[label=<<table border=\\\"0\\\" cellpadding=\\\"1\\\"><tr><td>a,* &rarr; &epsilon;</td></tr><tr><td>b,* &rarr; &epsilon;</td></tr></table>>];\\n}\\n\", {format: \"svg\", engine: \"dot\"})); var svg = div.find(\"svg\"); div.css(\"width\", svg.attr(\"width\")); div.css(\"height\", svg.attr(\"height\")); })"
      ],
      "text/plain": [
       "<IPython.core.display.Javascript object>"
      ]
     },
     "execution_count": 11,
     "metadata": {},
     "output_type": "execute_result"
    }
   ],
   "source": [
    "m = read_csv(\"examples/notww.csv\")\n",
    "m.display_graph()"
   ]
  },
  {
   "cell_type": "code",
   "execution_count": 12,
   "metadata": {
    "collapsed": false,
    "scrolled": false
   },
   "outputs": [
    {
     "data": {
      "application/javascript": [
       "require([\"viz\"], function (Viz) {var div = $(\"<div>\"); element.append(div); div.append(Viz(\"digraph {\\n  rankdir=TB;\\n  node [fontname=Courier,fontsize=10,shape=box,style=rounded,height=0,width=0,margin=\\\"0.055,0.0277\\\"];\\n  edge [arrowhead=vee,arrowsize=0.8];\\n  4411120928[label=<ACCEPT,_>];\\n  4411118368[label=<q3a,[*] * $>];\\n  4411119408[label=<q3a,[*] * * * $>];\\n  4411118928[label=<q4,[*] * $>];\\n  4411119968[label=<q2b,[*] * * * * $>];\\n  4411118288[label=<q1,[*] * * $>];\\n  4411118608[label=<q2a,[*] $>];\\n  4411118848[label=<q3a,[*] * * $>];\\n  4411119728[label=<q3a,$>];\\n  4411118048[label=<q4,$>];\\n  4411119248[label=<q2a,[*] * * * $>];\\n  4411119088[label=<q2a,$>];\\n  4411120688[label=<qf,_>];\\n  4411119888[label=<q2a,[*] * * $>];\\n  4411120528[label=<q3a,[*] $>];\\n  4411119328[label=<q1,[*] * * * * $>];\\n  4411117888[label=<q1,[*] * $>];\\n  4411117968[label=<q3a,[*] $>];\\n  4411120048[label=<q1,[*] * * * * * $>];\\n  4411118528[label=<q3b,$>];\\n  4411118768[label=<q1,[*] * * * $>];\\n  4411120128[label=<q3a,[*] * * * * $>];\\n  4411118208[label=<q2a,[*] * $>];\\n  4411117648[label=<q1,[*] $>];\\n  4411117728[label=<q3a,$>];\\n  4411119168[label=<q2b,[*] * $>];\\n  4411120288[label=<q4,$>];\\n  4411119008[label=<q3b,[*] $>];\\n  4411118128[label=<q2b,$>];\\n  4411047680[label=<q0,_>];\\n  4411118688[label=<q2b,[*] * * $>];\\n  4406211680[label=<START,&epsilon;>];\\n  4410960944[label=<q2a,$>];\\n  4411119488[label=<q4,[*] $>];\\n  4411119808[label=<q2b,[*] $>];\\n  4411119648[label=<q3b,[*] * $>];\\n  4411120448[label=<q3b,[*] * * $>];\\n  4411117808[label=<q2b,[*] $>];\\n  4411118448[label=<qf,_>];\\n  4411120208[label=<q4,[*] * * * $>];\\n  4411047280[label=<q1,$>];\\n  4411118928 -> 4411119488;\\n  4411117888 -> 4411118288;\\n  4411117648 -> 4411117888;\\n  4411117728 -> 4411118048;\\n  4411118368 -> 4411118848;\\n  4406211680 -> 4411047680;\\n  4411120688 -> 4411120928;\\n  4411118128 -> 4411118528;\\n  4411119248 -> 4411119888;\\n  4411118528 -> 4411119008;\\n  4411119328 -> 4411119968;\\n  4411118368 -> 4411118928;\\n  4411118048 -> 4411118448;\\n  4411119008 -> 4411119488;\\n  4410960944 -> 4411117728;\\n  4411118288 -> 4411118688;\\n  4411118848 -> 4411119408;\\n  4411119328 -> 4411120048;\\n  4411117968 -> 4411118368;\\n  4411118208 -> 4411118608;\\n  4411118768 -> 4411119248;\\n  4411119488 -> 4411120288;\\n  4411117888 -> 4411118208;\\n  4411119728 -> 4411120528;\\n  4411118688 -> 4411119168;\\n  4411047280 -> 4411117648;\\n  4411120288 -> 4411120688;\\n  4411119408 -> 4411120208;\\n  4411118288 -> 4411118768;\\n  4411118608 -> 4411119088;\\n  4411117648 -> 4411117808;\\n  4411119728 -> 4411120288;\\n  4411119008 -> 4411119648;\\n  4411117808 -> 4411118128;\\n  4411047280 -> 4410960944;\\n  4411119168 -> 4411119808;\\n  4411118768 -> 4411119328;\\n  4411119648 -> 4411120448;\\n  4411119088 -> 4411119728;\\n  4411119408 -> 4411120128;\\n  4411117728 -> 4411117968;\\n  4411047680 -> 4411047280;\\n  rank0[shape=plaintext,label=<[a] b a b a b>];\\n{ rank=same; rank0 4411047680 4406211680 4411047280 }\\n  rank1[shape=plaintext,label=<[b] a b a b>];\\n{ rank=same; rank1 4411117648 4411117728 4410960944 }\\n  rank0 -> rank1[style=invis];\\n  rank2[shape=plaintext,label=<[a] b a b>];\\n{ rank=same; rank2 4411118048 4411117888 4411117968 4411117808 4411118448 }\\n  rank1 -> rank2[style=invis];\\n  rank3[shape=plaintext,label=<[b] a b>];\\n{ rank=same; rank3 4411118368 4411118288 4411118528 4411118208 4411118128 }\\n  rank2 -> rank3[style=invis];\\n  rank4[shape=plaintext,label=<[a] b>];\\n{ rank=same; rank4 4411118928 4411118608 4411118848 4411118768 4411119008 4411118688 }\\n  rank3 -> rank4[style=invis];\\n  rank5[shape=plaintext,label=<b>];\\n{ rank=same; rank5 4411119408 4411119728 4411119248 4411119088 4411119328 4411119168 4411119488 4411119648 }\\n  rank4 -> rank5[style=invis];\\n  rank6[shape=plaintext,label=<_>];\\n{ rank=same; rank6 4411120928 4411119968 4411120688 4411119888 4411120528 4411120048 4411120128 4411120288 4411119808 4411120448 4411120208 }\\n  rank5 -> rank6[style=invis];\\n}\", {format: \"svg\", engine: \"dot\"})); var svg = div.find(\"svg\"); div.css(\"width\", svg.attr(\"width\")); div.css(\"height\", svg.attr(\"height\")); })"
      ],
      "text/plain": [
       "<IPython.core.display.Javascript object>"
      ]
     },
     "metadata": {},
     "output_type": "display_data"
    }
   ],
   "source": [
    "m.run(\"ababab\")"
   ]
  }
 ],
 "metadata": {
  "kernelspec": {
   "display_name": "Python 2",
   "language": "python",
   "name": "python2"
  },
  "language_info": {
   "codemirror_mode": {
    "name": "ipython",
    "version": 2
   },
   "file_extension": ".py",
   "mimetype": "text/x-python",
   "name": "python",
   "nbconvert_exporter": "python",
   "pygments_lexer": "ipython2",
   "version": "2.7.10"
  }
 },
 "nbformat": 4,
 "nbformat_minor": 0
}
