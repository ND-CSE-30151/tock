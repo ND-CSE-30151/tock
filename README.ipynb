{
 "cells": [
  {
   "cell_type": "markdown",
   "metadata": {},
   "source": [
    "Tock\n",
    "====\n",
    "\n",
    "Tock stands for Theory Of Computing toolKit. It can simulate the\n",
    "automata taught in standard theory of computation courses\n",
    "(deterministic and nondeterministic finite automata, pushdown\n",
    "automata, and Turing machines). It also allows multiple cells, stacks,\n",
    "or tapes.\n",
    "\n",
    "Installation\n",
    "------------\n",
    "\n",
    "Tock depends on the following:\n",
    "\n",
    "- Python 2.7 or 3.x (required)\n",
    "- [six] (required)\n",
    "- [GraphViz] (to draw graphs)\n",
    "- [IPython] (to view notebooks)\n",
    "- [openpyxl] (to open Excel files)\n",
    "\n",
    "The easiest way to get started is:\n",
    "\n",
    "1. Install [Miniconda]. Either Python 2.7 or 3.x is fine.\n",
    "2. Run `conda install six jupyter openpyxl`.\n",
    "3. In the root of the Tock directory, run `python setup.py`.\n",
    "\n",
    "If you don't have GraphViz, Tock will attempt to download and use [Viz.js], which is slower but otherwise identical.\n",
    "\n",
    "[Miniconda]: http://conda.pydata.org/miniconda.html\n",
    "[six]: https://pypi.python.org/pypi/six\n",
    "[IPython]: http://ipython.org\n",
    "[Graphviz]: http://www.graphviz.org\n",
    "[openpyxl]: https://pypi.python.org/pypi/openpyxl\n",
    "[Viz.js]: https://github.com/mdaines/viz.js\n",
    "\n",
    "Documentation\n",
    "-------------\n",
    "\n",
    "The documentation is contained in a series of [IPython] notebooks:\n",
    "\n",
    "- [Deterministic finite automata](doc/DFAs.ipynb)\n",
    "- [Nondeterministic finite automata](doc/NFAs.ipynb)\n",
    "- [Regular expressions](doc/Regexps.ipynb)\n",
    "- [Pushdown automata](doc/PDAs.ipynb)\n",
    "- [Context free grammars](doc/CFGs.ipynb)\n",
    "- [Turing machines](doc/TMs.ipynb)\n",
    "\n",
    "To open them, run `ipython notebook` in the Tock directory. A web browser should open, showing you the contents of the directory. Click on `doc` and then one of the `.ipynb` files to view it.\n",
    "\n",
    "Copying\n",
    "-------\n",
    "\n",
    "This is open-source software under the MIT License. See `LICENSE.txt`\n",
    "for more information."
   ]
  }
 ],
 "metadata": {
  "kernelspec": {
   "display_name": "Python 2",
   "language": "python",
   "name": "python2"
  },
  "language_info": {
   "codemirror_mode": {
    "name": "ipython",
    "version": 2
   },
   "file_extension": ".py",
   "mimetype": "text/x-python",
   "name": "python",
   "nbconvert_exporter": "python",
   "pygments_lexer": "ipython2",
   "version": "2.7.10"
  }
 },
 "nbformat": 4,
 "nbformat_minor": 0
}
