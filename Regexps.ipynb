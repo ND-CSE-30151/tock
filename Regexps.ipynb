{
 "cells": [
  {
   "cell_type": "code",
   "execution_count": 1,
   "metadata": {
    "collapsed": true
   },
   "outputs": [],
   "source": [
    "from tock import *"
   ]
  },
  {
   "cell_type": "markdown",
   "metadata": {},
   "source": [
    "# Regular expressions"
   ]
  },
  {
   "cell_type": "markdown",
   "metadata": {},
   "source": [
    "Regular expressions were invented by Stephen Kleene (pronounced clay-knee) in the 1950s. They came into practical use in the early days of Unix (`ed`, `grep`, and friends) and really took off through the programming language Perl.\n",
    "\n",
    "Regular expressions have three operations: concatenation, union (∪ in the book, `|` in Unix), and Kleene star (`*`). The order of operations is star, then union, then concatenation. Use parentheses to change the order of operations, just as in arithmetic expressions.\n",
    "\n",
    "Modern regular expression libraries have a lot of extensions. Some don't increase the number of languages recognized (`+`, `?`) and some do. We don't consider any of them here. On the other hand, for some reason, basic regular expressions in Unix don't have the union (`|`) operator; only so-called extended regular expressions have it.\n",
    "\n",
    "For the empty regular expression, you can either write `&` (like ε in the book) or nothing (as in Unix). You can't write the empty set.\n",
    "\n",
    "To create a regular expression in Tock (this one is from Example 1.56):"
   ]
  },
  {
   "cell_type": "code",
   "execution_count": 2,
   "metadata": {
    "collapsed": false
   },
   "outputs": [],
   "source": [
    "m = convert_regexp('(ab|a)*')"
   ]
  },
  {
   "cell_type": "markdown",
   "metadata": {},
   "source": [
    "As the function name suggests, the regular expression is converted into a finite automaton, which you can view, as usual, as either a graph or a table."
   ]
  },
  {
   "cell_type": "code",
   "execution_count": 3,
   "metadata": {
    "collapsed": false
   },
   "outputs": [
    {
     "data": {
      "image/svg+xml": [
       "<svg height=\"164pt\" viewBox=\"0.00 0.00 481.00 163.50\" width=\"481pt\" xmlns=\"http://www.w3.org/2000/svg\" xmlns:xlink=\"http://www.w3.org/1999/xlink\">\n",
       "<g class=\"graph\" id=\"graph0\" transform=\"scale(1 1) rotate(0) translate(4 159.5)\">\n",
       "<title>%3</title>\n",
       "<polygon fill=\"white\" points=\"-4,4 -4,-159.5 477,-159.5 477,4 -4,4\" stroke=\"none\"/>\n",
       "<!-- START -->\n",
       "<g class=\"node\" id=\"node1\"><title>START</title>\n",
       "</g>\n",
       "<!-- 0 -->\n",
       "<g class=\"node\" id=\"node2\"><title>0</title>\n",
       "<path d=\"M105.333,-84C105.333,-84 95.6667,-84 95.6667,-84 92.8333,-84 90,-81.1667 90,-78.3333 90,-78.3333 90,-72.6667 90,-72.6667 90,-69.8333 92.8333,-67 95.6667,-67 95.6667,-67 105.333,-67 105.333,-67 108.167,-67 111,-69.8333 111,-72.6667 111,-72.6667 111,-78.3333 111,-78.3333 111,-81.1667 108.167,-84 105.333,-84\" fill=\"none\" stroke=\"black\"/>\n",
       "<path d=\"M106.667,-88C106.667,-88 94.3333,-88 94.3333,-88 90.1667,-88 86,-83.8333 86,-79.6667 86,-79.6667 86,-71.3333 86,-71.3333 86,-67.1667 90.1667,-63 94.3333,-63 94.3333,-63 106.667,-63 106.667,-63 110.833,-63 115,-67.1667 115,-71.3333 115,-71.3333 115,-79.6667 115,-79.6667 115,-83.8333 110.833,-88 106.667,-88\" fill=\"none\" stroke=\"black\"/>\n",
       "<text font-family=\"Courier,monospace\" font-size=\"10.00\" text-anchor=\"middle\" x=\"100.5\" y=\"-73\">0i</text>\n",
       "</g>\n",
       "<!-- START&#45;&gt;0 -->\n",
       "<g class=\"edge\" id=\"edge1\"><title>START-&gt;0</title>\n",
       "<path d=\"M20.5573,-91.4884C22.1818,-91.1594 58.0073,-83.9036 80.8322,-79.2808\" fill=\"none\" stroke=\"black\"/>\n",
       "<polygon fill=\"black\" points=\"85.7675,-78.2813 81.3136,-81.4791 83.3172,-78.7776 80.867,-79.2739 80.867,-79.2739 80.867,-79.2739 83.3172,-78.7776 80.4203,-77.0686 85.7675,-78.2813 85.7675,-78.2813\" stroke=\"black\"/>\n",
       "</g>\n",
       "<!-- 1 -->\n",
       "<g class=\"node\" id=\"node3\"><title>1</title>\n",
       "<path d=\"M177.333,-84C177.333,-84 167.667,-84 167.667,-84 164.833,-84 162,-81.1667 162,-78.3333 162,-78.3333 162,-72.6667 162,-72.6667 162,-69.8333 164.833,-67 167.667,-67 167.667,-67 177.333,-67 177.333,-67 180.167,-67 183,-69.8333 183,-72.6667 183,-72.6667 183,-78.3333 183,-78.3333 183,-81.1667 180.167,-84 177.333,-84\" fill=\"none\" stroke=\"black\"/>\n",
       "<text font-family=\"Courier,monospace\" font-size=\"10.00\" text-anchor=\"middle\" x=\"172.5\" y=\"-73\">1a</text>\n",
       "</g>\n",
       "<!-- 0&#45;&gt;1 -->\n",
       "<g class=\"edge\" id=\"edge6\"><title>0-&gt;1</title>\n",
       "<path d=\"M115.33,-75.5C127.216,-75.5 144.319,-75.5 156.526,-75.5\" fill=\"none\" stroke=\"black\"/>\n",
       "<polygon fill=\"black\" points=\"161.753,-75.5 156.753,-77.7501 159.253,-75.5 156.753,-75.5001 156.753,-75.5001 156.753,-75.5001 159.253,-75.5 156.753,-73.2501 161.753,-75.5 161.753,-75.5\" stroke=\"black\"/>\n",
       "<text font-family=\"Courier,monospace\" font-size=\"9.00\" text-anchor=\"start\" x=\"136.5\" y=\"-81.3\">ε</text>\n",
       "</g>\n",
       "<!-- 2 -->\n",
       "<g class=\"node\" id=\"node4\"><title>2</title>\n",
       "<path d=\"M245.333,-146C245.333,-146 235.667,-146 235.667,-146 232.833,-146 230,-143.167 230,-140.333 230,-140.333 230,-134.667 230,-134.667 230,-131.833 232.833,-129 235.667,-129 235.667,-129 245.333,-129 245.333,-129 248.167,-129 251,-131.833 251,-134.667 251,-134.667 251,-140.333 251,-140.333 251,-143.167 248.167,-146 245.333,-146\" fill=\"none\" stroke=\"black\"/>\n",
       "<text font-family=\"Courier,monospace\" font-size=\"10.00\" text-anchor=\"middle\" x=\"240.5\" y=\"-135\">1s</text>\n",
       "</g>\n",
       "<!-- 1&#45;&gt;2 -->\n",
       "<g class=\"edge\" id=\"edge5\"><title>1-&gt;2</title>\n",
       "<path d=\"M179.206,-84.1368C184.376,-91.5987 192.472,-102.423 201,-110.5 208.363,-117.473 217.645,-124.036 225.251,-128.945\" fill=\"none\" stroke=\"black\"/>\n",
       "<polygon fill=\"black\" points=\"229.737,-131.777 224.308,-131.011 227.623,-130.443 225.509,-129.108 225.509,-129.108 225.509,-129.108 227.623,-130.443 226.71,-127.206 229.737,-131.777 229.737,-131.777\" stroke=\"black\"/>\n",
       "<text font-family=\"Courier,monospace\" font-size=\"9.00\" text-anchor=\"start\" x=\"204.5\" y=\"-126.3\">ε</text>\n",
       "</g>\n",
       "<!-- 6 -->\n",
       "<g class=\"node\" id=\"node8\"><title>6</title>\n",
       "<path d=\"M245.333,-17C245.333,-17 235.667,-17 235.667,-17 232.833,-17 230,-14.1667 230,-11.3333 230,-11.3333 230,-5.66667 230,-5.66667 230,-2.83333 232.833,-0 235.667,-0 235.667,-0 245.333,-0 245.333,-0 248.167,-0 251,-2.83333 251,-5.66667 251,-5.66667 251,-11.3333 251,-11.3333 251,-14.1667 248.167,-17 245.333,-17\" fill=\"none\" stroke=\"black\"/>\n",
       "<text font-family=\"Courier,monospace\" font-size=\"10.00\" text-anchor=\"middle\" x=\"240.5\" y=\"-6\">4s</text>\n",
       "</g>\n",
       "<!-- 1&#45;&gt;6 -->\n",
       "<g class=\"edge\" id=\"edge11\"><title>1-&gt;6</title>\n",
       "<path d=\"M175.947,-66.9429C179.615,-55.5522 187.581,-35.4585 201,-23.5 207.701,-17.5282 217.049,-13.8107 224.856,-11.5704\" fill=\"none\" stroke=\"black\"/>\n",
       "<polygon fill=\"black\" points=\"229.962,-10.2458 225.687,-13.6791 227.542,-10.8735 225.123,-11.5012 225.123,-11.5012 225.123,-11.5012 227.542,-10.8735 224.558,-9.32323 229.962,-10.2458 229.962,-10.2458\" stroke=\"black\"/>\n",
       "<text font-family=\"Courier,monospace\" font-size=\"9.00\" text-anchor=\"start\" x=\"204.5\" y=\"-29.3\">ε</text>\n",
       "</g>\n",
       "<!-- 3 -->\n",
       "<g class=\"node\" id=\"node5\"><title>3</title>\n",
       "<path d=\"M318.333,-149C318.333,-149 308.667,-149 308.667,-149 305.833,-149 303,-146.167 303,-143.333 303,-143.333 303,-137.667 303,-137.667 303,-134.833 305.833,-132 308.667,-132 308.667,-132 318.333,-132 318.333,-132 321.167,-132 324,-134.833 324,-137.667 324,-137.667 324,-143.333 324,-143.333 324,-146.167 321.167,-149 318.333,-149\" fill=\"none\" stroke=\"black\"/>\n",
       "<text font-family=\"Courier,monospace\" font-size=\"10.00\" text-anchor=\"middle\" x=\"313.5\" y=\"-138\">1t</text>\n",
       "</g>\n",
       "<!-- 2&#45;&gt;3 -->\n",
       "<g class=\"edge\" id=\"edge9\"><title>2-&gt;3</title>\n",
       "<path d=\"M251.075,-137.905C262.971,-138.407 283.407,-139.271 297.417,-139.863\" fill=\"none\" stroke=\"black\"/>\n",
       "<polygon fill=\"black\" points=\"302.621,-140.083 297.53,-142.119 300.123,-139.977 297.625,-139.871 297.625,-139.871 297.625,-139.871 300.123,-139.977 297.72,-137.623 302.621,-140.083 302.621,-140.083\" stroke=\"black\"/>\n",
       "<text font-family=\"Courier,monospace\" font-size=\"9.00\" text-anchor=\"start\" x=\"272\" y=\"-145.3\">a</text>\n",
       "</g>\n",
       "<!-- 4 -->\n",
       "<g class=\"node\" id=\"node6\"><title>4</title>\n",
       "<path d=\"M390.333,-144C390.333,-144 380.667,-144 380.667,-144 377.833,-144 375,-141.167 375,-138.333 375,-138.333 375,-132.667 375,-132.667 375,-129.833 377.833,-127 380.667,-127 380.667,-127 390.333,-127 390.333,-127 393.167,-127 396,-129.833 396,-132.667 396,-132.667 396,-138.333 396,-138.333 396,-141.167 393.167,-144 390.333,-144\" fill=\"none\" stroke=\"black\"/>\n",
       "<text font-family=\"Courier,monospace\" font-size=\"10.00\" text-anchor=\"middle\" x=\"385.5\" y=\"-133\">2s</text>\n",
       "</g>\n",
       "<!-- 3&#45;&gt;4 -->\n",
       "<g class=\"edge\" id=\"edge4\"><title>3-&gt;4</title>\n",
       "<path d=\"M324.233,-139.805C336.04,-138.961 356.06,-137.531 369.761,-136.553\" fill=\"none\" stroke=\"black\"/>\n",
       "<polygon fill=\"black\" points=\"374.849,-136.189 370.023,-138.79 372.356,-136.367 369.862,-136.546 369.862,-136.546 369.862,-136.546 372.356,-136.367 369.702,-134.301 374.849,-136.189 374.849,-136.189\" stroke=\"black\"/>\n",
       "<text font-family=\"Courier,monospace\" font-size=\"9.00\" text-anchor=\"start\" x=\"349.5\" y=\"-144.3\">ε</text>\n",
       "</g>\n",
       "<!-- 5 -->\n",
       "<g class=\"node\" id=\"node7\"><title>5</title>\n",
       "<path d=\"M463.333,-123C463.333,-123 453.667,-123 453.667,-123 450.833,-123 448,-120.167 448,-117.333 448,-117.333 448,-111.667 448,-111.667 448,-108.833 450.833,-106 453.667,-106 453.667,-106 463.333,-106 463.333,-106 466.167,-106 469,-108.833 469,-111.667 469,-111.667 469,-117.333 469,-117.333 469,-120.167 466.167,-123 463.333,-123\" fill=\"none\" stroke=\"black\"/>\n",
       "<path d=\"M464.667,-127C464.667,-127 452.333,-127 452.333,-127 448.167,-127 444,-122.833 444,-118.667 444,-118.667 444,-110.333 444,-110.333 444,-106.167 448.167,-102 452.333,-102 452.333,-102 464.667,-102 464.667,-102 468.833,-102 473,-106.167 473,-110.333 473,-110.333 473,-118.667 473,-118.667 473,-122.833 468.833,-127 464.667,-127\" fill=\"none\" stroke=\"black\"/>\n",
       "<text font-family=\"Courier,monospace\" font-size=\"10.00\" text-anchor=\"middle\" x=\"458.5\" y=\"-112\">2t</text>\n",
       "</g>\n",
       "<!-- 4&#45;&gt;5 -->\n",
       "<g class=\"edge\" id=\"edge2\"><title>4-&gt;5</title>\n",
       "<path d=\"M396.075,-132.668C407.065,-129.417 425.344,-124.011 439.11,-119.939\" fill=\"none\" stroke=\"black\"/>\n",
       "<polygon fill=\"black\" points=\"443.956,-118.506 439.8,-122.082 441.559,-119.215 439.161,-119.924 439.161,-119.924 439.161,-119.924 441.559,-119.215 438.523,-117.767 443.956,-118.506 443.956,-118.506\" stroke=\"black\"/>\n",
       "<text font-family=\"Courier,monospace\" font-size=\"9.00\" text-anchor=\"start\" x=\"417\" y=\"-133.3\">b</text>\n",
       "</g>\n",
       "<!-- 5&#45;&gt;1 -->\n",
       "<g class=\"edge\" id=\"edge7\"><title>5-&gt;1</title>\n",
       "<path d=\"M443.855,-109.214C429.728,-104.224 406.906,-97.5 386.5,-97.5 239.5,-97.5 239.5,-97.5 239.5,-97.5 220.783,-97.5 200.541,-89.4382 187.479,-83.075\" fill=\"none\" stroke=\"black\"/>\n",
       "<polygon fill=\"black\" points=\"183.008,-80.8256 188.486,-81.0628 185.241,-81.9492 187.475,-83.0727 187.475,-83.0727 187.475,-83.0727 185.241,-81.9492 186.463,-85.0827 183.008,-80.8256 183.008,-80.8256\" stroke=\"black\"/>\n",
       "<text font-family=\"Courier,monospace\" font-size=\"9.00\" text-anchor=\"start\" x=\"311.5\" y=\"-103.3\">ε</text>\n",
       "</g>\n",
       "<!-- 7 -->\n",
       "<g class=\"node\" id=\"node9\"><title>7</title>\n",
       "<path d=\"M318.333,-41C318.333,-41 308.667,-41 308.667,-41 305.833,-41 303,-38.1667 303,-35.3333 303,-35.3333 303,-29.6667 303,-29.6667 303,-26.8333 305.833,-24 308.667,-24 308.667,-24 318.333,-24 318.333,-24 321.167,-24 324,-26.8333 324,-29.6667 324,-29.6667 324,-35.3333 324,-35.3333 324,-38.1667 321.167,-41 318.333,-41\" fill=\"none\" stroke=\"black\"/>\n",
       "<path d=\"M319.667,-45C319.667,-45 307.333,-45 307.333,-45 303.167,-45 299,-40.8333 299,-36.6667 299,-36.6667 299,-28.3333 299,-28.3333 299,-24.1667 303.167,-20 307.333,-20 307.333,-20 319.667,-20 319.667,-20 323.833,-20 328,-24.1667 328,-28.3333 328,-28.3333 328,-36.6667 328,-36.6667 328,-40.8333 323.833,-45 319.667,-45\" fill=\"none\" stroke=\"black\"/>\n",
       "<text font-family=\"Courier,monospace\" font-size=\"10.00\" text-anchor=\"middle\" x=\"313.5\" y=\"-30\">4t</text>\n",
       "</g>\n",
       "<!-- 6&#45;&gt;7 -->\n",
       "<g class=\"edge\" id=\"edge3\"><title>6-&gt;7</title>\n",
       "<path d=\"M251.075,-11.7367C262.065,-15.4517 280.344,-21.6303 294.11,-26.2837\" fill=\"none\" stroke=\"black\"/>\n",
       "<polygon fill=\"black\" points=\"298.956,-27.9218 293.499,-28.4521 296.588,-27.1212 294.219,-26.3206 294.219,-26.3206 294.219,-26.3206 296.588,-27.1212 294.94,-24.189 298.956,-27.9218 298.956,-27.9218\" stroke=\"black\"/>\n",
       "<text font-family=\"Courier,monospace\" font-size=\"9.00\" text-anchor=\"start\" x=\"272\" y=\"-27.3\">a</text>\n",
       "</g>\n",
       "<!-- 7&#45;&gt;1 -->\n",
       "<g class=\"edge\" id=\"edge8\"><title>7-&gt;1</title>\n",
       "<path d=\"M298.893,-36.7093C272.601,-44.8428 215.035,-62.6511 188.029,-71.0053\" fill=\"none\" stroke=\"black\"/>\n",
       "<polygon fill=\"black\" points=\"183.054,-72.5444 187.166,-68.9172 185.442,-71.8056 187.831,-71.0667 187.831,-71.0667 187.831,-71.0667 185.442,-71.8056 188.496,-73.2162 183.054,-72.5444 183.054,-72.5444\" stroke=\"black\"/>\n",
       "<text font-family=\"Courier,monospace\" font-size=\"9.00\" text-anchor=\"start\" x=\"238.5\" y=\"-64.3\">ε</text>\n",
       "</g>\n",
       "<!-- 8 -->\n",
       "<g class=\"node\" id=\"node10\"><title>8</title>\n",
       "<path d=\"M33.3333,-69C33.3333,-69 5.66667,-69 5.66667,-69 2.83333,-69 0,-66.1667 0,-63.3333 0,-63.3333 0,-57.6667 0,-57.6667 0,-54.8333 2.83333,-52 5.66667,-52 5.66667,-52 33.3333,-52 33.3333,-52 36.1667,-52 39,-54.8333 39,-57.6667 39,-57.6667 39,-63.3333 39,-63.3333 39,-66.1667 36.1667,-69 33.3333,-69\" fill=\"none\" stroke=\"black\"/>\n",
       "<text font-family=\"Courier,monospace\" font-size=\"10.00\" text-anchor=\"middle\" x=\"19.5\" y=\"-58\">START</text>\n",
       "</g>\n",
       "<!-- 8&#45;&gt;0 -->\n",
       "<g class=\"edge\" id=\"edge10\"><title>8-&gt;0</title>\n",
       "<path d=\"M39.2016,-59.1997C48.0335,-59.0146 58.6618,-59.4153 68,-61.5 72.366,-62.4747 76.868,-64.0738 81.0543,-65.8495\" fill=\"none\" stroke=\"black\"/>\n",
       "<polygon fill=\"black\" points=\"85.7966,-67.9885 80.3137,-67.9837 83.5177,-66.9606 81.2388,-65.9327 81.2388,-65.9327 81.2388,-65.9327 83.5177,-66.9606 82.1639,-63.8817 85.7966,-67.9885 85.7966,-67.9885\" stroke=\"black\"/>\n",
       "<text font-family=\"Courier,monospace\" font-size=\"9.00\" text-anchor=\"start\" x=\"60.5\" y=\"-67.3\">ε</text>\n",
       "</g>\n",
       "</g>\n",
       "</svg>"
      ],
      "text/plain": [
       "<IPython.core.display.SVG object>"
      ]
     },
     "execution_count": 3,
     "metadata": {},
     "output_type": "execute_result"
    }
   ],
   "source": [
    "m.display_graph()"
   ]
  },
  {
   "cell_type": "code",
   "execution_count": 4,
   "metadata": {
    "collapsed": false,
    "scrolled": true
   },
   "outputs": [
    {
     "data": {
      "text/html": [
       "<table style=\"font-family: Courier, monospace;\">\n",
       "  <tr><td></td><th>&epsilon;</th><th>a</th><th>b</th></tr>\n",
       "  <tr><th>@&gt;0i</th><td>1a</td><td></td><td></td></tr>\n",
       "  <tr><th>1a</th><td>{1s,4s}</td><td></td><td></td></tr>\n",
       "  <tr><th>1s</th><td></td><td>1t</td><td></td></tr>\n",
       "  <tr><th>1t</th><td>2s</td><td></td><td></td></tr>\n",
       "  <tr><th>2s</th><td></td><td></td><td>2t</td></tr>\n",
       "  <tr><th>@2t</th><td>1a</td><td></td><td></td></tr>\n",
       "  <tr><th>4s</th><td></td><td>4t</td><td></td></tr>\n",
       "  <tr><th>@4t</th><td>1a</td><td></td><td></td></tr>\n",
       "</table>\n"
      ],
      "text/plain": [
       "<IPython.core.display.HTML object>"
      ]
     },
     "execution_count": 4,
     "metadata": {},
     "output_type": "execute_result"
    }
   ],
   "source": [
    "m.display_table()"
   ]
  },
  {
   "cell_type": "markdown",
   "metadata": {},
   "source": [
    "The states are numbered according to the position in the regular expression they came from (so that listing them in alphabetical order is natural). The letter suffixes are explained below.\n",
    "\n",
    "We can break the construction of the automaton down step by step. The `start` option just says what number to begin numbering the states at."
   ]
  },
  {
   "cell_type": "code",
   "execution_count": 5,
   "metadata": {
    "collapsed": false
   },
   "outputs": [
    {
     "data": {
      "image/svg+xml": [
       "<svg height=\"48pt\" viewBox=\"0.00 0.00 192.00 48.00\" width=\"192pt\" xmlns=\"http://www.w3.org/2000/svg\" xmlns:xlink=\"http://www.w3.org/1999/xlink\">\n",
       "<g class=\"graph\" id=\"graph0\" transform=\"scale(1 1) rotate(0) translate(4 44)\">\n",
       "<title>%3</title>\n",
       "<polygon fill=\"white\" points=\"-4,4 -4,-44 188,-44 188,4 -4,4\" stroke=\"none\"/>\n",
       "<!-- START -->\n",
       "<g class=\"node\" id=\"node1\"><title>START</title>\n",
       "</g>\n",
       "<!-- 0 -->\n",
       "<g class=\"node\" id=\"node2\"><title>0</title>\n",
       "<path d=\"M101.333,-32C101.333,-32 91.6667,-32 91.6667,-32 88.8333,-32 86,-29.1667 86,-26.3333 86,-26.3333 86,-20.6667 86,-20.6667 86,-17.8333 88.8333,-15 91.6667,-15 91.6667,-15 101.333,-15 101.333,-15 104.167,-15 107,-17.8333 107,-20.6667 107,-20.6667 107,-26.3333 107,-26.3333 107,-29.1667 104.167,-32 101.333,-32\" fill=\"none\" stroke=\"black\"/>\n",
       "<text font-family=\"Courier,monospace\" font-size=\"10.00\" text-anchor=\"middle\" x=\"96.5\" y=\"-21\">1s</text>\n",
       "</g>\n",
       "<!-- START&#45;&gt;0 -->\n",
       "<g class=\"edge\" id=\"edge1\"><title>START-&gt;0</title>\n",
       "<path d=\"M20.5544,-39.4884C22.1737,-39.143 59.5852,-31.1618 80.9251,-26.6093\" fill=\"none\" stroke=\"black\"/>\n",
       "<polygon fill=\"black\" points=\"85.9727,-25.5325 81.5522,-28.7763 83.5277,-26.0541 81.0827,-26.5758 81.0827,-26.5758 81.0827,-26.5758 83.5277,-26.0541 80.6132,-24.3753 85.9727,-25.5325 85.9727,-25.5325\" stroke=\"black\"/>\n",
       "</g>\n",
       "<!-- 1 -->\n",
       "<g class=\"node\" id=\"node3\"><title>1</title>\n",
       "<path d=\"M174.333,-32C174.333,-32 164.667,-32 164.667,-32 161.833,-32 159,-29.1667 159,-26.3333 159,-26.3333 159,-20.6667 159,-20.6667 159,-17.8333 161.833,-15 164.667,-15 164.667,-15 174.333,-15 174.333,-15 177.167,-15 180,-17.8333 180,-20.6667 180,-20.6667 180,-26.3333 180,-26.3333 180,-29.1667 177.167,-32 174.333,-32\" fill=\"none\" stroke=\"black\"/>\n",
       "<path d=\"M175.667,-36C175.667,-36 163.333,-36 163.333,-36 159.167,-36 155,-31.8333 155,-27.6667 155,-27.6667 155,-19.3333 155,-19.3333 155,-15.1667 159.167,-11 163.333,-11 163.333,-11 175.667,-11 175.667,-11 179.833,-11 184,-15.1667 184,-19.3333 184,-19.3333 184,-27.6667 184,-27.6667 184,-31.8333 179.833,-36 175.667,-36\" fill=\"none\" stroke=\"black\"/>\n",
       "<text font-family=\"Courier,monospace\" font-size=\"10.00\" text-anchor=\"middle\" x=\"169.5\" y=\"-21\">1t</text>\n",
       "</g>\n",
       "<!-- 0&#45;&gt;1 -->\n",
       "<g class=\"edge\" id=\"edge3\"><title>0-&gt;1</title>\n",
       "<path d=\"M107.075,-23.5C117.969,-23.5 136.024,-23.5 149.747,-23.5\" fill=\"none\" stroke=\"black\"/>\n",
       "<polygon fill=\"black\" points=\"154.956,-23.5 149.956,-25.7501 152.456,-23.5 149.956,-23.5001 149.956,-23.5001 149.956,-23.5001 152.456,-23.5 149.956,-21.2501 154.956,-23.5 154.956,-23.5\" stroke=\"black\"/>\n",
       "<text font-family=\"Courier,monospace\" font-size=\"9.00\" text-anchor=\"start\" x=\"128\" y=\"-29.3\">a</text>\n",
       "</g>\n",
       "<!-- 2 -->\n",
       "<g class=\"node\" id=\"node4\"><title>2</title>\n",
       "<path d=\"M33.3333,-17C33.3333,-17 5.66667,-17 5.66667,-17 2.83333,-17 0,-14.1667 0,-11.3333 0,-11.3333 0,-5.66667 0,-5.66667 0,-2.83333 2.83333,-0 5.66667,-0 5.66667,-0 33.3333,-0 33.3333,-0 36.1667,-0 39,-2.83333 39,-5.66667 39,-5.66667 39,-11.3333 39,-11.3333 39,-14.1667 36.1667,-17 33.3333,-17\" fill=\"none\" stroke=\"black\"/>\n",
       "<text font-family=\"Courier,monospace\" font-size=\"10.00\" text-anchor=\"middle\" x=\"19.5\" y=\"-6\">START</text>\n",
       "</g>\n",
       "<!-- 2&#45;&gt;0 -->\n",
       "<g class=\"edge\" id=\"edge2\"><title>2-&gt;0</title>\n",
       "<path d=\"M39.2538,-6.97975C48.0971,-6.74644 58.7199,-7.17018 68,-9.5 72.5564,-10.6439 77.2178,-12.6467 81.3778,-14.7859\" fill=\"none\" stroke=\"black\"/>\n",
       "<polygon fill=\"black\" points=\"85.9946,-17.3163 80.5285,-16.8861 83.8023,-16.1147 81.61,-14.9131 81.61,-14.9131 81.61,-14.9131 83.8023,-16.1147 82.6914,-12.94 85.9946,-17.3163 85.9946,-17.3163\" stroke=\"black\"/>\n",
       "<text font-family=\"Courier,monospace\" font-size=\"9.00\" text-anchor=\"start\" x=\"60.5\" y=\"-15.3\">ε</text>\n",
       "</g>\n",
       "</g>\n",
       "</svg>"
      ],
      "text/plain": [
       "<IPython.core.display.SVG object>"
      ]
     },
     "execution_count": 5,
     "metadata": {},
     "output_type": "execute_result"
    }
   ],
   "source": [
    "convert_regexp(\"a\", start=1).display_graph()"
   ]
  },
  {
   "cell_type": "code",
   "execution_count": 6,
   "metadata": {
    "collapsed": false
   },
   "outputs": [
    {
     "data": {
      "image/svg+xml": [
       "<svg height=\"48pt\" viewBox=\"0.00 0.00 192.00 48.00\" width=\"192pt\" xmlns=\"http://www.w3.org/2000/svg\" xmlns:xlink=\"http://www.w3.org/1999/xlink\">\n",
       "<g class=\"graph\" id=\"graph0\" transform=\"scale(1 1) rotate(0) translate(4 44)\">\n",
       "<title>%3</title>\n",
       "<polygon fill=\"white\" points=\"-4,4 -4,-44 188,-44 188,4 -4,4\" stroke=\"none\"/>\n",
       "<!-- START -->\n",
       "<g class=\"node\" id=\"node1\"><title>START</title>\n",
       "</g>\n",
       "<!-- 0 -->\n",
       "<g class=\"node\" id=\"node2\"><title>0</title>\n",
       "<path d=\"M101.333,-32C101.333,-32 91.6667,-32 91.6667,-32 88.8333,-32 86,-29.1667 86,-26.3333 86,-26.3333 86,-20.6667 86,-20.6667 86,-17.8333 88.8333,-15 91.6667,-15 91.6667,-15 101.333,-15 101.333,-15 104.167,-15 107,-17.8333 107,-20.6667 107,-20.6667 107,-26.3333 107,-26.3333 107,-29.1667 104.167,-32 101.333,-32\" fill=\"none\" stroke=\"black\"/>\n",
       "<text font-family=\"Courier,monospace\" font-size=\"10.00\" text-anchor=\"middle\" x=\"96.5\" y=\"-21\">2s</text>\n",
       "</g>\n",
       "<!-- START&#45;&gt;0 -->\n",
       "<g class=\"edge\" id=\"edge1\"><title>START-&gt;0</title>\n",
       "<path d=\"M20.5544,-39.4884C22.1737,-39.143 59.5852,-31.1618 80.9251,-26.6093\" fill=\"none\" stroke=\"black\"/>\n",
       "<polygon fill=\"black\" points=\"85.9727,-25.5325 81.5522,-28.7763 83.5277,-26.0541 81.0827,-26.5758 81.0827,-26.5758 81.0827,-26.5758 83.5277,-26.0541 80.6132,-24.3753 85.9727,-25.5325 85.9727,-25.5325\" stroke=\"black\"/>\n",
       "</g>\n",
       "<!-- 1 -->\n",
       "<g class=\"node\" id=\"node3\"><title>1</title>\n",
       "<path d=\"M174.333,-32C174.333,-32 164.667,-32 164.667,-32 161.833,-32 159,-29.1667 159,-26.3333 159,-26.3333 159,-20.6667 159,-20.6667 159,-17.8333 161.833,-15 164.667,-15 164.667,-15 174.333,-15 174.333,-15 177.167,-15 180,-17.8333 180,-20.6667 180,-20.6667 180,-26.3333 180,-26.3333 180,-29.1667 177.167,-32 174.333,-32\" fill=\"none\" stroke=\"black\"/>\n",
       "<path d=\"M175.667,-36C175.667,-36 163.333,-36 163.333,-36 159.167,-36 155,-31.8333 155,-27.6667 155,-27.6667 155,-19.3333 155,-19.3333 155,-15.1667 159.167,-11 163.333,-11 163.333,-11 175.667,-11 175.667,-11 179.833,-11 184,-15.1667 184,-19.3333 184,-19.3333 184,-27.6667 184,-27.6667 184,-31.8333 179.833,-36 175.667,-36\" fill=\"none\" stroke=\"black\"/>\n",
       "<text font-family=\"Courier,monospace\" font-size=\"10.00\" text-anchor=\"middle\" x=\"169.5\" y=\"-21\">2t</text>\n",
       "</g>\n",
       "<!-- 0&#45;&gt;1 -->\n",
       "<g class=\"edge\" id=\"edge2\"><title>0-&gt;1</title>\n",
       "<path d=\"M107.075,-23.5C117.969,-23.5 136.024,-23.5 149.747,-23.5\" fill=\"none\" stroke=\"black\"/>\n",
       "<polygon fill=\"black\" points=\"154.956,-23.5 149.956,-25.7501 152.456,-23.5 149.956,-23.5001 149.956,-23.5001 149.956,-23.5001 152.456,-23.5 149.956,-21.2501 154.956,-23.5 154.956,-23.5\" stroke=\"black\"/>\n",
       "<text font-family=\"Courier,monospace\" font-size=\"9.00\" text-anchor=\"start\" x=\"128\" y=\"-29.3\">b</text>\n",
       "</g>\n",
       "<!-- 2 -->\n",
       "<g class=\"node\" id=\"node4\"><title>2</title>\n",
       "<path d=\"M33.3333,-17C33.3333,-17 5.66667,-17 5.66667,-17 2.83333,-17 0,-14.1667 0,-11.3333 0,-11.3333 0,-5.66667 0,-5.66667 0,-2.83333 2.83333,-0 5.66667,-0 5.66667,-0 33.3333,-0 33.3333,-0 36.1667,-0 39,-2.83333 39,-5.66667 39,-5.66667 39,-11.3333 39,-11.3333 39,-14.1667 36.1667,-17 33.3333,-17\" fill=\"none\" stroke=\"black\"/>\n",
       "<text font-family=\"Courier,monospace\" font-size=\"10.00\" text-anchor=\"middle\" x=\"19.5\" y=\"-6\">START</text>\n",
       "</g>\n",
       "<!-- 2&#45;&gt;0 -->\n",
       "<g class=\"edge\" id=\"edge3\"><title>2-&gt;0</title>\n",
       "<path d=\"M39.2538,-6.97975C48.0971,-6.74644 58.7199,-7.17018 68,-9.5 72.5564,-10.6439 77.2178,-12.6467 81.3778,-14.7859\" fill=\"none\" stroke=\"black\"/>\n",
       "<polygon fill=\"black\" points=\"85.9946,-17.3163 80.5285,-16.8861 83.8023,-16.1147 81.61,-14.9131 81.61,-14.9131 81.61,-14.9131 83.8023,-16.1147 82.6914,-12.94 85.9946,-17.3163 85.9946,-17.3163\" stroke=\"black\"/>\n",
       "<text font-family=\"Courier,monospace\" font-size=\"9.00\" text-anchor=\"start\" x=\"60.5\" y=\"-15.3\">ε</text>\n",
       "</g>\n",
       "</g>\n",
       "</svg>"
      ],
      "text/plain": [
       "<IPython.core.display.SVG object>"
      ]
     },
     "execution_count": 6,
     "metadata": {},
     "output_type": "execute_result"
    }
   ],
   "source": [
    "convert_regexp(\"b\", start=2).display_graph()"
   ]
  },
  {
   "cell_type": "markdown",
   "metadata": {},
   "source": [
    "The suffixes `s` and `t` (for \"source\" and \"target\", I guess) are used for the state before and after each symbol. "
   ]
  },
  {
   "cell_type": "code",
   "execution_count": 7,
   "metadata": {
    "collapsed": false
   },
   "outputs": [
    {
     "data": {
      "image/svg+xml": [
       "<svg height=\"48pt\" viewBox=\"0.00 0.00 329.00 48.00\" width=\"329pt\" xmlns=\"http://www.w3.org/2000/svg\" xmlns:xlink=\"http://www.w3.org/1999/xlink\">\n",
       "<g class=\"graph\" id=\"graph0\" transform=\"scale(1 1) rotate(0) translate(4 44)\">\n",
       "<title>%3</title>\n",
       "<polygon fill=\"white\" points=\"-4,4 -4,-44 325,-44 325,4 -4,4\" stroke=\"none\"/>\n",
       "<!-- START -->\n",
       "<g class=\"node\" id=\"node1\"><title>START</title>\n",
       "</g>\n",
       "<!-- 0 -->\n",
       "<g class=\"node\" id=\"node2\"><title>0</title>\n",
       "<path d=\"M101.333,-32C101.333,-32 91.6667,-32 91.6667,-32 88.8333,-32 86,-29.1667 86,-26.3333 86,-26.3333 86,-20.6667 86,-20.6667 86,-17.8333 88.8333,-15 91.6667,-15 91.6667,-15 101.333,-15 101.333,-15 104.167,-15 107,-17.8333 107,-20.6667 107,-20.6667 107,-26.3333 107,-26.3333 107,-29.1667 104.167,-32 101.333,-32\" fill=\"none\" stroke=\"black\"/>\n",
       "<text font-family=\"Courier,monospace\" font-size=\"10.00\" text-anchor=\"middle\" x=\"96.5\" y=\"-21\">1s</text>\n",
       "</g>\n",
       "<!-- START&#45;&gt;0 -->\n",
       "<g class=\"edge\" id=\"edge1\"><title>START-&gt;0</title>\n",
       "<path d=\"M20.5544,-39.4884C22.1737,-39.143 59.5852,-31.1618 80.9251,-26.6093\" fill=\"none\" stroke=\"black\"/>\n",
       "<polygon fill=\"black\" points=\"85.9727,-25.5325 81.5522,-28.7763 83.5277,-26.0541 81.0827,-26.5758 81.0827,-26.5758 81.0827,-26.5758 83.5277,-26.0541 80.6132,-24.3753 85.9727,-25.5325 85.9727,-25.5325\" stroke=\"black\"/>\n",
       "</g>\n",
       "<!-- 1 -->\n",
       "<g class=\"node\" id=\"node3\"><title>1</title>\n",
       "<path d=\"M170.333,-32C170.333,-32 160.667,-32 160.667,-32 157.833,-32 155,-29.1667 155,-26.3333 155,-26.3333 155,-20.6667 155,-20.6667 155,-17.8333 157.833,-15 160.667,-15 160.667,-15 170.333,-15 170.333,-15 173.167,-15 176,-17.8333 176,-20.6667 176,-20.6667 176,-26.3333 176,-26.3333 176,-29.1667 173.167,-32 170.333,-32\" fill=\"none\" stroke=\"black\"/>\n",
       "<text font-family=\"Courier,monospace\" font-size=\"10.00\" text-anchor=\"middle\" x=\"165.5\" y=\"-21\">1t</text>\n",
       "</g>\n",
       "<!-- 0&#45;&gt;1 -->\n",
       "<g class=\"edge\" id=\"edge3\"><title>0-&gt;1</title>\n",
       "<path d=\"M107.099,-23.5C118.244,-23.5 136.752,-23.5 149.732,-23.5\" fill=\"none\" stroke=\"black\"/>\n",
       "<polygon fill=\"black\" points=\"154.918,-23.5 149.918,-25.7501 152.418,-23.5 149.918,-23.5001 149.918,-23.5001 149.918,-23.5001 152.418,-23.5 149.918,-21.2501 154.918,-23.5 154.918,-23.5\" stroke=\"black\"/>\n",
       "<text font-family=\"Courier,monospace\" font-size=\"9.00\" text-anchor=\"start\" x=\"128\" y=\"-29.3\">a</text>\n",
       "</g>\n",
       "<!-- 2 -->\n",
       "<g class=\"node\" id=\"node4\"><title>2</title>\n",
       "<path d=\"M238.333,-32C238.333,-32 228.667,-32 228.667,-32 225.833,-32 223,-29.1667 223,-26.3333 223,-26.3333 223,-20.6667 223,-20.6667 223,-17.8333 225.833,-15 228.667,-15 228.667,-15 238.333,-15 238.333,-15 241.167,-15 244,-17.8333 244,-20.6667 244,-20.6667 244,-26.3333 244,-26.3333 244,-29.1667 241.167,-32 238.333,-32\" fill=\"none\" stroke=\"black\"/>\n",
       "<text font-family=\"Courier,monospace\" font-size=\"10.00\" text-anchor=\"middle\" x=\"233.5\" y=\"-21\">2s</text>\n",
       "</g>\n",
       "<!-- 1&#45;&gt;2 -->\n",
       "<g class=\"edge\" id=\"edge4\"><title>1-&gt;2</title>\n",
       "<path d=\"M176.239,-23.5C187.157,-23.5 204.988,-23.5 217.648,-23.5\" fill=\"none\" stroke=\"black\"/>\n",
       "<polygon fill=\"black\" points=\"222.722,-23.5 217.722,-25.7501 220.222,-23.5 217.722,-23.5001 217.722,-23.5001 217.722,-23.5001 220.222,-23.5 217.721,-21.2501 222.722,-23.5 222.722,-23.5\" stroke=\"black\"/>\n",
       "<text font-family=\"Courier,monospace\" font-size=\"9.00\" text-anchor=\"start\" x=\"197.5\" y=\"-29.3\">ε</text>\n",
       "</g>\n",
       "<!-- 3 -->\n",
       "<g class=\"node\" id=\"node5\"><title>3</title>\n",
       "<path d=\"M311.333,-32C311.333,-32 301.667,-32 301.667,-32 298.833,-32 296,-29.1667 296,-26.3333 296,-26.3333 296,-20.6667 296,-20.6667 296,-17.8333 298.833,-15 301.667,-15 301.667,-15 311.333,-15 311.333,-15 314.167,-15 317,-17.8333 317,-20.6667 317,-20.6667 317,-26.3333 317,-26.3333 317,-29.1667 314.167,-32 311.333,-32\" fill=\"none\" stroke=\"black\"/>\n",
       "<path d=\"M312.667,-36C312.667,-36 300.333,-36 300.333,-36 296.167,-36 292,-31.8333 292,-27.6667 292,-27.6667 292,-19.3333 292,-19.3333 292,-15.1667 296.167,-11 300.333,-11 300.333,-11 312.667,-11 312.667,-11 316.833,-11 321,-15.1667 321,-19.3333 321,-19.3333 321,-27.6667 321,-27.6667 321,-31.8333 316.833,-36 312.667,-36\" fill=\"none\" stroke=\"black\"/>\n",
       "<text font-family=\"Courier,monospace\" font-size=\"10.00\" text-anchor=\"middle\" x=\"306.5\" y=\"-21\">2t</text>\n",
       "</g>\n",
       "<!-- 2&#45;&gt;3 -->\n",
       "<g class=\"edge\" id=\"edge5\"><title>2-&gt;3</title>\n",
       "<path d=\"M244.075,-23.5C254.969,-23.5 273.024,-23.5 286.747,-23.5\" fill=\"none\" stroke=\"black\"/>\n",
       "<polygon fill=\"black\" points=\"291.956,-23.5 286.956,-25.7501 289.456,-23.5 286.956,-23.5001 286.956,-23.5001 286.956,-23.5001 289.456,-23.5 286.956,-21.2501 291.956,-23.5 291.956,-23.5\" stroke=\"black\"/>\n",
       "<text font-family=\"Courier,monospace\" font-size=\"9.00\" text-anchor=\"start\" x=\"265\" y=\"-29.3\">b</text>\n",
       "</g>\n",
       "<!-- 4 -->\n",
       "<g class=\"node\" id=\"node6\"><title>4</title>\n",
       "<path d=\"M33.3333,-17C33.3333,-17 5.66667,-17 5.66667,-17 2.83333,-17 0,-14.1667 0,-11.3333 0,-11.3333 0,-5.66667 0,-5.66667 0,-2.83333 2.83333,-0 5.66667,-0 5.66667,-0 33.3333,-0 33.3333,-0 36.1667,-0 39,-2.83333 39,-5.66667 39,-5.66667 39,-11.3333 39,-11.3333 39,-14.1667 36.1667,-17 33.3333,-17\" fill=\"none\" stroke=\"black\"/>\n",
       "<text font-family=\"Courier,monospace\" font-size=\"10.00\" text-anchor=\"middle\" x=\"19.5\" y=\"-6\">START</text>\n",
       "</g>\n",
       "<!-- 4&#45;&gt;0 -->\n",
       "<g class=\"edge\" id=\"edge2\"><title>4-&gt;0</title>\n",
       "<path d=\"M39.2538,-6.97975C48.0971,-6.74644 58.7199,-7.17018 68,-9.5 72.5564,-10.6439 77.2178,-12.6467 81.3778,-14.7859\" fill=\"none\" stroke=\"black\"/>\n",
       "<polygon fill=\"black\" points=\"85.9946,-17.3163 80.5285,-16.8861 83.8023,-16.1147 81.61,-14.9131 81.61,-14.9131 81.61,-14.9131 83.8023,-16.1147 82.6914,-12.94 85.9946,-17.3163 85.9946,-17.3163\" stroke=\"black\"/>\n",
       "<text font-family=\"Courier,monospace\" font-size=\"9.00\" text-anchor=\"start\" x=\"60.5\" y=\"-15.3\">ε</text>\n",
       "</g>\n",
       "</g>\n",
       "</svg>"
      ],
      "text/plain": [
       "<IPython.core.display.SVG object>"
      ]
     },
     "execution_count": 7,
     "metadata": {},
     "output_type": "execute_result"
    }
   ],
   "source": [
    "convert_regexp(\"ab\", start=1).display_graph()"
   ]
  },
  {
   "cell_type": "code",
   "execution_count": 8,
   "metadata": {
    "collapsed": false
   },
   "outputs": [
    {
     "data": {
      "image/svg+xml": [
       "<svg height=\"48pt\" viewBox=\"0.00 0.00 192.00 48.00\" width=\"192pt\" xmlns=\"http://www.w3.org/2000/svg\" xmlns:xlink=\"http://www.w3.org/1999/xlink\">\n",
       "<g class=\"graph\" id=\"graph0\" transform=\"scale(1 1) rotate(0) translate(4 44)\">\n",
       "<title>%3</title>\n",
       "<polygon fill=\"white\" points=\"-4,4 -4,-44 188,-44 188,4 -4,4\" stroke=\"none\"/>\n",
       "<!-- START -->\n",
       "<g class=\"node\" id=\"node1\"><title>START</title>\n",
       "</g>\n",
       "<!-- 0 -->\n",
       "<g class=\"node\" id=\"node2\"><title>0</title>\n",
       "<path d=\"M101.333,-32C101.333,-32 91.6667,-32 91.6667,-32 88.8333,-32 86,-29.1667 86,-26.3333 86,-26.3333 86,-20.6667 86,-20.6667 86,-17.8333 88.8333,-15 91.6667,-15 91.6667,-15 101.333,-15 101.333,-15 104.167,-15 107,-17.8333 107,-20.6667 107,-20.6667 107,-26.3333 107,-26.3333 107,-29.1667 104.167,-32 101.333,-32\" fill=\"none\" stroke=\"black\"/>\n",
       "<text font-family=\"Courier,monospace\" font-size=\"10.00\" text-anchor=\"middle\" x=\"96.5\" y=\"-21\">4s</text>\n",
       "</g>\n",
       "<!-- START&#45;&gt;0 -->\n",
       "<g class=\"edge\" id=\"edge1\"><title>START-&gt;0</title>\n",
       "<path d=\"M20.5544,-39.4884C22.1737,-39.143 59.5852,-31.1618 80.9251,-26.6093\" fill=\"none\" stroke=\"black\"/>\n",
       "<polygon fill=\"black\" points=\"85.9727,-25.5325 81.5522,-28.7763 83.5277,-26.0541 81.0827,-26.5758 81.0827,-26.5758 81.0827,-26.5758 83.5277,-26.0541 80.6132,-24.3753 85.9727,-25.5325 85.9727,-25.5325\" stroke=\"black\"/>\n",
       "</g>\n",
       "<!-- 1 -->\n",
       "<g class=\"node\" id=\"node3\"><title>1</title>\n",
       "<path d=\"M174.333,-32C174.333,-32 164.667,-32 164.667,-32 161.833,-32 159,-29.1667 159,-26.3333 159,-26.3333 159,-20.6667 159,-20.6667 159,-17.8333 161.833,-15 164.667,-15 164.667,-15 174.333,-15 174.333,-15 177.167,-15 180,-17.8333 180,-20.6667 180,-20.6667 180,-26.3333 180,-26.3333 180,-29.1667 177.167,-32 174.333,-32\" fill=\"none\" stroke=\"black\"/>\n",
       "<path d=\"M175.667,-36C175.667,-36 163.333,-36 163.333,-36 159.167,-36 155,-31.8333 155,-27.6667 155,-27.6667 155,-19.3333 155,-19.3333 155,-15.1667 159.167,-11 163.333,-11 163.333,-11 175.667,-11 175.667,-11 179.833,-11 184,-15.1667 184,-19.3333 184,-19.3333 184,-27.6667 184,-27.6667 184,-31.8333 179.833,-36 175.667,-36\" fill=\"none\" stroke=\"black\"/>\n",
       "<text font-family=\"Courier,monospace\" font-size=\"10.00\" text-anchor=\"middle\" x=\"169.5\" y=\"-21\">4t</text>\n",
       "</g>\n",
       "<!-- 0&#45;&gt;1 -->\n",
       "<g class=\"edge\" id=\"edge3\"><title>0-&gt;1</title>\n",
       "<path d=\"M107.075,-23.5C117.969,-23.5 136.024,-23.5 149.747,-23.5\" fill=\"none\" stroke=\"black\"/>\n",
       "<polygon fill=\"black\" points=\"154.956,-23.5 149.956,-25.7501 152.456,-23.5 149.956,-23.5001 149.956,-23.5001 149.956,-23.5001 152.456,-23.5 149.956,-21.2501 154.956,-23.5 154.956,-23.5\" stroke=\"black\"/>\n",
       "<text font-family=\"Courier,monospace\" font-size=\"9.00\" text-anchor=\"start\" x=\"128\" y=\"-29.3\">a</text>\n",
       "</g>\n",
       "<!-- 2 -->\n",
       "<g class=\"node\" id=\"node4\"><title>2</title>\n",
       "<path d=\"M33.3333,-17C33.3333,-17 5.66667,-17 5.66667,-17 2.83333,-17 0,-14.1667 0,-11.3333 0,-11.3333 0,-5.66667 0,-5.66667 0,-2.83333 2.83333,-0 5.66667,-0 5.66667,-0 33.3333,-0 33.3333,-0 36.1667,-0 39,-2.83333 39,-5.66667 39,-5.66667 39,-11.3333 39,-11.3333 39,-14.1667 36.1667,-17 33.3333,-17\" fill=\"none\" stroke=\"black\"/>\n",
       "<text font-family=\"Courier,monospace\" font-size=\"10.00\" text-anchor=\"middle\" x=\"19.5\" y=\"-6\">START</text>\n",
       "</g>\n",
       "<!-- 2&#45;&gt;0 -->\n",
       "<g class=\"edge\" id=\"edge2\"><title>2-&gt;0</title>\n",
       "<path d=\"M39.2538,-6.97975C48.0971,-6.74644 58.7199,-7.17018 68,-9.5 72.5564,-10.6439 77.2178,-12.6467 81.3778,-14.7859\" fill=\"none\" stroke=\"black\"/>\n",
       "<polygon fill=\"black\" points=\"85.9946,-17.3163 80.5285,-16.8861 83.8023,-16.1147 81.61,-14.9131 81.61,-14.9131 81.61,-14.9131 83.8023,-16.1147 82.6914,-12.94 85.9946,-17.3163 85.9946,-17.3163\" stroke=\"black\"/>\n",
       "<text font-family=\"Courier,monospace\" font-size=\"9.00\" text-anchor=\"start\" x=\"60.5\" y=\"-15.3\">ε</text>\n",
       "</g>\n",
       "</g>\n",
       "</svg>"
      ],
      "text/plain": [
       "<IPython.core.display.SVG object>"
      ]
     },
     "execution_count": 8,
     "metadata": {},
     "output_type": "execute_result"
    }
   ],
   "source": [
    "convert_regexp(\"a\", start=4).display_graph()"
   ]
  },
  {
   "cell_type": "code",
   "execution_count": 9,
   "metadata": {
    "collapsed": false
   },
   "outputs": [
    {
     "data": {
      "image/svg+xml": [
       "<svg height=\"76pt\" viewBox=\"0.00 0.00 405.00 75.50\" width=\"405pt\" xmlns=\"http://www.w3.org/2000/svg\" xmlns:xlink=\"http://www.w3.org/1999/xlink\">\n",
       "<g class=\"graph\" id=\"graph0\" transform=\"scale(1 1) rotate(0) translate(4 71.5)\">\n",
       "<title>%3</title>\n",
       "<polygon fill=\"white\" points=\"-4,4 -4,-71.5 401,-71.5 401,4 -4,4\" stroke=\"none\"/>\n",
       "<!-- START -->\n",
       "<g class=\"node\" id=\"node1\"><title>START</title>\n",
       "</g>\n",
       "<!-- 0 -->\n",
       "<g class=\"node\" id=\"node2\"><title>0</title>\n",
       "<path d=\"M101.333,-40C101.333,-40 91.6667,-40 91.6667,-40 88.8333,-40 86,-37.1667 86,-34.3333 86,-34.3333 86,-28.6667 86,-28.6667 86,-25.8333 88.8333,-23 91.6667,-23 91.6667,-23 101.333,-23 101.333,-23 104.167,-23 107,-25.8333 107,-28.6667 107,-28.6667 107,-34.3333 107,-34.3333 107,-37.1667 104.167,-40 101.333,-40\" fill=\"none\" stroke=\"black\"/>\n",
       "<text font-family=\"Courier,monospace\" font-size=\"10.00\" text-anchor=\"middle\" x=\"96.5\" y=\"-29\">1a</text>\n",
       "</g>\n",
       "<!-- START&#45;&gt;0 -->\n",
       "<g class=\"edge\" id=\"edge1\"><title>START-&gt;0</title>\n",
       "<path d=\"M20.5544,-47.4884C22.1737,-47.143 59.5852,-39.1618 80.9251,-34.6093\" fill=\"none\" stroke=\"black\"/>\n",
       "<polygon fill=\"black\" points=\"85.9727,-33.5325 81.5522,-36.7763 83.5277,-34.0541 81.0827,-34.5758 81.0827,-34.5758 81.0827,-34.5758 83.5277,-34.0541 80.6132,-32.3753 85.9727,-33.5325 85.9727,-33.5325\" stroke=\"black\"/>\n",
       "</g>\n",
       "<!-- 1 -->\n",
       "<g class=\"node\" id=\"node3\"><title>1</title>\n",
       "<path d=\"M169.333,-60C169.333,-60 159.667,-60 159.667,-60 156.833,-60 154,-57.1667 154,-54.3333 154,-54.3333 154,-48.6667 154,-48.6667 154,-45.8333 156.833,-43 159.667,-43 159.667,-43 169.333,-43 169.333,-43 172.167,-43 175,-45.8333 175,-48.6667 175,-48.6667 175,-54.3333 175,-54.3333 175,-57.1667 172.167,-60 169.333,-60\" fill=\"none\" stroke=\"black\"/>\n",
       "<text font-family=\"Courier,monospace\" font-size=\"10.00\" text-anchor=\"middle\" x=\"164.5\" y=\"-49\">1s</text>\n",
       "</g>\n",
       "<!-- 0&#45;&gt;1 -->\n",
       "<g class=\"edge\" id=\"edge5\"><title>0-&gt;1</title>\n",
       "<path d=\"M107.239,-34.4511C118.157,-37.7597 135.988,-43.1631 148.648,-46.9993\" fill=\"none\" stroke=\"black\"/>\n",
       "<polygon fill=\"black\" points=\"153.722,-48.5368 148.284,-49.24 151.329,-47.8118 148.936,-47.0867 148.936,-47.0867 148.936,-47.0867 151.329,-47.8118 149.589,-44.9334 153.722,-48.5368 153.722,-48.5368\" stroke=\"black\"/>\n",
       "<text font-family=\"Courier,monospace\" font-size=\"9.00\" text-anchor=\"start\" x=\"128.5\" y=\"-49.3\">ε</text>\n",
       "</g>\n",
       "<!-- 5 -->\n",
       "<g class=\"node\" id=\"node7\"><title>5</title>\n",
       "<path d=\"M169.333,-21C169.333,-21 159.667,-21 159.667,-21 156.833,-21 154,-18.1667 154,-15.3333 154,-15.3333 154,-9.66667 154,-9.66667 154,-6.83333 156.833,-4 159.667,-4 159.667,-4 169.333,-4 169.333,-4 172.167,-4 175,-6.83333 175,-9.66667 175,-9.66667 175,-15.3333 175,-15.3333 175,-18.1667 172.167,-21 169.333,-21\" fill=\"none\" stroke=\"black\"/>\n",
       "<text font-family=\"Courier,monospace\" font-size=\"10.00\" text-anchor=\"middle\" x=\"164.5\" y=\"-10\">4s</text>\n",
       "</g>\n",
       "<!-- 0&#45;&gt;5 -->\n",
       "<g class=\"edge\" id=\"edge7\"><title>0-&gt;5</title>\n",
       "<path d=\"M107.004,-23.3859C112.013,-19.6243 118.464,-15.5416 125,-13.5 132.527,-11.1488 141.29,-10.7517 148.552,-11.0073\" fill=\"none\" stroke=\"black\"/>\n",
       "<polygon fill=\"black\" points=\"153.768,-11.3084 148.647,-13.2664 151.272,-11.1643 148.777,-11.0201 148.777,-11.0201 148.777,-11.0201 151.272,-11.1643 148.906,-8.77389 153.768,-11.3084 153.768,-11.3084\" stroke=\"black\"/>\n",
       "<text font-family=\"Courier,monospace\" font-size=\"9.00\" text-anchor=\"start\" x=\"128.5\" y=\"-19.3\">ε</text>\n",
       "</g>\n",
       "<!-- 2 -->\n",
       "<g class=\"node\" id=\"node4\"><title>2</title>\n",
       "<path d=\"M242.333,-60C242.333,-60 232.667,-60 232.667,-60 229.833,-60 227,-57.1667 227,-54.3333 227,-54.3333 227,-48.6667 227,-48.6667 227,-45.8333 229.833,-43 232.667,-43 232.667,-43 242.333,-43 242.333,-43 245.167,-43 248,-45.8333 248,-48.6667 248,-48.6667 248,-54.3333 248,-54.3333 248,-57.1667 245.167,-60 242.333,-60\" fill=\"none\" stroke=\"black\"/>\n",
       "<text font-family=\"Courier,monospace\" font-size=\"10.00\" text-anchor=\"middle\" x=\"237.5\" y=\"-49\">1t</text>\n",
       "</g>\n",
       "<!-- 1&#45;&gt;2 -->\n",
       "<g class=\"edge\" id=\"edge6\"><title>1-&gt;2</title>\n",
       "<path d=\"M175.075,-51.5C186.971,-51.5 207.407,-51.5 221.417,-51.5\" fill=\"none\" stroke=\"black\"/>\n",
       "<polygon fill=\"black\" points=\"226.621,-51.5 221.621,-53.7501 224.121,-51.5 221.621,-51.5001 221.621,-51.5001 221.621,-51.5001 224.121,-51.5 221.621,-49.2501 226.621,-51.5 226.621,-51.5\" stroke=\"black\"/>\n",
       "<text font-family=\"Courier,monospace\" font-size=\"9.00\" text-anchor=\"start\" x=\"196\" y=\"-57.3\">a</text>\n",
       "</g>\n",
       "<!-- 3 -->\n",
       "<g class=\"node\" id=\"node5\"><title>3</title>\n",
       "<path d=\"M314.333,-60C314.333,-60 304.667,-60 304.667,-60 301.833,-60 299,-57.1667 299,-54.3333 299,-54.3333 299,-48.6667 299,-48.6667 299,-45.8333 301.833,-43 304.667,-43 304.667,-43 314.333,-43 314.333,-43 317.167,-43 320,-45.8333 320,-48.6667 320,-48.6667 320,-54.3333 320,-54.3333 320,-57.1667 317.167,-60 314.333,-60\" fill=\"none\" stroke=\"black\"/>\n",
       "<text font-family=\"Courier,monospace\" font-size=\"10.00\" text-anchor=\"middle\" x=\"309.5\" y=\"-49\">2s</text>\n",
       "</g>\n",
       "<!-- 2&#45;&gt;3 -->\n",
       "<g class=\"edge\" id=\"edge4\"><title>2-&gt;3</title>\n",
       "<path d=\"M248.233,-51.5C260.04,-51.5 280.06,-51.5 293.761,-51.5\" fill=\"none\" stroke=\"black\"/>\n",
       "<polygon fill=\"black\" points=\"298.849,-51.5 293.85,-53.7501 296.349,-51.5 293.849,-51.5001 293.849,-51.5001 293.849,-51.5001 296.349,-51.5 293.849,-49.2501 298.849,-51.5 298.849,-51.5\" stroke=\"black\"/>\n",
       "<text font-family=\"Courier,monospace\" font-size=\"9.00\" text-anchor=\"start\" x=\"273.5\" y=\"-57.3\">ε</text>\n",
       "</g>\n",
       "<!-- 4 -->\n",
       "<g class=\"node\" id=\"node6\"><title>4</title>\n",
       "<path d=\"M387.333,-60C387.333,-60 377.667,-60 377.667,-60 374.833,-60 372,-57.1667 372,-54.3333 372,-54.3333 372,-48.6667 372,-48.6667 372,-45.8333 374.833,-43 377.667,-43 377.667,-43 387.333,-43 387.333,-43 390.167,-43 393,-45.8333 393,-48.6667 393,-48.6667 393,-54.3333 393,-54.3333 393,-57.1667 390.167,-60 387.333,-60\" fill=\"none\" stroke=\"black\"/>\n",
       "<path d=\"M388.667,-64C388.667,-64 376.333,-64 376.333,-64 372.167,-64 368,-59.8333 368,-55.6667 368,-55.6667 368,-47.3333 368,-47.3333 368,-43.1667 372.167,-39 376.333,-39 376.333,-39 388.667,-39 388.667,-39 392.833,-39 397,-43.1667 397,-47.3333 397,-47.3333 397,-55.6667 397,-55.6667 397,-59.8333 392.833,-64 388.667,-64\" fill=\"none\" stroke=\"black\"/>\n",
       "<text font-family=\"Courier,monospace\" font-size=\"10.00\" text-anchor=\"middle\" x=\"382.5\" y=\"-49\">2t</text>\n",
       "</g>\n",
       "<!-- 3&#45;&gt;4 -->\n",
       "<g class=\"edge\" id=\"edge2\"><title>3-&gt;4</title>\n",
       "<path d=\"M320.075,-51.5C330.969,-51.5 349.024,-51.5 362.747,-51.5\" fill=\"none\" stroke=\"black\"/>\n",
       "<polygon fill=\"black\" points=\"367.956,-51.5 362.956,-53.7501 365.456,-51.5 362.956,-51.5001 362.956,-51.5001 362.956,-51.5001 365.456,-51.5 362.956,-49.2501 367.956,-51.5 367.956,-51.5\" stroke=\"black\"/>\n",
       "<text font-family=\"Courier,monospace\" font-size=\"9.00\" text-anchor=\"start\" x=\"341\" y=\"-57.3\">b</text>\n",
       "</g>\n",
       "<!-- 6 -->\n",
       "<g class=\"node\" id=\"node8\"><title>6</title>\n",
       "<path d=\"M242.333,-21C242.333,-21 232.667,-21 232.667,-21 229.833,-21 227,-18.1667 227,-15.3333 227,-15.3333 227,-9.66667 227,-9.66667 227,-6.83333 229.833,-4 232.667,-4 232.667,-4 242.333,-4 242.333,-4 245.167,-4 248,-6.83333 248,-9.66667 248,-9.66667 248,-15.3333 248,-15.3333 248,-18.1667 245.167,-21 242.333,-21\" fill=\"none\" stroke=\"black\"/>\n",
       "<path d=\"M243.667,-25C243.667,-25 231.333,-25 231.333,-25 227.167,-25 223,-20.8333 223,-16.6667 223,-16.6667 223,-8.33333 223,-8.33333 223,-4.16667 227.167,-0 231.333,-0 231.333,-0 243.667,-0 243.667,-0 247.833,-0 252,-4.16667 252,-8.33333 252,-8.33333 252,-16.6667 252,-16.6667 252,-20.8333 247.833,-25 243.667,-25\" fill=\"none\" stroke=\"black\"/>\n",
       "<text font-family=\"Courier,monospace\" font-size=\"10.00\" text-anchor=\"middle\" x=\"237.5\" y=\"-10\">4t</text>\n",
       "</g>\n",
       "<!-- 5&#45;&gt;6 -->\n",
       "<g class=\"edge\" id=\"edge3\"><title>5-&gt;6</title>\n",
       "<path d=\"M175.075,-12.5C185.969,-12.5 204.024,-12.5 217.747,-12.5\" fill=\"none\" stroke=\"black\"/>\n",
       "<polygon fill=\"black\" points=\"222.956,-12.5 217.956,-14.7501 220.456,-12.5 217.956,-12.5001 217.956,-12.5001 217.956,-12.5001 220.456,-12.5 217.956,-10.2501 222.956,-12.5 222.956,-12.5\" stroke=\"black\"/>\n",
       "<text font-family=\"Courier,monospace\" font-size=\"9.00\" text-anchor=\"start\" x=\"196\" y=\"-18.3\">a</text>\n",
       "</g>\n",
       "<!-- 7 -->\n",
       "<g class=\"node\" id=\"node9\"><title>7</title>\n",
       "<path d=\"M33.3333,-25C33.3333,-25 5.66667,-25 5.66667,-25 2.83333,-25 0,-22.1667 0,-19.3333 0,-19.3333 0,-13.6667 0,-13.6667 0,-10.8333 2.83333,-8 5.66667,-8 5.66667,-8 33.3333,-8 33.3333,-8 36.1667,-8 39,-10.8333 39,-13.6667 39,-13.6667 39,-19.3333 39,-19.3333 39,-22.1667 36.1667,-25 33.3333,-25\" fill=\"none\" stroke=\"black\"/>\n",
       "<text font-family=\"Courier,monospace\" font-size=\"10.00\" text-anchor=\"middle\" x=\"19.5\" y=\"-14\">START</text>\n",
       "</g>\n",
       "<!-- 7&#45;&gt;0 -->\n",
       "<g class=\"edge\" id=\"edge8\"><title>7-&gt;0</title>\n",
       "<path d=\"M39.2538,-14.9798C48.0971,-14.7464 58.7199,-15.1702 68,-17.5 72.5564,-18.6439 77.2178,-20.6467 81.3778,-22.7859\" fill=\"none\" stroke=\"black\"/>\n",
       "<polygon fill=\"black\" points=\"85.9946,-25.3163 80.5285,-24.8861 83.8023,-24.1147 81.61,-22.9131 81.61,-22.9131 81.61,-22.9131 83.8023,-24.1147 82.6914,-20.94 85.9946,-25.3163 85.9946,-25.3163\" stroke=\"black\"/>\n",
       "<text font-family=\"Courier,monospace\" font-size=\"9.00\" text-anchor=\"start\" x=\"60.5\" y=\"-23.3\">ε</text>\n",
       "</g>\n",
       "</g>\n",
       "</svg>"
      ],
      "text/plain": [
       "<IPython.core.display.SVG object>"
      ]
     },
     "execution_count": 9,
     "metadata": {},
     "output_type": "execute_result"
    }
   ],
   "source": [
    "convert_regexp(\"ab|a\", start=1).display_graph()"
   ]
  },
  {
   "cell_type": "markdown",
   "metadata": {},
   "source": [
    "The union operation adds an extra state at the beginning, with the suffix `a` (for \"alternation\", another name for the union operator)."
   ]
  },
  {
   "cell_type": "code",
   "execution_count": 10,
   "metadata": {
    "collapsed": false
   },
   "outputs": [
    {
     "data": {
      "image/svg+xml": [
       "<svg height=\"164pt\" viewBox=\"0.00 0.00 481.00 163.50\" width=\"481pt\" xmlns=\"http://www.w3.org/2000/svg\" xmlns:xlink=\"http://www.w3.org/1999/xlink\">\n",
       "<g class=\"graph\" id=\"graph0\" transform=\"scale(1 1) rotate(0) translate(4 159.5)\">\n",
       "<title>%3</title>\n",
       "<polygon fill=\"white\" points=\"-4,4 -4,-159.5 477,-159.5 477,4 -4,4\" stroke=\"none\"/>\n",
       "<!-- START -->\n",
       "<g class=\"node\" id=\"node1\"><title>START</title>\n",
       "</g>\n",
       "<!-- 0 -->\n",
       "<g class=\"node\" id=\"node2\"><title>0</title>\n",
       "<path d=\"M105.333,-84C105.333,-84 95.6667,-84 95.6667,-84 92.8333,-84 90,-81.1667 90,-78.3333 90,-78.3333 90,-72.6667 90,-72.6667 90,-69.8333 92.8333,-67 95.6667,-67 95.6667,-67 105.333,-67 105.333,-67 108.167,-67 111,-69.8333 111,-72.6667 111,-72.6667 111,-78.3333 111,-78.3333 111,-81.1667 108.167,-84 105.333,-84\" fill=\"none\" stroke=\"black\"/>\n",
       "<path d=\"M106.667,-88C106.667,-88 94.3333,-88 94.3333,-88 90.1667,-88 86,-83.8333 86,-79.6667 86,-79.6667 86,-71.3333 86,-71.3333 86,-67.1667 90.1667,-63 94.3333,-63 94.3333,-63 106.667,-63 106.667,-63 110.833,-63 115,-67.1667 115,-71.3333 115,-71.3333 115,-79.6667 115,-79.6667 115,-83.8333 110.833,-88 106.667,-88\" fill=\"none\" stroke=\"black\"/>\n",
       "<text font-family=\"Courier,monospace\" font-size=\"10.00\" text-anchor=\"middle\" x=\"100.5\" y=\"-73\">0i</text>\n",
       "</g>\n",
       "<!-- START&#45;&gt;0 -->\n",
       "<g class=\"edge\" id=\"edge1\"><title>START-&gt;0</title>\n",
       "<path d=\"M20.5573,-91.4884C22.1818,-91.1594 58.0073,-83.9036 80.8322,-79.2808\" fill=\"none\" stroke=\"black\"/>\n",
       "<polygon fill=\"black\" points=\"85.7675,-78.2813 81.3136,-81.4791 83.3172,-78.7776 80.867,-79.2739 80.867,-79.2739 80.867,-79.2739 83.3172,-78.7776 80.4203,-77.0686 85.7675,-78.2813 85.7675,-78.2813\" stroke=\"black\"/>\n",
       "</g>\n",
       "<!-- 1 -->\n",
       "<g class=\"node\" id=\"node3\"><title>1</title>\n",
       "<path d=\"M177.333,-84C177.333,-84 167.667,-84 167.667,-84 164.833,-84 162,-81.1667 162,-78.3333 162,-78.3333 162,-72.6667 162,-72.6667 162,-69.8333 164.833,-67 167.667,-67 167.667,-67 177.333,-67 177.333,-67 180.167,-67 183,-69.8333 183,-72.6667 183,-72.6667 183,-78.3333 183,-78.3333 183,-81.1667 180.167,-84 177.333,-84\" fill=\"none\" stroke=\"black\"/>\n",
       "<text font-family=\"Courier,monospace\" font-size=\"10.00\" text-anchor=\"middle\" x=\"172.5\" y=\"-73\">1a</text>\n",
       "</g>\n",
       "<!-- 0&#45;&gt;1 -->\n",
       "<g class=\"edge\" id=\"edge6\"><title>0-&gt;1</title>\n",
       "<path d=\"M115.33,-75.5C127.216,-75.5 144.319,-75.5 156.526,-75.5\" fill=\"none\" stroke=\"black\"/>\n",
       "<polygon fill=\"black\" points=\"161.753,-75.5 156.753,-77.7501 159.253,-75.5 156.753,-75.5001 156.753,-75.5001 156.753,-75.5001 159.253,-75.5 156.753,-73.2501 161.753,-75.5 161.753,-75.5\" stroke=\"black\"/>\n",
       "<text font-family=\"Courier,monospace\" font-size=\"9.00\" text-anchor=\"start\" x=\"136.5\" y=\"-81.3\">ε</text>\n",
       "</g>\n",
       "<!-- 2 -->\n",
       "<g class=\"node\" id=\"node4\"><title>2</title>\n",
       "<path d=\"M245.333,-146C245.333,-146 235.667,-146 235.667,-146 232.833,-146 230,-143.167 230,-140.333 230,-140.333 230,-134.667 230,-134.667 230,-131.833 232.833,-129 235.667,-129 235.667,-129 245.333,-129 245.333,-129 248.167,-129 251,-131.833 251,-134.667 251,-134.667 251,-140.333 251,-140.333 251,-143.167 248.167,-146 245.333,-146\" fill=\"none\" stroke=\"black\"/>\n",
       "<text font-family=\"Courier,monospace\" font-size=\"10.00\" text-anchor=\"middle\" x=\"240.5\" y=\"-135\">1s</text>\n",
       "</g>\n",
       "<!-- 1&#45;&gt;2 -->\n",
       "<g class=\"edge\" id=\"edge5\"><title>1-&gt;2</title>\n",
       "<path d=\"M179.206,-84.1368C184.376,-91.5987 192.472,-102.423 201,-110.5 208.363,-117.473 217.645,-124.036 225.251,-128.945\" fill=\"none\" stroke=\"black\"/>\n",
       "<polygon fill=\"black\" points=\"229.737,-131.777 224.308,-131.011 227.623,-130.443 225.509,-129.108 225.509,-129.108 225.509,-129.108 227.623,-130.443 226.71,-127.206 229.737,-131.777 229.737,-131.777\" stroke=\"black\"/>\n",
       "<text font-family=\"Courier,monospace\" font-size=\"9.00\" text-anchor=\"start\" x=\"204.5\" y=\"-126.3\">ε</text>\n",
       "</g>\n",
       "<!-- 6 -->\n",
       "<g class=\"node\" id=\"node8\"><title>6</title>\n",
       "<path d=\"M245.333,-17C245.333,-17 235.667,-17 235.667,-17 232.833,-17 230,-14.1667 230,-11.3333 230,-11.3333 230,-5.66667 230,-5.66667 230,-2.83333 232.833,-0 235.667,-0 235.667,-0 245.333,-0 245.333,-0 248.167,-0 251,-2.83333 251,-5.66667 251,-5.66667 251,-11.3333 251,-11.3333 251,-14.1667 248.167,-17 245.333,-17\" fill=\"none\" stroke=\"black\"/>\n",
       "<text font-family=\"Courier,monospace\" font-size=\"10.00\" text-anchor=\"middle\" x=\"240.5\" y=\"-6\">4s</text>\n",
       "</g>\n",
       "<!-- 1&#45;&gt;6 -->\n",
       "<g class=\"edge\" id=\"edge11\"><title>1-&gt;6</title>\n",
       "<path d=\"M175.947,-66.9429C179.615,-55.5522 187.581,-35.4585 201,-23.5 207.701,-17.5282 217.049,-13.8107 224.856,-11.5704\" fill=\"none\" stroke=\"black\"/>\n",
       "<polygon fill=\"black\" points=\"229.962,-10.2458 225.687,-13.6791 227.542,-10.8735 225.123,-11.5012 225.123,-11.5012 225.123,-11.5012 227.542,-10.8735 224.558,-9.32323 229.962,-10.2458 229.962,-10.2458\" stroke=\"black\"/>\n",
       "<text font-family=\"Courier,monospace\" font-size=\"9.00\" text-anchor=\"start\" x=\"204.5\" y=\"-29.3\">ε</text>\n",
       "</g>\n",
       "<!-- 3 -->\n",
       "<g class=\"node\" id=\"node5\"><title>3</title>\n",
       "<path d=\"M318.333,-149C318.333,-149 308.667,-149 308.667,-149 305.833,-149 303,-146.167 303,-143.333 303,-143.333 303,-137.667 303,-137.667 303,-134.833 305.833,-132 308.667,-132 308.667,-132 318.333,-132 318.333,-132 321.167,-132 324,-134.833 324,-137.667 324,-137.667 324,-143.333 324,-143.333 324,-146.167 321.167,-149 318.333,-149\" fill=\"none\" stroke=\"black\"/>\n",
       "<text font-family=\"Courier,monospace\" font-size=\"10.00\" text-anchor=\"middle\" x=\"313.5\" y=\"-138\">1t</text>\n",
       "</g>\n",
       "<!-- 2&#45;&gt;3 -->\n",
       "<g class=\"edge\" id=\"edge9\"><title>2-&gt;3</title>\n",
       "<path d=\"M251.075,-137.905C262.971,-138.407 283.407,-139.271 297.417,-139.863\" fill=\"none\" stroke=\"black\"/>\n",
       "<polygon fill=\"black\" points=\"302.621,-140.083 297.53,-142.119 300.123,-139.977 297.625,-139.871 297.625,-139.871 297.625,-139.871 300.123,-139.977 297.72,-137.623 302.621,-140.083 302.621,-140.083\" stroke=\"black\"/>\n",
       "<text font-family=\"Courier,monospace\" font-size=\"9.00\" text-anchor=\"start\" x=\"272\" y=\"-145.3\">a</text>\n",
       "</g>\n",
       "<!-- 4 -->\n",
       "<g class=\"node\" id=\"node6\"><title>4</title>\n",
       "<path d=\"M390.333,-144C390.333,-144 380.667,-144 380.667,-144 377.833,-144 375,-141.167 375,-138.333 375,-138.333 375,-132.667 375,-132.667 375,-129.833 377.833,-127 380.667,-127 380.667,-127 390.333,-127 390.333,-127 393.167,-127 396,-129.833 396,-132.667 396,-132.667 396,-138.333 396,-138.333 396,-141.167 393.167,-144 390.333,-144\" fill=\"none\" stroke=\"black\"/>\n",
       "<text font-family=\"Courier,monospace\" font-size=\"10.00\" text-anchor=\"middle\" x=\"385.5\" y=\"-133\">2s</text>\n",
       "</g>\n",
       "<!-- 3&#45;&gt;4 -->\n",
       "<g class=\"edge\" id=\"edge4\"><title>3-&gt;4</title>\n",
       "<path d=\"M324.233,-139.805C336.04,-138.961 356.06,-137.531 369.761,-136.553\" fill=\"none\" stroke=\"black\"/>\n",
       "<polygon fill=\"black\" points=\"374.849,-136.189 370.023,-138.79 372.356,-136.367 369.862,-136.546 369.862,-136.546 369.862,-136.546 372.356,-136.367 369.702,-134.301 374.849,-136.189 374.849,-136.189\" stroke=\"black\"/>\n",
       "<text font-family=\"Courier,monospace\" font-size=\"9.00\" text-anchor=\"start\" x=\"349.5\" y=\"-144.3\">ε</text>\n",
       "</g>\n",
       "<!-- 5 -->\n",
       "<g class=\"node\" id=\"node7\"><title>5</title>\n",
       "<path d=\"M463.333,-123C463.333,-123 453.667,-123 453.667,-123 450.833,-123 448,-120.167 448,-117.333 448,-117.333 448,-111.667 448,-111.667 448,-108.833 450.833,-106 453.667,-106 453.667,-106 463.333,-106 463.333,-106 466.167,-106 469,-108.833 469,-111.667 469,-111.667 469,-117.333 469,-117.333 469,-120.167 466.167,-123 463.333,-123\" fill=\"none\" stroke=\"black\"/>\n",
       "<path d=\"M464.667,-127C464.667,-127 452.333,-127 452.333,-127 448.167,-127 444,-122.833 444,-118.667 444,-118.667 444,-110.333 444,-110.333 444,-106.167 448.167,-102 452.333,-102 452.333,-102 464.667,-102 464.667,-102 468.833,-102 473,-106.167 473,-110.333 473,-110.333 473,-118.667 473,-118.667 473,-122.833 468.833,-127 464.667,-127\" fill=\"none\" stroke=\"black\"/>\n",
       "<text font-family=\"Courier,monospace\" font-size=\"10.00\" text-anchor=\"middle\" x=\"458.5\" y=\"-112\">2t</text>\n",
       "</g>\n",
       "<!-- 4&#45;&gt;5 -->\n",
       "<g class=\"edge\" id=\"edge2\"><title>4-&gt;5</title>\n",
       "<path d=\"M396.075,-132.668C407.065,-129.417 425.344,-124.011 439.11,-119.939\" fill=\"none\" stroke=\"black\"/>\n",
       "<polygon fill=\"black\" points=\"443.956,-118.506 439.8,-122.082 441.559,-119.215 439.161,-119.924 439.161,-119.924 439.161,-119.924 441.559,-119.215 438.523,-117.767 443.956,-118.506 443.956,-118.506\" stroke=\"black\"/>\n",
       "<text font-family=\"Courier,monospace\" font-size=\"9.00\" text-anchor=\"start\" x=\"417\" y=\"-133.3\">b</text>\n",
       "</g>\n",
       "<!-- 5&#45;&gt;1 -->\n",
       "<g class=\"edge\" id=\"edge7\"><title>5-&gt;1</title>\n",
       "<path d=\"M443.855,-109.214C429.728,-104.224 406.906,-97.5 386.5,-97.5 239.5,-97.5 239.5,-97.5 239.5,-97.5 220.783,-97.5 200.541,-89.4382 187.479,-83.075\" fill=\"none\" stroke=\"black\"/>\n",
       "<polygon fill=\"black\" points=\"183.008,-80.8256 188.486,-81.0628 185.241,-81.9492 187.475,-83.0727 187.475,-83.0727 187.475,-83.0727 185.241,-81.9492 186.463,-85.0827 183.008,-80.8256 183.008,-80.8256\" stroke=\"black\"/>\n",
       "<text font-family=\"Courier,monospace\" font-size=\"9.00\" text-anchor=\"start\" x=\"311.5\" y=\"-103.3\">ε</text>\n",
       "</g>\n",
       "<!-- 7 -->\n",
       "<g class=\"node\" id=\"node9\"><title>7</title>\n",
       "<path d=\"M318.333,-41C318.333,-41 308.667,-41 308.667,-41 305.833,-41 303,-38.1667 303,-35.3333 303,-35.3333 303,-29.6667 303,-29.6667 303,-26.8333 305.833,-24 308.667,-24 308.667,-24 318.333,-24 318.333,-24 321.167,-24 324,-26.8333 324,-29.6667 324,-29.6667 324,-35.3333 324,-35.3333 324,-38.1667 321.167,-41 318.333,-41\" fill=\"none\" stroke=\"black\"/>\n",
       "<path d=\"M319.667,-45C319.667,-45 307.333,-45 307.333,-45 303.167,-45 299,-40.8333 299,-36.6667 299,-36.6667 299,-28.3333 299,-28.3333 299,-24.1667 303.167,-20 307.333,-20 307.333,-20 319.667,-20 319.667,-20 323.833,-20 328,-24.1667 328,-28.3333 328,-28.3333 328,-36.6667 328,-36.6667 328,-40.8333 323.833,-45 319.667,-45\" fill=\"none\" stroke=\"black\"/>\n",
       "<text font-family=\"Courier,monospace\" font-size=\"10.00\" text-anchor=\"middle\" x=\"313.5\" y=\"-30\">4t</text>\n",
       "</g>\n",
       "<!-- 6&#45;&gt;7 -->\n",
       "<g class=\"edge\" id=\"edge3\"><title>6-&gt;7</title>\n",
       "<path d=\"M251.075,-11.7367C262.065,-15.4517 280.344,-21.6303 294.11,-26.2837\" fill=\"none\" stroke=\"black\"/>\n",
       "<polygon fill=\"black\" points=\"298.956,-27.9218 293.499,-28.4521 296.588,-27.1212 294.219,-26.3206 294.219,-26.3206 294.219,-26.3206 296.588,-27.1212 294.94,-24.189 298.956,-27.9218 298.956,-27.9218\" stroke=\"black\"/>\n",
       "<text font-family=\"Courier,monospace\" font-size=\"9.00\" text-anchor=\"start\" x=\"272\" y=\"-27.3\">a</text>\n",
       "</g>\n",
       "<!-- 7&#45;&gt;1 -->\n",
       "<g class=\"edge\" id=\"edge8\"><title>7-&gt;1</title>\n",
       "<path d=\"M298.893,-36.7093C272.601,-44.8428 215.035,-62.6511 188.029,-71.0053\" fill=\"none\" stroke=\"black\"/>\n",
       "<polygon fill=\"black\" points=\"183.054,-72.5444 187.166,-68.9172 185.442,-71.8056 187.831,-71.0667 187.831,-71.0667 187.831,-71.0667 185.442,-71.8056 188.496,-73.2162 183.054,-72.5444 183.054,-72.5444\" stroke=\"black\"/>\n",
       "<text font-family=\"Courier,monospace\" font-size=\"9.00\" text-anchor=\"start\" x=\"238.5\" y=\"-64.3\">ε</text>\n",
       "</g>\n",
       "<!-- 8 -->\n",
       "<g class=\"node\" id=\"node10\"><title>8</title>\n",
       "<path d=\"M33.3333,-69C33.3333,-69 5.66667,-69 5.66667,-69 2.83333,-69 0,-66.1667 0,-63.3333 0,-63.3333 0,-57.6667 0,-57.6667 0,-54.8333 2.83333,-52 5.66667,-52 5.66667,-52 33.3333,-52 33.3333,-52 36.1667,-52 39,-54.8333 39,-57.6667 39,-57.6667 39,-63.3333 39,-63.3333 39,-66.1667 36.1667,-69 33.3333,-69\" fill=\"none\" stroke=\"black\"/>\n",
       "<text font-family=\"Courier,monospace\" font-size=\"10.00\" text-anchor=\"middle\" x=\"19.5\" y=\"-58\">START</text>\n",
       "</g>\n",
       "<!-- 8&#45;&gt;0 -->\n",
       "<g class=\"edge\" id=\"edge10\"><title>8-&gt;0</title>\n",
       "<path d=\"M39.2016,-59.1997C48.0335,-59.0146 58.6618,-59.4153 68,-61.5 72.366,-62.4747 76.868,-64.0738 81.0543,-65.8495\" fill=\"none\" stroke=\"black\"/>\n",
       "<polygon fill=\"black\" points=\"85.7966,-67.9885 80.3137,-67.9837 83.5177,-66.9606 81.2388,-65.9327 81.2388,-65.9327 81.2388,-65.9327 83.5177,-66.9606 82.1639,-63.8817 85.7966,-67.9885 85.7966,-67.9885\" stroke=\"black\"/>\n",
       "<text font-family=\"Courier,monospace\" font-size=\"9.00\" text-anchor=\"start\" x=\"60.5\" y=\"-67.3\">ε</text>\n",
       "</g>\n",
       "</g>\n",
       "</svg>"
      ],
      "text/plain": [
       "<IPython.core.display.SVG object>"
      ]
     },
     "execution_count": 10,
     "metadata": {},
     "output_type": "execute_result"
    }
   ],
   "source": [
    "convert_regexp(\"(ab|a)*\").display_graph()"
   ]
  },
  {
   "cell_type": "markdown",
   "metadata": {},
   "source": [
    "The Kleene star operation adds another extra state at the beginning, which has the suffix `i` (for \"iteration\", another name for the Kleene star)."
   ]
  },
  {
   "cell_type": "code",
   "execution_count": 11,
   "metadata": {
    "collapsed": false
   },
   "outputs": [
    {
     "data": {
      "image/svg+xml": [
       "<svg height=\"48pt\" viewBox=\"0.00 0.00 117.00 48.00\" width=\"117pt\" xmlns=\"http://www.w3.org/2000/svg\" xmlns:xlink=\"http://www.w3.org/1999/xlink\">\n",
       "<g class=\"graph\" id=\"graph0\" transform=\"scale(1 1) rotate(0) translate(4 44)\">\n",
       "<title>%3</title>\n",
       "<polygon fill=\"white\" points=\"-4,4 -4,-44 113,-44 113,4 -4,4\" stroke=\"none\"/>\n",
       "<!-- START -->\n",
       "<g class=\"node\" id=\"node1\"><title>START</title>\n",
       "</g>\n",
       "<!-- 0 -->\n",
       "<g class=\"node\" id=\"node2\"><title>0</title>\n",
       "<path d=\"M100,-32C100,-32 95,-32 95,-32 92.5,-32 90,-29.5 90,-27 90,-27 90,-20 90,-20 90,-17.5 92.5,-15 95,-15 95,-15 100,-15 100,-15 102.5,-15 105,-17.5 105,-20 105,-20 105,-27 105,-27 105,-29.5 102.5,-32 100,-32\" fill=\"none\" stroke=\"black\"/>\n",
       "<path d=\"M101.333,-36C101.333,-36 93.6667,-36 93.6667,-36 89.8333,-36 86,-32.1667 86,-28.3333 86,-28.3333 86,-18.6667 86,-18.6667 86,-14.8333 89.8333,-11 93.6667,-11 93.6667,-11 101.333,-11 101.333,-11 105.167,-11 109,-14.8333 109,-18.6667 109,-18.6667 109,-28.3333 109,-28.3333 109,-32.1667 105.167,-36 101.333,-36\" fill=\"none\" stroke=\"black\"/>\n",
       "<text font-family=\"Courier,monospace\" font-size=\"10.00\" text-anchor=\"middle\" x=\"97.5\" y=\"-21\">0</text>\n",
       "</g>\n",
       "<!-- START&#45;&gt;0 -->\n",
       "<g class=\"edge\" id=\"edge1\"><title>START-&gt;0</title>\n",
       "<path d=\"M20.5551,-39.4884C22.178,-39.1467 59.2783,-31.3361 81.0127,-26.7605\" fill=\"none\" stroke=\"black\"/>\n",
       "<polygon fill=\"black\" points=\"85.9175,-25.7279 81.4883,-28.9598 83.4712,-26.243 81.0248,-26.758 81.0248,-26.758 81.0248,-26.758 83.4712,-26.243 80.5612,-24.5563 85.9175,-25.7279 85.9175,-25.7279\" stroke=\"black\"/>\n",
       "</g>\n",
       "<!-- 1 -->\n",
       "<g class=\"node\" id=\"node3\"><title>1</title>\n",
       "<path d=\"M33.3333,-17C33.3333,-17 5.66667,-17 5.66667,-17 2.83333,-17 0,-14.1667 0,-11.3333 0,-11.3333 0,-5.66667 0,-5.66667 0,-2.83333 2.83333,-0 5.66667,-0 5.66667,-0 33.3333,-0 33.3333,-0 36.1667,-0 39,-2.83333 39,-5.66667 39,-5.66667 39,-11.3333 39,-11.3333 39,-14.1667 36.1667,-17 33.3333,-17\" fill=\"none\" stroke=\"black\"/>\n",
       "<text font-family=\"Courier,monospace\" font-size=\"10.00\" text-anchor=\"middle\" x=\"19.5\" y=\"-6\">START</text>\n",
       "</g>\n",
       "<!-- 1&#45;&gt;0 -->\n",
       "<g class=\"edge\" id=\"edge2\"><title>1-&gt;0</title>\n",
       "<path d=\"M39.2391,-7.03929C48.0791,-6.81902 58.7035,-7.23654 68,-9.5 72.4657,-10.5873 77.0456,-12.4513 81.1916,-14.4708\" fill=\"none\" stroke=\"black\"/>\n",
       "<polygon fill=\"black\" points=\"85.8265,-16.8758 80.3521,-16.5701 83.6075,-15.7243 81.3884,-14.5729 81.3884,-14.5729 81.3884,-14.5729 83.6075,-15.7243 82.4247,-12.5757 85.8265,-16.8758 85.8265,-16.8758\" stroke=\"black\"/>\n",
       "<text font-family=\"Courier,monospace\" font-size=\"9.00\" text-anchor=\"start\" x=\"60.5\" y=\"-15.3\">ε</text>\n",
       "</g>\n",
       "</g>\n",
       "</svg>"
      ],
      "text/plain": [
       "<IPython.core.display.SVG object>"
      ]
     },
     "execution_count": 11,
     "metadata": {},
     "output_type": "execute_result"
    }
   ],
   "source": [
    "convert_regexp(\"&\").display_graph()"
   ]
  },
  {
   "cell_type": "code",
   "execution_count": null,
   "metadata": {
    "collapsed": true
   },
   "outputs": [],
   "source": []
  }
 ],
 "metadata": {
  "kernelspec": {
   "display_name": "Python 2",
   "language": "python",
   "name": "python2"
  },
  "language_info": {
   "codemirror_mode": {
    "name": "ipython",
    "version": 2
   },
   "file_extension": ".py",
   "mimetype": "text/x-python",
   "name": "python",
   "nbconvert_exporter": "python",
   "pygments_lexer": "ipython2",
   "version": "2.7.10"
  }
 },
 "nbformat": 4,
 "nbformat_minor": 0
}
