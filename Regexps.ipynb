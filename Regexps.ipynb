{
 "cells": [
  {
   "cell_type": "code",
   "execution_count": 1,
   "metadata": {
    "collapsed": true
   },
   "outputs": [],
   "source": [
    "from tock import *"
   ]
  },
  {
   "cell_type": "markdown",
   "metadata": {},
   "source": [
    "# Regular expressions"
   ]
  },
  {
   "cell_type": "markdown",
   "metadata": {},
   "source": [
    "Regular expressions were invented by Stephen Kleene (pronounced clay-knee) in the 1950s. They came into practical use in the early days of Unix (`ed`, `grep`, and friends) and really took off through the programming language Perl.\n",
    "\n",
    "Regular expressions have three operations: concatenation, union (∪ in the book, `|` in Unix), and Kleene star (`*`). The order of operations is star, then union, then concatenation. Use parentheses to change the order of operations, just as in arithmetic expressions.\n",
    "\n",
    "Modern regular expression libraries have a lot of extensions. Some don't increase the number of languages recognized (`+`, `?`) and some do. We don't consider any of them here. On the other hand, for some reason, basic regular expressions in Unix don't have the union (`|`) operator; only so-called extended regular expressions have it.\n",
    "\n",
    "Regular expressions in Tock use the same three operators and parentheses as Unix regular expressions; however, because a symbol can have more than one character, consecutive symbols must be separated by a space. Also, for the empty string, you must write `&`.\n",
    "\n",
    "To create a regular expression in Tock (this one is from Example 1.56):"
   ]
  },
  {
   "cell_type": "code",
   "execution_count": 2,
   "metadata": {
    "collapsed": false
   },
   "outputs": [],
   "source": [
    "m = convert_regexp('(a b|a)*')"
   ]
  },
  {
   "cell_type": "markdown",
   "metadata": {},
   "source": [
    "As the function name suggests, the regular expression is converted into a finite automaton, which you can view, as usual, as either a graph or a table."
   ]
  },
  {
   "cell_type": "code",
   "execution_count": 3,
   "metadata": {
    "collapsed": false
   },
   "outputs": [
    {
     "data": {
      "image/svg+xml": [
       "<svg height=\"163pt\" viewBox=\"0.00 0.00 433.00 162.50\" width=\"433pt\" xmlns=\"http://www.w3.org/2000/svg\" xmlns:xlink=\"http://www.w3.org/1999/xlink\">\n",
       "<g class=\"graph\" id=\"graph0\" transform=\"scale(1 1) rotate(0) translate(4 158.5)\">\n",
       "<title>%3</title>\n",
       "<polygon fill=\"white\" points=\"-4,4 -4,-158.5 429,-158.5 429,4 -4,4\" stroke=\"none\"/>\n",
       "<!-- START -->\n",
       "<g class=\"node\" id=\"node1\"><title>START</title>\n",
       "</g>\n",
       "<!-- 0 -->\n",
       "<g class=\"node\" id=\"node2\"><title>0</title>\n",
       "<path d=\"M57.3333,-84C57.3333,-84 47.6667,-84 47.6667,-84 44.8333,-84 42,-81.1667 42,-78.3333 42,-78.3333 42,-72.6667 42,-72.6667 42,-69.8333 44.8333,-67 47.6667,-67 47.6667,-67 57.3333,-67 57.3333,-67 60.1667,-67 63,-69.8333 63,-72.6667 63,-72.6667 63,-78.3333 63,-78.3333 63,-81.1667 60.1667,-84 57.3333,-84\" fill=\"none\" stroke=\"black\"/>\n",
       "<path d=\"M58.6667,-88C58.6667,-88 46.3333,-88 46.3333,-88 42.1667,-88 38,-83.8333 38,-79.6667 38,-79.6667 38,-71.3333 38,-71.3333 38,-67.1667 42.1667,-63 46.3333,-63 46.3333,-63 58.6667,-63 58.6667,-63 62.8333,-63 67,-67.1667 67,-71.3333 67,-71.3333 67,-79.6667 67,-79.6667 67,-83.8333 62.8333,-88 58.6667,-88\" fill=\"none\" stroke=\"black\"/>\n",
       "<text font-family=\"Courier,monospace\" font-size=\"10.00\" text-anchor=\"middle\" x=\"52.5\" y=\"-73\">0i</text>\n",
       "</g>\n",
       "<!-- START&#45;&gt;0 -->\n",
       "<g class=\"edge\" id=\"edge1\"><title>START-&gt;0</title>\n",
       "<path d=\"M1.14487,-75.5C2.8405,-75.5 19.0961,-75.5 32.6863,-75.5\" fill=\"none\" stroke=\"black\"/>\n",
       "<polygon fill=\"black\" points=\"37.9171,-75.5 32.9172,-77.7501 35.4171,-75.5 32.9171,-75.5001 32.9171,-75.5001 32.9171,-75.5001 35.4171,-75.5 32.9171,-73.2501 37.9171,-75.5 37.9171,-75.5\" stroke=\"black\"/>\n",
       "</g>\n",
       "<!-- 1 -->\n",
       "<g class=\"node\" id=\"node3\"><title>1</title>\n",
       "<path d=\"M129.333,-84C129.333,-84 119.667,-84 119.667,-84 116.833,-84 114,-81.1667 114,-78.3333 114,-78.3333 114,-72.6667 114,-72.6667 114,-69.8333 116.833,-67 119.667,-67 119.667,-67 129.333,-67 129.333,-67 132.167,-67 135,-69.8333 135,-72.6667 135,-72.6667 135,-78.3333 135,-78.3333 135,-81.1667 132.167,-84 129.333,-84\" fill=\"none\" stroke=\"black\"/>\n",
       "<text font-family=\"Courier,monospace\" font-size=\"10.00\" text-anchor=\"middle\" x=\"124.5\" y=\"-73\">1a</text>\n",
       "</g>\n",
       "<!-- 0&#45;&gt;1 -->\n",
       "<g class=\"edge\" id=\"edge6\"><title>0-&gt;1</title>\n",
       "<path d=\"M67.3297,-75.5C79.2157,-75.5 96.3194,-75.5 108.526,-75.5\" fill=\"none\" stroke=\"black\"/>\n",
       "<polygon fill=\"black\" points=\"113.753,-75.5 108.753,-77.7501 111.253,-75.5 108.753,-75.5001 108.753,-75.5001 108.753,-75.5001 111.253,-75.5 108.753,-73.2501 113.753,-75.5 113.753,-75.5\" stroke=\"black\"/>\n",
       "<text font-family=\"Courier,monospace\" font-size=\"9.00\" text-anchor=\"start\" x=\"88.5\" y=\"-81.3\">ε</text>\n",
       "</g>\n",
       "<!-- 2 -->\n",
       "<g class=\"node\" id=\"node4\"><title>2</title>\n",
       "<path d=\"M197.333,-146C197.333,-146 187.667,-146 187.667,-146 184.833,-146 182,-143.167 182,-140.333 182,-140.333 182,-134.667 182,-134.667 182,-131.833 184.833,-129 187.667,-129 187.667,-129 197.333,-129 197.333,-129 200.167,-129 203,-131.833 203,-134.667 203,-134.667 203,-140.333 203,-140.333 203,-143.167 200.167,-146 197.333,-146\" fill=\"none\" stroke=\"black\"/>\n",
       "<text font-family=\"Courier,monospace\" font-size=\"10.00\" text-anchor=\"middle\" x=\"192.5\" y=\"-135\">1s</text>\n",
       "</g>\n",
       "<!-- 1&#45;&gt;2 -->\n",
       "<g class=\"edge\" id=\"edge5\"><title>1-&gt;2</title>\n",
       "<path d=\"M131.206,-84.1368C136.376,-91.5987 144.472,-102.423 153,-110.5 160.363,-117.473 169.645,-124.036 177.251,-128.945\" fill=\"none\" stroke=\"black\"/>\n",
       "<polygon fill=\"black\" points=\"181.737,-131.777 176.308,-131.011 179.623,-130.443 177.509,-129.108 177.509,-129.108 177.509,-129.108 179.623,-130.443 178.71,-127.206 181.737,-131.777 181.737,-131.777\" stroke=\"black\"/>\n",
       "<text font-family=\"Courier,monospace\" font-size=\"9.00\" text-anchor=\"start\" x=\"156.5\" y=\"-125.3\">ε</text>\n",
       "</g>\n",
       "<!-- 6 -->\n",
       "<g class=\"node\" id=\"node8\"><title>6</title>\n",
       "<path d=\"M197.333,-17C197.333,-17 187.667,-17 187.667,-17 184.833,-17 182,-14.1667 182,-11.3333 182,-11.3333 182,-5.66667 182,-5.66667 182,-2.83333 184.833,-0 187.667,-0 187.667,-0 197.333,-0 197.333,-0 200.167,-0 203,-2.83333 203,-5.66667 203,-5.66667 203,-11.3333 203,-11.3333 203,-14.1667 200.167,-17 197.333,-17\" fill=\"none\" stroke=\"black\"/>\n",
       "<text font-family=\"Courier,monospace\" font-size=\"10.00\" text-anchor=\"middle\" x=\"192.5\" y=\"-6\">4s</text>\n",
       "</g>\n",
       "<!-- 1&#45;&gt;6 -->\n",
       "<g class=\"edge\" id=\"edge10\"><title>1-&gt;6</title>\n",
       "<path d=\"M127.947,-66.9429C131.615,-55.5522 139.581,-35.4585 153,-23.5 159.701,-17.5282 169.049,-13.8107 176.856,-11.5704\" fill=\"none\" stroke=\"black\"/>\n",
       "<polygon fill=\"black\" points=\"181.962,-10.2458 177.687,-13.6791 179.542,-10.8735 177.123,-11.5012 177.123,-11.5012 177.123,-11.5012 179.542,-10.8735 176.558,-9.32323 181.962,-10.2458 181.962,-10.2458\" stroke=\"black\"/>\n",
       "<text font-family=\"Courier,monospace\" font-size=\"9.00\" text-anchor=\"start\" x=\"156.5\" y=\"-29.3\">ε</text>\n",
       "</g>\n",
       "<!-- 3 -->\n",
       "<g class=\"node\" id=\"node5\"><title>3</title>\n",
       "<path d=\"M270.333,-149C270.333,-149 260.667,-149 260.667,-149 257.833,-149 255,-146.167 255,-143.333 255,-143.333 255,-137.667 255,-137.667 255,-134.833 257.833,-132 260.667,-132 260.667,-132 270.333,-132 270.333,-132 273.167,-132 276,-134.833 276,-137.667 276,-137.667 276,-143.333 276,-143.333 276,-146.167 273.167,-149 270.333,-149\" fill=\"none\" stroke=\"black\"/>\n",
       "<text font-family=\"Courier,monospace\" font-size=\"10.00\" text-anchor=\"middle\" x=\"265.5\" y=\"-138\">1t</text>\n",
       "</g>\n",
       "<!-- 2&#45;&gt;3 -->\n",
       "<g class=\"edge\" id=\"edge9\"><title>2-&gt;3</title>\n",
       "<path d=\"M203.075,-137.905C214.971,-138.407 235.407,-139.271 249.417,-139.863\" fill=\"none\" stroke=\"black\"/>\n",
       "<polygon fill=\"black\" points=\"254.621,-140.083 249.53,-142.119 252.123,-139.977 249.625,-139.871 249.625,-139.871 249.625,-139.871 252.123,-139.977 249.72,-137.623 254.621,-140.083 254.621,-140.083\" stroke=\"black\"/>\n",
       "<text font-family=\"Courier,monospace\" font-size=\"9.00\" text-anchor=\"start\" x=\"224\" y=\"-144.3\">a</text>\n",
       "</g>\n",
       "<!-- 4 -->\n",
       "<g class=\"node\" id=\"node6\"><title>4</title>\n",
       "<path d=\"M342.333,-144C342.333,-144 332.667,-144 332.667,-144 329.833,-144 327,-141.167 327,-138.333 327,-138.333 327,-132.667 327,-132.667 327,-129.833 329.833,-127 332.667,-127 332.667,-127 342.333,-127 342.333,-127 345.167,-127 348,-129.833 348,-132.667 348,-132.667 348,-138.333 348,-138.333 348,-141.167 345.167,-144 342.333,-144\" fill=\"none\" stroke=\"black\"/>\n",
       "<text font-family=\"Courier,monospace\" font-size=\"10.00\" text-anchor=\"middle\" x=\"337.5\" y=\"-133\">2s</text>\n",
       "</g>\n",
       "<!-- 3&#45;&gt;4 -->\n",
       "<g class=\"edge\" id=\"edge4\"><title>3-&gt;4</title>\n",
       "<path d=\"M276.233,-139.805C288.04,-138.961 308.06,-137.531 321.761,-136.553\" fill=\"none\" stroke=\"black\"/>\n",
       "<polygon fill=\"black\" points=\"326.849,-136.189 322.023,-138.79 324.356,-136.367 321.862,-136.546 321.862,-136.546 321.862,-136.546 324.356,-136.367 321.702,-134.301 326.849,-136.189 326.849,-136.189\" stroke=\"black\"/>\n",
       "<text font-family=\"Courier,monospace\" font-size=\"9.00\" text-anchor=\"start\" x=\"301.5\" y=\"-143.3\">ε</text>\n",
       "</g>\n",
       "<!-- 5 -->\n",
       "<g class=\"node\" id=\"node7\"><title>5</title>\n",
       "<path d=\"M415.333,-123C415.333,-123 405.667,-123 405.667,-123 402.833,-123 400,-120.167 400,-117.333 400,-117.333 400,-111.667 400,-111.667 400,-108.833 402.833,-106 405.667,-106 405.667,-106 415.333,-106 415.333,-106 418.167,-106 421,-108.833 421,-111.667 421,-111.667 421,-117.333 421,-117.333 421,-120.167 418.167,-123 415.333,-123\" fill=\"none\" stroke=\"black\"/>\n",
       "<path d=\"M416.667,-127C416.667,-127 404.333,-127 404.333,-127 400.167,-127 396,-122.833 396,-118.667 396,-118.667 396,-110.333 396,-110.333 396,-106.167 400.167,-102 404.333,-102 404.333,-102 416.667,-102 416.667,-102 420.833,-102 425,-106.167 425,-110.333 425,-110.333 425,-118.667 425,-118.667 425,-122.833 420.833,-127 416.667,-127\" fill=\"none\" stroke=\"black\"/>\n",
       "<text font-family=\"Courier,monospace\" font-size=\"10.00\" text-anchor=\"middle\" x=\"410.5\" y=\"-112\">2t</text>\n",
       "</g>\n",
       "<!-- 4&#45;&gt;5 -->\n",
       "<g class=\"edge\" id=\"edge2\"><title>4-&gt;5</title>\n",
       "<path d=\"M348.075,-132.668C359.065,-129.417 377.344,-124.011 391.11,-119.939\" fill=\"none\" stroke=\"black\"/>\n",
       "<polygon fill=\"black\" points=\"395.956,-118.506 391.8,-122.082 393.559,-119.215 391.161,-119.924 391.161,-119.924 391.161,-119.924 393.559,-119.215 390.523,-117.767 395.956,-118.506 395.956,-118.506\" stroke=\"black\"/>\n",
       "<text font-family=\"Courier,monospace\" font-size=\"9.00\" text-anchor=\"start\" x=\"369\" y=\"-132.3\">b</text>\n",
       "</g>\n",
       "<!-- 5&#45;&gt;1 -->\n",
       "<g class=\"edge\" id=\"edge7\"><title>5-&gt;1</title>\n",
       "<path d=\"M395.855,-109.214C381.728,-104.224 358.906,-97.5 338.5,-97.5 191.5,-97.5 191.5,-97.5 191.5,-97.5 172.783,-97.5 152.541,-89.4382 139.479,-83.075\" fill=\"none\" stroke=\"black\"/>\n",
       "<polygon fill=\"black\" points=\"135.008,-80.8256 140.486,-81.0628 137.241,-81.9492 139.475,-83.0727 139.475,-83.0727 139.475,-83.0727 137.241,-81.9492 138.463,-85.0827 135.008,-80.8256 135.008,-80.8256\" stroke=\"black\"/>\n",
       "<text font-family=\"Courier,monospace\" font-size=\"9.00\" text-anchor=\"start\" x=\"263.5\" y=\"-103.3\">ε</text>\n",
       "</g>\n",
       "<!-- 7 -->\n",
       "<g class=\"node\" id=\"node9\"><title>7</title>\n",
       "<path d=\"M270.333,-41C270.333,-41 260.667,-41 260.667,-41 257.833,-41 255,-38.1667 255,-35.3333 255,-35.3333 255,-29.6667 255,-29.6667 255,-26.8333 257.833,-24 260.667,-24 260.667,-24 270.333,-24 270.333,-24 273.167,-24 276,-26.8333 276,-29.6667 276,-29.6667 276,-35.3333 276,-35.3333 276,-38.1667 273.167,-41 270.333,-41\" fill=\"none\" stroke=\"black\"/>\n",
       "<path d=\"M271.667,-45C271.667,-45 259.333,-45 259.333,-45 255.167,-45 251,-40.8333 251,-36.6667 251,-36.6667 251,-28.3333 251,-28.3333 251,-24.1667 255.167,-20 259.333,-20 259.333,-20 271.667,-20 271.667,-20 275.833,-20 280,-24.1667 280,-28.3333 280,-28.3333 280,-36.6667 280,-36.6667 280,-40.8333 275.833,-45 271.667,-45\" fill=\"none\" stroke=\"black\"/>\n",
       "<text font-family=\"Courier,monospace\" font-size=\"10.00\" text-anchor=\"middle\" x=\"265.5\" y=\"-30\">4t</text>\n",
       "</g>\n",
       "<!-- 6&#45;&gt;7 -->\n",
       "<g class=\"edge\" id=\"edge3\"><title>6-&gt;7</title>\n",
       "<path d=\"M203.075,-11.7367C214.065,-15.4517 232.344,-21.6303 246.11,-26.2837\" fill=\"none\" stroke=\"black\"/>\n",
       "<polygon fill=\"black\" points=\"250.956,-27.9218 245.499,-28.4521 248.588,-27.1212 246.219,-26.3206 246.219,-26.3206 246.219,-26.3206 248.588,-27.1212 246.94,-24.189 250.956,-27.9218 250.956,-27.9218\" stroke=\"black\"/>\n",
       "<text font-family=\"Courier,monospace\" font-size=\"9.00\" text-anchor=\"start\" x=\"224\" y=\"-27.3\">a</text>\n",
       "</g>\n",
       "<!-- 7&#45;&gt;1 -->\n",
       "<g class=\"edge\" id=\"edge8\"><title>7-&gt;1</title>\n",
       "<path d=\"M250.893,-36.7093C224.601,-44.8428 167.035,-62.6511 140.029,-71.0053\" fill=\"none\" stroke=\"black\"/>\n",
       "<polygon fill=\"black\" points=\"135.054,-72.5444 139.166,-68.9172 137.442,-71.8056 139.831,-71.0667 139.831,-71.0667 139.831,-71.0667 137.442,-71.8056 140.496,-73.2162 135.054,-72.5444 135.054,-72.5444\" stroke=\"black\"/>\n",
       "<text font-family=\"Courier,monospace\" font-size=\"9.00\" text-anchor=\"start\" x=\"190.5\" y=\"-64.3\">ε</text>\n",
       "</g>\n",
       "</g>\n",
       "</svg>"
      ],
      "text/plain": [
       "<IPython.core.display.SVG object>"
      ]
     },
     "execution_count": 3,
     "metadata": {},
     "output_type": "execute_result"
    }
   ],
   "source": [
    "display_graph(m)"
   ]
  },
  {
   "cell_type": "code",
   "execution_count": 4,
   "metadata": {
    "collapsed": false,
    "scrolled": true
   },
   "outputs": [
    {
     "data": {
      "text/html": [
       "<table style=\"font-family: Courier, monospace;\">\n",
       "  <tr><td></td><th>&epsilon;</th><th>a</th><th>b</th></tr>\n",
       "  <tr><th>@&gt;0i</th><td>1a</td><td></td><td></td></tr>\n",
       "  <tr><th>1a</th><td>{1s,4s}</td><td></td><td></td></tr>\n",
       "  <tr><th>1s</th><td></td><td>1t</td><td></td></tr>\n",
       "  <tr><th>1t</th><td>2s</td><td></td><td></td></tr>\n",
       "  <tr><th>2s</th><td></td><td></td><td>2t</td></tr>\n",
       "  <tr><th>@2t</th><td>1a</td><td></td><td></td></tr>\n",
       "  <tr><th>4s</th><td></td><td>4t</td><td></td></tr>\n",
       "  <tr><th>@4t</th><td>1a</td><td></td><td></td></tr>\n",
       "</table>\n"
      ],
      "text/plain": [
       "<IPython.core.display.HTML object>"
      ]
     },
     "execution_count": 4,
     "metadata": {},
     "output_type": "execute_result"
    }
   ],
   "source": [
    "display_table(m)"
   ]
  },
  {
   "cell_type": "markdown",
   "metadata": {},
   "source": [
    "The states are numbered according to the position in the regular expression they came from (so that listing them in alphabetical order is natural). The letter suffixes are explained below.\n",
    "\n",
    "We can break the construction of the automaton down step by step. The `offset` option just says what number to begin numbering the states at, for clarity."
   ]
  },
  {
   "cell_type": "code",
   "execution_count": 5,
   "metadata": {
    "collapsed": false
   },
   "outputs": [
    {
     "data": {
      "image/svg+xml": [
       "<svg height=\"37pt\" viewBox=\"0.00 0.00 144.00 36.50\" width=\"144pt\" xmlns=\"http://www.w3.org/2000/svg\" xmlns:xlink=\"http://www.w3.org/1999/xlink\">\n",
       "<g class=\"graph\" id=\"graph0\" transform=\"scale(1 1) rotate(0) translate(4 32.5)\">\n",
       "<title>%3</title>\n",
       "<polygon fill=\"white\" points=\"-4,4 -4,-32.5 140,-32.5 140,4 -4,4\" stroke=\"none\"/>\n",
       "<!-- START -->\n",
       "<g class=\"node\" id=\"node1\"><title>START</title>\n",
       "</g>\n",
       "<!-- 0 -->\n",
       "<g class=\"node\" id=\"node2\"><title>0</title>\n",
       "<path d=\"M53.3333,-21C53.3333,-21 43.6667,-21 43.6667,-21 40.8333,-21 38,-18.1667 38,-15.3333 38,-15.3333 38,-9.66667 38,-9.66667 38,-6.83333 40.8333,-4 43.6667,-4 43.6667,-4 53.3333,-4 53.3333,-4 56.1667,-4 59,-6.83333 59,-9.66667 59,-9.66667 59,-15.3333 59,-15.3333 59,-18.1667 56.1667,-21 53.3333,-21\" fill=\"none\" stroke=\"black\"/>\n",
       "<text font-family=\"Courier,monospace\" font-size=\"10.00\" text-anchor=\"middle\" x=\"48.5\" y=\"-10\">1s</text>\n",
       "</g>\n",
       "<!-- START&#45;&gt;0 -->\n",
       "<g class=\"edge\" id=\"edge1\"><title>START-&gt;0</title>\n",
       "<path d=\"M1.13339,-12.5C2.79277,-12.5 19.5956,-12.5 32.5011,-12.5\" fill=\"none\" stroke=\"black\"/>\n",
       "<polygon fill=\"black\" points=\"37.7379,-12.5 32.738,-14.7501 35.2379,-12.5 32.7379,-12.5001 32.7379,-12.5001 32.7379,-12.5001 35.2379,-12.5 32.7379,-10.2501 37.7379,-12.5 37.7379,-12.5\" stroke=\"black\"/>\n",
       "</g>\n",
       "<!-- 1 -->\n",
       "<g class=\"node\" id=\"node3\"><title>1</title>\n",
       "<path d=\"M126.333,-21C126.333,-21 116.667,-21 116.667,-21 113.833,-21 111,-18.1667 111,-15.3333 111,-15.3333 111,-9.66667 111,-9.66667 111,-6.83333 113.833,-4 116.667,-4 116.667,-4 126.333,-4 126.333,-4 129.167,-4 132,-6.83333 132,-9.66667 132,-9.66667 132,-15.3333 132,-15.3333 132,-18.1667 129.167,-21 126.333,-21\" fill=\"none\" stroke=\"black\"/>\n",
       "<path d=\"M127.667,-25C127.667,-25 115.333,-25 115.333,-25 111.167,-25 107,-20.8333 107,-16.6667 107,-16.6667 107,-8.33333 107,-8.33333 107,-4.16667 111.167,-0 115.333,-0 115.333,-0 127.667,-0 127.667,-0 131.833,-0 136,-4.16667 136,-8.33333 136,-8.33333 136,-16.6667 136,-16.6667 136,-20.8333 131.833,-25 127.667,-25\" fill=\"none\" stroke=\"black\"/>\n",
       "<text font-family=\"Courier,monospace\" font-size=\"10.00\" text-anchor=\"middle\" x=\"121.5\" y=\"-10\">1t</text>\n",
       "</g>\n",
       "<!-- 0&#45;&gt;1 -->\n",
       "<g class=\"edge\" id=\"edge2\"><title>0-&gt;1</title>\n",
       "<path d=\"M59.0754,-12.5C69.9689,-12.5 88.0236,-12.5 101.747,-12.5\" fill=\"none\" stroke=\"black\"/>\n",
       "<polygon fill=\"black\" points=\"106.956,-12.5 101.956,-14.7501 104.456,-12.5 101.956,-12.5001 101.956,-12.5001 101.956,-12.5001 104.456,-12.5 101.956,-10.2501 106.956,-12.5 106.956,-12.5\" stroke=\"black\"/>\n",
       "<text font-family=\"Courier,monospace\" font-size=\"9.00\" text-anchor=\"start\" x=\"80\" y=\"-18.3\">a</text>\n",
       "</g>\n",
       "</g>\n",
       "</svg>"
      ],
      "text/plain": [
       "<IPython.core.display.SVG object>"
      ]
     },
     "execution_count": 5,
     "metadata": {},
     "output_type": "execute_result"
    }
   ],
   "source": [
    "display_graph(convert_regexp(\"a\", offset=1))"
   ]
  },
  {
   "cell_type": "code",
   "execution_count": 6,
   "metadata": {
    "collapsed": false
   },
   "outputs": [
    {
     "data": {
      "image/svg+xml": [
       "<svg height=\"37pt\" viewBox=\"0.00 0.00 144.00 36.50\" width=\"144pt\" xmlns=\"http://www.w3.org/2000/svg\" xmlns:xlink=\"http://www.w3.org/1999/xlink\">\n",
       "<g class=\"graph\" id=\"graph0\" transform=\"scale(1 1) rotate(0) translate(4 32.5)\">\n",
       "<title>%3</title>\n",
       "<polygon fill=\"white\" points=\"-4,4 -4,-32.5 140,-32.5 140,4 -4,4\" stroke=\"none\"/>\n",
       "<!-- START -->\n",
       "<g class=\"node\" id=\"node1\"><title>START</title>\n",
       "</g>\n",
       "<!-- 0 -->\n",
       "<g class=\"node\" id=\"node2\"><title>0</title>\n",
       "<path d=\"M53.3333,-21C53.3333,-21 43.6667,-21 43.6667,-21 40.8333,-21 38,-18.1667 38,-15.3333 38,-15.3333 38,-9.66667 38,-9.66667 38,-6.83333 40.8333,-4 43.6667,-4 43.6667,-4 53.3333,-4 53.3333,-4 56.1667,-4 59,-6.83333 59,-9.66667 59,-9.66667 59,-15.3333 59,-15.3333 59,-18.1667 56.1667,-21 53.3333,-21\" fill=\"none\" stroke=\"black\"/>\n",
       "<text font-family=\"Courier,monospace\" font-size=\"10.00\" text-anchor=\"middle\" x=\"48.5\" y=\"-10\">2s</text>\n",
       "</g>\n",
       "<!-- START&#45;&gt;0 -->\n",
       "<g class=\"edge\" id=\"edge1\"><title>START-&gt;0</title>\n",
       "<path d=\"M1.13339,-12.5C2.79277,-12.5 19.5956,-12.5 32.5011,-12.5\" fill=\"none\" stroke=\"black\"/>\n",
       "<polygon fill=\"black\" points=\"37.7379,-12.5 32.738,-14.7501 35.2379,-12.5 32.7379,-12.5001 32.7379,-12.5001 32.7379,-12.5001 35.2379,-12.5 32.7379,-10.2501 37.7379,-12.5 37.7379,-12.5\" stroke=\"black\"/>\n",
       "</g>\n",
       "<!-- 1 -->\n",
       "<g class=\"node\" id=\"node3\"><title>1</title>\n",
       "<path d=\"M126.333,-21C126.333,-21 116.667,-21 116.667,-21 113.833,-21 111,-18.1667 111,-15.3333 111,-15.3333 111,-9.66667 111,-9.66667 111,-6.83333 113.833,-4 116.667,-4 116.667,-4 126.333,-4 126.333,-4 129.167,-4 132,-6.83333 132,-9.66667 132,-9.66667 132,-15.3333 132,-15.3333 132,-18.1667 129.167,-21 126.333,-21\" fill=\"none\" stroke=\"black\"/>\n",
       "<path d=\"M127.667,-25C127.667,-25 115.333,-25 115.333,-25 111.167,-25 107,-20.8333 107,-16.6667 107,-16.6667 107,-8.33333 107,-8.33333 107,-4.16667 111.167,-0 115.333,-0 115.333,-0 127.667,-0 127.667,-0 131.833,-0 136,-4.16667 136,-8.33333 136,-8.33333 136,-16.6667 136,-16.6667 136,-20.8333 131.833,-25 127.667,-25\" fill=\"none\" stroke=\"black\"/>\n",
       "<text font-family=\"Courier,monospace\" font-size=\"10.00\" text-anchor=\"middle\" x=\"121.5\" y=\"-10\">2t</text>\n",
       "</g>\n",
       "<!-- 0&#45;&gt;1 -->\n",
       "<g class=\"edge\" id=\"edge2\"><title>0-&gt;1</title>\n",
       "<path d=\"M59.0754,-12.5C69.9689,-12.5 88.0236,-12.5 101.747,-12.5\" fill=\"none\" stroke=\"black\"/>\n",
       "<polygon fill=\"black\" points=\"106.956,-12.5 101.956,-14.7501 104.456,-12.5 101.956,-12.5001 101.956,-12.5001 101.956,-12.5001 104.456,-12.5 101.956,-10.2501 106.956,-12.5 106.956,-12.5\" stroke=\"black\"/>\n",
       "<text font-family=\"Courier,monospace\" font-size=\"9.00\" text-anchor=\"start\" x=\"80\" y=\"-18.3\">b</text>\n",
       "</g>\n",
       "</g>\n",
       "</svg>"
      ],
      "text/plain": [
       "<IPython.core.display.SVG object>"
      ]
     },
     "execution_count": 6,
     "metadata": {},
     "output_type": "execute_result"
    }
   ],
   "source": [
    "display_graph(convert_regexp(\"b\", offset=2))"
   ]
  },
  {
   "cell_type": "markdown",
   "metadata": {},
   "source": [
    "The suffixes `s` and `t` (for \"source\" and \"target\", I guess) are used for the state before and after each symbol. "
   ]
  },
  {
   "cell_type": "code",
   "execution_count": 7,
   "metadata": {
    "collapsed": false
   },
   "outputs": [
    {
     "data": {
      "image/svg+xml": [
       "<svg height=\"37pt\" viewBox=\"0.00 0.00 281.00 36.50\" width=\"281pt\" xmlns=\"http://www.w3.org/2000/svg\" xmlns:xlink=\"http://www.w3.org/1999/xlink\">\n",
       "<g class=\"graph\" id=\"graph0\" transform=\"scale(1 1) rotate(0) translate(4 32.5)\">\n",
       "<title>%3</title>\n",
       "<polygon fill=\"white\" points=\"-4,4 -4,-32.5 277,-32.5 277,4 -4,4\" stroke=\"none\"/>\n",
       "<!-- START -->\n",
       "<g class=\"node\" id=\"node1\"><title>START</title>\n",
       "</g>\n",
       "<!-- 0 -->\n",
       "<g class=\"node\" id=\"node2\"><title>0</title>\n",
       "<path d=\"M53.3333,-21C53.3333,-21 43.6667,-21 43.6667,-21 40.8333,-21 38,-18.1667 38,-15.3333 38,-15.3333 38,-9.66667 38,-9.66667 38,-6.83333 40.8333,-4 43.6667,-4 43.6667,-4 53.3333,-4 53.3333,-4 56.1667,-4 59,-6.83333 59,-9.66667 59,-9.66667 59,-15.3333 59,-15.3333 59,-18.1667 56.1667,-21 53.3333,-21\" fill=\"none\" stroke=\"black\"/>\n",
       "<text font-family=\"Courier,monospace\" font-size=\"10.00\" text-anchor=\"middle\" x=\"48.5\" y=\"-10\">1s</text>\n",
       "</g>\n",
       "<!-- START&#45;&gt;0 -->\n",
       "<g class=\"edge\" id=\"edge1\"><title>START-&gt;0</title>\n",
       "<path d=\"M1.13339,-12.5C2.79277,-12.5 19.5956,-12.5 32.5011,-12.5\" fill=\"none\" stroke=\"black\"/>\n",
       "<polygon fill=\"black\" points=\"37.7379,-12.5 32.738,-14.7501 35.2379,-12.5 32.7379,-12.5001 32.7379,-12.5001 32.7379,-12.5001 35.2379,-12.5 32.7379,-10.2501 37.7379,-12.5 37.7379,-12.5\" stroke=\"black\"/>\n",
       "</g>\n",
       "<!-- 1 -->\n",
       "<g class=\"node\" id=\"node3\"><title>1</title>\n",
       "<path d=\"M122.333,-21C122.333,-21 112.667,-21 112.667,-21 109.833,-21 107,-18.1667 107,-15.3333 107,-15.3333 107,-9.66667 107,-9.66667 107,-6.83333 109.833,-4 112.667,-4 112.667,-4 122.333,-4 122.333,-4 125.167,-4 128,-6.83333 128,-9.66667 128,-9.66667 128,-15.3333 128,-15.3333 128,-18.1667 125.167,-21 122.333,-21\" fill=\"none\" stroke=\"black\"/>\n",
       "<text font-family=\"Courier,monospace\" font-size=\"10.00\" text-anchor=\"middle\" x=\"117.5\" y=\"-10\">1t</text>\n",
       "</g>\n",
       "<!-- 0&#45;&gt;1 -->\n",
       "<g class=\"edge\" id=\"edge2\"><title>0-&gt;1</title>\n",
       "<path d=\"M59.0995,-12.5C70.2441,-12.5 88.7523,-12.5 101.732,-12.5\" fill=\"none\" stroke=\"black\"/>\n",
       "<polygon fill=\"black\" points=\"106.918,-12.5 101.918,-14.7501 104.418,-12.5 101.918,-12.5001 101.918,-12.5001 101.918,-12.5001 104.418,-12.5 101.918,-10.2501 106.918,-12.5 106.918,-12.5\" stroke=\"black\"/>\n",
       "<text font-family=\"Courier,monospace\" font-size=\"9.00\" text-anchor=\"start\" x=\"80\" y=\"-18.3\">a</text>\n",
       "</g>\n",
       "<!-- 2 -->\n",
       "<g class=\"node\" id=\"node4\"><title>2</title>\n",
       "<path d=\"M190.333,-21C190.333,-21 180.667,-21 180.667,-21 177.833,-21 175,-18.1667 175,-15.3333 175,-15.3333 175,-9.66667 175,-9.66667 175,-6.83333 177.833,-4 180.667,-4 180.667,-4 190.333,-4 190.333,-4 193.167,-4 196,-6.83333 196,-9.66667 196,-9.66667 196,-15.3333 196,-15.3333 196,-18.1667 193.167,-21 190.333,-21\" fill=\"none\" stroke=\"black\"/>\n",
       "<text font-family=\"Courier,monospace\" font-size=\"10.00\" text-anchor=\"middle\" x=\"185.5\" y=\"-10\">2s</text>\n",
       "</g>\n",
       "<!-- 1&#45;&gt;2 -->\n",
       "<g class=\"edge\" id=\"edge3\"><title>1-&gt;2</title>\n",
       "<path d=\"M128.239,-12.5C139.157,-12.5 156.988,-12.5 169.648,-12.5\" fill=\"none\" stroke=\"black\"/>\n",
       "<polygon fill=\"black\" points=\"174.722,-12.5 169.722,-14.7501 172.222,-12.5 169.722,-12.5001 169.722,-12.5001 169.722,-12.5001 172.222,-12.5 169.721,-10.2501 174.722,-12.5 174.722,-12.5\" stroke=\"black\"/>\n",
       "<text font-family=\"Courier,monospace\" font-size=\"9.00\" text-anchor=\"start\" x=\"149.5\" y=\"-18.3\">ε</text>\n",
       "</g>\n",
       "<!-- 3 -->\n",
       "<g class=\"node\" id=\"node5\"><title>3</title>\n",
       "<path d=\"M263.333,-21C263.333,-21 253.667,-21 253.667,-21 250.833,-21 248,-18.1667 248,-15.3333 248,-15.3333 248,-9.66667 248,-9.66667 248,-6.83333 250.833,-4 253.667,-4 253.667,-4 263.333,-4 263.333,-4 266.167,-4 269,-6.83333 269,-9.66667 269,-9.66667 269,-15.3333 269,-15.3333 269,-18.1667 266.167,-21 263.333,-21\" fill=\"none\" stroke=\"black\"/>\n",
       "<path d=\"M264.667,-25C264.667,-25 252.333,-25 252.333,-25 248.167,-25 244,-20.8333 244,-16.6667 244,-16.6667 244,-8.33333 244,-8.33333 244,-4.16667 248.167,-0 252.333,-0 252.333,-0 264.667,-0 264.667,-0 268.833,-0 273,-4.16667 273,-8.33333 273,-8.33333 273,-16.6667 273,-16.6667 273,-20.8333 268.833,-25 264.667,-25\" fill=\"none\" stroke=\"black\"/>\n",
       "<text font-family=\"Courier,monospace\" font-size=\"10.00\" text-anchor=\"middle\" x=\"258.5\" y=\"-10\">2t</text>\n",
       "</g>\n",
       "<!-- 2&#45;&gt;3 -->\n",
       "<g class=\"edge\" id=\"edge4\"><title>2-&gt;3</title>\n",
       "<path d=\"M196.075,-12.5C206.969,-12.5 225.024,-12.5 238.747,-12.5\" fill=\"none\" stroke=\"black\"/>\n",
       "<polygon fill=\"black\" points=\"243.956,-12.5 238.956,-14.7501 241.456,-12.5 238.956,-12.5001 238.956,-12.5001 238.956,-12.5001 241.456,-12.5 238.956,-10.2501 243.956,-12.5 243.956,-12.5\" stroke=\"black\"/>\n",
       "<text font-family=\"Courier,monospace\" font-size=\"9.00\" text-anchor=\"start\" x=\"217\" y=\"-18.3\">b</text>\n",
       "</g>\n",
       "</g>\n",
       "</svg>"
      ],
      "text/plain": [
       "<IPython.core.display.SVG object>"
      ]
     },
     "execution_count": 7,
     "metadata": {},
     "output_type": "execute_result"
    }
   ],
   "source": [
    "display_graph(convert_regexp(\"a b\", offset=1))"
   ]
  },
  {
   "cell_type": "code",
   "execution_count": 8,
   "metadata": {
    "collapsed": false
   },
   "outputs": [
    {
     "data": {
      "image/svg+xml": [
       "<svg height=\"37pt\" viewBox=\"0.00 0.00 144.00 36.50\" width=\"144pt\" xmlns=\"http://www.w3.org/2000/svg\" xmlns:xlink=\"http://www.w3.org/1999/xlink\">\n",
       "<g class=\"graph\" id=\"graph0\" transform=\"scale(1 1) rotate(0) translate(4 32.5)\">\n",
       "<title>%3</title>\n",
       "<polygon fill=\"white\" points=\"-4,4 -4,-32.5 140,-32.5 140,4 -4,4\" stroke=\"none\"/>\n",
       "<!-- START -->\n",
       "<g class=\"node\" id=\"node1\"><title>START</title>\n",
       "</g>\n",
       "<!-- 0 -->\n",
       "<g class=\"node\" id=\"node2\"><title>0</title>\n",
       "<path d=\"M53.3333,-21C53.3333,-21 43.6667,-21 43.6667,-21 40.8333,-21 38,-18.1667 38,-15.3333 38,-15.3333 38,-9.66667 38,-9.66667 38,-6.83333 40.8333,-4 43.6667,-4 43.6667,-4 53.3333,-4 53.3333,-4 56.1667,-4 59,-6.83333 59,-9.66667 59,-9.66667 59,-15.3333 59,-15.3333 59,-18.1667 56.1667,-21 53.3333,-21\" fill=\"none\" stroke=\"black\"/>\n",
       "<text font-family=\"Courier,monospace\" font-size=\"10.00\" text-anchor=\"middle\" x=\"48.5\" y=\"-10\">4s</text>\n",
       "</g>\n",
       "<!-- START&#45;&gt;0 -->\n",
       "<g class=\"edge\" id=\"edge1\"><title>START-&gt;0</title>\n",
       "<path d=\"M1.13339,-12.5C2.79277,-12.5 19.5956,-12.5 32.5011,-12.5\" fill=\"none\" stroke=\"black\"/>\n",
       "<polygon fill=\"black\" points=\"37.7379,-12.5 32.738,-14.7501 35.2379,-12.5 32.7379,-12.5001 32.7379,-12.5001 32.7379,-12.5001 35.2379,-12.5 32.7379,-10.2501 37.7379,-12.5 37.7379,-12.5\" stroke=\"black\"/>\n",
       "</g>\n",
       "<!-- 1 -->\n",
       "<g class=\"node\" id=\"node3\"><title>1</title>\n",
       "<path d=\"M126.333,-21C126.333,-21 116.667,-21 116.667,-21 113.833,-21 111,-18.1667 111,-15.3333 111,-15.3333 111,-9.66667 111,-9.66667 111,-6.83333 113.833,-4 116.667,-4 116.667,-4 126.333,-4 126.333,-4 129.167,-4 132,-6.83333 132,-9.66667 132,-9.66667 132,-15.3333 132,-15.3333 132,-18.1667 129.167,-21 126.333,-21\" fill=\"none\" stroke=\"black\"/>\n",
       "<path d=\"M127.667,-25C127.667,-25 115.333,-25 115.333,-25 111.167,-25 107,-20.8333 107,-16.6667 107,-16.6667 107,-8.33333 107,-8.33333 107,-4.16667 111.167,-0 115.333,-0 115.333,-0 127.667,-0 127.667,-0 131.833,-0 136,-4.16667 136,-8.33333 136,-8.33333 136,-16.6667 136,-16.6667 136,-20.8333 131.833,-25 127.667,-25\" fill=\"none\" stroke=\"black\"/>\n",
       "<text font-family=\"Courier,monospace\" font-size=\"10.00\" text-anchor=\"middle\" x=\"121.5\" y=\"-10\">4t</text>\n",
       "</g>\n",
       "<!-- 0&#45;&gt;1 -->\n",
       "<g class=\"edge\" id=\"edge2\"><title>0-&gt;1</title>\n",
       "<path d=\"M59.0754,-12.5C69.9689,-12.5 88.0236,-12.5 101.747,-12.5\" fill=\"none\" stroke=\"black\"/>\n",
       "<polygon fill=\"black\" points=\"106.956,-12.5 101.956,-14.7501 104.456,-12.5 101.956,-12.5001 101.956,-12.5001 101.956,-12.5001 104.456,-12.5 101.956,-10.2501 106.956,-12.5 106.956,-12.5\" stroke=\"black\"/>\n",
       "<text font-family=\"Courier,monospace\" font-size=\"9.00\" text-anchor=\"start\" x=\"80\" y=\"-18.3\">a</text>\n",
       "</g>\n",
       "</g>\n",
       "</svg>"
      ],
      "text/plain": [
       "<IPython.core.display.SVG object>"
      ]
     },
     "execution_count": 8,
     "metadata": {},
     "output_type": "execute_result"
    }
   ],
   "source": [
    "display_graph(convert_regexp(\"a\", offset=4))"
   ]
  },
  {
   "cell_type": "code",
   "execution_count": 9,
   "metadata": {
    "collapsed": false
   },
   "outputs": [
    {
     "data": {
      "image/svg+xml": [
       "<svg height=\"76pt\" viewBox=\"0.00 0.00 357.00 75.50\" width=\"357pt\" xmlns=\"http://www.w3.org/2000/svg\" xmlns:xlink=\"http://www.w3.org/1999/xlink\">\n",
       "<g class=\"graph\" id=\"graph0\" transform=\"scale(1 1) rotate(0) translate(4 71.5)\">\n",
       "<title>%3</title>\n",
       "<polygon fill=\"white\" points=\"-4,4 -4,-71.5 353,-71.5 353,4 -4,4\" stroke=\"none\"/>\n",
       "<!-- START -->\n",
       "<g class=\"node\" id=\"node1\"><title>START</title>\n",
       "</g>\n",
       "<!-- 0 -->\n",
       "<g class=\"node\" id=\"node2\"><title>0</title>\n",
       "<path d=\"M53.3333,-40C53.3333,-40 43.6667,-40 43.6667,-40 40.8333,-40 38,-37.1667 38,-34.3333 38,-34.3333 38,-28.6667 38,-28.6667 38,-25.8333 40.8333,-23 43.6667,-23 43.6667,-23 53.3333,-23 53.3333,-23 56.1667,-23 59,-25.8333 59,-28.6667 59,-28.6667 59,-34.3333 59,-34.3333 59,-37.1667 56.1667,-40 53.3333,-40\" fill=\"none\" stroke=\"black\"/>\n",
       "<text font-family=\"Courier,monospace\" font-size=\"10.00\" text-anchor=\"middle\" x=\"48.5\" y=\"-29\">0a</text>\n",
       "</g>\n",
       "<!-- START&#45;&gt;0 -->\n",
       "<g class=\"edge\" id=\"edge1\"><title>START-&gt;0</title>\n",
       "<path d=\"M1.13339,-31.5C2.79277,-31.5 19.5956,-31.5 32.5011,-31.5\" fill=\"none\" stroke=\"black\"/>\n",
       "<polygon fill=\"black\" points=\"37.7379,-31.5 32.738,-33.7501 35.2379,-31.5 32.7379,-31.5001 32.7379,-31.5001 32.7379,-31.5001 35.2379,-31.5 32.7379,-29.2501 37.7379,-31.5 37.7379,-31.5\" stroke=\"black\"/>\n",
       "</g>\n",
       "<!-- 1 -->\n",
       "<g class=\"node\" id=\"node3\"><title>1</title>\n",
       "<path d=\"M121.333,-60C121.333,-60 111.667,-60 111.667,-60 108.833,-60 106,-57.1667 106,-54.3333 106,-54.3333 106,-48.6667 106,-48.6667 106,-45.8333 108.833,-43 111.667,-43 111.667,-43 121.333,-43 121.333,-43 124.167,-43 127,-45.8333 127,-48.6667 127,-48.6667 127,-54.3333 127,-54.3333 127,-57.1667 124.167,-60 121.333,-60\" fill=\"none\" stroke=\"black\"/>\n",
       "<text font-family=\"Courier,monospace\" font-size=\"10.00\" text-anchor=\"middle\" x=\"116.5\" y=\"-49\">1s</text>\n",
       "</g>\n",
       "<!-- 0&#45;&gt;1 -->\n",
       "<g class=\"edge\" id=\"edge4\"><title>0-&gt;1</title>\n",
       "<path d=\"M59.2385,-34.4511C70.1571,-37.7597 87.9882,-43.1631 100.648,-46.9993\" fill=\"none\" stroke=\"black\"/>\n",
       "<polygon fill=\"black\" points=\"105.722,-48.5368 100.284,-49.24 103.329,-47.8118 100.936,-47.0867 100.936,-47.0867 100.936,-47.0867 103.329,-47.8118 101.589,-44.9334 105.722,-48.5368 105.722,-48.5368\" stroke=\"black\"/>\n",
       "<text font-family=\"Courier,monospace\" font-size=\"9.00\" text-anchor=\"start\" x=\"80.5\" y=\"-49.3\">ε</text>\n",
       "</g>\n",
       "<!-- 5 -->\n",
       "<g class=\"node\" id=\"node7\"><title>5</title>\n",
       "<path d=\"M121.333,-21C121.333,-21 111.667,-21 111.667,-21 108.833,-21 106,-18.1667 106,-15.3333 106,-15.3333 106,-9.66667 106,-9.66667 106,-6.83333 108.833,-4 111.667,-4 111.667,-4 121.333,-4 121.333,-4 124.167,-4 127,-6.83333 127,-9.66667 127,-9.66667 127,-15.3333 127,-15.3333 127,-18.1667 124.167,-21 121.333,-21\" fill=\"none\" stroke=\"black\"/>\n",
       "<text font-family=\"Courier,monospace\" font-size=\"10.00\" text-anchor=\"middle\" x=\"116.5\" y=\"-10\">4s</text>\n",
       "</g>\n",
       "<!-- 0&#45;&gt;5 -->\n",
       "<g class=\"edge\" id=\"edge5\"><title>0-&gt;5</title>\n",
       "<path d=\"M59.0036,-23.3859C64.0132,-19.6243 70.4641,-15.5416 77,-13.5 84.527,-11.1488 93.2899,-10.7517 100.552,-11.0073\" fill=\"none\" stroke=\"black\"/>\n",
       "<polygon fill=\"black\" points=\"105.768,-11.3084 100.647,-13.2664 103.272,-11.1643 100.777,-11.0201 100.777,-11.0201 100.777,-11.0201 103.272,-11.1643 100.906,-8.77389 105.768,-11.3084 105.768,-11.3084\" stroke=\"black\"/>\n",
       "<text font-family=\"Courier,monospace\" font-size=\"9.00\" text-anchor=\"start\" x=\"80.5\" y=\"-19.3\">ε</text>\n",
       "</g>\n",
       "<!-- 2 -->\n",
       "<g class=\"node\" id=\"node4\"><title>2</title>\n",
       "<path d=\"M194.333,-60C194.333,-60 184.667,-60 184.667,-60 181.833,-60 179,-57.1667 179,-54.3333 179,-54.3333 179,-48.6667 179,-48.6667 179,-45.8333 181.833,-43 184.667,-43 184.667,-43 194.333,-43 194.333,-43 197.167,-43 200,-45.8333 200,-48.6667 200,-48.6667 200,-54.3333 200,-54.3333 200,-57.1667 197.167,-60 194.333,-60\" fill=\"none\" stroke=\"black\"/>\n",
       "<text font-family=\"Courier,monospace\" font-size=\"10.00\" text-anchor=\"middle\" x=\"189.5\" y=\"-49\">1t</text>\n",
       "</g>\n",
       "<!-- 1&#45;&gt;2 -->\n",
       "<g class=\"edge\" id=\"edge6\"><title>1-&gt;2</title>\n",
       "<path d=\"M127.075,-51.5C138.971,-51.5 159.407,-51.5 173.417,-51.5\" fill=\"none\" stroke=\"black\"/>\n",
       "<polygon fill=\"black\" points=\"178.621,-51.5 173.621,-53.7501 176.121,-51.5 173.621,-51.5001 173.621,-51.5001 173.621,-51.5001 176.121,-51.5 173.621,-49.2501 178.621,-51.5 178.621,-51.5\" stroke=\"black\"/>\n",
       "<text font-family=\"Courier,monospace\" font-size=\"9.00\" text-anchor=\"start\" x=\"148\" y=\"-57.3\">a</text>\n",
       "</g>\n",
       "<!-- 3 -->\n",
       "<g class=\"node\" id=\"node5\"><title>3</title>\n",
       "<path d=\"M266.333,-60C266.333,-60 256.667,-60 256.667,-60 253.833,-60 251,-57.1667 251,-54.3333 251,-54.3333 251,-48.6667 251,-48.6667 251,-45.8333 253.833,-43 256.667,-43 256.667,-43 266.333,-43 266.333,-43 269.167,-43 272,-45.8333 272,-48.6667 272,-48.6667 272,-54.3333 272,-54.3333 272,-57.1667 269.167,-60 266.333,-60\" fill=\"none\" stroke=\"black\"/>\n",
       "<text font-family=\"Courier,monospace\" font-size=\"10.00\" text-anchor=\"middle\" x=\"261.5\" y=\"-49\">2s</text>\n",
       "</g>\n",
       "<!-- 2&#45;&gt;3 -->\n",
       "<g class=\"edge\" id=\"edge3\"><title>2-&gt;3</title>\n",
       "<path d=\"M200.233,-51.5C212.04,-51.5 232.06,-51.5 245.761,-51.5\" fill=\"none\" stroke=\"black\"/>\n",
       "<polygon fill=\"black\" points=\"250.849,-51.5 245.85,-53.7501 248.349,-51.5 245.849,-51.5001 245.849,-51.5001 245.849,-51.5001 248.349,-51.5 245.849,-49.2501 250.849,-51.5 250.849,-51.5\" stroke=\"black\"/>\n",
       "<text font-family=\"Courier,monospace\" font-size=\"9.00\" text-anchor=\"start\" x=\"225.5\" y=\"-57.3\">ε</text>\n",
       "</g>\n",
       "<!-- 4 -->\n",
       "<g class=\"node\" id=\"node6\"><title>4</title>\n",
       "<path d=\"M339.333,-60C339.333,-60 329.667,-60 329.667,-60 326.833,-60 324,-57.1667 324,-54.3333 324,-54.3333 324,-48.6667 324,-48.6667 324,-45.8333 326.833,-43 329.667,-43 329.667,-43 339.333,-43 339.333,-43 342.167,-43 345,-45.8333 345,-48.6667 345,-48.6667 345,-54.3333 345,-54.3333 345,-57.1667 342.167,-60 339.333,-60\" fill=\"none\" stroke=\"black\"/>\n",
       "<path d=\"M340.667,-64C340.667,-64 328.333,-64 328.333,-64 324.167,-64 320,-59.8333 320,-55.6667 320,-55.6667 320,-47.3333 320,-47.3333 320,-43.1667 324.167,-39 328.333,-39 328.333,-39 340.667,-39 340.667,-39 344.833,-39 349,-43.1667 349,-47.3333 349,-47.3333 349,-55.6667 349,-55.6667 349,-59.8333 344.833,-64 340.667,-64\" fill=\"none\" stroke=\"black\"/>\n",
       "<text font-family=\"Courier,monospace\" font-size=\"10.00\" text-anchor=\"middle\" x=\"334.5\" y=\"-49\">2t</text>\n",
       "</g>\n",
       "<!-- 3&#45;&gt;4 -->\n",
       "<g class=\"edge\" id=\"edge2\"><title>3-&gt;4</title>\n",
       "<path d=\"M272.075,-51.5C282.969,-51.5 301.024,-51.5 314.747,-51.5\" fill=\"none\" stroke=\"black\"/>\n",
       "<polygon fill=\"black\" points=\"319.956,-51.5 314.956,-53.7501 317.456,-51.5 314.956,-51.5001 314.956,-51.5001 314.956,-51.5001 317.456,-51.5 314.956,-49.2501 319.956,-51.5 319.956,-51.5\" stroke=\"black\"/>\n",
       "<text font-family=\"Courier,monospace\" font-size=\"9.00\" text-anchor=\"start\" x=\"293\" y=\"-57.3\">b</text>\n",
       "</g>\n",
       "<!-- 6 -->\n",
       "<g class=\"node\" id=\"node8\"><title>6</title>\n",
       "<path d=\"M194.333,-21C194.333,-21 184.667,-21 184.667,-21 181.833,-21 179,-18.1667 179,-15.3333 179,-15.3333 179,-9.66667 179,-9.66667 179,-6.83333 181.833,-4 184.667,-4 184.667,-4 194.333,-4 194.333,-4 197.167,-4 200,-6.83333 200,-9.66667 200,-9.66667 200,-15.3333 200,-15.3333 200,-18.1667 197.167,-21 194.333,-21\" fill=\"none\" stroke=\"black\"/>\n",
       "<path d=\"M195.667,-25C195.667,-25 183.333,-25 183.333,-25 179.167,-25 175,-20.8333 175,-16.6667 175,-16.6667 175,-8.33333 175,-8.33333 175,-4.16667 179.167,-0 183.333,-0 183.333,-0 195.667,-0 195.667,-0 199.833,-0 204,-4.16667 204,-8.33333 204,-8.33333 204,-16.6667 204,-16.6667 204,-20.8333 199.833,-25 195.667,-25\" fill=\"none\" stroke=\"black\"/>\n",
       "<text font-family=\"Courier,monospace\" font-size=\"10.00\" text-anchor=\"middle\" x=\"189.5\" y=\"-10\">4t</text>\n",
       "</g>\n",
       "<!-- 5&#45;&gt;6 -->\n",
       "<g class=\"edge\" id=\"edge7\"><title>5-&gt;6</title>\n",
       "<path d=\"M127.075,-12.5C137.969,-12.5 156.024,-12.5 169.747,-12.5\" fill=\"none\" stroke=\"black\"/>\n",
       "<polygon fill=\"black\" points=\"174.956,-12.5 169.956,-14.7501 172.456,-12.5 169.956,-12.5001 169.956,-12.5001 169.956,-12.5001 172.456,-12.5 169.956,-10.2501 174.956,-12.5 174.956,-12.5\" stroke=\"black\"/>\n",
       "<text font-family=\"Courier,monospace\" font-size=\"9.00\" text-anchor=\"start\" x=\"148\" y=\"-18.3\">a</text>\n",
       "</g>\n",
       "</g>\n",
       "</svg>"
      ],
      "text/plain": [
       "<IPython.core.display.SVG object>"
      ]
     },
     "execution_count": 9,
     "metadata": {},
     "output_type": "execute_result"
    }
   ],
   "source": [
    "display_graph(convert_regexp(\"a b|a\", offset=1))"
   ]
  },
  {
   "cell_type": "markdown",
   "metadata": {},
   "source": [
    "The union operation adds an extra state at the beginning, with the suffix `a` (for \"alternation\", another name for the union operator)."
   ]
  },
  {
   "cell_type": "code",
   "execution_count": 10,
   "metadata": {
    "collapsed": false
   },
   "outputs": [
    {
     "data": {
      "image/svg+xml": [
       "<svg height=\"163pt\" viewBox=\"0.00 0.00 433.00 162.50\" width=\"433pt\" xmlns=\"http://www.w3.org/2000/svg\" xmlns:xlink=\"http://www.w3.org/1999/xlink\">\n",
       "<g class=\"graph\" id=\"graph0\" transform=\"scale(1 1) rotate(0) translate(4 158.5)\">\n",
       "<title>%3</title>\n",
       "<polygon fill=\"white\" points=\"-4,4 -4,-158.5 429,-158.5 429,4 -4,4\" stroke=\"none\"/>\n",
       "<!-- START -->\n",
       "<g class=\"node\" id=\"node1\"><title>START</title>\n",
       "</g>\n",
       "<!-- 0 -->\n",
       "<g class=\"node\" id=\"node2\"><title>0</title>\n",
       "<path d=\"M57.3333,-84C57.3333,-84 47.6667,-84 47.6667,-84 44.8333,-84 42,-81.1667 42,-78.3333 42,-78.3333 42,-72.6667 42,-72.6667 42,-69.8333 44.8333,-67 47.6667,-67 47.6667,-67 57.3333,-67 57.3333,-67 60.1667,-67 63,-69.8333 63,-72.6667 63,-72.6667 63,-78.3333 63,-78.3333 63,-81.1667 60.1667,-84 57.3333,-84\" fill=\"none\" stroke=\"black\"/>\n",
       "<path d=\"M58.6667,-88C58.6667,-88 46.3333,-88 46.3333,-88 42.1667,-88 38,-83.8333 38,-79.6667 38,-79.6667 38,-71.3333 38,-71.3333 38,-67.1667 42.1667,-63 46.3333,-63 46.3333,-63 58.6667,-63 58.6667,-63 62.8333,-63 67,-67.1667 67,-71.3333 67,-71.3333 67,-79.6667 67,-79.6667 67,-83.8333 62.8333,-88 58.6667,-88\" fill=\"none\" stroke=\"black\"/>\n",
       "<text font-family=\"Courier,monospace\" font-size=\"10.00\" text-anchor=\"middle\" x=\"52.5\" y=\"-73\">0i</text>\n",
       "</g>\n",
       "<!-- START&#45;&gt;0 -->\n",
       "<g class=\"edge\" id=\"edge1\"><title>START-&gt;0</title>\n",
       "<path d=\"M1.14487,-75.5C2.8405,-75.5 19.0961,-75.5 32.6863,-75.5\" fill=\"none\" stroke=\"black\"/>\n",
       "<polygon fill=\"black\" points=\"37.9171,-75.5 32.9172,-77.7501 35.4171,-75.5 32.9171,-75.5001 32.9171,-75.5001 32.9171,-75.5001 35.4171,-75.5 32.9171,-73.2501 37.9171,-75.5 37.9171,-75.5\" stroke=\"black\"/>\n",
       "</g>\n",
       "<!-- 1 -->\n",
       "<g class=\"node\" id=\"node3\"><title>1</title>\n",
       "<path d=\"M129.333,-84C129.333,-84 119.667,-84 119.667,-84 116.833,-84 114,-81.1667 114,-78.3333 114,-78.3333 114,-72.6667 114,-72.6667 114,-69.8333 116.833,-67 119.667,-67 119.667,-67 129.333,-67 129.333,-67 132.167,-67 135,-69.8333 135,-72.6667 135,-72.6667 135,-78.3333 135,-78.3333 135,-81.1667 132.167,-84 129.333,-84\" fill=\"none\" stroke=\"black\"/>\n",
       "<text font-family=\"Courier,monospace\" font-size=\"10.00\" text-anchor=\"middle\" x=\"124.5\" y=\"-73\">1a</text>\n",
       "</g>\n",
       "<!-- 0&#45;&gt;1 -->\n",
       "<g class=\"edge\" id=\"edge6\"><title>0-&gt;1</title>\n",
       "<path d=\"M67.3297,-75.5C79.2157,-75.5 96.3194,-75.5 108.526,-75.5\" fill=\"none\" stroke=\"black\"/>\n",
       "<polygon fill=\"black\" points=\"113.753,-75.5 108.753,-77.7501 111.253,-75.5 108.753,-75.5001 108.753,-75.5001 108.753,-75.5001 111.253,-75.5 108.753,-73.2501 113.753,-75.5 113.753,-75.5\" stroke=\"black\"/>\n",
       "<text font-family=\"Courier,monospace\" font-size=\"9.00\" text-anchor=\"start\" x=\"88.5\" y=\"-81.3\">ε</text>\n",
       "</g>\n",
       "<!-- 2 -->\n",
       "<g class=\"node\" id=\"node4\"><title>2</title>\n",
       "<path d=\"M197.333,-146C197.333,-146 187.667,-146 187.667,-146 184.833,-146 182,-143.167 182,-140.333 182,-140.333 182,-134.667 182,-134.667 182,-131.833 184.833,-129 187.667,-129 187.667,-129 197.333,-129 197.333,-129 200.167,-129 203,-131.833 203,-134.667 203,-134.667 203,-140.333 203,-140.333 203,-143.167 200.167,-146 197.333,-146\" fill=\"none\" stroke=\"black\"/>\n",
       "<text font-family=\"Courier,monospace\" font-size=\"10.00\" text-anchor=\"middle\" x=\"192.5\" y=\"-135\">1s</text>\n",
       "</g>\n",
       "<!-- 1&#45;&gt;2 -->\n",
       "<g class=\"edge\" id=\"edge5\"><title>1-&gt;2</title>\n",
       "<path d=\"M131.206,-84.1368C136.376,-91.5987 144.472,-102.423 153,-110.5 160.363,-117.473 169.645,-124.036 177.251,-128.945\" fill=\"none\" stroke=\"black\"/>\n",
       "<polygon fill=\"black\" points=\"181.737,-131.777 176.308,-131.011 179.623,-130.443 177.509,-129.108 177.509,-129.108 177.509,-129.108 179.623,-130.443 178.71,-127.206 181.737,-131.777 181.737,-131.777\" stroke=\"black\"/>\n",
       "<text font-family=\"Courier,monospace\" font-size=\"9.00\" text-anchor=\"start\" x=\"156.5\" y=\"-125.3\">ε</text>\n",
       "</g>\n",
       "<!-- 6 -->\n",
       "<g class=\"node\" id=\"node8\"><title>6</title>\n",
       "<path d=\"M197.333,-17C197.333,-17 187.667,-17 187.667,-17 184.833,-17 182,-14.1667 182,-11.3333 182,-11.3333 182,-5.66667 182,-5.66667 182,-2.83333 184.833,-0 187.667,-0 187.667,-0 197.333,-0 197.333,-0 200.167,-0 203,-2.83333 203,-5.66667 203,-5.66667 203,-11.3333 203,-11.3333 203,-14.1667 200.167,-17 197.333,-17\" fill=\"none\" stroke=\"black\"/>\n",
       "<text font-family=\"Courier,monospace\" font-size=\"10.00\" text-anchor=\"middle\" x=\"192.5\" y=\"-6\">4s</text>\n",
       "</g>\n",
       "<!-- 1&#45;&gt;6 -->\n",
       "<g class=\"edge\" id=\"edge10\"><title>1-&gt;6</title>\n",
       "<path d=\"M127.947,-66.9429C131.615,-55.5522 139.581,-35.4585 153,-23.5 159.701,-17.5282 169.049,-13.8107 176.856,-11.5704\" fill=\"none\" stroke=\"black\"/>\n",
       "<polygon fill=\"black\" points=\"181.962,-10.2458 177.687,-13.6791 179.542,-10.8735 177.123,-11.5012 177.123,-11.5012 177.123,-11.5012 179.542,-10.8735 176.558,-9.32323 181.962,-10.2458 181.962,-10.2458\" stroke=\"black\"/>\n",
       "<text font-family=\"Courier,monospace\" font-size=\"9.00\" text-anchor=\"start\" x=\"156.5\" y=\"-29.3\">ε</text>\n",
       "</g>\n",
       "<!-- 3 -->\n",
       "<g class=\"node\" id=\"node5\"><title>3</title>\n",
       "<path d=\"M270.333,-149C270.333,-149 260.667,-149 260.667,-149 257.833,-149 255,-146.167 255,-143.333 255,-143.333 255,-137.667 255,-137.667 255,-134.833 257.833,-132 260.667,-132 260.667,-132 270.333,-132 270.333,-132 273.167,-132 276,-134.833 276,-137.667 276,-137.667 276,-143.333 276,-143.333 276,-146.167 273.167,-149 270.333,-149\" fill=\"none\" stroke=\"black\"/>\n",
       "<text font-family=\"Courier,monospace\" font-size=\"10.00\" text-anchor=\"middle\" x=\"265.5\" y=\"-138\">1t</text>\n",
       "</g>\n",
       "<!-- 2&#45;&gt;3 -->\n",
       "<g class=\"edge\" id=\"edge9\"><title>2-&gt;3</title>\n",
       "<path d=\"M203.075,-137.905C214.971,-138.407 235.407,-139.271 249.417,-139.863\" fill=\"none\" stroke=\"black\"/>\n",
       "<polygon fill=\"black\" points=\"254.621,-140.083 249.53,-142.119 252.123,-139.977 249.625,-139.871 249.625,-139.871 249.625,-139.871 252.123,-139.977 249.72,-137.623 254.621,-140.083 254.621,-140.083\" stroke=\"black\"/>\n",
       "<text font-family=\"Courier,monospace\" font-size=\"9.00\" text-anchor=\"start\" x=\"224\" y=\"-144.3\">a</text>\n",
       "</g>\n",
       "<!-- 4 -->\n",
       "<g class=\"node\" id=\"node6\"><title>4</title>\n",
       "<path d=\"M342.333,-144C342.333,-144 332.667,-144 332.667,-144 329.833,-144 327,-141.167 327,-138.333 327,-138.333 327,-132.667 327,-132.667 327,-129.833 329.833,-127 332.667,-127 332.667,-127 342.333,-127 342.333,-127 345.167,-127 348,-129.833 348,-132.667 348,-132.667 348,-138.333 348,-138.333 348,-141.167 345.167,-144 342.333,-144\" fill=\"none\" stroke=\"black\"/>\n",
       "<text font-family=\"Courier,monospace\" font-size=\"10.00\" text-anchor=\"middle\" x=\"337.5\" y=\"-133\">2s</text>\n",
       "</g>\n",
       "<!-- 3&#45;&gt;4 -->\n",
       "<g class=\"edge\" id=\"edge4\"><title>3-&gt;4</title>\n",
       "<path d=\"M276.233,-139.805C288.04,-138.961 308.06,-137.531 321.761,-136.553\" fill=\"none\" stroke=\"black\"/>\n",
       "<polygon fill=\"black\" points=\"326.849,-136.189 322.023,-138.79 324.356,-136.367 321.862,-136.546 321.862,-136.546 321.862,-136.546 324.356,-136.367 321.702,-134.301 326.849,-136.189 326.849,-136.189\" stroke=\"black\"/>\n",
       "<text font-family=\"Courier,monospace\" font-size=\"9.00\" text-anchor=\"start\" x=\"301.5\" y=\"-143.3\">ε</text>\n",
       "</g>\n",
       "<!-- 5 -->\n",
       "<g class=\"node\" id=\"node7\"><title>5</title>\n",
       "<path d=\"M415.333,-123C415.333,-123 405.667,-123 405.667,-123 402.833,-123 400,-120.167 400,-117.333 400,-117.333 400,-111.667 400,-111.667 400,-108.833 402.833,-106 405.667,-106 405.667,-106 415.333,-106 415.333,-106 418.167,-106 421,-108.833 421,-111.667 421,-111.667 421,-117.333 421,-117.333 421,-120.167 418.167,-123 415.333,-123\" fill=\"none\" stroke=\"black\"/>\n",
       "<path d=\"M416.667,-127C416.667,-127 404.333,-127 404.333,-127 400.167,-127 396,-122.833 396,-118.667 396,-118.667 396,-110.333 396,-110.333 396,-106.167 400.167,-102 404.333,-102 404.333,-102 416.667,-102 416.667,-102 420.833,-102 425,-106.167 425,-110.333 425,-110.333 425,-118.667 425,-118.667 425,-122.833 420.833,-127 416.667,-127\" fill=\"none\" stroke=\"black\"/>\n",
       "<text font-family=\"Courier,monospace\" font-size=\"10.00\" text-anchor=\"middle\" x=\"410.5\" y=\"-112\">2t</text>\n",
       "</g>\n",
       "<!-- 4&#45;&gt;5 -->\n",
       "<g class=\"edge\" id=\"edge2\"><title>4-&gt;5</title>\n",
       "<path d=\"M348.075,-132.668C359.065,-129.417 377.344,-124.011 391.11,-119.939\" fill=\"none\" stroke=\"black\"/>\n",
       "<polygon fill=\"black\" points=\"395.956,-118.506 391.8,-122.082 393.559,-119.215 391.161,-119.924 391.161,-119.924 391.161,-119.924 393.559,-119.215 390.523,-117.767 395.956,-118.506 395.956,-118.506\" stroke=\"black\"/>\n",
       "<text font-family=\"Courier,monospace\" font-size=\"9.00\" text-anchor=\"start\" x=\"369\" y=\"-132.3\">b</text>\n",
       "</g>\n",
       "<!-- 5&#45;&gt;1 -->\n",
       "<g class=\"edge\" id=\"edge7\"><title>5-&gt;1</title>\n",
       "<path d=\"M395.855,-109.214C381.728,-104.224 358.906,-97.5 338.5,-97.5 191.5,-97.5 191.5,-97.5 191.5,-97.5 172.783,-97.5 152.541,-89.4382 139.479,-83.075\" fill=\"none\" stroke=\"black\"/>\n",
       "<polygon fill=\"black\" points=\"135.008,-80.8256 140.486,-81.0628 137.241,-81.9492 139.475,-83.0727 139.475,-83.0727 139.475,-83.0727 137.241,-81.9492 138.463,-85.0827 135.008,-80.8256 135.008,-80.8256\" stroke=\"black\"/>\n",
       "<text font-family=\"Courier,monospace\" font-size=\"9.00\" text-anchor=\"start\" x=\"263.5\" y=\"-103.3\">ε</text>\n",
       "</g>\n",
       "<!-- 7 -->\n",
       "<g class=\"node\" id=\"node9\"><title>7</title>\n",
       "<path d=\"M270.333,-41C270.333,-41 260.667,-41 260.667,-41 257.833,-41 255,-38.1667 255,-35.3333 255,-35.3333 255,-29.6667 255,-29.6667 255,-26.8333 257.833,-24 260.667,-24 260.667,-24 270.333,-24 270.333,-24 273.167,-24 276,-26.8333 276,-29.6667 276,-29.6667 276,-35.3333 276,-35.3333 276,-38.1667 273.167,-41 270.333,-41\" fill=\"none\" stroke=\"black\"/>\n",
       "<path d=\"M271.667,-45C271.667,-45 259.333,-45 259.333,-45 255.167,-45 251,-40.8333 251,-36.6667 251,-36.6667 251,-28.3333 251,-28.3333 251,-24.1667 255.167,-20 259.333,-20 259.333,-20 271.667,-20 271.667,-20 275.833,-20 280,-24.1667 280,-28.3333 280,-28.3333 280,-36.6667 280,-36.6667 280,-40.8333 275.833,-45 271.667,-45\" fill=\"none\" stroke=\"black\"/>\n",
       "<text font-family=\"Courier,monospace\" font-size=\"10.00\" text-anchor=\"middle\" x=\"265.5\" y=\"-30\">4t</text>\n",
       "</g>\n",
       "<!-- 6&#45;&gt;7 -->\n",
       "<g class=\"edge\" id=\"edge3\"><title>6-&gt;7</title>\n",
       "<path d=\"M203.075,-11.7367C214.065,-15.4517 232.344,-21.6303 246.11,-26.2837\" fill=\"none\" stroke=\"black\"/>\n",
       "<polygon fill=\"black\" points=\"250.956,-27.9218 245.499,-28.4521 248.588,-27.1212 246.219,-26.3206 246.219,-26.3206 246.219,-26.3206 248.588,-27.1212 246.94,-24.189 250.956,-27.9218 250.956,-27.9218\" stroke=\"black\"/>\n",
       "<text font-family=\"Courier,monospace\" font-size=\"9.00\" text-anchor=\"start\" x=\"224\" y=\"-27.3\">a</text>\n",
       "</g>\n",
       "<!-- 7&#45;&gt;1 -->\n",
       "<g class=\"edge\" id=\"edge8\"><title>7-&gt;1</title>\n",
       "<path d=\"M250.893,-36.7093C224.601,-44.8428 167.035,-62.6511 140.029,-71.0053\" fill=\"none\" stroke=\"black\"/>\n",
       "<polygon fill=\"black\" points=\"135.054,-72.5444 139.166,-68.9172 137.442,-71.8056 139.831,-71.0667 139.831,-71.0667 139.831,-71.0667 137.442,-71.8056 140.496,-73.2162 135.054,-72.5444 135.054,-72.5444\" stroke=\"black\"/>\n",
       "<text font-family=\"Courier,monospace\" font-size=\"9.00\" text-anchor=\"start\" x=\"190.5\" y=\"-64.3\">ε</text>\n",
       "</g>\n",
       "</g>\n",
       "</svg>"
      ],
      "text/plain": [
       "<IPython.core.display.SVG object>"
      ]
     },
     "execution_count": 10,
     "metadata": {},
     "output_type": "execute_result"
    }
   ],
   "source": [
    "display_graph(convert_regexp(\"(a b|a)*\"))"
   ]
  },
  {
   "cell_type": "markdown",
   "metadata": {},
   "source": [
    "The Kleene star operation adds another extra state at the beginning, which has the suffix `i` (for \"iteration\", another name for the Kleene star)."
   ]
  }
 ],
 "metadata": {
  "kernelspec": {
   "display_name": "Python 2",
   "language": "python",
   "name": "python2"
  },
  "language_info": {
   "codemirror_mode": {
    "name": "ipython",
    "version": 2
   },
   "file_extension": ".py",
   "mimetype": "text/x-python",
   "name": "python",
   "nbconvert_exporter": "python",
   "pygments_lexer": "ipython2",
   "version": "2.7.10"
  }
 },
 "nbformat": 4,
 "nbformat_minor": 0
}
