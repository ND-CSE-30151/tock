{
 "cells": [
  {
   "cell_type": "code",
   "execution_count": 1,
   "metadata": {
    "collapsed": true
   },
   "outputs": [],
   "source": [
    "from tock import *"
   ]
  },
  {
   "cell_type": "markdown",
   "metadata": {},
   "source": [
    "# Turing machines\n",
    "\n",
    "Turing machines (TMs) have a finite state and an input, but the input is now a tape that the machine can move in either direction on and also write on. By default, TMs are deterministic. Although Sipser never actually writes the transition function of a TM as a table, it's a perfectly reasonable thing to do. However, we use a different notation for moves. The machine in Example 3.7 would be:"
   ]
  },
  {
   "cell_type": "code",
   "execution_count": 2,
   "metadata": {
    "collapsed": false
   },
   "outputs": [
    {
     "data": {
      "text/plain": [
       "(False, True)"
      ]
     },
     "execution_count": 2,
     "metadata": {},
     "output_type": "execute_result"
    }
   ],
   "source": [
    "m = read_csv(\"examples/sipser-3-7.csv\")\n",
    "m.is_pushdown(), m.is_deterministic()"
   ]
  },
  {
   "cell_type": "code",
   "execution_count": 3,
   "metadata": {
    "collapsed": false
   },
   "outputs": [
    {
     "data": {
      "text/html": [
       "<table style=\"font-family: Courier, monospace;\">\n",
       "  <tr>\n",
       "    <th></th>\n",
       "    <th>0</th>\n",
       "    <th>_</th>\n",
       "    <th>x</th>\n",
       "  </tr>\n",
       "  <tr>\n",
       "    <th>&gt;q1</th>\n",
       "    <td>q2,_ ^</td>\n",
       "    <td>qreject,_ ^</td>\n",
       "    <td>qreject,x ^</td>\n",
       "  </tr>\n",
       "  <tr>\n",
       "    <th>q2</th>\n",
       "    <td>q3,x ^</td>\n",
       "    <td>qaccept,_ ^</td>\n",
       "    <td>q2,x ^</td>\n",
       "  </tr>\n",
       "  <tr>\n",
       "    <th>q3</th>\n",
       "    <td>q4,0 ^</td>\n",
       "    <td>q5,^ _</td>\n",
       "    <td>q3,x ^</td>\n",
       "  </tr>\n",
       "  <tr>\n",
       "    <th>q4</th>\n",
       "    <td>q3,x ^</td>\n",
       "    <td>qreject,_ ^</td>\n",
       "    <td>q4,x ^</td>\n",
       "  </tr>\n",
       "  <tr>\n",
       "    <th>q5</th>\n",
       "    <td>q5,^ 0</td>\n",
       "    <td>q2,_ ^</td>\n",
       "    <td>q5,^ x</td>\n",
       "  </tr>\n",
       "  <tr>\n",
       "    <th>@qaccept</th>\n",
       "    <td></td>\n",
       "    <td></td>\n",
       "    <td></td>\n",
       "  </tr>\n",
       "</table>"
      ],
      "text/plain": [
       "<tock.tables.Table at 0x10ff6c690>"
      ]
     },
     "execution_count": 3,
     "metadata": {},
     "output_type": "execute_result"
    }
   ],
   "source": [
    "to_table(m)"
   ]
  },
  {
   "cell_type": "markdown",
   "metadata": {},
   "source": [
    "As always, the first column lists the possible states, and the start state is marked with a `>` and the accept state is marked with a `@`.\n",
    "\n",
    "The first row lists possible tape symbols. Use `_` for the blank symbol.\n",
    "\n",
    "In the cells, Sipser uses `L` and `R` for moving left and right. We use a different notation: use `^` to indicate the head position. For example, if the machine is in state `q1` and the current tape symbol is `0`, then the machine changes to state `q2`, erases (writes `_`), and moves to the right. If the machine is in state `q5` and the current tape symbol is `0`, then the machine rewrites the `0` and moves left.\n",
    "\n",
    "In the second example (state `q5` and symbol `0`), Sipser would have allowed you to write just `R` for \"don't write anything and move right\". We don't allow this shorthand (sorry). Instead, you have to rewrite the same symbol that was read.\n",
    "\n",
    "Here's the state transition diagram, which might or might not be more intuitive:"
   ]
  },
  {
   "cell_type": "code",
   "execution_count": 4,
   "metadata": {
    "collapsed": false
   },
   "outputs": [
    {
     "data": {
      "image/svg+xml": [
       "<svg height=\"203pt\" viewBox=\"0.00 0.00 548.00 202.50\" width=\"548pt\" xmlns=\"http://www.w3.org/2000/svg\" xmlns:xlink=\"http://www.w3.org/1999/xlink\">\n",
       "<g class=\"graph\" id=\"graph0\" transform=\"scale(1 1) rotate(0) translate(4 198.5)\">\n",
       "<title>%3</title>\n",
       "<polygon fill=\"white\" points=\"-4,4 -4,-198.5 544,-198.5 544,4 -4,4\" stroke=\"none\"/>\n",
       "<!-- 0 -->\n",
       "<g class=\"node\" id=\"node1\"><title>0</title>\n",
       "<path d=\"M53.3333,-24.5C53.3333,-24.5 43.6667,-24.5 43.6667,-24.5 40.8333,-24.5 38,-21.6667 38,-18.8333 38,-18.8333 38,-13.1667 38,-13.1667 38,-10.3333 40.8333,-7.5 43.6667,-7.5 43.6667,-7.5 53.3333,-7.5 53.3333,-7.5 56.1667,-7.5 59,-10.3333 59,-13.1667 59,-13.1667 59,-18.8333 59,-18.8333 59,-21.6667 56.1667,-24.5 53.3333,-24.5\" fill=\"none\" stroke=\"black\"/>\n",
       "<text font-family=\"Courier,monospace\" font-size=\"10.00\" text-anchor=\"middle\" x=\"48.5\" y=\"-13.5\">q1</text>\n",
       "</g>\n",
       "<!-- 1 -->\n",
       "<g class=\"node\" id=\"node2\"><title>1</title>\n",
       "<path d=\"M154.333,-97.5C154.333,-97.5 144.667,-97.5 144.667,-97.5 141.833,-97.5 139,-94.6667 139,-91.8333 139,-91.8333 139,-86.1667 139,-86.1667 139,-83.3333 141.833,-80.5 144.667,-80.5 144.667,-80.5 154.333,-80.5 154.333,-80.5 157.167,-80.5 160,-83.3333 160,-86.1667 160,-86.1667 160,-91.8333 160,-91.8333 160,-94.6667 157.167,-97.5 154.333,-97.5\" fill=\"none\" stroke=\"black\"/>\n",
       "<text font-family=\"Courier,monospace\" font-size=\"10.00\" text-anchor=\"middle\" x=\"149.5\" y=\"-86.5\">q2</text>\n",
       "</g>\n",
       "<!-- 0&#45;&gt;1 -->\n",
       "<g class=\"edge\" id=\"edge2\"><title>0-&gt;1</title>\n",
       "<path d=\"M59.3544,-23.2664C77.1619,-36.3972 114.724,-64.0948 134.94,-79.0009\" fill=\"none\" stroke=\"black\"/>\n",
       "<polygon fill=\"black\" points=\"138.977,-81.9777 133.617,-80.8212 136.964,-80.494 134.952,-79.0103 134.952,-79.0103 134.952,-79.0103 136.964,-80.494 136.288,-77.1993 138.977,-81.9777 138.977,-81.9777\" stroke=\"black\"/>\n",
       "<text font-family=\"Courier,monospace\" font-size=\"9.00\" text-anchor=\"start\" x=\"80\" y=\"-73.8\">0 → _ ^</text>\n",
       "</g>\n",
       "<!-- 6 -->\n",
       "<g class=\"node\" id=\"node7\"><title>6</title>\n",
       "<path d=\"M534.333,-53.5C534.333,-53.5 494.667,-53.5 494.667,-53.5 491.833,-53.5 489,-50.6667 489,-47.8333 489,-47.8333 489,-42.1667 489,-42.1667 489,-39.3333 491.833,-36.5 494.667,-36.5 494.667,-36.5 534.333,-36.5 534.333,-36.5 537.167,-36.5 540,-39.3333 540,-42.1667 540,-42.1667 540,-47.8333 540,-47.8333 540,-50.6667 537.167,-53.5 534.333,-53.5\" fill=\"none\" stroke=\"black\"/>\n",
       "<text font-family=\"Courier,monospace\" font-size=\"10.00\" text-anchor=\"middle\" x=\"514.5\" y=\"-42.5\">qreject</text>\n",
       "</g>\n",
       "<!-- 0&#45;&gt;6 -->\n",
       "<g class=\"edge\" id=\"edge3\"><title>0-&gt;6</title>\n",
       "<path d=\"M59.2516,-13.3579C76.9097,-8.81348 115.42,-0 148.5,-0 148.5,-0 148.5,-0 395,-0 432.803,-0 473.23,-20.2621 495.737,-33.5937\" fill=\"none\" stroke=\"black\"/>\n",
       "<polygon fill=\"black\" points=\"500.261,-36.3235 494.817,-35.6665 498.12,-35.0318 495.98,-33.7401 495.98,-33.7401 495.98,-33.7401 498.12,-35.0318 497.143,-31.8137 500.261,-36.3235 500.261,-36.3235\" stroke=\"black\"/>\n",
       "<text font-family=\"Courier,monospace\" font-size=\"9.00\" text-anchor=\"start\" x=\"250.5\" y=\"-19.8\">x → x ^</text>\n",
       "<text font-family=\"Courier,monospace\" font-size=\"9.00\" text-anchor=\"start\" x=\"250.5\" y=\"-5.8\">_ → _ ^</text>\n",
       "</g>\n",
       "<!-- 1&#45;&gt;1 -->\n",
       "<g class=\"edge\" id=\"edge8\"><title>1-&gt;1</title>\n",
       "<path d=\"M142.05,-97.6857C137.935,-106.174 140.418,-115.5 149.5,-115.5 156.879,-115.5 159.902,-109.343 158.569,-102.482\" fill=\"none\" stroke=\"black\"/>\n",
       "<polygon fill=\"black\" points=\"156.95,-97.6857 160.681,-101.703 157.75,-100.054 158.549,-102.423 158.549,-102.423 158.549,-102.423 157.75,-100.054 156.417,-103.143 156.95,-97.6857 156.95,-97.6857\" stroke=\"black\"/>\n",
       "<text font-family=\"Courier,monospace\" font-size=\"9.00\" text-anchor=\"start\" x=\"130.5\" y=\"-121.3\">x → x ^</text>\n",
       "</g>\n",
       "<!-- 2 -->\n",
       "<g class=\"node\" id=\"node3\"><title>2</title>\n",
       "<path d=\"M274.333,-160.5C274.333,-160.5 264.667,-160.5 264.667,-160.5 261.833,-160.5 259,-157.667 259,-154.833 259,-154.833 259,-149.167 259,-149.167 259,-146.333 261.833,-143.5 264.667,-143.5 264.667,-143.5 274.333,-143.5 274.333,-143.5 277.167,-143.5 280,-146.333 280,-149.167 280,-149.167 280,-154.833 280,-154.833 280,-157.667 277.167,-160.5 274.333,-160.5\" fill=\"none\" stroke=\"black\"/>\n",
       "<text font-family=\"Courier,monospace\" font-size=\"10.00\" text-anchor=\"middle\" x=\"269.5\" y=\"-149.5\">q3</text>\n",
       "</g>\n",
       "<!-- 1&#45;&gt;2 -->\n",
       "<g class=\"edge\" id=\"edge7\"><title>1-&gt;2</title>\n",
       "<path d=\"M155.263,-97.7224C160.028,-105.666 168.067,-117.169 178,-124 201.456,-140.132 234.567,-147.249 253.553,-150.168\" fill=\"none\" stroke=\"black\"/>\n",
       "<polygon fill=\"black\" points=\"258.966,-150.944 253.697,-152.461 256.491,-150.589 254.016,-150.234 254.016,-150.234 254.016,-150.234 256.491,-150.589 254.336,-148.007 258.966,-150.944 258.966,-150.944\" stroke=\"black\"/>\n",
       "<text font-family=\"Courier,monospace\" font-size=\"9.00\" text-anchor=\"start\" x=\"181\" y=\"-148.8\">0 → x ^</text>\n",
       "</g>\n",
       "<!-- 5 -->\n",
       "<g class=\"node\" id=\"node6\"><title>5</title>\n",
       "<path d=\"M289.333,-121.5C289.333,-121.5 249.667,-121.5 249.667,-121.5 246.833,-121.5 244,-118.667 244,-115.833 244,-115.833 244,-110.167 244,-110.167 244,-107.333 246.833,-104.5 249.667,-104.5 249.667,-104.5 289.333,-104.5 289.333,-104.5 292.167,-104.5 295,-107.333 295,-110.167 295,-110.167 295,-115.833 295,-115.833 295,-118.667 292.167,-121.5 289.333,-121.5\" fill=\"none\" stroke=\"black\"/>\n",
       "<path d=\"M290.667,-125.5C290.667,-125.5 248.333,-125.5 248.333,-125.5 244.167,-125.5 240,-121.333 240,-117.167 240,-117.167 240,-108.833 240,-108.833 240,-104.667 244.167,-100.5 248.333,-100.5 248.333,-100.5 290.667,-100.5 290.667,-100.5 294.833,-100.5 299,-104.667 299,-108.833 299,-108.833 299,-117.167 299,-117.167 299,-121.333 294.833,-125.5 290.667,-125.5\" fill=\"none\" stroke=\"black\"/>\n",
       "<text font-family=\"Courier,monospace\" font-size=\"10.00\" text-anchor=\"middle\" x=\"269.5\" y=\"-110.5\">qaccept</text>\n",
       "</g>\n",
       "<!-- 1&#45;&gt;5 -->\n",
       "<g class=\"edge\" id=\"edge9\"><title>1-&gt;5</title>\n",
       "<path d=\"M160.156,-90.964C176.256,-94.2386 209.321,-100.964 234.712,-106.128\" fill=\"none\" stroke=\"black\"/>\n",
       "<polygon fill=\"black\" points=\"239.681,-107.139 234.333,-108.347 237.231,-106.64 234.781,-106.142 234.781,-106.142 234.781,-106.142 237.231,-106.64 235.23,-103.937 239.681,-107.139 239.681,-107.139\" stroke=\"black\"/>\n",
       "<text font-family=\"Courier,monospace\" font-size=\"9.00\" text-anchor=\"start\" x=\"181\" y=\"-109.8\">_ → _ ^</text>\n",
       "</g>\n",
       "<!-- 2&#45;&gt;2 -->\n",
       "<g class=\"edge\" id=\"edge4\"><title>2-&gt;2</title>\n",
       "<path d=\"M259.368,-160.686C253.771,-169.174 257.148,-178.5 269.5,-178.5 279.536,-178.5 283.647,-172.343 281.834,-165.482\" fill=\"none\" stroke=\"black\"/>\n",
       "<polygon fill=\"black\" points=\"279.632,-160.686 283.763,-164.291 280.675,-162.958 281.718,-165.23 281.718,-165.23 281.718,-165.23 280.675,-162.958 279.673,-166.168 279.632,-160.686 279.632,-160.686\" stroke=\"black\"/>\n",
       "<text font-family=\"Courier,monospace\" font-size=\"9.00\" text-anchor=\"start\" x=\"250.5\" y=\"-184.3\">x → x ^</text>\n",
       "</g>\n",
       "<!-- 3 -->\n",
       "<g class=\"node\" id=\"node4\"><title>3</title>\n",
       "<path d=\"M398.833,-157.5C398.833,-157.5 389.167,-157.5 389.167,-157.5 386.333,-157.5 383.5,-154.667 383.5,-151.833 383.5,-151.833 383.5,-146.167 383.5,-146.167 383.5,-143.333 386.333,-140.5 389.167,-140.5 389.167,-140.5 398.833,-140.5 398.833,-140.5 401.667,-140.5 404.5,-143.333 404.5,-146.167 404.5,-146.167 404.5,-151.833 404.5,-151.833 404.5,-154.667 401.667,-157.5 398.833,-157.5\" fill=\"none\" stroke=\"black\"/>\n",
       "<text font-family=\"Courier,monospace\" font-size=\"10.00\" text-anchor=\"middle\" x=\"394\" y=\"-146.5\">q4</text>\n",
       "</g>\n",
       "<!-- 2&#45;&gt;3 -->\n",
       "<g class=\"edge\" id=\"edge6\"><title>2-&gt;3</title>\n",
       "<path d=\"M280.099,-155.206C296.72,-160.304 331.875,-169.092 361,-163 366.999,-161.745 373.248,-159.299 378.616,-156.798\" fill=\"none\" stroke=\"black\"/>\n",
       "<polygon fill=\"black\" points=\"383.264,-154.518 379.766,-158.74 381.02,-155.619 378.775,-156.72 378.775,-156.72 378.775,-156.72 381.02,-155.619 377.784,-154.7 383.264,-154.518 383.264,-154.518\" stroke=\"black\"/>\n",
       "<text font-family=\"Courier,monospace\" font-size=\"9.00\" text-anchor=\"start\" x=\"320\" y=\"-170.8\">0 → 0 ^</text>\n",
       "</g>\n",
       "<!-- 4 -->\n",
       "<g class=\"node\" id=\"node5\"><title>4</title>\n",
       "<path d=\"M398.833,-74.5C398.833,-74.5 389.167,-74.5 389.167,-74.5 386.333,-74.5 383.5,-71.6667 383.5,-68.8333 383.5,-68.8333 383.5,-63.1667 383.5,-63.1667 383.5,-60.3333 386.333,-57.5 389.167,-57.5 389.167,-57.5 398.833,-57.5 398.833,-57.5 401.667,-57.5 404.5,-60.3333 404.5,-63.1667 404.5,-63.1667 404.5,-68.8333 404.5,-68.8333 404.5,-71.6667 401.667,-74.5 398.833,-74.5\" fill=\"none\" stroke=\"black\"/>\n",
       "<text font-family=\"Courier,monospace\" font-size=\"10.00\" text-anchor=\"middle\" x=\"394\" y=\"-63.5\">q5</text>\n",
       "</g>\n",
       "<!-- 2&#45;&gt;4 -->\n",
       "<g class=\"edge\" id=\"edge5\"><title>2-&gt;4</title>\n",
       "<path d=\"M280.097,-146.148C285.671,-142.697 292.796,-138.197 299,-134 327.913,-114.44 360.761,-90.1975 378.964,-76.5779\" fill=\"none\" stroke=\"black\"/>\n",
       "<polygon fill=\"black\" points=\"383.265,-73.3535 380.614,-78.153 381.265,-74.8531 379.265,-76.3527 379.265,-76.3527 379.265,-76.3527 381.265,-74.8531 377.915,-74.5524 383.265,-73.3535 383.265,-73.3535\" stroke=\"black\"/>\n",
       "<text font-family=\"Courier,monospace\" font-size=\"9.00\" text-anchor=\"start\" x=\"320\" y=\"-127.8\">_ → ^ _</text>\n",
       "</g>\n",
       "<!-- 3&#45;&gt;2 -->\n",
       "<g class=\"edge\" id=\"edge12\"><title>3-&gt;2</title>\n",
       "<path d=\"M383.263,-146.688C376.956,-145.312 368.542,-143.701 361,-143 341.528,-141.19 336.466,-141.133 317,-143 306.189,-144.037 294.156,-146.399 285.04,-148.444\" fill=\"none\" stroke=\"black\"/>\n",
       "<polygon fill=\"black\" points=\"280.04,-149.598 284.406,-146.281 282.476,-149.036 284.912,-148.473 284.912,-148.473 284.912,-148.473 282.476,-149.036 285.418,-150.665 280.04,-149.598 280.04,-149.598\" stroke=\"black\"/>\n",
       "<text font-family=\"Courier,monospace\" font-size=\"9.00\" text-anchor=\"start\" x=\"320\" y=\"-148.8\">0 → x ^</text>\n",
       "</g>\n",
       "<!-- 3&#45;&gt;3 -->\n",
       "<g class=\"edge\" id=\"edge13\"><title>3-&gt;3</title>\n",
       "<path d=\"M385.954,-157.686C381.509,-166.174 384.191,-175.5 394,-175.5 401.969,-175.5 405.234,-169.343 403.795,-162.482\" fill=\"none\" stroke=\"black\"/>\n",
       "<polygon fill=\"black\" points=\"402.046,-157.686 405.873,-161.613 402.902,-160.034 403.759,-162.383 403.759,-162.383 403.759,-162.383 402.902,-160.034 401.645,-163.154 402.046,-157.686 402.046,-157.686\" stroke=\"black\"/>\n",
       "<text font-family=\"Courier,monospace\" font-size=\"9.00\" text-anchor=\"start\" x=\"375\" y=\"-181.3\">x → x ^</text>\n",
       "</g>\n",
       "<!-- 3&#45;&gt;6 -->\n",
       "<g class=\"edge\" id=\"edge14\"><title>3-&gt;6</title>\n",
       "<path d=\"M404.697,-140.489C425.703,-122.054 475.465,-78.3808 499.725,-57.0896\" fill=\"none\" stroke=\"black\"/>\n",
       "<polygon fill=\"black\" points=\"503.669,-53.6284 501.395,-58.6176 501.79,-55.2774 499.911,-56.9265 499.911,-56.9265 499.911,-56.9265 501.79,-55.2774 498.426,-55.2354 503.669,-53.6284 503.669,-53.6284\" stroke=\"black\"/>\n",
       "<text font-family=\"Courier,monospace\" font-size=\"9.00\" text-anchor=\"start\" x=\"430\" y=\"-124.8\">_ → _ ^</text>\n",
       "</g>\n",
       "<!-- 4&#45;&gt;1 -->\n",
       "<g class=\"edge\" id=\"edge10\"><title>4-&gt;1</title>\n",
       "<path d=\"M383.307,-66.2459C359.082,-66.9307 293.971,-69.2051 240,-75 213.5,-77.8454 182.864,-83.0587 165.181,-86.258\" fill=\"none\" stroke=\"black\"/>\n",
       "<polygon fill=\"black\" points=\"160.128,-87.1814 164.642,-84.0691 162.587,-86.7319 165.046,-86.2825 165.046,-86.2825 165.046,-86.2825 162.587,-86.7319 165.451,-88.4958 160.128,-87.1814 160.128,-87.1814\" stroke=\"black\"/>\n",
       "<text font-family=\"Courier,monospace\" font-size=\"9.00\" text-anchor=\"start\" x=\"250.5\" y=\"-80.8\">_ → _ ^</text>\n",
       "</g>\n",
       "<!-- 4&#45;&gt;4 -->\n",
       "<g class=\"edge\" id=\"edge11\"><title>4-&gt;4</title>\n",
       "<path d=\"M385.954,-74.6857C381.509,-83.1739 384.191,-92.5 394,-92.5 401.969,-92.5 405.234,-86.3433 403.795,-79.4817\" fill=\"none\" stroke=\"black\"/>\n",
       "<polygon fill=\"black\" points=\"402.046,-74.6857 405.873,-78.6126 402.902,-77.0345 403.759,-79.3833 403.759,-79.3833 403.759,-79.3833 402.902,-77.0345 401.645,-80.1539 402.046,-74.6857 402.046,-74.6857\" stroke=\"black\"/>\n",
       "<text font-family=\"Courier,monospace\" font-size=\"9.00\" text-anchor=\"start\" x=\"375\" y=\"-112.3\">0 → ^ 0</text>\n",
       "<text font-family=\"Courier,monospace\" font-size=\"9.00\" text-anchor=\"start\" x=\"375\" y=\"-98.3\">x → ^ x</text>\n",
       "</g>\n",
       "<!-- START -->\n",
       "<g class=\"node\" id=\"node8\"><title>START</title>\n",
       "</g>\n",
       "<!-- START&#45;&gt;0 -->\n",
       "<g class=\"edge\" id=\"edge1\"><title>START-&gt;0</title>\n",
       "<path d=\"M1.13339,-16C2.79277,-16 19.5956,-16 32.5011,-16\" fill=\"none\" stroke=\"black\"/>\n",
       "<polygon fill=\"black\" points=\"37.7379,-16 32.738,-18.2501 35.2379,-16 32.7379,-16.0001 32.7379,-16.0001 32.7379,-16.0001 35.2379,-16 32.7379,-13.7501 37.7379,-16 37.7379,-16\" stroke=\"black\"/>\n",
       "</g>\n",
       "</g>\n",
       "</svg>"
      ],
      "text/plain": [
       "<IPython.core.display.SVG object>"
      ]
     },
     "metadata": {},
     "output_type": "display_data"
    }
   ],
   "source": [
    "to_graph(m)"
   ]
  },
  {
   "cell_type": "markdown",
   "metadata": {},
   "source": [
    "Sipser allows a shorthand in which there are multiple symbols to the left of the arrow. For example, the transitions from `q5` to itself could be written `0,x -> L` for \"if the current symbol is either `0` or `x`, move left\". We don't allow this; instead, use two transitions.\n",
    "\n",
    "This machine recognizes the language $\\{\\texttt{0}^{2^n} \\mid n \\geq 0\\}$. Here's an example run:"
   ]
  },
  {
   "cell_type": "code",
   "execution_count": 5,
   "metadata": {
    "collapsed": false
   },
   "outputs": [
    {
     "data": {
      "image/svg+xml": [
       "<svg height=\"441pt\" viewBox=\"0.00 0.00 115.00 441.00\" width=\"115pt\" xmlns=\"http://www.w3.org/2000/svg\" xmlns:xlink=\"http://www.w3.org/1999/xlink\">\n",
       "<g class=\"graph\" id=\"graph0\" transform=\"scale(1 1) rotate(0) translate(4 437)\">\n",
       "<title>%3</title>\n",
       "<polygon fill=\"white\" points=\"-4,4 -4,-437 111,-437 111,4 -4,4\" stroke=\"none\"/>\n",
       "<!-- 0 -->\n",
       "<g class=\"node\" id=\"node1\"><title>0</title>\n",
       "<path d=\"M76.3333,-396C76.3333,-396 30.6667,-396 30.6667,-396 27.8333,-396 25,-393.167 25,-390.333 25,-390.333 25,-384.667 25,-384.667 25,-381.833 27.8333,-379 30.6667,-379 30.6667,-379 76.3333,-379 76.3333,-379 79.1667,-379 82,-381.833 82,-384.667 82,-384.667 82,-390.333 82,-390.333 82,-393.167 79.1667,-396 76.3333,-396\" fill=\"none\" stroke=\"black\"/>\n",
       "<text font-family=\"Courier,monospace\" font-size=\"10.00\" text-anchor=\"middle\" x=\"53.5\" y=\"-385\">q1,[0] 0</text>\n",
       "</g>\n",
       "<!-- 2 -->\n",
       "<g class=\"node\" id=\"node3\"><title>2</title>\n",
       "<path d=\"M76.3333,-343C76.3333,-343 30.6667,-343 30.6667,-343 27.8333,-343 25,-340.167 25,-337.333 25,-337.333 25,-331.667 25,-331.667 25,-328.833 27.8333,-326 30.6667,-326 30.6667,-326 76.3333,-326 76.3333,-326 79.1667,-326 82,-328.833 82,-331.667 82,-331.667 82,-337.333 82,-337.333 82,-340.167 79.1667,-343 76.3333,-343\" fill=\"none\" stroke=\"black\"/>\n",
       "<text font-family=\"Courier,monospace\" font-size=\"10.00\" text-anchor=\"middle\" x=\"53.5\" y=\"-332\">q2,_ [0]</text>\n",
       "</g>\n",
       "<!-- 0&#45;&gt;2 -->\n",
       "<g class=\"edge\" id=\"edge2\"><title>0-&gt;2</title>\n",
       "<path d=\"M53.5,-378.975C53.5,-370.914 53.5,-357.979 53.5,-348.31\" fill=\"none\" stroke=\"black\"/>\n",
       "<polygon fill=\"black\" points=\"53.5,-343.056 55.7501,-348.056 53.5,-345.556 53.5001,-348.056 53.5001,-348.056 53.5001,-348.056 53.5,-345.556 51.2501,-348.056 53.5,-343.056 53.5,-343.056\" stroke=\"black\"/>\n",
       "</g>\n",
       "<!-- 1 -->\n",
       "<g class=\"node\" id=\"node2\"><title>1</title>\n",
       "<path d=\"M76.3333,-290C76.3333,-290 30.6667,-290 30.6667,-290 27.8333,-290 25,-287.167 25,-284.333 25,-284.333 25,-278.667 25,-278.667 25,-275.833 27.8333,-273 30.6667,-273 30.6667,-273 76.3333,-273 76.3333,-273 79.1667,-273 82,-275.833 82,-278.667 82,-278.667 82,-284.333 82,-284.333 82,-287.167 79.1667,-290 76.3333,-290\" fill=\"none\" stroke=\"black\"/>\n",
       "<text font-family=\"Courier,monospace\" font-size=\"10.00\" text-anchor=\"middle\" x=\"53.5\" y=\"-279\">q3,_ x ^</text>\n",
       "</g>\n",
       "<!-- 3 -->\n",
       "<g class=\"node\" id=\"node4\"><title>3</title>\n",
       "<path d=\"M76.3333,-237C76.3333,-237 30.6667,-237 30.6667,-237 27.8333,-237 25,-234.167 25,-231.333 25,-231.333 25,-225.667 25,-225.667 25,-222.833 27.8333,-220 30.6667,-220 30.6667,-220 76.3333,-220 76.3333,-220 79.1667,-220 82,-222.833 82,-225.667 82,-225.667 82,-231.333 82,-231.333 82,-234.167 79.1667,-237 76.3333,-237\" fill=\"none\" stroke=\"black\"/>\n",
       "<text font-family=\"Courier,monospace\" font-size=\"10.00\" text-anchor=\"middle\" x=\"53.5\" y=\"-226\">q5,_ [x]</text>\n",
       "</g>\n",
       "<!-- 1&#45;&gt;3 -->\n",
       "<g class=\"edge\" id=\"edge7\"><title>1-&gt;3</title>\n",
       "<path d=\"M53.5,-272.975C53.5,-264.914 53.5,-251.979 53.5,-242.31\" fill=\"none\" stroke=\"black\"/>\n",
       "<polygon fill=\"black\" points=\"53.5,-237.056 55.7501,-242.056 53.5,-239.556 53.5001,-242.056 53.5001,-242.056 53.5001,-242.056 53.5,-239.556 51.2501,-242.056 53.5,-237.056 53.5,-237.056\" stroke=\"black\"/>\n",
       "</g>\n",
       "<!-- 2&#45;&gt;1 -->\n",
       "<g class=\"edge\" id=\"edge6\"><title>2-&gt;1</title>\n",
       "<path d=\"M53.5,-325.975C53.5,-317.914 53.5,-304.979 53.5,-295.31\" fill=\"none\" stroke=\"black\"/>\n",
       "<polygon fill=\"black\" points=\"53.5,-290.056 55.7501,-295.056 53.5,-292.556 53.5001,-295.056 53.5001,-295.056 53.5001,-295.056 53.5,-292.556 51.2501,-295.056 53.5,-290.056 53.5,-290.056\" stroke=\"black\"/>\n",
       "</g>\n",
       "<!-- 4 -->\n",
       "<g class=\"node\" id=\"node5\"><title>4</title>\n",
       "<path d=\"M76.3333,-184C76.3333,-184 30.6667,-184 30.6667,-184 27.8333,-184 25,-181.167 25,-178.333 25,-178.333 25,-172.667 25,-172.667 25,-169.833 27.8333,-167 30.6667,-167 30.6667,-167 76.3333,-167 76.3333,-167 79.1667,-167 82,-169.833 82,-172.667 82,-172.667 82,-178.333 82,-178.333 82,-181.167 79.1667,-184 76.3333,-184\" fill=\"none\" stroke=\"black\"/>\n",
       "<text font-family=\"Courier,monospace\" font-size=\"10.00\" text-anchor=\"middle\" x=\"53.5\" y=\"-173\">q5,[_] x</text>\n",
       "</g>\n",
       "<!-- 3&#45;&gt;4 -->\n",
       "<g class=\"edge\" id=\"edge5\"><title>3-&gt;4</title>\n",
       "<path d=\"M53.5,-219.975C53.5,-211.914 53.5,-198.979 53.5,-189.31\" fill=\"none\" stroke=\"black\"/>\n",
       "<polygon fill=\"black\" points=\"53.5,-184.056 55.7501,-189.056 53.5,-186.556 53.5001,-189.056 53.5001,-189.056 53.5001,-189.056 53.5,-186.556 51.2501,-189.056 53.5,-184.056 53.5,-184.056\" stroke=\"black\"/>\n",
       "</g>\n",
       "<!-- 5 -->\n",
       "<g class=\"node\" id=\"node6\"><title>5</title>\n",
       "<path d=\"M76.3333,-131C76.3333,-131 30.6667,-131 30.6667,-131 27.8333,-131 25,-128.167 25,-125.333 25,-125.333 25,-119.667 25,-119.667 25,-116.833 27.8333,-114 30.6667,-114 30.6667,-114 76.3333,-114 76.3333,-114 79.1667,-114 82,-116.833 82,-119.667 82,-119.667 82,-125.333 82,-125.333 82,-128.167 79.1667,-131 76.3333,-131\" fill=\"none\" stroke=\"black\"/>\n",
       "<text font-family=\"Courier,monospace\" font-size=\"10.00\" text-anchor=\"middle\" x=\"53.5\" y=\"-120\">q2,_ [x]</text>\n",
       "</g>\n",
       "<!-- 4&#45;&gt;5 -->\n",
       "<g class=\"edge\" id=\"edge8\"><title>4-&gt;5</title>\n",
       "<path d=\"M53.5,-166.975C53.5,-158.914 53.5,-145.979 53.5,-136.31\" fill=\"none\" stroke=\"black\"/>\n",
       "<polygon fill=\"black\" points=\"53.5,-131.056 55.7501,-136.056 53.5,-133.556 53.5001,-136.056 53.5001,-136.056 53.5001,-136.056 53.5,-133.556 51.2501,-136.056 53.5,-131.056 53.5,-131.056\" stroke=\"black\"/>\n",
       "</g>\n",
       "<!-- 6 -->\n",
       "<g class=\"node\" id=\"node7\"><title>6</title>\n",
       "<path d=\"M76.3333,-78C76.3333,-78 30.6667,-78 30.6667,-78 27.8333,-78 25,-75.1667 25,-72.3333 25,-72.3333 25,-66.6667 25,-66.6667 25,-63.8333 27.8333,-61 30.6667,-61 30.6667,-61 76.3333,-61 76.3333,-61 79.1667,-61 82,-63.8333 82,-66.6667 82,-66.6667 82,-72.3333 82,-72.3333 82,-75.1667 79.1667,-78 76.3333,-78\" fill=\"none\" stroke=\"black\"/>\n",
       "<text font-family=\"Courier,monospace\" font-size=\"10.00\" text-anchor=\"middle\" x=\"53.5\" y=\"-67\">q2,_ x ^</text>\n",
       "</g>\n",
       "<!-- 5&#45;&gt;6 -->\n",
       "<g class=\"edge\" id=\"edge4\"><title>5-&gt;6</title>\n",
       "<path d=\"M53.5,-113.975C53.5,-105.914 53.5,-92.9787 53.5,-83.3099\" fill=\"none\" stroke=\"black\"/>\n",
       "<polygon fill=\"black\" points=\"53.5,-78.0561 55.7501,-83.0561 53.5,-80.5561 53.5001,-83.0561 53.5001,-83.0561 53.5001,-83.0561 53.5,-80.5561 51.2501,-83.0561 53.5,-78.0561 53.5,-78.0561\" stroke=\"black\"/>\n",
       "</g>\n",
       "<!-- 7 -->\n",
       "<g class=\"node\" id=\"node8\"><title>7</title>\n",
       "<path d=\"M97.3333,-21C97.3333,-21 9.66667,-21 9.66667,-21 6.83333,-21 4,-18.1667 4,-15.3333 4,-15.3333 4,-9.66667 4,-9.66667 4,-6.83333 6.83333,-4 9.66667,-4 9.66667,-4 97.3333,-4 97.3333,-4 100.167,-4 103,-6.83333 103,-9.66667 103,-9.66667 103,-15.3333 103,-15.3333 103,-18.1667 100.167,-21 97.3333,-21\" fill=\"none\" stroke=\"black\"/>\n",
       "<path d=\"M98.6667,-25C98.6667,-25 8.33333,-25 8.33333,-25 4.16667,-25 0,-20.8333 0,-16.6667 0,-16.6667 0,-8.33333 0,-8.33333 0,-4.16667 4.16667,-0 8.33333,-0 8.33333,-0 98.6667,-0 98.6667,-0 102.833,-0 107,-4.16667 107,-8.33333 107,-8.33333 107,-16.6667 107,-16.6667 107,-20.8333 102.833,-25 98.6667,-25\" fill=\"none\" stroke=\"black\"/>\n",
       "<text font-family=\"Courier,monospace\" font-size=\"10.00\" text-anchor=\"middle\" x=\"53.5\" y=\"-10\">qaccept,_ x _ ^</text>\n",
       "</g>\n",
       "<!-- 6&#45;&gt;7 -->\n",
       "<g class=\"edge\" id=\"edge3\"><title>6-&gt;7</title>\n",
       "<path d=\"M53.5,-60.8525C53.5,-53.0103 53.5,-40.556 53.5,-30.388\" fill=\"none\" stroke=\"black\"/>\n",
       "<polygon fill=\"black\" points=\"53.5,-25.3158 55.7501,-30.3157 53.5,-27.8158 53.5001,-30.3158 53.5001,-30.3158 53.5001,-30.3158 53.5,-27.8158 51.2501,-30.3158 53.5,-25.3158 53.5,-25.3158\" stroke=\"black\"/>\n",
       "</g>\n",
       "<!-- START -->\n",
       "<g class=\"node\" id=\"node9\"><title>START</title>\n",
       "</g>\n",
       "<!-- START&#45;&gt;0 -->\n",
       "<g class=\"edge\" id=\"edge1\"><title>START-&gt;0</title>\n",
       "<path d=\"M53.5,-431.875C53.5,-430.268 53.5,-413.467 53.5,-401.256\" fill=\"none\" stroke=\"black\"/>\n",
       "<polygon fill=\"black\" points=\"53.5,-396.04 55.7501,-401.04 53.5,-398.54 53.5001,-401.04 53.5001,-401.04 53.5001,-401.04 53.5,-398.54 51.2501,-401.04 53.5,-396.04 53.5,-396.04\" stroke=\"black\"/>\n",
       "</g>\n",
       "</g>\n",
       "</svg>"
      ],
      "text/plain": [
       "<IPython.core.display.SVG object>"
      ]
     },
     "metadata": {},
     "output_type": "display_data"
    }
   ],
   "source": [
    "run(m, \"0 0\")"
   ]
  },
  {
   "cell_type": "markdown",
   "metadata": {},
   "source": [
    "Each node shows both the state and the tape, with the head position indicated using square brackets. This run ended in the accept state (drawn as a double node), so the machine accepted the string."
   ]
  },
  {
   "cell_type": "code",
   "execution_count": 6,
   "metadata": {
    "collapsed": false
   },
   "outputs": [
    {
     "data": {
      "image/svg+xml": [
       "<svg height=\"274pt\" viewBox=\"0.00 0.00 119.00 274.00\" width=\"119pt\" xmlns=\"http://www.w3.org/2000/svg\" xmlns:xlink=\"http://www.w3.org/1999/xlink\">\n",
       "<g class=\"graph\" id=\"graph0\" transform=\"scale(1 1) rotate(0) translate(4 270)\">\n",
       "<title>%3</title>\n",
       "<polygon fill=\"white\" points=\"-4,4 -4,-270 115,-270 115,4 -4,4\" stroke=\"none\"/>\n",
       "<!-- 0 -->\n",
       "<g class=\"node\" id=\"node1\"><title>0</title>\n",
       "<path d=\"M84.3333,-229C84.3333,-229 26.6667,-229 26.6667,-229 23.8333,-229 21,-226.167 21,-223.333 21,-223.333 21,-217.667 21,-217.667 21,-214.833 23.8333,-212 26.6667,-212 26.6667,-212 84.3333,-212 84.3333,-212 87.1667,-212 90,-214.833 90,-217.667 90,-217.667 90,-223.333 90,-223.333 90,-226.167 87.1667,-229 84.3333,-229\" fill=\"none\" stroke=\"black\"/>\n",
       "<text font-family=\"Courier,monospace\" font-size=\"10.00\" text-anchor=\"middle\" x=\"55.5\" y=\"-218\">q1,[0] 0 0</text>\n",
       "</g>\n",
       "<!-- 1 -->\n",
       "<g class=\"node\" id=\"node2\"><title>1</title>\n",
       "<path d=\"M84.3333,-176C84.3333,-176 26.6667,-176 26.6667,-176 23.8333,-176 21,-173.167 21,-170.333 21,-170.333 21,-164.667 21,-164.667 21,-161.833 23.8333,-159 26.6667,-159 26.6667,-159 84.3333,-159 84.3333,-159 87.1667,-159 90,-161.833 90,-164.667 90,-164.667 90,-170.333 90,-170.333 90,-173.167 87.1667,-176 84.3333,-176\" fill=\"none\" stroke=\"black\"/>\n",
       "<text font-family=\"Courier,monospace\" font-size=\"10.00\" text-anchor=\"middle\" x=\"55.5\" y=\"-165\">q2,_ [0] 0</text>\n",
       "</g>\n",
       "<!-- 0&#45;&gt;1 -->\n",
       "<g class=\"edge\" id=\"edge2\"><title>0-&gt;1</title>\n",
       "<path d=\"M55.5,-211.975C55.5,-203.914 55.5,-190.979 55.5,-181.31\" fill=\"none\" stroke=\"black\"/>\n",
       "<polygon fill=\"black\" points=\"55.5,-176.056 57.7501,-181.056 55.5,-178.556 55.5001,-181.056 55.5001,-181.056 55.5001,-181.056 55.5,-178.556 53.2501,-181.056 55.5,-176.056 55.5,-176.056\" stroke=\"black\"/>\n",
       "</g>\n",
       "<!-- 2 -->\n",
       "<g class=\"node\" id=\"node3\"><title>2</title>\n",
       "<path d=\"M84.3333,-123C84.3333,-123 26.6667,-123 26.6667,-123 23.8333,-123 21,-120.167 21,-117.333 21,-117.333 21,-111.667 21,-111.667 21,-108.833 23.8333,-106 26.6667,-106 26.6667,-106 84.3333,-106 84.3333,-106 87.1667,-106 90,-108.833 90,-111.667 90,-111.667 90,-117.333 90,-117.333 90,-120.167 87.1667,-123 84.3333,-123\" fill=\"none\" stroke=\"black\"/>\n",
       "<text font-family=\"Courier,monospace\" font-size=\"10.00\" text-anchor=\"middle\" x=\"55.5\" y=\"-112\">q3,_ x [0]</text>\n",
       "</g>\n",
       "<!-- 1&#45;&gt;2 -->\n",
       "<g class=\"edge\" id=\"edge4\"><title>1-&gt;2</title>\n",
       "<path d=\"M55.5,-158.975C55.5,-150.914 55.5,-137.979 55.5,-128.31\" fill=\"none\" stroke=\"black\"/>\n",
       "<polygon fill=\"black\" points=\"55.5,-123.056 57.7501,-128.056 55.5,-125.556 55.5001,-128.056 55.5001,-128.056 55.5001,-128.056 55.5,-125.556 53.2501,-128.056 55.5,-123.056 55.5,-123.056\" stroke=\"black\"/>\n",
       "</g>\n",
       "<!-- 3 -->\n",
       "<g class=\"node\" id=\"node4\"><title>3</title>\n",
       "<path d=\"M84.3333,-70C84.3333,-70 26.6667,-70 26.6667,-70 23.8333,-70 21,-67.1667 21,-64.3333 21,-64.3333 21,-58.6667 21,-58.6667 21,-55.8333 23.8333,-53 26.6667,-53 26.6667,-53 84.3333,-53 84.3333,-53 87.1667,-53 90,-55.8333 90,-58.6667 90,-58.6667 90,-64.3333 90,-64.3333 90,-67.1667 87.1667,-70 84.3333,-70\" fill=\"none\" stroke=\"black\"/>\n",
       "<text font-family=\"Courier,monospace\" font-size=\"10.00\" text-anchor=\"middle\" x=\"55.5\" y=\"-59\">q4,_ x 0 ^</text>\n",
       "</g>\n",
       "<!-- 2&#45;&gt;3 -->\n",
       "<g class=\"edge\" id=\"edge3\"><title>2-&gt;3</title>\n",
       "<path d=\"M55.5,-105.975C55.5,-97.9143 55.5,-84.9787 55.5,-75.3099\" fill=\"none\" stroke=\"black\"/>\n",
       "<polygon fill=\"black\" points=\"55.5,-70.0561 57.7501,-75.0561 55.5,-72.5561 55.5001,-75.0561 55.5001,-75.0561 55.5001,-75.0561 55.5,-72.5561 53.2501,-75.0561 55.5,-70.0561 55.5,-70.0561\" stroke=\"black\"/>\n",
       "</g>\n",
       "<!-- 4 -->\n",
       "<g class=\"node\" id=\"node5\"><title>4</title>\n",
       "<path d=\"M105.333,-17C105.333,-17 5.66667,-17 5.66667,-17 2.83333,-17 0,-14.1667 0,-11.3333 0,-11.3333 0,-5.66667 0,-5.66667 0,-2.83333 2.83333,-0 5.66667,-0 5.66667,-0 105.333,-0 105.333,-0 108.167,-0 111,-2.83333 111,-5.66667 111,-5.66667 111,-11.3333 111,-11.3333 111,-14.1667 108.167,-17 105.333,-17\" fill=\"none\" stroke=\"black\"/>\n",
       "<text font-family=\"Courier,monospace\" font-size=\"10.00\" text-anchor=\"middle\" x=\"55.5\" y=\"-6\">qreject,_ x 0 _ ^</text>\n",
       "</g>\n",
       "<!-- 3&#45;&gt;4 -->\n",
       "<g class=\"edge\" id=\"edge5\"><title>3-&gt;4</title>\n",
       "<path d=\"M55.5,-52.9748C55.5,-44.9143 55.5,-31.9787 55.5,-22.3099\" fill=\"none\" stroke=\"black\"/>\n",
       "<polygon fill=\"black\" points=\"55.5,-17.0561 57.7501,-22.0561 55.5,-19.5561 55.5001,-22.0561 55.5001,-22.0561 55.5001,-22.0561 55.5,-19.5561 53.2501,-22.0561 55.5,-17.0561 55.5,-17.0561\" stroke=\"black\"/>\n",
       "</g>\n",
       "<!-- START -->\n",
       "<g class=\"node\" id=\"node6\"><title>START</title>\n",
       "</g>\n",
       "<!-- START&#45;&gt;0 -->\n",
       "<g class=\"edge\" id=\"edge1\"><title>START-&gt;0</title>\n",
       "<path d=\"M55.5,-264.875C55.5,-263.268 55.5,-246.467 55.5,-234.256\" fill=\"none\" stroke=\"black\"/>\n",
       "<polygon fill=\"black\" points=\"55.5,-229.04 57.7501,-234.04 55.5,-231.54 55.5001,-234.04 55.5001,-234.04 55.5001,-234.04 55.5,-231.54 53.2501,-234.04 55.5,-229.04 55.5,-229.04\" stroke=\"black\"/>\n",
       "</g>\n",
       "</g>\n",
       "</svg>"
      ],
      "text/plain": [
       "<IPython.core.display.SVG object>"
      ]
     },
     "metadata": {},
     "output_type": "display_data"
    }
   ],
   "source": [
    "run(m, \"0 0 0\")"
   ]
  },
  {
   "cell_type": "markdown",
   "metadata": {},
   "source": [
    "This run ended in the reject state, so the machine rejected the string."
   ]
  },
  {
   "cell_type": "markdown",
   "metadata": {},
   "source": [
    "It's possible, of course, for a run of a Turing machine to go on forever, so the `run` function will give up after a certain number of steps. You can control that limit using the `steps` option:"
   ]
  },
  {
   "cell_type": "code",
   "execution_count": 7,
   "metadata": {
    "collapsed": false
   },
   "outputs": [
    {
     "data": {
      "image/svg+xml": [
       "<svg height=\"364pt\" viewBox=\"0.00 0.00 137.00 364.00\" width=\"137pt\" xmlns=\"http://www.w3.org/2000/svg\" xmlns:xlink=\"http://www.w3.org/1999/xlink\">\n",
       "<g class=\"graph\" id=\"graph0\" transform=\"scale(1 1) rotate(0) translate(4 360)\">\n",
       "<title>%3</title>\n",
       "<polygon fill=\"white\" points=\"-4,4 -4,-360 133,-360 133,4 -4,4\" stroke=\"none\"/>\n",
       "<!-- 0 -->\n",
       "<g class=\"node\" id=\"node1\"><title>0</title>\n",
       "<path d=\"M123.333,-319C123.333,-319 5.66667,-319 5.66667,-319 2.83333,-319 0,-316.167 0,-313.333 0,-313.333 0,-307.667 0,-307.667 0,-304.833 2.83333,-302 5.66667,-302 5.66667,-302 123.333,-302 123.333,-302 126.167,-302 129,-304.833 129,-307.667 129,-307.667 129,-313.333 129,-313.333 129,-316.167 126.167,-319 123.333,-319\" fill=\"none\" stroke=\"black\"/>\n",
       "<text font-family=\"Courier,monospace\" font-size=\"10.00\" text-anchor=\"middle\" x=\"64.5\" y=\"-308\">q1,[0] 0 0 0 0 0 0 0</text>\n",
       "</g>\n",
       "<!-- 1 -->\n",
       "<g class=\"node\" id=\"node2\"><title>1</title>\n",
       "<path d=\"M123.333,-266C123.333,-266 5.66667,-266 5.66667,-266 2.83333,-266 0,-263.167 0,-260.333 0,-260.333 0,-254.667 0,-254.667 0,-251.833 2.83333,-249 5.66667,-249 5.66667,-249 123.333,-249 123.333,-249 126.167,-249 129,-251.833 129,-254.667 129,-254.667 129,-260.333 129,-260.333 129,-263.167 126.167,-266 123.333,-266\" fill=\"none\" stroke=\"black\"/>\n",
       "<text font-family=\"Courier,monospace\" font-size=\"10.00\" text-anchor=\"middle\" x=\"64.5\" y=\"-255\">q2,_ [0] 0 0 0 0 0 0</text>\n",
       "</g>\n",
       "<!-- 0&#45;&gt;1 -->\n",
       "<g class=\"edge\" id=\"edge7\"><title>0-&gt;1</title>\n",
       "<path d=\"M64.5,-301.975C64.5,-293.914 64.5,-280.979 64.5,-271.31\" fill=\"none\" stroke=\"black\"/>\n",
       "<polygon fill=\"black\" points=\"64.5,-266.056 66.7501,-271.056 64.5,-268.556 64.5001,-271.056 64.5001,-271.056 64.5001,-271.056 64.5,-268.556 62.2501,-271.056 64.5,-266.056 64.5,-266.056\" stroke=\"black\"/>\n",
       "</g>\n",
       "<!-- 2 -->\n",
       "<g class=\"node\" id=\"node3\"><title>2</title>\n",
       "<path d=\"M123.333,-213C123.333,-213 5.66667,-213 5.66667,-213 2.83333,-213 0,-210.167 0,-207.333 0,-207.333 0,-201.667 0,-201.667 0,-198.833 2.83333,-196 5.66667,-196 5.66667,-196 123.333,-196 123.333,-196 126.167,-196 129,-198.833 129,-201.667 129,-201.667 129,-207.333 129,-207.333 129,-210.167 126.167,-213 123.333,-213\" fill=\"none\" stroke=\"black\"/>\n",
       "<text font-family=\"Courier,monospace\" font-size=\"10.00\" text-anchor=\"middle\" x=\"64.5\" y=\"-202\">q3,_ x [0] 0 0 0 0 0</text>\n",
       "</g>\n",
       "<!-- 1&#45;&gt;2 -->\n",
       "<g class=\"edge\" id=\"edge6\"><title>1-&gt;2</title>\n",
       "<path d=\"M64.5,-248.975C64.5,-240.914 64.5,-227.979 64.5,-218.31\" fill=\"none\" stroke=\"black\"/>\n",
       "<polygon fill=\"black\" points=\"64.5,-213.056 66.7501,-218.056 64.5,-215.556 64.5001,-218.056 64.5001,-218.056 64.5001,-218.056 64.5,-215.556 62.2501,-218.056 64.5,-213.056 64.5,-213.056\" stroke=\"black\"/>\n",
       "</g>\n",
       "<!-- 3 -->\n",
       "<g class=\"node\" id=\"node4\"><title>3</title>\n",
       "<path d=\"M123.333,-160C123.333,-160 5.66667,-160 5.66667,-160 2.83333,-160 0,-157.167 0,-154.333 0,-154.333 0,-148.667 0,-148.667 0,-145.833 2.83333,-143 5.66667,-143 5.66667,-143 123.333,-143 123.333,-143 126.167,-143 129,-145.833 129,-148.667 129,-148.667 129,-154.333 129,-154.333 129,-157.167 126.167,-160 123.333,-160\" fill=\"none\" stroke=\"black\"/>\n",
       "<text font-family=\"Courier,monospace\" font-size=\"10.00\" text-anchor=\"middle\" x=\"64.5\" y=\"-149\">q4,_ x 0 [0] 0 0 0 0</text>\n",
       "</g>\n",
       "<!-- 2&#45;&gt;3 -->\n",
       "<g class=\"edge\" id=\"edge4\"><title>2-&gt;3</title>\n",
       "<path d=\"M64.5,-195.975C64.5,-187.914 64.5,-174.979 64.5,-165.31\" fill=\"none\" stroke=\"black\"/>\n",
       "<polygon fill=\"black\" points=\"64.5,-160.056 66.7501,-165.056 64.5,-162.556 64.5001,-165.056 64.5001,-165.056 64.5001,-165.056 64.5,-162.556 62.2501,-165.056 64.5,-160.056 64.5,-160.056\" stroke=\"black\"/>\n",
       "</g>\n",
       "<!-- 4 -->\n",
       "<g class=\"node\" id=\"node5\"><title>4</title>\n",
       "<path d=\"M123.333,-107C123.333,-107 5.66667,-107 5.66667,-107 2.83333,-107 0,-104.167 0,-101.333 0,-101.333 0,-95.6667 0,-95.6667 0,-92.8333 2.83333,-90 5.66667,-90 5.66667,-90 123.333,-90 123.333,-90 126.167,-90 129,-92.8333 129,-95.6667 129,-95.6667 129,-101.333 129,-101.333 129,-104.167 126.167,-107 123.333,-107\" fill=\"none\" stroke=\"black\"/>\n",
       "<text font-family=\"Courier,monospace\" font-size=\"10.00\" text-anchor=\"middle\" x=\"64.5\" y=\"-96\">q3,_ x 0 x [0] 0 0 0</text>\n",
       "</g>\n",
       "<!-- 3&#45;&gt;4 -->\n",
       "<g class=\"edge\" id=\"edge3\"><title>3-&gt;4</title>\n",
       "<path d=\"M64.5,-142.975C64.5,-134.914 64.5,-121.979 64.5,-112.31\" fill=\"none\" stroke=\"black\"/>\n",
       "<polygon fill=\"black\" points=\"64.5,-107.056 66.7501,-112.056 64.5,-109.556 64.5001,-112.056 64.5001,-112.056 64.5001,-112.056 64.5,-109.556 62.2501,-112.056 64.5,-107.056 64.5,-107.056\" stroke=\"black\"/>\n",
       "</g>\n",
       "<!-- 5 -->\n",
       "<g class=\"node\" id=\"node6\"><title>5</title>\n",
       "<path d=\"M123.333,-54C123.333,-54 5.66667,-54 5.66667,-54 2.83333,-54 0,-51.1667 0,-48.3333 0,-48.3333 0,-42.6667 0,-42.6667 0,-39.8333 2.83333,-37 5.66667,-37 5.66667,-37 123.333,-37 123.333,-37 126.167,-37 129,-39.8333 129,-42.6667 129,-42.6667 129,-48.3333 129,-48.3333 129,-51.1667 126.167,-54 123.333,-54\" fill=\"none\" stroke=\"black\"/>\n",
       "<text font-family=\"Courier,monospace\" font-size=\"10.00\" text-anchor=\"middle\" x=\"64.5\" y=\"-43\">q4,_ x 0 x 0 [0] 0 0</text>\n",
       "</g>\n",
       "<!-- 4&#45;&gt;5 -->\n",
       "<g class=\"edge\" id=\"edge5\"><title>4-&gt;5</title>\n",
       "<path d=\"M64.5,-89.9748C64.5,-81.9143 64.5,-68.9787 64.5,-59.3099\" fill=\"none\" stroke=\"black\"/>\n",
       "<polygon fill=\"black\" points=\"64.5,-54.0561 66.7501,-59.0561 64.5,-56.5561 64.5001,-59.0561 64.5001,-59.0561 64.5001,-59.0561 64.5,-56.5561 62.2501,-59.0561 64.5,-54.0561 64.5,-54.0561\" stroke=\"black\"/>\n",
       "</g>\n",
       "<!-- DOTS_5 -->\n",
       "<g class=\"node\" id=\"node7\"><title>DOTS_5</title>\n",
       "</g>\n",
       "<!-- 5&#45;&gt;DOTS_5 -->\n",
       "<g class=\"edge\" id=\"edge1\"><title>5-&gt;DOTS_5</title>\n",
       "<path d=\"M64.5,-36.9229C64.5,-24.8493 64.5,-2.4555 64.5,-1.06768\" fill=\"none\" stroke=\"black\" stroke-dasharray=\"1,5\"/>\n",
       "</g>\n",
       "<!-- START -->\n",
       "<g class=\"node\" id=\"node8\"><title>START</title>\n",
       "</g>\n",
       "<!-- START&#45;&gt;0 -->\n",
       "<g class=\"edge\" id=\"edge2\"><title>START-&gt;0</title>\n",
       "<path d=\"M64.5,-354.875C64.5,-353.268 64.5,-336.467 64.5,-324.256\" fill=\"none\" stroke=\"black\"/>\n",
       "<polygon fill=\"black\" points=\"64.5,-319.04 66.7501,-324.04 64.5,-321.54 64.5001,-324.04 64.5001,-324.04 64.5001,-324.04 64.5,-321.54 62.2501,-324.04 64.5,-319.04 64.5,-319.04\" stroke=\"black\"/>\n",
       "</g>\n",
       "</g>\n",
       "</svg>"
      ],
      "text/plain": [
       "<IPython.core.display.SVG object>"
      ]
     },
     "metadata": {},
     "output_type": "display_data"
    }
   ],
   "source": [
    "run(m, \"0 0 0 0 0 0 0 0\", steps=5)"
   ]
  },
  {
   "cell_type": "markdown",
   "metadata": {},
   "source": [
    "The dotted edge indicates that the run continues but is not shown. Be careful -- in this case you don't know whether the machine would eventually accept the string."
   ]
  }
 ],
 "metadata": {
  "kernelspec": {
   "display_name": "Python 2",
   "language": "python",
   "name": "python2"
  },
  "language_info": {
   "codemirror_mode": {
    "name": "ipython",
    "version": 2
   },
   "file_extension": ".py",
   "mimetype": "text/x-python",
   "name": "python",
   "nbconvert_exporter": "python",
   "pygments_lexer": "ipython2",
   "version": "2.7.10"
  }
 },
 "nbformat": 4,
 "nbformat_minor": 0
}
