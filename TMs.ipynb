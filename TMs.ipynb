{
 "cells": [
  {
   "cell_type": "code",
   "execution_count": 1,
   "metadata": {
    "collapsed": true
   },
   "outputs": [],
   "source": [
    "from tock import *"
   ]
  },
  {
   "cell_type": "markdown",
   "metadata": {},
   "source": [
    "# Turing machines\n",
    "\n",
    "Turing machines (TMs) have a finite state and an input, but the input is now a `tape` that machine can move in either direction on and also write on. By default, TMs are deterministic. Although Sipser never actually writes the transition function of a TM as a table, it's a perfectly reasonable thing to do. However, we use a different notation for moves. The machine in Example 3.7 would be:"
   ]
  },
  {
   "cell_type": "code",
   "execution_count": 2,
   "metadata": {
    "collapsed": false
   },
   "outputs": [
    {
     "data": {
      "text/plain": [
       "(False, True)"
      ]
     },
     "execution_count": 2,
     "metadata": {},
     "output_type": "execute_result"
    }
   ],
   "source": [
    "m = read_csv(\"examples/sipser-3-7.csv\")\n",
    "m.is_pushdown(), m.is_deterministic()"
   ]
  },
  {
   "cell_type": "code",
   "execution_count": 3,
   "metadata": {
    "collapsed": false
   },
   "outputs": [
    {
     "data": {
      "text/html": [
       "<table style=\"font-family: Courier, monospace;\">\n",
       "  <tr>\n",
       "    <th></th>\n",
       "    <th>0</th>\n",
       "    <th>_</th>\n",
       "    <th>x</th>\n",
       "  </tr>\n",
       "  <tr>\n",
       "    <th>&gt;q1</th>\n",
       "    <td>q2,_ ^</td>\n",
       "    <td>REJECT,_ ^</td>\n",
       "    <td>REJECT,x ^</td>\n",
       "  </tr>\n",
       "  <tr>\n",
       "    <th>q2</th>\n",
       "    <td>q3,x ^</td>\n",
       "    <td>ACCEPT,_ ^</td>\n",
       "    <td>q2,x ^</td>\n",
       "  </tr>\n",
       "  <tr>\n",
       "    <th>q3</th>\n",
       "    <td>q4,0 ^</td>\n",
       "    <td>q5,^ _</td>\n",
       "    <td>q3,x ^</td>\n",
       "  </tr>\n",
       "  <tr>\n",
       "    <th>q4</th>\n",
       "    <td>q3,x ^</td>\n",
       "    <td>REJECT,_ ^</td>\n",
       "    <td>q4,x ^</td>\n",
       "  </tr>\n",
       "  <tr>\n",
       "    <th>q5</th>\n",
       "    <td>q5,^ 0</td>\n",
       "    <td>q2,_ ^</td>\n",
       "    <td>q5,^ x</td>\n",
       "  </tr>\n",
       "</table>"
      ],
      "text/plain": [
       "<tock.tables.Table at 0x10dc90bd0>"
      ]
     },
     "execution_count": 3,
     "metadata": {},
     "output_type": "execute_result"
    }
   ],
   "source": [
    "to_table(m)"
   ]
  },
  {
   "cell_type": "markdown",
   "metadata": {},
   "source": [
    "As always, the first column lists the possible states, and the start state is marked with a `>`. But there are no final states. Although some books mark final states in Turing machines, Sipser does not. Instead, the accept state is always named `ACCEPT`.\n",
    "\n",
    "The first row lists possible tape symbols. Use `_` for the blank symbol.\n",
    "\n",
    "In the cells, Sipser uses `L` and `R` for moving left and right. We use a different notation: use `^` to indicate the head position. For example, if the machine is in state `q1` and the current tape symbol is `0`, then the machine changes to state `q2`, erases (writes `_`), and moves to the right. If the machine is in state `q5` and the current tape symbol is `0`, then the machine rewrites the `0` and moves left.\n",
    "\n",
    "In the second example (state `q5` and symbol `0`), Sipser would have allowed you to write just `R` for \"don't write anything and move right\". We don't allow this shorthand (sorry). Instead, you have to rewrite the same symbol that was read.\n",
    "\n",
    "Here's the state transition diagram, which might or might not be more intuitive:"
   ]
  },
  {
   "cell_type": "code",
   "execution_count": 4,
   "metadata": {
    "collapsed": false
   },
   "outputs": [
    {
     "data": {
      "image/svg+xml": [
       "<svg height=\"206pt\" viewBox=\"0.00 0.00 536.00 205.50\" width=\"536pt\" xmlns=\"http://www.w3.org/2000/svg\" xmlns:xlink=\"http://www.w3.org/1999/xlink\">\n",
       "<g class=\"graph\" id=\"graph0\" transform=\"scale(1 1) rotate(0) translate(4 201.5)\">\n",
       "<title>%3</title>\n",
       "<polygon fill=\"white\" points=\"-4,4 -4,-201.5 532,-201.5 532,4 -4,4\" stroke=\"none\"/>\n",
       "<!-- START -->\n",
       "<g class=\"node\" id=\"node1\"><title>START</title>\n",
       "</g>\n",
       "<!-- 2 -->\n",
       "<g class=\"node\" id=\"node4\"><title>2</title>\n",
       "<path d=\"M53.3333,-146C53.3333,-146 43.6667,-146 43.6667,-146 40.8333,-146 38,-143.167 38,-140.333 38,-140.333 38,-134.667 38,-134.667 38,-131.833 40.8333,-129 43.6667,-129 43.6667,-129 53.3333,-129 53.3333,-129 56.1667,-129 59,-131.833 59,-134.667 59,-134.667 59,-140.333 59,-140.333 59,-143.167 56.1667,-146 53.3333,-146\" fill=\"none\" stroke=\"black\"/>\n",
       "<text font-family=\"Courier,monospace\" font-size=\"10.00\" text-anchor=\"middle\" x=\"48.5\" y=\"-135\">q1</text>\n",
       "</g>\n",
       "<!-- START&#45;&gt;2 -->\n",
       "<g class=\"edge\" id=\"edge1\"><title>START-&gt;2</title>\n",
       "<path d=\"M1.13339,-137.5C2.79277,-137.5 19.5956,-137.5 32.5011,-137.5\" fill=\"none\" stroke=\"black\"/>\n",
       "<polygon fill=\"black\" points=\"37.7379,-137.5 32.738,-139.75 35.2379,-137.5 32.7379,-137.5 32.7379,-137.5 32.7379,-137.5 35.2379,-137.5 32.7379,-135.25 37.7379,-137.5 37.7379,-137.5\" stroke=\"black\"/>\n",
       "</g>\n",
       "<!-- 0 -->\n",
       "<g class=\"node\" id=\"node2\"><title>0</title>\n",
       "<path d=\"M283.333,-127C283.333,-127 249.667,-127 249.667,-127 246.833,-127 244,-124.167 244,-121.333 244,-121.333 244,-115.667 244,-115.667 244,-112.833 246.833,-110 249.667,-110 249.667,-110 283.333,-110 283.333,-110 286.167,-110 289,-112.833 289,-115.667 289,-115.667 289,-121.333 289,-121.333 289,-124.167 286.167,-127 283.333,-127\" fill=\"none\" stroke=\"black\"/>\n",
       "<path d=\"M284.667,-131C284.667,-131 248.333,-131 248.333,-131 244.167,-131 240,-126.833 240,-122.667 240,-122.667 240,-114.333 240,-114.333 240,-110.167 244.167,-106 248.333,-106 248.333,-106 284.667,-106 284.667,-106 288.833,-106 293,-110.167 293,-114.333 293,-114.333 293,-122.667 293,-122.667 293,-126.833 288.833,-131 284.667,-131\" fill=\"none\" stroke=\"black\"/>\n",
       "<text font-family=\"Courier,monospace\" font-size=\"10.00\" text-anchor=\"middle\" x=\"266.5\" y=\"-116\">ACCEPT</text>\n",
       "</g>\n",
       "<!-- 1 -->\n",
       "<g class=\"node\" id=\"node3\"><title>1</title>\n",
       "<path d=\"M522.333,-150C522.333,-150 488.667,-150 488.667,-150 485.833,-150 483,-147.167 483,-144.333 483,-144.333 483,-138.667 483,-138.667 483,-135.833 485.833,-133 488.667,-133 488.667,-133 522.333,-133 522.333,-133 525.167,-133 528,-135.833 528,-138.667 528,-138.667 528,-144.333 528,-144.333 528,-147.167 525.167,-150 522.333,-150\" fill=\"none\" stroke=\"black\"/>\n",
       "<text font-family=\"Courier,monospace\" font-size=\"10.00\" text-anchor=\"middle\" x=\"505.5\" y=\"-139\">REJECT</text>\n",
       "</g>\n",
       "<!-- 2&#45;&gt;1 -->\n",
       "<g class=\"edge\" id=\"edge3\"><title>2-&gt;1</title>\n",
       "<path d=\"M59.0437,-142.454C76.3721,-150.975 114.377,-167.5 148.5,-167.5 148.5,-167.5 148.5,-167.5 389,-167.5 420.086,-167.5 454.755,-158.425 477.923,-150.998\" fill=\"none\" stroke=\"black\"/>\n",
       "<polygon fill=\"black\" points=\"482.687,-149.442 478.632,-153.133 480.31,-150.218 477.934,-150.995 477.934,-150.995 477.934,-150.995 480.31,-150.218 477.235,-148.856 482.687,-149.442 482.687,-149.442\" stroke=\"black\"/>\n",
       "<text font-family=\"Courier,monospace\" font-size=\"9.00\" text-anchor=\"start\" x=\"247.5\" y=\"-187.3\">x → x ^</text>\n",
       "<text font-family=\"Courier,monospace\" font-size=\"9.00\" text-anchor=\"start\" x=\"247.5\" y=\"-173.3\">_ → _ ^</text>\n",
       "</g>\n",
       "<!-- 3 -->\n",
       "<g class=\"node\" id=\"node5\"><title>3</title>\n",
       "<path d=\"M154.333,-88C154.333,-88 144.667,-88 144.667,-88 141.833,-88 139,-85.1667 139,-82.3333 139,-82.3333 139,-76.6667 139,-76.6667 139,-73.8333 141.833,-71 144.667,-71 144.667,-71 154.333,-71 154.333,-71 157.167,-71 160,-73.8333 160,-76.6667 160,-76.6667 160,-82.3333 160,-82.3333 160,-85.1667 157.167,-88 154.333,-88\" fill=\"none\" stroke=\"black\"/>\n",
       "<text font-family=\"Courier,monospace\" font-size=\"10.00\" text-anchor=\"middle\" x=\"149.5\" y=\"-77\">q2</text>\n",
       "</g>\n",
       "<!-- 2&#45;&gt;3 -->\n",
       "<g class=\"edge\" id=\"edge2\"><title>2-&gt;3</title>\n",
       "<path d=\"M59.3544,-131.727C77.0129,-121.381 114.097,-99.6552 134.428,-87.7439\" fill=\"none\" stroke=\"black\"/>\n",
       "<polygon fill=\"black\" points=\"138.977,-85.0794 135.8,-89.5483 136.82,-86.3431 134.662,-87.6069 134.662,-87.6069 134.662,-87.6069 136.82,-86.3431 133.525,-85.6655 138.977,-85.0794 138.977,-85.0794\" stroke=\"black\"/>\n",
       "<text font-family=\"Courier,monospace\" font-size=\"9.00\" text-anchor=\"start\" x=\"80\" y=\"-126.3\">0 → _ ^</text>\n",
       "</g>\n",
       "<!-- 3&#45;&gt;0 -->\n",
       "<g class=\"edge\" id=\"edge9\"><title>3-&gt;0</title>\n",
       "<path d=\"M160.064,-83.9886C165.303,-86.3669 171.944,-89.2525 178,-91.5 196.64,-98.4179 217.95,-105.02 234.873,-109.965\" fill=\"none\" stroke=\"black\"/>\n",
       "<polygon fill=\"black\" points=\"239.976,-111.444 234.548,-112.213 237.575,-110.748 235.174,-110.052 235.174,-110.052 235.174,-110.052 237.575,-110.748 235.801,-107.891 239.976,-111.444 239.976,-111.444\" stroke=\"black\"/>\n",
       "<text font-family=\"Courier,monospace\" font-size=\"9.00\" text-anchor=\"start\" x=\"181\" y=\"-112.3\">_ → _ ^</text>\n",
       "</g>\n",
       "<!-- 3&#45;&gt;3 -->\n",
       "<g class=\"edge\" id=\"edge8\"><title>3-&gt;3</title>\n",
       "<path d=\"M142.05,-88.1857C137.935,-96.6739 140.418,-106 149.5,-106 156.879,-106 159.902,-99.8433 158.569,-92.9817\" fill=\"none\" stroke=\"black\"/>\n",
       "<polygon fill=\"black\" points=\"156.95,-88.1857 160.681,-92.2034 157.75,-90.5544 158.549,-92.9231 158.549,-92.9231 158.549,-92.9231 157.75,-90.5544 156.417,-93.6427 156.95,-88.1857 156.95,-88.1857\" stroke=\"black\"/>\n",
       "<text font-family=\"Courier,monospace\" font-size=\"9.00\" text-anchor=\"start\" x=\"130.5\" y=\"-111.8\">x → x ^</text>\n",
       "</g>\n",
       "<!-- 4 -->\n",
       "<g class=\"node\" id=\"node6\"><title>4</title>\n",
       "<path d=\"M271.333,-54C271.333,-54 261.667,-54 261.667,-54 258.833,-54 256,-51.1667 256,-48.3333 256,-48.3333 256,-42.6667 256,-42.6667 256,-39.8333 258.833,-37 261.667,-37 261.667,-37 271.333,-37 271.333,-37 274.167,-37 277,-39.8333 277,-42.6667 277,-42.6667 277,-48.3333 277,-48.3333 277,-51.1667 274.167,-54 271.333,-54\" fill=\"none\" stroke=\"black\"/>\n",
       "<text font-family=\"Courier,monospace\" font-size=\"10.00\" text-anchor=\"middle\" x=\"266.5\" y=\"-43\">q3</text>\n",
       "</g>\n",
       "<!-- 3&#45;&gt;4 -->\n",
       "<g class=\"edge\" id=\"edge7\"><title>3-&gt;4</title>\n",
       "<path d=\"M160.305,-76.6012C180.504,-70.6293 226.856,-56.9253 250.714,-49.8716\" fill=\"none\" stroke=\"black\"/>\n",
       "<polygon fill=\"black\" points=\"255.72,-48.3915 251.563,-51.9668 253.323,-49.1003 250.925,-49.8092 250.925,-49.8092 250.925,-49.8092 253.323,-49.1003 250.287,-47.6515 255.72,-48.3915 255.72,-48.3915\" stroke=\"black\"/>\n",
       "<text font-family=\"Courier,monospace\" font-size=\"9.00\" text-anchor=\"start\" x=\"181\" y=\"-77.3\">0 → x ^</text>\n",
       "</g>\n",
       "<!-- 4&#45;&gt;4 -->\n",
       "<g class=\"edge\" id=\"edge4\"><title>4-&gt;4</title>\n",
       "<path d=\"M256.666,-54.1857C251.234,-62.6739 254.512,-72 266.5,-72 276.24,-72 280.231,-65.8433 278.471,-58.9817\" fill=\"none\" stroke=\"black\"/>\n",
       "<polygon fill=\"black\" points=\"276.334,-54.1857 280.424,-57.8371 277.352,-56.4692 278.369,-58.7528 278.369,-58.7528 278.369,-58.7528 277.352,-56.4692 276.314,-59.6686 276.334,-54.1857 276.334,-54.1857\" stroke=\"black\"/>\n",
       "<text font-family=\"Courier,monospace\" font-size=\"9.00\" text-anchor=\"start\" x=\"247.5\" y=\"-77.8\">x → x ^</text>\n",
       "</g>\n",
       "<!-- 5 -->\n",
       "<g class=\"node\" id=\"node7\"><title>5</title>\n",
       "<path d=\"M392.833,-105C392.833,-105 383.167,-105 383.167,-105 380.333,-105 377.5,-102.167 377.5,-99.3333 377.5,-99.3333 377.5,-93.6667 377.5,-93.6667 377.5,-90.8333 380.333,-88 383.167,-88 383.167,-88 392.833,-88 392.833,-88 395.667,-88 398.5,-90.8333 398.5,-93.6667 398.5,-93.6667 398.5,-99.3333 398.5,-99.3333 398.5,-102.167 395.667,-105 392.833,-105\" fill=\"none\" stroke=\"black\"/>\n",
       "<text font-family=\"Courier,monospace\" font-size=\"10.00\" text-anchor=\"middle\" x=\"388\" y=\"-94\">q4</text>\n",
       "</g>\n",
       "<!-- 4&#45;&gt;5 -->\n",
       "<g class=\"edge\" id=\"edge6\"><title>4-&gt;5</title>\n",
       "<path d=\"M274.853,-54.2869C282.806,-63.1613 296.328,-76.526 311,-83.5 330.597,-92.8149 355.847,-95.5457 371.734,-96.2957\" fill=\"none\" stroke=\"black\"/>\n",
       "<polygon fill=\"black\" points=\"377.136,-96.491 372.058,-98.5588 374.638,-96.4006 372.139,-96.3103 372.139,-96.3103 372.139,-96.3103 374.638,-96.4006 372.22,-94.0618 377.136,-96.491 377.136,-96.491\" stroke=\"black\"/>\n",
       "<text font-family=\"Courier,monospace\" font-size=\"9.00\" text-anchor=\"start\" x=\"314\" y=\"-101.3\">0 → 0 ^</text>\n",
       "</g>\n",
       "<!-- 6 -->\n",
       "<g class=\"node\" id=\"node8\"><title>6</title>\n",
       "<path d=\"M392.833,-17C392.833,-17 383.167,-17 383.167,-17 380.333,-17 377.5,-14.1667 377.5,-11.3333 377.5,-11.3333 377.5,-5.66667 377.5,-5.66667 377.5,-2.83333 380.333,-0 383.167,-0 383.167,-0 392.833,-0 392.833,-0 395.667,-0 398.5,-2.83333 398.5,-5.66667 398.5,-5.66667 398.5,-11.3333 398.5,-11.3333 398.5,-14.1667 395.667,-17 392.833,-17\" fill=\"none\" stroke=\"black\"/>\n",
       "<text font-family=\"Courier,monospace\" font-size=\"10.00\" text-anchor=\"middle\" x=\"388\" y=\"-6\">q5</text>\n",
       "</g>\n",
       "<!-- 4&#45;&gt;6 -->\n",
       "<g class=\"edge\" id=\"edge5\"><title>4-&gt;6</title>\n",
       "<path d=\"M277.06,-41.3963C285.797,-37.7341 299.127,-32.3679 311,-28.5 331.797,-21.7248 356.35,-15.5921 371.8,-11.9541\" fill=\"none\" stroke=\"black\"/>\n",
       "<polygon fill=\"black\" points=\"377.056,-10.7301 372.697,-14.0555 374.622,-11.2971 372.187,-11.8642 372.187,-11.8642 372.187,-11.8642 374.622,-11.2971 371.676,-9.67279 377.056,-10.7301 377.056,-10.7301\" stroke=\"black\"/>\n",
       "<text font-family=\"Courier,monospace\" font-size=\"9.00\" text-anchor=\"start\" x=\"314\" y=\"-34.3\">_ → ^ _</text>\n",
       "</g>\n",
       "<!-- 5&#45;&gt;1 -->\n",
       "<g class=\"edge\" id=\"edge14\"><title>5-&gt;1</title>\n",
       "<path d=\"M398.847,-100.337C416.134,-107.072 452.492,-121.237 477.693,-131.056\" fill=\"none\" stroke=\"black\"/>\n",
       "<polygon fill=\"black\" points=\"482.576,-132.958 477.1,-133.239 480.246,-132.05 477.917,-131.143 477.917,-131.143 477.917,-131.143 480.246,-132.05 478.734,-129.046 482.576,-132.958 482.576,-132.958\" stroke=\"black\"/>\n",
       "<text font-family=\"Courier,monospace\" font-size=\"9.00\" text-anchor=\"start\" x=\"424\" y=\"-132.3\">_ → _ ^</text>\n",
       "</g>\n",
       "<!-- 5&#45;&gt;4 -->\n",
       "<g class=\"edge\" id=\"edge12\"><title>5-&gt;4</title>\n",
       "<path d=\"M380.939,-87.7738C375.166,-80.153 365.775,-69.4118 355,-63.5 331.711,-50.7218 300.416,-46.9848 282.254,-45.9109\" fill=\"none\" stroke=\"black\"/>\n",
       "<polygon fill=\"black\" points=\"277.062,-45.656 282.167,-43.654 279.559,-45.7786 282.056,-45.9013 282.056,-45.9013 282.056,-45.9013 279.559,-45.7786 281.946,-48.1486 277.062,-45.656 277.062,-45.656\" stroke=\"black\"/>\n",
       "<text font-family=\"Courier,monospace\" font-size=\"9.00\" text-anchor=\"start\" x=\"314\" y=\"-69.3\">0 → x ^</text>\n",
       "</g>\n",
       "<!-- 5&#45;&gt;5 -->\n",
       "<g class=\"edge\" id=\"edge13\"><title>5-&gt;5</title>\n",
       "<path d=\"M379.954,-105.186C375.509,-113.674 378.191,-123 388,-123 395.969,-123 399.234,-116.843 397.795,-109.982\" fill=\"none\" stroke=\"black\"/>\n",
       "<polygon fill=\"black\" points=\"396.046,-105.186 399.873,-109.113 396.902,-107.534 397.759,-109.883 397.759,-109.883 397.759,-109.883 396.902,-107.534 395.645,-110.654 396.046,-105.186 396.046,-105.186\" stroke=\"black\"/>\n",
       "<text font-family=\"Courier,monospace\" font-size=\"9.00\" text-anchor=\"start\" x=\"369\" y=\"-128.8\">x → x ^</text>\n",
       "</g>\n",
       "<!-- 6&#45;&gt;3 -->\n",
       "<g class=\"edge\" id=\"edge10\"><title>6-&gt;3</title>\n",
       "<path d=\"M377.4,-6.83394C353.471,-3.07318 289.537,4.55365 240,-11.5 207.313,-22.0929 177.25,-50.2833 161.665,-66.8526\" fill=\"none\" stroke=\"black\"/>\n",
       "<polygon fill=\"black\" points=\"158.022,-70.797 159.762,-65.5973 159.718,-68.9605 161.415,-67.124 161.415,-67.124 161.415,-67.124 159.718,-68.9605 163.068,-68.6506 158.022,-70.797 158.022,-70.797\" stroke=\"black\"/>\n",
       "<text font-family=\"Courier,monospace\" font-size=\"9.00\" text-anchor=\"start\" x=\"247.5\" y=\"-17.3\">_ → _ ^</text>\n",
       "</g>\n",
       "<!-- 6&#45;&gt;6 -->\n",
       "<g class=\"edge\" id=\"edge11\"><title>6-&gt;6</title>\n",
       "<path d=\"M379.954,-17.1857C375.509,-25.6739 378.191,-35 388,-35 395.969,-35 399.234,-28.8433 397.795,-21.9817\" fill=\"none\" stroke=\"black\"/>\n",
       "<polygon fill=\"black\" points=\"396.046,-17.1857 399.873,-21.1126 396.902,-19.5345 397.759,-21.8833 397.759,-21.8833 397.759,-21.8833 396.902,-19.5345 395.645,-22.6539 396.046,-17.1857 396.046,-17.1857\" stroke=\"black\"/>\n",
       "<text font-family=\"Courier,monospace\" font-size=\"9.00\" text-anchor=\"start\" x=\"369\" y=\"-54.8\">0 → ^ 0</text>\n",
       "<text font-family=\"Courier,monospace\" font-size=\"9.00\" text-anchor=\"start\" x=\"369\" y=\"-40.8\">x → ^ x</text>\n",
       "</g>\n",
       "</g>\n",
       "</svg>"
      ],
      "text/plain": [
       "<IPython.core.display.SVG object>"
      ]
     },
     "metadata": {},
     "output_type": "display_data"
    }
   ],
   "source": [
    "to_graph(m)"
   ]
  },
  {
   "cell_type": "markdown",
   "metadata": {},
   "source": [
    "Sipser allows a shorthand in which there are multiple symbols to the left of the arrow. For example, the transitions from `q5` to itself could be written `0,x -> L` for \"if the current symbol is either `0` or `x`, move left\". We don't allow this; instead, use two transitions.\n",
    "\n",
    "This machine recognizes the language $\\{\\texttt{0}^{2^n} \\mid n \\geq 0\\}$. Here's an example run:"
   ]
  },
  {
   "cell_type": "code",
   "execution_count": 5,
   "metadata": {
    "collapsed": false
   },
   "outputs": [
    {
     "data": {
      "image/svg+xml": [
       "<svg height=\"441pt\" viewBox=\"0.00 0.00 109.00 441.00\" width=\"109pt\" xmlns=\"http://www.w3.org/2000/svg\" xmlns:xlink=\"http://www.w3.org/1999/xlink\">\n",
       "<g class=\"graph\" id=\"graph0\" transform=\"scale(1 1) rotate(0) translate(4 437)\">\n",
       "<title>%3</title>\n",
       "<polygon fill=\"white\" points=\"-4,4 -4,-437 105,-437 105,4 -4,4\" stroke=\"none\"/>\n",
       "<!-- START -->\n",
       "<g class=\"node\" id=\"node1\"><title>START</title>\n",
       "</g>\n",
       "<!-- 0 -->\n",
       "<g class=\"node\" id=\"node2\"><title>0</title>\n",
       "<path d=\"M73.3333,-396C73.3333,-396 27.6667,-396 27.6667,-396 24.8333,-396 22,-393.167 22,-390.333 22,-390.333 22,-384.667 22,-384.667 22,-381.833 24.8333,-379 27.6667,-379 27.6667,-379 73.3333,-379 73.3333,-379 76.1667,-379 79,-381.833 79,-384.667 79,-384.667 79,-390.333 79,-390.333 79,-393.167 76.1667,-396 73.3333,-396\" fill=\"none\" stroke=\"black\"/>\n",
       "<text font-family=\"Courier,monospace\" font-size=\"10.00\" text-anchor=\"start\" x=\"26\" y=\"-385\">q1,[0] 0</text>\n",
       "</g>\n",
       "<!-- START&#45;&gt;0 -->\n",
       "<g class=\"edge\" id=\"edge1\"><title>START-&gt;0</title>\n",
       "<path d=\"M50.5,-431.875C50.5,-430.268 50.5,-413.467 50.5,-401.256\" fill=\"none\" stroke=\"black\"/>\n",
       "<polygon fill=\"black\" points=\"50.5,-396.04 52.7501,-401.04 50.5,-398.54 50.5001,-401.04 50.5001,-401.04 50.5001,-401.04 50.5,-398.54 48.2501,-401.04 50.5,-396.04 50.5,-396.04\" stroke=\"black\"/>\n",
       "</g>\n",
       "<!-- 5 -->\n",
       "<g class=\"node\" id=\"node7\"><title>5</title>\n",
       "<path d=\"M73.3333,-343C73.3333,-343 27.6667,-343 27.6667,-343 24.8333,-343 22,-340.167 22,-337.333 22,-337.333 22,-331.667 22,-331.667 22,-328.833 24.8333,-326 27.6667,-326 27.6667,-326 73.3333,-326 73.3333,-326 76.1667,-326 79,-328.833 79,-331.667 79,-331.667 79,-337.333 79,-337.333 79,-340.167 76.1667,-343 73.3333,-343\" fill=\"none\" stroke=\"black\"/>\n",
       "<text font-family=\"Courier,monospace\" font-size=\"10.00\" text-anchor=\"start\" x=\"26\" y=\"-332\">q2,_ [0]</text>\n",
       "</g>\n",
       "<!-- 0&#45;&gt;5 -->\n",
       "<g class=\"edge\" id=\"edge5\"><title>0-&gt;5</title>\n",
       "<path d=\"M50.5,-378.975C50.5,-370.914 50.5,-357.979 50.5,-348.31\" fill=\"none\" stroke=\"black\"/>\n",
       "<polygon fill=\"black\" points=\"50.5,-343.056 52.7501,-348.056 50.5,-345.556 50.5001,-348.056 50.5001,-348.056 50.5001,-348.056 50.5,-345.556 48.2501,-348.056 50.5,-343.056 50.5,-343.056\" stroke=\"black\"/>\n",
       "</g>\n",
       "<!-- 1 -->\n",
       "<g class=\"node\" id=\"node3\"><title>1</title>\n",
       "<path d=\"M73.3333,-78C73.3333,-78 27.6667,-78 27.6667,-78 24.8333,-78 22,-75.1667 22,-72.3333 22,-72.3333 22,-66.6667 22,-66.6667 22,-63.8333 24.8333,-61 27.6667,-61 27.6667,-61 73.3333,-61 73.3333,-61 76.1667,-61 79,-63.8333 79,-66.6667 79,-66.6667 79,-72.3333 79,-72.3333 79,-75.1667 76.1667,-78 73.3333,-78\" fill=\"none\" stroke=\"black\"/>\n",
       "<text font-family=\"Courier,monospace\" font-size=\"10.00\" text-anchor=\"start\" x=\"26\" y=\"-67\">q2,_ x ^</text>\n",
       "</g>\n",
       "<!-- 4 -->\n",
       "<g class=\"node\" id=\"node6\"><title>4</title>\n",
       "<path d=\"M91.3333,-21C91.3333,-21 9.66667,-21 9.66667,-21 6.83333,-21 4,-18.1667 4,-15.3333 4,-15.3333 4,-9.66667 4,-9.66667 4,-6.83333 6.83333,-4 9.66667,-4 9.66667,-4 91.3333,-4 91.3333,-4 94.1667,-4 97,-6.83333 97,-9.66667 97,-9.66667 97,-15.3333 97,-15.3333 97,-18.1667 94.1667,-21 91.3333,-21\" fill=\"none\" stroke=\"black\"/>\n",
       "<path d=\"M92.6667,-25C92.6667,-25 8.33333,-25 8.33333,-25 4.16667,-25 0,-20.8333 0,-16.6667 0,-16.6667 0,-8.33333 0,-8.33333 0,-4.16667 4.16667,-0 8.33333,-0 8.33333,-0 92.6667,-0 92.6667,-0 96.8333,-0 101,-4.16667 101,-8.33333 101,-8.33333 101,-16.6667 101,-16.6667 101,-20.8333 96.8333,-25 92.6667,-25\" fill=\"none\" stroke=\"black\"/>\n",
       "<text font-family=\"Courier,monospace\" font-size=\"10.00\" text-anchor=\"start\" x=\"8\" y=\"-10\">ACCEPT,_ x _ ^</text>\n",
       "</g>\n",
       "<!-- 1&#45;&gt;4 -->\n",
       "<g class=\"edge\" id=\"edge4\"><title>1-&gt;4</title>\n",
       "<path d=\"M50.5,-60.8525C50.5,-53.0103 50.5,-40.556 50.5,-30.388\" fill=\"none\" stroke=\"black\"/>\n",
       "<polygon fill=\"black\" points=\"50.5,-25.3158 52.7501,-30.3157 50.5,-27.8158 50.5001,-30.3158 50.5001,-30.3158 50.5001,-30.3158 50.5,-27.8158 48.2501,-30.3158 50.5,-25.3158 50.5,-25.3158\" stroke=\"black\"/>\n",
       "</g>\n",
       "<!-- 2 -->\n",
       "<g class=\"node\" id=\"node4\"><title>2</title>\n",
       "<path d=\"M73.3333,-131C73.3333,-131 27.6667,-131 27.6667,-131 24.8333,-131 22,-128.167 22,-125.333 22,-125.333 22,-119.667 22,-119.667 22,-116.833 24.8333,-114 27.6667,-114 27.6667,-114 73.3333,-114 73.3333,-114 76.1667,-114 79,-116.833 79,-119.667 79,-119.667 79,-125.333 79,-125.333 79,-128.167 76.1667,-131 73.3333,-131\" fill=\"none\" stroke=\"black\"/>\n",
       "<text font-family=\"Courier,monospace\" font-size=\"10.00\" text-anchor=\"start\" x=\"26\" y=\"-120\">q2,_ [x]</text>\n",
       "</g>\n",
       "<!-- 2&#45;&gt;1 -->\n",
       "<g class=\"edge\" id=\"edge2\"><title>2-&gt;1</title>\n",
       "<path d=\"M50.5,-113.975C50.5,-105.914 50.5,-92.9787 50.5,-83.3099\" fill=\"none\" stroke=\"black\"/>\n",
       "<polygon fill=\"black\" points=\"50.5,-78.0561 52.7501,-83.0561 50.5,-80.5561 50.5001,-83.0561 50.5001,-83.0561 50.5001,-83.0561 50.5,-80.5561 48.2501,-83.0561 50.5,-78.0561 50.5,-78.0561\" stroke=\"black\"/>\n",
       "</g>\n",
       "<!-- 3 -->\n",
       "<g class=\"node\" id=\"node5\"><title>3</title>\n",
       "<path d=\"M73.3333,-237C73.3333,-237 27.6667,-237 27.6667,-237 24.8333,-237 22,-234.167 22,-231.333 22,-231.333 22,-225.667 22,-225.667 22,-222.833 24.8333,-220 27.6667,-220 27.6667,-220 73.3333,-220 73.3333,-220 76.1667,-220 79,-222.833 79,-225.667 79,-225.667 79,-231.333 79,-231.333 79,-234.167 76.1667,-237 73.3333,-237\" fill=\"none\" stroke=\"black\"/>\n",
       "<text font-family=\"Courier,monospace\" font-size=\"10.00\" text-anchor=\"start\" x=\"26\" y=\"-226\">q5,_ [x]</text>\n",
       "</g>\n",
       "<!-- 7 -->\n",
       "<g class=\"node\" id=\"node9\"><title>7</title>\n",
       "<path d=\"M73.3333,-184C73.3333,-184 27.6667,-184 27.6667,-184 24.8333,-184 22,-181.167 22,-178.333 22,-178.333 22,-172.667 22,-172.667 22,-169.833 24.8333,-167 27.6667,-167 27.6667,-167 73.3333,-167 73.3333,-167 76.1667,-167 79,-169.833 79,-172.667 79,-172.667 79,-178.333 79,-178.333 79,-181.167 76.1667,-184 73.3333,-184\" fill=\"none\" stroke=\"black\"/>\n",
       "<text font-family=\"Courier,monospace\" font-size=\"10.00\" text-anchor=\"start\" x=\"26\" y=\"-173\">q5,[_] x</text>\n",
       "</g>\n",
       "<!-- 3&#45;&gt;7 -->\n",
       "<g class=\"edge\" id=\"edge6\"><title>3-&gt;7</title>\n",
       "<path d=\"M50.5,-219.975C50.5,-211.914 50.5,-198.979 50.5,-189.31\" fill=\"none\" stroke=\"black\"/>\n",
       "<polygon fill=\"black\" points=\"50.5,-184.056 52.7501,-189.056 50.5,-186.556 50.5001,-189.056 50.5001,-189.056 50.5001,-189.056 50.5,-186.556 48.2501,-189.056 50.5,-184.056 50.5,-184.056\" stroke=\"black\"/>\n",
       "</g>\n",
       "<!-- 6 -->\n",
       "<g class=\"node\" id=\"node8\"><title>6</title>\n",
       "<path d=\"M73.3333,-290C73.3333,-290 27.6667,-290 27.6667,-290 24.8333,-290 22,-287.167 22,-284.333 22,-284.333 22,-278.667 22,-278.667 22,-275.833 24.8333,-273 27.6667,-273 27.6667,-273 73.3333,-273 73.3333,-273 76.1667,-273 79,-275.833 79,-278.667 79,-278.667 79,-284.333 79,-284.333 79,-287.167 76.1667,-290 73.3333,-290\" fill=\"none\" stroke=\"black\"/>\n",
       "<text font-family=\"Courier,monospace\" font-size=\"10.00\" text-anchor=\"start\" x=\"26\" y=\"-279\">q3,_ x ^</text>\n",
       "</g>\n",
       "<!-- 5&#45;&gt;6 -->\n",
       "<g class=\"edge\" id=\"edge3\"><title>5-&gt;6</title>\n",
       "<path d=\"M50.5,-325.975C50.5,-317.914 50.5,-304.979 50.5,-295.31\" fill=\"none\" stroke=\"black\"/>\n",
       "<polygon fill=\"black\" points=\"50.5,-290.056 52.7501,-295.056 50.5,-292.556 50.5001,-295.056 50.5001,-295.056 50.5001,-295.056 50.5,-292.556 48.2501,-295.056 50.5,-290.056 50.5,-290.056\" stroke=\"black\"/>\n",
       "</g>\n",
       "<!-- 6&#45;&gt;3 -->\n",
       "<g class=\"edge\" id=\"edge7\"><title>6-&gt;3</title>\n",
       "<path d=\"M50.5,-272.975C50.5,-264.914 50.5,-251.979 50.5,-242.31\" fill=\"none\" stroke=\"black\"/>\n",
       "<polygon fill=\"black\" points=\"50.5,-237.056 52.7501,-242.056 50.5,-239.556 50.5001,-242.056 50.5001,-242.056 50.5001,-242.056 50.5,-239.556 48.2501,-242.056 50.5,-237.056 50.5,-237.056\" stroke=\"black\"/>\n",
       "</g>\n",
       "<!-- 7&#45;&gt;2 -->\n",
       "<g class=\"edge\" id=\"edge8\"><title>7-&gt;2</title>\n",
       "<path d=\"M50.5,-166.975C50.5,-158.914 50.5,-145.979 50.5,-136.31\" fill=\"none\" stroke=\"black\"/>\n",
       "<polygon fill=\"black\" points=\"50.5,-131.056 52.7501,-136.056 50.5,-133.556 50.5001,-136.056 50.5001,-136.056 50.5001,-136.056 50.5,-133.556 48.2501,-136.056 50.5,-131.056 50.5,-131.056\" stroke=\"black\"/>\n",
       "</g>\n",
       "</g>\n",
       "</svg>"
      ],
      "text/plain": [
       "<IPython.core.display.SVG object>"
      ]
     },
     "metadata": {},
     "output_type": "display_data"
    }
   ],
   "source": [
    "run(m, \"0 0\")"
   ]
  },
  {
   "cell_type": "markdown",
   "metadata": {},
   "source": [
    "Each node shows both the state and the tape, with the head position indicated using square brackets. This run ended in the `ACCEPT` state (drawn as a double node), so the machine accepted the string."
   ]
  },
  {
   "cell_type": "code",
   "execution_count": 6,
   "metadata": {
    "collapsed": false
   },
   "outputs": [
    {
     "data": {
      "image/svg+xml": [
       "<svg height=\"274pt\" viewBox=\"0.00 0.00 113.00 274.00\" width=\"113pt\" xmlns=\"http://www.w3.org/2000/svg\" xmlns:xlink=\"http://www.w3.org/1999/xlink\">\n",
       "<g class=\"graph\" id=\"graph0\" transform=\"scale(1 1) rotate(0) translate(4 270)\">\n",
       "<title>%3</title>\n",
       "<polygon fill=\"white\" points=\"-4,4 -4,-270 109,-270 109,4 -4,4\" stroke=\"none\"/>\n",
       "<!-- START -->\n",
       "<g class=\"node\" id=\"node1\"><title>START</title>\n",
       "</g>\n",
       "<!-- 0 -->\n",
       "<g class=\"node\" id=\"node2\"><title>0</title>\n",
       "<path d=\"M81.3333,-229C81.3333,-229 23.6667,-229 23.6667,-229 20.8333,-229 18,-226.167 18,-223.333 18,-223.333 18,-217.667 18,-217.667 18,-214.833 20.8333,-212 23.6667,-212 23.6667,-212 81.3333,-212 81.3333,-212 84.1667,-212 87,-214.833 87,-217.667 87,-217.667 87,-223.333 87,-223.333 87,-226.167 84.1667,-229 81.3333,-229\" fill=\"none\" stroke=\"black\"/>\n",
       "<text font-family=\"Courier,monospace\" font-size=\"10.00\" text-anchor=\"start\" x=\"22\" y=\"-218\">q1,[0] 0 0</text>\n",
       "</g>\n",
       "<!-- START&#45;&gt;0 -->\n",
       "<g class=\"edge\" id=\"edge1\"><title>START-&gt;0</title>\n",
       "<path d=\"M52.5,-264.875C52.5,-263.268 52.5,-246.467 52.5,-234.256\" fill=\"none\" stroke=\"black\"/>\n",
       "<polygon fill=\"black\" points=\"52.5,-229.04 54.7501,-234.04 52.5,-231.54 52.5001,-234.04 52.5001,-234.04 52.5001,-234.04 52.5,-231.54 50.2501,-234.04 52.5,-229.04 52.5,-229.04\" stroke=\"black\"/>\n",
       "</g>\n",
       "<!-- 3 -->\n",
       "<g class=\"node\" id=\"node5\"><title>3</title>\n",
       "<path d=\"M81.3333,-176C81.3333,-176 23.6667,-176 23.6667,-176 20.8333,-176 18,-173.167 18,-170.333 18,-170.333 18,-164.667 18,-164.667 18,-161.833 20.8333,-159 23.6667,-159 23.6667,-159 81.3333,-159 81.3333,-159 84.1667,-159 87,-161.833 87,-164.667 87,-164.667 87,-170.333 87,-170.333 87,-173.167 84.1667,-176 81.3333,-176\" fill=\"none\" stroke=\"black\"/>\n",
       "<text font-family=\"Courier,monospace\" font-size=\"10.00\" text-anchor=\"start\" x=\"22\" y=\"-165\">q2,_ [0] 0</text>\n",
       "</g>\n",
       "<!-- 0&#45;&gt;3 -->\n",
       "<g class=\"edge\" id=\"edge3\"><title>0-&gt;3</title>\n",
       "<path d=\"M52.5,-211.975C52.5,-203.914 52.5,-190.979 52.5,-181.31\" fill=\"none\" stroke=\"black\"/>\n",
       "<polygon fill=\"black\" points=\"52.5,-176.056 54.7501,-181.056 52.5,-178.556 52.5001,-181.056 52.5001,-181.056 52.5001,-181.056 52.5,-178.556 50.2501,-181.056 52.5,-176.056 52.5,-176.056\" stroke=\"black\"/>\n",
       "</g>\n",
       "<!-- 1 -->\n",
       "<g class=\"node\" id=\"node3\"><title>1</title>\n",
       "<path d=\"M99.3333,-17C99.3333,-17 5.66667,-17 5.66667,-17 2.83333,-17 0,-14.1667 0,-11.3333 0,-11.3333 0,-5.66667 0,-5.66667 0,-2.83333 2.83333,-0 5.66667,-0 5.66667,-0 99.3333,-0 99.3333,-0 102.167,-0 105,-2.83333 105,-5.66667 105,-5.66667 105,-11.3333 105,-11.3333 105,-14.1667 102.167,-17 99.3333,-17\" fill=\"none\" stroke=\"black\"/>\n",
       "<text font-family=\"Courier,monospace\" font-size=\"10.00\" text-anchor=\"start\" x=\"4\" y=\"-6\">REJECT,_ x 0 _ ^</text>\n",
       "</g>\n",
       "<!-- 2 -->\n",
       "<g class=\"node\" id=\"node4\"><title>2</title>\n",
       "<path d=\"M81.3333,-123C81.3333,-123 23.6667,-123 23.6667,-123 20.8333,-123 18,-120.167 18,-117.333 18,-117.333 18,-111.667 18,-111.667 18,-108.833 20.8333,-106 23.6667,-106 23.6667,-106 81.3333,-106 81.3333,-106 84.1667,-106 87,-108.833 87,-111.667 87,-111.667 87,-117.333 87,-117.333 87,-120.167 84.1667,-123 81.3333,-123\" fill=\"none\" stroke=\"black\"/>\n",
       "<text font-family=\"Courier,monospace\" font-size=\"10.00\" text-anchor=\"start\" x=\"22\" y=\"-112\">q3,_ x [0]</text>\n",
       "</g>\n",
       "<!-- 4 -->\n",
       "<g class=\"node\" id=\"node6\"><title>4</title>\n",
       "<path d=\"M81.3333,-70C81.3333,-70 23.6667,-70 23.6667,-70 20.8333,-70 18,-67.1667 18,-64.3333 18,-64.3333 18,-58.6667 18,-58.6667 18,-55.8333 20.8333,-53 23.6667,-53 23.6667,-53 81.3333,-53 81.3333,-53 84.1667,-53 87,-55.8333 87,-58.6667 87,-58.6667 87,-64.3333 87,-64.3333 87,-67.1667 84.1667,-70 81.3333,-70\" fill=\"none\" stroke=\"black\"/>\n",
       "<text font-family=\"Courier,monospace\" font-size=\"10.00\" text-anchor=\"start\" x=\"22\" y=\"-59\">q4,_ x 0 ^</text>\n",
       "</g>\n",
       "<!-- 2&#45;&gt;4 -->\n",
       "<g class=\"edge\" id=\"edge2\"><title>2-&gt;4</title>\n",
       "<path d=\"M52.5,-105.975C52.5,-97.9143 52.5,-84.9787 52.5,-75.3099\" fill=\"none\" stroke=\"black\"/>\n",
       "<polygon fill=\"black\" points=\"52.5,-70.0561 54.7501,-75.0561 52.5,-72.5561 52.5001,-75.0561 52.5001,-75.0561 52.5001,-75.0561 52.5,-72.5561 50.2501,-75.0561 52.5,-70.0561 52.5,-70.0561\" stroke=\"black\"/>\n",
       "</g>\n",
       "<!-- 3&#45;&gt;2 -->\n",
       "<g class=\"edge\" id=\"edge5\"><title>3-&gt;2</title>\n",
       "<path d=\"M52.5,-158.975C52.5,-150.914 52.5,-137.979 52.5,-128.31\" fill=\"none\" stroke=\"black\"/>\n",
       "<polygon fill=\"black\" points=\"52.5,-123.056 54.7501,-128.056 52.5,-125.556 52.5001,-128.056 52.5001,-128.056 52.5001,-128.056 52.5,-125.556 50.2501,-128.056 52.5,-123.056 52.5,-123.056\" stroke=\"black\"/>\n",
       "</g>\n",
       "<!-- 4&#45;&gt;1 -->\n",
       "<g class=\"edge\" id=\"edge4\"><title>4-&gt;1</title>\n",
       "<path d=\"M52.5,-52.9748C52.5,-44.9143 52.5,-31.9787 52.5,-22.3099\" fill=\"none\" stroke=\"black\"/>\n",
       "<polygon fill=\"black\" points=\"52.5,-17.0561 54.7501,-22.0561 52.5,-19.5561 52.5001,-22.0561 52.5001,-22.0561 52.5001,-22.0561 52.5,-19.5561 50.2501,-22.0561 52.5,-17.0561 52.5,-17.0561\" stroke=\"black\"/>\n",
       "</g>\n",
       "</g>\n",
       "</svg>"
      ],
      "text/plain": [
       "<IPython.core.display.SVG object>"
      ]
     },
     "metadata": {},
     "output_type": "display_data"
    }
   ],
   "source": [
    "run(m, \"0 0 0\")"
   ]
  },
  {
   "cell_type": "markdown",
   "metadata": {},
   "source": [
    "This run ended in the `REJECT` state, so the machine rejected the string."
   ]
  },
  {
   "cell_type": "markdown",
   "metadata": {},
   "source": [
    "It's possible, of course, for a run of a Turing machine to go on forever, so the `run` function will give up after a certain number of steps. You can control that limit using the `steps` option:"
   ]
  },
  {
   "cell_type": "code",
   "execution_count": 7,
   "metadata": {
    "collapsed": false
   },
   "outputs": [
    {
     "data": {
      "image/svg+xml": [
       "<svg height=\"364pt\" viewBox=\"0.00 0.00 137.00 364.00\" width=\"137pt\" xmlns=\"http://www.w3.org/2000/svg\" xmlns:xlink=\"http://www.w3.org/1999/xlink\">\n",
       "<g class=\"graph\" id=\"graph0\" transform=\"scale(1 1) rotate(0) translate(4 360)\">\n",
       "<title>%3</title>\n",
       "<polygon fill=\"white\" points=\"-4,4 -4,-360 133,-360 133,4 -4,4\" stroke=\"none\"/>\n",
       "<!-- START -->\n",
       "<g class=\"node\" id=\"node1\"><title>START</title>\n",
       "</g>\n",
       "<!-- 5 -->\n",
       "<g class=\"node\" id=\"node7\"><title>5</title>\n",
       "<path d=\"M123.333,-319C123.333,-319 5.66667,-319 5.66667,-319 2.83333,-319 0,-316.167 0,-313.333 0,-313.333 0,-307.667 0,-307.667 0,-304.833 2.83333,-302 5.66667,-302 5.66667,-302 123.333,-302 123.333,-302 126.167,-302 129,-304.833 129,-307.667 129,-307.667 129,-313.333 129,-313.333 129,-316.167 126.167,-319 123.333,-319\" fill=\"none\" stroke=\"black\"/>\n",
       "<text font-family=\"Courier,monospace\" font-size=\"10.00\" text-anchor=\"start\" x=\"4\" y=\"-308\">q1,[0] 0 0 0 0 0 0 0</text>\n",
       "</g>\n",
       "<!-- START&#45;&gt;5 -->\n",
       "<g class=\"edge\" id=\"edge1\"><title>START-&gt;5</title>\n",
       "<path d=\"M64.5,-354.875C64.5,-353.268 64.5,-336.467 64.5,-324.256\" fill=\"none\" stroke=\"black\"/>\n",
       "<polygon fill=\"black\" points=\"64.5,-319.04 66.7501,-324.04 64.5,-321.54 64.5001,-324.04 64.5001,-324.04 64.5001,-324.04 64.5,-321.54 62.2501,-324.04 64.5,-319.04 64.5,-319.04\" stroke=\"black\"/>\n",
       "</g>\n",
       "<!-- 0 -->\n",
       "<g class=\"node\" id=\"node2\"><title>0</title>\n",
       "<path d=\"M123.333,-54C123.333,-54 5.66667,-54 5.66667,-54 2.83333,-54 0,-51.1667 0,-48.3333 0,-48.3333 0,-42.6667 0,-42.6667 0,-39.8333 2.83333,-37 5.66667,-37 5.66667,-37 123.333,-37 123.333,-37 126.167,-37 129,-39.8333 129,-42.6667 129,-42.6667 129,-48.3333 129,-48.3333 129,-51.1667 126.167,-54 123.333,-54\" fill=\"none\" stroke=\"black\"/>\n",
       "<text font-family=\"Courier,monospace\" font-size=\"10.00\" text-anchor=\"start\" x=\"4\" y=\"-43\">q4,_ x 0 x 0 [0] 0 0</text>\n",
       "</g>\n",
       "<!-- DOTS_0 -->\n",
       "<g class=\"node\" id=\"node8\"><title>DOTS_0</title>\n",
       "</g>\n",
       "<!-- 0&#45;&gt;DOTS_0 -->\n",
       "<g class=\"edge\" id=\"edge7\"><title>0-&gt;DOTS_0</title>\n",
       "<path d=\"M64.5,-36.9229C64.5,-24.8493 64.5,-2.4555 64.5,-1.06768\" fill=\"none\" stroke=\"black\" stroke-dasharray=\"1,5\"/>\n",
       "</g>\n",
       "<!-- 1 -->\n",
       "<g class=\"node\" id=\"node3\"><title>1</title>\n",
       "<path d=\"M123.333,-213C123.333,-213 5.66667,-213 5.66667,-213 2.83333,-213 0,-210.167 0,-207.333 0,-207.333 0,-201.667 0,-201.667 0,-198.833 2.83333,-196 5.66667,-196 5.66667,-196 123.333,-196 123.333,-196 126.167,-196 129,-198.833 129,-201.667 129,-201.667 129,-207.333 129,-207.333 129,-210.167 126.167,-213 123.333,-213\" fill=\"none\" stroke=\"black\"/>\n",
       "<text font-family=\"Courier,monospace\" font-size=\"10.00\" text-anchor=\"start\" x=\"4\" y=\"-202\">q3,_ x [0] 0 0 0 0 0</text>\n",
       "</g>\n",
       "<!-- 3 -->\n",
       "<g class=\"node\" id=\"node5\"><title>3</title>\n",
       "<path d=\"M123.333,-160C123.333,-160 5.66667,-160 5.66667,-160 2.83333,-160 0,-157.167 0,-154.333 0,-154.333 0,-148.667 0,-148.667 0,-145.833 2.83333,-143 5.66667,-143 5.66667,-143 123.333,-143 123.333,-143 126.167,-143 129,-145.833 129,-148.667 129,-148.667 129,-154.333 129,-154.333 129,-157.167 126.167,-160 123.333,-160\" fill=\"none\" stroke=\"black\"/>\n",
       "<text font-family=\"Courier,monospace\" font-size=\"10.00\" text-anchor=\"start\" x=\"4\" y=\"-149\">q4,_ x 0 [0] 0 0 0 0</text>\n",
       "</g>\n",
       "<!-- 1&#45;&gt;3 -->\n",
       "<g class=\"edge\" id=\"edge6\"><title>1-&gt;3</title>\n",
       "<path d=\"M64.5,-195.975C64.5,-187.914 64.5,-174.979 64.5,-165.31\" fill=\"none\" stroke=\"black\"/>\n",
       "<polygon fill=\"black\" points=\"64.5,-160.056 66.7501,-165.056 64.5,-162.556 64.5001,-165.056 64.5001,-165.056 64.5001,-165.056 64.5,-162.556 62.2501,-165.056 64.5,-160.056 64.5,-160.056\" stroke=\"black\"/>\n",
       "</g>\n",
       "<!-- 2 -->\n",
       "<g class=\"node\" id=\"node4\"><title>2</title>\n",
       "<path d=\"M123.333,-107C123.333,-107 5.66667,-107 5.66667,-107 2.83333,-107 0,-104.167 0,-101.333 0,-101.333 0,-95.6667 0,-95.6667 0,-92.8333 2.83333,-90 5.66667,-90 5.66667,-90 123.333,-90 123.333,-90 126.167,-90 129,-92.8333 129,-95.6667 129,-95.6667 129,-101.333 129,-101.333 129,-104.167 126.167,-107 123.333,-107\" fill=\"none\" stroke=\"black\"/>\n",
       "<text font-family=\"Courier,monospace\" font-size=\"10.00\" text-anchor=\"start\" x=\"4\" y=\"-96\">q3,_ x 0 x [0] 0 0 0</text>\n",
       "</g>\n",
       "<!-- 2&#45;&gt;0 -->\n",
       "<g class=\"edge\" id=\"edge5\"><title>2-&gt;0</title>\n",
       "<path d=\"M64.5,-89.9748C64.5,-81.9143 64.5,-68.9787 64.5,-59.3099\" fill=\"none\" stroke=\"black\"/>\n",
       "<polygon fill=\"black\" points=\"64.5,-54.0561 66.7501,-59.0561 64.5,-56.5561 64.5001,-59.0561 64.5001,-59.0561 64.5001,-59.0561 64.5,-56.5561 62.2501,-59.0561 64.5,-54.0561 64.5,-54.0561\" stroke=\"black\"/>\n",
       "</g>\n",
       "<!-- 3&#45;&gt;2 -->\n",
       "<g class=\"edge\" id=\"edge4\"><title>3-&gt;2</title>\n",
       "<path d=\"M64.5,-142.975C64.5,-134.914 64.5,-121.979 64.5,-112.31\" fill=\"none\" stroke=\"black\"/>\n",
       "<polygon fill=\"black\" points=\"64.5,-107.056 66.7501,-112.056 64.5,-109.556 64.5001,-112.056 64.5001,-112.056 64.5001,-112.056 64.5,-109.556 62.2501,-112.056 64.5,-107.056 64.5,-107.056\" stroke=\"black\"/>\n",
       "</g>\n",
       "<!-- 4 -->\n",
       "<g class=\"node\" id=\"node6\"><title>4</title>\n",
       "<path d=\"M123.333,-266C123.333,-266 5.66667,-266 5.66667,-266 2.83333,-266 0,-263.167 0,-260.333 0,-260.333 0,-254.667 0,-254.667 0,-251.833 2.83333,-249 5.66667,-249 5.66667,-249 123.333,-249 123.333,-249 126.167,-249 129,-251.833 129,-254.667 129,-254.667 129,-260.333 129,-260.333 129,-263.167 126.167,-266 123.333,-266\" fill=\"none\" stroke=\"black\"/>\n",
       "<text font-family=\"Courier,monospace\" font-size=\"10.00\" text-anchor=\"start\" x=\"4\" y=\"-255\">q2,_ [0] 0 0 0 0 0 0</text>\n",
       "</g>\n",
       "<!-- 4&#45;&gt;1 -->\n",
       "<g class=\"edge\" id=\"edge2\"><title>4-&gt;1</title>\n",
       "<path d=\"M64.5,-248.975C64.5,-240.914 64.5,-227.979 64.5,-218.31\" fill=\"none\" stroke=\"black\"/>\n",
       "<polygon fill=\"black\" points=\"64.5,-213.056 66.7501,-218.056 64.5,-215.556 64.5001,-218.056 64.5001,-218.056 64.5001,-218.056 64.5,-215.556 62.2501,-218.056 64.5,-213.056 64.5,-213.056\" stroke=\"black\"/>\n",
       "</g>\n",
       "<!-- 5&#45;&gt;4 -->\n",
       "<g class=\"edge\" id=\"edge3\"><title>5-&gt;4</title>\n",
       "<path d=\"M64.5,-301.975C64.5,-293.914 64.5,-280.979 64.5,-271.31\" fill=\"none\" stroke=\"black\"/>\n",
       "<polygon fill=\"black\" points=\"64.5,-266.056 66.7501,-271.056 64.5,-268.556 64.5001,-271.056 64.5001,-271.056 64.5001,-271.056 64.5,-268.556 62.2501,-271.056 64.5,-266.056 64.5,-266.056\" stroke=\"black\"/>\n",
       "</g>\n",
       "</g>\n",
       "</svg>"
      ],
      "text/plain": [
       "<IPython.core.display.SVG object>"
      ]
     },
     "metadata": {},
     "output_type": "display_data"
    }
   ],
   "source": [
    "run(m, \"0 0 0 0 0 0 0 0\", steps=5)"
   ]
  },
  {
   "cell_type": "markdown",
   "metadata": {},
   "source": [
    "The dotted edge indicates that the run continues but is not shown. Be careful -- in this case you don't know whether the machine would eventually accept the string."
   ]
  }
 ],
 "metadata": {
  "kernelspec": {
   "display_name": "Python 2",
   "language": "python",
   "name": "python2"
  },
  "language_info": {
   "codemirror_mode": {
    "name": "ipython",
    "version": 2
   },
   "file_extension": ".py",
   "mimetype": "text/x-python",
   "name": "python",
   "nbconvert_exporter": "python",
   "pygments_lexer": "ipython2",
   "version": "2.7.10"
  }
 },
 "nbformat": 4,
 "nbformat_minor": 0
}
