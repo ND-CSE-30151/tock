{
 "cells": [
  {
   "cell_type": "code",
   "execution_count": 1,
   "metadata": {
    "collapsed": true
   },
   "outputs": [],
   "source": [
    "from tock import *"
   ]
  },
  {
   "cell_type": "markdown",
   "metadata": {},
   "source": [
    "# Turing machines\n",
    "\n",
    "Turing machines (TMs) have a finite state and an input, but the input is now a `tape` that machine can move in either direction on and also write on. By default, TMs are deterministic. Although Sipser never actually writes the transition function of a TM as a table, it's a perfectly reasonable thing to do. However, we use a different notation for moves. The machine in Example 3.7 would be:"
   ]
  },
  {
   "cell_type": "code",
   "execution_count": 2,
   "metadata": {
    "collapsed": false
   },
   "outputs": [
    {
     "data": {
      "text/plain": [
       "(False, True)"
      ]
     },
     "execution_count": 2,
     "metadata": {},
     "output_type": "execute_result"
    }
   ],
   "source": [
    "m = read_csv(\"examples/sipser-3-7.csv\")\n",
    "m.is_pushdown(), m.is_deterministic()"
   ]
  },
  {
   "cell_type": "code",
   "execution_count": 3,
   "metadata": {
    "collapsed": false
   },
   "outputs": [
    {
     "data": {
      "text/html": [
       "<table style=\"font-family: Courier, monospace;\">\n",
       "  <tr><td></td><th>0</th><th>_</th><th>x</th></tr>\n",
       "  <tr><th>&gt;q1</th><td>q2,_ ^</td><td>REJECT,_ ^</td><td>REJECT,x ^</td></tr>\n",
       "  <tr><th>q2</th><td>q3,x ^</td><td>ACCEPT,_ ^</td><td>q2,x ^</td></tr>\n",
       "  <tr><th>q3</th><td>q4,0 ^</td><td>q5,^ _</td><td>q3,x ^</td></tr>\n",
       "  <tr><th>q4</th><td>q3,x ^</td><td>REJECT,_ ^</td><td>q4,x ^</td></tr>\n",
       "  <tr><th>q5</th><td>q5,^ 0</td><td>q2,_ ^</td><td>q5,^ x</td></tr>\n",
       "</table>\n"
      ],
      "text/plain": [
       "<IPython.core.display.HTML object>"
      ]
     },
     "execution_count": 3,
     "metadata": {},
     "output_type": "execute_result"
    }
   ],
   "source": [
    "display_table(m)"
   ]
  },
  {
   "cell_type": "markdown",
   "metadata": {},
   "source": [
    "As always, the first column lists the possible states, and the start state is marked with a `>`. But there are no final states. Although some books mark final states in Turing machines, Sipser does not. Instead, the accept state is always named `ACCEPT`.\n",
    "\n",
    "The first row lists possible tape symbols. Use `_` for the blank symbol.\n",
    "\n",
    "In the cells, Sipser uses `L` and `R` for moving left and right. We use a different notation: use `^` to indicate the head position. For example, if the machine is in state `q1` and the current tape symbol is `0`, then the machine changes to state `q2`, erases (writes `_`), and moves to the right. If the machine is in state `q5` and the current tape symbol is `0`, then the machine rewrites the `0` and moves left.\n",
    "\n",
    "In the second example (state `q5` and symbol `0`), Sipser would have allowed you to write just `R` for \"don't write anything and move right\". We don't allow this shorthand (sorry). Instead, you have to rewrite the same symbol that was read.\n",
    "\n",
    "Here's the state transition diagram, which might or might not be more intuitive:"
   ]
  },
  {
   "cell_type": "code",
   "execution_count": 4,
   "metadata": {
    "collapsed": false
   },
   "outputs": [
    {
     "data": {
      "image/svg+xml": [
       "<svg height=\"202pt\" viewBox=\"0.00 0.00 528.00 201.50\" width=\"528pt\" xmlns=\"http://www.w3.org/2000/svg\" xmlns:xlink=\"http://www.w3.org/1999/xlink\">\n",
       "<g class=\"graph\" id=\"graph0\" transform=\"scale(1 1) rotate(0) translate(4 197.5)\">\n",
       "<title>%3</title>\n",
       "<polygon fill=\"white\" points=\"-4,4 -4,-197.5 524,-197.5 524,4 -4,4\" stroke=\"none\"/>\n",
       "<!-- START -->\n",
       "<g class=\"node\" id=\"node1\"><title>START</title>\n",
       "</g>\n",
       "<!-- 2 -->\n",
       "<g class=\"node\" id=\"node4\"><title>2</title>\n",
       "<path d=\"M53.3333,-143C53.3333,-143 43.6667,-143 43.6667,-143 40.8333,-143 38,-140.167 38,-137.333 38,-137.333 38,-131.667 38,-131.667 38,-128.833 40.8333,-126 43.6667,-126 43.6667,-126 53.3333,-126 53.3333,-126 56.1667,-126 59,-128.833 59,-131.667 59,-131.667 59,-137.333 59,-137.333 59,-140.167 56.1667,-143 53.3333,-143\" fill=\"none\" stroke=\"black\"/>\n",
       "<text font-family=\"Courier,monospace\" font-size=\"10.00\" text-anchor=\"middle\" x=\"48.5\" y=\"-132\">q1</text>\n",
       "</g>\n",
       "<!-- START&#45;&gt;2 -->\n",
       "<g class=\"edge\" id=\"edge1\"><title>START-&gt;2</title>\n",
       "<path d=\"M1.13339,-134.5C2.79277,-134.5 19.5956,-134.5 32.5011,-134.5\" fill=\"none\" stroke=\"black\"/>\n",
       "<polygon fill=\"black\" points=\"37.7379,-134.5 32.738,-136.75 35.2379,-134.5 32.7379,-134.5 32.7379,-134.5 32.7379,-134.5 35.2379,-134.5 32.7379,-132.25 37.7379,-134.5 37.7379,-134.5\" stroke=\"black\"/>\n",
       "</g>\n",
       "<!-- 0 -->\n",
       "<g class=\"node\" id=\"node2\"><title>0</title>\n",
       "<path d=\"M279.333,-127C279.333,-127 245.667,-127 245.667,-127 242.833,-127 240,-124.167 240,-121.333 240,-121.333 240,-115.667 240,-115.667 240,-112.833 242.833,-110 245.667,-110 245.667,-110 279.333,-110 279.333,-110 282.167,-110 285,-112.833 285,-115.667 285,-115.667 285,-121.333 285,-121.333 285,-124.167 282.167,-127 279.333,-127\" fill=\"none\" stroke=\"black\"/>\n",
       "<text font-family=\"Courier,monospace\" font-size=\"10.00\" text-anchor=\"middle\" x=\"262.5\" y=\"-116\">ACCEPT</text>\n",
       "</g>\n",
       "<!-- 1 -->\n",
       "<g class=\"node\" id=\"node3\"><title>1</title>\n",
       "<path d=\"M514.333,-146C514.333,-146 480.667,-146 480.667,-146 477.833,-146 475,-143.167 475,-140.333 475,-140.333 475,-134.667 475,-134.667 475,-131.833 477.833,-129 480.667,-129 480.667,-129 514.333,-129 514.333,-129 517.167,-129 520,-131.833 520,-134.667 520,-134.667 520,-140.333 520,-140.333 520,-143.167 517.167,-146 514.333,-146\" fill=\"none\" stroke=\"black\"/>\n",
       "<text font-family=\"Courier,monospace\" font-size=\"10.00\" text-anchor=\"middle\" x=\"497.5\" y=\"-135\">REJECT</text>\n",
       "</g>\n",
       "<!-- 2&#45;&gt;1 -->\n",
       "<g class=\"edge\" id=\"edge6\"><title>2-&gt;1</title>\n",
       "<path d=\"M59.0625,-139.289C76.4207,-147.526 114.472,-163.5 148.5,-163.5 148.5,-163.5 148.5,-163.5 381,-163.5 412.086,-163.5 446.755,-154.425 469.923,-146.998\" fill=\"none\" stroke=\"black\"/>\n",
       "<polygon fill=\"black\" points=\"474.687,-145.442 470.632,-149.133 472.31,-146.218 469.934,-146.995 469.934,-146.995 469.934,-146.995 472.31,-146.218 469.235,-144.856 474.687,-145.442 474.687,-145.442\" stroke=\"black\"/>\n",
       "<text font-family=\"Courier,monospace\" font-size=\"9.00\" text-anchor=\"start\" x=\"243.5\" y=\"-183.3\">_ → _ ^</text>\n",
       "<text font-family=\"Courier,monospace\" font-size=\"9.00\" text-anchor=\"start\" x=\"243.5\" y=\"-169.3\">x → x ^</text>\n",
       "</g>\n",
       "<!-- 3 -->\n",
       "<g class=\"node\" id=\"node5\"><title>3</title>\n",
       "<path d=\"M154.333,-87C154.333,-87 144.667,-87 144.667,-87 141.833,-87 139,-84.1667 139,-81.3333 139,-81.3333 139,-75.6667 139,-75.6667 139,-72.8333 141.833,-70 144.667,-70 144.667,-70 154.333,-70 154.333,-70 157.167,-70 160,-72.8333 160,-75.6667 160,-75.6667 160,-81.3333 160,-81.3333 160,-84.1667 157.167,-87 154.333,-87\" fill=\"none\" stroke=\"black\"/>\n",
       "<text font-family=\"Courier,monospace\" font-size=\"10.00\" text-anchor=\"middle\" x=\"149.5\" y=\"-76\">q2</text>\n",
       "</g>\n",
       "<!-- 2&#45;&gt;3 -->\n",
       "<g class=\"edge\" id=\"edge12\"><title>2-&gt;3</title>\n",
       "<path d=\"M59.3544,-128.926C77.0129,-118.937 114.097,-97.9602 134.428,-86.4597\" fill=\"none\" stroke=\"black\"/>\n",
       "<polygon fill=\"black\" points=\"138.977,-83.887 135.732,-88.3072 136.801,-85.1179 134.625,-86.3488 134.625,-86.3488 134.625,-86.3488 136.801,-85.1179 133.517,-84.3904 138.977,-83.887 138.977,-83.887\" stroke=\"black\"/>\n",
       "<text font-family=\"Courier,monospace\" font-size=\"9.00\" text-anchor=\"start\" x=\"80\" y=\"-124.3\">0 → _ ^</text>\n",
       "</g>\n",
       "<!-- 3&#45;&gt;0 -->\n",
       "<g class=\"edge\" id=\"edge13\"><title>3-&gt;0</title>\n",
       "<path d=\"M160.038,-83.381C165.27,-85.9629 171.912,-89.0883 178,-91.5 196.742,-98.9242 218.416,-105.887 234.984,-110.881\" fill=\"none\" stroke=\"black\"/>\n",
       "<polygon fill=\"black\" points=\"239.953,-112.366 234.518,-113.09 237.558,-111.651 235.163,-110.935 235.163,-110.935 235.163,-110.935 237.558,-111.651 235.807,-108.779 239.953,-112.366 239.953,-112.366\" stroke=\"black\"/>\n",
       "<text font-family=\"Courier,monospace\" font-size=\"9.00\" text-anchor=\"start\" x=\"181\" y=\"-113.3\">_ → _ ^</text>\n",
       "</g>\n",
       "<!-- 3&#45;&gt;3 -->\n",
       "<g class=\"edge\" id=\"edge3\"><title>3-&gt;3</title>\n",
       "<path d=\"M142.05,-87.1857C137.935,-95.6739 140.418,-105 149.5,-105 156.879,-105 159.902,-98.8433 158.569,-91.9817\" fill=\"none\" stroke=\"black\"/>\n",
       "<polygon fill=\"black\" points=\"156.95,-87.1857 160.681,-91.2034 157.75,-89.5544 158.549,-91.9231 158.549,-91.9231 158.549,-91.9231 157.75,-89.5544 156.417,-92.6427 156.95,-87.1857 156.95,-87.1857\" stroke=\"black\"/>\n",
       "<text font-family=\"Courier,monospace\" font-size=\"9.00\" text-anchor=\"start\" x=\"130.5\" y=\"-110.8\">x → x ^</text>\n",
       "</g>\n",
       "<!-- 4 -->\n",
       "<g class=\"node\" id=\"node6\"><title>4</title>\n",
       "<path d=\"M267.333,-58C267.333,-58 257.667,-58 257.667,-58 254.833,-58 252,-55.1667 252,-52.3333 252,-52.3333 252,-46.6667 252,-46.6667 252,-43.8333 254.833,-41 257.667,-41 257.667,-41 267.333,-41 267.333,-41 270.167,-41 273,-43.8333 273,-46.6667 273,-46.6667 273,-52.3333 273,-52.3333 273,-55.1667 270.167,-58 267.333,-58\" fill=\"none\" stroke=\"black\"/>\n",
       "<text font-family=\"Courier,monospace\" font-size=\"10.00\" text-anchor=\"middle\" x=\"262.5\" y=\"-47\">q3</text>\n",
       "</g>\n",
       "<!-- 3&#45;&gt;4 -->\n",
       "<g class=\"edge\" id=\"edge2\"><title>3-&gt;4</title>\n",
       "<path d=\"M160.351,-75.9264C179.9,-70.8188 223.697,-59.3764 246.717,-53.3621\" fill=\"none\" stroke=\"black\"/>\n",
       "<polygon fill=\"black\" points=\"251.83,-52.0264 247.561,-55.4673 249.411,-52.6584 246.992,-53.2903 246.992,-53.2903 246.992,-53.2903 249.411,-52.6584 246.424,-51.1134 251.83,-52.0264 251.83,-52.0264\" stroke=\"black\"/>\n",
       "<text font-family=\"Courier,monospace\" font-size=\"9.00\" text-anchor=\"start\" x=\"181\" y=\"-77.3\">0 → x ^</text>\n",
       "</g>\n",
       "<!-- 4&#45;&gt;4 -->\n",
       "<g class=\"edge\" id=\"edge8\"><title>4-&gt;4</title>\n",
       "<path d=\"M253.262,-58.1857C248.159,-66.6739 251.238,-76 262.5,-76 271.65,-76 275.399,-69.8433 273.746,-62.9817\" fill=\"none\" stroke=\"black\"/>\n",
       "<polygon fill=\"black\" points=\"271.738,-58.1857 275.744,-61.9292 272.703,-60.4918 273.669,-62.7979 273.669,-62.7979 273.669,-62.7979 272.703,-60.4918 271.593,-63.6667 271.738,-58.1857 271.738,-58.1857\" stroke=\"black\"/>\n",
       "<text font-family=\"Courier,monospace\" font-size=\"9.00\" text-anchor=\"start\" x=\"243.5\" y=\"-81.8\">x → x ^</text>\n",
       "</g>\n",
       "<!-- 5 -->\n",
       "<g class=\"node\" id=\"node7\"><title>5</title>\n",
       "<path d=\"M384.833,-101C384.833,-101 375.167,-101 375.167,-101 372.333,-101 369.5,-98.1667 369.5,-95.3333 369.5,-95.3333 369.5,-89.6667 369.5,-89.6667 369.5,-86.8333 372.333,-84 375.167,-84 375.167,-84 384.833,-84 384.833,-84 387.667,-84 390.5,-86.8333 390.5,-89.6667 390.5,-89.6667 390.5,-95.3333 390.5,-95.3333 390.5,-98.1667 387.667,-101 384.833,-101\" fill=\"none\" stroke=\"black\"/>\n",
       "<text font-family=\"Courier,monospace\" font-size=\"10.00\" text-anchor=\"middle\" x=\"380\" y=\"-90\">q4</text>\n",
       "</g>\n",
       "<!-- 4&#45;&gt;5 -->\n",
       "<g class=\"edge\" id=\"edge9\"><title>4-&gt;5</title>\n",
       "<path d=\"M270.68,-58.1029C277.934,-66.1427 289.913,-77.7452 303,-83.5 322.715,-92.1694 347.933,-93.4685 363.782,-93.255\" fill=\"none\" stroke=\"black\"/>\n",
       "<polygon fill=\"black\" points=\"369.169,-93.1188 364.228,-95.4945 366.67,-93.182 364.171,-93.2453 364.171,-93.2453 364.171,-93.2453 366.67,-93.182 364.114,-90.996 369.169,-93.1188 369.169,-93.1188\" stroke=\"black\"/>\n",
       "<text font-family=\"Courier,monospace\" font-size=\"9.00\" text-anchor=\"start\" x=\"306\" y=\"-99.3\">0 → 0 ^</text>\n",
       "</g>\n",
       "<!-- 6 -->\n",
       "<g class=\"node\" id=\"node8\"><title>6</title>\n",
       "<path d=\"M384.833,-17C384.833,-17 375.167,-17 375.167,-17 372.333,-17 369.5,-14.1667 369.5,-11.3333 369.5,-11.3333 369.5,-5.66667 369.5,-5.66667 369.5,-2.83333 372.333,-0 375.167,-0 375.167,-0 384.833,-0 384.833,-0 387.667,-0 390.5,-2.83333 390.5,-5.66667 390.5,-5.66667 390.5,-11.3333 390.5,-11.3333 390.5,-14.1667 387.667,-17 384.833,-17\" fill=\"none\" stroke=\"black\"/>\n",
       "<text font-family=\"Courier,monospace\" font-size=\"10.00\" text-anchor=\"middle\" x=\"380\" y=\"-6\">q5</text>\n",
       "</g>\n",
       "<!-- 4&#45;&gt;6 -->\n",
       "<g class=\"edge\" id=\"edge5\"><title>4-&gt;6</title>\n",
       "<path d=\"M273.263,-43.4889C281.078,-38.8813 292.44,-32.6319 303,-28.5 323.595,-20.4412 348.579,-14.5694 364.137,-11.346\" fill=\"none\" stroke=\"black\"/>\n",
       "<polygon fill=\"black\" points=\"369.417,-10.2791 364.962,-13.4749 366.966,-10.7743 364.516,-11.2695 364.516,-11.2695 364.516,-11.2695 366.966,-10.7743 364.07,-9.06408 369.417,-10.2791 369.417,-10.2791\" stroke=\"black\"/>\n",
       "<text font-family=\"Courier,monospace\" font-size=\"9.00\" text-anchor=\"start\" x=\"306\" y=\"-34.3\">_ → ^ _</text>\n",
       "</g>\n",
       "<!-- 5&#45;&gt;1 -->\n",
       "<g class=\"edge\" id=\"edge10\"><title>5-&gt;1</title>\n",
       "<path d=\"M390.847,-96.3367C408.134,-103.072 444.492,-117.237 469.693,-127.056\" fill=\"none\" stroke=\"black\"/>\n",
       "<polygon fill=\"black\" points=\"474.576,-128.958 469.1,-129.239 472.246,-128.05 469.917,-127.143 469.917,-127.143 469.917,-127.143 472.246,-128.05 470.734,-125.046 474.576,-128.958 474.576,-128.958\" stroke=\"black\"/>\n",
       "<text font-family=\"Courier,monospace\" font-size=\"9.00\" text-anchor=\"start\" x=\"416\" y=\"-128.3\">_ → _ ^</text>\n",
       "</g>\n",
       "<!-- 5&#45;&gt;4 -->\n",
       "<g class=\"edge\" id=\"edge11\"><title>5-&gt;4</title>\n",
       "<path d=\"M372.051,-83.9542C366.121,-77.275 356.986,-68.3384 347,-63.5 324.776,-52.732 295.759,-50.0678 278.436,-49.5085\" fill=\"none\" stroke=\"black\"/>\n",
       "<polygon fill=\"black\" points=\"273.037,-49.3908 278.085,-47.2504 275.536,-49.4453 278.036,-49.4998 278.036,-49.4998 278.036,-49.4998 275.536,-49.4453 277.987,-51.7493 273.037,-49.3908 273.037,-49.3908\" stroke=\"black\"/>\n",
       "<text font-family=\"Courier,monospace\" font-size=\"9.00\" text-anchor=\"start\" x=\"306\" y=\"-69.3\">0 → x ^</text>\n",
       "</g>\n",
       "<!-- 5&#45;&gt;5 -->\n",
       "<g class=\"edge\" id=\"edge14\"><title>5-&gt;5</title>\n",
       "<path d=\"M371.954,-101.186C367.509,-109.674 370.191,-119 380,-119 387.969,-119 391.234,-112.843 389.795,-105.982\" fill=\"none\" stroke=\"black\"/>\n",
       "<polygon fill=\"black\" points=\"388.046,-101.186 391.873,-105.113 388.902,-103.534 389.759,-105.883 389.759,-105.883 389.759,-105.883 388.902,-103.534 387.645,-106.654 388.046,-101.186 388.046,-101.186\" stroke=\"black\"/>\n",
       "<text font-family=\"Courier,monospace\" font-size=\"9.00\" text-anchor=\"start\" x=\"361\" y=\"-124.8\">x → x ^</text>\n",
       "</g>\n",
       "<!-- 6&#45;&gt;3 -->\n",
       "<g class=\"edge\" id=\"edge7\"><title>6-&gt;3</title>\n",
       "<path d=\"M369.22,-7.19546C346.028,-4.48082 286.184,0.288671 240,-15.5 208.838,-26.1531 178.849,-51.2567 162.727,-66.3622\" fill=\"none\" stroke=\"black\"/>\n",
       "<polygon fill=\"black\" points=\"158.935,-69.9723 161.005,-64.8951 160.745,-68.2485 162.556,-66.5248 162.556,-66.5248 162.556,-66.5248 160.745,-68.2485 164.108,-68.1545 158.935,-69.9723 158.935,-69.9723\" stroke=\"black\"/>\n",
       "<text font-family=\"Courier,monospace\" font-size=\"9.00\" text-anchor=\"start\" x=\"243.5\" y=\"-21.3\">_ → _ ^</text>\n",
       "</g>\n",
       "<!-- 6&#45;&gt;6 -->\n",
       "<g class=\"edge\" id=\"edge4\"><title>6-&gt;6</title>\n",
       "<path d=\"M371.954,-17.1857C367.509,-25.6739 370.191,-35 380,-35 387.969,-35 391.234,-28.8433 389.795,-21.9817\" fill=\"none\" stroke=\"black\"/>\n",
       "<polygon fill=\"black\" points=\"388.046,-17.1857 391.873,-21.1126 388.902,-19.5345 389.759,-21.8833 389.759,-21.8833 389.759,-21.8833 388.902,-19.5345 387.645,-22.6539 388.046,-17.1857 388.046,-17.1857\" stroke=\"black\"/>\n",
       "<text font-family=\"Courier,monospace\" font-size=\"9.00\" text-anchor=\"start\" x=\"361\" y=\"-54.8\">0 → ^ 0</text>\n",
       "<text font-family=\"Courier,monospace\" font-size=\"9.00\" text-anchor=\"start\" x=\"361\" y=\"-40.8\">x → ^ x</text>\n",
       "</g>\n",
       "</g>\n",
       "</svg>"
      ],
      "text/plain": [
       "<IPython.core.display.SVG object>"
      ]
     },
     "execution_count": 4,
     "metadata": {},
     "output_type": "execute_result"
    }
   ],
   "source": [
    "display_graph(m)"
   ]
  },
  {
   "cell_type": "markdown",
   "metadata": {},
   "source": [
    "Sipser allows a shorthand in which there are multiple symbols to the left of the arrow. For example, the transitions from `q5` to itself could be written `0,x -> L` for \"if the current symbol is either `0` or `x`, move left\". We don't allow this; instead, use two transitions.\n",
    "\n",
    "This machine recognizes the language $\\{\\texttt{0}^{2^n} \\mid n \\geq 0\\}$. Here's an example run:"
   ]
  },
  {
   "cell_type": "code",
   "execution_count": 5,
   "metadata": {
    "collapsed": false
   },
   "outputs": [
    {
     "data": {
      "image/svg+xml": [
       "<svg height=\"441pt\" viewBox=\"0.00 0.00 109.00 441.00\" width=\"109pt\" xmlns=\"http://www.w3.org/2000/svg\" xmlns:xlink=\"http://www.w3.org/1999/xlink\">\n",
       "<g class=\"graph\" id=\"graph0\" transform=\"scale(1 1) rotate(0) translate(4 437)\">\n",
       "<title>%3</title>\n",
       "<polygon fill=\"white\" points=\"-4,4 -4,-437 105,-437 105,4 -4,4\" stroke=\"none\"/>\n",
       "<!-- START -->\n",
       "<g class=\"node\" id=\"node1\"><title>START</title>\n",
       "</g>\n",
       "<!-- 0 -->\n",
       "<g class=\"node\" id=\"node2\"><title>0</title>\n",
       "<path d=\"M73.3333,-396C73.3333,-396 27.6667,-396 27.6667,-396 24.8333,-396 22,-393.167 22,-390.333 22,-390.333 22,-384.667 22,-384.667 22,-381.833 24.8333,-379 27.6667,-379 27.6667,-379 73.3333,-379 73.3333,-379 76.1667,-379 79,-381.833 79,-384.667 79,-384.667 79,-390.333 79,-390.333 79,-393.167 76.1667,-396 73.3333,-396\" fill=\"none\" stroke=\"black\"/>\n",
       "<text font-family=\"Courier,monospace\" font-size=\"10.00\" text-anchor=\"start\" x=\"26\" y=\"-385\">q1,[0] 0</text>\n",
       "</g>\n",
       "<!-- START&#45;&gt;0 -->\n",
       "<g class=\"edge\" id=\"edge1\"><title>START-&gt;0</title>\n",
       "<path d=\"M50.5,-431.875C50.5,-430.268 50.5,-413.467 50.5,-401.256\" fill=\"none\" stroke=\"black\"/>\n",
       "<polygon fill=\"black\" points=\"50.5,-396.04 52.7501,-401.04 50.5,-398.54 50.5001,-401.04 50.5001,-401.04 50.5001,-401.04 50.5,-398.54 48.2501,-401.04 50.5,-396.04 50.5,-396.04\" stroke=\"black\"/>\n",
       "</g>\n",
       "<!-- 5 -->\n",
       "<g class=\"node\" id=\"node7\"><title>5</title>\n",
       "<path d=\"M73.3333,-343C73.3333,-343 27.6667,-343 27.6667,-343 24.8333,-343 22,-340.167 22,-337.333 22,-337.333 22,-331.667 22,-331.667 22,-328.833 24.8333,-326 27.6667,-326 27.6667,-326 73.3333,-326 73.3333,-326 76.1667,-326 79,-328.833 79,-331.667 79,-331.667 79,-337.333 79,-337.333 79,-340.167 76.1667,-343 73.3333,-343\" fill=\"none\" stroke=\"black\"/>\n",
       "<text font-family=\"Courier,monospace\" font-size=\"10.00\" text-anchor=\"start\" x=\"26\" y=\"-332\">q2,_ [0]</text>\n",
       "</g>\n",
       "<!-- 0&#45;&gt;5 -->\n",
       "<g class=\"edge\" id=\"edge5\"><title>0-&gt;5</title>\n",
       "<path d=\"M50.5,-378.975C50.5,-370.914 50.5,-357.979 50.5,-348.31\" fill=\"none\" stroke=\"black\"/>\n",
       "<polygon fill=\"black\" points=\"50.5,-343.056 52.7501,-348.056 50.5,-345.556 50.5001,-348.056 50.5001,-348.056 50.5001,-348.056 50.5,-345.556 48.2501,-348.056 50.5,-343.056 50.5,-343.056\" stroke=\"black\"/>\n",
       "</g>\n",
       "<!-- 1 -->\n",
       "<g class=\"node\" id=\"node3\"><title>1</title>\n",
       "<path d=\"M73.3333,-78C73.3333,-78 27.6667,-78 27.6667,-78 24.8333,-78 22,-75.1667 22,-72.3333 22,-72.3333 22,-66.6667 22,-66.6667 22,-63.8333 24.8333,-61 27.6667,-61 27.6667,-61 73.3333,-61 73.3333,-61 76.1667,-61 79,-63.8333 79,-66.6667 79,-66.6667 79,-72.3333 79,-72.3333 79,-75.1667 76.1667,-78 73.3333,-78\" fill=\"none\" stroke=\"black\"/>\n",
       "<text font-family=\"Courier,monospace\" font-size=\"10.00\" text-anchor=\"start\" x=\"26\" y=\"-67\">q2,_ x ^</text>\n",
       "</g>\n",
       "<!-- 4 -->\n",
       "<g class=\"node\" id=\"node6\"><title>4</title>\n",
       "<path d=\"M91.3333,-21C91.3333,-21 9.66667,-21 9.66667,-21 6.83333,-21 4,-18.1667 4,-15.3333 4,-15.3333 4,-9.66667 4,-9.66667 4,-6.83333 6.83333,-4 9.66667,-4 9.66667,-4 91.3333,-4 91.3333,-4 94.1667,-4 97,-6.83333 97,-9.66667 97,-9.66667 97,-15.3333 97,-15.3333 97,-18.1667 94.1667,-21 91.3333,-21\" fill=\"none\" stroke=\"black\"/>\n",
       "<path d=\"M92.6667,-25C92.6667,-25 8.33333,-25 8.33333,-25 4.16667,-25 0,-20.8333 0,-16.6667 0,-16.6667 0,-8.33333 0,-8.33333 0,-4.16667 4.16667,-0 8.33333,-0 8.33333,-0 92.6667,-0 92.6667,-0 96.8333,-0 101,-4.16667 101,-8.33333 101,-8.33333 101,-16.6667 101,-16.6667 101,-20.8333 96.8333,-25 92.6667,-25\" fill=\"none\" stroke=\"black\"/>\n",
       "<text font-family=\"Courier,monospace\" font-size=\"10.00\" text-anchor=\"start\" x=\"8\" y=\"-10\">ACCEPT,_ x _ ^</text>\n",
       "</g>\n",
       "<!-- 1&#45;&gt;4 -->\n",
       "<g class=\"edge\" id=\"edge4\"><title>1-&gt;4</title>\n",
       "<path d=\"M50.5,-60.8525C50.5,-53.0103 50.5,-40.556 50.5,-30.388\" fill=\"none\" stroke=\"black\"/>\n",
       "<polygon fill=\"black\" points=\"50.5,-25.3158 52.7501,-30.3157 50.5,-27.8158 50.5001,-30.3158 50.5001,-30.3158 50.5001,-30.3158 50.5,-27.8158 48.2501,-30.3158 50.5,-25.3158 50.5,-25.3158\" stroke=\"black\"/>\n",
       "</g>\n",
       "<!-- 2 -->\n",
       "<g class=\"node\" id=\"node4\"><title>2</title>\n",
       "<path d=\"M73.3333,-131C73.3333,-131 27.6667,-131 27.6667,-131 24.8333,-131 22,-128.167 22,-125.333 22,-125.333 22,-119.667 22,-119.667 22,-116.833 24.8333,-114 27.6667,-114 27.6667,-114 73.3333,-114 73.3333,-114 76.1667,-114 79,-116.833 79,-119.667 79,-119.667 79,-125.333 79,-125.333 79,-128.167 76.1667,-131 73.3333,-131\" fill=\"none\" stroke=\"black\"/>\n",
       "<text font-family=\"Courier,monospace\" font-size=\"10.00\" text-anchor=\"start\" x=\"26\" y=\"-120\">q2,_ [x]</text>\n",
       "</g>\n",
       "<!-- 2&#45;&gt;1 -->\n",
       "<g class=\"edge\" id=\"edge2\"><title>2-&gt;1</title>\n",
       "<path d=\"M50.5,-113.975C50.5,-105.914 50.5,-92.9787 50.5,-83.3099\" fill=\"none\" stroke=\"black\"/>\n",
       "<polygon fill=\"black\" points=\"50.5,-78.0561 52.7501,-83.0561 50.5,-80.5561 50.5001,-83.0561 50.5001,-83.0561 50.5001,-83.0561 50.5,-80.5561 48.2501,-83.0561 50.5,-78.0561 50.5,-78.0561\" stroke=\"black\"/>\n",
       "</g>\n",
       "<!-- 3 -->\n",
       "<g class=\"node\" id=\"node5\"><title>3</title>\n",
       "<path d=\"M73.3333,-237C73.3333,-237 27.6667,-237 27.6667,-237 24.8333,-237 22,-234.167 22,-231.333 22,-231.333 22,-225.667 22,-225.667 22,-222.833 24.8333,-220 27.6667,-220 27.6667,-220 73.3333,-220 73.3333,-220 76.1667,-220 79,-222.833 79,-225.667 79,-225.667 79,-231.333 79,-231.333 79,-234.167 76.1667,-237 73.3333,-237\" fill=\"none\" stroke=\"black\"/>\n",
       "<text font-family=\"Courier,monospace\" font-size=\"10.00\" text-anchor=\"start\" x=\"26\" y=\"-226\">q5,_ [x]</text>\n",
       "</g>\n",
       "<!-- 7 -->\n",
       "<g class=\"node\" id=\"node9\"><title>7</title>\n",
       "<path d=\"M73.3333,-184C73.3333,-184 27.6667,-184 27.6667,-184 24.8333,-184 22,-181.167 22,-178.333 22,-178.333 22,-172.667 22,-172.667 22,-169.833 24.8333,-167 27.6667,-167 27.6667,-167 73.3333,-167 73.3333,-167 76.1667,-167 79,-169.833 79,-172.667 79,-172.667 79,-178.333 79,-178.333 79,-181.167 76.1667,-184 73.3333,-184\" fill=\"none\" stroke=\"black\"/>\n",
       "<text font-family=\"Courier,monospace\" font-size=\"10.00\" text-anchor=\"start\" x=\"26\" y=\"-173\">q5,[_] x</text>\n",
       "</g>\n",
       "<!-- 3&#45;&gt;7 -->\n",
       "<g class=\"edge\" id=\"edge6\"><title>3-&gt;7</title>\n",
       "<path d=\"M50.5,-219.975C50.5,-211.914 50.5,-198.979 50.5,-189.31\" fill=\"none\" stroke=\"black\"/>\n",
       "<polygon fill=\"black\" points=\"50.5,-184.056 52.7501,-189.056 50.5,-186.556 50.5001,-189.056 50.5001,-189.056 50.5001,-189.056 50.5,-186.556 48.2501,-189.056 50.5,-184.056 50.5,-184.056\" stroke=\"black\"/>\n",
       "</g>\n",
       "<!-- 6 -->\n",
       "<g class=\"node\" id=\"node8\"><title>6</title>\n",
       "<path d=\"M73.3333,-290C73.3333,-290 27.6667,-290 27.6667,-290 24.8333,-290 22,-287.167 22,-284.333 22,-284.333 22,-278.667 22,-278.667 22,-275.833 24.8333,-273 27.6667,-273 27.6667,-273 73.3333,-273 73.3333,-273 76.1667,-273 79,-275.833 79,-278.667 79,-278.667 79,-284.333 79,-284.333 79,-287.167 76.1667,-290 73.3333,-290\" fill=\"none\" stroke=\"black\"/>\n",
       "<text font-family=\"Courier,monospace\" font-size=\"10.00\" text-anchor=\"start\" x=\"26\" y=\"-279\">q3,_ x ^</text>\n",
       "</g>\n",
       "<!-- 5&#45;&gt;6 -->\n",
       "<g class=\"edge\" id=\"edge3\"><title>5-&gt;6</title>\n",
       "<path d=\"M50.5,-325.975C50.5,-317.914 50.5,-304.979 50.5,-295.31\" fill=\"none\" stroke=\"black\"/>\n",
       "<polygon fill=\"black\" points=\"50.5,-290.056 52.7501,-295.056 50.5,-292.556 50.5001,-295.056 50.5001,-295.056 50.5001,-295.056 50.5,-292.556 48.2501,-295.056 50.5,-290.056 50.5,-290.056\" stroke=\"black\"/>\n",
       "</g>\n",
       "<!-- 6&#45;&gt;3 -->\n",
       "<g class=\"edge\" id=\"edge7\"><title>6-&gt;3</title>\n",
       "<path d=\"M50.5,-272.975C50.5,-264.914 50.5,-251.979 50.5,-242.31\" fill=\"none\" stroke=\"black\"/>\n",
       "<polygon fill=\"black\" points=\"50.5,-237.056 52.7501,-242.056 50.5,-239.556 50.5001,-242.056 50.5001,-242.056 50.5001,-242.056 50.5,-239.556 48.2501,-242.056 50.5,-237.056 50.5,-237.056\" stroke=\"black\"/>\n",
       "</g>\n",
       "<!-- 7&#45;&gt;2 -->\n",
       "<g class=\"edge\" id=\"edge8\"><title>7-&gt;2</title>\n",
       "<path d=\"M50.5,-166.975C50.5,-158.914 50.5,-145.979 50.5,-136.31\" fill=\"none\" stroke=\"black\"/>\n",
       "<polygon fill=\"black\" points=\"50.5,-131.056 52.7501,-136.056 50.5,-133.556 50.5001,-136.056 50.5001,-136.056 50.5001,-136.056 50.5,-133.556 48.2501,-136.056 50.5,-131.056 50.5,-131.056\" stroke=\"black\"/>\n",
       "</g>\n",
       "</g>\n",
       "</svg>"
      ],
      "text/plain": [
       "<IPython.core.display.SVG object>"
      ]
     },
     "metadata": {},
     "output_type": "display_data"
    }
   ],
   "source": [
    "run(m, \"0 0\")"
   ]
  },
  {
   "cell_type": "markdown",
   "metadata": {},
   "source": [
    "Each node shows both the state and the tape, with the head position indicated using square brackets. This run ended in the `ACCEPT` state (drawn as a double node), so the machine accepted the string."
   ]
  },
  {
   "cell_type": "code",
   "execution_count": 6,
   "metadata": {
    "collapsed": false
   },
   "outputs": [
    {
     "data": {
      "image/svg+xml": [
       "<svg height=\"274pt\" viewBox=\"0.00 0.00 113.00 274.00\" width=\"113pt\" xmlns=\"http://www.w3.org/2000/svg\" xmlns:xlink=\"http://www.w3.org/1999/xlink\">\n",
       "<g class=\"graph\" id=\"graph0\" transform=\"scale(1 1) rotate(0) translate(4 270)\">\n",
       "<title>%3</title>\n",
       "<polygon fill=\"white\" points=\"-4,4 -4,-270 109,-270 109,4 -4,4\" stroke=\"none\"/>\n",
       "<!-- START -->\n",
       "<g class=\"node\" id=\"node1\"><title>START</title>\n",
       "</g>\n",
       "<!-- 0 -->\n",
       "<g class=\"node\" id=\"node2\"><title>0</title>\n",
       "<path d=\"M81.3333,-229C81.3333,-229 23.6667,-229 23.6667,-229 20.8333,-229 18,-226.167 18,-223.333 18,-223.333 18,-217.667 18,-217.667 18,-214.833 20.8333,-212 23.6667,-212 23.6667,-212 81.3333,-212 81.3333,-212 84.1667,-212 87,-214.833 87,-217.667 87,-217.667 87,-223.333 87,-223.333 87,-226.167 84.1667,-229 81.3333,-229\" fill=\"none\" stroke=\"black\"/>\n",
       "<text font-family=\"Courier,monospace\" font-size=\"10.00\" text-anchor=\"start\" x=\"22\" y=\"-218\">q1,[0] 0 0</text>\n",
       "</g>\n",
       "<!-- START&#45;&gt;0 -->\n",
       "<g class=\"edge\" id=\"edge1\"><title>START-&gt;0</title>\n",
       "<path d=\"M52.5,-264.875C52.5,-263.268 52.5,-246.467 52.5,-234.256\" fill=\"none\" stroke=\"black\"/>\n",
       "<polygon fill=\"black\" points=\"52.5,-229.04 54.7501,-234.04 52.5,-231.54 52.5001,-234.04 52.5001,-234.04 52.5001,-234.04 52.5,-231.54 50.2501,-234.04 52.5,-229.04 52.5,-229.04\" stroke=\"black\"/>\n",
       "</g>\n",
       "<!-- 3 -->\n",
       "<g class=\"node\" id=\"node5\"><title>3</title>\n",
       "<path d=\"M81.3333,-176C81.3333,-176 23.6667,-176 23.6667,-176 20.8333,-176 18,-173.167 18,-170.333 18,-170.333 18,-164.667 18,-164.667 18,-161.833 20.8333,-159 23.6667,-159 23.6667,-159 81.3333,-159 81.3333,-159 84.1667,-159 87,-161.833 87,-164.667 87,-164.667 87,-170.333 87,-170.333 87,-173.167 84.1667,-176 81.3333,-176\" fill=\"none\" stroke=\"black\"/>\n",
       "<text font-family=\"Courier,monospace\" font-size=\"10.00\" text-anchor=\"start\" x=\"22\" y=\"-165\">q2,_ [0] 0</text>\n",
       "</g>\n",
       "<!-- 0&#45;&gt;3 -->\n",
       "<g class=\"edge\" id=\"edge3\"><title>0-&gt;3</title>\n",
       "<path d=\"M52.5,-211.975C52.5,-203.914 52.5,-190.979 52.5,-181.31\" fill=\"none\" stroke=\"black\"/>\n",
       "<polygon fill=\"black\" points=\"52.5,-176.056 54.7501,-181.056 52.5,-178.556 52.5001,-181.056 52.5001,-181.056 52.5001,-181.056 52.5,-178.556 50.2501,-181.056 52.5,-176.056 52.5,-176.056\" stroke=\"black\"/>\n",
       "</g>\n",
       "<!-- 1 -->\n",
       "<g class=\"node\" id=\"node3\"><title>1</title>\n",
       "<path d=\"M99.3333,-17C99.3333,-17 5.66667,-17 5.66667,-17 2.83333,-17 0,-14.1667 0,-11.3333 0,-11.3333 0,-5.66667 0,-5.66667 0,-2.83333 2.83333,-0 5.66667,-0 5.66667,-0 99.3333,-0 99.3333,-0 102.167,-0 105,-2.83333 105,-5.66667 105,-5.66667 105,-11.3333 105,-11.3333 105,-14.1667 102.167,-17 99.3333,-17\" fill=\"none\" stroke=\"black\"/>\n",
       "<text font-family=\"Courier,monospace\" font-size=\"10.00\" text-anchor=\"start\" x=\"4\" y=\"-6\">REJECT,_ x 0 _ ^</text>\n",
       "</g>\n",
       "<!-- 2 -->\n",
       "<g class=\"node\" id=\"node4\"><title>2</title>\n",
       "<path d=\"M81.3333,-123C81.3333,-123 23.6667,-123 23.6667,-123 20.8333,-123 18,-120.167 18,-117.333 18,-117.333 18,-111.667 18,-111.667 18,-108.833 20.8333,-106 23.6667,-106 23.6667,-106 81.3333,-106 81.3333,-106 84.1667,-106 87,-108.833 87,-111.667 87,-111.667 87,-117.333 87,-117.333 87,-120.167 84.1667,-123 81.3333,-123\" fill=\"none\" stroke=\"black\"/>\n",
       "<text font-family=\"Courier,monospace\" font-size=\"10.00\" text-anchor=\"start\" x=\"22\" y=\"-112\">q3,_ x [0]</text>\n",
       "</g>\n",
       "<!-- 4 -->\n",
       "<g class=\"node\" id=\"node6\"><title>4</title>\n",
       "<path d=\"M81.3333,-70C81.3333,-70 23.6667,-70 23.6667,-70 20.8333,-70 18,-67.1667 18,-64.3333 18,-64.3333 18,-58.6667 18,-58.6667 18,-55.8333 20.8333,-53 23.6667,-53 23.6667,-53 81.3333,-53 81.3333,-53 84.1667,-53 87,-55.8333 87,-58.6667 87,-58.6667 87,-64.3333 87,-64.3333 87,-67.1667 84.1667,-70 81.3333,-70\" fill=\"none\" stroke=\"black\"/>\n",
       "<text font-family=\"Courier,monospace\" font-size=\"10.00\" text-anchor=\"start\" x=\"22\" y=\"-59\">q4,_ x 0 ^</text>\n",
       "</g>\n",
       "<!-- 2&#45;&gt;4 -->\n",
       "<g class=\"edge\" id=\"edge2\"><title>2-&gt;4</title>\n",
       "<path d=\"M52.5,-105.975C52.5,-97.9143 52.5,-84.9787 52.5,-75.3099\" fill=\"none\" stroke=\"black\"/>\n",
       "<polygon fill=\"black\" points=\"52.5,-70.0561 54.7501,-75.0561 52.5,-72.5561 52.5001,-75.0561 52.5001,-75.0561 52.5001,-75.0561 52.5,-72.5561 50.2501,-75.0561 52.5,-70.0561 52.5,-70.0561\" stroke=\"black\"/>\n",
       "</g>\n",
       "<!-- 3&#45;&gt;2 -->\n",
       "<g class=\"edge\" id=\"edge5\"><title>3-&gt;2</title>\n",
       "<path d=\"M52.5,-158.975C52.5,-150.914 52.5,-137.979 52.5,-128.31\" fill=\"none\" stroke=\"black\"/>\n",
       "<polygon fill=\"black\" points=\"52.5,-123.056 54.7501,-128.056 52.5,-125.556 52.5001,-128.056 52.5001,-128.056 52.5001,-128.056 52.5,-125.556 50.2501,-128.056 52.5,-123.056 52.5,-123.056\" stroke=\"black\"/>\n",
       "</g>\n",
       "<!-- 4&#45;&gt;1 -->\n",
       "<g class=\"edge\" id=\"edge4\"><title>4-&gt;1</title>\n",
       "<path d=\"M52.5,-52.9748C52.5,-44.9143 52.5,-31.9787 52.5,-22.3099\" fill=\"none\" stroke=\"black\"/>\n",
       "<polygon fill=\"black\" points=\"52.5,-17.0561 54.7501,-22.0561 52.5,-19.5561 52.5001,-22.0561 52.5001,-22.0561 52.5001,-22.0561 52.5,-19.5561 50.2501,-22.0561 52.5,-17.0561 52.5,-17.0561\" stroke=\"black\"/>\n",
       "</g>\n",
       "</g>\n",
       "</svg>"
      ],
      "text/plain": [
       "<IPython.core.display.SVG object>"
      ]
     },
     "metadata": {},
     "output_type": "display_data"
    }
   ],
   "source": [
    "run(m, \"0 0 0\")"
   ]
  },
  {
   "cell_type": "markdown",
   "metadata": {},
   "source": [
    "This run ended in the `REJECT` state, so the machine rejected the string."
   ]
  },
  {
   "cell_type": "markdown",
   "metadata": {},
   "source": [
    "It's possible, of course, for a run of a Turing machine to go on forever, so the `run` function will give up after a certain number of steps. You can control that limit using the `steps` option:"
   ]
  },
  {
   "cell_type": "code",
   "execution_count": 7,
   "metadata": {
    "collapsed": false
   },
   "outputs": [
    {
     "data": {
      "image/svg+xml": [
       "<svg height=\"364pt\" viewBox=\"0.00 0.00 137.00 364.00\" width=\"137pt\" xmlns=\"http://www.w3.org/2000/svg\" xmlns:xlink=\"http://www.w3.org/1999/xlink\">\n",
       "<g class=\"graph\" id=\"graph0\" transform=\"scale(1 1) rotate(0) translate(4 360)\">\n",
       "<title>%3</title>\n",
       "<polygon fill=\"white\" points=\"-4,4 -4,-360 133,-360 133,4 -4,4\" stroke=\"none\"/>\n",
       "<!-- START -->\n",
       "<g class=\"node\" id=\"node1\"><title>START</title>\n",
       "</g>\n",
       "<!-- 5 -->\n",
       "<g class=\"node\" id=\"node7\"><title>5</title>\n",
       "<path d=\"M123.333,-319C123.333,-319 5.66667,-319 5.66667,-319 2.83333,-319 0,-316.167 0,-313.333 0,-313.333 0,-307.667 0,-307.667 0,-304.833 2.83333,-302 5.66667,-302 5.66667,-302 123.333,-302 123.333,-302 126.167,-302 129,-304.833 129,-307.667 129,-307.667 129,-313.333 129,-313.333 129,-316.167 126.167,-319 123.333,-319\" fill=\"none\" stroke=\"black\"/>\n",
       "<text font-family=\"Courier,monospace\" font-size=\"10.00\" text-anchor=\"start\" x=\"4\" y=\"-308\">q1,[0] 0 0 0 0 0 0 0</text>\n",
       "</g>\n",
       "<!-- START&#45;&gt;5 -->\n",
       "<g class=\"edge\" id=\"edge1\"><title>START-&gt;5</title>\n",
       "<path d=\"M64.5,-354.875C64.5,-353.268 64.5,-336.467 64.5,-324.256\" fill=\"none\" stroke=\"black\"/>\n",
       "<polygon fill=\"black\" points=\"64.5,-319.04 66.7501,-324.04 64.5,-321.54 64.5001,-324.04 64.5001,-324.04 64.5001,-324.04 64.5,-321.54 62.2501,-324.04 64.5,-319.04 64.5,-319.04\" stroke=\"black\"/>\n",
       "</g>\n",
       "<!-- 0 -->\n",
       "<g class=\"node\" id=\"node2\"><title>0</title>\n",
       "<path d=\"M123.333,-54C123.333,-54 5.66667,-54 5.66667,-54 2.83333,-54 0,-51.1667 0,-48.3333 0,-48.3333 0,-42.6667 0,-42.6667 0,-39.8333 2.83333,-37 5.66667,-37 5.66667,-37 123.333,-37 123.333,-37 126.167,-37 129,-39.8333 129,-42.6667 129,-42.6667 129,-48.3333 129,-48.3333 129,-51.1667 126.167,-54 123.333,-54\" fill=\"none\" stroke=\"black\"/>\n",
       "<text font-family=\"Courier,monospace\" font-size=\"10.00\" text-anchor=\"start\" x=\"4\" y=\"-43\">q4,_ x 0 x 0 [0] 0 0</text>\n",
       "</g>\n",
       "<!-- DOTS_0 -->\n",
       "<g class=\"node\" id=\"node8\"><title>DOTS_0</title>\n",
       "</g>\n",
       "<!-- 0&#45;&gt;DOTS_0 -->\n",
       "<g class=\"edge\" id=\"edge7\"><title>0-&gt;DOTS_0</title>\n",
       "<path d=\"M64.5,-36.9229C64.5,-24.8493 64.5,-2.4555 64.5,-1.06768\" fill=\"none\" stroke=\"black\" stroke-dasharray=\"1,5\"/>\n",
       "</g>\n",
       "<!-- 1 -->\n",
       "<g class=\"node\" id=\"node3\"><title>1</title>\n",
       "<path d=\"M123.333,-213C123.333,-213 5.66667,-213 5.66667,-213 2.83333,-213 0,-210.167 0,-207.333 0,-207.333 0,-201.667 0,-201.667 0,-198.833 2.83333,-196 5.66667,-196 5.66667,-196 123.333,-196 123.333,-196 126.167,-196 129,-198.833 129,-201.667 129,-201.667 129,-207.333 129,-207.333 129,-210.167 126.167,-213 123.333,-213\" fill=\"none\" stroke=\"black\"/>\n",
       "<text font-family=\"Courier,monospace\" font-size=\"10.00\" text-anchor=\"start\" x=\"4\" y=\"-202\">q3,_ x [0] 0 0 0 0 0</text>\n",
       "</g>\n",
       "<!-- 3 -->\n",
       "<g class=\"node\" id=\"node5\"><title>3</title>\n",
       "<path d=\"M123.333,-160C123.333,-160 5.66667,-160 5.66667,-160 2.83333,-160 0,-157.167 0,-154.333 0,-154.333 0,-148.667 0,-148.667 0,-145.833 2.83333,-143 5.66667,-143 5.66667,-143 123.333,-143 123.333,-143 126.167,-143 129,-145.833 129,-148.667 129,-148.667 129,-154.333 129,-154.333 129,-157.167 126.167,-160 123.333,-160\" fill=\"none\" stroke=\"black\"/>\n",
       "<text font-family=\"Courier,monospace\" font-size=\"10.00\" text-anchor=\"start\" x=\"4\" y=\"-149\">q4,_ x 0 [0] 0 0 0 0</text>\n",
       "</g>\n",
       "<!-- 1&#45;&gt;3 -->\n",
       "<g class=\"edge\" id=\"edge6\"><title>1-&gt;3</title>\n",
       "<path d=\"M64.5,-195.975C64.5,-187.914 64.5,-174.979 64.5,-165.31\" fill=\"none\" stroke=\"black\"/>\n",
       "<polygon fill=\"black\" points=\"64.5,-160.056 66.7501,-165.056 64.5,-162.556 64.5001,-165.056 64.5001,-165.056 64.5001,-165.056 64.5,-162.556 62.2501,-165.056 64.5,-160.056 64.5,-160.056\" stroke=\"black\"/>\n",
       "</g>\n",
       "<!-- 2 -->\n",
       "<g class=\"node\" id=\"node4\"><title>2</title>\n",
       "<path d=\"M123.333,-107C123.333,-107 5.66667,-107 5.66667,-107 2.83333,-107 0,-104.167 0,-101.333 0,-101.333 0,-95.6667 0,-95.6667 0,-92.8333 2.83333,-90 5.66667,-90 5.66667,-90 123.333,-90 123.333,-90 126.167,-90 129,-92.8333 129,-95.6667 129,-95.6667 129,-101.333 129,-101.333 129,-104.167 126.167,-107 123.333,-107\" fill=\"none\" stroke=\"black\"/>\n",
       "<text font-family=\"Courier,monospace\" font-size=\"10.00\" text-anchor=\"start\" x=\"4\" y=\"-96\">q3,_ x 0 x [0] 0 0 0</text>\n",
       "</g>\n",
       "<!-- 2&#45;&gt;0 -->\n",
       "<g class=\"edge\" id=\"edge5\"><title>2-&gt;0</title>\n",
       "<path d=\"M64.5,-89.9748C64.5,-81.9143 64.5,-68.9787 64.5,-59.3099\" fill=\"none\" stroke=\"black\"/>\n",
       "<polygon fill=\"black\" points=\"64.5,-54.0561 66.7501,-59.0561 64.5,-56.5561 64.5001,-59.0561 64.5001,-59.0561 64.5001,-59.0561 64.5,-56.5561 62.2501,-59.0561 64.5,-54.0561 64.5,-54.0561\" stroke=\"black\"/>\n",
       "</g>\n",
       "<!-- 3&#45;&gt;2 -->\n",
       "<g class=\"edge\" id=\"edge4\"><title>3-&gt;2</title>\n",
       "<path d=\"M64.5,-142.975C64.5,-134.914 64.5,-121.979 64.5,-112.31\" fill=\"none\" stroke=\"black\"/>\n",
       "<polygon fill=\"black\" points=\"64.5,-107.056 66.7501,-112.056 64.5,-109.556 64.5001,-112.056 64.5001,-112.056 64.5001,-112.056 64.5,-109.556 62.2501,-112.056 64.5,-107.056 64.5,-107.056\" stroke=\"black\"/>\n",
       "</g>\n",
       "<!-- 4 -->\n",
       "<g class=\"node\" id=\"node6\"><title>4</title>\n",
       "<path d=\"M123.333,-266C123.333,-266 5.66667,-266 5.66667,-266 2.83333,-266 0,-263.167 0,-260.333 0,-260.333 0,-254.667 0,-254.667 0,-251.833 2.83333,-249 5.66667,-249 5.66667,-249 123.333,-249 123.333,-249 126.167,-249 129,-251.833 129,-254.667 129,-254.667 129,-260.333 129,-260.333 129,-263.167 126.167,-266 123.333,-266\" fill=\"none\" stroke=\"black\"/>\n",
       "<text font-family=\"Courier,monospace\" font-size=\"10.00\" text-anchor=\"start\" x=\"4\" y=\"-255\">q2,_ [0] 0 0 0 0 0 0</text>\n",
       "</g>\n",
       "<!-- 4&#45;&gt;1 -->\n",
       "<g class=\"edge\" id=\"edge2\"><title>4-&gt;1</title>\n",
       "<path d=\"M64.5,-248.975C64.5,-240.914 64.5,-227.979 64.5,-218.31\" fill=\"none\" stroke=\"black\"/>\n",
       "<polygon fill=\"black\" points=\"64.5,-213.056 66.7501,-218.056 64.5,-215.556 64.5001,-218.056 64.5001,-218.056 64.5001,-218.056 64.5,-215.556 62.2501,-218.056 64.5,-213.056 64.5,-213.056\" stroke=\"black\"/>\n",
       "</g>\n",
       "<!-- 5&#45;&gt;4 -->\n",
       "<g class=\"edge\" id=\"edge3\"><title>5-&gt;4</title>\n",
       "<path d=\"M64.5,-301.975C64.5,-293.914 64.5,-280.979 64.5,-271.31\" fill=\"none\" stroke=\"black\"/>\n",
       "<polygon fill=\"black\" points=\"64.5,-266.056 66.7501,-271.056 64.5,-268.556 64.5001,-271.056 64.5001,-271.056 64.5001,-271.056 64.5,-268.556 62.2501,-271.056 64.5,-266.056 64.5,-266.056\" stroke=\"black\"/>\n",
       "</g>\n",
       "</g>\n",
       "</svg>"
      ],
      "text/plain": [
       "<IPython.core.display.SVG object>"
      ]
     },
     "metadata": {},
     "output_type": "display_data"
    }
   ],
   "source": [
    "run(m, \"0 0 0 0 0 0 0 0\", steps=5)"
   ]
  },
  {
   "cell_type": "markdown",
   "metadata": {},
   "source": [
    "The dotted edge indicates that the run continues but is not shown. Be careful -- in this case you don't know whether the machine would eventually accept the string."
   ]
  }
 ],
 "metadata": {
  "kernelspec": {
   "display_name": "Python 2",
   "language": "python",
   "name": "python2"
  },
  "language_info": {
   "codemirror_mode": {
    "name": "ipython",
    "version": 2
   },
   "file_extension": ".py",
   "mimetype": "text/x-python",
   "name": "python",
   "nbconvert_exporter": "python",
   "pygments_lexer": "ipython2",
   "version": "2.7.10"
  }
 },
 "nbformat": 4,
 "nbformat_minor": 0
}
