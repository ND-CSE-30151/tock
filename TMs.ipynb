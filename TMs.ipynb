{
 "cells": [
  {
   "cell_type": "code",
   "execution_count": 1,
   "metadata": {
    "collapsed": true
   },
   "outputs": [],
   "source": [
    "from tock import *"
   ]
  },
  {
   "cell_type": "markdown",
   "metadata": {},
   "source": [
    "# Turing machines\n",
    "\n",
    "Turing machines (TMs) have a finite state and an input, but the input is now a `tape` that machine can move in either direction on and also write on. By default, TMs are deterministic. Although Sipser never actually writes the transition function of a TM as a table, it's a perfectly reasonable thing to do. However, we use a different notation for moves. The machine in Example 3.7 and Figure 3.8 would be:"
   ]
  },
  {
   "cell_type": "code",
   "execution_count": 2,
   "metadata": {
    "collapsed": false
   },
   "outputs": [
    {
     "data": {
      "text/plain": [
       "(False, True)"
      ]
     },
     "execution_count": 2,
     "metadata": {},
     "output_type": "execute_result"
    }
   ],
   "source": [
    "m = read_csv(\"examples/dtm.csv\")\n",
    "m.is_pushdown(), m.is_deterministic()"
   ]
  },
  {
   "cell_type": "code",
   "execution_count": 3,
   "metadata": {
    "collapsed": false
   },
   "outputs": [
    {
     "data": {
      "text/html": [
       "<table style=\"font-family: Courier, monospace;\">\n",
       "  <tr><td></td><th>0</th><th>_</th><th>x</th></tr>\n",
       "  <tr><th>&gt;q1</th><td>q2,_ ^</td><td>REJECT,_ ^</td><td>REJECT,x ^</td></tr>\n",
       "  <tr><th>q2</th><td>q3,x ^</td><td>ACCEPT,_ ^</td><td>q2,x ^</td></tr>\n",
       "  <tr><th>q3</th><td>q4,0 ^</td><td>q5,^ _</td><td>q3,x ^</td></tr>\n",
       "  <tr><th>q4</th><td>q3,x ^</td><td>REJECT,_ ^</td><td>q4,x ^</td></tr>\n",
       "  <tr><th>q5</th><td>q5,^ 0</td><td>q2,_ ^</td><td>q5,^ x</td></tr>\n",
       "</table>\n"
      ],
      "text/plain": [
       "<IPython.core.display.HTML object>"
      ]
     },
     "execution_count": 3,
     "metadata": {},
     "output_type": "execute_result"
    }
   ],
   "source": [
    "m.display_table()"
   ]
  },
  {
   "cell_type": "markdown",
   "metadata": {},
   "source": [
    "As always, the first column lists the possible states, and the start state is marked with a `>`. But there are no final states. Instead, the accept state and reject state are always named `ACCEPT` and `REJECT`, respectively. You don't need to make an empty row in the table for them.\n",
    "\n",
    "The first row lists possible tape symbols. Use `_` for the blank symbol.\n",
    "\n",
    "In the cells, Sipser uses `L` and `R` for moving left and right. We use a different notation: use `^` to indicate the head position. For example, if the machine is in state `q1` and the current tape symbol is `0`, then the machine changes to state `q2`, erases (writes `_`), and moves to the right. If the machine is in state `q5` and the current tape symbol is `0`, then the machine rewrites the `0` and moves left.\n",
    "\n",
    "In the second example (state `q5` and symbol `0`), Sipser would have allowed you to write just `R` for \"don't write anything and move right\". We don't allow this shorthand (sorry). Instead, you have to rewrite the same symbol that was read.\n",
    "\n",
    "Here's the state transition diagram, which might or might not be more intuitive:"
   ]
  },
  {
   "cell_type": "code",
   "execution_count": 4,
   "metadata": {
    "collapsed": false
   },
   "outputs": [
    {
     "data": {
      "image/svg+xml": [
       "<svg height=\"218pt\" viewBox=\"0.00 0.00 532.00 217.50\" width=\"532pt\" xmlns=\"http://www.w3.org/2000/svg\" xmlns:xlink=\"http://www.w3.org/1999/xlink\">\n",
       "<g class=\"graph\" id=\"graph0\" transform=\"scale(1 1) rotate(0) translate(4 213.5)\">\n",
       "<title>%3</title>\n",
       "<polygon fill=\"white\" points=\"-4,4 -4,-213.5 528,-213.5 528,4 -4,4\" stroke=\"none\"/>\n",
       "<!-- 0 -->\n",
       "<g class=\"node\" id=\"node1\"><title>0</title>\n",
       "<path d=\"M53.3333,-24.5C53.3333,-24.5 43.6667,-24.5 43.6667,-24.5 40.8333,-24.5 38,-21.6667 38,-18.8333 38,-18.8333 38,-13.1667 38,-13.1667 38,-10.3333 40.8333,-7.5 43.6667,-7.5 43.6667,-7.5 53.3333,-7.5 53.3333,-7.5 56.1667,-7.5 59,-10.3333 59,-13.1667 59,-13.1667 59,-18.8333 59,-18.8333 59,-21.6667 56.1667,-24.5 53.3333,-24.5\" fill=\"none\" stroke=\"black\"/>\n",
       "<text font-family=\"Courier,monospace\" font-size=\"10.00\" text-anchor=\"middle\" x=\"48.5\" y=\"-13.5\">q1</text>\n",
       "</g>\n",
       "<!-- 2 -->\n",
       "<g class=\"node\" id=\"node4\"><title>2</title>\n",
       "<path d=\"M155.333,-84.5C155.333,-84.5 145.667,-84.5 145.667,-84.5 142.833,-84.5 140,-81.6667 140,-78.8333 140,-78.8333 140,-73.1667 140,-73.1667 140,-70.3333 142.833,-67.5 145.667,-67.5 145.667,-67.5 155.333,-67.5 155.333,-67.5 158.167,-67.5 161,-70.3333 161,-73.1667 161,-73.1667 161,-78.8333 161,-78.8333 161,-81.6667 158.167,-84.5 155.333,-84.5\" fill=\"none\" stroke=\"black\"/>\n",
       "<text font-family=\"Courier,monospace\" font-size=\"10.00\" text-anchor=\"middle\" x=\"150.5\" y=\"-73.5\">q2</text>\n",
       "</g>\n",
       "<!-- 0&#45;&gt;2 -->\n",
       "<g class=\"edge\" id=\"edge12\"><title>0-&gt;2</title>\n",
       "<path d=\"M59.0884,-21.7531C76.8131,-32.3879 114.775,-55.1647 135.422,-67.5533\" fill=\"none\" stroke=\"black\"/>\n",
       "<polygon fill=\"black\" points=\"139.794,-70.1762 134.349,-69.533 137.65,-68.8899 135.506,-67.6037 135.506,-67.6037 135.506,-67.6037 137.65,-68.8899 136.664,-65.6743 139.794,-70.1762 139.794,-70.1762\" stroke=\"black\"/>\n",
       "<text font-family=\"Courier,monospace\" font-size=\"9.00\" text-anchor=\"start\" x=\"80.5\" y=\"-64.8\">0 → _ ^</text>\n",
       "</g>\n",
       "<!-- 6 -->\n",
       "<g class=\"node\" id=\"node8\"><title>6</title>\n",
       "<path d=\"M518.333,-29.5C518.333,-29.5 484.667,-29.5 484.667,-29.5 481.833,-29.5 479,-26.6667 479,-23.8333 479,-23.8333 479,-18.1667 479,-18.1667 479,-15.3333 481.833,-12.5 484.667,-12.5 484.667,-12.5 518.333,-12.5 518.333,-12.5 521.167,-12.5 524,-15.3333 524,-18.1667 524,-18.1667 524,-23.8333 524,-23.8333 524,-26.6667 521.167,-29.5 518.333,-29.5\" fill=\"none\" stroke=\"black\"/>\n",
       "<text font-family=\"Courier,monospace\" font-size=\"10.00\" text-anchor=\"middle\" x=\"501.5\" y=\"-18.5\">REJECT</text>\n",
       "</g>\n",
       "<!-- 0&#45;&gt;6 -->\n",
       "<g class=\"edge\" id=\"edge6\"><title>0-&gt;6</title>\n",
       "<path d=\"M59.0719,-13.4293C76.7813,-8.90649 115.919,-0 149.5,-0 149.5,-0 149.5,-0 384,-0 415.144,-0 450.239,-7.35849 473.694,-13.3638\" fill=\"none\" stroke=\"black\"/>\n",
       "<polygon fill=\"black\" points=\"478.809,-14.6993 473.403,-15.6132 476.39,-14.0677 473.971,-13.4361 473.971,-13.4361 473.971,-13.4361 476.39,-14.0677 474.54,-11.2591 478.809,-14.6993 478.809,-14.6993\" stroke=\"black\"/>\n",
       "<text font-family=\"Courier,monospace\" font-size=\"9.00\" text-anchor=\"start\" x=\"245.5\" y=\"-19.8\">_ → _ ^</text>\n",
       "<text font-family=\"Courier,monospace\" font-size=\"9.00\" text-anchor=\"start\" x=\"245.5\" y=\"-5.8\">x → x ^</text>\n",
       "</g>\n",
       "<!-- START -->\n",
       "<g class=\"node\" id=\"node2\"><title>START</title>\n",
       "</g>\n",
       "<!-- START&#45;&gt;0 -->\n",
       "<g class=\"edge\" id=\"edge1\"><title>START-&gt;0</title>\n",
       "<path d=\"M1.13339,-16C2.79277,-16 19.5956,-16 32.5011,-16\" fill=\"none\" stroke=\"black\"/>\n",
       "<polygon fill=\"black\" points=\"37.7379,-16 32.738,-18.2501 35.2379,-16 32.7379,-16.0001 32.7379,-16.0001 32.7379,-16.0001 35.2379,-16 32.7379,-13.7501 37.7379,-16 37.7379,-16\" stroke=\"black\"/>\n",
       "</g>\n",
       "<!-- 1 -->\n",
       "<g class=\"node\" id=\"node3\"><title>1</title>\n",
       "<path d=\"M269.333,-100.5C269.333,-100.5 259.667,-100.5 259.667,-100.5 256.833,-100.5 254,-97.6667 254,-94.8333 254,-94.8333 254,-89.1667 254,-89.1667 254,-86.3333 256.833,-83.5 259.667,-83.5 259.667,-83.5 269.333,-83.5 269.333,-83.5 272.167,-83.5 275,-86.3333 275,-89.1667 275,-89.1667 275,-94.8333 275,-94.8333 275,-97.6667 272.167,-100.5 269.333,-100.5\" fill=\"none\" stroke=\"black\"/>\n",
       "<text font-family=\"Courier,monospace\" font-size=\"10.00\" text-anchor=\"middle\" x=\"264.5\" y=\"-89.5\">q3</text>\n",
       "</g>\n",
       "<!-- 1&#45;&gt;1 -->\n",
       "<g class=\"edge\" id=\"edge8\"><title>1-&gt;1</title>\n",
       "<path d=\"M255.262,-100.686C250.159,-109.174 253.238,-118.5 264.5,-118.5 273.65,-118.5 277.399,-112.343 275.746,-105.482\" fill=\"none\" stroke=\"black\"/>\n",
       "<polygon fill=\"black\" points=\"273.738,-100.686 277.744,-104.429 274.703,-102.992 275.669,-105.298 275.669,-105.298 275.669,-105.298 274.703,-102.992 273.593,-106.167 273.738,-100.686 273.738,-100.686\" stroke=\"black\"/>\n",
       "<text font-family=\"Courier,monospace\" font-size=\"9.00\" text-anchor=\"start\" x=\"245.5\" y=\"-124.3\">x → x ^</text>\n",
       "</g>\n",
       "<!-- 3 -->\n",
       "<g class=\"node\" id=\"node5\"><title>3</title>\n",
       "<path d=\"M387.833,-161.5C387.833,-161.5 378.167,-161.5 378.167,-161.5 375.333,-161.5 372.5,-158.667 372.5,-155.833 372.5,-155.833 372.5,-150.167 372.5,-150.167 372.5,-147.333 375.333,-144.5 378.167,-144.5 378.167,-144.5 387.833,-144.5 387.833,-144.5 390.667,-144.5 393.5,-147.333 393.5,-150.167 393.5,-150.167 393.5,-155.833 393.5,-155.833 393.5,-158.667 390.667,-161.5 387.833,-161.5\" fill=\"none\" stroke=\"black\"/>\n",
       "<text font-family=\"Courier,monospace\" font-size=\"10.00\" text-anchor=\"middle\" x=\"383\" y=\"-150.5\">q5</text>\n",
       "</g>\n",
       "<!-- 1&#45;&gt;3 -->\n",
       "<g class=\"edge\" id=\"edge5\"><title>1-&gt;3</title>\n",
       "<path d=\"M275.034,-96.9919C295.514,-107.716 343.8,-132.998 367.861,-145.597\" fill=\"none\" stroke=\"black\"/>\n",
       "<polygon fill=\"black\" points=\"372.335,-147.939 366.861,-147.613 370.12,-146.779 367.905,-145.62 367.905,-145.62 367.905,-145.62 370.12,-146.779 368.949,-143.626 372.335,-147.939 372.335,-147.939\" stroke=\"black\"/>\n",
       "<text font-family=\"Courier,monospace\" font-size=\"9.00\" text-anchor=\"start\" x=\"308.5\" y=\"-140.8\">_ → ^ _</text>\n",
       "</g>\n",
       "<!-- 4 -->\n",
       "<g class=\"node\" id=\"node6\"><title>4</title>\n",
       "<path d=\"M387.833,-61.5C387.833,-61.5 378.167,-61.5 378.167,-61.5 375.333,-61.5 372.5,-58.6667 372.5,-55.8333 372.5,-55.8333 372.5,-50.1667 372.5,-50.1667 372.5,-47.3333 375.333,-44.5 378.167,-44.5 378.167,-44.5 387.833,-44.5 387.833,-44.5 390.667,-44.5 393.5,-47.3333 393.5,-50.1667 393.5,-50.1667 393.5,-55.8333 393.5,-55.8333 393.5,-58.6667 390.667,-61.5 387.833,-61.5\" fill=\"none\" stroke=\"black\"/>\n",
       "<text font-family=\"Courier,monospace\" font-size=\"10.00\" text-anchor=\"middle\" x=\"383\" y=\"-50.5\">q4</text>\n",
       "</g>\n",
       "<!-- 1&#45;&gt;4 -->\n",
       "<g class=\"edge\" id=\"edge9\"><title>1-&gt;4</title>\n",
       "<path d=\"M275.385,-84.2163C279.125,-81.1451 283.357,-77.5153 287,-74 295.606,-65.6966 294.107,-58.9361 305,-54 325.13,-44.8776 351.371,-47.1198 367.436,-49.8532\" fill=\"none\" stroke=\"black\"/>\n",
       "<polygon fill=\"black\" points=\"372.471,-50.7833 367.145,-52.0874 370.012,-50.3291 367.554,-49.8749 367.554,-49.8749 367.554,-49.8749 370.012,-50.3291 367.963,-47.6623 372.471,-50.7833 372.471,-50.7833\" stroke=\"black\"/>\n",
       "<text font-family=\"Courier,monospace\" font-size=\"9.00\" text-anchor=\"start\" x=\"308.5\" y=\"-59.8\">0 → 0 ^</text>\n",
       "</g>\n",
       "<!-- 2&#45;&gt;1 -->\n",
       "<g class=\"edge\" id=\"edge2\"><title>2-&gt;1</title>\n",
       "<path d=\"M161.049,-77.3642C180.639,-80.1626 225.485,-86.5693 248.805,-89.9008\" fill=\"none\" stroke=\"black\"/>\n",
       "<polygon fill=\"black\" points=\"253.975,-90.6393 248.707,-92.1595 251.5,-90.2857 249.025,-89.9321 249.025,-89.9321 249.025,-89.9321 251.5,-90.2857 249.344,-87.7047 253.975,-90.6393 253.975,-90.6393\" stroke=\"black\"/>\n",
       "<text font-family=\"Courier,monospace\" font-size=\"9.00\" text-anchor=\"start\" x=\"182.5\" y=\"-91.8\">0 → x ^</text>\n",
       "</g>\n",
       "<!-- 2&#45;&gt;2 -->\n",
       "<g class=\"edge\" id=\"edge3\"><title>2-&gt;2</title>\n",
       "<path d=\"M143.05,-84.6857C138.935,-93.1739 141.418,-102.5 150.5,-102.5 157.879,-102.5 160.902,-96.3433 159.569,-89.4817\" fill=\"none\" stroke=\"black\"/>\n",
       "<polygon fill=\"black\" points=\"157.95,-84.6857 161.681,-88.7034 158.75,-87.0544 159.549,-89.4231 159.549,-89.4231 159.549,-89.4231 158.75,-87.0544 157.417,-90.1427 157.95,-84.6857 157.95,-84.6857\" stroke=\"black\"/>\n",
       "<text font-family=\"Courier,monospace\" font-size=\"9.00\" text-anchor=\"start\" x=\"131.5\" y=\"-108.3\">x → x ^</text>\n",
       "</g>\n",
       "<!-- 5 -->\n",
       "<g class=\"node\" id=\"node7\"><title>5</title>\n",
       "<path d=\"M281.333,-65.5C281.333,-65.5 247.667,-65.5 247.667,-65.5 244.833,-65.5 242,-62.6667 242,-59.8333 242,-59.8333 242,-54.1667 242,-54.1667 242,-51.3333 244.833,-48.5 247.667,-48.5 247.667,-48.5 281.333,-48.5 281.333,-48.5 284.167,-48.5 287,-51.3333 287,-54.1667 287,-54.1667 287,-59.8333 287,-59.8333 287,-62.6667 284.167,-65.5 281.333,-65.5\" fill=\"none\" stroke=\"black\"/>\n",
       "<text font-family=\"Courier,monospace\" font-size=\"10.00\" text-anchor=\"middle\" x=\"264.5\" y=\"-54.5\">ACCEPT</text>\n",
       "</g>\n",
       "<!-- 2&#45;&gt;5 -->\n",
       "<g class=\"edge\" id=\"edge13\"><title>2-&gt;5</title>\n",
       "<path d=\"M161.217,-69.2893C166.281,-66.1676 172.716,-62.7616 179,-61 197.839,-55.7187 219.954,-54.8508 236.833,-55.2332\" fill=\"none\" stroke=\"black\"/>\n",
       "<polygon fill=\"black\" points=\"241.894,-55.3885 236.827,-57.484 239.395,-55.3117 236.896,-55.235 236.896,-55.235 236.896,-55.235 239.395,-55.3117 236.965,-52.9861 241.894,-55.3885 241.894,-55.3885\" stroke=\"black\"/>\n",
       "<text font-family=\"Courier,monospace\" font-size=\"9.00\" text-anchor=\"start\" x=\"182.5\" y=\"-66.8\">_ → _ ^</text>\n",
       "</g>\n",
       "<!-- 3&#45;&gt;2 -->\n",
       "<g class=\"edge\" id=\"edge7\"><title>3-&gt;2</title>\n",
       "<path d=\"M372.436,-154.13C349.204,-156.496 288.302,-160.408 242,-143 211.605,-131.572 204.25,-126.417 179,-106 172.695,-100.902 166.517,-94.3471 161.619,-88.6651\" fill=\"none\" stroke=\"black\"/>\n",
       "<polygon fill=\"black\" points=\"158.142,-84.5289 163.082,-86.9084 159.751,-86.4425 161.36,-88.3562 161.36,-88.3562 161.36,-88.3562 159.751,-86.4425 159.637,-89.804 158.142,-84.5289 158.142,-84.5289\" stroke=\"black\"/>\n",
       "<text font-family=\"Courier,monospace\" font-size=\"9.00\" text-anchor=\"start\" x=\"245.5\" y=\"-159.8\">_ → _ ^</text>\n",
       "</g>\n",
       "<!-- 3&#45;&gt;3 -->\n",
       "<g class=\"edge\" id=\"edge4\"><title>3-&gt;3</title>\n",
       "<path d=\"M374.954,-161.686C370.509,-170.174 373.191,-179.5 383,-179.5 390.969,-179.5 394.234,-173.343 392.795,-166.482\" fill=\"none\" stroke=\"black\"/>\n",
       "<polygon fill=\"black\" points=\"391.046,-161.686 394.873,-165.613 391.902,-164.034 392.759,-166.383 392.759,-166.383 392.759,-166.383 391.902,-164.034 390.645,-167.154 391.046,-161.686 391.046,-161.686\" stroke=\"black\"/>\n",
       "<text font-family=\"Courier,monospace\" font-size=\"9.00\" text-anchor=\"start\" x=\"364\" y=\"-199.3\">0 → ^ 0</text>\n",
       "<text font-family=\"Courier,monospace\" font-size=\"9.00\" text-anchor=\"start\" x=\"364\" y=\"-185.3\">x → ^ x</text>\n",
       "</g>\n",
       "<!-- 4&#45;&gt;1 -->\n",
       "<g class=\"edge\" id=\"edge11\"><title>4-&gt;1</title>\n",
       "<path d=\"M372.476,-58.8177C366.254,-62.4254 357.855,-66.9398 350,-70 326.396,-79.1964 297.602,-85.7609 280.451,-89.2109\" fill=\"none\" stroke=\"black\"/>\n",
       "<polygon fill=\"black\" points=\"275.106,-90.2608 279.578,-87.0893 277.559,-89.779 280.012,-89.2971 280.012,-89.2971 280.012,-89.2971 277.559,-89.779 280.446,-91.505 275.106,-90.2608 275.106,-90.2608\" stroke=\"black\"/>\n",
       "<text font-family=\"Courier,monospace\" font-size=\"9.00\" text-anchor=\"start\" x=\"308.5\" y=\"-89.8\">0 → x ^</text>\n",
       "</g>\n",
       "<!-- 4&#45;&gt;4 -->\n",
       "<g class=\"edge\" id=\"edge14\"><title>4-&gt;4</title>\n",
       "<path d=\"M374.954,-61.6857C370.509,-70.1739 373.191,-79.5 383,-79.5 390.969,-79.5 394.234,-73.3433 392.795,-66.4817\" fill=\"none\" stroke=\"black\"/>\n",
       "<polygon fill=\"black\" points=\"391.046,-61.6857 394.873,-65.6126 391.902,-64.0345 392.759,-66.3833 392.759,-66.3833 392.759,-66.3833 391.902,-64.0345 390.645,-67.1539 391.046,-61.6857 391.046,-61.6857\" stroke=\"black\"/>\n",
       "<text font-family=\"Courier,monospace\" font-size=\"9.00\" text-anchor=\"start\" x=\"364\" y=\"-85.3\">x → x ^</text>\n",
       "</g>\n",
       "<!-- 4&#45;&gt;6 -->\n",
       "<g class=\"edge\" id=\"edge10\"><title>4-&gt;6</title>\n",
       "<path d=\"M393.534,-50.3813C410.856,-45.6234 448.068,-35.402 473.691,-28.364\" fill=\"none\" stroke=\"black\"/>\n",
       "<polygon fill=\"black\" points=\"478.651,-27.0013 474.426,-30.4954 476.241,-27.6636 473.83,-28.3258 473.83,-28.3258 473.83,-28.3258 476.241,-27.6636 473.234,-26.1561 478.651,-27.0013 478.651,-27.0013\" stroke=\"black\"/>\n",
       "<text font-family=\"Courier,monospace\" font-size=\"9.00\" text-anchor=\"start\" x=\"419.5\" y=\"-49.8\">_ → _ ^</text>\n",
       "</g>\n",
       "</g>\n",
       "</svg>"
      ],
      "text/plain": [
       "<IPython.core.display.SVG object>"
      ]
     },
     "execution_count": 4,
     "metadata": {},
     "output_type": "execute_result"
    }
   ],
   "source": [
    "m.display_graph()"
   ]
  },
  {
   "cell_type": "markdown",
   "metadata": {},
   "source": [
    "Sipser allows a shorthand in which there are multiple symbols to the left of the arrow. For example, the transitions from `q5` to itself could be written `0,x -> L` for \"if the current symbol is either `0` or `x`, move left\". We don't allow this; instead, use two transitions.\n",
    "\n",
    "This machine recognizes the language $\\{\\texttt{0}^{2^n} \\mid n \\geq 0\\}$. Here's an example run:"
   ]
  },
  {
   "cell_type": "code",
   "execution_count": 5,
   "metadata": {
    "collapsed": false
   },
   "outputs": [
    {
     "data": {
      "image/svg+xml": [
       "<svg height=\"449pt\" viewBox=\"0.00 0.00 113.00 449.00\" width=\"113pt\" xmlns=\"http://www.w3.org/2000/svg\" xmlns:xlink=\"http://www.w3.org/1999/xlink\">\n",
       "<g class=\"graph\" id=\"graph0\" transform=\"scale(1 1) rotate(0) translate(4 445)\">\n",
       "<title>%3</title>\n",
       "<polygon fill=\"white\" points=\"-4,4 -4,-445 109,-445 109,4 -4,4\" stroke=\"none\"/>\n",
       "<!-- 4354973848 -->\n",
       "<g class=\"node\" id=\"node1\"><title>4354973848</title>\n",
       "<path d=\"M75.3333,-388C75.3333,-388 29.6667,-388 29.6667,-388 26.8333,-388 24,-385.167 24,-382.333 24,-382.333 24,-376.667 24,-376.667 24,-373.833 26.8333,-371 29.6667,-371 29.6667,-371 75.3333,-371 75.3333,-371 78.1667,-371 81,-373.833 81,-376.667 81,-376.667 81,-382.333 81,-382.333 81,-385.167 78.1667,-388 75.3333,-388\" fill=\"none\" stroke=\"black\"/>\n",
       "<text font-family=\"Courier,monospace\" font-size=\"10.00\" text-anchor=\"start\" x=\"28\" y=\"-377\">q1,[0] 0</text>\n",
       "</g>\n",
       "<!-- 4366240368 -->\n",
       "<g class=\"node\" id=\"node5\"><title>4366240368</title>\n",
       "<path d=\"M75.3333,-335C75.3333,-335 29.6667,-335 29.6667,-335 26.8333,-335 24,-332.167 24,-329.333 24,-329.333 24,-323.667 24,-323.667 24,-320.833 26.8333,-318 29.6667,-318 29.6667,-318 75.3333,-318 75.3333,-318 78.1667,-318 81,-320.833 81,-323.667 81,-323.667 81,-329.333 81,-329.333 81,-332.167 78.1667,-335 75.3333,-335\" fill=\"none\" stroke=\"black\"/>\n",
       "<text font-family=\"Courier,monospace\" font-size=\"10.00\" text-anchor=\"start\" x=\"28\" y=\"-324\">q2,_ [0]</text>\n",
       "</g>\n",
       "<!-- 4354973848&#45;&gt;4366240368 -->\n",
       "<g class=\"edge\" id=\"edge2\"><title>4354973848-&gt;4366240368</title>\n",
       "<path d=\"M52.5,-370.975C52.5,-362.914 52.5,-349.979 52.5,-340.31\" fill=\"none\" stroke=\"black\"/>\n",
       "<polygon fill=\"black\" points=\"52.5,-335.056 54.7501,-340.056 52.5,-337.556 52.5001,-340.056 52.5001,-340.056 52.5001,-340.056 52.5,-337.556 50.2501,-340.056 52.5,-335.056 52.5,-335.056\" stroke=\"black\"/>\n",
       "</g>\n",
       "<!-- 4366241304 -->\n",
       "<g class=\"node\" id=\"node2\"><title>4366241304</title>\n",
       "<path d=\"M75.3333,-176C75.3333,-176 29.6667,-176 29.6667,-176 26.8333,-176 24,-173.167 24,-170.333 24,-170.333 24,-164.667 24,-164.667 24,-161.833 26.8333,-159 29.6667,-159 29.6667,-159 75.3333,-159 75.3333,-159 78.1667,-159 81,-161.833 81,-164.667 81,-164.667 81,-170.333 81,-170.333 81,-173.167 78.1667,-176 75.3333,-176\" fill=\"none\" stroke=\"black\"/>\n",
       "<text font-family=\"Courier,monospace\" font-size=\"10.00\" text-anchor=\"start\" x=\"28\" y=\"-165\">q5,[_] x</text>\n",
       "</g>\n",
       "<!-- 4366241520 -->\n",
       "<g class=\"node\" id=\"node3\"><title>4366241520</title>\n",
       "<path d=\"M75.3333,-123C75.3333,-123 29.6667,-123 29.6667,-123 26.8333,-123 24,-120.167 24,-117.333 24,-117.333 24,-111.667 24,-111.667 24,-108.833 26.8333,-106 29.6667,-106 29.6667,-106 75.3333,-106 75.3333,-106 78.1667,-106 81,-108.833 81,-111.667 81,-111.667 81,-117.333 81,-117.333 81,-120.167 78.1667,-123 75.3333,-123\" fill=\"none\" stroke=\"black\"/>\n",
       "<text font-family=\"Courier,monospace\" font-size=\"10.00\" text-anchor=\"start\" x=\"28\" y=\"-112\">q2,_ [x]</text>\n",
       "</g>\n",
       "<!-- 4366241304&#45;&gt;4366241520 -->\n",
       "<g class=\"edge\" id=\"edge1\"><title>4366241304-&gt;4366241520</title>\n",
       "<path d=\"M52.5,-158.975C52.5,-150.914 52.5,-137.979 52.5,-128.31\" fill=\"none\" stroke=\"black\"/>\n",
       "<polygon fill=\"black\" points=\"52.5,-123.056 54.7501,-128.056 52.5,-125.556 52.5001,-128.056 52.5001,-128.056 52.5001,-128.056 52.5,-125.556 50.2501,-128.056 52.5,-123.056 52.5,-123.056\" stroke=\"black\"/>\n",
       "</g>\n",
       "<!-- 4366241736 -->\n",
       "<g class=\"node\" id=\"node6\"><title>4366241736</title>\n",
       "<path d=\"M81.3333,-70C81.3333,-70 23.6667,-70 23.6667,-70 20.8333,-70 18,-67.1667 18,-64.3333 18,-64.3333 18,-58.6667 18,-58.6667 18,-55.8333 20.8333,-53 23.6667,-53 23.6667,-53 81.3333,-53 81.3333,-53 84.1667,-53 87,-55.8333 87,-58.6667 87,-58.6667 87,-64.3333 87,-64.3333 87,-67.1667 84.1667,-70 81.3333,-70\" fill=\"none\" stroke=\"black\"/>\n",
       "<text font-family=\"Courier,monospace\" font-size=\"10.00\" text-anchor=\"start\" x=\"22\" y=\"-59\">q2,_ x [_]</text>\n",
       "</g>\n",
       "<!-- 4366241520&#45;&gt;4366241736 -->\n",
       "<g class=\"edge\" id=\"edge8\"><title>4366241520-&gt;4366241736</title>\n",
       "<path d=\"M52.5,-105.975C52.5,-97.9143 52.5,-84.9787 52.5,-75.3099\" fill=\"none\" stroke=\"black\"/>\n",
       "<polygon fill=\"black\" points=\"52.5,-70.0561 54.7501,-75.0561 52.5,-72.5561 52.5001,-75.0561 52.5001,-75.0561 52.5001,-75.0561 52.5,-72.5561 50.2501,-75.0561 52.5,-70.0561 52.5,-70.0561\" stroke=\"black\"/>\n",
       "</g>\n",
       "<!-- 4366241088 -->\n",
       "<g class=\"node\" id=\"node4\"><title>4366241088</title>\n",
       "<path d=\"M75.3333,-229C75.3333,-229 29.6667,-229 29.6667,-229 26.8333,-229 24,-226.167 24,-223.333 24,-223.333 24,-217.667 24,-217.667 24,-214.833 26.8333,-212 29.6667,-212 29.6667,-212 75.3333,-212 75.3333,-212 78.1667,-212 81,-214.833 81,-217.667 81,-217.667 81,-223.333 81,-223.333 81,-226.167 78.1667,-229 75.3333,-229\" fill=\"none\" stroke=\"black\"/>\n",
       "<text font-family=\"Courier,monospace\" font-size=\"10.00\" text-anchor=\"start\" x=\"28\" y=\"-218\">q5,_ [x]</text>\n",
       "</g>\n",
       "<!-- 4366241088&#45;&gt;4366241304 -->\n",
       "<g class=\"edge\" id=\"edge4\"><title>4366241088-&gt;4366241304</title>\n",
       "<path d=\"M52.5,-211.975C52.5,-203.914 52.5,-190.979 52.5,-181.31\" fill=\"none\" stroke=\"black\"/>\n",
       "<polygon fill=\"black\" points=\"52.5,-176.056 54.7501,-181.056 52.5,-178.556 52.5001,-181.056 52.5001,-181.056 52.5001,-181.056 52.5,-178.556 50.2501,-181.056 52.5,-176.056 52.5,-176.056\" stroke=\"black\"/>\n",
       "</g>\n",
       "<!-- 4366240872 -->\n",
       "<g class=\"node\" id=\"node8\"><title>4366240872</title>\n",
       "<path d=\"M81.3333,-282C81.3333,-282 23.6667,-282 23.6667,-282 20.8333,-282 18,-279.167 18,-276.333 18,-276.333 18,-270.667 18,-270.667 18,-267.833 20.8333,-265 23.6667,-265 23.6667,-265 81.3333,-265 81.3333,-265 84.1667,-265 87,-267.833 87,-270.667 87,-270.667 87,-276.333 87,-276.333 87,-279.167 84.1667,-282 81.3333,-282\" fill=\"none\" stroke=\"black\"/>\n",
       "<text font-family=\"Courier,monospace\" font-size=\"10.00\" text-anchor=\"start\" x=\"22\" y=\"-271\">q3,_ x [_]</text>\n",
       "</g>\n",
       "<!-- 4366240368&#45;&gt;4366240872 -->\n",
       "<g class=\"edge\" id=\"edge5\"><title>4366240368-&gt;4366240872</title>\n",
       "<path d=\"M52.5,-317.975C52.5,-309.914 52.5,-296.979 52.5,-287.31\" fill=\"none\" stroke=\"black\"/>\n",
       "<polygon fill=\"black\" points=\"52.5,-282.056 54.7501,-287.056 52.5,-284.556 52.5001,-287.056 52.5001,-287.056 52.5001,-287.056 52.5,-284.556 50.2501,-287.056 52.5,-282.056 52.5,-282.056\" stroke=\"black\"/>\n",
       "</g>\n",
       "<!-- 4366287072 -->\n",
       "<g class=\"node\" id=\"node9\"><title>4366287072</title>\n",
       "<path d=\"M99.3333,-17C99.3333,-17 5.66667,-17 5.66667,-17 2.83333,-17 0,-14.1667 0,-11.3333 0,-11.3333 0,-5.66667 0,-5.66667 0,-2.83333 2.83333,-0 5.66667,-0 5.66667,-0 99.3333,-0 99.3333,-0 102.167,-0 105,-2.83333 105,-5.66667 105,-5.66667 105,-11.3333 105,-11.3333 105,-14.1667 102.167,-17 99.3333,-17\" fill=\"none\" stroke=\"black\"/>\n",
       "<text font-family=\"Courier,monospace\" font-size=\"10.00\" text-anchor=\"start\" x=\"4\" y=\"-6\">ACCEPT,_ x _ [_]</text>\n",
       "</g>\n",
       "<!-- 4366241736&#45;&gt;4366287072 -->\n",
       "<g class=\"edge\" id=\"edge6\"><title>4366241736-&gt;4366287072</title>\n",
       "<path d=\"M52.5,-52.9748C52.5,-44.9143 52.5,-31.9787 52.5,-22.3099\" fill=\"none\" stroke=\"black\"/>\n",
       "<polygon fill=\"black\" points=\"52.5,-17.0561 54.7501,-22.0561 52.5,-19.5561 52.5001,-22.0561 52.5001,-22.0561 52.5001,-22.0561 52.5,-19.5561 50.2501,-22.0561 52.5,-17.0561 52.5,-17.0561\" stroke=\"black\"/>\n",
       "</g>\n",
       "<!-- 4366239792 -->\n",
       "<g class=\"node\" id=\"node7\"><title>4366239792</title>\n",
       "<path d=\"M84.3333,-441C84.3333,-441 20.6667,-441 20.6667,-441 17.8333,-441 15,-438.167 15,-435.333 15,-435.333 15,-429.667 15,-429.667 15,-426.833 17.8333,-424 20.6667,-424 20.6667,-424 84.3333,-424 84.3333,-424 87.1667,-424 90,-426.833 90,-429.667 90,-429.667 90,-435.333 90,-435.333 90,-438.167 87.1667,-441 84.3333,-441\" fill=\"none\" stroke=\"black\"/>\n",
       "<text font-family=\"Courier,monospace\" font-size=\"10.00\" text-anchor=\"start\" x=\"19\" y=\"-430\">START,[0] 0</text>\n",
       "</g>\n",
       "<!-- 4366239792&#45;&gt;4354973848 -->\n",
       "<g class=\"edge\" id=\"edge7\"><title>4366239792-&gt;4354973848</title>\n",
       "<path d=\"M52.5,-423.975C52.5,-415.914 52.5,-402.979 52.5,-393.31\" fill=\"none\" stroke=\"black\"/>\n",
       "<polygon fill=\"black\" points=\"52.5,-388.056 54.7501,-393.056 52.5,-390.556 52.5001,-393.056 52.5001,-393.056 52.5001,-393.056 52.5,-390.556 50.2501,-393.056 52.5,-388.056 52.5,-388.056\" stroke=\"black\"/>\n",
       "</g>\n",
       "<!-- 4366240872&#45;&gt;4366241088 -->\n",
       "<g class=\"edge\" id=\"edge3\"><title>4366240872-&gt;4366241088</title>\n",
       "<path d=\"M52.5,-264.975C52.5,-256.914 52.5,-243.979 52.5,-234.31\" fill=\"none\" stroke=\"black\"/>\n",
       "<polygon fill=\"black\" points=\"52.5,-229.056 54.7501,-234.056 52.5,-231.556 52.5001,-234.056 52.5001,-234.056 52.5001,-234.056 52.5,-231.556 50.2501,-234.056 52.5,-229.056 52.5,-229.056\" stroke=\"black\"/>\n",
       "</g>\n",
       "</g>\n",
       "</svg>"
      ],
      "text/plain": [
       "<IPython.core.display.SVG object>"
      ]
     },
     "metadata": {},
     "output_type": "display_data"
    }
   ],
   "source": [
    "m.run(\"00\")"
   ]
  },
  {
   "cell_type": "markdown",
   "metadata": {},
   "source": [
    "Each node shows both the state and the tape, with the head position indicated using square brackets. This run ended in the `ACCEPT` state, so the machine accepted the string."
   ]
  },
  {
   "cell_type": "code",
   "execution_count": 6,
   "metadata": {
    "collapsed": false
   },
   "outputs": [
    {
     "data": {
      "image/svg+xml": [
       "<svg height=\"290pt\" viewBox=\"0.00 0.00 125.00 290.00\" width=\"125pt\" xmlns=\"http://www.w3.org/2000/svg\" xmlns:xlink=\"http://www.w3.org/1999/xlink\">\n",
       "<g class=\"graph\" id=\"graph0\" transform=\"scale(1 1) rotate(0) translate(4 286)\">\n",
       "<title>%3</title>\n",
       "<polygon fill=\"white\" points=\"-4,4 -4,-286 121,-286 121,4 -4,4\" stroke=\"none\"/>\n",
       "<!-- 4366287504 -->\n",
       "<g class=\"node\" id=\"node1\"><title>4366287504</title>\n",
       "<path d=\"M87.3333,-229C87.3333,-229 29.6667,-229 29.6667,-229 26.8333,-229 24,-226.167 24,-223.333 24,-223.333 24,-217.667 24,-217.667 24,-214.833 26.8333,-212 29.6667,-212 29.6667,-212 87.3333,-212 87.3333,-212 90.1667,-212 93,-214.833 93,-217.667 93,-217.667 93,-223.333 93,-223.333 93,-226.167 90.1667,-229 87.3333,-229\" fill=\"none\" stroke=\"black\"/>\n",
       "<text font-family=\"Courier,monospace\" font-size=\"10.00\" text-anchor=\"start\" x=\"28\" y=\"-218\">q1,[0] 0 0</text>\n",
       "</g>\n",
       "<!-- 4366287720 -->\n",
       "<g class=\"node\" id=\"node2\"><title>4366287720</title>\n",
       "<path d=\"M87.3333,-176C87.3333,-176 29.6667,-176 29.6667,-176 26.8333,-176 24,-173.167 24,-170.333 24,-170.333 24,-164.667 24,-164.667 24,-161.833 26.8333,-159 29.6667,-159 29.6667,-159 87.3333,-159 87.3333,-159 90.1667,-159 93,-161.833 93,-164.667 93,-164.667 93,-170.333 93,-170.333 93,-173.167 90.1667,-176 87.3333,-176\" fill=\"none\" stroke=\"black\"/>\n",
       "<text font-family=\"Courier,monospace\" font-size=\"10.00\" text-anchor=\"start\" x=\"28\" y=\"-165\">q2,_ [0] 0</text>\n",
       "</g>\n",
       "<!-- 4366287504&#45;&gt;4366287720 -->\n",
       "<g class=\"edge\" id=\"edge3\"><title>4366287504-&gt;4366287720</title>\n",
       "<path d=\"M58.5,-211.975C58.5,-203.914 58.5,-190.979 58.5,-181.31\" fill=\"none\" stroke=\"black\"/>\n",
       "<polygon fill=\"black\" points=\"58.5,-176.056 60.7501,-181.056 58.5,-178.556 58.5001,-181.056 58.5001,-181.056 58.5001,-181.056 58.5,-178.556 56.2501,-181.056 58.5,-176.056 58.5,-176.056\" stroke=\"black\"/>\n",
       "</g>\n",
       "<!-- 4366287936 -->\n",
       "<g class=\"node\" id=\"node3\"><title>4366287936</title>\n",
       "<path d=\"M87.3333,-123C87.3333,-123 29.6667,-123 29.6667,-123 26.8333,-123 24,-120.167 24,-117.333 24,-117.333 24,-111.667 24,-111.667 24,-108.833 26.8333,-106 29.6667,-106 29.6667,-106 87.3333,-106 87.3333,-106 90.1667,-106 93,-108.833 93,-111.667 93,-111.667 93,-117.333 93,-117.333 93,-120.167 90.1667,-123 87.3333,-123\" fill=\"none\" stroke=\"black\"/>\n",
       "<text font-family=\"Courier,monospace\" font-size=\"10.00\" text-anchor=\"start\" x=\"28\" y=\"-112\">q3,_ x [0]</text>\n",
       "</g>\n",
       "<!-- 4366287720&#45;&gt;4366287936 -->\n",
       "<g class=\"edge\" id=\"edge5\"><title>4366287720-&gt;4366287936</title>\n",
       "<path d=\"M58.5,-158.975C58.5,-150.914 58.5,-137.979 58.5,-128.31\" fill=\"none\" stroke=\"black\"/>\n",
       "<polygon fill=\"black\" points=\"58.5,-123.056 60.7501,-128.056 58.5,-125.556 58.5001,-128.056 58.5001,-128.056 58.5001,-128.056 58.5,-125.556 56.2501,-128.056 58.5,-123.056 58.5,-123.056\" stroke=\"black\"/>\n",
       "</g>\n",
       "<!-- 4366570776 -->\n",
       "<g class=\"node\" id=\"node4\"><title>4366570776</title>\n",
       "<path d=\"M93.3333,-70C93.3333,-70 23.6667,-70 23.6667,-70 20.8333,-70 18,-67.1667 18,-64.3333 18,-64.3333 18,-58.6667 18,-58.6667 18,-55.8333 20.8333,-53 23.6667,-53 23.6667,-53 93.3333,-53 93.3333,-53 96.1667,-53 99,-55.8333 99,-58.6667 99,-58.6667 99,-64.3333 99,-64.3333 99,-67.1667 96.1667,-70 93.3333,-70\" fill=\"none\" stroke=\"black\"/>\n",
       "<text font-family=\"Courier,monospace\" font-size=\"10.00\" text-anchor=\"start\" x=\"22\" y=\"-59\">q4,_ x 0 [_]</text>\n",
       "</g>\n",
       "<!-- 4366287936&#45;&gt;4366570776 -->\n",
       "<g class=\"edge\" id=\"edge2\"><title>4366287936-&gt;4366570776</title>\n",
       "<path d=\"M58.5,-105.975C58.5,-97.9143 58.5,-84.9787 58.5,-75.3099\" fill=\"none\" stroke=\"black\"/>\n",
       "<polygon fill=\"black\" points=\"58.5,-70.0561 60.7501,-75.0561 58.5,-72.5561 58.5001,-75.0561 58.5001,-75.0561 58.5001,-75.0561 58.5,-72.5561 56.2501,-75.0561 58.5,-70.0561 58.5,-70.0561\" stroke=\"black\"/>\n",
       "</g>\n",
       "<!-- 4366571352 -->\n",
       "<g class=\"node\" id=\"node6\"><title>4366571352</title>\n",
       "<path d=\"M111.333,-17C111.333,-17 5.66667,-17 5.66667,-17 2.83333,-17 7.10543e-15,-14.1667 7.10543e-15,-11.3333 7.10543e-15,-11.3333 7.10543e-15,-5.66667 7.10543e-15,-5.66667 7.10543e-15,-2.83333 2.83333,-0 5.66667,-0 5.66667,-0 111.333,-0 111.333,-0 114.167,-0 117,-2.83333 117,-5.66667 117,-5.66667 117,-11.3333 117,-11.3333 117,-14.1667 114.167,-17 111.333,-17\" fill=\"none\" stroke=\"black\"/>\n",
       "<text font-family=\"Courier,monospace\" font-size=\"10.00\" text-anchor=\"start\" x=\"4\" y=\"-6\">REJECT,_ x 0 _ [_]</text>\n",
       "</g>\n",
       "<!-- 4366570776&#45;&gt;4366571352 -->\n",
       "<g class=\"edge\" id=\"edge4\"><title>4366570776-&gt;4366571352</title>\n",
       "<path d=\"M58.5,-52.9748C58.5,-44.9143 58.5,-31.9787 58.5,-22.3099\" fill=\"none\" stroke=\"black\"/>\n",
       "<polygon fill=\"black\" points=\"58.5,-17.0561 60.7501,-22.0561 58.5,-19.5561 58.5001,-22.0561 58.5001,-22.0561 58.5001,-22.0561 58.5,-19.5561 56.2501,-22.0561 58.5,-17.0561 58.5,-17.0561\" stroke=\"black\"/>\n",
       "</g>\n",
       "<!-- 4366240080 -->\n",
       "<g class=\"node\" id=\"node5\"><title>4366240080</title>\n",
       "<path d=\"M96.3333,-282C96.3333,-282 20.6667,-282 20.6667,-282 17.8333,-282 15,-279.167 15,-276.333 15,-276.333 15,-270.667 15,-270.667 15,-267.833 17.8333,-265 20.6667,-265 20.6667,-265 96.3333,-265 96.3333,-265 99.1667,-265 102,-267.833 102,-270.667 102,-270.667 102,-276.333 102,-276.333 102,-279.167 99.1667,-282 96.3333,-282\" fill=\"none\" stroke=\"black\"/>\n",
       "<text font-family=\"Courier,monospace\" font-size=\"10.00\" text-anchor=\"start\" x=\"19\" y=\"-271\">START,[0] 0 0</text>\n",
       "</g>\n",
       "<!-- 4366240080&#45;&gt;4366287504 -->\n",
       "<g class=\"edge\" id=\"edge1\"><title>4366240080-&gt;4366287504</title>\n",
       "<path d=\"M58.5,-264.975C58.5,-256.914 58.5,-243.979 58.5,-234.31\" fill=\"none\" stroke=\"black\"/>\n",
       "<polygon fill=\"black\" points=\"58.5,-229.056 60.7501,-234.056 58.5,-231.556 58.5001,-234.056 58.5001,-234.056 58.5001,-234.056 58.5,-231.556 56.2501,-234.056 58.5,-229.056 58.5,-229.056\" stroke=\"black\"/>\n",
       "</g>\n",
       "</g>\n",
       "</svg>"
      ],
      "text/plain": [
       "<IPython.core.display.SVG object>"
      ]
     },
     "metadata": {},
     "output_type": "display_data"
    }
   ],
   "source": [
    "m.run(\"000\")"
   ]
  },
  {
   "cell_type": "markdown",
   "metadata": {},
   "source": [
    "This run ended in the `REJECT` state, so the machine rejected the string."
   ]
  }
 ],
 "metadata": {
  "kernelspec": {
   "display_name": "Python 2",
   "language": "python",
   "name": "python2"
  },
  "language_info": {
   "codemirror_mode": {
    "name": "ipython",
    "version": 2
   },
   "file_extension": ".py",
   "mimetype": "text/x-python",
   "name": "python",
   "nbconvert_exporter": "python",
   "pygments_lexer": "ipython2",
   "version": "2.7.10"
  }
 },
 "nbformat": 4,
 "nbformat_minor": 0
}
