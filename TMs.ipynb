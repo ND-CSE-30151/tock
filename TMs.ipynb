{
 "cells": [
  {
   "cell_type": "code",
   "execution_count": 1,
   "metadata": {
    "collapsed": true
   },
   "outputs": [],
   "source": [
    "from tock import *"
   ]
  },
  {
   "cell_type": "markdown",
   "metadata": {},
   "source": [
    "# Turing machines\n",
    "\n",
    "Turing machines (TMs) have a finite state and an input, but the input is now a `tape` that machine can move in either direction on and also write on. By default, TMs are deterministic. Although Sipser never actually writes the transition function of a TM as a table, it's a perfectly reasonable thing to do. However, we use a different notation for moves. The machine in Example 3.7 and Figure 3.8 would be:"
   ]
  },
  {
   "cell_type": "code",
   "execution_count": 2,
   "metadata": {
    "collapsed": false
   },
   "outputs": [
    {
     "data": {
      "text/plain": [
       "(False, True)"
      ]
     },
     "execution_count": 2,
     "metadata": {},
     "output_type": "execute_result"
    }
   ],
   "source": [
    "m = read_csv(\"examples/dtm.csv\")\n",
    "m.is_pushdown(), m.is_deterministic()"
   ]
  },
  {
   "cell_type": "code",
   "execution_count": 3,
   "metadata": {
    "collapsed": false
   },
   "outputs": [
    {
     "data": {
      "text/html": [
       "<table style=\"font-family: Courier, monospace;\">\n",
       "  <tr><td></td><th>0</th><th>_</th><th>x</th></tr>\n",
       "  <tr><th>&gt;q1</th><td>q2,_ ^</td><td>REJECT,_ ^</td><td>REJECT,x ^</td></tr>\n",
       "  <tr><th>q2</th><td>q3,x ^</td><td>ACCEPT,_ ^</td><td>q2,x ^</td></tr>\n",
       "  <tr><th>q3</th><td>q4,0 ^</td><td>q5,^ _</td><td>q3,x ^</td></tr>\n",
       "  <tr><th>q4</th><td>q3,x ^</td><td>REJECT,_ ^</td><td>q4,x ^</td></tr>\n",
       "  <tr><th>q5</th><td>q5,^ 0</td><td>q2,_ ^</td><td>q5,^ x</td></tr>\n",
       "</table>\n"
      ],
      "text/plain": [
       "<IPython.core.display.HTML object>"
      ]
     },
     "execution_count": 3,
     "metadata": {},
     "output_type": "execute_result"
    }
   ],
   "source": [
    "display_table(m)"
   ]
  },
  {
   "cell_type": "markdown",
   "metadata": {},
   "source": [
    "As always, the first column lists the possible states, and the start state is marked with a `>`. But there are no final states. Instead, the accept state and reject state are always named `ACCEPT` and `REJECT`, respectively. You don't need to make an empty row in the table for them.\n",
    "\n",
    "The first row lists possible tape symbols. Use `_` for the blank symbol.\n",
    "\n",
    "In the cells, Sipser uses `L` and `R` for moving left and right. We use a different notation: use `^` to indicate the head position. For example, if the machine is in state `q1` and the current tape symbol is `0`, then the machine changes to state `q2`, erases (writes `_`), and moves to the right. If the machine is in state `q5` and the current tape symbol is `0`, then the machine rewrites the `0` and moves left.\n",
    "\n",
    "In the second example (state `q5` and symbol `0`), Sipser would have allowed you to write just `R` for \"don't write anything and move right\". We don't allow this shorthand (sorry). Instead, you have to rewrite the same symbol that was read.\n",
    "\n",
    "Here's the state transition diagram, which might or might not be more intuitive:"
   ]
  },
  {
   "cell_type": "code",
   "execution_count": 4,
   "metadata": {
    "collapsed": false
   },
   "outputs": [
    {
     "data": {
      "image/svg+xml": [
       "<svg height=\"202pt\" viewBox=\"0.00 0.00 528.00 201.50\" width=\"528pt\" xmlns=\"http://www.w3.org/2000/svg\" xmlns:xlink=\"http://www.w3.org/1999/xlink\">\n",
       "<g class=\"graph\" id=\"graph0\" transform=\"scale(1 1) rotate(0) translate(4 197.5)\">\n",
       "<title>%3</title>\n",
       "<polygon fill=\"white\" points=\"-4,4 -4,-197.5 524,-197.5 524,4 -4,4\" stroke=\"none\"/>\n",
       "<!-- START -->\n",
       "<g class=\"node\" id=\"node1\"><title>START</title>\n",
       "</g>\n",
       "<!-- 2 -->\n",
       "<g class=\"node\" id=\"node4\"><title>2</title>\n",
       "<path d=\"M53.3333,-143C53.3333,-143 43.6667,-143 43.6667,-143 40.8333,-143 38,-140.167 38,-137.333 38,-137.333 38,-131.667 38,-131.667 38,-128.833 40.8333,-126 43.6667,-126 43.6667,-126 53.3333,-126 53.3333,-126 56.1667,-126 59,-128.833 59,-131.667 59,-131.667 59,-137.333 59,-137.333 59,-140.167 56.1667,-143 53.3333,-143\" fill=\"none\" stroke=\"black\"/>\n",
       "<text font-family=\"Courier,monospace\" font-size=\"10.00\" text-anchor=\"middle\" x=\"48.5\" y=\"-132\">q1</text>\n",
       "</g>\n",
       "<!-- START&#45;&gt;2 -->\n",
       "<g class=\"edge\" id=\"edge1\"><title>START-&gt;2</title>\n",
       "<path d=\"M1.13339,-134.5C2.79277,-134.5 19.5956,-134.5 32.5011,-134.5\" fill=\"none\" stroke=\"black\"/>\n",
       "<polygon fill=\"black\" points=\"37.7379,-134.5 32.738,-136.75 35.2379,-134.5 32.7379,-134.5 32.7379,-134.5 32.7379,-134.5 35.2379,-134.5 32.7379,-132.25 37.7379,-134.5 37.7379,-134.5\" stroke=\"black\"/>\n",
       "</g>\n",
       "<!-- 0 -->\n",
       "<g class=\"node\" id=\"node2\"><title>0</title>\n",
       "<path d=\"M279.333,-127C279.333,-127 245.667,-127 245.667,-127 242.833,-127 240,-124.167 240,-121.333 240,-121.333 240,-115.667 240,-115.667 240,-112.833 242.833,-110 245.667,-110 245.667,-110 279.333,-110 279.333,-110 282.167,-110 285,-112.833 285,-115.667 285,-115.667 285,-121.333 285,-121.333 285,-124.167 282.167,-127 279.333,-127\" fill=\"none\" stroke=\"black\"/>\n",
       "<text font-family=\"Courier,monospace\" font-size=\"10.00\" text-anchor=\"middle\" x=\"262.5\" y=\"-116\">ACCEPT</text>\n",
       "</g>\n",
       "<!-- 1 -->\n",
       "<g class=\"node\" id=\"node3\"><title>1</title>\n",
       "<path d=\"M514.333,-146C514.333,-146 480.667,-146 480.667,-146 477.833,-146 475,-143.167 475,-140.333 475,-140.333 475,-134.667 475,-134.667 475,-131.833 477.833,-129 480.667,-129 480.667,-129 514.333,-129 514.333,-129 517.167,-129 520,-131.833 520,-134.667 520,-134.667 520,-140.333 520,-140.333 520,-143.167 517.167,-146 514.333,-146\" fill=\"none\" stroke=\"black\"/>\n",
       "<text font-family=\"Courier,monospace\" font-size=\"10.00\" text-anchor=\"middle\" x=\"497.5\" y=\"-135\">REJECT</text>\n",
       "</g>\n",
       "<!-- 2&#45;&gt;1 -->\n",
       "<g class=\"edge\" id=\"edge6\"><title>2-&gt;1</title>\n",
       "<path d=\"M59.0625,-139.289C76.4207,-147.526 114.472,-163.5 148.5,-163.5 148.5,-163.5 148.5,-163.5 381,-163.5 412.086,-163.5 446.755,-154.425 469.923,-146.998\" fill=\"none\" stroke=\"black\"/>\n",
       "<polygon fill=\"black\" points=\"474.687,-145.442 470.632,-149.133 472.31,-146.218 469.934,-146.995 469.934,-146.995 469.934,-146.995 472.31,-146.218 469.235,-144.856 474.687,-145.442 474.687,-145.442\" stroke=\"black\"/>\n",
       "<text font-family=\"Courier,monospace\" font-size=\"9.00\" text-anchor=\"start\" x=\"243.5\" y=\"-183.3\">_ → _ ^</text>\n",
       "<text font-family=\"Courier,monospace\" font-size=\"9.00\" text-anchor=\"start\" x=\"243.5\" y=\"-169.3\">x → x ^</text>\n",
       "</g>\n",
       "<!-- 3 -->\n",
       "<g class=\"node\" id=\"node5\"><title>3</title>\n",
       "<path d=\"M154.333,-87C154.333,-87 144.667,-87 144.667,-87 141.833,-87 139,-84.1667 139,-81.3333 139,-81.3333 139,-75.6667 139,-75.6667 139,-72.8333 141.833,-70 144.667,-70 144.667,-70 154.333,-70 154.333,-70 157.167,-70 160,-72.8333 160,-75.6667 160,-75.6667 160,-81.3333 160,-81.3333 160,-84.1667 157.167,-87 154.333,-87\" fill=\"none\" stroke=\"black\"/>\n",
       "<text font-family=\"Courier,monospace\" font-size=\"10.00\" text-anchor=\"middle\" x=\"149.5\" y=\"-76\">q2</text>\n",
       "</g>\n",
       "<!-- 2&#45;&gt;3 -->\n",
       "<g class=\"edge\" id=\"edge12\"><title>2-&gt;3</title>\n",
       "<path d=\"M59.3544,-128.926C77.0129,-118.937 114.097,-97.9602 134.428,-86.4597\" fill=\"none\" stroke=\"black\"/>\n",
       "<polygon fill=\"black\" points=\"138.977,-83.887 135.732,-88.3072 136.801,-85.1179 134.625,-86.3488 134.625,-86.3488 134.625,-86.3488 136.801,-85.1179 133.517,-84.3904 138.977,-83.887 138.977,-83.887\" stroke=\"black\"/>\n",
       "<text font-family=\"Courier,monospace\" font-size=\"9.00\" text-anchor=\"start\" x=\"80\" y=\"-124.3\">0 → _ ^</text>\n",
       "</g>\n",
       "<!-- 3&#45;&gt;0 -->\n",
       "<g class=\"edge\" id=\"edge13\"><title>3-&gt;0</title>\n",
       "<path d=\"M160.038,-83.381C165.27,-85.9629 171.912,-89.0883 178,-91.5 196.742,-98.9242 218.416,-105.887 234.984,-110.881\" fill=\"none\" stroke=\"black\"/>\n",
       "<polygon fill=\"black\" points=\"239.953,-112.366 234.518,-113.09 237.558,-111.651 235.163,-110.935 235.163,-110.935 235.163,-110.935 237.558,-111.651 235.807,-108.779 239.953,-112.366 239.953,-112.366\" stroke=\"black\"/>\n",
       "<text font-family=\"Courier,monospace\" font-size=\"9.00\" text-anchor=\"start\" x=\"181\" y=\"-113.3\">_ → _ ^</text>\n",
       "</g>\n",
       "<!-- 3&#45;&gt;3 -->\n",
       "<g class=\"edge\" id=\"edge3\"><title>3-&gt;3</title>\n",
       "<path d=\"M142.05,-87.1857C137.935,-95.6739 140.418,-105 149.5,-105 156.879,-105 159.902,-98.8433 158.569,-91.9817\" fill=\"none\" stroke=\"black\"/>\n",
       "<polygon fill=\"black\" points=\"156.95,-87.1857 160.681,-91.2034 157.75,-89.5544 158.549,-91.9231 158.549,-91.9231 158.549,-91.9231 157.75,-89.5544 156.417,-92.6427 156.95,-87.1857 156.95,-87.1857\" stroke=\"black\"/>\n",
       "<text font-family=\"Courier,monospace\" font-size=\"9.00\" text-anchor=\"start\" x=\"130.5\" y=\"-110.8\">x → x ^</text>\n",
       "</g>\n",
       "<!-- 4 -->\n",
       "<g class=\"node\" id=\"node6\"><title>4</title>\n",
       "<path d=\"M267.333,-58C267.333,-58 257.667,-58 257.667,-58 254.833,-58 252,-55.1667 252,-52.3333 252,-52.3333 252,-46.6667 252,-46.6667 252,-43.8333 254.833,-41 257.667,-41 257.667,-41 267.333,-41 267.333,-41 270.167,-41 273,-43.8333 273,-46.6667 273,-46.6667 273,-52.3333 273,-52.3333 273,-55.1667 270.167,-58 267.333,-58\" fill=\"none\" stroke=\"black\"/>\n",
       "<text font-family=\"Courier,monospace\" font-size=\"10.00\" text-anchor=\"middle\" x=\"262.5\" y=\"-47\">q3</text>\n",
       "</g>\n",
       "<!-- 3&#45;&gt;4 -->\n",
       "<g class=\"edge\" id=\"edge2\"><title>3-&gt;4</title>\n",
       "<path d=\"M160.351,-75.9264C179.9,-70.8188 223.697,-59.3764 246.717,-53.3621\" fill=\"none\" stroke=\"black\"/>\n",
       "<polygon fill=\"black\" points=\"251.83,-52.0264 247.561,-55.4673 249.411,-52.6584 246.992,-53.2903 246.992,-53.2903 246.992,-53.2903 249.411,-52.6584 246.424,-51.1134 251.83,-52.0264 251.83,-52.0264\" stroke=\"black\"/>\n",
       "<text font-family=\"Courier,monospace\" font-size=\"9.00\" text-anchor=\"start\" x=\"181\" y=\"-77.3\">0 → x ^</text>\n",
       "</g>\n",
       "<!-- 4&#45;&gt;4 -->\n",
       "<g class=\"edge\" id=\"edge8\"><title>4-&gt;4</title>\n",
       "<path d=\"M253.262,-58.1857C248.159,-66.6739 251.238,-76 262.5,-76 271.65,-76 275.399,-69.8433 273.746,-62.9817\" fill=\"none\" stroke=\"black\"/>\n",
       "<polygon fill=\"black\" points=\"271.738,-58.1857 275.744,-61.9292 272.703,-60.4918 273.669,-62.7979 273.669,-62.7979 273.669,-62.7979 272.703,-60.4918 271.593,-63.6667 271.738,-58.1857 271.738,-58.1857\" stroke=\"black\"/>\n",
       "<text font-family=\"Courier,monospace\" font-size=\"9.00\" text-anchor=\"start\" x=\"243.5\" y=\"-81.8\">x → x ^</text>\n",
       "</g>\n",
       "<!-- 5 -->\n",
       "<g class=\"node\" id=\"node7\"><title>5</title>\n",
       "<path d=\"M384.833,-101C384.833,-101 375.167,-101 375.167,-101 372.333,-101 369.5,-98.1667 369.5,-95.3333 369.5,-95.3333 369.5,-89.6667 369.5,-89.6667 369.5,-86.8333 372.333,-84 375.167,-84 375.167,-84 384.833,-84 384.833,-84 387.667,-84 390.5,-86.8333 390.5,-89.6667 390.5,-89.6667 390.5,-95.3333 390.5,-95.3333 390.5,-98.1667 387.667,-101 384.833,-101\" fill=\"none\" stroke=\"black\"/>\n",
       "<text font-family=\"Courier,monospace\" font-size=\"10.00\" text-anchor=\"middle\" x=\"380\" y=\"-90\">q4</text>\n",
       "</g>\n",
       "<!-- 4&#45;&gt;5 -->\n",
       "<g class=\"edge\" id=\"edge9\"><title>4-&gt;5</title>\n",
       "<path d=\"M270.68,-58.1029C277.934,-66.1427 289.913,-77.7452 303,-83.5 322.715,-92.1694 347.933,-93.4685 363.782,-93.255\" fill=\"none\" stroke=\"black\"/>\n",
       "<polygon fill=\"black\" points=\"369.169,-93.1188 364.228,-95.4945 366.67,-93.182 364.171,-93.2453 364.171,-93.2453 364.171,-93.2453 366.67,-93.182 364.114,-90.996 369.169,-93.1188 369.169,-93.1188\" stroke=\"black\"/>\n",
       "<text font-family=\"Courier,monospace\" font-size=\"9.00\" text-anchor=\"start\" x=\"306\" y=\"-99.3\">0 → 0 ^</text>\n",
       "</g>\n",
       "<!-- 6 -->\n",
       "<g class=\"node\" id=\"node8\"><title>6</title>\n",
       "<path d=\"M384.833,-17C384.833,-17 375.167,-17 375.167,-17 372.333,-17 369.5,-14.1667 369.5,-11.3333 369.5,-11.3333 369.5,-5.66667 369.5,-5.66667 369.5,-2.83333 372.333,-0 375.167,-0 375.167,-0 384.833,-0 384.833,-0 387.667,-0 390.5,-2.83333 390.5,-5.66667 390.5,-5.66667 390.5,-11.3333 390.5,-11.3333 390.5,-14.1667 387.667,-17 384.833,-17\" fill=\"none\" stroke=\"black\"/>\n",
       "<text font-family=\"Courier,monospace\" font-size=\"10.00\" text-anchor=\"middle\" x=\"380\" y=\"-6\">q5</text>\n",
       "</g>\n",
       "<!-- 4&#45;&gt;6 -->\n",
       "<g class=\"edge\" id=\"edge5\"><title>4-&gt;6</title>\n",
       "<path d=\"M273.263,-43.4889C281.078,-38.8813 292.44,-32.6319 303,-28.5 323.595,-20.4412 348.579,-14.5694 364.137,-11.346\" fill=\"none\" stroke=\"black\"/>\n",
       "<polygon fill=\"black\" points=\"369.417,-10.2791 364.962,-13.4749 366.966,-10.7743 364.516,-11.2695 364.516,-11.2695 364.516,-11.2695 366.966,-10.7743 364.07,-9.06408 369.417,-10.2791 369.417,-10.2791\" stroke=\"black\"/>\n",
       "<text font-family=\"Courier,monospace\" font-size=\"9.00\" text-anchor=\"start\" x=\"306\" y=\"-34.3\">_ → ^ _</text>\n",
       "</g>\n",
       "<!-- 5&#45;&gt;1 -->\n",
       "<g class=\"edge\" id=\"edge10\"><title>5-&gt;1</title>\n",
       "<path d=\"M390.847,-96.3367C408.134,-103.072 444.492,-117.237 469.693,-127.056\" fill=\"none\" stroke=\"black\"/>\n",
       "<polygon fill=\"black\" points=\"474.576,-128.958 469.1,-129.239 472.246,-128.05 469.917,-127.143 469.917,-127.143 469.917,-127.143 472.246,-128.05 470.734,-125.046 474.576,-128.958 474.576,-128.958\" stroke=\"black\"/>\n",
       "<text font-family=\"Courier,monospace\" font-size=\"9.00\" text-anchor=\"start\" x=\"416\" y=\"-128.3\">_ → _ ^</text>\n",
       "</g>\n",
       "<!-- 5&#45;&gt;4 -->\n",
       "<g class=\"edge\" id=\"edge11\"><title>5-&gt;4</title>\n",
       "<path d=\"M372.051,-83.9542C366.121,-77.275 356.986,-68.3384 347,-63.5 324.776,-52.732 295.759,-50.0678 278.436,-49.5085\" fill=\"none\" stroke=\"black\"/>\n",
       "<polygon fill=\"black\" points=\"273.037,-49.3908 278.085,-47.2504 275.536,-49.4453 278.036,-49.4998 278.036,-49.4998 278.036,-49.4998 275.536,-49.4453 277.987,-51.7493 273.037,-49.3908 273.037,-49.3908\" stroke=\"black\"/>\n",
       "<text font-family=\"Courier,monospace\" font-size=\"9.00\" text-anchor=\"start\" x=\"306\" y=\"-69.3\">0 → x ^</text>\n",
       "</g>\n",
       "<!-- 5&#45;&gt;5 -->\n",
       "<g class=\"edge\" id=\"edge14\"><title>5-&gt;5</title>\n",
       "<path d=\"M371.954,-101.186C367.509,-109.674 370.191,-119 380,-119 387.969,-119 391.234,-112.843 389.795,-105.982\" fill=\"none\" stroke=\"black\"/>\n",
       "<polygon fill=\"black\" points=\"388.046,-101.186 391.873,-105.113 388.902,-103.534 389.759,-105.883 389.759,-105.883 389.759,-105.883 388.902,-103.534 387.645,-106.654 388.046,-101.186 388.046,-101.186\" stroke=\"black\"/>\n",
       "<text font-family=\"Courier,monospace\" font-size=\"9.00\" text-anchor=\"start\" x=\"361\" y=\"-124.8\">x → x ^</text>\n",
       "</g>\n",
       "<!-- 6&#45;&gt;3 -->\n",
       "<g class=\"edge\" id=\"edge7\"><title>6-&gt;3</title>\n",
       "<path d=\"M369.22,-7.19546C346.028,-4.48082 286.184,0.288671 240,-15.5 208.838,-26.1531 178.849,-51.2567 162.727,-66.3622\" fill=\"none\" stroke=\"black\"/>\n",
       "<polygon fill=\"black\" points=\"158.935,-69.9723 161.005,-64.8951 160.745,-68.2485 162.556,-66.5248 162.556,-66.5248 162.556,-66.5248 160.745,-68.2485 164.108,-68.1545 158.935,-69.9723 158.935,-69.9723\" stroke=\"black\"/>\n",
       "<text font-family=\"Courier,monospace\" font-size=\"9.00\" text-anchor=\"start\" x=\"243.5\" y=\"-21.3\">_ → _ ^</text>\n",
       "</g>\n",
       "<!-- 6&#45;&gt;6 -->\n",
       "<g class=\"edge\" id=\"edge4\"><title>6-&gt;6</title>\n",
       "<path d=\"M371.954,-17.1857C367.509,-25.6739 370.191,-35 380,-35 387.969,-35 391.234,-28.8433 389.795,-21.9817\" fill=\"none\" stroke=\"black\"/>\n",
       "<polygon fill=\"black\" points=\"388.046,-17.1857 391.873,-21.1126 388.902,-19.5345 389.759,-21.8833 389.759,-21.8833 389.759,-21.8833 388.902,-19.5345 387.645,-22.6539 388.046,-17.1857 388.046,-17.1857\" stroke=\"black\"/>\n",
       "<text font-family=\"Courier,monospace\" font-size=\"9.00\" text-anchor=\"start\" x=\"361\" y=\"-54.8\">0 → ^ 0</text>\n",
       "<text font-family=\"Courier,monospace\" font-size=\"9.00\" text-anchor=\"start\" x=\"361\" y=\"-40.8\">x → ^ x</text>\n",
       "</g>\n",
       "</g>\n",
       "</svg>"
      ],
      "text/plain": [
       "<IPython.core.display.SVG object>"
      ]
     },
     "execution_count": 4,
     "metadata": {},
     "output_type": "execute_result"
    }
   ],
   "source": [
    "display_graph(m)"
   ]
  },
  {
   "cell_type": "markdown",
   "metadata": {},
   "source": [
    "Sipser allows a shorthand in which there are multiple symbols to the left of the arrow. For example, the transitions from `q5` to itself could be written `0,x -> L` for \"if the current symbol is either `0` or `x`, move left\". We don't allow this; instead, use two transitions.\n",
    "\n",
    "This machine recognizes the language $\\{\\texttt{0}^{2^n} \\mid n \\geq 0\\}$. Here's an example run:"
   ]
  },
  {
   "cell_type": "code",
   "execution_count": 5,
   "metadata": {
    "collapsed": false
   },
   "outputs": [
    {
     "data": {
      "image/svg+xml": [
       "<svg height=\"449pt\" viewBox=\"0.00 0.00 101.00 449.00\" width=\"101pt\" xmlns=\"http://www.w3.org/2000/svg\" xmlns:xlink=\"http://www.w3.org/1999/xlink\">\n",
       "<g class=\"graph\" id=\"graph0\" transform=\"scale(1 1) rotate(0) translate(4 445)\">\n",
       "<title>%3</title>\n",
       "<polygon fill=\"white\" points=\"-4,4 -4,-445 97,-445 97,4 -4,4\" stroke=\"none\"/>\n",
       "<!-- 0 -->\n",
       "<g class=\"node\" id=\"node1\"><title>0</title>\n",
       "<path d=\"M69.3333,-388C69.3333,-388 23.6667,-388 23.6667,-388 20.8333,-388 18,-385.167 18,-382.333 18,-382.333 18,-376.667 18,-376.667 18,-373.833 20.8333,-371 23.6667,-371 23.6667,-371 69.3333,-371 69.3333,-371 72.1667,-371 75,-373.833 75,-376.667 75,-376.667 75,-382.333 75,-382.333 75,-385.167 72.1667,-388 69.3333,-388\" fill=\"none\" stroke=\"black\"/>\n",
       "<text font-family=\"Courier,monospace\" font-size=\"10.00\" text-anchor=\"start\" x=\"22\" y=\"-377\">q1,[0] 0</text>\n",
       "</g>\n",
       "<!-- 6 -->\n",
       "<g class=\"node\" id=\"node7\"><title>6</title>\n",
       "<path d=\"M69.3333,-335C69.3333,-335 23.6667,-335 23.6667,-335 20.8333,-335 18,-332.167 18,-329.333 18,-329.333 18,-323.667 18,-323.667 18,-320.833 20.8333,-318 23.6667,-318 23.6667,-318 69.3333,-318 69.3333,-318 72.1667,-318 75,-320.833 75,-323.667 75,-323.667 75,-329.333 75,-329.333 75,-332.167 72.1667,-335 69.3333,-335\" fill=\"none\" stroke=\"black\"/>\n",
       "<text font-family=\"Courier,monospace\" font-size=\"10.00\" text-anchor=\"start\" x=\"22\" y=\"-324\">q2,_ [0]</text>\n",
       "</g>\n",
       "<!-- 0&#45;&gt;6 -->\n",
       "<g class=\"edge\" id=\"edge4\"><title>0-&gt;6</title>\n",
       "<path d=\"M46.5,-370.975C46.5,-362.914 46.5,-349.979 46.5,-340.31\" fill=\"none\" stroke=\"black\"/>\n",
       "<polygon fill=\"black\" points=\"46.5,-335.056 48.7501,-340.056 46.5,-337.556 46.5001,-340.056 46.5001,-340.056 46.5001,-340.056 46.5,-337.556 44.2501,-340.056 46.5,-335.056 46.5,-335.056\" stroke=\"black\"/>\n",
       "</g>\n",
       "<!-- 1 -->\n",
       "<g class=\"node\" id=\"node2\"><title>1</title>\n",
       "<path d=\"M69.3333,-70C69.3333,-70 23.6667,-70 23.6667,-70 20.8333,-70 18,-67.1667 18,-64.3333 18,-64.3333 18,-58.6667 18,-58.6667 18,-55.8333 20.8333,-53 23.6667,-53 23.6667,-53 69.3333,-53 69.3333,-53 72.1667,-53 75,-55.8333 75,-58.6667 75,-58.6667 75,-64.3333 75,-64.3333 75,-67.1667 72.1667,-70 69.3333,-70\" fill=\"none\" stroke=\"black\"/>\n",
       "<text font-family=\"Courier,monospace\" font-size=\"10.00\" text-anchor=\"start\" x=\"22\" y=\"-59\">q2,_ x ^</text>\n",
       "</g>\n",
       "<!-- 4 -->\n",
       "<g class=\"node\" id=\"node5\"><title>4</title>\n",
       "<path d=\"M87.3333,-17C87.3333,-17 5.66667,-17 5.66667,-17 2.83333,-17 0,-14.1667 0,-11.3333 0,-11.3333 0,-5.66667 0,-5.66667 0,-2.83333 2.83333,-0 5.66667,-0 5.66667,-0 87.3333,-0 87.3333,-0 90.1667,-0 93,-2.83333 93,-5.66667 93,-5.66667 93,-11.3333 93,-11.3333 93,-14.1667 90.1667,-17 87.3333,-17\" fill=\"none\" stroke=\"black\"/>\n",
       "<text font-family=\"Courier,monospace\" font-size=\"10.00\" text-anchor=\"start\" x=\"4\" y=\"-6\">ACCEPT,_ x _ ^</text>\n",
       "</g>\n",
       "<!-- 1&#45;&gt;4 -->\n",
       "<g class=\"edge\" id=\"edge3\"><title>1-&gt;4</title>\n",
       "<path d=\"M46.5,-52.9748C46.5,-44.9143 46.5,-31.9787 46.5,-22.3099\" fill=\"none\" stroke=\"black\"/>\n",
       "<polygon fill=\"black\" points=\"46.5,-17.0561 48.7501,-22.0561 46.5,-19.5561 46.5001,-22.0561 46.5001,-22.0561 46.5001,-22.0561 46.5,-19.5561 44.2501,-22.0561 46.5,-17.0561 46.5,-17.0561\" stroke=\"black\"/>\n",
       "</g>\n",
       "<!-- 2 -->\n",
       "<g class=\"node\" id=\"node3\"><title>2</title>\n",
       "<path d=\"M69.3333,-123C69.3333,-123 23.6667,-123 23.6667,-123 20.8333,-123 18,-120.167 18,-117.333 18,-117.333 18,-111.667 18,-111.667 18,-108.833 20.8333,-106 23.6667,-106 23.6667,-106 69.3333,-106 69.3333,-106 72.1667,-106 75,-108.833 75,-111.667 75,-111.667 75,-117.333 75,-117.333 75,-120.167 72.1667,-123 69.3333,-123\" fill=\"none\" stroke=\"black\"/>\n",
       "<text font-family=\"Courier,monospace\" font-size=\"10.00\" text-anchor=\"start\" x=\"22\" y=\"-112\">q2,_ [x]</text>\n",
       "</g>\n",
       "<!-- 2&#45;&gt;1 -->\n",
       "<g class=\"edge\" id=\"edge1\"><title>2-&gt;1</title>\n",
       "<path d=\"M46.5,-105.975C46.5,-97.9143 46.5,-84.9787 46.5,-75.3099\" fill=\"none\" stroke=\"black\"/>\n",
       "<polygon fill=\"black\" points=\"46.5,-70.0561 48.7501,-75.0561 46.5,-72.5561 46.5001,-75.0561 46.5001,-75.0561 46.5001,-75.0561 46.5,-72.5561 44.2501,-75.0561 46.5,-70.0561 46.5,-70.0561\" stroke=\"black\"/>\n",
       "</g>\n",
       "<!-- 3 -->\n",
       "<g class=\"node\" id=\"node4\"><title>3</title>\n",
       "<path d=\"M69.3333,-229C69.3333,-229 23.6667,-229 23.6667,-229 20.8333,-229 18,-226.167 18,-223.333 18,-223.333 18,-217.667 18,-217.667 18,-214.833 20.8333,-212 23.6667,-212 23.6667,-212 69.3333,-212 69.3333,-212 72.1667,-212 75,-214.833 75,-217.667 75,-217.667 75,-223.333 75,-223.333 75,-226.167 72.1667,-229 69.3333,-229\" fill=\"none\" stroke=\"black\"/>\n",
       "<text font-family=\"Courier,monospace\" font-size=\"10.00\" text-anchor=\"start\" x=\"22\" y=\"-218\">q5,_ [x]</text>\n",
       "</g>\n",
       "<!-- 8 -->\n",
       "<g class=\"node\" id=\"node9\"><title>8</title>\n",
       "<path d=\"M69.3333,-176C69.3333,-176 23.6667,-176 23.6667,-176 20.8333,-176 18,-173.167 18,-170.333 18,-170.333 18,-164.667 18,-164.667 18,-161.833 20.8333,-159 23.6667,-159 23.6667,-159 69.3333,-159 69.3333,-159 72.1667,-159 75,-161.833 75,-164.667 75,-164.667 75,-170.333 75,-170.333 75,-173.167 72.1667,-176 69.3333,-176\" fill=\"none\" stroke=\"black\"/>\n",
       "<text font-family=\"Courier,monospace\" font-size=\"10.00\" text-anchor=\"start\" x=\"22\" y=\"-165\">q5,[_] x</text>\n",
       "</g>\n",
       "<!-- 3&#45;&gt;8 -->\n",
       "<g class=\"edge\" id=\"edge5\"><title>3-&gt;8</title>\n",
       "<path d=\"M46.5,-211.975C46.5,-203.914 46.5,-190.979 46.5,-181.31\" fill=\"none\" stroke=\"black\"/>\n",
       "<polygon fill=\"black\" points=\"46.5,-176.056 48.7501,-181.056 46.5,-178.556 46.5001,-181.056 46.5001,-181.056 46.5001,-181.056 46.5,-178.556 44.2501,-181.056 46.5,-176.056 46.5,-176.056\" stroke=\"black\"/>\n",
       "</g>\n",
       "<!-- 5 -->\n",
       "<g class=\"node\" id=\"node6\"><title>5</title>\n",
       "<path d=\"M69.3333,-282C69.3333,-282 23.6667,-282 23.6667,-282 20.8333,-282 18,-279.167 18,-276.333 18,-276.333 18,-270.667 18,-270.667 18,-267.833 20.8333,-265 23.6667,-265 23.6667,-265 69.3333,-265 69.3333,-265 72.1667,-265 75,-267.833 75,-270.667 75,-270.667 75,-276.333 75,-276.333 75,-279.167 72.1667,-282 69.3333,-282\" fill=\"none\" stroke=\"black\"/>\n",
       "<text font-family=\"Courier,monospace\" font-size=\"10.00\" text-anchor=\"start\" x=\"22\" y=\"-271\">q3,_ x ^</text>\n",
       "</g>\n",
       "<!-- 5&#45;&gt;3 -->\n",
       "<g class=\"edge\" id=\"edge6\"><title>5-&gt;3</title>\n",
       "<path d=\"M46.5,-264.975C46.5,-256.914 46.5,-243.979 46.5,-234.31\" fill=\"none\" stroke=\"black\"/>\n",
       "<polygon fill=\"black\" points=\"46.5,-229.056 48.7501,-234.056 46.5,-231.556 46.5001,-234.056 46.5001,-234.056 46.5001,-234.056 46.5,-231.556 44.2501,-234.056 46.5,-229.056 46.5,-229.056\" stroke=\"black\"/>\n",
       "</g>\n",
       "<!-- 6&#45;&gt;5 -->\n",
       "<g class=\"edge\" id=\"edge7\"><title>6-&gt;5</title>\n",
       "<path d=\"M46.5,-317.975C46.5,-309.914 46.5,-296.979 46.5,-287.31\" fill=\"none\" stroke=\"black\"/>\n",
       "<polygon fill=\"black\" points=\"46.5,-282.056 48.7501,-287.056 46.5,-284.556 46.5001,-287.056 46.5001,-287.056 46.5001,-287.056 46.5,-284.556 44.2501,-287.056 46.5,-282.056 46.5,-282.056\" stroke=\"black\"/>\n",
       "</g>\n",
       "<!-- 7 -->\n",
       "<g class=\"node\" id=\"node8\"><title>7</title>\n",
       "<path d=\"M78.3333,-441C78.3333,-441 14.6667,-441 14.6667,-441 11.8333,-441 9,-438.167 9,-435.333 9,-435.333 9,-429.667 9,-429.667 9,-426.833 11.8333,-424 14.6667,-424 14.6667,-424 78.3333,-424 78.3333,-424 81.1667,-424 84,-426.833 84,-429.667 84,-429.667 84,-435.333 84,-435.333 84,-438.167 81.1667,-441 78.3333,-441\" fill=\"none\" stroke=\"black\"/>\n",
       "<text font-family=\"Courier,monospace\" font-size=\"10.00\" text-anchor=\"start\" x=\"13\" y=\"-430\">START,[0] 0</text>\n",
       "</g>\n",
       "<!-- 7&#45;&gt;0 -->\n",
       "<g class=\"edge\" id=\"edge8\"><title>7-&gt;0</title>\n",
       "<path d=\"M46.5,-423.975C46.5,-415.914 46.5,-402.979 46.5,-393.31\" fill=\"none\" stroke=\"black\"/>\n",
       "<polygon fill=\"black\" points=\"46.5,-388.056 48.7501,-393.056 46.5,-390.556 46.5001,-393.056 46.5001,-393.056 46.5001,-393.056 46.5,-390.556 44.2501,-393.056 46.5,-388.056 46.5,-388.056\" stroke=\"black\"/>\n",
       "</g>\n",
       "<!-- 8&#45;&gt;2 -->\n",
       "<g class=\"edge\" id=\"edge2\"><title>8-&gt;2</title>\n",
       "<path d=\"M46.5,-158.975C46.5,-150.914 46.5,-137.979 46.5,-128.31\" fill=\"none\" stroke=\"black\"/>\n",
       "<polygon fill=\"black\" points=\"46.5,-123.056 48.7501,-128.056 46.5,-125.556 46.5001,-128.056 46.5001,-128.056 46.5001,-128.056 46.5,-125.556 44.2501,-128.056 46.5,-123.056 46.5,-123.056\" stroke=\"black\"/>\n",
       "</g>\n",
       "</g>\n",
       "</svg>"
      ],
      "text/plain": [
       "<IPython.core.display.SVG object>"
      ]
     },
     "metadata": {},
     "output_type": "display_data"
    }
   ],
   "source": [
    "m.run(\"0 0\")"
   ]
  },
  {
   "cell_type": "markdown",
   "metadata": {},
   "source": [
    "Each node shows both the state and the tape, with the head position indicated using square brackets. This run ended in the `ACCEPT` state, so the machine accepted the string."
   ]
  },
  {
   "cell_type": "code",
   "execution_count": 6,
   "metadata": {
    "collapsed": false
   },
   "outputs": [
    {
     "data": {
      "image/svg+xml": [
       "<svg height=\"290pt\" viewBox=\"0.00 0.00 113.00 290.00\" width=\"113pt\" xmlns=\"http://www.w3.org/2000/svg\" xmlns:xlink=\"http://www.w3.org/1999/xlink\">\n",
       "<g class=\"graph\" id=\"graph0\" transform=\"scale(1 1) rotate(0) translate(4 286)\">\n",
       "<title>%3</title>\n",
       "<polygon fill=\"white\" points=\"-4,4 -4,-286 109,-286 109,4 -4,4\" stroke=\"none\"/>\n",
       "<!-- 0 -->\n",
       "<g class=\"node\" id=\"node1\"><title>0</title>\n",
       "<path d=\"M81.3333,-229C81.3333,-229 23.6667,-229 23.6667,-229 20.8333,-229 18,-226.167 18,-223.333 18,-223.333 18,-217.667 18,-217.667 18,-214.833 20.8333,-212 23.6667,-212 23.6667,-212 81.3333,-212 81.3333,-212 84.1667,-212 87,-214.833 87,-217.667 87,-217.667 87,-223.333 87,-223.333 87,-226.167 84.1667,-229 81.3333,-229\" fill=\"none\" stroke=\"black\"/>\n",
       "<text font-family=\"Courier,monospace\" font-size=\"10.00\" text-anchor=\"start\" x=\"22\" y=\"-218\">q1,[0] 0 0</text>\n",
       "</g>\n",
       "<!-- 2 -->\n",
       "<g class=\"node\" id=\"node3\"><title>2</title>\n",
       "<path d=\"M81.3333,-176C81.3333,-176 23.6667,-176 23.6667,-176 20.8333,-176 18,-173.167 18,-170.333 18,-170.333 18,-164.667 18,-164.667 18,-161.833 20.8333,-159 23.6667,-159 23.6667,-159 81.3333,-159 81.3333,-159 84.1667,-159 87,-161.833 87,-164.667 87,-164.667 87,-170.333 87,-170.333 87,-173.167 84.1667,-176 81.3333,-176\" fill=\"none\" stroke=\"black\"/>\n",
       "<text font-family=\"Courier,monospace\" font-size=\"10.00\" text-anchor=\"start\" x=\"22\" y=\"-165\">q2,_ [0] 0</text>\n",
       "</g>\n",
       "<!-- 0&#45;&gt;2 -->\n",
       "<g class=\"edge\" id=\"edge3\"><title>0-&gt;2</title>\n",
       "<path d=\"M52.5,-211.975C52.5,-203.914 52.5,-190.979 52.5,-181.31\" fill=\"none\" stroke=\"black\"/>\n",
       "<polygon fill=\"black\" points=\"52.5,-176.056 54.7501,-181.056 52.5,-178.556 52.5001,-181.056 52.5001,-181.056 52.5001,-181.056 52.5,-178.556 50.2501,-181.056 52.5,-176.056 52.5,-176.056\" stroke=\"black\"/>\n",
       "</g>\n",
       "<!-- 1 -->\n",
       "<g class=\"node\" id=\"node2\"><title>1</title>\n",
       "<path d=\"M81.3333,-70C81.3333,-70 23.6667,-70 23.6667,-70 20.8333,-70 18,-67.1667 18,-64.3333 18,-64.3333 18,-58.6667 18,-58.6667 18,-55.8333 20.8333,-53 23.6667,-53 23.6667,-53 81.3333,-53 81.3333,-53 84.1667,-53 87,-55.8333 87,-58.6667 87,-58.6667 87,-64.3333 87,-64.3333 87,-67.1667 84.1667,-70 81.3333,-70\" fill=\"none\" stroke=\"black\"/>\n",
       "<text font-family=\"Courier,monospace\" font-size=\"10.00\" text-anchor=\"start\" x=\"22\" y=\"-59\">q4,_ x 0 ^</text>\n",
       "</g>\n",
       "<!-- 4 -->\n",
       "<g class=\"node\" id=\"node5\"><title>4</title>\n",
       "<path d=\"M99.3333,-17C99.3333,-17 5.66667,-17 5.66667,-17 2.83333,-17 0,-14.1667 0,-11.3333 0,-11.3333 0,-5.66667 0,-5.66667 0,-2.83333 2.83333,-0 5.66667,-0 5.66667,-0 99.3333,-0 99.3333,-0 102.167,-0 105,-2.83333 105,-5.66667 105,-5.66667 105,-11.3333 105,-11.3333 105,-14.1667 102.167,-17 99.3333,-17\" fill=\"none\" stroke=\"black\"/>\n",
       "<text font-family=\"Courier,monospace\" font-size=\"10.00\" text-anchor=\"start\" x=\"4\" y=\"-6\">REJECT,_ x 0 _ ^</text>\n",
       "</g>\n",
       "<!-- 1&#45;&gt;4 -->\n",
       "<g class=\"edge\" id=\"edge4\"><title>1-&gt;4</title>\n",
       "<path d=\"M52.5,-52.9748C52.5,-44.9143 52.5,-31.9787 52.5,-22.3099\" fill=\"none\" stroke=\"black\"/>\n",
       "<polygon fill=\"black\" points=\"52.5,-17.0561 54.7501,-22.0561 52.5,-19.5561 52.5001,-22.0561 52.5001,-22.0561 52.5001,-22.0561 52.5,-19.5561 50.2501,-22.0561 52.5,-17.0561 52.5,-17.0561\" stroke=\"black\"/>\n",
       "</g>\n",
       "<!-- 3 -->\n",
       "<g class=\"node\" id=\"node4\"><title>3</title>\n",
       "<path d=\"M81.3333,-123C81.3333,-123 23.6667,-123 23.6667,-123 20.8333,-123 18,-120.167 18,-117.333 18,-117.333 18,-111.667 18,-111.667 18,-108.833 20.8333,-106 23.6667,-106 23.6667,-106 81.3333,-106 81.3333,-106 84.1667,-106 87,-108.833 87,-111.667 87,-111.667 87,-117.333 87,-117.333 87,-120.167 84.1667,-123 81.3333,-123\" fill=\"none\" stroke=\"black\"/>\n",
       "<text font-family=\"Courier,monospace\" font-size=\"10.00\" text-anchor=\"start\" x=\"22\" y=\"-112\">q3,_ x [0]</text>\n",
       "</g>\n",
       "<!-- 2&#45;&gt;3 -->\n",
       "<g class=\"edge\" id=\"edge5\"><title>2-&gt;3</title>\n",
       "<path d=\"M52.5,-158.975C52.5,-150.914 52.5,-137.979 52.5,-128.31\" fill=\"none\" stroke=\"black\"/>\n",
       "<polygon fill=\"black\" points=\"52.5,-123.056 54.7501,-128.056 52.5,-125.556 52.5001,-128.056 52.5001,-128.056 52.5001,-128.056 52.5,-125.556 50.2501,-128.056 52.5,-123.056 52.5,-123.056\" stroke=\"black\"/>\n",
       "</g>\n",
       "<!-- 3&#45;&gt;1 -->\n",
       "<g class=\"edge\" id=\"edge2\"><title>3-&gt;1</title>\n",
       "<path d=\"M52.5,-105.975C52.5,-97.9143 52.5,-84.9787 52.5,-75.3099\" fill=\"none\" stroke=\"black\"/>\n",
       "<polygon fill=\"black\" points=\"52.5,-70.0561 54.7501,-75.0561 52.5,-72.5561 52.5001,-75.0561 52.5001,-75.0561 52.5001,-75.0561 52.5,-72.5561 50.2501,-75.0561 52.5,-70.0561 52.5,-70.0561\" stroke=\"black\"/>\n",
       "</g>\n",
       "<!-- 5 -->\n",
       "<g class=\"node\" id=\"node6\"><title>5</title>\n",
       "<path d=\"M90.3333,-282C90.3333,-282 14.6667,-282 14.6667,-282 11.8333,-282 9,-279.167 9,-276.333 9,-276.333 9,-270.667 9,-270.667 9,-267.833 11.8333,-265 14.6667,-265 14.6667,-265 90.3333,-265 90.3333,-265 93.1667,-265 96,-267.833 96,-270.667 96,-270.667 96,-276.333 96,-276.333 96,-279.167 93.1667,-282 90.3333,-282\" fill=\"none\" stroke=\"black\"/>\n",
       "<text font-family=\"Courier,monospace\" font-size=\"10.00\" text-anchor=\"start\" x=\"13\" y=\"-271\">START,[0] 0 0</text>\n",
       "</g>\n",
       "<!-- 5&#45;&gt;0 -->\n",
       "<g class=\"edge\" id=\"edge1\"><title>5-&gt;0</title>\n",
       "<path d=\"M52.5,-264.975C52.5,-256.914 52.5,-243.979 52.5,-234.31\" fill=\"none\" stroke=\"black\"/>\n",
       "<polygon fill=\"black\" points=\"52.5,-229.056 54.7501,-234.056 52.5,-231.556 52.5001,-234.056 52.5001,-234.056 52.5001,-234.056 52.5,-231.556 50.2501,-234.056 52.5,-229.056 52.5,-229.056\" stroke=\"black\"/>\n",
       "</g>\n",
       "</g>\n",
       "</svg>"
      ],
      "text/plain": [
       "<IPython.core.display.SVG object>"
      ]
     },
     "metadata": {},
     "output_type": "display_data"
    }
   ],
   "source": [
    "m.run(\"0 0 0\")"
   ]
  },
  {
   "cell_type": "markdown",
   "metadata": {},
   "source": [
    "This run ended in the `REJECT` state, so the machine rejected the string."
   ]
  }
 ],
 "metadata": {
  "kernelspec": {
   "display_name": "Python 2",
   "language": "python",
   "name": "python2"
  },
  "language_info": {
   "codemirror_mode": {
    "name": "ipython",
    "version": 2
   },
   "file_extension": ".py",
   "mimetype": "text/x-python",
   "name": "python",
   "nbconvert_exporter": "python",
   "pygments_lexer": "ipython2",
   "version": "2.7.10"
  }
 },
 "nbformat": 4,
 "nbformat_minor": 0
}
