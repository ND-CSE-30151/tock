{
 "cells": [
  {
   "cell_type": "code",
   "execution_count": 2,
   "metadata": {
    "collapsed": true
   },
   "outputs": [],
   "source": [
    "from tock import *"
   ]
  },
  {
   "cell_type": "markdown",
   "metadata": {},
   "source": [
    "# Turing machines\n",
    "\n",
    "Turing machines (TMs) have a finite state and an input, but the input is now a `tape` that machine can move in either direction on and also write on. By default, TMs are deterministic. Although Sipser never actually writes the transition function of a TM as a table, it's a perfectly reasonable thing to do. However, we use a different notation for moves. The machine in Example 3.7 and Figure 3.8 would be:"
   ]
  },
  {
   "cell_type": "code",
   "execution_count": 3,
   "metadata": {
    "collapsed": false
   },
   "outputs": [
    {
     "data": {
      "text/html": [
       "<table style=\"font-family: Courier, monospace;\">\n",
       "  <tr><td></td><th>0</th><th>_</th><th>x</th></tr>\n",
       "  <tr><th>&gt;q1</th><td>q2,_ ^</td><td>REJECT,_ ^</td><td>REJECT,x ^</td></tr>\n",
       "  <tr><th>q2</th><td>q3,x ^</td><td>ACCEPT,_ ^</td><td>q2,x ^</td></tr>\n",
       "  <tr><th>q3</th><td>q4,0 ^</td><td>q5,^ _</td><td>q3,x ^</td></tr>\n",
       "  <tr><th>q4</th><td>q3,x ^</td><td>REJECT,_ ^</td><td>q4,x ^</td></tr>\n",
       "  <tr><th>q5</th><td>q5,^ 0</td><td>q2,_ ^</td><td>q5,^ x</td></tr>\n",
       "</table>\n"
      ],
      "text/plain": [
       "<IPython.core.display.HTML object>"
      ]
     },
     "execution_count": 3,
     "metadata": {},
     "output_type": "execute_result"
    }
   ],
   "source": [
    "m = read_csv(\"examples/dtm.csv\")\n",
    "m.display_table()"
   ]
  },
  {
   "cell_type": "markdown",
   "metadata": {},
   "source": [
    "As always, the first column lists the possible states, and the start state is marked with a `>`. But there are no final states. Instead, the accept state and reject state are always named `ACCEPT` and `REJECT`, respectively. You don't need to make an empty row in the table for them.\n",
    "\n",
    "The first row lists possible tape symbols. Use `_` for the blank symbol.\n",
    "\n",
    "In the cells, Sipser uses `L` and `R` for moving left and right. We use a different notation: use `^` to indicate the head position. For example, if the machine is in state `q1` and the current tape symbol is `0`, then the machine changes to state `q2`, erases (writes `_`), and moves to the right. If the machine is in state `q5` and the current tape symbol is `0`, then the machine rewrites the `0` and moves left.\n",
    "\n",
    "In the second example (state `q5` and symbol `0`), Sipser would have allowed you to write just `R` for \"don't write anything and move right\". We don't allow this shorthand (sorry). Instead, you have to rewrite the same symbol that was read.\n",
    "\n",
    "Here's the state transition diagram, which might or might not be more intuitive:"
   ]
  },
  {
   "cell_type": "code",
   "execution_count": 4,
   "metadata": {
    "collapsed": false
   },
   "outputs": [
    {
     "data": {
      "image/svg+xml": [
       "<svg height=\"213pt\" viewBox=\"0.00 0.00 532.00 212.50\" width=\"532pt\" xmlns=\"http://www.w3.org/2000/svg\" xmlns:xlink=\"http://www.w3.org/1999/xlink\">\n",
       "<g class=\"graph\" id=\"graph0\" transform=\"scale(1 1) rotate(0) translate(4 208.5)\">\n",
       "<title>%3</title>\n",
       "<polygon fill=\"white\" points=\"-4,4 -4,-208.5 528,-208.5 528,4 -4,4\" stroke=\"none\"/>\n",
       "<!-- 0 -->\n",
       "<g class=\"node\" id=\"node1\"><title>0</title>\n",
       "<path d=\"M54,-23.5C54,-23.5 43,-23.5 43,-23.5 40.5,-23.5 38,-21 38,-18.5 38,-18.5 38,-13.5 38,-13.5 38,-11 40.5,-8.5 43,-8.5 43,-8.5 54,-8.5 54,-8.5 56.5,-8.5 59,-11 59,-13.5 59,-13.5 59,-18.5 59,-18.5 59,-21 56.5,-23.5 54,-23.5\" fill=\"none\" stroke=\"black\"/>\n",
       "<text font-family=\"Courier,monospace\" font-size=\"10.00\" text-anchor=\"middle\" x=\"48.5\" y=\"-13.5\">q1</text>\n",
       "</g>\n",
       "<!-- 2 -->\n",
       "<g class=\"node\" id=\"node4\"><title>2</title>\n",
       "<path d=\"M156,-82.5C156,-82.5 145,-82.5 145,-82.5 142.5,-82.5 140,-80 140,-77.5 140,-77.5 140,-72.5 140,-72.5 140,-70 142.5,-67.5 145,-67.5 145,-67.5 156,-67.5 156,-67.5 158.5,-67.5 161,-70 161,-72.5 161,-72.5 161,-77.5 161,-77.5 161,-80 158.5,-82.5 156,-82.5\" fill=\"none\" stroke=\"black\"/>\n",
       "<text font-family=\"Courier,monospace\" font-size=\"10.00\" text-anchor=\"middle\" x=\"150.5\" y=\"-72.5\">q2</text>\n",
       "</g>\n",
       "<!-- 0&#45;&gt;2 -->\n",
       "<g class=\"edge\" id=\"edge12\"><title>0-&gt;2</title>\n",
       "<path d=\"M59.0884,-21.6572C76.0684,-31.6753 111.62,-52.6509 132.731,-65.1061\" fill=\"none\" stroke=\"black\"/>\n",
       "<polygon fill=\"black\" points=\"139.794,-69.2733 131.074,-68.3086 136.349,-67.2406 132.904,-65.208 132.904,-65.208 132.904,-65.208 136.349,-67.2406 134.733,-62.1075 139.794,-69.2733 139.794,-69.2733\" stroke=\"black\"/>\n",
       "<text font-family=\"Courier,monospace\" font-size=\"9.00\" text-anchor=\"start\" x=\"80.5\" y=\"-63.8\">0 → _ ^</text>\n",
       "</g>\n",
       "<!-- 6 -->\n",
       "<g class=\"node\" id=\"node8\"><title>6</title>\n",
       "<path d=\"M519,-27.5C519,-27.5 484,-27.5 484,-27.5 481.5,-27.5 479,-25 479,-22.5 479,-22.5 479,-17.5 479,-17.5 479,-15 481.5,-12.5 484,-12.5 484,-12.5 519,-12.5 519,-12.5 521.5,-12.5 524,-15 524,-17.5 524,-17.5 524,-22.5 524,-22.5 524,-25 521.5,-27.5 519,-27.5\" fill=\"none\" stroke=\"black\"/>\n",
       "<text font-family=\"Courier,monospace\" font-size=\"10.00\" text-anchor=\"middle\" x=\"501.5\" y=\"-17.5\">REJECT</text>\n",
       "</g>\n",
       "<!-- 0&#45;&gt;6 -->\n",
       "<g class=\"edge\" id=\"edge6\"><title>0-&gt;6</title>\n",
       "<path d=\"M59.0719,-13.4293C76.7813,-8.90649 115.919,-0 149.5,-0 149.5,-0 149.5,-0 384,-0 413.922,-0 447.552,-6.48808 470.959,-12.0735\" fill=\"none\" stroke=\"black\"/>\n",
       "<polygon fill=\"black\" points=\"478.79,-13.9993 470.161,-15.5844 474.905,-13.044 471.021,-12.0886 471.021,-12.0886 471.021,-12.0886 474.905,-13.044 471.881,-8.59278 478.79,-13.9993 478.79,-13.9993\" stroke=\"black\"/>\n",
       "<text font-family=\"Courier,monospace\" font-size=\"9.00\" text-anchor=\"start\" x=\"245.5\" y=\"-19.8\">_ → _ ^</text>\n",
       "<text font-family=\"Courier,monospace\" font-size=\"9.00\" text-anchor=\"start\" x=\"245.5\" y=\"-5.8\">x → x ^</text>\n",
       "</g>\n",
       "<!-- START -->\n",
       "<g class=\"node\" id=\"node2\"><title>START</title>\n",
       "</g>\n",
       "<!-- START&#45;&gt;0 -->\n",
       "<g class=\"edge\" id=\"edge1\"><title>START-&gt;0</title>\n",
       "<path d=\"M1.13339,-16C2.67424,-16 17.2724,-16 29.6829,-16\" fill=\"none\" stroke=\"black\"/>\n",
       "<polygon fill=\"black\" points=\"37.7379,-16 29.738,-19.6001 33.7379,-16 29.7379,-16.0001 29.7379,-16.0001 29.7379,-16.0001 33.7379,-16 29.7379,-12.4001 37.7379,-16 37.7379,-16\" stroke=\"black\"/>\n",
       "</g>\n",
       "<!-- 1 -->\n",
       "<g class=\"node\" id=\"node3\"><title>1</title>\n",
       "<path d=\"M270,-96.5C270,-96.5 259,-96.5 259,-96.5 256.5,-96.5 254,-94 254,-91.5 254,-91.5 254,-86.5 254,-86.5 254,-84 256.5,-81.5 259,-81.5 259,-81.5 270,-81.5 270,-81.5 272.5,-81.5 275,-84 275,-86.5 275,-86.5 275,-91.5 275,-91.5 275,-94 272.5,-96.5 270,-96.5\" fill=\"none\" stroke=\"black\"/>\n",
       "<text font-family=\"Courier,monospace\" font-size=\"10.00\" text-anchor=\"middle\" x=\"264.5\" y=\"-86.5\">q3</text>\n",
       "</g>\n",
       "<!-- 1&#45;&gt;1 -->\n",
       "<g class=\"edge\" id=\"edge8\"><title>1-&gt;1</title>\n",
       "<path d=\"M255.781,-96.5703C249.969,-104.938 252.875,-114.5 264.5,-114.5 272.674,-114.5 276.537,-109.772 276.09,-104.057\" fill=\"none\" stroke=\"black\"/>\n",
       "<polygon fill=\"black\" points=\"273.219,-96.5703 279.445,-102.751 274.651,-100.305 276.084,-104.04 276.084,-104.04 276.084,-104.04 274.651,-100.305 272.722,-105.329 273.219,-96.5703 273.219,-96.5703\" stroke=\"black\"/>\n",
       "<text font-family=\"Courier,monospace\" font-size=\"9.00\" text-anchor=\"start\" x=\"245.5\" y=\"-120.3\">x → x ^</text>\n",
       "</g>\n",
       "<!-- 3 -->\n",
       "<g class=\"node\" id=\"node5\"><title>3</title>\n",
       "<path d=\"M388.5,-156.5C388.5,-156.5 377.5,-156.5 377.5,-156.5 375,-156.5 372.5,-154 372.5,-151.5 372.5,-151.5 372.5,-146.5 372.5,-146.5 372.5,-144 375,-141.5 377.5,-141.5 377.5,-141.5 388.5,-141.5 388.5,-141.5 391,-141.5 393.5,-144 393.5,-146.5 393.5,-146.5 393.5,-151.5 393.5,-151.5 393.5,-154 391,-156.5 388.5,-156.5\" fill=\"none\" stroke=\"black\"/>\n",
       "<text font-family=\"Courier,monospace\" font-size=\"10.00\" text-anchor=\"middle\" x=\"383\" y=\"-146.5\">q5</text>\n",
       "</g>\n",
       "<!-- 1&#45;&gt;3 -->\n",
       "<g class=\"edge\" id=\"edge5\"><title>1-&gt;3</title>\n",
       "<path d=\"M275.034,-93.9101C294.746,-104.062 340.218,-127.481 365.055,-140.273\" fill=\"none\" stroke=\"black\"/>\n",
       "<polygon fill=\"black\" points=\"372.335,-144.022 363.574,-143.56 368.778,-142.191 365.222,-140.359 365.222,-140.359 365.222,-140.359 368.778,-142.191 366.871,-137.159 372.335,-144.022 372.335,-144.022\" stroke=\"black\"/>\n",
       "<text font-family=\"Courier,monospace\" font-size=\"9.00\" text-anchor=\"start\" x=\"308.5\" y=\"-137.8\">_ → ^ _</text>\n",
       "</g>\n",
       "<!-- 4 -->\n",
       "<g class=\"node\" id=\"node6\"><title>4</title>\n",
       "<path d=\"M388.5,-57.5C388.5,-57.5 377.5,-57.5 377.5,-57.5 375,-57.5 372.5,-55 372.5,-52.5 372.5,-52.5 372.5,-47.5 372.5,-47.5 372.5,-45 375,-42.5 377.5,-42.5 377.5,-42.5 388.5,-42.5 388.5,-42.5 391,-42.5 393.5,-45 393.5,-47.5 393.5,-47.5 393.5,-52.5 393.5,-52.5 393.5,-55 391,-57.5 388.5,-57.5\" fill=\"none\" stroke=\"black\"/>\n",
       "<text font-family=\"Courier,monospace\" font-size=\"10.00\" text-anchor=\"middle\" x=\"383\" y=\"-47.5\">q4</text>\n",
       "</g>\n",
       "<!-- 1&#45;&gt;4 -->\n",
       "<g class=\"edge\" id=\"edge9\"><title>1-&gt;4</title>\n",
       "<path d=\"M275.034,-82.0949C278.889,-79.1434 283.295,-75.5613 287,-72 295.863,-63.4815 293.865,-56.209 305,-51 323.8,-42.2049 348.116,-43.7095 364.344,-46.256\" fill=\"none\" stroke=\"black\"/>\n",
       "<polygon fill=\"black\" points=\"372.441,-47.7192 363.928,-49.8391 368.505,-47.0078 364.569,-46.2965 364.569,-46.2965 364.569,-46.2965 368.505,-47.0078 365.209,-42.7539 372.441,-47.7192 372.441,-47.7192\" stroke=\"black\"/>\n",
       "<text font-family=\"Courier,monospace\" font-size=\"9.00\" text-anchor=\"start\" x=\"308.5\" y=\"-56.8\">0 → 0 ^</text>\n",
       "</g>\n",
       "<!-- 2&#45;&gt;1 -->\n",
       "<g class=\"edge\" id=\"edge2\"><title>2-&gt;1</title>\n",
       "<path d=\"M161.049,-76.1936C179.812,-78.539 221.745,-83.7807 245.742,-86.7803\" fill=\"none\" stroke=\"black\"/>\n",
       "<polygon fill=\"black\" points=\"253.975,-87.8094 245.59,-90.3892 250.006,-87.3132 246.037,-86.817 246.037,-86.817 246.037,-86.817 250.006,-87.3132 246.483,-83.2448 253.975,-87.8094 253.975,-87.8094\" stroke=\"black\"/>\n",
       "<text font-family=\"Courier,monospace\" font-size=\"9.00\" text-anchor=\"start\" x=\"182.5\" y=\"-89.8\">0 → x ^</text>\n",
       "</g>\n",
       "<!-- 2&#45;&gt;2 -->\n",
       "<g class=\"edge\" id=\"edge3\"><title>2-&gt;2</title>\n",
       "<path d=\"M143.469,-82.5703C138.781,-90.9375 141.125,-100.5 150.5,-100.5 156.945,-100.5 160.067,-95.9802 159.866,-90.4364\" fill=\"none\" stroke=\"black\"/>\n",
       "<polygon fill=\"black\" points=\"157.531,-82.5703 163.259,-89.2153 158.669,-86.405 159.808,-90.2397 159.808,-90.2397 159.808,-90.2397 158.669,-86.405 156.356,-91.264 157.531,-82.5703 157.531,-82.5703\" stroke=\"black\"/>\n",
       "<text font-family=\"Courier,monospace\" font-size=\"9.00\" text-anchor=\"start\" x=\"131.5\" y=\"-106.3\">x → x ^</text>\n",
       "</g>\n",
       "<!-- 5 -->\n",
       "<g class=\"node\" id=\"node7\"><title>5</title>\n",
       "<path d=\"M282,-63.5C282,-63.5 247,-63.5 247,-63.5 244.5,-63.5 242,-61 242,-58.5 242,-58.5 242,-53.5 242,-53.5 242,-51 244.5,-48.5 247,-48.5 247,-48.5 282,-48.5 282,-48.5 284.5,-48.5 287,-51 287,-53.5 287,-53.5 287,-58.5 287,-58.5 287,-61 284.5,-63.5 282,-63.5\" fill=\"none\" stroke=\"black\"/>\n",
       "<text font-family=\"Courier,monospace\" font-size=\"10.00\" text-anchor=\"middle\" x=\"264.5\" y=\"-53.5\">ACCEPT</text>\n",
       "</g>\n",
       "<!-- 2&#45;&gt;5 -->\n",
       "<g class=\"edge\" id=\"edge13\"><title>2-&gt;5</title>\n",
       "<path d=\"M161.146,-67.8085C166.192,-64.4701 172.632,-60.8395 179,-59 196.654,-53.9003 217.247,-53.0707 233.684,-53.5544\" fill=\"none\" stroke=\"black\"/>\n",
       "<polygon fill=\"black\" points=\"241.863,-53.9115 233.714,-57.159 237.867,-53.737 233.871,-53.5625 233.871,-53.5625 233.871,-53.5625 237.867,-53.737 234.028,-49.9659 241.863,-53.9115 241.863,-53.9115\" stroke=\"black\"/>\n",
       "<text font-family=\"Courier,monospace\" font-size=\"9.00\" text-anchor=\"start\" x=\"182.5\" y=\"-64.8\">_ → _ ^</text>\n",
       "</g>\n",
       "<!-- 3&#45;&gt;2 -->\n",
       "<g class=\"edge\" id=\"edge7\"><title>3-&gt;2</title>\n",
       "<path d=\"M372.495,-150.126C366.138,-150.821 357.58,-151.645 350,-152 301.706,-154.259 287.327,-155.818 242,-139 211.97,-127.858 204.314,-123.626 179,-104 173.294,-99.5758 167.683,-93.9566 163.032,-88.8448\" fill=\"none\" stroke=\"black\"/>\n",
       "<polygon fill=\"black\" points=\"157.72,-82.7696 165.696,-86.4227 160.353,-85.7809 162.986,-88.7923 162.986,-88.7923 162.986,-88.7923 160.353,-85.7809 160.276,-91.1619 157.72,-82.7696 157.72,-82.7696\" stroke=\"black\"/>\n",
       "<text font-family=\"Courier,monospace\" font-size=\"9.00\" text-anchor=\"start\" x=\"245.5\" y=\"-157.8\">_ → _ ^</text>\n",
       "</g>\n",
       "<!-- 3&#45;&gt;3 -->\n",
       "<g class=\"edge\" id=\"edge4\"><title>3-&gt;3</title>\n",
       "<path d=\"M375.406,-156.57C370.344,-164.938 372.875,-174.5 383,-174.5 389.961,-174.5 393.333,-169.98 393.115,-164.436\" fill=\"none\" stroke=\"black\"/>\n",
       "<polygon fill=\"black\" points=\"390.594,-156.57 396.464,-163.09 391.815,-160.379 393.036,-164.189 393.036,-164.189 393.036,-164.189 391.815,-160.379 389.608,-165.287 390.594,-156.57 390.594,-156.57\" stroke=\"black\"/>\n",
       "<text font-family=\"Courier,monospace\" font-size=\"9.00\" text-anchor=\"start\" x=\"364\" y=\"-194.3\">0 → ^ 0</text>\n",
       "<text font-family=\"Courier,monospace\" font-size=\"9.00\" text-anchor=\"start\" x=\"364\" y=\"-180.3\">x → ^ x</text>\n",
       "</g>\n",
       "<!-- 4&#45;&gt;1 -->\n",
       "<g class=\"edge\" id=\"edge11\"><title>4-&gt;1</title>\n",
       "<path d=\"M372.476,-55.8177C366.254,-59.4254 357.855,-63.9398 350,-67 327.627,-75.7166 300.592,-82.0688 283.228,-85.6456\" fill=\"none\" stroke=\"black\"/>\n",
       "<polygon fill=\"black\" points=\"275.106,-87.2608 282.25,-82.1696 279.029,-86.4806 282.952,-85.7004 282.952,-85.7004 282.952,-85.7004 279.029,-86.4806 283.654,-89.2313 275.106,-87.2608 275.106,-87.2608\" stroke=\"black\"/>\n",
       "<text font-family=\"Courier,monospace\" font-size=\"9.00\" text-anchor=\"start\" x=\"308.5\" y=\"-86.8\">0 → x ^</text>\n",
       "</g>\n",
       "<!-- 4&#45;&gt;4 -->\n",
       "<g class=\"edge\" id=\"edge14\"><title>4-&gt;4</title>\n",
       "<path d=\"M375.406,-57.5703C370.344,-65.9375 372.875,-75.5 383,-75.5 389.961,-75.5 393.333,-70.9802 393.115,-65.4364\" fill=\"none\" stroke=\"black\"/>\n",
       "<polygon fill=\"black\" points=\"390.594,-57.5703 396.464,-64.0896 391.815,-61.3794 393.036,-65.1885 393.036,-65.1885 393.036,-65.1885 391.815,-61.3794 389.608,-66.2874 390.594,-57.5703 390.594,-57.5703\" stroke=\"black\"/>\n",
       "<text font-family=\"Courier,monospace\" font-size=\"9.00\" text-anchor=\"start\" x=\"364\" y=\"-81.3\">x → x ^</text>\n",
       "</g>\n",
       "<!-- 4&#45;&gt;6 -->\n",
       "<g class=\"edge\" id=\"edge10\"><title>4-&gt;6</title>\n",
       "<path d=\"M393.534,-47.545C410.206,-43.2517 445.305,-34.2134 470.761,-27.6582\" fill=\"none\" stroke=\"black\"/>\n",
       "<polygon fill=\"black\" points=\"478.651,-25.6263 471.802,-31.1076 474.778,-26.6238 470.904,-27.6213 470.904,-27.6213 470.904,-27.6213 474.778,-26.6238 470.006,-24.1351 478.651,-25.6263 478.651,-25.6263\" stroke=\"black\"/>\n",
       "<text font-family=\"Courier,monospace\" font-size=\"9.00\" text-anchor=\"start\" x=\"419.5\" y=\"-47.8\">_ → _ ^</text>\n",
       "</g>\n",
       "</g>\n",
       "</svg>"
      ],
      "text/plain": [
       "<IPython.core.display.SVG object>"
      ]
     },
     "execution_count": 4,
     "metadata": {},
     "output_type": "execute_result"
    }
   ],
   "source": [
    "m.display_graph()"
   ]
  },
  {
   "cell_type": "markdown",
   "metadata": {},
   "source": [
    "Sipser allows a shorthand in which there are multiple symbols to the left of the arrow. For example, the transitions from `q5` to itself could be written `0,x -> L` for \"if the current symbol is either `0` or `x`, move left\". We don't allow this; instead, use two transitions.\n",
    "\n",
    "This machine recognizes the language $\\{\\texttt{0}^{2^n} \\mid n \\geq 0\\}$. Here's an example run:"
   ]
  },
  {
   "cell_type": "code",
   "execution_count": 6,
   "metadata": {
    "collapsed": false
   },
   "outputs": [
    {
     "data": {
      "image/svg+xml": [
       "<svg height=\"431pt\" viewBox=\"0.00 0.00 113.00 431.00\" width=\"113pt\" xmlns=\"http://www.w3.org/2000/svg\" xmlns:xlink=\"http://www.w3.org/1999/xlink\">\n",
       "<g class=\"graph\" id=\"graph0\" transform=\"scale(1 1) rotate(0) translate(4 427)\">\n",
       "<title>%3</title>\n",
       "<polygon fill=\"white\" points=\"-4,4 -4,-427 109,-427 109,4 -4,4\" stroke=\"none\"/>\n",
       "<!-- 4458071392 -->\n",
       "<g class=\"node\" id=\"node1\"><title>4458071392</title>\n",
       "<path d=\"M76,-372C76,-372 29,-372 29,-372 26.5,-372 24,-369.5 24,-367 24,-367 24,-362 24,-362 24,-359.5 26.5,-357 29,-357 29,-357 76,-357 76,-357 78.5,-357 81,-359.5 81,-362 81,-362 81,-367 81,-367 81,-369.5 78.5,-372 76,-372\" fill=\"none\" stroke=\"black\"/>\n",
       "<text font-family=\"Courier,monospace\" font-size=\"10.00\" text-anchor=\"start\" x=\"28\" y=\"-362\">q1,[0] 0</text>\n",
       "</g>\n",
       "<!-- 4458225816 -->\n",
       "<g class=\"node\" id=\"node5\"><title>4458225816</title>\n",
       "<path d=\"M76,-321C76,-321 29,-321 29,-321 26.5,-321 24,-318.5 24,-316 24,-316 24,-311 24,-311 24,-308.5 26.5,-306 29,-306 29,-306 76,-306 76,-306 78.5,-306 81,-308.5 81,-311 81,-311 81,-316 81,-316 81,-318.5 78.5,-321 76,-321\" fill=\"none\" stroke=\"black\"/>\n",
       "<text font-family=\"Courier,monospace\" font-size=\"10.00\" text-anchor=\"start\" x=\"28\" y=\"-311\">q2,_ [0]</text>\n",
       "</g>\n",
       "<!-- 4458071392&#45;&gt;4458225816 -->\n",
       "<g class=\"edge\" id=\"edge2\"><title>4458071392-&gt;4458225816</title>\n",
       "<path d=\"M52.5,-356.687C52.5,-349.666 52.5,-338.495 52.5,-329.412\" fill=\"none\" stroke=\"black\"/>\n",
       "<polygon fill=\"black\" points=\"52.5,-321.255 56.1001,-329.255 52.5,-325.255 52.5001,-329.255 52.5001,-329.255 52.5001,-329.255 52.5,-325.255 48.9001,-329.255 52.5,-321.255 52.5,-321.255\" stroke=\"black\"/>\n",
       "</g>\n",
       "<!-- 4458226752 -->\n",
       "<g class=\"node\" id=\"node2\"><title>4458226752</title>\n",
       "<path d=\"M76,-168C76,-168 29,-168 29,-168 26.5,-168 24,-165.5 24,-163 24,-163 24,-158 24,-158 24,-155.5 26.5,-153 29,-153 29,-153 76,-153 76,-153 78.5,-153 81,-155.5 81,-158 81,-158 81,-163 81,-163 81,-165.5 78.5,-168 76,-168\" fill=\"none\" stroke=\"black\"/>\n",
       "<text font-family=\"Courier,monospace\" font-size=\"10.00\" text-anchor=\"start\" x=\"28\" y=\"-158\">q5,[_] x</text>\n",
       "</g>\n",
       "<!-- 4458226968 -->\n",
       "<g class=\"node\" id=\"node3\"><title>4458226968</title>\n",
       "<path d=\"M76,-117C76,-117 29,-117 29,-117 26.5,-117 24,-114.5 24,-112 24,-112 24,-107 24,-107 24,-104.5 26.5,-102 29,-102 29,-102 76,-102 76,-102 78.5,-102 81,-104.5 81,-107 81,-107 81,-112 81,-112 81,-114.5 78.5,-117 76,-117\" fill=\"none\" stroke=\"black\"/>\n",
       "<text font-family=\"Courier,monospace\" font-size=\"10.00\" text-anchor=\"start\" x=\"28\" y=\"-107\">q2,_ [x]</text>\n",
       "</g>\n",
       "<!-- 4458226752&#45;&gt;4458226968 -->\n",
       "<g class=\"edge\" id=\"edge1\"><title>4458226752-&gt;4458226968</title>\n",
       "<path d=\"M52.5,-152.687C52.5,-145.666 52.5,-134.495 52.5,-125.412\" fill=\"none\" stroke=\"black\"/>\n",
       "<polygon fill=\"black\" points=\"52.5,-117.255 56.1001,-125.255 52.5,-121.255 52.5001,-125.255 52.5001,-125.255 52.5001,-125.255 52.5,-121.255 48.9001,-125.255 52.5,-117.255 52.5,-117.255\" stroke=\"black\"/>\n",
       "</g>\n",
       "<!-- 4458227184 -->\n",
       "<g class=\"node\" id=\"node6\"><title>4458227184</title>\n",
       "<path d=\"M82,-66C82,-66 23,-66 23,-66 20.5,-66 18,-63.5 18,-61 18,-61 18,-56 18,-56 18,-53.5 20.5,-51 23,-51 23,-51 82,-51 82,-51 84.5,-51 87,-53.5 87,-56 87,-56 87,-61 87,-61 87,-63.5 84.5,-66 82,-66\" fill=\"none\" stroke=\"black\"/>\n",
       "<text font-family=\"Courier,monospace\" font-size=\"10.00\" text-anchor=\"start\" x=\"22\" y=\"-56\">q2,_ x [_]</text>\n",
       "</g>\n",
       "<!-- 4458226968&#45;&gt;4458227184 -->\n",
       "<g class=\"edge\" id=\"edge8\"><title>4458226968-&gt;4458227184</title>\n",
       "<path d=\"M52.5,-101.687C52.5,-94.6656 52.5,-83.4947 52.5,-74.4116\" fill=\"none\" stroke=\"black\"/>\n",
       "<polygon fill=\"black\" points=\"52.5,-66.2554 56.1001,-74.2553 52.5,-70.2554 52.5001,-74.2554 52.5001,-74.2554 52.5001,-74.2554 52.5,-70.2554 48.9001,-74.2554 52.5,-66.2554 52.5,-66.2554\" stroke=\"black\"/>\n",
       "</g>\n",
       "<!-- 4458226536 -->\n",
       "<g class=\"node\" id=\"node4\"><title>4458226536</title>\n",
       "<path d=\"M76,-219C76,-219 29,-219 29,-219 26.5,-219 24,-216.5 24,-214 24,-214 24,-209 24,-209 24,-206.5 26.5,-204 29,-204 29,-204 76,-204 76,-204 78.5,-204 81,-206.5 81,-209 81,-209 81,-214 81,-214 81,-216.5 78.5,-219 76,-219\" fill=\"none\" stroke=\"black\"/>\n",
       "<text font-family=\"Courier,monospace\" font-size=\"10.00\" text-anchor=\"start\" x=\"28\" y=\"-209\">q5,_ [x]</text>\n",
       "</g>\n",
       "<!-- 4458226536&#45;&gt;4458226752 -->\n",
       "<g class=\"edge\" id=\"edge4\"><title>4458226536-&gt;4458226752</title>\n",
       "<path d=\"M52.5,-203.687C52.5,-196.666 52.5,-185.495 52.5,-176.412\" fill=\"none\" stroke=\"black\"/>\n",
       "<polygon fill=\"black\" points=\"52.5,-168.255 56.1001,-176.255 52.5,-172.255 52.5001,-176.255 52.5001,-176.255 52.5001,-176.255 52.5,-172.255 48.9001,-176.255 52.5,-168.255 52.5,-168.255\" stroke=\"black\"/>\n",
       "</g>\n",
       "<!-- 4458226248 -->\n",
       "<g class=\"node\" id=\"node8\"><title>4458226248</title>\n",
       "<path d=\"M82,-270C82,-270 23,-270 23,-270 20.5,-270 18,-267.5 18,-265 18,-265 18,-260 18,-260 18,-257.5 20.5,-255 23,-255 23,-255 82,-255 82,-255 84.5,-255 87,-257.5 87,-260 87,-260 87,-265 87,-265 87,-267.5 84.5,-270 82,-270\" fill=\"none\" stroke=\"black\"/>\n",
       "<text font-family=\"Courier,monospace\" font-size=\"10.00\" text-anchor=\"start\" x=\"22\" y=\"-260\">q3,_ x [_]</text>\n",
       "</g>\n",
       "<!-- 4458225816&#45;&gt;4458226248 -->\n",
       "<g class=\"edge\" id=\"edge5\"><title>4458225816-&gt;4458226248</title>\n",
       "<path d=\"M52.5,-305.687C52.5,-298.666 52.5,-287.495 52.5,-278.412\" fill=\"none\" stroke=\"black\"/>\n",
       "<polygon fill=\"black\" points=\"52.5,-270.255 56.1001,-278.255 52.5,-274.255 52.5001,-278.255 52.5001,-278.255 52.5001,-278.255 52.5,-274.255 48.9001,-278.255 52.5,-270.255 52.5,-270.255\" stroke=\"black\"/>\n",
       "</g>\n",
       "<!-- 4458227400 -->\n",
       "<g class=\"node\" id=\"node9\"><title>4458227400</title>\n",
       "<path d=\"M100,-15C100,-15 5,-15 5,-15 2.5,-15 0,-12.5 0,-10 0,-10 0,-5 0,-5 0,-2.5 2.5,-8.88178e-16 5,-8.88178e-16 5,-8.88178e-16 100,-8.88178e-16 100,-8.88178e-16 102.5,-8.88178e-16 105,-2.5 105,-5 105,-5 105,-10 105,-10 105,-12.5 102.5,-15 100,-15\" fill=\"none\" stroke=\"black\"/>\n",
       "<text font-family=\"Courier,monospace\" font-size=\"10.00\" text-anchor=\"start\" x=\"4\" y=\"-5\">ACCEPT,_ x _ [_]</text>\n",
       "</g>\n",
       "<!-- 4458227184&#45;&gt;4458227400 -->\n",
       "<g class=\"edge\" id=\"edge6\"><title>4458227184-&gt;4458227400</title>\n",
       "<path d=\"M52.5,-50.6868C52.5,-43.6656 52.5,-32.4947 52.5,-23.4116\" fill=\"none\" stroke=\"black\"/>\n",
       "<polygon fill=\"black\" points=\"52.5,-15.2554 56.1001,-23.2553 52.5,-19.2554 52.5001,-23.2554 52.5001,-23.2554 52.5001,-23.2554 52.5,-19.2554 48.9001,-23.2554 52.5,-15.2554 52.5,-15.2554\" stroke=\"black\"/>\n",
       "</g>\n",
       "<!-- 4456629816 -->\n",
       "<g class=\"node\" id=\"node7\"><title>4456629816</title>\n",
       "<path d=\"M85,-423C85,-423 20,-423 20,-423 17.5,-423 15,-420.5 15,-418 15,-418 15,-413 15,-413 15,-410.5 17.5,-408 20,-408 20,-408 85,-408 85,-408 87.5,-408 90,-410.5 90,-413 90,-413 90,-418 90,-418 90,-420.5 87.5,-423 85,-423\" fill=\"none\" stroke=\"black\"/>\n",
       "<text font-family=\"Courier,monospace\" font-size=\"10.00\" text-anchor=\"start\" x=\"19\" y=\"-413\">START,[0] 0</text>\n",
       "</g>\n",
       "<!-- 4456629816&#45;&gt;4458071392 -->\n",
       "<g class=\"edge\" id=\"edge7\"><title>4456629816-&gt;4458071392</title>\n",
       "<path d=\"M52.5,-407.687C52.5,-400.666 52.5,-389.495 52.5,-380.412\" fill=\"none\" stroke=\"black\"/>\n",
       "<polygon fill=\"black\" points=\"52.5,-372.255 56.1001,-380.255 52.5,-376.255 52.5001,-380.255 52.5001,-380.255 52.5001,-380.255 52.5,-376.255 48.9001,-380.255 52.5,-372.255 52.5,-372.255\" stroke=\"black\"/>\n",
       "</g>\n",
       "<!-- 4458226248&#45;&gt;4458226536 -->\n",
       "<g class=\"edge\" id=\"edge3\"><title>4458226248-&gt;4458226536</title>\n",
       "<path d=\"M52.5,-254.687C52.5,-247.666 52.5,-236.495 52.5,-227.412\" fill=\"none\" stroke=\"black\"/>\n",
       "<polygon fill=\"black\" points=\"52.5,-219.255 56.1001,-227.255 52.5,-223.255 52.5001,-227.255 52.5001,-227.255 52.5001,-227.255 52.5,-223.255 48.9001,-227.255 52.5,-219.255 52.5,-219.255\" stroke=\"black\"/>\n",
       "</g>\n",
       "</g>\n",
       "</svg>"
      ],
      "text/plain": [
       "<IPython.core.display.SVG object>"
      ]
     },
     "metadata": {},
     "output_type": "display_data"
    }
   ],
   "source": [
    "m.run(\"00\")"
   ]
  },
  {
   "cell_type": "markdown",
   "metadata": {},
   "source": [
    "Each node shows both the state and the tape, with the head position indicated using square brackets. This run ended in the `ACCEPT` state, so the machine accepted the string."
   ]
  },
  {
   "cell_type": "code",
   "execution_count": 7,
   "metadata": {
    "collapsed": false
   },
   "outputs": [
    {
     "data": {
      "image/svg+xml": [
       "<svg height=\"278pt\" viewBox=\"0.00 0.00 125.00 278.00\" width=\"125pt\" xmlns=\"http://www.w3.org/2000/svg\" xmlns:xlink=\"http://www.w3.org/1999/xlink\">\n",
       "<g class=\"graph\" id=\"graph0\" transform=\"scale(1 1) rotate(0) translate(4 274)\">\n",
       "<title>%3</title>\n",
       "<polygon fill=\"white\" points=\"-4,4 -4,-274 121,-274 121,4 -4,4\" stroke=\"none\"/>\n",
       "<!-- 4458227832 -->\n",
       "<g class=\"node\" id=\"node1\"><title>4458227832</title>\n",
       "<path d=\"M88,-219C88,-219 29,-219 29,-219 26.5,-219 24,-216.5 24,-214 24,-214 24,-209 24,-209 24,-206.5 26.5,-204 29,-204 29,-204 88,-204 88,-204 90.5,-204 93,-206.5 93,-209 93,-209 93,-214 93,-214 93,-216.5 90.5,-219 88,-219\" fill=\"none\" stroke=\"black\"/>\n",
       "<text font-family=\"Courier,monospace\" font-size=\"10.00\" text-anchor=\"start\" x=\"28\" y=\"-209\">q1,[0] 0 0</text>\n",
       "</g>\n",
       "<!-- 4458228048 -->\n",
       "<g class=\"node\" id=\"node2\"><title>4458228048</title>\n",
       "<path d=\"M88,-168C88,-168 29,-168 29,-168 26.5,-168 24,-165.5 24,-163 24,-163 24,-158 24,-158 24,-155.5 26.5,-153 29,-153 29,-153 88,-153 88,-153 90.5,-153 93,-155.5 93,-158 93,-158 93,-163 93,-163 93,-165.5 90.5,-168 88,-168\" fill=\"none\" stroke=\"black\"/>\n",
       "<text font-family=\"Courier,monospace\" font-size=\"10.00\" text-anchor=\"start\" x=\"28\" y=\"-158\">q2,_ [0] 0</text>\n",
       "</g>\n",
       "<!-- 4458227832&#45;&gt;4458228048 -->\n",
       "<g class=\"edge\" id=\"edge3\"><title>4458227832-&gt;4458228048</title>\n",
       "<path d=\"M58.5,-203.687C58.5,-196.666 58.5,-185.495 58.5,-176.412\" fill=\"none\" stroke=\"black\"/>\n",
       "<polygon fill=\"black\" points=\"58.5,-168.255 62.1001,-176.255 58.5,-172.255 58.5001,-176.255 58.5001,-176.255 58.5001,-176.255 58.5,-172.255 54.9001,-176.255 58.5,-168.255 58.5,-168.255\" stroke=\"black\"/>\n",
       "</g>\n",
       "<!-- 4458228264 -->\n",
       "<g class=\"node\" id=\"node3\"><title>4458228264</title>\n",
       "<path d=\"M88,-117C88,-117 29,-117 29,-117 26.5,-117 24,-114.5 24,-112 24,-112 24,-107 24,-107 24,-104.5 26.5,-102 29,-102 29,-102 88,-102 88,-102 90.5,-102 93,-104.5 93,-107 93,-107 93,-112 93,-112 93,-114.5 90.5,-117 88,-117\" fill=\"none\" stroke=\"black\"/>\n",
       "<text font-family=\"Courier,monospace\" font-size=\"10.00\" text-anchor=\"start\" x=\"28\" y=\"-107\">q3,_ x [0]</text>\n",
       "</g>\n",
       "<!-- 4458228048&#45;&gt;4458228264 -->\n",
       "<g class=\"edge\" id=\"edge5\"><title>4458228048-&gt;4458228264</title>\n",
       "<path d=\"M58.5,-152.687C58.5,-145.666 58.5,-134.495 58.5,-125.412\" fill=\"none\" stroke=\"black\"/>\n",
       "<polygon fill=\"black\" points=\"58.5,-117.255 62.1001,-125.255 58.5,-121.255 58.5001,-125.255 58.5001,-125.255 58.5001,-125.255 58.5,-121.255 54.9001,-125.255 58.5,-117.255 58.5,-117.255\" stroke=\"black\"/>\n",
       "</g>\n",
       "<!-- 4458502624 -->\n",
       "<g class=\"node\" id=\"node4\"><title>4458502624</title>\n",
       "<path d=\"M94,-66C94,-66 23,-66 23,-66 20.5,-66 18,-63.5 18,-61 18,-61 18,-56 18,-56 18,-53.5 20.5,-51 23,-51 23,-51 94,-51 94,-51 96.5,-51 99,-53.5 99,-56 99,-56 99,-61 99,-61 99,-63.5 96.5,-66 94,-66\" fill=\"none\" stroke=\"black\"/>\n",
       "<text font-family=\"Courier,monospace\" font-size=\"10.00\" text-anchor=\"start\" x=\"22\" y=\"-56\">q4,_ x 0 [_]</text>\n",
       "</g>\n",
       "<!-- 4458228264&#45;&gt;4458502624 -->\n",
       "<g class=\"edge\" id=\"edge2\"><title>4458228264-&gt;4458502624</title>\n",
       "<path d=\"M58.5,-101.687C58.5,-94.6656 58.5,-83.4947 58.5,-74.4116\" fill=\"none\" stroke=\"black\"/>\n",
       "<polygon fill=\"black\" points=\"58.5,-66.2554 62.1001,-74.2553 58.5,-70.2554 58.5001,-74.2554 58.5001,-74.2554 58.5001,-74.2554 58.5,-70.2554 54.9001,-74.2554 58.5,-66.2554 58.5,-66.2554\" stroke=\"black\"/>\n",
       "</g>\n",
       "<!-- 4458503200 -->\n",
       "<g class=\"node\" id=\"node6\"><title>4458503200</title>\n",
       "<path d=\"M112,-15C112,-15 5,-15 5,-15 2.5,-15 7.10543e-15,-12.5 7.10543e-15,-10 7.10543e-15,-10 7.10543e-15,-5 7.10543e-15,-5 7.10543e-15,-2.5 2.5,-8.88178e-16 5,-8.88178e-16 5,-8.88178e-16 112,-8.88178e-16 112,-8.88178e-16 114.5,-8.88178e-16 117,-2.5 117,-5 117,-5 117,-10 117,-10 117,-12.5 114.5,-15 112,-15\" fill=\"none\" stroke=\"black\"/>\n",
       "<text font-family=\"Courier,monospace\" font-size=\"10.00\" text-anchor=\"start\" x=\"4\" y=\"-5\">REJECT,_ x 0 _ [_]</text>\n",
       "</g>\n",
       "<!-- 4458502624&#45;&gt;4458503200 -->\n",
       "<g class=\"edge\" id=\"edge4\"><title>4458502624-&gt;4458503200</title>\n",
       "<path d=\"M58.5,-50.6868C58.5,-43.6656 58.5,-32.4947 58.5,-23.4116\" fill=\"none\" stroke=\"black\"/>\n",
       "<polygon fill=\"black\" points=\"58.5,-15.2554 62.1001,-23.2553 58.5,-19.2554 58.5001,-23.2554 58.5001,-23.2554 58.5001,-23.2554 58.5,-19.2554 54.9001,-23.2554 58.5,-15.2554 58.5,-15.2554\" stroke=\"black\"/>\n",
       "</g>\n",
       "<!-- 4458213320 -->\n",
       "<g class=\"node\" id=\"node5\"><title>4458213320</title>\n",
       "<path d=\"M97,-270C97,-270 20,-270 20,-270 17.5,-270 15,-267.5 15,-265 15,-265 15,-260 15,-260 15,-257.5 17.5,-255 20,-255 20,-255 97,-255 97,-255 99.5,-255 102,-257.5 102,-260 102,-260 102,-265 102,-265 102,-267.5 99.5,-270 97,-270\" fill=\"none\" stroke=\"black\"/>\n",
       "<text font-family=\"Courier,monospace\" font-size=\"10.00\" text-anchor=\"start\" x=\"19\" y=\"-260\">START,[0] 0 0</text>\n",
       "</g>\n",
       "<!-- 4458213320&#45;&gt;4458227832 -->\n",
       "<g class=\"edge\" id=\"edge1\"><title>4458213320-&gt;4458227832</title>\n",
       "<path d=\"M58.5,-254.687C58.5,-247.666 58.5,-236.495 58.5,-227.412\" fill=\"none\" stroke=\"black\"/>\n",
       "<polygon fill=\"black\" points=\"58.5,-219.255 62.1001,-227.255 58.5,-223.255 58.5001,-227.255 58.5001,-227.255 58.5001,-227.255 58.5,-223.255 54.9001,-227.255 58.5,-219.255 58.5,-219.255\" stroke=\"black\"/>\n",
       "</g>\n",
       "</g>\n",
       "</svg>"
      ],
      "text/plain": [
       "<IPython.core.display.SVG object>"
      ]
     },
     "metadata": {},
     "output_type": "display_data"
    }
   ],
   "source": [
    "m.run(\"000\")"
   ]
  },
  {
   "cell_type": "markdown",
   "metadata": {},
   "source": [
    "This run ended in the `REJECT` state, so the machine rejected the string."
   ]
  }
 ],
 "metadata": {
  "kernelspec": {
   "display_name": "Python 2",
   "language": "python",
   "name": "python2"
  },
  "language_info": {
   "codemirror_mode": {
    "name": "ipython",
    "version": 2
   },
   "file_extension": ".py",
   "mimetype": "text/x-python",
   "name": "python",
   "nbconvert_exporter": "python",
   "pygments_lexer": "ipython2",
   "version": "2.7.10"
  }
 },
 "nbformat": 4,
 "nbformat_minor": 0
}
