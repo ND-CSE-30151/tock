{
 "cells": [
  {
   "cell_type": "code",
   "execution_count": 1,
   "metadata": {
    "collapsed": false
   },
   "outputs": [],
   "source": [
    "from tock import *"
   ]
  },
  {
   "cell_type": "markdown",
   "metadata": {},
   "source": [
    "# Deterministic finite automata"
   ]
  },
  {
   "cell_type": "markdown",
   "metadata": {},
   "source": [
    "A deterministic finite automaton (DFA) is a machine that can be in one state at a time, out of a finite set of states. It reads in symbols one at a time, and each symbol may cause it to change to a new state. When the machine has read the whole input string, it either accepts the string or rejects it.\n",
    "\n",
    "Sipser and other textbooks represent DFAs, and all kinds of automata, using either tables or graphs. You can create automata either way and load them into Tock.\n",
    "\n",
    "To create tables, you can use any spreadsheet software (Excel, OpenOffice, iWork, Google Drive) and export in CSV or Excel (`.xlsx`) format. Then read it into Tock using the `read_csv` or `read_excel` function."
   ]
  },
  {
   "cell_type": "code",
   "execution_count": 2,
   "metadata": {
    "collapsed": false
   },
   "outputs": [],
   "source": [
    "m = read_csv(\"../examples/sipser-1-4.csv\")"
   ]
  },
  {
   "cell_type": "markdown",
   "metadata": {},
   "source": [
    "Graphs should be in Trivial Graph Format (TGF), which most graph-editing software ([yED], [Gephi]) can export in. Then a graph can be read into Tock using the `read_tgf` function.\n",
    "\n",
    "[yED]: http://www.yworks.com/en/products/yfiles/yed/\n",
    "[Gephi]: http://gephi.github.io"
   ]
  },
  {
   "cell_type": "code",
   "execution_count": 3,
   "metadata": {
    "collapsed": false
   },
   "outputs": [],
   "source": [
    "m = read_tgf(\"../examples/sipser-1-4.tgf\")"
   ]
  },
  {
   "cell_type": "markdown",
   "metadata": {},
   "source": [
    "Once a machine is loaded, we can test whether it is indeed a DFA:"
   ]
  },
  {
   "cell_type": "code",
   "execution_count": 4,
   "metadata": {
    "collapsed": false
   },
   "outputs": [
    {
     "data": {
      "text/plain": [
       "(True, True)"
      ]
     },
     "execution_count": 4,
     "metadata": {},
     "output_type": "execute_result"
    }
   ],
   "source": [
    "m.is_finite(), m.is_deterministic()"
   ]
  },
  {
   "cell_type": "markdown",
   "metadata": {},
   "source": [
    "Regardless of how it was created and loaded, it can be viewed as a table:"
   ]
  },
  {
   "cell_type": "code",
   "execution_count": 5,
   "metadata": {
    "collapsed": false
   },
   "outputs": [
    {
     "data": {
      "text/html": [
       "<table style=\"font-family: Courier, monospace;\">\n",
       "  <tr>\n",
       "    <th></th>\n",
       "    <th>0</th>\n",
       "    <th>1</th>\n",
       "  </tr>\n",
       "  <tr>\n",
       "    <th>&gt;q1</th>\n",
       "    <td>q1</td>\n",
       "    <td>q2</td>\n",
       "  </tr>\n",
       "  <tr>\n",
       "    <th>@q2</th>\n",
       "    <td>q3</td>\n",
       "    <td>q2</td>\n",
       "  </tr>\n",
       "  <tr>\n",
       "    <th>q3</th>\n",
       "    <td>q2</td>\n",
       "    <td>q2</td>\n",
       "  </tr>\n",
       "</table>"
      ],
      "text/plain": [
       "<tock.tables.Table at 0x10f4201d0>"
      ]
     },
     "execution_count": 5,
     "metadata": {},
     "output_type": "execute_result"
    }
   ],
   "source": [
    "to_table(m)"
   ]
  },
  {
   "cell_type": "markdown",
   "metadata": {},
   "source": [
    "This machine has three states, listed in the first column: `q1`, `q2`, and `q3`. The `>` means that `q1` is the start state (the state the machine starts in), and the `@` means that `q2` is a final state (meaning that when the machine has read all of the input, it accepts the input iff it is in a final state). These symbols are not part of the state name.\n",
    "\n",
    "The first row lists all possible input symbols (here, `0` and `1`), and the interior cells indicate what the new state should be after reading a symbol. For example, if the machine is in state `q1` and reads a `1`, then it changes to state `q2`.\n",
    "\n",
    "It's more convenient to visualize the automaton's operation using a state transition diagram:"
   ]
  },
  {
   "cell_type": "code",
   "execution_count": 6,
   "metadata": {
    "collapsed": false
   },
   "outputs": [
    {
     "data": {
      "image/svg+xml": [
       "<svg height=\"81pt\" viewBox=\"0.00 0.00 213.00 81.42\" width=\"213pt\" xmlns=\"http://www.w3.org/2000/svg\" xmlns:xlink=\"http://www.w3.org/1999/xlink\">\n",
       "<g class=\"graph\" id=\"graph0\" transform=\"scale(1 1) rotate(0) translate(4 77.4232)\">\n",
       "<title>%3</title>\n",
       "<polygon fill=\"white\" points=\"-4,4 -4,-77.4232 209,-77.4232 209,4 -4,4\" stroke=\"none\"/>\n",
       "<!-- _START -->\n",
       "<g class=\"node\" id=\"node1\"><title>_START</title>\n",
       "</g>\n",
       "<!-- 0 -->\n",
       "<g class=\"node\" id=\"node2\"><title>0</title>\n",
       "<path d=\"M53.3333,-35.4232C53.3333,-35.4232 43.6667,-35.4232 43.6667,-35.4232 40.8333,-35.4232 38,-32.5898 38,-29.7565 38,-29.7565 38,-24.0898 38,-24.0898 38,-21.2565 40.8333,-18.4232 43.6667,-18.4232 43.6667,-18.4232 53.3333,-18.4232 53.3333,-18.4232 56.1667,-18.4232 59,-21.2565 59,-24.0898 59,-24.0898 59,-29.7565 59,-29.7565 59,-32.5898 56.1667,-35.4232 53.3333,-35.4232\" fill=\"none\" stroke=\"black\"/>\n",
       "<text font-family=\"Courier,monospace\" font-size=\"10.00\" text-anchor=\"start\" x=\"42\" y=\"-24.4232\">q1</text>\n",
       "</g>\n",
       "<!-- _START&#45;&gt;0 -->\n",
       "<g class=\"edge\" id=\"edge1\"><title>_START-&gt;0</title>\n",
       "<path d=\"M1.13339,-26.9232C2.79277,-26.9232 19.5956,-26.9232 32.5011,-26.9232\" fill=\"none\" stroke=\"black\"/>\n",
       "<polygon fill=\"black\" points=\"37.7379,-26.9232 32.738,-29.1733 35.2379,-26.9232 32.7379,-26.9233 32.7379,-26.9233 32.7379,-26.9233 35.2379,-26.9232 32.7379,-24.6733 37.7379,-26.9232 37.7379,-26.9232\" stroke=\"black\"/>\n",
       "</g>\n",
       "<!-- 0&#45;&gt;0 -->\n",
       "<g class=\"edge\" id=\"edge2\"><title>0-&gt;0</title>\n",
       "<path d=\"M44.3279,-35.6089C42.0234,-44.0971 43.4141,-53.4232 48.5,-53.4232 52.5529,-53.4232 54.2592,-47.501 53.619,-40.7999\" fill=\"none\" stroke=\"black\"/>\n",
       "<polygon fill=\"black\" points=\"52.6721,-35.6089 55.7829,-40.1239 53.1207,-38.0683 53.5694,-40.5277 53.5694,-40.5277 53.5694,-40.5277 53.1207,-38.0683 51.356,-40.9315 52.6721,-35.6089 52.6721,-35.6089\" stroke=\"black\"/>\n",
       "<text font-family=\"Courier,monospace\" font-size=\"9.00\" text-anchor=\"start\" x=\"45.5\" y=\"-59.2232\">0</text>\n",
       "</g>\n",
       "<!-- 1 -->\n",
       "<g class=\"node\" id=\"node3\"><title>1</title>\n",
       "<path d=\"M126.333,-35.4232C126.333,-35.4232 116.667,-35.4232 116.667,-35.4232 113.833,-35.4232 111,-32.5898 111,-29.7565 111,-29.7565 111,-24.0898 111,-24.0898 111,-21.2565 113.833,-18.4232 116.667,-18.4232 116.667,-18.4232 126.333,-18.4232 126.333,-18.4232 129.167,-18.4232 132,-21.2565 132,-24.0898 132,-24.0898 132,-29.7565 132,-29.7565 132,-32.5898 129.167,-35.4232 126.333,-35.4232\" fill=\"none\" stroke=\"black\"/>\n",
       "<path d=\"M127.667,-39.4232C127.667,-39.4232 115.333,-39.4232 115.333,-39.4232 111.167,-39.4232 107,-35.2565 107,-31.0898 107,-31.0898 107,-22.7565 107,-22.7565 107,-18.5898 111.167,-14.4232 115.333,-14.4232 115.333,-14.4232 127.667,-14.4232 127.667,-14.4232 131.833,-14.4232 136,-18.5898 136,-22.7565 136,-22.7565 136,-31.0898 136,-31.0898 136,-35.2565 131.833,-39.4232 127.667,-39.4232\" fill=\"none\" stroke=\"black\"/>\n",
       "<text font-family=\"Courier,monospace\" font-size=\"10.00\" text-anchor=\"start\" x=\"115\" y=\"-24.4232\">q2</text>\n",
       "</g>\n",
       "<!-- 0&#45;&gt;1 -->\n",
       "<g class=\"edge\" id=\"edge3\"><title>0-&gt;1</title>\n",
       "<path d=\"M59.0754,-26.9232C69.9689,-26.9232 88.0236,-26.9232 101.747,-26.9232\" fill=\"none\" stroke=\"black\"/>\n",
       "<polygon fill=\"black\" points=\"106.956,-26.9232 101.956,-29.1733 104.456,-26.9232 101.956,-26.9233 101.956,-26.9233 101.956,-26.9233 104.456,-26.9232 101.956,-24.6733 106.956,-26.9232 106.956,-26.9232\" stroke=\"black\"/>\n",
       "<text font-family=\"Courier,monospace\" font-size=\"9.00\" text-anchor=\"start\" x=\"80\" y=\"-32.7232\">1</text>\n",
       "</g>\n",
       "<!-- 1&#45;&gt;1 -->\n",
       "<g class=\"edge\" id=\"edge6\"><title>1-&gt;1</title>\n",
       "<path d=\"M115.142,-39.455C113.072,-48.4566 115.191,-57.4232 121.5,-57.4232 126.626,-57.4232 128.986,-51.5038 128.58,-44.4558\" fill=\"none\" stroke=\"black\"/>\n",
       "<polygon fill=\"black\" points=\"127.858,-39.455 130.8,-44.0818 128.215,-41.9293 128.573,-44.4036 128.573,-44.4036 128.573,-44.4036 128.215,-41.9293 126.346,-44.7254 127.858,-39.455 127.858,-39.455\" stroke=\"black\"/>\n",
       "<text font-family=\"Courier,monospace\" font-size=\"9.00\" text-anchor=\"start\" x=\"118.5\" y=\"-63.2232\">1</text>\n",
       "</g>\n",
       "<!-- 2 -->\n",
       "<g class=\"node\" id=\"node4\"><title>2</title>\n",
       "<path d=\"M199.333,-35.4232C199.333,-35.4232 189.667,-35.4232 189.667,-35.4232 186.833,-35.4232 184,-32.5898 184,-29.7565 184,-29.7565 184,-24.0898 184,-24.0898 184,-21.2565 186.833,-18.4232 189.667,-18.4232 189.667,-18.4232 199.333,-18.4232 199.333,-18.4232 202.167,-18.4232 205,-21.2565 205,-24.0898 205,-24.0898 205,-29.7565 205,-29.7565 205,-32.5898 202.167,-35.4232 199.333,-35.4232\" fill=\"none\" stroke=\"black\"/>\n",
       "<text font-family=\"Courier,monospace\" font-size=\"10.00\" text-anchor=\"start\" x=\"188\" y=\"-24.4232\">q3</text>\n",
       "</g>\n",
       "<!-- 1&#45;&gt;2 -->\n",
       "<g class=\"edge\" id=\"edge5\"><title>1-&gt;2</title>\n",
       "<path d=\"M136.197,-29.9403C144.753,-31.4668 156.006,-32.8243 166,-31.9232 170.214,-31.5432 174.747,-30.8421 178.894,-30.0827\" fill=\"none\" stroke=\"black\"/>\n",
       "<polygon fill=\"black\" points=\"183.886,-29.1093 179.409,-32.2747 181.432,-29.5878 178.978,-30.0663 178.978,-30.0663 178.978,-30.0663 181.432,-29.5878 178.547,-27.8579 183.886,-29.1093 183.886,-29.1093\" stroke=\"black\"/>\n",
       "<text font-family=\"Courier,monospace\" font-size=\"9.00\" text-anchor=\"start\" x=\"157\" y=\"-37.7232\">0</text>\n",
       "</g>\n",
       "<!-- 2&#45;&gt;1 -->\n",
       "<g class=\"edge\" id=\"edge4\"><title>2-&gt;1</title>\n",
       "<path d=\"M186.868,-18.1823C181.86,-12.352 174.425,-5.18052 166,-1.92318 161.025,-0 159.036,-0.167587 154,-1.92318 148.448,-3.85871 143.139,-7.22643 138.516,-10.8745\" fill=\"none\" stroke=\"black\"/>\n",
       "<polygon fill=\"black\" points=\"134.474,-14.2706 136.855,-9.33134 136.388,-12.6623 138.302,-11.0539 138.302,-11.0539 138.302,-11.0539 136.388,-12.6623 139.75,-12.7765 134.474,-14.2706 134.474,-14.2706\" stroke=\"black\"/>\n",
       "<text font-family=\"Courier,monospace\" font-size=\"9.00\" text-anchor=\"start\" x=\"157\" y=\"-21.7232\">0</text>\n",
       "<text font-family=\"Courier,monospace\" font-size=\"9.00\" text-anchor=\"start\" x=\"157\" y=\"-7.72318\">1</text>\n",
       "</g>\n",
       "</g>\n",
       "</svg>"
      ],
      "text/plain": [
       "<IPython.core.display.SVG object>"
      ]
     },
     "metadata": {},
     "output_type": "display_data"
    }
   ],
   "source": [
    "to_graph(m)"
   ]
  },
  {
   "cell_type": "markdown",
   "metadata": {},
   "source": [
    "Now let's run the automaton on a string:"
   ]
  },
  {
   "cell_type": "code",
   "execution_count": 7,
   "metadata": {
    "collapsed": false,
    "scrolled": false
   },
   "outputs": [
    {
     "data": {
      "image/svg+xml": [
       "<svg height=\"76pt\" viewBox=\"0.00 0.00 607.00 75.50\" width=\"607pt\" xmlns=\"http://www.w3.org/2000/svg\" xmlns:xlink=\"http://www.w3.org/1999/xlink\">\n",
       "<g class=\"graph\" id=\"graph0\" transform=\"scale(1 1) rotate(0) translate(4 71.5)\">\n",
       "<title>%3</title>\n",
       "<polygon fill=\"white\" points=\"-4,4 -4,-71.5 603,-71.5 603,4 -4,4\" stroke=\"none\"/>\n",
       "<!-- _START -->\n",
       "<g class=\"node\" id=\"node1\"><title>_START</title>\n",
       "</g>\n",
       "<!-- 0 -->\n",
       "<g class=\"node\" id=\"node2\"><title>0</title>\n",
       "<path d=\"M62.3333,-21C62.3333,-21 52.6667,-21 52.6667,-21 49.8333,-21 47,-18.1667 47,-15.3333 47,-15.3333 47,-9.66667 47,-9.66667 47,-6.83333 49.8333,-4 52.6667,-4 52.6667,-4 62.3333,-4 62.3333,-4 65.1667,-4 68,-6.83333 68,-9.66667 68,-9.66667 68,-15.3333 68,-15.3333 68,-18.1667 65.1667,-21 62.3333,-21\" fill=\"none\" stroke=\"black\"/>\n",
       "<text font-family=\"Courier,monospace\" font-size=\"10.00\" text-anchor=\"start\" x=\"51\" y=\"-10\">q1</text>\n",
       "</g>\n",
       "<!-- _START&#45;&gt;0 -->\n",
       "<g class=\"edge\" id=\"edge1\"><title>_START-&gt;0</title>\n",
       "<path d=\"M1.15921,-12.5C3.26572,-12.5 25.8189,-12.5 41.4749,-12.5\" fill=\"none\" stroke=\"black\"/>\n",
       "<polygon fill=\"black\" points=\"46.8802,-12.5 41.8802,-14.7501 44.3802,-12.5 41.8802,-12.5001 41.8802,-12.5001 41.8802,-12.5001 44.3802,-12.5 41.8801,-10.2501 46.8802,-12.5 46.8802,-12.5\" stroke=\"black\"/>\n",
       "</g>\n",
       "<!-- 1 -->\n",
       "<g class=\"node\" id=\"node3\"><title>1</title>\n",
       "<path d=\"M149.333,-21C149.333,-21 139.667,-21 139.667,-21 136.833,-21 134,-18.1667 134,-15.3333 134,-15.3333 134,-9.66667 134,-9.66667 134,-6.83333 136.833,-4 139.667,-4 139.667,-4 149.333,-4 149.333,-4 152.167,-4 155,-6.83333 155,-9.66667 155,-9.66667 155,-15.3333 155,-15.3333 155,-18.1667 152.167,-21 149.333,-21\" fill=\"none\" stroke=\"black\"/>\n",
       "<text font-family=\"Courier,monospace\" font-size=\"10.00\" text-anchor=\"start\" x=\"138\" y=\"-10\">q1</text>\n",
       "</g>\n",
       "<!-- 0&#45;&gt;1 -->\n",
       "<g class=\"edge\" id=\"edge2\"><title>0-&gt;1</title>\n",
       "<path d=\"M68.2506,-12.5C82.9815,-12.5 111.032,-12.5 128.412,-12.5\" fill=\"none\" stroke=\"black\"/>\n",
       "<polygon fill=\"black\" points=\"133.863,-12.5 128.863,-14.7501 131.363,-12.5 128.863,-12.5001 128.863,-12.5001 128.863,-12.5001 131.363,-12.5 128.863,-10.2501 133.863,-12.5 133.863,-12.5\" stroke=\"black\"/>\n",
       "</g>\n",
       "<!-- 2 -->\n",
       "<g class=\"node\" id=\"node4\"><title>2</title>\n",
       "<path d=\"M236.333,-21C236.333,-21 226.667,-21 226.667,-21 223.833,-21 221,-18.1667 221,-15.3333 221,-15.3333 221,-9.66667 221,-9.66667 221,-6.83333 223.833,-4 226.667,-4 226.667,-4 236.333,-4 236.333,-4 239.167,-4 242,-6.83333 242,-9.66667 242,-9.66667 242,-15.3333 242,-15.3333 242,-18.1667 239.167,-21 236.333,-21\" fill=\"none\" stroke=\"black\"/>\n",
       "<text font-family=\"Courier,monospace\" font-size=\"10.00\" text-anchor=\"start\" x=\"225\" y=\"-10\">q1</text>\n",
       "</g>\n",
       "<!-- 1&#45;&gt;2 -->\n",
       "<g class=\"edge\" id=\"edge12\"><title>1-&gt;2</title>\n",
       "<path d=\"M155.251,-12.5C169.982,-12.5 198.032,-12.5 215.412,-12.5\" fill=\"none\" stroke=\"black\"/>\n",
       "<polygon fill=\"black\" points=\"220.863,-12.5 215.863,-14.7501 218.363,-12.5 215.863,-12.5001 215.863,-12.5001 215.863,-12.5001 218.363,-12.5 215.863,-10.2501 220.863,-12.5 220.863,-12.5\" stroke=\"black\"/>\n",
       "</g>\n",
       "<!-- 3 -->\n",
       "<g class=\"node\" id=\"node5\"><title>3</title>\n",
       "<path d=\"M323.333,-21C323.333,-21 313.667,-21 313.667,-21 310.833,-21 308,-18.1667 308,-15.3333 308,-15.3333 308,-9.66667 308,-9.66667 308,-6.83333 310.833,-4 313.667,-4 313.667,-4 323.333,-4 323.333,-4 326.167,-4 329,-6.83333 329,-9.66667 329,-9.66667 329,-15.3333 329,-15.3333 329,-18.1667 326.167,-21 323.333,-21\" fill=\"none\" stroke=\"black\"/>\n",
       "<text font-family=\"Courier,monospace\" font-size=\"10.00\" text-anchor=\"start\" x=\"312\" y=\"-10\">q1</text>\n",
       "</g>\n",
       "<!-- 2&#45;&gt;3 -->\n",
       "<g class=\"edge\" id=\"edge8\"><title>2-&gt;3</title>\n",
       "<path d=\"M242.251,-12.5C256.982,-12.5 285.032,-12.5 302.412,-12.5\" fill=\"none\" stroke=\"black\"/>\n",
       "<polygon fill=\"black\" points=\"307.863,-12.5 302.863,-14.7501 305.363,-12.5 302.863,-12.5001 302.863,-12.5001 302.863,-12.5001 305.363,-12.5 302.863,-10.2501 307.863,-12.5 307.863,-12.5\" stroke=\"black\"/>\n",
       "</g>\n",
       "<!-- 4 -->\n",
       "<g class=\"node\" id=\"node6\"><title>4</title>\n",
       "<path d=\"M410.333,-21C410.333,-21 400.667,-21 400.667,-21 397.833,-21 395,-18.1667 395,-15.3333 395,-15.3333 395,-9.66667 395,-9.66667 395,-6.83333 397.833,-4 400.667,-4 400.667,-4 410.333,-4 410.333,-4 413.167,-4 416,-6.83333 416,-9.66667 416,-9.66667 416,-15.3333 416,-15.3333 416,-18.1667 413.167,-21 410.333,-21\" fill=\"none\" stroke=\"black\"/>\n",
       "<text font-family=\"Courier,monospace\" font-size=\"10.00\" text-anchor=\"start\" x=\"399\" y=\"-10\">q2</text>\n",
       "</g>\n",
       "<!-- 3&#45;&gt;4 -->\n",
       "<g class=\"edge\" id=\"edge10\"><title>3-&gt;4</title>\n",
       "<path d=\"M329.251,-12.5C343.982,-12.5 372.032,-12.5 389.412,-12.5\" fill=\"none\" stroke=\"black\"/>\n",
       "<polygon fill=\"black\" points=\"394.863,-12.5 389.863,-14.7501 392.363,-12.5 389.863,-12.5001 389.863,-12.5001 389.863,-12.5001 392.363,-12.5 389.863,-10.2501 394.863,-12.5 394.863,-12.5\" stroke=\"black\"/>\n",
       "</g>\n",
       "<!-- 5 -->\n",
       "<g class=\"node\" id=\"node7\"><title>5</title>\n",
       "<path d=\"M497.333,-21C497.333,-21 487.667,-21 487.667,-21 484.833,-21 482,-18.1667 482,-15.3333 482,-15.3333 482,-9.66667 482,-9.66667 482,-6.83333 484.833,-4 487.667,-4 487.667,-4 497.333,-4 497.333,-4 500.167,-4 503,-6.83333 503,-9.66667 503,-9.66667 503,-15.3333 503,-15.3333 503,-18.1667 500.167,-21 497.333,-21\" fill=\"none\" stroke=\"black\"/>\n",
       "<text font-family=\"Courier,monospace\" font-size=\"10.00\" text-anchor=\"start\" x=\"486\" y=\"-10\">q2</text>\n",
       "</g>\n",
       "<!-- 4&#45;&gt;5 -->\n",
       "<g class=\"edge\" id=\"edge13\"><title>4-&gt;5</title>\n",
       "<path d=\"M416.251,-12.5C430.982,-12.5 459.032,-12.5 476.412,-12.5\" fill=\"none\" stroke=\"black\"/>\n",
       "<polygon fill=\"black\" points=\"481.863,-12.5 476.863,-14.7501 479.363,-12.5 476.863,-12.5001 476.863,-12.5001 476.863,-12.5001 479.363,-12.5 476.863,-10.2501 481.863,-12.5 481.863,-12.5\" stroke=\"black\"/>\n",
       "</g>\n",
       "<!-- 6 -->\n",
       "<g class=\"node\" id=\"node8\"><title>6</title>\n",
       "<path d=\"M584.333,-21C584.333,-21 574.667,-21 574.667,-21 571.833,-21 569,-18.1667 569,-15.3333 569,-15.3333 569,-9.66667 569,-9.66667 569,-6.83333 571.833,-4 574.667,-4 574.667,-4 584.333,-4 584.333,-4 587.167,-4 590,-6.83333 590,-9.66667 590,-9.66667 590,-15.3333 590,-15.3333 590,-18.1667 587.167,-21 584.333,-21\" fill=\"none\" stroke=\"black\"/>\n",
       "<path d=\"M585.667,-25C585.667,-25 573.333,-25 573.333,-25 569.167,-25 565,-20.8333 565,-16.6667 565,-16.6667 565,-8.33333 565,-8.33333 565,-4.16667 569.167,-0 573.333,-0 573.333,-0 585.667,-0 585.667,-0 589.833,-0 594,-4.16667 594,-8.33333 594,-8.33333 594,-16.6667 594,-16.6667 594,-20.8333 589.833,-25 585.667,-25\" fill=\"none\" stroke=\"black\"/>\n",
       "<text font-family=\"Courier,monospace\" font-size=\"10.00\" text-anchor=\"start\" x=\"573\" y=\"-10\">q2</text>\n",
       "</g>\n",
       "<!-- 5&#45;&gt;6 -->\n",
       "<g class=\"edge\" id=\"edge7\"><title>5-&gt;6</title>\n",
       "<path d=\"M503.251,-12.5C517.003,-12.5 542.364,-12.5 559.815,-12.5\" fill=\"none\" stroke=\"black\"/>\n",
       "<polygon fill=\"black\" points=\"564.955,-12.5 559.955,-14.7501 562.455,-12.5 559.955,-12.5001 559.955,-12.5001 559.955,-12.5001 562.455,-12.5 559.955,-10.2501 564.955,-12.5 564.955,-12.5\" stroke=\"black\"/>\n",
       "</g>\n",
       "<!-- 7 -->\n",
       "<g class=\"node\" id=\"node9\"><title>7</title>\n",
       "</g>\n",
       "<!-- 8 -->\n",
       "<g class=\"node\" id=\"node10\"><title>8</title>\n",
       "</g>\n",
       "<!-- 7&#45;&gt;8 -->\n",
       "<g class=\"edge\" id=\"edge6\"><title>7-&gt;8</title>\n",
       "<path d=\"M77.3643,-51.5C89.8859,-51.5 106.421,-51.5 119.825,-51.5\" fill=\"none\" stroke=\"white\"/>\n",
       "<polygon fill=\"white\" points=\"124.981,-51.5 119.981,-53.7501 122.481,-51.5 119.981,-51.5001 119.981,-51.5001 119.981,-51.5001 122.481,-51.5 119.981,-49.2501 124.981,-51.5 124.981,-51.5\" stroke=\"white\"/>\n",
       "<text font-family=\"Courier,monospace\" font-size=\"9.00\" text-anchor=\"start\" x=\"98\" y=\"-57.3\">0</text>\n",
       "</g>\n",
       "<!-- 9 -->\n",
       "<g class=\"node\" id=\"node11\"><title>9</title>\n",
       "</g>\n",
       "<!-- 8&#45;&gt;9 -->\n",
       "<g class=\"edge\" id=\"edge5\"><title>8-&gt;9</title>\n",
       "<path d=\"M164.364,-51.5C176.886,-51.5 193.421,-51.5 206.825,-51.5\" fill=\"none\" stroke=\"white\"/>\n",
       "<polygon fill=\"white\" points=\"211.981,-51.5 206.981,-53.7501 209.481,-51.5 206.981,-51.5001 206.981,-51.5001 206.981,-51.5001 209.481,-51.5 206.981,-49.2501 211.981,-51.5 211.981,-51.5\" stroke=\"white\"/>\n",
       "<text font-family=\"Courier,monospace\" font-size=\"9.00\" text-anchor=\"start\" x=\"185\" y=\"-57.3\">0</text>\n",
       "</g>\n",
       "<!-- 10 -->\n",
       "<g class=\"node\" id=\"node12\"><title>10</title>\n",
       "</g>\n",
       "<!-- 9&#45;&gt;10 -->\n",
       "<g class=\"edge\" id=\"edge4\"><title>9-&gt;10</title>\n",
       "<path d=\"M251.364,-51.5C263.886,-51.5 280.421,-51.5 293.825,-51.5\" fill=\"none\" stroke=\"white\"/>\n",
       "<polygon fill=\"white\" points=\"298.981,-51.5 293.981,-53.7501 296.481,-51.5 293.981,-51.5001 293.981,-51.5001 293.981,-51.5001 296.481,-51.5 293.981,-49.2501 298.981,-51.5 298.981,-51.5\" stroke=\"white\"/>\n",
       "<text font-family=\"Courier,monospace\" font-size=\"9.00\" text-anchor=\"start\" x=\"272\" y=\"-57.3\">0</text>\n",
       "</g>\n",
       "<!-- 11 -->\n",
       "<g class=\"node\" id=\"node13\"><title>11</title>\n",
       "</g>\n",
       "<!-- 10&#45;&gt;11 -->\n",
       "<g class=\"edge\" id=\"edge3\"><title>10-&gt;11</title>\n",
       "<path d=\"M338.364,-51.5C350.886,-51.5 367.421,-51.5 380.825,-51.5\" fill=\"none\" stroke=\"white\"/>\n",
       "<polygon fill=\"white\" points=\"385.981,-51.5 380.981,-53.7501 383.481,-51.5 380.981,-51.5001 380.981,-51.5001 380.981,-51.5001 383.481,-51.5 380.981,-49.2501 385.981,-51.5 385.981,-51.5\" stroke=\"white\"/>\n",
       "<text font-family=\"Courier,monospace\" font-size=\"9.00\" text-anchor=\"start\" x=\"359\" y=\"-57.3\">1</text>\n",
       "</g>\n",
       "<!-- 12 -->\n",
       "<g class=\"node\" id=\"node14\"><title>12</title>\n",
       "</g>\n",
       "<!-- 11&#45;&gt;12 -->\n",
       "<g class=\"edge\" id=\"edge9\"><title>11-&gt;12</title>\n",
       "<path d=\"M425.364,-51.5C437.886,-51.5 454.421,-51.5 467.825,-51.5\" fill=\"none\" stroke=\"white\"/>\n",
       "<polygon fill=\"white\" points=\"472.981,-51.5 467.981,-53.7501 470.481,-51.5 467.981,-51.5001 467.981,-51.5001 467.981,-51.5001 470.481,-51.5 467.981,-49.2501 472.981,-51.5 472.981,-51.5\" stroke=\"white\"/>\n",
       "<text font-family=\"Courier,monospace\" font-size=\"9.00\" text-anchor=\"start\" x=\"446\" y=\"-57.3\">1</text>\n",
       "</g>\n",
       "<!-- 13 -->\n",
       "<g class=\"node\" id=\"node15\"><title>13</title>\n",
       "</g>\n",
       "<!-- 12&#45;&gt;13 -->\n",
       "<g class=\"edge\" id=\"edge11\"><title>12-&gt;13</title>\n",
       "<path d=\"M512.364,-51.5C524.886,-51.5 541.421,-51.5 554.825,-51.5\" fill=\"none\" stroke=\"white\"/>\n",
       "<polygon fill=\"white\" points=\"559.981,-51.5 554.981,-53.7501 557.481,-51.5 554.981,-51.5001 554.981,-51.5001 554.981,-51.5001 557.481,-51.5 554.981,-49.2501 559.981,-51.5 559.981,-51.5\" stroke=\"white\"/>\n",
       "<text font-family=\"Courier,monospace\" font-size=\"9.00\" text-anchor=\"start\" x=\"533\" y=\"-57.3\">1</text>\n",
       "</g>\n",
       "</g>\n",
       "</svg>"
      ],
      "text/plain": [
       "<IPython.core.display.SVG object>"
      ]
     },
     "metadata": {},
     "output_type": "display_data"
    }
   ],
   "source": [
    "run(m, \"0 0 0 1 1 1\")"
   ]
  },
  {
   "cell_type": "markdown",
   "metadata": {},
   "source": [
    "The run is displayed as another graph (for reasons that will be more clear when we get to nondeterminism). Each node says what state the machine is at a time step, and on the right is the input string, with the next symbol marked with square brackets. The run ends with a double node, indicating that at the end of the input string, the machine was in a final state, so it accepted the string."
   ]
  },
  {
   "cell_type": "code",
   "execution_count": 8,
   "metadata": {
    "collapsed": false
   },
   "outputs": [
    {
     "data": {
      "image/svg+xml": [
       "<svg height=\"68pt\" viewBox=\"0.00 0.00 433.00 67.50\" width=\"433pt\" xmlns=\"http://www.w3.org/2000/svg\" xmlns:xlink=\"http://www.w3.org/1999/xlink\">\n",
       "<g class=\"graph\" id=\"graph0\" transform=\"scale(1 1) rotate(0) translate(4 63.5)\">\n",
       "<title>%3</title>\n",
       "<polygon fill=\"white\" points=\"-4,4 -4,-63.5 429,-63.5 429,4 -4,4\" stroke=\"none\"/>\n",
       "<!-- _START -->\n",
       "<g class=\"node\" id=\"node1\"><title>_START</title>\n",
       "</g>\n",
       "<!-- 0 -->\n",
       "<g class=\"node\" id=\"node2\"><title>0</title>\n",
       "<path d=\"M62.3333,-17C62.3333,-17 52.6667,-17 52.6667,-17 49.8333,-17 47,-14.1667 47,-11.3333 47,-11.3333 47,-5.66667 47,-5.66667 47,-2.83333 49.8333,-0 52.6667,-0 52.6667,-0 62.3333,-0 62.3333,-0 65.1667,-0 68,-2.83333 68,-5.66667 68,-5.66667 68,-11.3333 68,-11.3333 68,-14.1667 65.1667,-17 62.3333,-17\" fill=\"none\" stroke=\"black\"/>\n",
       "<text font-family=\"Courier,monospace\" font-size=\"10.00\" text-anchor=\"start\" x=\"51\" y=\"-6\">q1</text>\n",
       "</g>\n",
       "<!-- _START&#45;&gt;0 -->\n",
       "<g class=\"edge\" id=\"edge1\"><title>_START-&gt;0</title>\n",
       "<path d=\"M1.15921,-8.5C3.26572,-8.5 25.8189,-8.5 41.4749,-8.5\" fill=\"none\" stroke=\"black\"/>\n",
       "<polygon fill=\"black\" points=\"46.8802,-8.5 41.8802,-10.7501 44.3802,-8.50005 41.8802,-8.50009 41.8802,-8.50009 41.8802,-8.50009 44.3802,-8.50005 41.8801,-6.25009 46.8802,-8.5 46.8802,-8.5\" stroke=\"black\"/>\n",
       "</g>\n",
       "<!-- 1 -->\n",
       "<g class=\"node\" id=\"node3\"><title>1</title>\n",
       "<path d=\"M149.333,-17C149.333,-17 139.667,-17 139.667,-17 136.833,-17 134,-14.1667 134,-11.3333 134,-11.3333 134,-5.66667 134,-5.66667 134,-2.83333 136.833,-0 139.667,-0 139.667,-0 149.333,-0 149.333,-0 152.167,-0 155,-2.83333 155,-5.66667 155,-5.66667 155,-11.3333 155,-11.3333 155,-14.1667 152.167,-17 149.333,-17\" fill=\"none\" stroke=\"black\"/>\n",
       "<text font-family=\"Courier,monospace\" font-size=\"10.00\" text-anchor=\"start\" x=\"138\" y=\"-6\">q2</text>\n",
       "</g>\n",
       "<!-- 0&#45;&gt;1 -->\n",
       "<g class=\"edge\" id=\"edge2\"><title>0-&gt;1</title>\n",
       "<path d=\"M68.2506,-8.5C82.9815,-8.5 111.032,-8.5 128.412,-8.5\" fill=\"none\" stroke=\"black\"/>\n",
       "<polygon fill=\"black\" points=\"133.863,-8.5 128.863,-10.7501 131.363,-8.50005 128.863,-8.50009 128.863,-8.50009 128.863,-8.50009 131.363,-8.50005 128.863,-6.25009 133.863,-8.5 133.863,-8.5\" stroke=\"black\"/>\n",
       "</g>\n",
       "<!-- 2 -->\n",
       "<g class=\"node\" id=\"node4\"><title>2</title>\n",
       "<path d=\"M236.333,-17C236.333,-17 226.667,-17 226.667,-17 223.833,-17 221,-14.1667 221,-11.3333 221,-11.3333 221,-5.66667 221,-5.66667 221,-2.83333 223.833,-0 226.667,-0 226.667,-0 236.333,-0 236.333,-0 239.167,-0 242,-2.83333 242,-5.66667 242,-5.66667 242,-11.3333 242,-11.3333 242,-14.1667 239.167,-17 236.333,-17\" fill=\"none\" stroke=\"black\"/>\n",
       "<text font-family=\"Courier,monospace\" font-size=\"10.00\" text-anchor=\"start\" x=\"225\" y=\"-6\">q3</text>\n",
       "</g>\n",
       "<!-- 1&#45;&gt;2 -->\n",
       "<g class=\"edge\" id=\"edge8\"><title>1-&gt;2</title>\n",
       "<path d=\"M155.251,-8.5C169.982,-8.5 198.032,-8.5 215.412,-8.5\" fill=\"none\" stroke=\"black\"/>\n",
       "<polygon fill=\"black\" points=\"220.863,-8.5 215.863,-10.7501 218.363,-8.50005 215.863,-8.50009 215.863,-8.50009 215.863,-8.50009 218.363,-8.50005 215.863,-6.25009 220.863,-8.5 220.863,-8.5\" stroke=\"black\"/>\n",
       "</g>\n",
       "<!-- 3 -->\n",
       "<g class=\"node\" id=\"node5\"><title>3</title>\n",
       "<path d=\"M323.333,-17C323.333,-17 313.667,-17 313.667,-17 310.833,-17 308,-14.1667 308,-11.3333 308,-11.3333 308,-5.66667 308,-5.66667 308,-2.83333 310.833,-0 313.667,-0 313.667,-0 323.333,-0 323.333,-0 326.167,-0 329,-2.83333 329,-5.66667 329,-5.66667 329,-11.3333 329,-11.3333 329,-14.1667 326.167,-17 323.333,-17\" fill=\"none\" stroke=\"black\"/>\n",
       "<text font-family=\"Courier,monospace\" font-size=\"10.00\" text-anchor=\"start\" x=\"312\" y=\"-6\">q2</text>\n",
       "</g>\n",
       "<!-- 2&#45;&gt;3 -->\n",
       "<g class=\"edge\" id=\"edge9\"><title>2-&gt;3</title>\n",
       "<path d=\"M242.251,-8.5C256.982,-8.5 285.032,-8.5 302.412,-8.5\" fill=\"none\" stroke=\"black\"/>\n",
       "<polygon fill=\"black\" points=\"307.863,-8.5 302.863,-10.7501 305.363,-8.50005 302.863,-8.50009 302.863,-8.50009 302.863,-8.50009 305.363,-8.50005 302.863,-6.25009 307.863,-8.5 307.863,-8.5\" stroke=\"black\"/>\n",
       "</g>\n",
       "<!-- 4 -->\n",
       "<g class=\"node\" id=\"node6\"><title>4</title>\n",
       "<path d=\"M410.333,-17C410.333,-17 400.667,-17 400.667,-17 397.833,-17 395,-14.1667 395,-11.3333 395,-11.3333 395,-5.66667 395,-5.66667 395,-2.83333 397.833,-0 400.667,-0 400.667,-0 410.333,-0 410.333,-0 413.167,-0 416,-2.83333 416,-5.66667 416,-5.66667 416,-11.3333 416,-11.3333 416,-14.1667 413.167,-17 410.333,-17\" fill=\"none\" stroke=\"black\"/>\n",
       "<text font-family=\"Courier,monospace\" font-size=\"10.00\" text-anchor=\"start\" x=\"399\" y=\"-6\">q3</text>\n",
       "</g>\n",
       "<!-- 3&#45;&gt;4 -->\n",
       "<g class=\"edge\" id=\"edge3\"><title>3-&gt;4</title>\n",
       "<path d=\"M329.251,-8.5C343.982,-8.5 372.032,-8.5 389.412,-8.5\" fill=\"none\" stroke=\"black\"/>\n",
       "<polygon fill=\"black\" points=\"394.863,-8.5 389.863,-10.7501 392.363,-8.50005 389.863,-8.50009 389.863,-8.50009 389.863,-8.50009 392.363,-8.50005 389.863,-6.25009 394.863,-8.5 394.863,-8.5\" stroke=\"black\"/>\n",
       "</g>\n",
       "<!-- 5 -->\n",
       "<g class=\"node\" id=\"node7\"><title>5</title>\n",
       "</g>\n",
       "<!-- 6 -->\n",
       "<g class=\"node\" id=\"node8\"><title>6</title>\n",
       "</g>\n",
       "<!-- 5&#45;&gt;6 -->\n",
       "<g class=\"edge\" id=\"edge7\"><title>5-&gt;6</title>\n",
       "<path d=\"M77.3643,-43.5C89.8859,-43.5 106.421,-43.5 119.825,-43.5\" fill=\"none\" stroke=\"white\"/>\n",
       "<polygon fill=\"white\" points=\"124.981,-43.5 119.981,-45.7501 122.481,-43.5 119.981,-43.5001 119.981,-43.5001 119.981,-43.5001 122.481,-43.5 119.981,-41.2501 124.981,-43.5 124.981,-43.5\" stroke=\"white\"/>\n",
       "<text font-family=\"Courier,monospace\" font-size=\"9.00\" text-anchor=\"start\" x=\"98\" y=\"-49.3\">1</text>\n",
       "</g>\n",
       "<!-- 7 -->\n",
       "<g class=\"node\" id=\"node9\"><title>7</title>\n",
       "</g>\n",
       "<!-- 6&#45;&gt;7 -->\n",
       "<g class=\"edge\" id=\"edge6\"><title>6-&gt;7</title>\n",
       "<path d=\"M164.364,-43.5C176.886,-43.5 193.421,-43.5 206.825,-43.5\" fill=\"none\" stroke=\"white\"/>\n",
       "<polygon fill=\"white\" points=\"211.981,-43.5 206.981,-45.7501 209.481,-43.5 206.981,-43.5001 206.981,-43.5001 206.981,-43.5001 209.481,-43.5 206.981,-41.2501 211.981,-43.5 211.981,-43.5\" stroke=\"white\"/>\n",
       "<text font-family=\"Courier,monospace\" font-size=\"9.00\" text-anchor=\"start\" x=\"185\" y=\"-49.3\">0</text>\n",
       "</g>\n",
       "<!-- 8 -->\n",
       "<g class=\"node\" id=\"node10\"><title>8</title>\n",
       "</g>\n",
       "<!-- 7&#45;&gt;8 -->\n",
       "<g class=\"edge\" id=\"edge5\"><title>7-&gt;8</title>\n",
       "<path d=\"M251.364,-43.5C263.886,-43.5 280.421,-43.5 293.825,-43.5\" fill=\"none\" stroke=\"white\"/>\n",
       "<polygon fill=\"white\" points=\"298.981,-43.5 293.981,-45.7501 296.481,-43.5 293.981,-43.5001 293.981,-43.5001 293.981,-43.5001 296.481,-43.5 293.981,-41.2501 298.981,-43.5 298.981,-43.5\" stroke=\"white\"/>\n",
       "<text font-family=\"Courier,monospace\" font-size=\"9.00\" text-anchor=\"start\" x=\"272\" y=\"-49.3\">0</text>\n",
       "</g>\n",
       "<!-- 9 -->\n",
       "<g class=\"node\" id=\"node11\"><title>9</title>\n",
       "</g>\n",
       "<!-- 8&#45;&gt;9 -->\n",
       "<g class=\"edge\" id=\"edge4\"><title>8-&gt;9</title>\n",
       "<path d=\"M338.364,-43.5C350.886,-43.5 367.421,-43.5 380.825,-43.5\" fill=\"none\" stroke=\"white\"/>\n",
       "<polygon fill=\"white\" points=\"385.981,-43.5 380.981,-45.7501 383.481,-43.5 380.981,-43.5001 380.981,-43.5001 380.981,-43.5001 383.481,-43.5 380.981,-41.2501 385.981,-43.5 385.981,-43.5\" stroke=\"white\"/>\n",
       "<text font-family=\"Courier,monospace\" font-size=\"9.00\" text-anchor=\"start\" x=\"359\" y=\"-49.3\">0</text>\n",
       "</g>\n",
       "</g>\n",
       "</svg>"
      ],
      "text/plain": [
       "<IPython.core.display.SVG object>"
      ]
     },
     "metadata": {},
     "output_type": "display_data"
    }
   ],
   "source": [
    "run(m, \"1 0 0 0\")"
   ]
  },
  {
   "cell_type": "markdown",
   "metadata": {},
   "source": [
    "This time, the fact that the run doesn't end with a double node means that the string was rejected."
   ]
  }
 ],
 "metadata": {
  "kernelspec": {
   "display_name": "Python 2",
   "language": "python",
   "name": "python2"
  },
  "language_info": {
   "codemirror_mode": {
    "name": "ipython",
    "version": 2
   },
   "file_extension": ".py",
   "mimetype": "text/x-python",
   "name": "python",
   "nbconvert_exporter": "python",
   "pygments_lexer": "ipython2",
   "version": "2.7.10"
  }
 },
 "nbformat": 4,
 "nbformat_minor": 0
}
