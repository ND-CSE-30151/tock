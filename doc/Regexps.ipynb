{
 "cells": [
  {
   "cell_type": "code",
   "execution_count": 1,
   "metadata": {
    "collapsed": false
   },
   "outputs": [],
   "source": [
    "from tock import *"
   ]
  },
  {
   "cell_type": "markdown",
   "metadata": {},
   "source": [
    "# Regular expressions"
   ]
  },
  {
   "cell_type": "markdown",
   "metadata": {},
   "source": [
    "Regular expressions in Tock use the same three operators and parentheses as Unix regular expressions; however, because a symbol can have more than one character, consecutive symbols must be separated by a space. Also, for the empty string, you must write `&`. And even though the empty set is considered a regular expression, there's no way to write it in Tock.\n",
    "\n",
    "To create a regular expression in Tock (this one is from Example 1.56):"
   ]
  },
  {
   "cell_type": "code",
   "execution_count": 2,
   "metadata": {
    "collapsed": false
   },
   "outputs": [],
   "source": [
    "m = from_regexp('(a b|a)*')"
   ]
  },
  {
   "cell_type": "markdown",
   "metadata": {},
   "source": [
    "The regular expression is converted into a finite automaton, which you can view, as usual, as either a graph or a table."
   ]
  },
  {
   "cell_type": "code",
   "execution_count": 3,
   "metadata": {
    "collapsed": false
   },
   "outputs": [
    {
     "data": {
      "image/svg+xml": [
       "<svg height=\"163pt\" viewBox=\"0.00 0.00 395.00 162.50\" width=\"395pt\" xmlns=\"http://www.w3.org/2000/svg\" xmlns:xlink=\"http://www.w3.org/1999/xlink\">\n",
       "<g class=\"graph\" id=\"graph0\" transform=\"scale(1 1) rotate(0) translate(4 158.5)\">\n",
       "<title>%3</title>\n",
       "<polygon fill=\"white\" points=\"-4,4 -4,-158.5 391,-158.5 391,4 -4,4\" stroke=\"none\"/>\n",
       "<!-- START -->\n",
       "<g class=\"node\" id=\"node1\"><title>START</title>\n",
       "</g>\n",
       "<!-- 0 -->\n",
       "<g class=\"node\" id=\"node2\"><title>0</title>\n",
       "<path d=\"M19.3333,-84C19.3333,-84 9.66667,-84 9.66667,-84 6.83333,-84 4,-81.1667 4,-78.3333 4,-78.3333 4,-72.6667 4,-72.6667 4,-69.8333 6.83333,-67 9.66667,-67 9.66667,-67 19.3333,-67 19.3333,-67 22.1667,-67 25,-69.8333 25,-72.6667 25,-72.6667 25,-78.3333 25,-78.3333 25,-81.1667 22.1667,-84 19.3333,-84\" fill=\"none\" stroke=\"black\"/>\n",
       "<path d=\"M20.6667,-88C20.6667,-88 8.33333,-88 8.33333,-88 4.16667,-88 0,-83.8333 0,-79.6667 0,-79.6667 0,-71.3333 0,-71.3333 0,-67.1667 4.16667,-63 8.33333,-63 8.33333,-63 20.6667,-63 20.6667,-63 24.8333,-63 29,-67.1667 29,-71.3333 29,-71.3333 29,-79.6667 29,-79.6667 29,-83.8333 24.8333,-88 20.6667,-88\" fill=\"none\" stroke=\"black\"/>\n",
       "<text font-family=\"Courier,monospace\" font-size=\"10.00\" text-anchor=\"middle\" x=\"14.5\" y=\"-73\">0i</text>\n",
       "</g>\n",
       "<!-- 1 -->\n",
       "<g class=\"node\" id=\"node3\"><title>1</title>\n",
       "<path d=\"M91.3333,-84C91.3333,-84 81.6667,-84 81.6667,-84 78.8333,-84 76,-81.1667 76,-78.3333 76,-78.3333 76,-72.6667 76,-72.6667 76,-69.8333 78.8333,-67 81.6667,-67 81.6667,-67 91.3333,-67 91.3333,-67 94.1667,-67 97,-69.8333 97,-72.6667 97,-72.6667 97,-78.3333 97,-78.3333 97,-81.1667 94.1667,-84 91.3333,-84\" fill=\"none\" stroke=\"black\"/>\n",
       "<text font-family=\"Courier,monospace\" font-size=\"10.00\" text-anchor=\"middle\" x=\"86.5\" y=\"-73\">1a</text>\n",
       "</g>\n",
       "<!-- 0&#45;&gt;1 -->\n",
       "<g class=\"edge\" id=\"edge9\"><title>0-&gt;1</title>\n",
       "<path d=\"M29.3297,-75.5C41.2157,-75.5 58.3194,-75.5 70.5256,-75.5\" fill=\"none\" stroke=\"black\"/>\n",
       "<polygon fill=\"black\" points=\"75.753,-75.5 70.753,-77.7501 73.253,-75.5 70.753,-75.5001 70.753,-75.5001 70.753,-75.5001 73.253,-75.5 70.753,-73.2501 75.753,-75.5 75.753,-75.5\" stroke=\"black\"/>\n",
       "<text font-family=\"Courier,monospace\" font-size=\"9.00\" text-anchor=\"start\" x=\"50.5\" y=\"-81.3\">ε</text>\n",
       "</g>\n",
       "<!-- 2 -->\n",
       "<g class=\"node\" id=\"node4\"><title>2</title>\n",
       "<path d=\"M159.333,-146C159.333,-146 149.667,-146 149.667,-146 146.833,-146 144,-143.167 144,-140.333 144,-140.333 144,-134.667 144,-134.667 144,-131.833 146.833,-129 149.667,-129 149.667,-129 159.333,-129 159.333,-129 162.167,-129 165,-131.833 165,-134.667 165,-134.667 165,-140.333 165,-140.333 165,-143.167 162.167,-146 159.333,-146\" fill=\"none\" stroke=\"black\"/>\n",
       "<text font-family=\"Courier,monospace\" font-size=\"10.00\" text-anchor=\"middle\" x=\"154.5\" y=\"-135\">1s</text>\n",
       "</g>\n",
       "<!-- 1&#45;&gt;2 -->\n",
       "<g class=\"edge\" id=\"edge7\"><title>1-&gt;2</title>\n",
       "<path d=\"M93.2056,-84.1368C98.3759,-91.5987 106.472,-102.423 115,-110.5 122.363,-117.473 131.645,-124.036 139.251,-128.945\" fill=\"none\" stroke=\"black\"/>\n",
       "<polygon fill=\"black\" points=\"143.737,-131.777 138.308,-131.011 141.623,-130.443 139.509,-129.108 139.509,-129.108 139.509,-129.108 141.623,-130.443 140.71,-127.206 143.737,-131.777 143.737,-131.777\" stroke=\"black\"/>\n",
       "<text font-family=\"Courier,monospace\" font-size=\"9.00\" text-anchor=\"start\" x=\"118.5\" y=\"-125.3\">ε</text>\n",
       "</g>\n",
       "<!-- 6 -->\n",
       "<g class=\"node\" id=\"node8\"><title>6</title>\n",
       "<path d=\"M159.333,-17C159.333,-17 149.667,-17 149.667,-17 146.833,-17 144,-14.1667 144,-11.3333 144,-11.3333 144,-5.66667 144,-5.66667 144,-2.83333 146.833,-0 149.667,-0 149.667,-0 159.333,-0 159.333,-0 162.167,-0 165,-2.83333 165,-5.66667 165,-5.66667 165,-11.3333 165,-11.3333 165,-14.1667 162.167,-17 159.333,-17\" fill=\"none\" stroke=\"black\"/>\n",
       "<text font-family=\"Courier,monospace\" font-size=\"10.00\" text-anchor=\"middle\" x=\"154.5\" y=\"-6\">4s</text>\n",
       "</g>\n",
       "<!-- 1&#45;&gt;6 -->\n",
       "<g class=\"edge\" id=\"edge8\"><title>1-&gt;6</title>\n",
       "<path d=\"M89.947,-66.9429C93.6154,-55.5522 101.581,-35.4585 115,-23.5 121.701,-17.5282 131.049,-13.8107 138.856,-11.5704\" fill=\"none\" stroke=\"black\"/>\n",
       "<polygon fill=\"black\" points=\"143.962,-10.2458 139.687,-13.6791 141.542,-10.8735 139.123,-11.5012 139.123,-11.5012 139.123,-11.5012 141.542,-10.8735 138.558,-9.32323 143.962,-10.2458 143.962,-10.2458\" stroke=\"black\"/>\n",
       "<text font-family=\"Courier,monospace\" font-size=\"9.00\" text-anchor=\"start\" x=\"118.5\" y=\"-29.3\">ε</text>\n",
       "</g>\n",
       "<!-- 3 -->\n",
       "<g class=\"node\" id=\"node5\"><title>3</title>\n",
       "<path d=\"M232.333,-149C232.333,-149 222.667,-149 222.667,-149 219.833,-149 217,-146.167 217,-143.333 217,-143.333 217,-137.667 217,-137.667 217,-134.833 219.833,-132 222.667,-132 222.667,-132 232.333,-132 232.333,-132 235.167,-132 238,-134.833 238,-137.667 238,-137.667 238,-143.333 238,-143.333 238,-146.167 235.167,-149 232.333,-149\" fill=\"none\" stroke=\"black\"/>\n",
       "<text font-family=\"Courier,monospace\" font-size=\"10.00\" text-anchor=\"middle\" x=\"227.5\" y=\"-138\">1t</text>\n",
       "</g>\n",
       "<!-- 2&#45;&gt;3 -->\n",
       "<g class=\"edge\" id=\"edge2\"><title>2-&gt;3</title>\n",
       "<path d=\"M165.075,-137.905C176.971,-138.407 197.407,-139.271 211.417,-139.863\" fill=\"none\" stroke=\"black\"/>\n",
       "<polygon fill=\"black\" points=\"216.621,-140.083 211.53,-142.119 214.123,-139.977 211.625,-139.871 211.625,-139.871 211.625,-139.871 214.123,-139.977 211.72,-137.623 216.621,-140.083 216.621,-140.083\" stroke=\"black\"/>\n",
       "<text font-family=\"Courier,monospace\" font-size=\"9.00\" text-anchor=\"start\" x=\"186\" y=\"-144.3\">a</text>\n",
       "</g>\n",
       "<!-- 4 -->\n",
       "<g class=\"node\" id=\"node6\"><title>4</title>\n",
       "<path d=\"M304.333,-144C304.333,-144 294.667,-144 294.667,-144 291.833,-144 289,-141.167 289,-138.333 289,-138.333 289,-132.667 289,-132.667 289,-129.833 291.833,-127 294.667,-127 294.667,-127 304.333,-127 304.333,-127 307.167,-127 310,-129.833 310,-132.667 310,-132.667 310,-138.333 310,-138.333 310,-141.167 307.167,-144 304.333,-144\" fill=\"none\" stroke=\"black\"/>\n",
       "<text font-family=\"Courier,monospace\" font-size=\"10.00\" text-anchor=\"middle\" x=\"299.5\" y=\"-133\">2s</text>\n",
       "</g>\n",
       "<!-- 3&#45;&gt;4 -->\n",
       "<g class=\"edge\" id=\"edge3\"><title>3-&gt;4</title>\n",
       "<path d=\"M238.233,-139.805C250.04,-138.961 270.06,-137.531 283.761,-136.553\" fill=\"none\" stroke=\"black\"/>\n",
       "<polygon fill=\"black\" points=\"288.849,-136.189 284.023,-138.79 286.356,-136.367 283.862,-136.546 283.862,-136.546 283.862,-136.546 286.356,-136.367 283.702,-134.301 288.849,-136.189 288.849,-136.189\" stroke=\"black\"/>\n",
       "<text font-family=\"Courier,monospace\" font-size=\"9.00\" text-anchor=\"start\" x=\"263.5\" y=\"-143.3\">ε</text>\n",
       "</g>\n",
       "<!-- 5 -->\n",
       "<g class=\"node\" id=\"node7\"><title>5</title>\n",
       "<path d=\"M377.333,-123C377.333,-123 367.667,-123 367.667,-123 364.833,-123 362,-120.167 362,-117.333 362,-117.333 362,-111.667 362,-111.667 362,-108.833 364.833,-106 367.667,-106 367.667,-106 377.333,-106 377.333,-106 380.167,-106 383,-108.833 383,-111.667 383,-111.667 383,-117.333 383,-117.333 383,-120.167 380.167,-123 377.333,-123\" fill=\"none\" stroke=\"black\"/>\n",
       "<path d=\"M378.667,-127C378.667,-127 366.333,-127 366.333,-127 362.167,-127 358,-122.833 358,-118.667 358,-118.667 358,-110.333 358,-110.333 358,-106.167 362.167,-102 366.333,-102 366.333,-102 378.667,-102 378.667,-102 382.833,-102 387,-106.167 387,-110.333 387,-110.333 387,-118.667 387,-118.667 387,-122.833 382.833,-127 378.667,-127\" fill=\"none\" stroke=\"black\"/>\n",
       "<text font-family=\"Courier,monospace\" font-size=\"10.00\" text-anchor=\"middle\" x=\"372.5\" y=\"-112\">2t</text>\n",
       "</g>\n",
       "<!-- 4&#45;&gt;5 -->\n",
       "<g class=\"edge\" id=\"edge4\"><title>4-&gt;5</title>\n",
       "<path d=\"M310.075,-132.668C321.065,-129.417 339.344,-124.011 353.11,-119.939\" fill=\"none\" stroke=\"black\"/>\n",
       "<polygon fill=\"black\" points=\"357.956,-118.506 353.8,-122.082 355.559,-119.215 353.161,-119.924 353.161,-119.924 353.161,-119.924 355.559,-119.215 352.523,-117.767 357.956,-118.506 357.956,-118.506\" stroke=\"black\"/>\n",
       "<text font-family=\"Courier,monospace\" font-size=\"9.00\" text-anchor=\"start\" x=\"331\" y=\"-132.3\">b</text>\n",
       "</g>\n",
       "<!-- 5&#45;&gt;1 -->\n",
       "<g class=\"edge\" id=\"edge1\"><title>5-&gt;1</title>\n",
       "<path d=\"M357.855,-109.214C343.728,-104.224 320.906,-97.5 300.5,-97.5 153.5,-97.5 153.5,-97.5 153.5,-97.5 134.783,-97.5 114.541,-89.4382 101.479,-83.075\" fill=\"none\" stroke=\"black\"/>\n",
       "<polygon fill=\"black\" points=\"97.008,-80.8256 102.486,-81.0628 99.2413,-81.9492 101.475,-83.0727 101.475,-83.0727 101.475,-83.0727 99.2413,-81.9492 100.463,-85.0827 97.008,-80.8256 97.008,-80.8256\" stroke=\"black\"/>\n",
       "<text font-family=\"Courier,monospace\" font-size=\"9.00\" text-anchor=\"start\" x=\"225.5\" y=\"-103.3\">ε</text>\n",
       "</g>\n",
       "<!-- 7 -->\n",
       "<g class=\"node\" id=\"node9\"><title>7</title>\n",
       "<path d=\"M232.333,-41C232.333,-41 222.667,-41 222.667,-41 219.833,-41 217,-38.1667 217,-35.3333 217,-35.3333 217,-29.6667 217,-29.6667 217,-26.8333 219.833,-24 222.667,-24 222.667,-24 232.333,-24 232.333,-24 235.167,-24 238,-26.8333 238,-29.6667 238,-29.6667 238,-35.3333 238,-35.3333 238,-38.1667 235.167,-41 232.333,-41\" fill=\"none\" stroke=\"black\"/>\n",
       "<path d=\"M233.667,-45C233.667,-45 221.333,-45 221.333,-45 217.167,-45 213,-40.8333 213,-36.6667 213,-36.6667 213,-28.3333 213,-28.3333 213,-24.1667 217.167,-20 221.333,-20 221.333,-20 233.667,-20 233.667,-20 237.833,-20 242,-24.1667 242,-28.3333 242,-28.3333 242,-36.6667 242,-36.6667 242,-40.8333 237.833,-45 233.667,-45\" fill=\"none\" stroke=\"black\"/>\n",
       "<text font-family=\"Courier,monospace\" font-size=\"10.00\" text-anchor=\"middle\" x=\"227.5\" y=\"-30\">4t</text>\n",
       "</g>\n",
       "<!-- 6&#45;&gt;7 -->\n",
       "<g class=\"edge\" id=\"edge6\"><title>6-&gt;7</title>\n",
       "<path d=\"M165.075,-11.7367C176.065,-15.4517 194.344,-21.6303 208.11,-26.2837\" fill=\"none\" stroke=\"black\"/>\n",
       "<polygon fill=\"black\" points=\"212.956,-27.9218 207.499,-28.4521 210.588,-27.1212 208.219,-26.3206 208.219,-26.3206 208.219,-26.3206 210.588,-27.1212 208.94,-24.189 212.956,-27.9218 212.956,-27.9218\" stroke=\"black\"/>\n",
       "<text font-family=\"Courier,monospace\" font-size=\"9.00\" text-anchor=\"start\" x=\"186\" y=\"-27.3\">a</text>\n",
       "</g>\n",
       "<!-- 7&#45;&gt;1 -->\n",
       "<g class=\"edge\" id=\"edge5\"><title>7-&gt;1</title>\n",
       "<path d=\"M212.893,-36.7093C186.601,-44.8428 129.035,-62.6511 102.029,-71.0053\" fill=\"none\" stroke=\"black\"/>\n",
       "<polygon fill=\"black\" points=\"97.054,-72.5444 101.166,-68.9172 99.4424,-71.8056 101.831,-71.0667 101.831,-71.0667 101.831,-71.0667 99.4424,-71.8056 102.496,-73.2162 97.054,-72.5444 97.054,-72.5444\" stroke=\"black\"/>\n",
       "<text font-family=\"Courier,monospace\" font-size=\"9.00\" text-anchor=\"start\" x=\"152.5\" y=\"-64.3\">ε</text>\n",
       "</g>\n",
       "</g>\n",
       "</svg>"
      ],
      "text/plain": [
       "<IPython.core.display.SVG object>"
      ]
     },
     "metadata": {},
     "output_type": "display_data"
    }
   ],
   "source": [
    "to_graph(m)"
   ]
  },
  {
   "cell_type": "code",
   "execution_count": 4,
   "metadata": {
    "collapsed": false,
    "scrolled": true
   },
   "outputs": [
    {
     "data": {
      "text/html": [
       "<table style=\"font-family: Courier, monospace;\">\n",
       "  <tr><td></td><th>&epsilon;</th><th>a</th><th>b</th></tr>\n",
       "  <tr><th>@&gt;0i</th><td>1a</td><td></td><td></td></tr>\n",
       "  <tr><th>1a</th><td>{1s,4s}</td><td></td><td></td></tr>\n",
       "  <tr><th>1s</th><td></td><td>1t</td><td></td></tr>\n",
       "  <tr><th>1t</th><td>2s</td><td></td><td></td></tr>\n",
       "  <tr><th>2s</th><td></td><td></td><td>2t</td></tr>\n",
       "  <tr><th>@2t</th><td>1a</td><td></td><td></td></tr>\n",
       "  <tr><th>4s</th><td></td><td>4t</td><td></td></tr>\n",
       "  <tr><th>@4t</th><td>1a</td><td></td><td></td></tr>\n",
       "</table>\n"
      ],
      "text/plain": [
       "<IPython.core.display.HTML object>"
      ]
     },
     "execution_count": 4,
     "metadata": {},
     "output_type": "execute_result"
    }
   ],
   "source": [
    "display_table(m)"
   ]
  },
  {
   "cell_type": "markdown",
   "metadata": {},
   "source": [
    "The states are numbered according to the position in the regular expression they came from (so that listing them in alphabetical order is natural). The letter suffixes are explained below.\n",
    "\n",
    "We can break the construction of the automaton down step by step. The `offset` option just says what number to begin numbering the states at, for clarity."
   ]
  },
  {
   "cell_type": "code",
   "execution_count": 5,
   "metadata": {
    "collapsed": false
   },
   "outputs": [
    {
     "data": {
      "image/svg+xml": [
       "<svg height=\"37pt\" viewBox=\"0.00 0.00 144.00 36.50\" width=\"144pt\" xmlns=\"http://www.w3.org/2000/svg\" xmlns:xlink=\"http://www.w3.org/1999/xlink\">\n",
       "<g class=\"graph\" id=\"graph0\" transform=\"scale(1 1) rotate(0) translate(4 32.5)\">\n",
       "<title>%3</title>\n",
       "<polygon fill=\"white\" points=\"-4,4 -4,-32.5 140,-32.5 140,4 -4,4\" stroke=\"none\"/>\n",
       "<!-- START -->\n",
       "<g class=\"node\" id=\"node1\"><title>START</title>\n",
       "</g>\n",
       "<!-- 0 -->\n",
       "<g class=\"node\" id=\"node2\"><title>0</title>\n",
       "<path d=\"M53.3333,-21C53.3333,-21 43.6667,-21 43.6667,-21 40.8333,-21 38,-18.1667 38,-15.3333 38,-15.3333 38,-9.66667 38,-9.66667 38,-6.83333 40.8333,-4 43.6667,-4 43.6667,-4 53.3333,-4 53.3333,-4 56.1667,-4 59,-6.83333 59,-9.66667 59,-9.66667 59,-15.3333 59,-15.3333 59,-18.1667 56.1667,-21 53.3333,-21\" fill=\"none\" stroke=\"black\"/>\n",
       "<text font-family=\"Courier,monospace\" font-size=\"10.00\" text-anchor=\"middle\" x=\"48.5\" y=\"-10\">1s</text>\n",
       "</g>\n",
       "<!-- START&#45;&gt;0 -->\n",
       "<g class=\"edge\" id=\"edge1\"><title>START-&gt;0</title>\n",
       "<path d=\"M1.13339,-12.5C2.79277,-12.5 19.5956,-12.5 32.5011,-12.5\" fill=\"none\" stroke=\"black\"/>\n",
       "<polygon fill=\"black\" points=\"37.7379,-12.5 32.738,-14.7501 35.2379,-12.5 32.7379,-12.5001 32.7379,-12.5001 32.7379,-12.5001 35.2379,-12.5 32.7379,-10.2501 37.7379,-12.5 37.7379,-12.5\" stroke=\"black\"/>\n",
       "</g>\n",
       "<!-- 1 -->\n",
       "<g class=\"node\" id=\"node3\"><title>1</title>\n",
       "<path d=\"M126.333,-21C126.333,-21 116.667,-21 116.667,-21 113.833,-21 111,-18.1667 111,-15.3333 111,-15.3333 111,-9.66667 111,-9.66667 111,-6.83333 113.833,-4 116.667,-4 116.667,-4 126.333,-4 126.333,-4 129.167,-4 132,-6.83333 132,-9.66667 132,-9.66667 132,-15.3333 132,-15.3333 132,-18.1667 129.167,-21 126.333,-21\" fill=\"none\" stroke=\"black\"/>\n",
       "<path d=\"M127.667,-25C127.667,-25 115.333,-25 115.333,-25 111.167,-25 107,-20.8333 107,-16.6667 107,-16.6667 107,-8.33333 107,-8.33333 107,-4.16667 111.167,-0 115.333,-0 115.333,-0 127.667,-0 127.667,-0 131.833,-0 136,-4.16667 136,-8.33333 136,-8.33333 136,-16.6667 136,-16.6667 136,-20.8333 131.833,-25 127.667,-25\" fill=\"none\" stroke=\"black\"/>\n",
       "<text font-family=\"Courier,monospace\" font-size=\"10.00\" text-anchor=\"middle\" x=\"121.5\" y=\"-10\">1t</text>\n",
       "</g>\n",
       "<!-- 0&#45;&gt;1 -->\n",
       "<g class=\"edge\" id=\"edge2\"><title>0-&gt;1</title>\n",
       "<path d=\"M59.0754,-12.5C69.9689,-12.5 88.0236,-12.5 101.747,-12.5\" fill=\"none\" stroke=\"black\"/>\n",
       "<polygon fill=\"black\" points=\"106.956,-12.5 101.956,-14.7501 104.456,-12.5 101.956,-12.5001 101.956,-12.5001 101.956,-12.5001 104.456,-12.5 101.956,-10.2501 106.956,-12.5 106.956,-12.5\" stroke=\"black\"/>\n",
       "<text font-family=\"Courier,monospace\" font-size=\"9.00\" text-anchor=\"start\" x=\"80\" y=\"-18.3\">a</text>\n",
       "</g>\n",
       "</g>\n",
       "</svg>"
      ],
      "text/plain": [
       "<IPython.core.display.SVG object>"
      ]
     },
     "metadata": {},
     "output_type": "display_data"
    }
   ],
   "source": [
    "to_graph(from_regexp(\"a\", offset=1))"
   ]
  },
  {
   "cell_type": "code",
   "execution_count": 6,
   "metadata": {
    "collapsed": false
   },
   "outputs": [
    {
     "data": {
      "image/svg+xml": [
       "<svg height=\"37pt\" viewBox=\"0.00 0.00 144.00 36.50\" width=\"144pt\" xmlns=\"http://www.w3.org/2000/svg\" xmlns:xlink=\"http://www.w3.org/1999/xlink\">\n",
       "<g class=\"graph\" id=\"graph0\" transform=\"scale(1 1) rotate(0) translate(4 32.5)\">\n",
       "<title>%3</title>\n",
       "<polygon fill=\"white\" points=\"-4,4 -4,-32.5 140,-32.5 140,4 -4,4\" stroke=\"none\"/>\n",
       "<!-- START -->\n",
       "<g class=\"node\" id=\"node1\"><title>START</title>\n",
       "</g>\n",
       "<!-- 0 -->\n",
       "<g class=\"node\" id=\"node2\"><title>0</title>\n",
       "<path d=\"M53.3333,-21C53.3333,-21 43.6667,-21 43.6667,-21 40.8333,-21 38,-18.1667 38,-15.3333 38,-15.3333 38,-9.66667 38,-9.66667 38,-6.83333 40.8333,-4 43.6667,-4 43.6667,-4 53.3333,-4 53.3333,-4 56.1667,-4 59,-6.83333 59,-9.66667 59,-9.66667 59,-15.3333 59,-15.3333 59,-18.1667 56.1667,-21 53.3333,-21\" fill=\"none\" stroke=\"black\"/>\n",
       "<text font-family=\"Courier,monospace\" font-size=\"10.00\" text-anchor=\"middle\" x=\"48.5\" y=\"-10\">2s</text>\n",
       "</g>\n",
       "<!-- START&#45;&gt;0 -->\n",
       "<g class=\"edge\" id=\"edge1\"><title>START-&gt;0</title>\n",
       "<path d=\"M1.13339,-12.5C2.79277,-12.5 19.5956,-12.5 32.5011,-12.5\" fill=\"none\" stroke=\"black\"/>\n",
       "<polygon fill=\"black\" points=\"37.7379,-12.5 32.738,-14.7501 35.2379,-12.5 32.7379,-12.5001 32.7379,-12.5001 32.7379,-12.5001 35.2379,-12.5 32.7379,-10.2501 37.7379,-12.5 37.7379,-12.5\" stroke=\"black\"/>\n",
       "</g>\n",
       "<!-- 1 -->\n",
       "<g class=\"node\" id=\"node3\"><title>1</title>\n",
       "<path d=\"M126.333,-21C126.333,-21 116.667,-21 116.667,-21 113.833,-21 111,-18.1667 111,-15.3333 111,-15.3333 111,-9.66667 111,-9.66667 111,-6.83333 113.833,-4 116.667,-4 116.667,-4 126.333,-4 126.333,-4 129.167,-4 132,-6.83333 132,-9.66667 132,-9.66667 132,-15.3333 132,-15.3333 132,-18.1667 129.167,-21 126.333,-21\" fill=\"none\" stroke=\"black\"/>\n",
       "<path d=\"M127.667,-25C127.667,-25 115.333,-25 115.333,-25 111.167,-25 107,-20.8333 107,-16.6667 107,-16.6667 107,-8.33333 107,-8.33333 107,-4.16667 111.167,-0 115.333,-0 115.333,-0 127.667,-0 127.667,-0 131.833,-0 136,-4.16667 136,-8.33333 136,-8.33333 136,-16.6667 136,-16.6667 136,-20.8333 131.833,-25 127.667,-25\" fill=\"none\" stroke=\"black\"/>\n",
       "<text font-family=\"Courier,monospace\" font-size=\"10.00\" text-anchor=\"middle\" x=\"121.5\" y=\"-10\">2t</text>\n",
       "</g>\n",
       "<!-- 0&#45;&gt;1 -->\n",
       "<g class=\"edge\" id=\"edge2\"><title>0-&gt;1</title>\n",
       "<path d=\"M59.0754,-12.5C69.9689,-12.5 88.0236,-12.5 101.747,-12.5\" fill=\"none\" stroke=\"black\"/>\n",
       "<polygon fill=\"black\" points=\"106.956,-12.5 101.956,-14.7501 104.456,-12.5 101.956,-12.5001 101.956,-12.5001 101.956,-12.5001 104.456,-12.5 101.956,-10.2501 106.956,-12.5 106.956,-12.5\" stroke=\"black\"/>\n",
       "<text font-family=\"Courier,monospace\" font-size=\"9.00\" text-anchor=\"start\" x=\"80\" y=\"-18.3\">b</text>\n",
       "</g>\n",
       "</g>\n",
       "</svg>"
      ],
      "text/plain": [
       "<IPython.core.display.SVG object>"
      ]
     },
     "metadata": {},
     "output_type": "display_data"
    }
   ],
   "source": [
    "to_graph(from_regexp(\"b\", offset=2))"
   ]
  },
  {
   "cell_type": "markdown",
   "metadata": {},
   "source": [
    "The suffixes `s` and `t` (for \"source\" and \"target\", I guess) are used for the state before and after each symbol. "
   ]
  },
  {
   "cell_type": "code",
   "execution_count": 7,
   "metadata": {
    "collapsed": false
   },
   "outputs": [
    {
     "data": {
      "image/svg+xml": [
       "<svg height=\"37pt\" viewBox=\"0.00 0.00 281.00 36.50\" width=\"281pt\" xmlns=\"http://www.w3.org/2000/svg\" xmlns:xlink=\"http://www.w3.org/1999/xlink\">\n",
       "<g class=\"graph\" id=\"graph0\" transform=\"scale(1 1) rotate(0) translate(4 32.5)\">\n",
       "<title>%3</title>\n",
       "<polygon fill=\"white\" points=\"-4,4 -4,-32.5 277,-32.5 277,4 -4,4\" stroke=\"none\"/>\n",
       "<!-- START -->\n",
       "<g class=\"node\" id=\"node1\"><title>START</title>\n",
       "</g>\n",
       "<!-- 0 -->\n",
       "<g class=\"node\" id=\"node2\"><title>0</title>\n",
       "<path d=\"M53.3333,-21C53.3333,-21 43.6667,-21 43.6667,-21 40.8333,-21 38,-18.1667 38,-15.3333 38,-15.3333 38,-9.66667 38,-9.66667 38,-6.83333 40.8333,-4 43.6667,-4 43.6667,-4 53.3333,-4 53.3333,-4 56.1667,-4 59,-6.83333 59,-9.66667 59,-9.66667 59,-15.3333 59,-15.3333 59,-18.1667 56.1667,-21 53.3333,-21\" fill=\"none\" stroke=\"black\"/>\n",
       "<text font-family=\"Courier,monospace\" font-size=\"10.00\" text-anchor=\"middle\" x=\"48.5\" y=\"-10\">1s</text>\n",
       "</g>\n",
       "<!-- START&#45;&gt;0 -->\n",
       "<g class=\"edge\" id=\"edge1\"><title>START-&gt;0</title>\n",
       "<path d=\"M1.13339,-12.5C2.79277,-12.5 19.5956,-12.5 32.5011,-12.5\" fill=\"none\" stroke=\"black\"/>\n",
       "<polygon fill=\"black\" points=\"37.7379,-12.5 32.738,-14.7501 35.2379,-12.5 32.7379,-12.5001 32.7379,-12.5001 32.7379,-12.5001 35.2379,-12.5 32.7379,-10.2501 37.7379,-12.5 37.7379,-12.5\" stroke=\"black\"/>\n",
       "</g>\n",
       "<!-- 1 -->\n",
       "<g class=\"node\" id=\"node3\"><title>1</title>\n",
       "<path d=\"M122.333,-21C122.333,-21 112.667,-21 112.667,-21 109.833,-21 107,-18.1667 107,-15.3333 107,-15.3333 107,-9.66667 107,-9.66667 107,-6.83333 109.833,-4 112.667,-4 112.667,-4 122.333,-4 122.333,-4 125.167,-4 128,-6.83333 128,-9.66667 128,-9.66667 128,-15.3333 128,-15.3333 128,-18.1667 125.167,-21 122.333,-21\" fill=\"none\" stroke=\"black\"/>\n",
       "<text font-family=\"Courier,monospace\" font-size=\"10.00\" text-anchor=\"middle\" x=\"117.5\" y=\"-10\">1t</text>\n",
       "</g>\n",
       "<!-- 0&#45;&gt;1 -->\n",
       "<g class=\"edge\" id=\"edge2\"><title>0-&gt;1</title>\n",
       "<path d=\"M59.0995,-12.5C70.2441,-12.5 88.7523,-12.5 101.732,-12.5\" fill=\"none\" stroke=\"black\"/>\n",
       "<polygon fill=\"black\" points=\"106.918,-12.5 101.918,-14.7501 104.418,-12.5 101.918,-12.5001 101.918,-12.5001 101.918,-12.5001 104.418,-12.5 101.918,-10.2501 106.918,-12.5 106.918,-12.5\" stroke=\"black\"/>\n",
       "<text font-family=\"Courier,monospace\" font-size=\"9.00\" text-anchor=\"start\" x=\"80\" y=\"-18.3\">a</text>\n",
       "</g>\n",
       "<!-- 2 -->\n",
       "<g class=\"node\" id=\"node4\"><title>2</title>\n",
       "<path d=\"M190.333,-21C190.333,-21 180.667,-21 180.667,-21 177.833,-21 175,-18.1667 175,-15.3333 175,-15.3333 175,-9.66667 175,-9.66667 175,-6.83333 177.833,-4 180.667,-4 180.667,-4 190.333,-4 190.333,-4 193.167,-4 196,-6.83333 196,-9.66667 196,-9.66667 196,-15.3333 196,-15.3333 196,-18.1667 193.167,-21 190.333,-21\" fill=\"none\" stroke=\"black\"/>\n",
       "<text font-family=\"Courier,monospace\" font-size=\"10.00\" text-anchor=\"middle\" x=\"185.5\" y=\"-10\">2s</text>\n",
       "</g>\n",
       "<!-- 1&#45;&gt;2 -->\n",
       "<g class=\"edge\" id=\"edge3\"><title>1-&gt;2</title>\n",
       "<path d=\"M128.239,-12.5C139.157,-12.5 156.988,-12.5 169.648,-12.5\" fill=\"none\" stroke=\"black\"/>\n",
       "<polygon fill=\"black\" points=\"174.722,-12.5 169.722,-14.7501 172.222,-12.5 169.722,-12.5001 169.722,-12.5001 169.722,-12.5001 172.222,-12.5 169.721,-10.2501 174.722,-12.5 174.722,-12.5\" stroke=\"black\"/>\n",
       "<text font-family=\"Courier,monospace\" font-size=\"9.00\" text-anchor=\"start\" x=\"149.5\" y=\"-18.3\">ε</text>\n",
       "</g>\n",
       "<!-- 3 -->\n",
       "<g class=\"node\" id=\"node5\"><title>3</title>\n",
       "<path d=\"M263.333,-21C263.333,-21 253.667,-21 253.667,-21 250.833,-21 248,-18.1667 248,-15.3333 248,-15.3333 248,-9.66667 248,-9.66667 248,-6.83333 250.833,-4 253.667,-4 253.667,-4 263.333,-4 263.333,-4 266.167,-4 269,-6.83333 269,-9.66667 269,-9.66667 269,-15.3333 269,-15.3333 269,-18.1667 266.167,-21 263.333,-21\" fill=\"none\" stroke=\"black\"/>\n",
       "<path d=\"M264.667,-25C264.667,-25 252.333,-25 252.333,-25 248.167,-25 244,-20.8333 244,-16.6667 244,-16.6667 244,-8.33333 244,-8.33333 244,-4.16667 248.167,-0 252.333,-0 252.333,-0 264.667,-0 264.667,-0 268.833,-0 273,-4.16667 273,-8.33333 273,-8.33333 273,-16.6667 273,-16.6667 273,-20.8333 268.833,-25 264.667,-25\" fill=\"none\" stroke=\"black\"/>\n",
       "<text font-family=\"Courier,monospace\" font-size=\"10.00\" text-anchor=\"middle\" x=\"258.5\" y=\"-10\">2t</text>\n",
       "</g>\n",
       "<!-- 2&#45;&gt;3 -->\n",
       "<g class=\"edge\" id=\"edge4\"><title>2-&gt;3</title>\n",
       "<path d=\"M196.075,-12.5C206.969,-12.5 225.024,-12.5 238.747,-12.5\" fill=\"none\" stroke=\"black\"/>\n",
       "<polygon fill=\"black\" points=\"243.956,-12.5 238.956,-14.7501 241.456,-12.5 238.956,-12.5001 238.956,-12.5001 238.956,-12.5001 241.456,-12.5 238.956,-10.2501 243.956,-12.5 243.956,-12.5\" stroke=\"black\"/>\n",
       "<text font-family=\"Courier,monospace\" font-size=\"9.00\" text-anchor=\"start\" x=\"217\" y=\"-18.3\">b</text>\n",
       "</g>\n",
       "</g>\n",
       "</svg>"
      ],
      "text/plain": [
       "<IPython.core.display.SVG object>"
      ]
     },
     "metadata": {},
     "output_type": "display_data"
    }
   ],
   "source": [
    "to_graph(from_regexp(\"a b\", offset=1))"
   ]
  },
  {
   "cell_type": "code",
   "execution_count": 8,
   "metadata": {
    "collapsed": false
   },
   "outputs": [
    {
     "data": {
      "image/svg+xml": [
       "<svg height=\"37pt\" viewBox=\"0.00 0.00 144.00 36.50\" width=\"144pt\" xmlns=\"http://www.w3.org/2000/svg\" xmlns:xlink=\"http://www.w3.org/1999/xlink\">\n",
       "<g class=\"graph\" id=\"graph0\" transform=\"scale(1 1) rotate(0) translate(4 32.5)\">\n",
       "<title>%3</title>\n",
       "<polygon fill=\"white\" points=\"-4,4 -4,-32.5 140,-32.5 140,4 -4,4\" stroke=\"none\"/>\n",
       "<!-- START -->\n",
       "<g class=\"node\" id=\"node1\"><title>START</title>\n",
       "</g>\n",
       "<!-- 0 -->\n",
       "<g class=\"node\" id=\"node2\"><title>0</title>\n",
       "<path d=\"M53.3333,-21C53.3333,-21 43.6667,-21 43.6667,-21 40.8333,-21 38,-18.1667 38,-15.3333 38,-15.3333 38,-9.66667 38,-9.66667 38,-6.83333 40.8333,-4 43.6667,-4 43.6667,-4 53.3333,-4 53.3333,-4 56.1667,-4 59,-6.83333 59,-9.66667 59,-9.66667 59,-15.3333 59,-15.3333 59,-18.1667 56.1667,-21 53.3333,-21\" fill=\"none\" stroke=\"black\"/>\n",
       "<text font-family=\"Courier,monospace\" font-size=\"10.00\" text-anchor=\"middle\" x=\"48.5\" y=\"-10\">4s</text>\n",
       "</g>\n",
       "<!-- START&#45;&gt;0 -->\n",
       "<g class=\"edge\" id=\"edge1\"><title>START-&gt;0</title>\n",
       "<path d=\"M1.13339,-12.5C2.79277,-12.5 19.5956,-12.5 32.5011,-12.5\" fill=\"none\" stroke=\"black\"/>\n",
       "<polygon fill=\"black\" points=\"37.7379,-12.5 32.738,-14.7501 35.2379,-12.5 32.7379,-12.5001 32.7379,-12.5001 32.7379,-12.5001 35.2379,-12.5 32.7379,-10.2501 37.7379,-12.5 37.7379,-12.5\" stroke=\"black\"/>\n",
       "</g>\n",
       "<!-- 1 -->\n",
       "<g class=\"node\" id=\"node3\"><title>1</title>\n",
       "<path d=\"M126.333,-21C126.333,-21 116.667,-21 116.667,-21 113.833,-21 111,-18.1667 111,-15.3333 111,-15.3333 111,-9.66667 111,-9.66667 111,-6.83333 113.833,-4 116.667,-4 116.667,-4 126.333,-4 126.333,-4 129.167,-4 132,-6.83333 132,-9.66667 132,-9.66667 132,-15.3333 132,-15.3333 132,-18.1667 129.167,-21 126.333,-21\" fill=\"none\" stroke=\"black\"/>\n",
       "<path d=\"M127.667,-25C127.667,-25 115.333,-25 115.333,-25 111.167,-25 107,-20.8333 107,-16.6667 107,-16.6667 107,-8.33333 107,-8.33333 107,-4.16667 111.167,-0 115.333,-0 115.333,-0 127.667,-0 127.667,-0 131.833,-0 136,-4.16667 136,-8.33333 136,-8.33333 136,-16.6667 136,-16.6667 136,-20.8333 131.833,-25 127.667,-25\" fill=\"none\" stroke=\"black\"/>\n",
       "<text font-family=\"Courier,monospace\" font-size=\"10.00\" text-anchor=\"middle\" x=\"121.5\" y=\"-10\">4t</text>\n",
       "</g>\n",
       "<!-- 0&#45;&gt;1 -->\n",
       "<g class=\"edge\" id=\"edge2\"><title>0-&gt;1</title>\n",
       "<path d=\"M59.0754,-12.5C69.9689,-12.5 88.0236,-12.5 101.747,-12.5\" fill=\"none\" stroke=\"black\"/>\n",
       "<polygon fill=\"black\" points=\"106.956,-12.5 101.956,-14.7501 104.456,-12.5 101.956,-12.5001 101.956,-12.5001 101.956,-12.5001 104.456,-12.5 101.956,-10.2501 106.956,-12.5 106.956,-12.5\" stroke=\"black\"/>\n",
       "<text font-family=\"Courier,monospace\" font-size=\"9.00\" text-anchor=\"start\" x=\"80\" y=\"-18.3\">a</text>\n",
       "</g>\n",
       "</g>\n",
       "</svg>"
      ],
      "text/plain": [
       "<IPython.core.display.SVG object>"
      ]
     },
     "metadata": {},
     "output_type": "display_data"
    }
   ],
   "source": [
    "to_graph(from_regexp(\"a\", offset=4))"
   ]
  },
  {
   "cell_type": "code",
   "execution_count": 9,
   "metadata": {
    "collapsed": false
   },
   "outputs": [
    {
     "data": {
      "image/svg+xml": [
       "<svg height=\"76pt\" viewBox=\"0.00 0.00 357.00 75.50\" width=\"357pt\" xmlns=\"http://www.w3.org/2000/svg\" xmlns:xlink=\"http://www.w3.org/1999/xlink\">\n",
       "<g class=\"graph\" id=\"graph0\" transform=\"scale(1 1) rotate(0) translate(4 71.5)\">\n",
       "<title>%3</title>\n",
       "<polygon fill=\"white\" points=\"-4,4 -4,-71.5 353,-71.5 353,4 -4,4\" stroke=\"none\"/>\n",
       "<!-- START -->\n",
       "<g class=\"node\" id=\"node1\"><title>START</title>\n",
       "</g>\n",
       "<!-- 0 -->\n",
       "<g class=\"node\" id=\"node2\"><title>0</title>\n",
       "<path d=\"M53.3333,-40C53.3333,-40 43.6667,-40 43.6667,-40 40.8333,-40 38,-37.1667 38,-34.3333 38,-34.3333 38,-28.6667 38,-28.6667 38,-25.8333 40.8333,-23 43.6667,-23 43.6667,-23 53.3333,-23 53.3333,-23 56.1667,-23 59,-25.8333 59,-28.6667 59,-28.6667 59,-34.3333 59,-34.3333 59,-37.1667 56.1667,-40 53.3333,-40\" fill=\"none\" stroke=\"black\"/>\n",
       "<text font-family=\"Courier,monospace\" font-size=\"10.00\" text-anchor=\"middle\" x=\"48.5\" y=\"-29\">0a</text>\n",
       "</g>\n",
       "<!-- START&#45;&gt;0 -->\n",
       "<g class=\"edge\" id=\"edge1\"><title>START-&gt;0</title>\n",
       "<path d=\"M1.13339,-31.5C2.79277,-31.5 19.5956,-31.5 32.5011,-31.5\" fill=\"none\" stroke=\"black\"/>\n",
       "<polygon fill=\"black\" points=\"37.7379,-31.5 32.738,-33.7501 35.2379,-31.5 32.7379,-31.5001 32.7379,-31.5001 32.7379,-31.5001 35.2379,-31.5 32.7379,-29.2501 37.7379,-31.5 37.7379,-31.5\" stroke=\"black\"/>\n",
       "</g>\n",
       "<!-- 1 -->\n",
       "<g class=\"node\" id=\"node3\"><title>1</title>\n",
       "<path d=\"M121.333,-60C121.333,-60 111.667,-60 111.667,-60 108.833,-60 106,-57.1667 106,-54.3333 106,-54.3333 106,-48.6667 106,-48.6667 106,-45.8333 108.833,-43 111.667,-43 111.667,-43 121.333,-43 121.333,-43 124.167,-43 127,-45.8333 127,-48.6667 127,-48.6667 127,-54.3333 127,-54.3333 127,-57.1667 124.167,-60 121.333,-60\" fill=\"none\" stroke=\"black\"/>\n",
       "<text font-family=\"Courier,monospace\" font-size=\"10.00\" text-anchor=\"middle\" x=\"116.5\" y=\"-49\">1s</text>\n",
       "</g>\n",
       "<!-- 0&#45;&gt;1 -->\n",
       "<g class=\"edge\" id=\"edge3\"><title>0-&gt;1</title>\n",
       "<path d=\"M59.2385,-34.4511C70.1571,-37.7597 87.9882,-43.1631 100.648,-46.9993\" fill=\"none\" stroke=\"black\"/>\n",
       "<polygon fill=\"black\" points=\"105.722,-48.5368 100.284,-49.24 103.329,-47.8118 100.936,-47.0867 100.936,-47.0867 100.936,-47.0867 103.329,-47.8118 101.589,-44.9334 105.722,-48.5368 105.722,-48.5368\" stroke=\"black\"/>\n",
       "<text font-family=\"Courier,monospace\" font-size=\"9.00\" text-anchor=\"start\" x=\"80.5\" y=\"-49.3\">ε</text>\n",
       "</g>\n",
       "<!-- 5 -->\n",
       "<g class=\"node\" id=\"node7\"><title>5</title>\n",
       "<path d=\"M121.333,-21C121.333,-21 111.667,-21 111.667,-21 108.833,-21 106,-18.1667 106,-15.3333 106,-15.3333 106,-9.66667 106,-9.66667 106,-6.83333 108.833,-4 111.667,-4 111.667,-4 121.333,-4 121.333,-4 124.167,-4 127,-6.83333 127,-9.66667 127,-9.66667 127,-15.3333 127,-15.3333 127,-18.1667 124.167,-21 121.333,-21\" fill=\"none\" stroke=\"black\"/>\n",
       "<text font-family=\"Courier,monospace\" font-size=\"10.00\" text-anchor=\"middle\" x=\"116.5\" y=\"-10\">4s</text>\n",
       "</g>\n",
       "<!-- 0&#45;&gt;5 -->\n",
       "<g class=\"edge\" id=\"edge4\"><title>0-&gt;5</title>\n",
       "<path d=\"M59.0036,-23.3859C64.0132,-19.6243 70.4641,-15.5416 77,-13.5 84.527,-11.1488 93.2899,-10.7517 100.552,-11.0073\" fill=\"none\" stroke=\"black\"/>\n",
       "<polygon fill=\"black\" points=\"105.768,-11.3084 100.647,-13.2664 103.272,-11.1643 100.777,-11.0201 100.777,-11.0201 100.777,-11.0201 103.272,-11.1643 100.906,-8.77389 105.768,-11.3084 105.768,-11.3084\" stroke=\"black\"/>\n",
       "<text font-family=\"Courier,monospace\" font-size=\"9.00\" text-anchor=\"start\" x=\"80.5\" y=\"-19.3\">ε</text>\n",
       "</g>\n",
       "<!-- 2 -->\n",
       "<g class=\"node\" id=\"node4\"><title>2</title>\n",
       "<path d=\"M194.333,-60C194.333,-60 184.667,-60 184.667,-60 181.833,-60 179,-57.1667 179,-54.3333 179,-54.3333 179,-48.6667 179,-48.6667 179,-45.8333 181.833,-43 184.667,-43 184.667,-43 194.333,-43 194.333,-43 197.167,-43 200,-45.8333 200,-48.6667 200,-48.6667 200,-54.3333 200,-54.3333 200,-57.1667 197.167,-60 194.333,-60\" fill=\"none\" stroke=\"black\"/>\n",
       "<text font-family=\"Courier,monospace\" font-size=\"10.00\" text-anchor=\"middle\" x=\"189.5\" y=\"-49\">1t</text>\n",
       "</g>\n",
       "<!-- 1&#45;&gt;2 -->\n",
       "<g class=\"edge\" id=\"edge2\"><title>1-&gt;2</title>\n",
       "<path d=\"M127.075,-51.5C138.971,-51.5 159.407,-51.5 173.417,-51.5\" fill=\"none\" stroke=\"black\"/>\n",
       "<polygon fill=\"black\" points=\"178.621,-51.5 173.621,-53.7501 176.121,-51.5 173.621,-51.5001 173.621,-51.5001 173.621,-51.5001 176.121,-51.5 173.621,-49.2501 178.621,-51.5 178.621,-51.5\" stroke=\"black\"/>\n",
       "<text font-family=\"Courier,monospace\" font-size=\"9.00\" text-anchor=\"start\" x=\"148\" y=\"-57.3\">a</text>\n",
       "</g>\n",
       "<!-- 3 -->\n",
       "<g class=\"node\" id=\"node5\"><title>3</title>\n",
       "<path d=\"M266.333,-60C266.333,-60 256.667,-60 256.667,-60 253.833,-60 251,-57.1667 251,-54.3333 251,-54.3333 251,-48.6667 251,-48.6667 251,-45.8333 253.833,-43 256.667,-43 256.667,-43 266.333,-43 266.333,-43 269.167,-43 272,-45.8333 272,-48.6667 272,-48.6667 272,-54.3333 272,-54.3333 272,-57.1667 269.167,-60 266.333,-60\" fill=\"none\" stroke=\"black\"/>\n",
       "<text font-family=\"Courier,monospace\" font-size=\"10.00\" text-anchor=\"middle\" x=\"261.5\" y=\"-49\">2s</text>\n",
       "</g>\n",
       "<!-- 2&#45;&gt;3 -->\n",
       "<g class=\"edge\" id=\"edge5\"><title>2-&gt;3</title>\n",
       "<path d=\"M200.233,-51.5C212.04,-51.5 232.06,-51.5 245.761,-51.5\" fill=\"none\" stroke=\"black\"/>\n",
       "<polygon fill=\"black\" points=\"250.849,-51.5 245.85,-53.7501 248.349,-51.5 245.849,-51.5001 245.849,-51.5001 245.849,-51.5001 248.349,-51.5 245.849,-49.2501 250.849,-51.5 250.849,-51.5\" stroke=\"black\"/>\n",
       "<text font-family=\"Courier,monospace\" font-size=\"9.00\" text-anchor=\"start\" x=\"225.5\" y=\"-57.3\">ε</text>\n",
       "</g>\n",
       "<!-- 4 -->\n",
       "<g class=\"node\" id=\"node6\"><title>4</title>\n",
       "<path d=\"M339.333,-60C339.333,-60 329.667,-60 329.667,-60 326.833,-60 324,-57.1667 324,-54.3333 324,-54.3333 324,-48.6667 324,-48.6667 324,-45.8333 326.833,-43 329.667,-43 329.667,-43 339.333,-43 339.333,-43 342.167,-43 345,-45.8333 345,-48.6667 345,-48.6667 345,-54.3333 345,-54.3333 345,-57.1667 342.167,-60 339.333,-60\" fill=\"none\" stroke=\"black\"/>\n",
       "<path d=\"M340.667,-64C340.667,-64 328.333,-64 328.333,-64 324.167,-64 320,-59.8333 320,-55.6667 320,-55.6667 320,-47.3333 320,-47.3333 320,-43.1667 324.167,-39 328.333,-39 328.333,-39 340.667,-39 340.667,-39 344.833,-39 349,-43.1667 349,-47.3333 349,-47.3333 349,-55.6667 349,-55.6667 349,-59.8333 344.833,-64 340.667,-64\" fill=\"none\" stroke=\"black\"/>\n",
       "<text font-family=\"Courier,monospace\" font-size=\"10.00\" text-anchor=\"middle\" x=\"334.5\" y=\"-49\">2t</text>\n",
       "</g>\n",
       "<!-- 3&#45;&gt;4 -->\n",
       "<g class=\"edge\" id=\"edge7\"><title>3-&gt;4</title>\n",
       "<path d=\"M272.075,-51.5C282.969,-51.5 301.024,-51.5 314.747,-51.5\" fill=\"none\" stroke=\"black\"/>\n",
       "<polygon fill=\"black\" points=\"319.956,-51.5 314.956,-53.7501 317.456,-51.5 314.956,-51.5001 314.956,-51.5001 314.956,-51.5001 317.456,-51.5 314.956,-49.2501 319.956,-51.5 319.956,-51.5\" stroke=\"black\"/>\n",
       "<text font-family=\"Courier,monospace\" font-size=\"9.00\" text-anchor=\"start\" x=\"293\" y=\"-57.3\">b</text>\n",
       "</g>\n",
       "<!-- 6 -->\n",
       "<g class=\"node\" id=\"node8\"><title>6</title>\n",
       "<path d=\"M194.333,-21C194.333,-21 184.667,-21 184.667,-21 181.833,-21 179,-18.1667 179,-15.3333 179,-15.3333 179,-9.66667 179,-9.66667 179,-6.83333 181.833,-4 184.667,-4 184.667,-4 194.333,-4 194.333,-4 197.167,-4 200,-6.83333 200,-9.66667 200,-9.66667 200,-15.3333 200,-15.3333 200,-18.1667 197.167,-21 194.333,-21\" fill=\"none\" stroke=\"black\"/>\n",
       "<path d=\"M195.667,-25C195.667,-25 183.333,-25 183.333,-25 179.167,-25 175,-20.8333 175,-16.6667 175,-16.6667 175,-8.33333 175,-8.33333 175,-4.16667 179.167,-0 183.333,-0 183.333,-0 195.667,-0 195.667,-0 199.833,-0 204,-4.16667 204,-8.33333 204,-8.33333 204,-16.6667 204,-16.6667 204,-20.8333 199.833,-25 195.667,-25\" fill=\"none\" stroke=\"black\"/>\n",
       "<text font-family=\"Courier,monospace\" font-size=\"10.00\" text-anchor=\"middle\" x=\"189.5\" y=\"-10\">4t</text>\n",
       "</g>\n",
       "<!-- 5&#45;&gt;6 -->\n",
       "<g class=\"edge\" id=\"edge6\"><title>5-&gt;6</title>\n",
       "<path d=\"M127.075,-12.5C137.969,-12.5 156.024,-12.5 169.747,-12.5\" fill=\"none\" stroke=\"black\"/>\n",
       "<polygon fill=\"black\" points=\"174.956,-12.5 169.956,-14.7501 172.456,-12.5 169.956,-12.5001 169.956,-12.5001 169.956,-12.5001 172.456,-12.5 169.956,-10.2501 174.956,-12.5 174.956,-12.5\" stroke=\"black\"/>\n",
       "<text font-family=\"Courier,monospace\" font-size=\"9.00\" text-anchor=\"start\" x=\"148\" y=\"-18.3\">a</text>\n",
       "</g>\n",
       "</g>\n",
       "</svg>"
      ],
      "text/plain": [
       "<IPython.core.display.SVG object>"
      ]
     },
     "metadata": {},
     "output_type": "display_data"
    }
   ],
   "source": [
    "to_graph(from_regexp(\"a b|a\", offset=1))"
   ]
  },
  {
   "cell_type": "markdown",
   "metadata": {},
   "source": [
    "The union operation adds an extra state at the beginning, with the suffix `a` (for \"alternation\", another name for the union operator)."
   ]
  },
  {
   "cell_type": "code",
   "execution_count": 10,
   "metadata": {
    "collapsed": false
   },
   "outputs": [
    {
     "data": {
      "image/svg+xml": [
       "<svg height=\"163pt\" viewBox=\"0.00 0.00 395.00 162.50\" width=\"395pt\" xmlns=\"http://www.w3.org/2000/svg\" xmlns:xlink=\"http://www.w3.org/1999/xlink\">\n",
       "<g class=\"graph\" id=\"graph0\" transform=\"scale(1 1) rotate(0) translate(4 158.5)\">\n",
       "<title>%3</title>\n",
       "<polygon fill=\"white\" points=\"-4,4 -4,-158.5 391,-158.5 391,4 -4,4\" stroke=\"none\"/>\n",
       "<!-- START -->\n",
       "<g class=\"node\" id=\"node1\"><title>START</title>\n",
       "</g>\n",
       "<!-- 0 -->\n",
       "<g class=\"node\" id=\"node2\"><title>0</title>\n",
       "<path d=\"M19.3333,-84C19.3333,-84 9.66667,-84 9.66667,-84 6.83333,-84 4,-81.1667 4,-78.3333 4,-78.3333 4,-72.6667 4,-72.6667 4,-69.8333 6.83333,-67 9.66667,-67 9.66667,-67 19.3333,-67 19.3333,-67 22.1667,-67 25,-69.8333 25,-72.6667 25,-72.6667 25,-78.3333 25,-78.3333 25,-81.1667 22.1667,-84 19.3333,-84\" fill=\"none\" stroke=\"black\"/>\n",
       "<path d=\"M20.6667,-88C20.6667,-88 8.33333,-88 8.33333,-88 4.16667,-88 0,-83.8333 0,-79.6667 0,-79.6667 0,-71.3333 0,-71.3333 0,-67.1667 4.16667,-63 8.33333,-63 8.33333,-63 20.6667,-63 20.6667,-63 24.8333,-63 29,-67.1667 29,-71.3333 29,-71.3333 29,-79.6667 29,-79.6667 29,-83.8333 24.8333,-88 20.6667,-88\" fill=\"none\" stroke=\"black\"/>\n",
       "<text font-family=\"Courier,monospace\" font-size=\"10.00\" text-anchor=\"middle\" x=\"14.5\" y=\"-73\">0i</text>\n",
       "</g>\n",
       "<!-- 1 -->\n",
       "<g class=\"node\" id=\"node3\"><title>1</title>\n",
       "<path d=\"M91.3333,-84C91.3333,-84 81.6667,-84 81.6667,-84 78.8333,-84 76,-81.1667 76,-78.3333 76,-78.3333 76,-72.6667 76,-72.6667 76,-69.8333 78.8333,-67 81.6667,-67 81.6667,-67 91.3333,-67 91.3333,-67 94.1667,-67 97,-69.8333 97,-72.6667 97,-72.6667 97,-78.3333 97,-78.3333 97,-81.1667 94.1667,-84 91.3333,-84\" fill=\"none\" stroke=\"black\"/>\n",
       "<text font-family=\"Courier,monospace\" font-size=\"10.00\" text-anchor=\"middle\" x=\"86.5\" y=\"-73\">1a</text>\n",
       "</g>\n",
       "<!-- 0&#45;&gt;1 -->\n",
       "<g class=\"edge\" id=\"edge9\"><title>0-&gt;1</title>\n",
       "<path d=\"M29.3297,-75.5C41.2157,-75.5 58.3194,-75.5 70.5256,-75.5\" fill=\"none\" stroke=\"black\"/>\n",
       "<polygon fill=\"black\" points=\"75.753,-75.5 70.753,-77.7501 73.253,-75.5 70.753,-75.5001 70.753,-75.5001 70.753,-75.5001 73.253,-75.5 70.753,-73.2501 75.753,-75.5 75.753,-75.5\" stroke=\"black\"/>\n",
       "<text font-family=\"Courier,monospace\" font-size=\"9.00\" text-anchor=\"start\" x=\"50.5\" y=\"-81.3\">ε</text>\n",
       "</g>\n",
       "<!-- 2 -->\n",
       "<g class=\"node\" id=\"node4\"><title>2</title>\n",
       "<path d=\"M159.333,-146C159.333,-146 149.667,-146 149.667,-146 146.833,-146 144,-143.167 144,-140.333 144,-140.333 144,-134.667 144,-134.667 144,-131.833 146.833,-129 149.667,-129 149.667,-129 159.333,-129 159.333,-129 162.167,-129 165,-131.833 165,-134.667 165,-134.667 165,-140.333 165,-140.333 165,-143.167 162.167,-146 159.333,-146\" fill=\"none\" stroke=\"black\"/>\n",
       "<text font-family=\"Courier,monospace\" font-size=\"10.00\" text-anchor=\"middle\" x=\"154.5\" y=\"-135\">1s</text>\n",
       "</g>\n",
       "<!-- 1&#45;&gt;2 -->\n",
       "<g class=\"edge\" id=\"edge7\"><title>1-&gt;2</title>\n",
       "<path d=\"M93.2056,-84.1368C98.3759,-91.5987 106.472,-102.423 115,-110.5 122.363,-117.473 131.645,-124.036 139.251,-128.945\" fill=\"none\" stroke=\"black\"/>\n",
       "<polygon fill=\"black\" points=\"143.737,-131.777 138.308,-131.011 141.623,-130.443 139.509,-129.108 139.509,-129.108 139.509,-129.108 141.623,-130.443 140.71,-127.206 143.737,-131.777 143.737,-131.777\" stroke=\"black\"/>\n",
       "<text font-family=\"Courier,monospace\" font-size=\"9.00\" text-anchor=\"start\" x=\"118.5\" y=\"-125.3\">ε</text>\n",
       "</g>\n",
       "<!-- 6 -->\n",
       "<g class=\"node\" id=\"node8\"><title>6</title>\n",
       "<path d=\"M159.333,-17C159.333,-17 149.667,-17 149.667,-17 146.833,-17 144,-14.1667 144,-11.3333 144,-11.3333 144,-5.66667 144,-5.66667 144,-2.83333 146.833,-0 149.667,-0 149.667,-0 159.333,-0 159.333,-0 162.167,-0 165,-2.83333 165,-5.66667 165,-5.66667 165,-11.3333 165,-11.3333 165,-14.1667 162.167,-17 159.333,-17\" fill=\"none\" stroke=\"black\"/>\n",
       "<text font-family=\"Courier,monospace\" font-size=\"10.00\" text-anchor=\"middle\" x=\"154.5\" y=\"-6\">4s</text>\n",
       "</g>\n",
       "<!-- 1&#45;&gt;6 -->\n",
       "<g class=\"edge\" id=\"edge8\"><title>1-&gt;6</title>\n",
       "<path d=\"M89.947,-66.9429C93.6154,-55.5522 101.581,-35.4585 115,-23.5 121.701,-17.5282 131.049,-13.8107 138.856,-11.5704\" fill=\"none\" stroke=\"black\"/>\n",
       "<polygon fill=\"black\" points=\"143.962,-10.2458 139.687,-13.6791 141.542,-10.8735 139.123,-11.5012 139.123,-11.5012 139.123,-11.5012 141.542,-10.8735 138.558,-9.32323 143.962,-10.2458 143.962,-10.2458\" stroke=\"black\"/>\n",
       "<text font-family=\"Courier,monospace\" font-size=\"9.00\" text-anchor=\"start\" x=\"118.5\" y=\"-29.3\">ε</text>\n",
       "</g>\n",
       "<!-- 3 -->\n",
       "<g class=\"node\" id=\"node5\"><title>3</title>\n",
       "<path d=\"M232.333,-149C232.333,-149 222.667,-149 222.667,-149 219.833,-149 217,-146.167 217,-143.333 217,-143.333 217,-137.667 217,-137.667 217,-134.833 219.833,-132 222.667,-132 222.667,-132 232.333,-132 232.333,-132 235.167,-132 238,-134.833 238,-137.667 238,-137.667 238,-143.333 238,-143.333 238,-146.167 235.167,-149 232.333,-149\" fill=\"none\" stroke=\"black\"/>\n",
       "<text font-family=\"Courier,monospace\" font-size=\"10.00\" text-anchor=\"middle\" x=\"227.5\" y=\"-138\">1t</text>\n",
       "</g>\n",
       "<!-- 2&#45;&gt;3 -->\n",
       "<g class=\"edge\" id=\"edge2\"><title>2-&gt;3</title>\n",
       "<path d=\"M165.075,-137.905C176.971,-138.407 197.407,-139.271 211.417,-139.863\" fill=\"none\" stroke=\"black\"/>\n",
       "<polygon fill=\"black\" points=\"216.621,-140.083 211.53,-142.119 214.123,-139.977 211.625,-139.871 211.625,-139.871 211.625,-139.871 214.123,-139.977 211.72,-137.623 216.621,-140.083 216.621,-140.083\" stroke=\"black\"/>\n",
       "<text font-family=\"Courier,monospace\" font-size=\"9.00\" text-anchor=\"start\" x=\"186\" y=\"-144.3\">a</text>\n",
       "</g>\n",
       "<!-- 4 -->\n",
       "<g class=\"node\" id=\"node6\"><title>4</title>\n",
       "<path d=\"M304.333,-144C304.333,-144 294.667,-144 294.667,-144 291.833,-144 289,-141.167 289,-138.333 289,-138.333 289,-132.667 289,-132.667 289,-129.833 291.833,-127 294.667,-127 294.667,-127 304.333,-127 304.333,-127 307.167,-127 310,-129.833 310,-132.667 310,-132.667 310,-138.333 310,-138.333 310,-141.167 307.167,-144 304.333,-144\" fill=\"none\" stroke=\"black\"/>\n",
       "<text font-family=\"Courier,monospace\" font-size=\"10.00\" text-anchor=\"middle\" x=\"299.5\" y=\"-133\">2s</text>\n",
       "</g>\n",
       "<!-- 3&#45;&gt;4 -->\n",
       "<g class=\"edge\" id=\"edge3\"><title>3-&gt;4</title>\n",
       "<path d=\"M238.233,-139.805C250.04,-138.961 270.06,-137.531 283.761,-136.553\" fill=\"none\" stroke=\"black\"/>\n",
       "<polygon fill=\"black\" points=\"288.849,-136.189 284.023,-138.79 286.356,-136.367 283.862,-136.546 283.862,-136.546 283.862,-136.546 286.356,-136.367 283.702,-134.301 288.849,-136.189 288.849,-136.189\" stroke=\"black\"/>\n",
       "<text font-family=\"Courier,monospace\" font-size=\"9.00\" text-anchor=\"start\" x=\"263.5\" y=\"-143.3\">ε</text>\n",
       "</g>\n",
       "<!-- 5 -->\n",
       "<g class=\"node\" id=\"node7\"><title>5</title>\n",
       "<path d=\"M377.333,-123C377.333,-123 367.667,-123 367.667,-123 364.833,-123 362,-120.167 362,-117.333 362,-117.333 362,-111.667 362,-111.667 362,-108.833 364.833,-106 367.667,-106 367.667,-106 377.333,-106 377.333,-106 380.167,-106 383,-108.833 383,-111.667 383,-111.667 383,-117.333 383,-117.333 383,-120.167 380.167,-123 377.333,-123\" fill=\"none\" stroke=\"black\"/>\n",
       "<path d=\"M378.667,-127C378.667,-127 366.333,-127 366.333,-127 362.167,-127 358,-122.833 358,-118.667 358,-118.667 358,-110.333 358,-110.333 358,-106.167 362.167,-102 366.333,-102 366.333,-102 378.667,-102 378.667,-102 382.833,-102 387,-106.167 387,-110.333 387,-110.333 387,-118.667 387,-118.667 387,-122.833 382.833,-127 378.667,-127\" fill=\"none\" stroke=\"black\"/>\n",
       "<text font-family=\"Courier,monospace\" font-size=\"10.00\" text-anchor=\"middle\" x=\"372.5\" y=\"-112\">2t</text>\n",
       "</g>\n",
       "<!-- 4&#45;&gt;5 -->\n",
       "<g class=\"edge\" id=\"edge4\"><title>4-&gt;5</title>\n",
       "<path d=\"M310.075,-132.668C321.065,-129.417 339.344,-124.011 353.11,-119.939\" fill=\"none\" stroke=\"black\"/>\n",
       "<polygon fill=\"black\" points=\"357.956,-118.506 353.8,-122.082 355.559,-119.215 353.161,-119.924 353.161,-119.924 353.161,-119.924 355.559,-119.215 352.523,-117.767 357.956,-118.506 357.956,-118.506\" stroke=\"black\"/>\n",
       "<text font-family=\"Courier,monospace\" font-size=\"9.00\" text-anchor=\"start\" x=\"331\" y=\"-132.3\">b</text>\n",
       "</g>\n",
       "<!-- 5&#45;&gt;1 -->\n",
       "<g class=\"edge\" id=\"edge1\"><title>5-&gt;1</title>\n",
       "<path d=\"M357.855,-109.214C343.728,-104.224 320.906,-97.5 300.5,-97.5 153.5,-97.5 153.5,-97.5 153.5,-97.5 134.783,-97.5 114.541,-89.4382 101.479,-83.075\" fill=\"none\" stroke=\"black\"/>\n",
       "<polygon fill=\"black\" points=\"97.008,-80.8256 102.486,-81.0628 99.2413,-81.9492 101.475,-83.0727 101.475,-83.0727 101.475,-83.0727 99.2413,-81.9492 100.463,-85.0827 97.008,-80.8256 97.008,-80.8256\" stroke=\"black\"/>\n",
       "<text font-family=\"Courier,monospace\" font-size=\"9.00\" text-anchor=\"start\" x=\"225.5\" y=\"-103.3\">ε</text>\n",
       "</g>\n",
       "<!-- 7 -->\n",
       "<g class=\"node\" id=\"node9\"><title>7</title>\n",
       "<path d=\"M232.333,-41C232.333,-41 222.667,-41 222.667,-41 219.833,-41 217,-38.1667 217,-35.3333 217,-35.3333 217,-29.6667 217,-29.6667 217,-26.8333 219.833,-24 222.667,-24 222.667,-24 232.333,-24 232.333,-24 235.167,-24 238,-26.8333 238,-29.6667 238,-29.6667 238,-35.3333 238,-35.3333 238,-38.1667 235.167,-41 232.333,-41\" fill=\"none\" stroke=\"black\"/>\n",
       "<path d=\"M233.667,-45C233.667,-45 221.333,-45 221.333,-45 217.167,-45 213,-40.8333 213,-36.6667 213,-36.6667 213,-28.3333 213,-28.3333 213,-24.1667 217.167,-20 221.333,-20 221.333,-20 233.667,-20 233.667,-20 237.833,-20 242,-24.1667 242,-28.3333 242,-28.3333 242,-36.6667 242,-36.6667 242,-40.8333 237.833,-45 233.667,-45\" fill=\"none\" stroke=\"black\"/>\n",
       "<text font-family=\"Courier,monospace\" font-size=\"10.00\" text-anchor=\"middle\" x=\"227.5\" y=\"-30\">4t</text>\n",
       "</g>\n",
       "<!-- 6&#45;&gt;7 -->\n",
       "<g class=\"edge\" id=\"edge6\"><title>6-&gt;7</title>\n",
       "<path d=\"M165.075,-11.7367C176.065,-15.4517 194.344,-21.6303 208.11,-26.2837\" fill=\"none\" stroke=\"black\"/>\n",
       "<polygon fill=\"black\" points=\"212.956,-27.9218 207.499,-28.4521 210.588,-27.1212 208.219,-26.3206 208.219,-26.3206 208.219,-26.3206 210.588,-27.1212 208.94,-24.189 212.956,-27.9218 212.956,-27.9218\" stroke=\"black\"/>\n",
       "<text font-family=\"Courier,monospace\" font-size=\"9.00\" text-anchor=\"start\" x=\"186\" y=\"-27.3\">a</text>\n",
       "</g>\n",
       "<!-- 7&#45;&gt;1 -->\n",
       "<g class=\"edge\" id=\"edge5\"><title>7-&gt;1</title>\n",
       "<path d=\"M212.893,-36.7093C186.601,-44.8428 129.035,-62.6511 102.029,-71.0053\" fill=\"none\" stroke=\"black\"/>\n",
       "<polygon fill=\"black\" points=\"97.054,-72.5444 101.166,-68.9172 99.4424,-71.8056 101.831,-71.0667 101.831,-71.0667 101.831,-71.0667 99.4424,-71.8056 102.496,-73.2162 97.054,-72.5444 97.054,-72.5444\" stroke=\"black\"/>\n",
       "<text font-family=\"Courier,monospace\" font-size=\"9.00\" text-anchor=\"start\" x=\"152.5\" y=\"-64.3\">ε</text>\n",
       "</g>\n",
       "</g>\n",
       "</svg>"
      ],
      "text/plain": [
       "<IPython.core.display.SVG object>"
      ]
     },
     "metadata": {},
     "output_type": "display_data"
    }
   ],
   "source": [
    "to_graph(from_regexp(\"(a b|a)*\"))"
   ]
  },
  {
   "cell_type": "markdown",
   "metadata": {},
   "source": [
    "The Kleene star operation adds another extra state at the beginning, which has the suffix `i` (for \"iteration\", another name for the Kleene star)."
   ]
  }
 ],
 "metadata": {
  "kernelspec": {
   "display_name": "Python 2",
   "language": "python",
   "name": "python2"
  },
  "language_info": {
   "codemirror_mode": {
    "name": "ipython",
    "version": 2
   },
   "file_extension": ".py",
   "mimetype": "text/x-python",
   "name": "python",
   "nbconvert_exporter": "python",
   "pygments_lexer": "ipython2",
   "version": "2.7.10"
  }
 },
 "nbformat": 4,
 "nbformat_minor": 0
}
