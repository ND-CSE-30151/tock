{
 "cells": [
  {
   "cell_type": "code",
   "execution_count": 1,
   "metadata": {
    "collapsed": true
   },
   "outputs": [],
   "source": [
    "from tock import *"
   ]
  },
  {
   "cell_type": "markdown",
   "metadata": {},
   "source": [
    "# Turing machines\n",
    "\n",
    "Turing machines (TMs) have a finite state and an input, but the input is now a tape that the machine can move in either direction on and also write on. By default, TMs are deterministic. Although Sipser never actually writes the transition function of a TM as a table, it's a perfectly reasonable thing to do. However, we use a different notation for moves. The machine in Example 3.7 would be:"
   ]
  },
  {
   "cell_type": "code",
   "execution_count": 2,
   "metadata": {
    "collapsed": false
   },
   "outputs": [
    {
     "data": {
      "text/plain": [
       "(False, True)"
      ]
     },
     "execution_count": 2,
     "metadata": {},
     "output_type": "execute_result"
    }
   ],
   "source": [
    "m = read_csv(\"../examples/sipser-3-7.csv\")\n",
    "m.is_pushdown(), m.is_deterministic()"
   ]
  },
  {
   "cell_type": "code",
   "execution_count": 3,
   "metadata": {
    "collapsed": false
   },
   "outputs": [
    {
     "data": {
      "text/html": [
       "<table style=\"font-family: Courier, monospace;\">\n",
       "  <tr>\n",
       "    <th></th>\n",
       "    <th>0</th>\n",
       "    <th>_</th>\n",
       "    <th>x</th>\n",
       "  </tr>\n",
       "  <tr>\n",
       "    <th>&gt;q1</th>\n",
       "    <td>q2,_ ^</td>\n",
       "    <td>qreject,_ ^</td>\n",
       "    <td>qreject,x ^</td>\n",
       "  </tr>\n",
       "  <tr>\n",
       "    <th>q2</th>\n",
       "    <td>q3,x ^</td>\n",
       "    <td>qaccept,_ ^</td>\n",
       "    <td>q2,x ^</td>\n",
       "  </tr>\n",
       "  <tr>\n",
       "    <th>q3</th>\n",
       "    <td>q4,0 ^</td>\n",
       "    <td>q5,^ _</td>\n",
       "    <td>q3,x ^</td>\n",
       "  </tr>\n",
       "  <tr>\n",
       "    <th>q4</th>\n",
       "    <td>q3,x ^</td>\n",
       "    <td>qreject,_ ^</td>\n",
       "    <td>q4,x ^</td>\n",
       "  </tr>\n",
       "  <tr>\n",
       "    <th>q5</th>\n",
       "    <td>q5,^ 0</td>\n",
       "    <td>q2,_ ^</td>\n",
       "    <td>q5,^ x</td>\n",
       "  </tr>\n",
       "  <tr>\n",
       "    <th>@qaccept</th>\n",
       "    <td></td>\n",
       "    <td></td>\n",
       "    <td></td>\n",
       "  </tr>\n",
       "</table>"
      ],
      "text/plain": [
       "<tock.tables.Table at 0x10be5bc10>"
      ]
     },
     "execution_count": 3,
     "metadata": {},
     "output_type": "execute_result"
    }
   ],
   "source": [
    "to_table(m)"
   ]
  },
  {
   "cell_type": "markdown",
   "metadata": {},
   "source": [
    "As always, the first column lists the possible states, and the start state is marked with a `>` and the accept state is marked with a `@`.\n",
    "\n",
    "The first row lists possible tape symbols. Use `_` for the blank symbol.\n",
    "\n",
    "In the cells, Sipser uses `L` and `R` for moving left and right. We use a different notation: use `^` to indicate the head position. For example, if the machine is in state `q1` and the current tape symbol is `0`, then the machine changes to state `q2`, erases (writes `_`), and moves to the right. If the machine is in state `q5` and the current tape symbol is `0`, then the machine rewrites the `0` and moves left.\n",
    "\n",
    "In the second example (state `q5` and symbol `0`), Sipser would have allowed you to write just `R` for \"don't write anything and move right\". We don't allow this shorthand (sorry). Instead, you have to rewrite the same symbol that was read.\n",
    "\n",
    "Here's the state transition diagram, which might or might not be more intuitive:"
   ]
  },
  {
   "cell_type": "code",
   "execution_count": 4,
   "metadata": {
    "collapsed": false
   },
   "outputs": [
    {
     "data": {
      "image/svg+xml": [
       "<svg height=\"203pt\" viewBox=\"0.00 0.00 548.00 202.50\" width=\"548pt\" xmlns=\"http://www.w3.org/2000/svg\" xmlns:xlink=\"http://www.w3.org/1999/xlink\">\n",
       "<g class=\"graph\" id=\"graph0\" transform=\"scale(1 1) rotate(0) translate(4 198.5)\">\n",
       "<title>%3</title>\n",
       "<polygon fill=\"white\" points=\"-4,4 -4,-198.5 544,-198.5 544,4 -4,4\" stroke=\"none\"/>\n",
       "<!-- _START -->\n",
       "<g class=\"node\" id=\"node1\"><title>_START</title>\n",
       "</g>\n",
       "<!-- 0 -->\n",
       "<g class=\"node\" id=\"node2\"><title>0</title>\n",
       "<path d=\"M53.3333,-38.5C53.3333,-38.5 43.6667,-38.5 43.6667,-38.5 40.8333,-38.5 38,-35.6667 38,-32.8333 38,-32.8333 38,-27.1667 38,-27.1667 38,-24.3333 40.8333,-21.5 43.6667,-21.5 43.6667,-21.5 53.3333,-21.5 53.3333,-21.5 56.1667,-21.5 59,-24.3333 59,-27.1667 59,-27.1667 59,-32.8333 59,-32.8333 59,-35.6667 56.1667,-38.5 53.3333,-38.5\" fill=\"none\" stroke=\"black\"/>\n",
       "<text font-family=\"Courier,monospace\" font-size=\"10.00\" text-anchor=\"start\" x=\"42\" y=\"-27.5\">q1</text>\n",
       "</g>\n",
       "<!-- _START&#45;&gt;0 -->\n",
       "<g class=\"edge\" id=\"edge1\"><title>_START-&gt;0</title>\n",
       "<path d=\"M1.13339,-30C2.79277,-30 19.5956,-30 32.5011,-30\" fill=\"none\" stroke=\"black\"/>\n",
       "<polygon fill=\"black\" points=\"37.7379,-30 32.738,-32.2501 35.2379,-30 32.7379,-30.0001 32.7379,-30.0001 32.7379,-30.0001 35.2379,-30 32.7379,-27.7501 37.7379,-30 37.7379,-30\" stroke=\"black\"/>\n",
       "</g>\n",
       "<!-- 1 -->\n",
       "<g class=\"node\" id=\"node3\"><title>1</title>\n",
       "<path d=\"M154.333,-97.5C154.333,-97.5 144.667,-97.5 144.667,-97.5 141.833,-97.5 139,-94.6667 139,-91.8333 139,-91.8333 139,-86.1667 139,-86.1667 139,-83.3333 141.833,-80.5 144.667,-80.5 144.667,-80.5 154.333,-80.5 154.333,-80.5 157.167,-80.5 160,-83.3333 160,-86.1667 160,-86.1667 160,-91.8333 160,-91.8333 160,-94.6667 157.167,-97.5 154.333,-97.5\" fill=\"none\" stroke=\"black\"/>\n",
       "<text font-family=\"Courier,monospace\" font-size=\"10.00\" text-anchor=\"start\" x=\"143\" y=\"-86.5\">q2</text>\n",
       "</g>\n",
       "<!-- 0&#45;&gt;1 -->\n",
       "<g class=\"edge\" id=\"edge2\"><title>0-&gt;1</title>\n",
       "<path d=\"M59.3544,-35.8728C77.0129,-46.3966 114.097,-68.4973 134.428,-80.6139\" fill=\"none\" stroke=\"black\"/>\n",
       "<polygon fill=\"black\" points=\"138.977,-83.3244 133.53,-82.6975 136.829,-82.0446 134.681,-80.7647 134.681,-80.7647 134.681,-80.7647 136.829,-82.0446 135.833,-78.8319 138.977,-83.3244 138.977,-83.3244\" stroke=\"black\"/>\n",
       "<text font-family=\"Courier,monospace\" font-size=\"9.00\" text-anchor=\"start\" x=\"80\" y=\"-77.8\">0 → _ ^</text>\n",
       "</g>\n",
       "<!-- 6 -->\n",
       "<g class=\"node\" id=\"node8\"><title>6</title>\n",
       "<path d=\"M534.333,-53.5C534.333,-53.5 494.667,-53.5 494.667,-53.5 491.833,-53.5 489,-50.6667 489,-47.8333 489,-47.8333 489,-42.1667 489,-42.1667 489,-39.3333 491.833,-36.5 494.667,-36.5 494.667,-36.5 534.333,-36.5 534.333,-36.5 537.167,-36.5 540,-39.3333 540,-42.1667 540,-42.1667 540,-47.8333 540,-47.8333 540,-50.6667 537.167,-53.5 534.333,-53.5\" fill=\"none\" stroke=\"black\"/>\n",
       "<text font-family=\"Courier,monospace\" font-size=\"10.00\" text-anchor=\"start\" x=\"493\" y=\"-42.5\">qreject</text>\n",
       "</g>\n",
       "<!-- 0&#45;&gt;6 -->\n",
       "<g class=\"edge\" id=\"edge3\"><title>0-&gt;6</title>\n",
       "<path d=\"M59.0437,-25.0461C76.3721,-16.5253 114.377,-0 148.5,-0 148.5,-0 148.5,-0 395,-0 432.803,-0 473.23,-20.2621 495.737,-33.5937\" fill=\"none\" stroke=\"black\"/>\n",
       "<polygon fill=\"black\" points=\"500.261,-36.3235 494.817,-35.6665 498.12,-35.0318 495.98,-33.7401 495.98,-33.7401 495.98,-33.7401 498.12,-35.0318 497.143,-31.8137 500.261,-36.3235 500.261,-36.3235\" stroke=\"black\"/>\n",
       "<text font-family=\"Courier,monospace\" font-size=\"9.00\" text-anchor=\"start\" x=\"250.5\" y=\"-19.8\">x → x ^</text>\n",
       "<text font-family=\"Courier,monospace\" font-size=\"9.00\" text-anchor=\"start\" x=\"250.5\" y=\"-5.8\">_ → _ ^</text>\n",
       "</g>\n",
       "<!-- 1&#45;&gt;1 -->\n",
       "<g class=\"edge\" id=\"edge8\"><title>1-&gt;1</title>\n",
       "<path d=\"M142.05,-97.6857C137.935,-106.174 140.418,-115.5 149.5,-115.5 156.879,-115.5 159.902,-109.343 158.569,-102.482\" fill=\"none\" stroke=\"black\"/>\n",
       "<polygon fill=\"black\" points=\"156.95,-97.6857 160.681,-101.703 157.75,-100.054 158.549,-102.423 158.549,-102.423 158.549,-102.423 157.75,-100.054 156.417,-103.143 156.95,-97.6857 156.95,-97.6857\" stroke=\"black\"/>\n",
       "<text font-family=\"Courier,monospace\" font-size=\"9.00\" text-anchor=\"start\" x=\"130.5\" y=\"-121.3\">x → x ^</text>\n",
       "</g>\n",
       "<!-- 2 -->\n",
       "<g class=\"node\" id=\"node4\"><title>2</title>\n",
       "<path d=\"M274.333,-160.5C274.333,-160.5 264.667,-160.5 264.667,-160.5 261.833,-160.5 259,-157.667 259,-154.833 259,-154.833 259,-149.167 259,-149.167 259,-146.333 261.833,-143.5 264.667,-143.5 264.667,-143.5 274.333,-143.5 274.333,-143.5 277.167,-143.5 280,-146.333 280,-149.167 280,-149.167 280,-154.833 280,-154.833 280,-157.667 277.167,-160.5 274.333,-160.5\" fill=\"none\" stroke=\"black\"/>\n",
       "<text font-family=\"Courier,monospace\" font-size=\"10.00\" text-anchor=\"start\" x=\"263\" y=\"-149.5\">q3</text>\n",
       "</g>\n",
       "<!-- 1&#45;&gt;2 -->\n",
       "<g class=\"edge\" id=\"edge7\"><title>1-&gt;2</title>\n",
       "<path d=\"M155.263,-97.7224C160.028,-105.666 168.067,-117.169 178,-124 201.456,-140.132 234.567,-147.249 253.553,-150.168\" fill=\"none\" stroke=\"black\"/>\n",
       "<polygon fill=\"black\" points=\"258.966,-150.944 253.697,-152.461 256.491,-150.589 254.016,-150.234 254.016,-150.234 254.016,-150.234 256.491,-150.589 254.336,-148.007 258.966,-150.944 258.966,-150.944\" stroke=\"black\"/>\n",
       "<text font-family=\"Courier,monospace\" font-size=\"9.00\" text-anchor=\"start\" x=\"181\" y=\"-148.8\">0 → x ^</text>\n",
       "</g>\n",
       "<!-- 5 -->\n",
       "<g class=\"node\" id=\"node7\"><title>5</title>\n",
       "<path d=\"M289.333,-121.5C289.333,-121.5 249.667,-121.5 249.667,-121.5 246.833,-121.5 244,-118.667 244,-115.833 244,-115.833 244,-110.167 244,-110.167 244,-107.333 246.833,-104.5 249.667,-104.5 249.667,-104.5 289.333,-104.5 289.333,-104.5 292.167,-104.5 295,-107.333 295,-110.167 295,-110.167 295,-115.833 295,-115.833 295,-118.667 292.167,-121.5 289.333,-121.5\" fill=\"none\" stroke=\"black\"/>\n",
       "<path d=\"M290.667,-125.5C290.667,-125.5 248.333,-125.5 248.333,-125.5 244.167,-125.5 240,-121.333 240,-117.167 240,-117.167 240,-108.833 240,-108.833 240,-104.667 244.167,-100.5 248.333,-100.5 248.333,-100.5 290.667,-100.5 290.667,-100.5 294.833,-100.5 299,-104.667 299,-108.833 299,-108.833 299,-117.167 299,-117.167 299,-121.333 294.833,-125.5 290.667,-125.5\" fill=\"none\" stroke=\"black\"/>\n",
       "<text font-family=\"Courier,monospace\" font-size=\"10.00\" text-anchor=\"start\" x=\"248\" y=\"-110.5\">qaccept</text>\n",
       "</g>\n",
       "<!-- 1&#45;&gt;5 -->\n",
       "<g class=\"edge\" id=\"edge9\"><title>1-&gt;5</title>\n",
       "<path d=\"M160.156,-90.964C176.256,-94.2386 209.321,-100.964 234.712,-106.128\" fill=\"none\" stroke=\"black\"/>\n",
       "<polygon fill=\"black\" points=\"239.681,-107.139 234.333,-108.347 237.231,-106.64 234.781,-106.142 234.781,-106.142 234.781,-106.142 237.231,-106.64 235.23,-103.937 239.681,-107.139 239.681,-107.139\" stroke=\"black\"/>\n",
       "<text font-family=\"Courier,monospace\" font-size=\"9.00\" text-anchor=\"start\" x=\"181\" y=\"-109.8\">_ → _ ^</text>\n",
       "</g>\n",
       "<!-- 2&#45;&gt;2 -->\n",
       "<g class=\"edge\" id=\"edge4\"><title>2-&gt;2</title>\n",
       "<path d=\"M259.368,-160.686C253.771,-169.174 257.148,-178.5 269.5,-178.5 279.536,-178.5 283.647,-172.343 281.834,-165.482\" fill=\"none\" stroke=\"black\"/>\n",
       "<polygon fill=\"black\" points=\"279.632,-160.686 283.763,-164.291 280.675,-162.958 281.718,-165.23 281.718,-165.23 281.718,-165.23 280.675,-162.958 279.673,-166.168 279.632,-160.686 279.632,-160.686\" stroke=\"black\"/>\n",
       "<text font-family=\"Courier,monospace\" font-size=\"9.00\" text-anchor=\"start\" x=\"250.5\" y=\"-184.3\">x → x ^</text>\n",
       "</g>\n",
       "<!-- 3 -->\n",
       "<g class=\"node\" id=\"node5\"><title>3</title>\n",
       "<path d=\"M398.833,-157.5C398.833,-157.5 389.167,-157.5 389.167,-157.5 386.333,-157.5 383.5,-154.667 383.5,-151.833 383.5,-151.833 383.5,-146.167 383.5,-146.167 383.5,-143.333 386.333,-140.5 389.167,-140.5 389.167,-140.5 398.833,-140.5 398.833,-140.5 401.667,-140.5 404.5,-143.333 404.5,-146.167 404.5,-146.167 404.5,-151.833 404.5,-151.833 404.5,-154.667 401.667,-157.5 398.833,-157.5\" fill=\"none\" stroke=\"black\"/>\n",
       "<text font-family=\"Courier,monospace\" font-size=\"10.00\" text-anchor=\"start\" x=\"387.5\" y=\"-146.5\">q4</text>\n",
       "</g>\n",
       "<!-- 2&#45;&gt;3 -->\n",
       "<g class=\"edge\" id=\"edge6\"><title>2-&gt;3</title>\n",
       "<path d=\"M280.099,-155.206C296.72,-160.304 331.875,-169.092 361,-163 366.999,-161.745 373.248,-159.299 378.616,-156.798\" fill=\"none\" stroke=\"black\"/>\n",
       "<polygon fill=\"black\" points=\"383.264,-154.518 379.766,-158.74 381.02,-155.619 378.775,-156.72 378.775,-156.72 378.775,-156.72 381.02,-155.619 377.784,-154.7 383.264,-154.518 383.264,-154.518\" stroke=\"black\"/>\n",
       "<text font-family=\"Courier,monospace\" font-size=\"9.00\" text-anchor=\"start\" x=\"320\" y=\"-171.8\">0 → 0 ^</text>\n",
       "</g>\n",
       "<!-- 4 -->\n",
       "<g class=\"node\" id=\"node6\"><title>4</title>\n",
       "<path d=\"M398.833,-74.5C398.833,-74.5 389.167,-74.5 389.167,-74.5 386.333,-74.5 383.5,-71.6667 383.5,-68.8333 383.5,-68.8333 383.5,-63.1667 383.5,-63.1667 383.5,-60.3333 386.333,-57.5 389.167,-57.5 389.167,-57.5 398.833,-57.5 398.833,-57.5 401.667,-57.5 404.5,-60.3333 404.5,-63.1667 404.5,-63.1667 404.5,-68.8333 404.5,-68.8333 404.5,-71.6667 401.667,-74.5 398.833,-74.5\" fill=\"none\" stroke=\"black\"/>\n",
       "<text font-family=\"Courier,monospace\" font-size=\"10.00\" text-anchor=\"start\" x=\"387.5\" y=\"-63.5\">q5</text>\n",
       "</g>\n",
       "<!-- 2&#45;&gt;4 -->\n",
       "<g class=\"edge\" id=\"edge5\"><title>2-&gt;4</title>\n",
       "<path d=\"M280.097,-146.148C285.671,-142.697 292.796,-138.197 299,-134 327.913,-114.44 360.761,-90.1975 378.964,-76.5779\" fill=\"none\" stroke=\"black\"/>\n",
       "<polygon fill=\"black\" points=\"383.265,-73.3535 380.614,-78.153 381.265,-74.8531 379.265,-76.3527 379.265,-76.3527 379.265,-76.3527 381.265,-74.8531 377.915,-74.5524 383.265,-73.3535 383.265,-73.3535\" stroke=\"black\"/>\n",
       "<text font-family=\"Courier,monospace\" font-size=\"9.00\" text-anchor=\"start\" x=\"320\" y=\"-127.8\">_ → ^ _</text>\n",
       "</g>\n",
       "<!-- 3&#45;&gt;2 -->\n",
       "<g class=\"edge\" id=\"edge12\"><title>3-&gt;2</title>\n",
       "<path d=\"M383.263,-146.688C376.956,-145.312 368.542,-143.701 361,-143 341.528,-141.19 336.466,-141.133 317,-143 306.189,-144.037 294.156,-146.399 285.04,-148.444\" fill=\"none\" stroke=\"black\"/>\n",
       "<polygon fill=\"black\" points=\"280.04,-149.598 284.406,-146.281 282.476,-149.036 284.912,-148.473 284.912,-148.473 284.912,-148.473 282.476,-149.036 285.418,-150.665 280.04,-149.598 280.04,-149.598\" stroke=\"black\"/>\n",
       "<text font-family=\"Courier,monospace\" font-size=\"9.00\" text-anchor=\"start\" x=\"320\" y=\"-148.8\">0 → x ^</text>\n",
       "</g>\n",
       "<!-- 3&#45;&gt;3 -->\n",
       "<g class=\"edge\" id=\"edge13\"><title>3-&gt;3</title>\n",
       "<path d=\"M385.954,-157.686C381.509,-166.174 384.191,-175.5 394,-175.5 401.969,-175.5 405.234,-169.343 403.795,-162.482\" fill=\"none\" stroke=\"black\"/>\n",
       "<polygon fill=\"black\" points=\"402.046,-157.686 405.873,-161.613 402.902,-160.034 403.759,-162.383 403.759,-162.383 403.759,-162.383 402.902,-160.034 401.645,-163.154 402.046,-157.686 402.046,-157.686\" stroke=\"black\"/>\n",
       "<text font-family=\"Courier,monospace\" font-size=\"9.00\" text-anchor=\"start\" x=\"375\" y=\"-181.3\">x → x ^</text>\n",
       "</g>\n",
       "<!-- 3&#45;&gt;6 -->\n",
       "<g class=\"edge\" id=\"edge14\"><title>3-&gt;6</title>\n",
       "<path d=\"M404.697,-140.489C425.703,-122.054 475.465,-78.3808 499.725,-57.0896\" fill=\"none\" stroke=\"black\"/>\n",
       "<polygon fill=\"black\" points=\"503.669,-53.6284 501.395,-58.6176 501.79,-55.2774 499.911,-56.9265 499.911,-56.9265 499.911,-56.9265 501.79,-55.2774 498.426,-55.2354 503.669,-53.6284 503.669,-53.6284\" stroke=\"black\"/>\n",
       "<text font-family=\"Courier,monospace\" font-size=\"9.00\" text-anchor=\"start\" x=\"430\" y=\"-124.8\">_ → _ ^</text>\n",
       "</g>\n",
       "<!-- 4&#45;&gt;1 -->\n",
       "<g class=\"edge\" id=\"edge10\"><title>4-&gt;1</title>\n",
       "<path d=\"M383.307,-66.2459C359.082,-66.9307 293.971,-69.2051 240,-75 213.5,-77.8454 182.864,-83.0587 165.181,-86.258\" fill=\"none\" stroke=\"black\"/>\n",
       "<polygon fill=\"black\" points=\"160.128,-87.1814 164.642,-84.0691 162.587,-86.7319 165.046,-86.2825 165.046,-86.2825 165.046,-86.2825 162.587,-86.7319 165.451,-88.4958 160.128,-87.1814 160.128,-87.1814\" stroke=\"black\"/>\n",
       "<text font-family=\"Courier,monospace\" font-size=\"9.00\" text-anchor=\"start\" x=\"250.5\" y=\"-80.8\">_ → _ ^</text>\n",
       "</g>\n",
       "<!-- 4&#45;&gt;4 -->\n",
       "<g class=\"edge\" id=\"edge11\"><title>4-&gt;4</title>\n",
       "<path d=\"M385.954,-74.6857C381.509,-83.1739 384.191,-92.5 394,-92.5 401.969,-92.5 405.234,-86.3433 403.795,-79.4817\" fill=\"none\" stroke=\"black\"/>\n",
       "<polygon fill=\"black\" points=\"402.046,-74.6857 405.873,-78.6126 402.902,-77.0345 403.759,-79.3833 403.759,-79.3833 403.759,-79.3833 402.902,-77.0345 401.645,-80.1539 402.046,-74.6857 402.046,-74.6857\" stroke=\"black\"/>\n",
       "<text font-family=\"Courier,monospace\" font-size=\"9.00\" text-anchor=\"start\" x=\"375\" y=\"-112.3\">0 → ^ 0</text>\n",
       "<text font-family=\"Courier,monospace\" font-size=\"9.00\" text-anchor=\"start\" x=\"375\" y=\"-98.3\">x → ^ x</text>\n",
       "</g>\n",
       "</g>\n",
       "</svg>"
      ],
      "text/plain": [
       "<IPython.core.display.SVG object>"
      ]
     },
     "metadata": {},
     "output_type": "display_data"
    }
   ],
   "source": [
    "to_graph(m)"
   ]
  },
  {
   "cell_type": "markdown",
   "metadata": {},
   "source": [
    "Sipser allows a shorthand in which there are multiple symbols to the left of the arrow. For example, the transitions from `q5` to itself could be written `0,x -> L` for \"if the current symbol is either `0` or `x`, move left\". We don't allow this; instead, use two transitions.\n",
    "\n",
    "This machine recognizes the language $\\{\\texttt{0}^{2^n} \\mid n \\geq 0\\}$. Here's an example run:"
   ]
  },
  {
   "cell_type": "code",
   "execution_count": 5,
   "metadata": {
    "collapsed": false
   },
   "outputs": [
    {
     "data": {
      "image/svg+xml": [
       "<svg height=\"33pt\" viewBox=\"0.00 0.00 803.00 33.00\" width=\"803pt\" xmlns=\"http://www.w3.org/2000/svg\" xmlns:xlink=\"http://www.w3.org/1999/xlink\">\n",
       "<g class=\"graph\" id=\"graph0\" transform=\"scale(1 1) rotate(0) translate(4 29)\">\n",
       "<title>%3</title>\n",
       "<polygon fill=\"white\" points=\"-4,4 -4,-29 799,-29 799,4 -4,4\" stroke=\"none\"/>\n",
       "<!-- _START -->\n",
       "<g class=\"node\" id=\"node1\"><title>_START</title>\n",
       "</g>\n",
       "<!-- 0 -->\n",
       "<g class=\"node\" id=\"node2\"><title>0</title>\n",
       "<path d=\"M88.3333,-21C88.3333,-21 42.6667,-21 42.6667,-21 39.8333,-21 37,-18.1667 37,-15.3333 37,-15.3333 37,-9.66667 37,-9.66667 37,-6.83333 39.8333,-4 42.6667,-4 42.6667,-4 88.3333,-4 88.3333,-4 91.1667,-4 94,-6.83333 94,-9.66667 94,-9.66667 94,-15.3333 94,-15.3333 94,-18.1667 91.1667,-21 88.3333,-21\" fill=\"none\" stroke=\"black\"/>\n",
       "<text font-family=\"Courier,monospace\" font-size=\"10.00\" text-anchor=\"start\" x=\"41\" y=\"-10\">q1,[0] 0</text>\n",
       "</g>\n",
       "<!-- _START&#45;&gt;0 -->\n",
       "<g class=\"edge\" id=\"edge1\"><title>_START-&gt;0</title>\n",
       "<path d=\"M1.04602,-12.5C1.97054,-12.5 16.6749,-12.5 31.6945,-12.5\" fill=\"none\" stroke=\"black\"/>\n",
       "<polygon fill=\"black\" points=\"36.7808,-12.5 31.7808,-14.7501 34.2808,-12.5 31.7808,-12.5001 31.7808,-12.5001 31.7808,-12.5001 34.2808,-12.5 31.7807,-10.2501 36.7808,-12.5 36.7808,-12.5\" stroke=\"black\"/>\n",
       "</g>\n",
       "<!-- 1 -->\n",
       "<g class=\"node\" id=\"node3\"><title>1</title>\n",
       "<path d=\"M181.333,-21C181.333,-21 135.667,-21 135.667,-21 132.833,-21 130,-18.1667 130,-15.3333 130,-15.3333 130,-9.66667 130,-9.66667 130,-6.83333 132.833,-4 135.667,-4 135.667,-4 181.333,-4 181.333,-4 184.167,-4 187,-6.83333 187,-9.66667 187,-9.66667 187,-15.3333 187,-15.3333 187,-18.1667 184.167,-21 181.333,-21\" fill=\"none\" stroke=\"black\"/>\n",
       "<text font-family=\"Courier,monospace\" font-size=\"10.00\" text-anchor=\"start\" x=\"134\" y=\"-10\">q2,_ [0]</text>\n",
       "</g>\n",
       "<!-- 0&#45;&gt;1 -->\n",
       "<g class=\"edge\" id=\"edge2\"><title>0-&gt;1</title>\n",
       "<path d=\"M94.2975,-12.5C103.912,-12.5 114.775,-12.5 124.749,-12.5\" fill=\"none\" stroke=\"black\"/>\n",
       "<polygon fill=\"black\" points=\"129.873,-12.5 124.873,-14.7501 127.373,-12.5 124.873,-12.5001 124.873,-12.5001 124.873,-12.5001 127.373,-12.5 124.873,-10.2501 129.873,-12.5 129.873,-12.5\" stroke=\"black\"/>\n",
       "</g>\n",
       "<!-- 2 -->\n",
       "<g class=\"node\" id=\"node4\"><title>2</title>\n",
       "<path d=\"M274.333,-21C274.333,-21 228.667,-21 228.667,-21 225.833,-21 223,-18.1667 223,-15.3333 223,-15.3333 223,-9.66667 223,-9.66667 223,-6.83333 225.833,-4 228.667,-4 228.667,-4 274.333,-4 274.333,-4 277.167,-4 280,-6.83333 280,-9.66667 280,-9.66667 280,-15.3333 280,-15.3333 280,-18.1667 277.167,-21 274.333,-21\" fill=\"none\" stroke=\"black\"/>\n",
       "<text font-family=\"Courier,monospace\" font-size=\"10.00\" text-anchor=\"start\" x=\"227\" y=\"-10\">q3,_ x ^</text>\n",
       "</g>\n",
       "<!-- 1&#45;&gt;2 -->\n",
       "<g class=\"edge\" id=\"edge6\"><title>1-&gt;2</title>\n",
       "<path d=\"M187.297,-12.5C196.912,-12.5 207.775,-12.5 217.749,-12.5\" fill=\"none\" stroke=\"black\"/>\n",
       "<polygon fill=\"black\" points=\"222.873,-12.5 217.873,-14.7501 220.373,-12.5 217.873,-12.5001 217.873,-12.5001 217.873,-12.5001 220.373,-12.5 217.873,-10.2501 222.873,-12.5 222.873,-12.5\" stroke=\"black\"/>\n",
       "</g>\n",
       "<!-- 3 -->\n",
       "<g class=\"node\" id=\"node5\"><title>3</title>\n",
       "<path d=\"M367.333,-21C367.333,-21 321.667,-21 321.667,-21 318.833,-21 316,-18.1667 316,-15.3333 316,-15.3333 316,-9.66667 316,-9.66667 316,-6.83333 318.833,-4 321.667,-4 321.667,-4 367.333,-4 367.333,-4 370.167,-4 373,-6.83333 373,-9.66667 373,-9.66667 373,-15.3333 373,-15.3333 373,-18.1667 370.167,-21 367.333,-21\" fill=\"none\" stroke=\"black\"/>\n",
       "<text font-family=\"Courier,monospace\" font-size=\"10.00\" text-anchor=\"start\" x=\"320\" y=\"-10\">q5,_ [x]</text>\n",
       "</g>\n",
       "<!-- 2&#45;&gt;3 -->\n",
       "<g class=\"edge\" id=\"edge7\"><title>2-&gt;3</title>\n",
       "<path d=\"M280.297,-12.5C289.912,-12.5 300.775,-12.5 310.749,-12.5\" fill=\"none\" stroke=\"black\"/>\n",
       "<polygon fill=\"black\" points=\"315.873,-12.5 310.873,-14.7501 313.373,-12.5 310.873,-12.5001 310.873,-12.5001 310.873,-12.5001 313.373,-12.5 310.873,-10.2501 315.873,-12.5 315.873,-12.5\" stroke=\"black\"/>\n",
       "</g>\n",
       "<!-- 4 -->\n",
       "<g class=\"node\" id=\"node6\"><title>4</title>\n",
       "<path d=\"M460.333,-21C460.333,-21 414.667,-21 414.667,-21 411.833,-21 409,-18.1667 409,-15.3333 409,-15.3333 409,-9.66667 409,-9.66667 409,-6.83333 411.833,-4 414.667,-4 414.667,-4 460.333,-4 460.333,-4 463.167,-4 466,-6.83333 466,-9.66667 466,-9.66667 466,-15.3333 466,-15.3333 466,-18.1667 463.167,-21 460.333,-21\" fill=\"none\" stroke=\"black\"/>\n",
       "<text font-family=\"Courier,monospace\" font-size=\"10.00\" text-anchor=\"start\" x=\"413\" y=\"-10\">q5,[_] x</text>\n",
       "</g>\n",
       "<!-- 3&#45;&gt;4 -->\n",
       "<g class=\"edge\" id=\"edge5\"><title>3-&gt;4</title>\n",
       "<path d=\"M373.297,-12.5C382.912,-12.5 393.775,-12.5 403.749,-12.5\" fill=\"none\" stroke=\"black\"/>\n",
       "<polygon fill=\"black\" points=\"408.873,-12.5 403.873,-14.7501 406.373,-12.5 403.873,-12.5001 403.873,-12.5001 403.873,-12.5001 406.373,-12.5 403.873,-10.2501 408.873,-12.5 408.873,-12.5\" stroke=\"black\"/>\n",
       "</g>\n",
       "<!-- 5 -->\n",
       "<g class=\"node\" id=\"node7\"><title>5</title>\n",
       "<path d=\"M553.333,-21C553.333,-21 507.667,-21 507.667,-21 504.833,-21 502,-18.1667 502,-15.3333 502,-15.3333 502,-9.66667 502,-9.66667 502,-6.83333 504.833,-4 507.667,-4 507.667,-4 553.333,-4 553.333,-4 556.167,-4 559,-6.83333 559,-9.66667 559,-9.66667 559,-15.3333 559,-15.3333 559,-18.1667 556.167,-21 553.333,-21\" fill=\"none\" stroke=\"black\"/>\n",
       "<text font-family=\"Courier,monospace\" font-size=\"10.00\" text-anchor=\"start\" x=\"506\" y=\"-10\">q2,_ [x]</text>\n",
       "</g>\n",
       "<!-- 4&#45;&gt;5 -->\n",
       "<g class=\"edge\" id=\"edge8\"><title>4-&gt;5</title>\n",
       "<path d=\"M466.297,-12.5C475.912,-12.5 486.775,-12.5 496.749,-12.5\" fill=\"none\" stroke=\"black\"/>\n",
       "<polygon fill=\"black\" points=\"501.873,-12.5 496.873,-14.7501 499.373,-12.5 496.873,-12.5001 496.873,-12.5001 496.873,-12.5001 499.373,-12.5 496.873,-10.2501 501.873,-12.5 501.873,-12.5\" stroke=\"black\"/>\n",
       "</g>\n",
       "<!-- 6 -->\n",
       "<g class=\"node\" id=\"node8\"><title>6</title>\n",
       "<path d=\"M646.333,-21C646.333,-21 600.667,-21 600.667,-21 597.833,-21 595,-18.1667 595,-15.3333 595,-15.3333 595,-9.66667 595,-9.66667 595,-6.83333 597.833,-4 600.667,-4 600.667,-4 646.333,-4 646.333,-4 649.167,-4 652,-6.83333 652,-9.66667 652,-9.66667 652,-15.3333 652,-15.3333 652,-18.1667 649.167,-21 646.333,-21\" fill=\"none\" stroke=\"black\"/>\n",
       "<text font-family=\"Courier,monospace\" font-size=\"10.00\" text-anchor=\"start\" x=\"599\" y=\"-10\">q2,_ x ^</text>\n",
       "</g>\n",
       "<!-- 5&#45;&gt;6 -->\n",
       "<g class=\"edge\" id=\"edge4\"><title>5-&gt;6</title>\n",
       "<path d=\"M559.297,-12.5C568.912,-12.5 579.775,-12.5 589.749,-12.5\" fill=\"none\" stroke=\"black\"/>\n",
       "<polygon fill=\"black\" points=\"594.873,-12.5 589.873,-14.7501 592.373,-12.5 589.873,-12.5001 589.873,-12.5001 589.873,-12.5001 592.373,-12.5 589.873,-10.2501 594.873,-12.5 594.873,-12.5\" stroke=\"black\"/>\n",
       "</g>\n",
       "<!-- 7 -->\n",
       "<g class=\"node\" id=\"node9\"><title>7</title>\n",
       "<path d=\"M785.333,-21C785.333,-21 697.667,-21 697.667,-21 694.833,-21 692,-18.1667 692,-15.3333 692,-15.3333 692,-9.66667 692,-9.66667 692,-6.83333 694.833,-4 697.667,-4 697.667,-4 785.333,-4 785.333,-4 788.167,-4 791,-6.83333 791,-9.66667 791,-9.66667 791,-15.3333 791,-15.3333 791,-18.1667 788.167,-21 785.333,-21\" fill=\"none\" stroke=\"black\"/>\n",
       "<path d=\"M786.667,-25C786.667,-25 696.333,-25 696.333,-25 692.167,-25 688,-20.8333 688,-16.6667 688,-16.6667 688,-8.33333 688,-8.33333 688,-4.16667 692.167,-0 696.333,-0 696.333,-0 786.667,-0 786.667,-0 790.833,-0 795,-4.16667 795,-8.33333 795,-8.33333 795,-16.6667 795,-16.6667 795,-20.8333 790.833,-25 786.667,-25\" fill=\"none\" stroke=\"black\"/>\n",
       "<text font-family=\"Courier,monospace\" font-size=\"10.00\" text-anchor=\"start\" x=\"696\" y=\"-10\">qaccept,_ x _ ^</text>\n",
       "</g>\n",
       "<!-- 6&#45;&gt;7 -->\n",
       "<g class=\"edge\" id=\"edge3\"><title>6-&gt;7</title>\n",
       "<path d=\"M652.285,-12.5C661.501,-12.5 672.129,-12.5 682.747,-12.5\" fill=\"none\" stroke=\"black\"/>\n",
       "<polygon fill=\"black\" points=\"687.952,-12.5 682.952,-14.7501 685.452,-12.5 682.952,-12.5001 682.952,-12.5001 682.952,-12.5001 685.452,-12.5 682.952,-10.2501 687.952,-12.5 687.952,-12.5\" stroke=\"black\"/>\n",
       "</g>\n",
       "</g>\n",
       "</svg>"
      ],
      "text/plain": [
       "<IPython.core.display.SVG object>"
      ]
     },
     "metadata": {},
     "output_type": "display_data"
    }
   ],
   "source": [
    "run(m, \"0 0\")"
   ]
  },
  {
   "cell_type": "markdown",
   "metadata": {},
   "source": [
    "Each node shows both the state and the tape, with the head position indicated using square brackets. This run ended in the accept state (drawn as a double node), so the machine accepted the string."
   ]
  },
  {
   "cell_type": "code",
   "execution_count": 6,
   "metadata": {
    "collapsed": false
   },
   "outputs": [
    {
     "data": {
      "image/svg+xml": [
       "<svg height=\"25pt\" viewBox=\"0.00 0.00 576.00 25.00\" width=\"576pt\" xmlns=\"http://www.w3.org/2000/svg\" xmlns:xlink=\"http://www.w3.org/1999/xlink\">\n",
       "<g class=\"graph\" id=\"graph0\" transform=\"scale(1 1) rotate(0) translate(4 21)\">\n",
       "<title>%3</title>\n",
       "<polygon fill=\"white\" points=\"-4,4 -4,-21 572,-21 572,4 -4,4\" stroke=\"none\"/>\n",
       "<!-- _START -->\n",
       "<g class=\"node\" id=\"node1\"><title>_START</title>\n",
       "</g>\n",
       "<!-- 0 -->\n",
       "<g class=\"node\" id=\"node2\"><title>0</title>\n",
       "<path d=\"M100.333,-17C100.333,-17 42.6667,-17 42.6667,-17 39.8333,-17 37,-14.1667 37,-11.3333 37,-11.3333 37,-5.66667 37,-5.66667 37,-2.83333 39.8333,-0 42.6667,-0 42.6667,-0 100.333,-0 100.333,-0 103.167,-0 106,-2.83333 106,-5.66667 106,-5.66667 106,-11.3333 106,-11.3333 106,-14.1667 103.167,-17 100.333,-17\" fill=\"none\" stroke=\"black\"/>\n",
       "<text font-family=\"Courier,monospace\" font-size=\"10.00\" text-anchor=\"start\" x=\"41\" y=\"-6\">q1,[0] 0 0</text>\n",
       "</g>\n",
       "<!-- _START&#45;&gt;0 -->\n",
       "<g class=\"edge\" id=\"edge1\"><title>_START-&gt;0</title>\n",
       "<path d=\"M1.05037,-8.5C2.00316,-8.5 16.3278,-8.5 31.7214,-8.5\" fill=\"none\" stroke=\"black\"/>\n",
       "<polygon fill=\"black\" points=\"36.9651,-8.5 31.9651,-10.7501 34.4651,-8.50005 31.9651,-8.5001 31.9651,-8.5001 31.9651,-8.5001 34.4651,-8.50005 31.9651,-6.2501 36.9651,-8.5 36.9651,-8.5\" stroke=\"black\"/>\n",
       "</g>\n",
       "<!-- 1 -->\n",
       "<g class=\"node\" id=\"node3\"><title>1</title>\n",
       "<path d=\"M205.333,-17C205.333,-17 147.667,-17 147.667,-17 144.833,-17 142,-14.1667 142,-11.3333 142,-11.3333 142,-5.66667 142,-5.66667 142,-2.83333 144.833,-0 147.667,-0 147.667,-0 205.333,-0 205.333,-0 208.167,-0 211,-2.83333 211,-5.66667 211,-5.66667 211,-11.3333 211,-11.3333 211,-14.1667 208.167,-17 205.333,-17\" fill=\"none\" stroke=\"black\"/>\n",
       "<text font-family=\"Courier,monospace\" font-size=\"10.00\" text-anchor=\"start\" x=\"146\" y=\"-6\">q2,_ [0] 0</text>\n",
       "</g>\n",
       "<!-- 0&#45;&gt;1 -->\n",
       "<g class=\"edge\" id=\"edge2\"><title>0-&gt;1</title>\n",
       "<path d=\"M106.226,-8.5C115.919,-8.5 126.568,-8.5 136.549,-8.5\" fill=\"none\" stroke=\"black\"/>\n",
       "<polygon fill=\"black\" points=\"141.698,-8.5 136.698,-10.7501 139.198,-8.50005 136.698,-8.5001 136.698,-8.5001 136.698,-8.5001 139.198,-8.50005 136.698,-6.2501 141.698,-8.5 141.698,-8.5\" stroke=\"black\"/>\n",
       "</g>\n",
       "<!-- 2 -->\n",
       "<g class=\"node\" id=\"node4\"><title>2</title>\n",
       "<path d=\"M310.333,-17C310.333,-17 252.667,-17 252.667,-17 249.833,-17 247,-14.1667 247,-11.3333 247,-11.3333 247,-5.66667 247,-5.66667 247,-2.83333 249.833,-0 252.667,-0 252.667,-0 310.333,-0 310.333,-0 313.167,-0 316,-2.83333 316,-5.66667 316,-5.66667 316,-11.3333 316,-11.3333 316,-14.1667 313.167,-17 310.333,-17\" fill=\"none\" stroke=\"black\"/>\n",
       "<text font-family=\"Courier,monospace\" font-size=\"10.00\" text-anchor=\"start\" x=\"251\" y=\"-6\">q3,_ x [0]</text>\n",
       "</g>\n",
       "<!-- 1&#45;&gt;2 -->\n",
       "<g class=\"edge\" id=\"edge4\"><title>1-&gt;2</title>\n",
       "<path d=\"M211.226,-8.5C220.919,-8.5 231.568,-8.5 241.549,-8.5\" fill=\"none\" stroke=\"black\"/>\n",
       "<polygon fill=\"black\" points=\"246.698,-8.5 241.698,-10.7501 244.198,-8.50005 241.698,-8.5001 241.698,-8.5001 241.698,-8.5001 244.198,-8.50005 241.698,-6.2501 246.698,-8.5 246.698,-8.5\" stroke=\"black\"/>\n",
       "</g>\n",
       "<!-- 3 -->\n",
       "<g class=\"node\" id=\"node5\"><title>3</title>\n",
       "<path d=\"M415.333,-17C415.333,-17 357.667,-17 357.667,-17 354.833,-17 352,-14.1667 352,-11.3333 352,-11.3333 352,-5.66667 352,-5.66667 352,-2.83333 354.833,-0 357.667,-0 357.667,-0 415.333,-0 415.333,-0 418.167,-0 421,-2.83333 421,-5.66667 421,-5.66667 421,-11.3333 421,-11.3333 421,-14.1667 418.167,-17 415.333,-17\" fill=\"none\" stroke=\"black\"/>\n",
       "<text font-family=\"Courier,monospace\" font-size=\"10.00\" text-anchor=\"start\" x=\"356\" y=\"-6\">q4,_ x 0 ^</text>\n",
       "</g>\n",
       "<!-- 2&#45;&gt;3 -->\n",
       "<g class=\"edge\" id=\"edge3\"><title>2-&gt;3</title>\n",
       "<path d=\"M316.226,-8.5C325.919,-8.5 336.568,-8.5 346.549,-8.5\" fill=\"none\" stroke=\"black\"/>\n",
       "<polygon fill=\"black\" points=\"351.698,-8.5 346.698,-10.7501 349.198,-8.50005 346.698,-8.5001 346.698,-8.5001 346.698,-8.5001 349.198,-8.50005 346.698,-6.2501 351.698,-8.5 351.698,-8.5\" stroke=\"black\"/>\n",
       "</g>\n",
       "<!-- 4 -->\n",
       "<g class=\"node\" id=\"node6\"><title>4</title>\n",
       "<path d=\"M562.333,-17C562.333,-17 462.667,-17 462.667,-17 459.833,-17 457,-14.1667 457,-11.3333 457,-11.3333 457,-5.66667 457,-5.66667 457,-2.83333 459.833,-0 462.667,-0 462.667,-0 562.333,-0 562.333,-0 565.167,-0 568,-2.83333 568,-5.66667 568,-5.66667 568,-11.3333 568,-11.3333 568,-14.1667 565.167,-17 562.333,-17\" fill=\"none\" stroke=\"black\"/>\n",
       "<text font-family=\"Courier,monospace\" font-size=\"10.00\" text-anchor=\"start\" x=\"461\" y=\"-6\">qreject,_ x 0 _ ^</text>\n",
       "</g>\n",
       "<!-- 3&#45;&gt;4 -->\n",
       "<g class=\"edge\" id=\"edge5\"><title>3-&gt;4</title>\n",
       "<path d=\"M421.056,-8.5C430.549,-8.5 441.177,-8.5 451.719,-8.5\" fill=\"none\" stroke=\"black\"/>\n",
       "<polygon fill=\"black\" points=\"456.882,-8.5 451.882,-10.7501 454.382,-8.50005 451.882,-8.5001 451.882,-8.5001 451.882,-8.5001 454.382,-8.50005 451.882,-6.2501 456.882,-8.5 456.882,-8.5\" stroke=\"black\"/>\n",
       "</g>\n",
       "</g>\n",
       "</svg>"
      ],
      "text/plain": [
       "<IPython.core.display.SVG object>"
      ]
     },
     "metadata": {},
     "output_type": "display_data"
    }
   ],
   "source": [
    "run(m, \"0 0 0\")"
   ]
  },
  {
   "cell_type": "markdown",
   "metadata": {},
   "source": [
    "This run ended in the reject state, so the machine rejected the string."
   ]
  },
  {
   "cell_type": "markdown",
   "metadata": {},
   "source": [
    "It's possible, of course, for a run of a Turing machine to go on forever, so the `run` function will give up after a certain number of steps. You can control that limit using the `steps` option:"
   ]
  },
  {
   "cell_type": "code",
   "execution_count": 7,
   "metadata": {
    "collapsed": false
   },
   "outputs": [
    {
     "data": {
      "image/svg+xml": [
       "<svg height=\"25pt\" viewBox=\"0.00 0.00 1036.00 25.00\" width=\"1036pt\" xmlns=\"http://www.w3.org/2000/svg\" xmlns:xlink=\"http://www.w3.org/1999/xlink\">\n",
       "<g class=\"graph\" id=\"graph0\" transform=\"scale(1 1) rotate(0) translate(4 21)\">\n",
       "<title>%3</title>\n",
       "<polygon fill=\"white\" points=\"-4,4 -4,-21 1032,-21 1032,4 -4,4\" stroke=\"none\"/>\n",
       "<!-- _START -->\n",
       "<g class=\"node\" id=\"node1\"><title>_START</title>\n",
       "</g>\n",
       "<!-- 0 -->\n",
       "<g class=\"node\" id=\"node2\"><title>0</title>\n",
       "<path d=\"M160.333,-17C160.333,-17 42.6667,-17 42.6667,-17 39.8333,-17 37,-14.1667 37,-11.3333 37,-11.3333 37,-5.66667 37,-5.66667 37,-2.83333 39.8333,-0 42.6667,-0 42.6667,-0 160.333,-0 160.333,-0 163.167,-0 166,-2.83333 166,-5.66667 166,-5.66667 166,-11.3333 166,-11.3333 166,-14.1667 163.167,-17 160.333,-17\" fill=\"none\" stroke=\"black\"/>\n",
       "<text font-family=\"Courier,monospace\" font-size=\"10.00\" text-anchor=\"start\" x=\"41\" y=\"-6\">q1,[0] 0 0 0 0 0 0 0</text>\n",
       "</g>\n",
       "<!-- _START&#45;&gt;0 -->\n",
       "<g class=\"edge\" id=\"edge2\"><title>_START-&gt;0</title>\n",
       "<path d=\"M1.07212,-8.5C2.15472,-8.5 15.2961,-8.5 31.6908,-8.5\" fill=\"none\" stroke=\"black\"/>\n",
       "<polygon fill=\"black\" points=\"36.8734,-8.5 31.8735,-10.7501 34.3734,-8.50005 31.8734,-8.5001 31.8734,-8.5001 31.8734,-8.5001 34.3734,-8.50005 31.8734,-6.2501 36.8734,-8.5 36.8734,-8.5\" stroke=\"black\"/>\n",
       "</g>\n",
       "<!-- 1 -->\n",
       "<g class=\"node\" id=\"node3\"><title>1</title>\n",
       "<path d=\"M325.333,-17C325.333,-17 207.667,-17 207.667,-17 204.833,-17 202,-14.1667 202,-11.3333 202,-11.3333 202,-5.66667 202,-5.66667 202,-2.83333 204.833,-0 207.667,-0 207.667,-0 325.333,-0 325.333,-0 328.167,-0 331,-2.83333 331,-5.66667 331,-5.66667 331,-11.3333 331,-11.3333 331,-14.1667 328.167,-17 325.333,-17\" fill=\"none\" stroke=\"black\"/>\n",
       "<text font-family=\"Courier,monospace\" font-size=\"10.00\" text-anchor=\"start\" x=\"206\" y=\"-6\">q2,_ [0] 0 0 0 0 0 0</text>\n",
       "</g>\n",
       "<!-- 0&#45;&gt;1 -->\n",
       "<g class=\"edge\" id=\"edge7\"><title>0-&gt;1</title>\n",
       "<path d=\"M166.454,-8.5C176.404,-8.5 186.72,-8.5 196.77,-8.5\" fill=\"none\" stroke=\"black\"/>\n",
       "<polygon fill=\"black\" points=\"201.998,-8.5 196.998,-10.7501 199.498,-8.50005 196.998,-8.5001 196.998,-8.5001 196.998,-8.5001 199.498,-8.50005 196.998,-6.2501 201.998,-8.5 201.998,-8.5\" stroke=\"black\"/>\n",
       "</g>\n",
       "<!-- 2 -->\n",
       "<g class=\"node\" id=\"node4\"><title>2</title>\n",
       "<path d=\"M490.333,-17C490.333,-17 372.667,-17 372.667,-17 369.833,-17 367,-14.1667 367,-11.3333 367,-11.3333 367,-5.66667 367,-5.66667 367,-2.83333 369.833,-0 372.667,-0 372.667,-0 490.333,-0 490.333,-0 493.167,-0 496,-2.83333 496,-5.66667 496,-5.66667 496,-11.3333 496,-11.3333 496,-14.1667 493.167,-17 490.333,-17\" fill=\"none\" stroke=\"black\"/>\n",
       "<text font-family=\"Courier,monospace\" font-size=\"10.00\" text-anchor=\"start\" x=\"371\" y=\"-6\">q3,_ x [0] 0 0 0 0 0</text>\n",
       "</g>\n",
       "<!-- 1&#45;&gt;2 -->\n",
       "<g class=\"edge\" id=\"edge6\"><title>1-&gt;2</title>\n",
       "<path d=\"M331.454,-8.5C341.404,-8.5 351.72,-8.5 361.77,-8.5\" fill=\"none\" stroke=\"black\"/>\n",
       "<polygon fill=\"black\" points=\"366.998,-8.5 361.998,-10.7501 364.498,-8.50005 361.998,-8.5001 361.998,-8.5001 361.998,-8.5001 364.498,-8.50005 361.998,-6.2501 366.998,-8.5 366.998,-8.5\" stroke=\"black\"/>\n",
       "</g>\n",
       "<!-- 3 -->\n",
       "<g class=\"node\" id=\"node5\"><title>3</title>\n",
       "<path d=\"M655.333,-17C655.333,-17 537.667,-17 537.667,-17 534.833,-17 532,-14.1667 532,-11.3333 532,-11.3333 532,-5.66667 532,-5.66667 532,-2.83333 534.833,-0 537.667,-0 537.667,-0 655.333,-0 655.333,-0 658.167,-0 661,-2.83333 661,-5.66667 661,-5.66667 661,-11.3333 661,-11.3333 661,-14.1667 658.167,-17 655.333,-17\" fill=\"none\" stroke=\"black\"/>\n",
       "<text font-family=\"Courier,monospace\" font-size=\"10.00\" text-anchor=\"start\" x=\"536\" y=\"-6\">q4,_ x 0 [0] 0 0 0 0</text>\n",
       "</g>\n",
       "<!-- 2&#45;&gt;3 -->\n",
       "<g class=\"edge\" id=\"edge4\"><title>2-&gt;3</title>\n",
       "<path d=\"M496.454,-8.5C506.404,-8.5 516.72,-8.5 526.77,-8.5\" fill=\"none\" stroke=\"black\"/>\n",
       "<polygon fill=\"black\" points=\"531.998,-8.5 526.998,-10.7501 529.498,-8.50005 526.998,-8.5001 526.998,-8.5001 526.998,-8.5001 529.498,-8.50005 526.998,-6.2501 531.998,-8.5 531.998,-8.5\" stroke=\"black\"/>\n",
       "</g>\n",
       "<!-- 4 -->\n",
       "<g class=\"node\" id=\"node6\"><title>4</title>\n",
       "<path d=\"M820.333,-17C820.333,-17 702.667,-17 702.667,-17 699.833,-17 697,-14.1667 697,-11.3333 697,-11.3333 697,-5.66667 697,-5.66667 697,-2.83333 699.833,-0 702.667,-0 702.667,-0 820.333,-0 820.333,-0 823.167,-0 826,-2.83333 826,-5.66667 826,-5.66667 826,-11.3333 826,-11.3333 826,-14.1667 823.167,-17 820.333,-17\" fill=\"none\" stroke=\"black\"/>\n",
       "<text font-family=\"Courier,monospace\" font-size=\"10.00\" text-anchor=\"start\" x=\"701\" y=\"-6\">q3,_ x 0 x [0] 0 0 0</text>\n",
       "</g>\n",
       "<!-- 3&#45;&gt;4 -->\n",
       "<g class=\"edge\" id=\"edge3\"><title>3-&gt;4</title>\n",
       "<path d=\"M661.454,-8.5C671.404,-8.5 681.72,-8.5 691.77,-8.5\" fill=\"none\" stroke=\"black\"/>\n",
       "<polygon fill=\"black\" points=\"696.998,-8.5 691.998,-10.7501 694.498,-8.50005 691.998,-8.5001 691.998,-8.5001 691.998,-8.5001 694.498,-8.50005 691.998,-6.2501 696.998,-8.5 696.998,-8.5\" stroke=\"black\"/>\n",
       "</g>\n",
       "<!-- 5 -->\n",
       "<g class=\"node\" id=\"node7\"><title>5</title>\n",
       "<path d=\"M985.333,-17C985.333,-17 867.667,-17 867.667,-17 864.833,-17 862,-14.1667 862,-11.3333 862,-11.3333 862,-5.66667 862,-5.66667 862,-2.83333 864.833,-0 867.667,-0 867.667,-0 985.333,-0 985.333,-0 988.167,-0 991,-2.83333 991,-5.66667 991,-5.66667 991,-11.3333 991,-11.3333 991,-14.1667 988.167,-17 985.333,-17\" fill=\"none\" stroke=\"black\"/>\n",
       "<text font-family=\"Courier,monospace\" font-size=\"10.00\" text-anchor=\"start\" x=\"866\" y=\"-6\">q4,_ x 0 x 0 [0] 0 0</text>\n",
       "</g>\n",
       "<!-- 4&#45;&gt;5 -->\n",
       "<g class=\"edge\" id=\"edge5\"><title>4-&gt;5</title>\n",
       "<path d=\"M826.454,-8.5C836.404,-8.5 846.72,-8.5 856.77,-8.5\" fill=\"none\" stroke=\"black\"/>\n",
       "<polygon fill=\"black\" points=\"861.998,-8.5 856.998,-10.7501 859.498,-8.50005 856.998,-8.5001 856.998,-8.5001 856.998,-8.5001 859.498,-8.50005 856.998,-6.2501 861.998,-8.5 861.998,-8.5\" stroke=\"black\"/>\n",
       "</g>\n",
       "<!-- _DOTS_5 -->\n",
       "<g class=\"node\" id=\"node8\"><title>_DOTS_5</title>\n",
       "</g>\n",
       "<!-- 5&#45;&gt;_DOTS_5 -->\n",
       "<g class=\"edge\" id=\"edge1\"><title>5-&gt;_DOTS_5</title>\n",
       "<path d=\"M991.078,-8.5C1009.97,-8.5 1025.97,-8.5 1026.95,-8.5\" fill=\"none\" stroke=\"black\" stroke-dasharray=\"1,5\"/>\n",
       "</g>\n",
       "</g>\n",
       "</svg>"
      ],
      "text/plain": [
       "<IPython.core.display.SVG object>"
      ]
     },
     "metadata": {},
     "output_type": "display_data"
    }
   ],
   "source": [
    "run(m, \"0 0 0 0 0 0 0 0\", steps=5)"
   ]
  },
  {
   "cell_type": "markdown",
   "metadata": {},
   "source": [
    "The dotted edge indicates that the run continues but is not shown. Be careful -- in this case you don't know whether the machine would eventually accept the string."
   ]
  }
 ],
 "metadata": {
  "kernelspec": {
   "display_name": "Python 2",
   "language": "python",
   "name": "python2"
  },
  "language_info": {
   "codemirror_mode": {
    "name": "ipython",
    "version": 2
   },
   "file_extension": ".py",
   "mimetype": "text/x-python",
   "name": "python",
   "nbconvert_exporter": "python",
   "pygments_lexer": "ipython2",
   "version": "2.7.10"
  }
 },
 "nbformat": 4,
 "nbformat_minor": 0
}
