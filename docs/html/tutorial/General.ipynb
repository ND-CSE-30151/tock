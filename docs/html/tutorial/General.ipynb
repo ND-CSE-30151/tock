{
 "cells": [
  {
   "cell_type": "markdown",
   "metadata": {},
   "source": [
    "# More general machines"
   ]
  },
  {
   "cell_type": "code",
   "execution_count": 1,
   "metadata": {},
   "outputs": [],
   "source": [
    "from tock import *"
   ]
  },
  {
   "cell_type": "markdown",
   "metadata": {},
   "source": [
    "We've seen finite automata, pushdown automata, and Turing machines, but many other kinds of automata can be created by instantiating a `Machine` directly."
   ]
  },
  {
   "cell_type": "code",
   "execution_count": 2,
   "metadata": {},
   "outputs": [],
   "source": [
    "m1 = Machine([BASE, BASE, BASE, BASE], state=0, input=1)"
   ]
  },
  {
   "cell_type": "markdown",
   "metadata": {},
   "source": [
    "The first argument is required. This machine has four stores, all of type `BASE` (to be explained below).\n",
    "\n",
    "The argument `state=0` means that store 0 is the state. It's this store that is used to define the start and accept conditions, and this store that is used to define the nodes in a state transition diagram.\n",
    "\n",
    "The argument `input=1` is required and means that store 1 is the input. When the automaton is run, the input string will be placed on this store.\n",
    "\n",
    "As with other kinds of machines, you can define a start state, transitions, and accept states using `set_start_state`, `add_transition`, and `add_accept_state`."
   ]
  },
  {
   "cell_type": "code",
   "execution_count": 3,
   "metadata": {},
   "outputs": [
    {
     "data": {
      "image/svg+xml": [
       "<svg xmlns=\"http://www.w3.org/2000/svg\" xmlns:xlink=\"http://www.w3.org/1999/xlink\" width=\"661pt\" height=\"77pt\" viewBox=\"0.00 0.00 661.00 77.00\">\n",
       "<g id=\"graph0\" class=\"graph\" transform=\"scale(1 1) rotate(0) translate(4 73)\">\n",
       "<title>%3</title>\n",
       "<polygon fill=\"white\" stroke=\"transparent\" points=\"-4,4 -4,-73 657,-73 657,4 -4,4\"/>\n",
       "<!-- _START -->\n",
       "<g id=\"node1\" class=\"node\">\n",
       "<title>_START</title>\n",
       "</g>\n",
       "<!-- 0 -->\n",
       "<g id=\"node2\" class=\"node\">\n",
       "<title>0</title>\n",
       "<path fill=\"none\" stroke=\"black\" d=\"M53.33,-21C53.33,-21 43.67,-21 43.67,-21 40.83,-21 38,-18.17 38,-15.33 38,-15.33 38,-9.67 38,-9.67 38,-6.83 40.83,-4 43.67,-4 43.67,-4 53.33,-4 53.33,-4 56.17,-4 59,-6.83 59,-9.67 59,-9.67 59,-15.33 59,-15.33 59,-18.17 56.17,-21 53.33,-21\"/>\n",
       "<text text-anchor=\"start\" x=\"42\" y=\"-10\" font-family=\"Courier,monospace\" font-size=\"10.00\">q1</text>\n",
       "</g>\n",
       "<!-- _START&#45;&gt;0 -->\n",
       "<g id=\"edge1\" class=\"edge\">\n",
       "<title>_START-&gt;0</title>\n",
       "<path fill=\"none\" stroke=\"black\" d=\"M1.13,-12.5C2.79,-12.5 19.6,-12.5 32.5,-12.5\"/>\n",
       "<polygon fill=\"black\" stroke=\"black\" points=\"37.74,-12.5 32.74,-14.75 35.24,-12.5 32.74,-12.5 32.74,-12.5 32.74,-12.5 35.24,-12.5 32.74,-10.25 37.74,-12.5 37.74,-12.5\"/>\n",
       "</g>\n",
       "<!-- 2 -->\n",
       "<g id=\"node4\" class=\"node\">\n",
       "<title>2</title>\n",
       "<path fill=\"none\" stroke=\"black\" d=\"M189.83,-21C189.83,-21 180.17,-21 180.17,-21 177.33,-21 174.5,-18.17 174.5,-15.33 174.5,-15.33 174.5,-9.67 174.5,-9.67 174.5,-6.83 177.33,-4 180.17,-4 180.17,-4 189.83,-4 189.83,-4 192.67,-4 195.5,-6.83 195.5,-9.67 195.5,-9.67 195.5,-15.33 195.5,-15.33 195.5,-18.17 192.67,-21 189.83,-21\"/>\n",
       "<text text-anchor=\"start\" x=\"178.5\" y=\"-10\" font-family=\"Courier,monospace\" font-size=\"10.00\">q2</text>\n",
       "</g>\n",
       "<!-- 0&#45;&gt;2 -->\n",
       "<g id=\"edge2\" class=\"edge\">\n",
       "<title>0-&gt;2</title>\n",
       "<path fill=\"none\" stroke=\"black\" d=\"M59.17,-12.5C82.44,-12.5 141.64,-12.5 169.32,-12.5\"/>\n",
       "<polygon fill=\"black\" stroke=\"black\" points=\"174.41,-12.5 169.41,-14.75 171.91,-12.5 169.41,-12.5 169.41,-12.5 169.41,-12.5 171.91,-12.5 169.41,-10.25 174.41,-12.5 174.41,-12.5\"/>\n",
       "<text text-anchor=\"start\" x=\"80.5\" y=\"-18.3\" font-family=\"Courier,monospace\" font-size=\"9.00\">ε,ε,ε → ε,$,$</text>\n",
       "</g>\n",
       "<!-- 1 -->\n",
       "<g id=\"node3\" class=\"node\">\n",
       "<title>1</title>\n",
       "<path fill=\"none\" stroke=\"black\" d=\"M643.33,-21C643.33,-21 633.67,-21 633.67,-21 630.83,-21 628,-18.17 628,-15.33 628,-15.33 628,-9.67 628,-9.67 628,-6.83 630.83,-4 633.67,-4 633.67,-4 643.33,-4 643.33,-4 646.17,-4 649,-6.83 649,-9.67 649,-9.67 649,-15.33 649,-15.33 649,-18.17 646.17,-21 643.33,-21\"/>\n",
       "<path fill=\"none\" stroke=\"black\" d=\"M644.67,-25C644.67,-25 632.33,-25 632.33,-25 628.17,-25 624,-20.83 624,-16.67 624,-16.67 624,-8.33 624,-8.33 624,-4.17 628.17,0 632.33,0 632.33,0 644.67,0 644.67,0 648.83,0 653,-4.17 653,-8.33 653,-8.33 653,-16.67 653,-16.67 653,-20.83 648.83,-25 644.67,-25\"/>\n",
       "<text text-anchor=\"start\" x=\"632\" y=\"-10\" font-family=\"Courier,monospace\" font-size=\"10.00\">q5</text>\n",
       "</g>\n",
       "<!-- 2&#45;&gt;2 -->\n",
       "<g id=\"edge3\" class=\"edge\">\n",
       "<title>2-&gt;2</title>\n",
       "<path fill=\"none\" stroke=\"black\" d=\"M174.57,-21.19C168.81,-29.67 172.29,-39 185,-39 195.33,-39 199.56,-32.84 197.7,-25.98\"/>\n",
       "<polygon fill=\"black\" stroke=\"black\" points=\"195.43,-21.19 199.6,-24.74 196.5,-23.45 197.57,-25.71 197.57,-25.71 197.57,-25.71 196.5,-23.45 195.53,-26.67 195.43,-21.19 195.43,-21.19\"/>\n",
       "<text text-anchor=\"start\" x=\"151\" y=\"-58.8\" font-family=\"Courier,monospace\" font-size=\"9.00\">a,ε,ε → ε,a,ε</text>\n",
       "<text text-anchor=\"start\" x=\"151\" y=\"-44.8\" font-family=\"Courier,monospace\" font-size=\"9.00\">b,ε,ε → ε,b,ε</text>\n",
       "</g>\n",
       "<!-- 3 -->\n",
       "<g id=\"node5\" class=\"node\">\n",
       "<title>3</title>\n",
       "<path fill=\"none\" stroke=\"black\" d=\"M361.83,-21C361.83,-21 352.17,-21 352.17,-21 349.33,-21 346.5,-18.17 346.5,-15.33 346.5,-15.33 346.5,-9.67 346.5,-9.67 346.5,-6.83 349.33,-4 352.17,-4 352.17,-4 361.83,-4 361.83,-4 364.67,-4 367.5,-6.83 367.5,-9.67 367.5,-9.67 367.5,-15.33 367.5,-15.33 367.5,-18.17 364.67,-21 361.83,-21\"/>\n",
       "<text text-anchor=\"start\" x=\"350.5\" y=\"-10\" font-family=\"Courier,monospace\" font-size=\"10.00\">q3</text>\n",
       "</g>\n",
       "<!-- 2&#45;&gt;3 -->\n",
       "<g id=\"edge4\" class=\"edge\">\n",
       "<title>2-&gt;3</title>\n",
       "<path fill=\"none\" stroke=\"black\" d=\"M195.63,-12.5C223.91,-12.5 306.91,-12.5 341.06,-12.5\"/>\n",
       "<polygon fill=\"black\" stroke=\"black\" points=\"346.48,-12.5 341.48,-14.75 343.98,-12.5 341.48,-12.5 341.48,-12.5 341.48,-12.5 343.98,-12.5 341.48,-10.25 346.48,-12.5 346.48,-12.5\"/>\n",
       "<text text-anchor=\"start\" x=\"221\" y=\"-18.3\" font-family=\"Courier,monospace\" font-size=\"9.00\">[#] # #,ε,ε → ε,ε,ε</text>\n",
       "</g>\n",
       "<!-- 3&#45;&gt;3 -->\n",
       "<g id=\"edge5\" class=\"edge\">\n",
       "<title>3-&gt;3</title>\n",
       "<path fill=\"none\" stroke=\"black\" d=\"M346.57,-21.19C340.81,-29.67 344.29,-39 357,-39 367.33,-39 371.56,-32.84 369.7,-25.98\"/>\n",
       "<polygon fill=\"black\" stroke=\"black\" points=\"367.43,-21.19 371.6,-24.74 368.5,-23.45 369.57,-25.71 369.57,-25.71 369.57,-25.71 368.5,-23.45 367.53,-26.67 367.43,-21.19 367.43,-21.19\"/>\n",
       "<text text-anchor=\"start\" x=\"323\" y=\"-58.8\" font-family=\"Courier,monospace\" font-size=\"9.00\">ε,a,ε → ε,ε,a</text>\n",
       "<text text-anchor=\"start\" x=\"323\" y=\"-44.8\" font-family=\"Courier,monospace\" font-size=\"9.00\">ε,b,ε → ε,ε,b</text>\n",
       "</g>\n",
       "<!-- 4 -->\n",
       "<g id=\"node6\" class=\"node\">\n",
       "<title>4</title>\n",
       "<path fill=\"none\" stroke=\"black\" d=\"M502.83,-21C502.83,-21 493.17,-21 493.17,-21 490.33,-21 487.5,-18.17 487.5,-15.33 487.5,-15.33 487.5,-9.67 487.5,-9.67 487.5,-6.83 490.33,-4 493.17,-4 493.17,-4 502.83,-4 502.83,-4 505.67,-4 508.5,-6.83 508.5,-9.67 508.5,-9.67 508.5,-15.33 508.5,-15.33 508.5,-18.17 505.67,-21 502.83,-21\"/>\n",
       "<text text-anchor=\"start\" x=\"491.5\" y=\"-10\" font-family=\"Courier,monospace\" font-size=\"10.00\">q4</text>\n",
       "</g>\n",
       "<!-- 3&#45;&gt;4 -->\n",
       "<g id=\"edge6\" class=\"edge\">\n",
       "<title>3-&gt;4</title>\n",
       "<path fill=\"none\" stroke=\"black\" d=\"M367.55,-12.5C391.36,-12.5 453.46,-12.5 482.12,-12.5\"/>\n",
       "<polygon fill=\"black\" stroke=\"black\" points=\"487.38,-12.5 482.38,-14.75 484.88,-12.5 482.38,-12.5 482.38,-12.5 482.38,-12.5 484.88,-12.5 482.38,-10.25 487.38,-12.5 487.38,-12.5\"/>\n",
       "<text text-anchor=\"start\" x=\"393.5\" y=\"-18.3\" font-family=\"Courier,monospace\" font-size=\"9.00\">ε,$,ε → ε,ε,ε</text>\n",
       "</g>\n",
       "<!-- 4&#45;&gt;1 -->\n",
       "<g id=\"edge8\" class=\"edge\">\n",
       "<title>4-&gt;1</title>\n",
       "<path fill=\"none\" stroke=\"black\" d=\"M508.52,-12.5C531.19,-12.5 588.7,-12.5 618.68,-12.5\"/>\n",
       "<polygon fill=\"black\" stroke=\"black\" points=\"623.94,-12.5 618.94,-14.75 621.44,-12.5 618.94,-12.5 618.94,-12.5 618.94,-12.5 621.44,-12.5 618.94,-10.25 623.94,-12.5 623.94,-12.5\"/>\n",
       "<text text-anchor=\"start\" x=\"534.5\" y=\"-18.3\" font-family=\"Courier,monospace\" font-size=\"9.00\">␣,ε,$ → ε,ε,ε</text>\n",
       "</g>\n",
       "<!-- 4&#45;&gt;4 -->\n",
       "<g id=\"edge7\" class=\"edge\">\n",
       "<title>4-&gt;4</title>\n",
       "<path fill=\"none\" stroke=\"black\" d=\"M487.57,-21.19C481.81,-29.67 485.29,-39 498,-39 508.33,-39 512.56,-32.84 510.7,-25.98\"/>\n",
       "<polygon fill=\"black\" stroke=\"black\" points=\"508.43,-21.19 512.6,-24.74 509.5,-23.45 510.57,-25.71 510.57,-25.71 510.57,-25.71 509.5,-23.45 508.53,-26.67 508.43,-21.19 508.43,-21.19\"/>\n",
       "<text text-anchor=\"start\" x=\"464\" y=\"-58.8\" font-family=\"Courier,monospace\" font-size=\"9.00\">a,ε,a → ε,ε,ε</text>\n",
       "<text text-anchor=\"start\" x=\"464\" y=\"-44.8\" font-family=\"Courier,monospace\" font-size=\"9.00\">b,ε,b → ε,ε,ε</text>\n",
       "</g>\n",
       "</g>\n",
       "</svg>"
      ],
      "text/plain": [
       "<IPython.core.display.SVG object>"
      ]
     },
     "metadata": {},
     "output_type": "display_data"
    }
   ],
   "source": [
    "m1.set_start_state('q1')\n",
    "m1.add_transition('q1, &, &, & -> q2, &, $, $')\n",
    "m1.add_transition('q2, a, &, & -> q2, &, a, &')\n",
    "m1.add_transition('q2, b, &, & -> q2, &, b, &')\n",
    "m1.add_transition('q2, # # #, &, & -> q3, &, &, &')\n",
    "m1.add_transition('q3, &, a, & -> q3, &, &, a')\n",
    "m1.add_transition('q3, &, b, & -> q3, &, &, b')\n",
    "m1.add_transition('q3, &, $, & -> q4, &, &, &')\n",
    "m1.add_transition('q4, a, &, a -> q4, &, &, &')\n",
    "m1.add_transition('q4, b, &, b -> q4, &, &, &')\n",
    "m1.add_transition('q4, _, &, $ -> q5, &, &, &')\n",
    "m1.add_accept_state('q5')\n",
    "m1"
   ]
  },
  {
   "cell_type": "code",
   "execution_count": 4,
   "metadata": {},
   "outputs": [
    {
     "data": {
      "text/html": [
       "<table style=\"font-family: Courier, monospace;\">\n",
       "  <tr><td style=\"text-align: left\">q1</td><td style=\"text-align: left\">[a] a b # # # a a b</td><td style=\"text-align: left\">ε</td><td style=\"text-align: left\">ε</td></tr>\n",
       "  <tr><td style=\"text-align: left\">q2</td><td style=\"text-align: left\">[a] a b # # # a a b</td><td style=\"text-align: left\">$</td><td style=\"text-align: left\">$</td></tr>\n",
       "  <tr><td style=\"text-align: left\">q2</td><td style=\"text-align: left\">[a] b # # # a a b</td><td style=\"text-align: left\">[a] $</td><td style=\"text-align: left\">$</td></tr>\n",
       "  <tr><td style=\"text-align: left\">q2</td><td style=\"text-align: left\">[b] # # # a a b</td><td style=\"text-align: left\">[a] a $</td><td style=\"text-align: left\">$</td></tr>\n",
       "  <tr><td style=\"text-align: left\">q2</td><td style=\"text-align: left\">[#] # # a a b</td><td style=\"text-align: left\">[b] a a $</td><td style=\"text-align: left\">$</td></tr>\n",
       "  <tr><td style=\"text-align: left\">q3</td><td style=\"text-align: left\">[a] a b</td><td style=\"text-align: left\">[b] a a $</td><td style=\"text-align: left\">$</td></tr>\n",
       "  <tr><td style=\"text-align: left\">q3</td><td style=\"text-align: left\">[a] a b</td><td style=\"text-align: left\">[a] a $</td><td style=\"text-align: left\">[b] $</td></tr>\n",
       "  <tr><td style=\"text-align: left\">q3</td><td style=\"text-align: left\">[a] a b</td><td style=\"text-align: left\">[a] $</td><td style=\"text-align: left\">[a] b $</td></tr>\n",
       "  <tr><td style=\"text-align: left\">q3</td><td style=\"text-align: left\">[a] a b</td><td style=\"text-align: left\">$</td><td style=\"text-align: left\">[a] a b $</td></tr>\n",
       "  <tr><td style=\"text-align: left\">q4</td><td style=\"text-align: left\">[a] a b</td><td style=\"text-align: left\">ε</td><td style=\"text-align: left\">[a] a b $</td></tr>\n",
       "  <tr><td style=\"text-align: left\">q4</td><td style=\"text-align: left\">[a] b</td><td style=\"text-align: left\">ε</td><td style=\"text-align: left\">[a] b $</td></tr>\n",
       "  <tr><td style=\"text-align: left\">q4</td><td style=\"text-align: left\">b</td><td style=\"text-align: left\">ε</td><td style=\"text-align: left\">[b] $</td></tr>\n",
       "  <tr><td style=\"text-align: left\">q4</td><td style=\"text-align: left\">ε</td><td style=\"text-align: left\">ε</td><td style=\"text-align: left\">$</td></tr>\n",
       "  <tr><td style=\"text-align: left\">q5</td><td style=\"text-align: left\">ε</td><td style=\"text-align: left\">ε</td><td style=\"text-align: left\">ε</td></tr>\n",
       "</table>\n"
      ],
      "text/plain": [
       "<tock.machines.Path at 0x112489f40>"
      ]
     },
     "execution_count": 4,
     "metadata": {},
     "output_type": "execute_result"
    }
   ],
   "source": [
    "run(m1, 'a a b # # # a a b').shortest_path()"
   ]
  },
  {
   "cell_type": "code",
   "execution_count": 5,
   "metadata": {},
   "outputs": [
    {
     "data": {
      "text/plain": [
       "False"
      ]
     },
     "execution_count": 5,
     "metadata": {},
     "output_type": "execute_result"
    }
   ],
   "source": [
    "run(m1, 'a a b # # # b a a').has_path()"
   ]
  },
  {
   "cell_type": "markdown",
   "metadata": {},
   "source": [
    "This is something like a 2-stack PDA that recognizes the language $\\{w\\#\\#\\#w\\}$. It works by transferring the first half of the input to the first stack, transferring the first stack to the second stack (reversing it), then checking the second half of the input against it.\n",
    "\n",
    "This example also demonstrates that we can read three `#` signs in one transition."
   ]
  },
  {
   "cell_type": "markdown",
   "metadata": {},
   "source": [
    "## Store types\n",
    "\n",
    "### BASE"
   ]
  },
  {
   "cell_type": "markdown",
   "metadata": {},
   "source": [
    "Our example above demonstrated the BASE store type. We used a BASE store like a stack, and showed that if the lhs of a transition has more than one symbol, it pops that many symbols. Likewise, if the rhs of a transition has more than one symbol, it pushes that many symbols.\n",
    "\n",
    "Additionally, a BASE store has a head like a Turing machine; it just happens that we left the head in position 0. If the rhs is `^ v`, where `v` is a string, the head moves to the cell to the left of `v`; if the rhs is `v ^`, the head moves to the cell to the right of `v`.\n",
    "\n",
    "For more information, see the reference section on [Internals](../reference/internals.rst)."
   ]
  },
  {
   "cell_type": "markdown",
   "metadata": {},
   "source": [
    "### STREAM\n",
    "\n",
    "The above example looked different from a standard PDA because the right-hand sides of transitions explicitly popped input symbols as they were read. And it had to explicitly check for a blank (`_`) indicating the end of the string before accepting. To make the input look more like a finite or pushdown automaton's, use the store type STREAM.\n",
    "\n",
    "A store of type STREAM (which only really makes sense for the input store) has two properties.\n",
    "\n",
    "- Transitions do not have an entry in their right-hand side for STREAMs; it is implicitly `&`.\n",
    "\n",
    "- The input must be entirely consumed in order for the machine to accept the input string."
   ]
  },
  {
   "cell_type": "code",
   "execution_count": 6,
   "metadata": {},
   "outputs": [
    {
     "data": {
      "image/svg+xml": [
       "<svg xmlns=\"http://www.w3.org/2000/svg\" xmlns:xlink=\"http://www.w3.org/1999/xlink\" width=\"375pt\" height=\"63pt\" viewBox=\"0.00 0.00 375.00 63.00\">\n",
       "<g id=\"graph0\" class=\"graph\" transform=\"scale(1 1) rotate(0) translate(4 59)\">\n",
       "<title>%3</title>\n",
       "<polygon fill=\"white\" stroke=\"transparent\" points=\"-4,4 -4,-59 371,-59 371,4 -4,4\"/>\n",
       "<!-- _START -->\n",
       "<g id=\"node1\" class=\"node\">\n",
       "<title>_START</title>\n",
       "</g>\n",
       "<!-- 0 -->\n",
       "<g id=\"node2\" class=\"node\">\n",
       "<title>0</title>\n",
       "<path fill=\"none\" stroke=\"black\" d=\"M53.33,-21C53.33,-21 43.67,-21 43.67,-21 40.83,-21 38,-18.17 38,-15.33 38,-15.33 38,-9.67 38,-9.67 38,-6.83 40.83,-4 43.67,-4 43.67,-4 53.33,-4 53.33,-4 56.17,-4 59,-6.83 59,-9.67 59,-9.67 59,-15.33 59,-15.33 59,-18.17 56.17,-21 53.33,-21\"/>\n",
       "<text text-anchor=\"start\" x=\"42\" y=\"-10\" font-family=\"Courier,monospace\" font-size=\"10.00\">q1</text>\n",
       "</g>\n",
       "<!-- _START&#45;&gt;0 -->\n",
       "<g id=\"edge1\" class=\"edge\">\n",
       "<title>_START-&gt;0</title>\n",
       "<path fill=\"none\" stroke=\"black\" d=\"M1.13,-12.5C2.79,-12.5 19.6,-12.5 32.5,-12.5\"/>\n",
       "<polygon fill=\"black\" stroke=\"black\" points=\"37.74,-12.5 32.74,-14.75 35.24,-12.5 32.74,-12.5 32.74,-12.5 32.74,-12.5 35.24,-12.5 32.74,-10.25 37.74,-12.5 37.74,-12.5\"/>\n",
       "</g>\n",
       "<!-- 2 -->\n",
       "<g id=\"node4\" class=\"node\">\n",
       "<title>2</title>\n",
       "<path fill=\"none\" stroke=\"black\" d=\"M153.33,-21C153.33,-21 143.67,-21 143.67,-21 140.83,-21 138,-18.17 138,-15.33 138,-15.33 138,-9.67 138,-9.67 138,-6.83 140.83,-4 143.67,-4 143.67,-4 153.33,-4 153.33,-4 156.17,-4 159,-6.83 159,-9.67 159,-9.67 159,-15.33 159,-15.33 159,-18.17 156.17,-21 153.33,-21\"/>\n",
       "<text text-anchor=\"start\" x=\"142\" y=\"-10\" font-family=\"Courier,monospace\" font-size=\"10.00\">q2</text>\n",
       "</g>\n",
       "<!-- 0&#45;&gt;2 -->\n",
       "<g id=\"edge2\" class=\"edge\">\n",
       "<title>0-&gt;2</title>\n",
       "<path fill=\"none\" stroke=\"black\" d=\"M59.25,-12.5C76.5,-12.5 112.46,-12.5 132.75,-12.5\"/>\n",
       "<polygon fill=\"black\" stroke=\"black\" points=\"137.78,-12.5 132.78,-14.75 135.28,-12.5 132.78,-12.5 132.78,-12.5 132.78,-12.5 135.28,-12.5 132.78,-10.25 137.78,-12.5 137.78,-12.5\"/>\n",
       "<text text-anchor=\"start\" x=\"80.5\" y=\"-18.3\" font-family=\"Courier,monospace\" font-size=\"9.00\">ε,ε → $</text>\n",
       "</g>\n",
       "<!-- 1 -->\n",
       "<g id=\"node3\" class=\"node\">\n",
       "<title>1</title>\n",
       "<path fill=\"none\" stroke=\"black\" d=\"M357.33,-21C357.33,-21 347.67,-21 347.67,-21 344.83,-21 342,-18.17 342,-15.33 342,-15.33 342,-9.67 342,-9.67 342,-6.83 344.83,-4 347.67,-4 347.67,-4 357.33,-4 357.33,-4 360.17,-4 363,-6.83 363,-9.67 363,-9.67 363,-15.33 363,-15.33 363,-18.17 360.17,-21 357.33,-21\"/>\n",
       "<path fill=\"none\" stroke=\"black\" d=\"M358.67,-25C358.67,-25 346.33,-25 346.33,-25 342.17,-25 338,-20.83 338,-16.67 338,-16.67 338,-8.33 338,-8.33 338,-4.17 342.17,0 346.33,0 346.33,0 358.67,0 358.67,0 362.83,0 367,-4.17 367,-8.33 367,-8.33 367,-16.67 367,-16.67 367,-20.83 362.83,-25 358.67,-25\"/>\n",
       "<text text-anchor=\"start\" x=\"346\" y=\"-10\" font-family=\"Courier,monospace\" font-size=\"10.00\">q4</text>\n",
       "</g>\n",
       "<!-- 2&#45;&gt;2 -->\n",
       "<g id=\"edge3\" class=\"edge\">\n",
       "<title>2-&gt;2</title>\n",
       "<path fill=\"none\" stroke=\"black\" d=\"M141.05,-21.19C136.93,-29.67 139.42,-39 148.5,-39 155.88,-39 158.9,-32.84 157.57,-25.98\"/>\n",
       "<polygon fill=\"black\" stroke=\"black\" points=\"155.95,-21.19 159.68,-25.2 156.75,-23.55 157.55,-25.92 157.55,-25.92 157.55,-25.92 156.75,-23.55 155.42,-26.64 155.95,-21.19 155.95,-21.19\"/>\n",
       "<text text-anchor=\"start\" x=\"130.5\" y=\"-44.8\" font-family=\"Courier,monospace\" font-size=\"9.00\">a,ε → a</text>\n",
       "</g>\n",
       "<!-- 3 -->\n",
       "<g id=\"node5\" class=\"node\">\n",
       "<title>3</title>\n",
       "<path fill=\"none\" stroke=\"black\" d=\"M253.33,-21C253.33,-21 243.67,-21 243.67,-21 240.83,-21 238,-18.17 238,-15.33 238,-15.33 238,-9.67 238,-9.67 238,-6.83 240.83,-4 243.67,-4 243.67,-4 253.33,-4 253.33,-4 256.17,-4 259,-6.83 259,-9.67 259,-9.67 259,-15.33 259,-15.33 259,-18.17 256.17,-21 253.33,-21\"/>\n",
       "<text text-anchor=\"start\" x=\"242\" y=\"-10\" font-family=\"Courier,monospace\" font-size=\"10.00\">q3</text>\n",
       "</g>\n",
       "<!-- 2&#45;&gt;3 -->\n",
       "<g id=\"edge4\" class=\"edge\">\n",
       "<title>2-&gt;3</title>\n",
       "<path fill=\"none\" stroke=\"black\" d=\"M159.25,-12.5C176.5,-12.5 212.46,-12.5 232.75,-12.5\"/>\n",
       "<polygon fill=\"black\" stroke=\"black\" points=\"237.78,-12.5 232.78,-14.75 235.28,-12.5 232.78,-12.5 232.78,-12.5 232.78,-12.5 235.28,-12.5 232.78,-10.25 237.78,-12.5 237.78,-12.5\"/>\n",
       "<text text-anchor=\"start\" x=\"180.5\" y=\"-18.3\" font-family=\"Courier,monospace\" font-size=\"9.00\">ε,ε → ε</text>\n",
       "</g>\n",
       "<!-- 3&#45;&gt;1 -->\n",
       "<g id=\"edge6\" class=\"edge\">\n",
       "<title>3-&gt;1</title>\n",
       "<path fill=\"none\" stroke=\"black\" d=\"M259.28,-12.5C276.1,-12.5 310.8,-12.5 332.51,-12.5\"/>\n",
       "<polygon fill=\"black\" stroke=\"black\" points=\"337.73,-12.5 332.73,-14.75 335.23,-12.5 332.73,-12.5 332.73,-12.5 332.73,-12.5 335.23,-12.5 332.73,-10.25 337.73,-12.5 337.73,-12.5\"/>\n",
       "<text text-anchor=\"start\" x=\"280.5\" y=\"-18.3\" font-family=\"Courier,monospace\" font-size=\"9.00\">ε,$ → ε</text>\n",
       "</g>\n",
       "<!-- 3&#45;&gt;3 -->\n",
       "<g id=\"edge5\" class=\"edge\">\n",
       "<title>3-&gt;3</title>\n",
       "<path fill=\"none\" stroke=\"black\" d=\"M241.05,-21.19C236.93,-29.67 239.42,-39 248.5,-39 255.88,-39 258.9,-32.84 257.57,-25.98\"/>\n",
       "<polygon fill=\"black\" stroke=\"black\" points=\"255.95,-21.19 259.68,-25.2 256.75,-23.55 257.55,-25.92 257.55,-25.92 257.55,-25.92 256.75,-23.55 255.42,-26.64 255.95,-21.19 255.95,-21.19\"/>\n",
       "<text text-anchor=\"start\" x=\"230.5\" y=\"-44.8\" font-family=\"Courier,monospace\" font-size=\"9.00\">b,a → ε</text>\n",
       "</g>\n",
       "</g>\n",
       "</svg>"
      ],
      "text/plain": [
       "<IPython.core.display.SVG object>"
      ]
     },
     "metadata": {},
     "output_type": "display_data"
    }
   ],
   "source": [
    "m2 = Machine([BASE, STREAM, BASE], state=0, input=1)\n",
    "m2.set_start_state('q1')\n",
    "m2.add_transition('q1, &, & -> q2, $')\n",
    "m2.add_transition('q2, a, & -> q2, a')\n",
    "m2.add_transition('q2, &, & -> q3, &')\n",
    "m2.add_transition('q3, b, a -> q3, &')\n",
    "m2.add_transition('q3, &, $ -> q4, &')\n",
    "m2.add_accept_state('q4')\n",
    "m2"
   ]
  },
  {
   "cell_type": "markdown",
   "metadata": {},
   "source": [
    "This looks just like a pushdown automaton."
   ]
  },
  {
   "cell_type": "markdown",
   "metadata": {},
   "source": [
    "### TAPE\n",
    "\n",
    "The caret (`^`) notation above can be used to move the head as in a Turing machine, but to get more standard notation, use a store of type `TAPE`. Then the right-hand-side of a transition has two entries for that store, a write and a move (which can be `L` or `R`)."
   ]
  },
  {
   "cell_type": "code",
   "execution_count": 7,
   "metadata": {},
   "outputs": [
    {
     "data": {
      "image/svg+xml": [
       "<svg xmlns=\"http://www.w3.org/2000/svg\" xmlns:xlink=\"http://www.w3.org/1999/xlink\" width=\"175pt\" height=\"37pt\" viewBox=\"0.00 0.00 175.00 36.50\">\n",
       "<g id=\"graph0\" class=\"graph\" transform=\"scale(1 1) rotate(0) translate(4 32.5)\">\n",
       "<title>%3</title>\n",
       "<polygon fill=\"white\" stroke=\"transparent\" points=\"-4,4 -4,-32.5 171,-32.5 171,4 -4,4\"/>\n",
       "<!-- _START -->\n",
       "<g id=\"node1\" class=\"node\">\n",
       "<title>_START</title>\n",
       "</g>\n",
       "<!-- 1 -->\n",
       "<g id=\"node3\" class=\"node\">\n",
       "<title>1</title>\n",
       "<path fill=\"none\" stroke=\"black\" d=\"M53.33,-21C53.33,-21 43.67,-21 43.67,-21 40.83,-21 38,-18.17 38,-15.33 38,-15.33 38,-9.67 38,-9.67 38,-6.83 40.83,-4 43.67,-4 43.67,-4 53.33,-4 53.33,-4 56.17,-4 59,-6.83 59,-9.67 59,-9.67 59,-15.33 59,-15.33 59,-18.17 56.17,-21 53.33,-21\"/>\n",
       "<text text-anchor=\"start\" x=\"42\" y=\"-10\" font-family=\"Courier,monospace\" font-size=\"10.00\">q1</text>\n",
       "</g>\n",
       "<!-- _START&#45;&gt;1 -->\n",
       "<g id=\"edge1\" class=\"edge\">\n",
       "<title>_START-&gt;1</title>\n",
       "<path fill=\"none\" stroke=\"black\" d=\"M1.13,-12.5C2.79,-12.5 19.6,-12.5 32.5,-12.5\"/>\n",
       "<polygon fill=\"black\" stroke=\"black\" points=\"37.74,-12.5 32.74,-14.75 35.24,-12.5 32.74,-12.5 32.74,-12.5 32.74,-12.5 35.24,-12.5 32.74,-10.25 37.74,-12.5 37.74,-12.5\"/>\n",
       "</g>\n",
       "<!-- 0 -->\n",
       "<g id=\"node2\" class=\"node\">\n",
       "<title>0</title>\n",
       "<path fill=\"none\" stroke=\"black\" d=\"M157.33,-21C157.33,-21 147.67,-21 147.67,-21 144.83,-21 142,-18.17 142,-15.33 142,-15.33 142,-9.67 142,-9.67 142,-6.83 144.83,-4 147.67,-4 147.67,-4 157.33,-4 157.33,-4 160.17,-4 163,-6.83 163,-9.67 163,-9.67 163,-15.33 163,-15.33 163,-18.17 160.17,-21 157.33,-21\"/>\n",
       "<path fill=\"none\" stroke=\"black\" d=\"M158.67,-25C158.67,-25 146.33,-25 146.33,-25 142.17,-25 138,-20.83 138,-16.67 138,-16.67 138,-8.33 138,-8.33 138,-4.17 142.17,0 146.33,0 146.33,0 158.67,0 158.67,0 162.83,0 167,-4.17 167,-8.33 167,-8.33 167,-16.67 167,-16.67 167,-20.83 162.83,-25 158.67,-25\"/>\n",
       "<text text-anchor=\"start\" x=\"146\" y=\"-10\" font-family=\"Courier,monospace\" font-size=\"10.00\">q2</text>\n",
       "</g>\n",
       "<!-- 1&#45;&gt;0 -->\n",
       "<g id=\"edge2\" class=\"edge\">\n",
       "<title>1-&gt;0</title>\n",
       "<path fill=\"none\" stroke=\"black\" d=\"M59.28,-12.5C76.1,-12.5 110.8,-12.5 132.51,-12.5\"/>\n",
       "<polygon fill=\"black\" stroke=\"black\" points=\"137.73,-12.5 132.73,-14.75 135.23,-12.5 132.73,-12.5 132.73,-12.5 132.73,-12.5 135.23,-12.5 132.73,-10.25 137.73,-12.5 137.73,-12.5\"/>\n",
       "<text text-anchor=\"start\" x=\"80.5\" y=\"-18.3\" font-family=\"Courier,monospace\" font-size=\"9.00\">a → b,R</text>\n",
       "</g>\n",
       "</g>\n",
       "</svg>"
      ],
      "text/plain": [
       "<IPython.core.display.SVG object>"
      ]
     },
     "metadata": {},
     "output_type": "display_data"
    }
   ],
   "source": [
    "m3 = Machine([BASE, TAPE], state=0, input=1)\n",
    "m3.set_start_state('q1')\n",
    "m3.add_transition('q1, a -> q2, b, R')\n",
    "m3.add_accept_state('q2')\n",
    "m3"
   ]
  },
  {
   "cell_type": "markdown",
   "metadata": {},
   "source": [
    "## Low-level interface\n",
    "\n",
    "Instead of creating an automaton using `set_start_state`, `add_transition`, and `add_accept_state`, you can also directly access the members `start_config`, `transitions`, and `accept_config`.\n",
    "\n",
    "This interface completely ignores store types. Transitions are created as for BASE stores:"
   ]
  },
  {
   "cell_type": "code",
   "execution_count": 8,
   "metadata": {},
   "outputs": [
    {
     "name": "stdout",
     "output_type": "stream",
     "text": [
      "q1,a → q2,b ^\n"
     ]
    }
   ],
   "source": [
    "for t in m3.transitions: print(t)"
   ]
  },
  {
   "cell_type": "code",
   "execution_count": 9,
   "metadata": {},
   "outputs": [
    {
     "name": "stdout",
     "output_type": "stream",
     "text": [
      "q1,a → q2,b ^\n",
      "q1,b → q2,c ^\n"
     ]
    }
   ],
   "source": [
    "m3.transitions.append(machines.Transition('q1, b -> q2, c ^'))\n",
    "for t in m3.transitions: print(t)"
   ]
  },
  {
   "cell_type": "markdown",
   "metadata": {},
   "source": [
    "`start_config` specifies an initial value for every store (not just the state). The initial value for the input is ignored, as it will be replaced by the input string."
   ]
  },
  {
   "cell_type": "code",
   "execution_count": 10,
   "metadata": {},
   "outputs": [
    {
     "data": {
      "text/html": [
       "q1,ε"
      ],
      "text/plain": [
       "Configuration(stores=(Store(values=('q1',), position=0), Store(values=(), position=0)))"
      ]
     },
     "execution_count": 10,
     "metadata": {},
     "output_type": "execute_result"
    }
   ],
   "source": [
    "m3.start_config"
   ]
  },
  {
   "cell_type": "code",
   "execution_count": 12,
   "metadata": {},
   "outputs": [
    {
     "data": {
      "text/html": [
       "q2,ε"
      ],
      "text/plain": [
       "Configuration(stores=(Store(values=('q2',), position=0), Store(values=(), position=0)))"
      ]
     },
     "execution_count": 12,
     "metadata": {},
     "output_type": "execute_result"
    }
   ],
   "source": [
    "m3.start_config = machines.Configuration('q2, &')\n",
    "m3.start_config"
   ]
  },
  {
   "cell_type": "markdown",
   "metadata": {},
   "source": [
    "`accept_configs` is a set of configurations, each which specifies a pattern for every store (not just the state)."
   ]
  },
  {
   "cell_type": "code",
   "execution_count": 14,
   "metadata": {},
   "outputs": [
    {
     "name": "stdout",
     "output_type": "stream",
     "text": [
      "q2,ε\n"
     ]
    }
   ],
   "source": [
    "for c in m3.accept_configs: print(c)"
   ]
  },
  {
   "cell_type": "code",
   "execution_count": 16,
   "metadata": {},
   "outputs": [],
   "source": [
    "# accept in state q3 if current symbol is a\n",
    "m3.accept_configs.add(machines.Configuration('q3, a')) "
   ]
  },
  {
   "cell_type": "markdown",
   "metadata": {},
   "source": [
    "This is how STREAM stores are able to require that the input is fully consumed -- by making the accept configuration for the input store to default to a blank (`_`)."
   ]
  },
  {
   "cell_type": "code",
   "execution_count": 17,
   "metadata": {},
   "outputs": [
    {
     "name": "stdout",
     "output_type": "stream",
     "text": [
      "q4,␣,ε\n"
     ]
    }
   ],
   "source": [
    "for c in m2.accept_configs: print(c)"
   ]
  }
 ],
 "metadata": {
  "kernelspec": {
   "display_name": "Python 3",
   "language": "python",
   "name": "python3"
  },
  "language_info": {
   "codemirror_mode": {
    "name": "ipython",
    "version": 3
   },
   "file_extension": ".py",
   "mimetype": "text/x-python",
   "name": "python",
   "nbconvert_exporter": "python",
   "pygments_lexer": "ipython3",
   "version": "3.8.1"
  }
 },
 "nbformat": 4,
 "nbformat_minor": 1
}
